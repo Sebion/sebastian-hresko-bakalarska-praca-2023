{
 "cells": [
  {
   "cell_type": "code",
   "execution_count": 1,
   "metadata": {
    "collapsed": true
   },
   "outputs": [],
   "source": [
    "import matplotlib\n",
    "import pandas as pd\n",
    "import numpy as np\n",
    "import matplotlib.pyplot as plt\n",
    "import seaborn as sns\n",
    "from IPython.display import display\n",
    "\n",
    "# inicializujeme knižnicu seaborn\n",
    "sns.set()"
   ]
  },
  {
   "cell_type": "code",
   "execution_count": 2,
   "outputs": [
    {
     "data": {
      "text/plain": "1285423"
     },
     "metadata": {},
     "output_type": "display_data"
    },
    {
     "data": {
      "text/plain": "           p          t  fv_leitner_diff  fv_pimsleur_total  fv_hlr_right  \\\n0   0.999900  32.750220                2                  2      1.732051   \n1   0.999900  22.847269                3                  3      2.000000   \n2   0.999900  22.847269                0                  2      1.414214   \n3   0.999900  22.847269                1                  1      1.414214   \n4   0.999900  24.962951                1                  1      1.414214   \n5   0.999900  33.811910                2                  2      1.732051   \n6   0.999900  22.823032                2                  2      1.732051   \n7   0.999900  32.756192                0                  2      1.414214   \n8   0.999900  32.750220                0                  2      1.414214   \n9   0.999900  22.847269                2                  2      1.732051   \n10  0.999900  33.811910                1                  1      1.414214   \n11  0.000100  22.847269                1                  1      1.414214   \n12  0.999900  24.962951                2                  2      1.732051   \n13  0.999900  23.681910               -1                  3      1.414214   \n14  0.999900  23.681910                2                  4      2.000000   \n15  0.999900  23.681910                4                  4      2.236068   \n16  0.999900  23.681910                3                  3      2.000000   \n17  0.999900  23.681910                3                  3      2.000000   \n18  0.999900  23.681910                2                  4      2.000000   \n19  0.500000   0.014051               13                 13      3.741657   \n20  0.999900   0.014051               11                 13      3.605551   \n21  0.666667   0.014051               10                 14      3.605551   \n22  0.500000   0.014051                5                 11      3.000000   \n23  0.000100   0.014051                5                  7      2.645751   \n24  0.999900   0.014051                7                  7      2.828427   \n25  0.999900   0.014051               11                 15      3.741657   \n26  0.999900   0.014051                7                 13      3.316625   \n27  0.999900   0.014051                7                 11      3.162278   \n28  0.999900   0.014051                3                  7      2.449490   \n29  0.666667   0.014051               13                 13      3.741657   \n30  0.000100   0.014051                6                  8      2.828427   \n31  0.750000   0.014051               14                 14      3.872983   \n32  0.999900   0.014051                6                  8      2.828427   \n33  0.500000   0.014051                6                 10      3.000000   \n34  0.999900   0.014051                4                  6      2.449490   \n35  0.833333   0.014051               15                 17      4.123106   \n36  0.999900   0.014051                1                  7      2.236068   \n37  0.999900  11.829942                0                  2      1.414214   \n38  0.999900   3.773484                1                  3      1.732051   \n39  0.999900  22.788102                4                  4      2.236068   \n40  0.000100   0.685486                2                  2      1.732051   \n41  0.999900  12.793380                2                  2      1.732051   \n42  0.999900   0.009005                0                  4      1.732051   \n43  0.999900   0.009005               46                 56      7.211103   \n44  0.999900   0.009005                4                  4      2.236068   \n45  0.999900   0.677049                5                  5      2.449490   \n46  0.500000   0.009005               61                 65      8.000000   \n47  0.000100   4.771157                5                  5      2.449490   \n48  0.999900   0.009005               16                 20      4.358899   \n49  0.999900   0.009005               17                 27      4.795832   \n\n    fv_hlr_wrong  fv_lr_time  fv_optional_bias  \\\n0       1.000000   32.750220               1.0   \n1       1.000000   22.847269               1.0   \n2       1.414214   22.847269               1.0   \n3       1.000000   22.847269               1.0   \n4       1.000000   24.962951               1.0   \n5       1.000000   33.811910               1.0   \n6       1.000000   22.823032               1.0   \n7       1.414214   32.756192               1.0   \n8       1.414214   32.750220               1.0   \n9       1.000000   22.847269               1.0   \n10      1.000000   33.811910               1.0   \n11      1.000000   22.847269               1.0   \n12      1.000000   24.962951               1.0   \n13      1.732051   23.681910               1.0   \n14      1.414214   23.681910               1.0   \n15      1.000000   23.681910               1.0   \n16      1.000000   23.681910               1.0   \n17      1.000000   23.681910               1.0   \n18      1.414214   23.681910               1.0   \n19      1.000000    0.014051               1.0   \n20      1.414214    0.014051               1.0   \n21      1.732051    0.014051               1.0   \n22      2.000000    0.014051               1.0   \n23      1.414214    0.014051               1.0   \n24      1.000000    0.014051               1.0   \n25      1.732051    0.014051               1.0   \n26      2.000000    0.014051               1.0   \n27      1.732051    0.014051               1.0   \n28      1.732051    0.014051               1.0   \n29      1.000000    0.014051               1.0   \n30      1.414214    0.014051               1.0   \n31      1.000000    0.014051               1.0   \n32      1.414214    0.014051               1.0   \n33      1.732051    0.014051               1.0   \n34      1.414214    0.014051               1.0   \n35      1.414214    0.014051               1.0   \n36      2.000000    0.014051               1.0   \n37      1.414214   11.829942               1.0   \n38      1.414214    3.773484               1.0   \n39      1.000000   22.788102               1.0   \n40      1.000000    0.685486               1.0   \n41      1.000000   12.793380               1.0   \n42      1.732051    0.009005               1.0   \n43      2.449490    0.009005               1.0   \n44      1.000000    0.009005               1.0   \n45      1.000000    0.677049               1.0   \n46      1.732051    0.009005               1.0   \n47      1.000000    4.771157               1.0   \n48      1.732051    0.009005               1.0   \n49      2.449490    0.009005               1.0   \n\n                                 fv_optional_lexeme           h         a  \\\n0   ('fr:<*sf>/indispensable<adj><mf><*numb>', 1.0)  274.000000  0.666667   \n1         ('fr:<*sf>/faux<adj><*gndr><*numb>', 1.0)  274.000000  0.714286   \n2          ('fr:<*sf>/tel<adj><*gndr><*numb>', 1.0)  274.000000  0.500000   \n3           ('fr:<*sf>/juste<adj><mf><*numb>', 1.0)  274.000000  0.600000   \n4          ('fr:<*sf>/fin<adj><*gndr><*numb>', 1.0)  274.000000  0.600000   \n5     ('fr:<*sf>/Ã©lectrique<adj><mf><*numb>', 1.0)  274.000000  0.666667   \n6          ('fr:<*sf>/chinois<adj><f><*numb>', 1.0)  274.000000  0.666667   \n7      ('fr:<*sf>/profond<adj><*gndr><*numb>', 1.0)  274.000000  0.500000   \n8       ('fr:<*sf>/populaire<adj><mf><*numb>', 1.0)  274.000000  0.500000   \n9         ('fr:<*sf>/haut<adj><*gndr><*numb>', 1.0)  274.000000  0.666667   \n10     ('fr:<*sf>/historique<adj><mf><*numb>', 1.0)  274.000000  0.600000   \n11     ('fr:<*sf>/vÃ©ritable<adj><mf><*numb>', 1.0)    1.719428  0.600000   \n12    ('fr:<*sf>/responsable<adj><mf><*numb>', 1.0)  274.000000  0.666667   \n13                   ('en:women/woman<n><pl>', 1.0)  274.000000  0.428571   \n14     ('en:we/prpers<prn><subj><p1><mf><pl>', 1.0)  274.000000  0.625000   \n15               ('en:read/read<vblex><pres>', 1.0)  274.000000  0.750000   \n16           ('en:newspaper/newspaper<n><sg>', 1.0)  274.000000  0.714286   \n17                       ('en:men/man<n><pl>', 1.0)  274.000000  0.714286   \n18                      ('en:boys/boy<n><pl>', 1.0)  274.000000  0.625000   \n19       ('es:yo/prpers<prn><tn><p1><mf><sg>', 1.0)    0.014051  0.882353   \n20           ('es:es/ser<vbser><pri><p3><sg>', 1.0)   97.388727  0.823529   \n21             ('es:una/uno<det><ind><f><sg>', 1.0)    0.024020  0.777778   \n22                ('es:niÃ±o/niÃ±o<n><m><sg>', 1.0)    0.014051  0.666667   \n23         ('es:eres/ser<vbser><pri><p2><sg>', 1.0)    0.010417  0.727273   \n24      ('es:ella/prpers<prn><tn><p3><f><sg>', 1.0)   97.388727  0.818182   \n25                ('es:mujer/mujer<n><f><sg>', 1.0)   97.388727  0.789474   \n26       ('es:come/comer<vblex><pri><p3><sg>', 1.0)   97.388727  0.705882   \n27            ('es:manzana/manzana<n><f><sg>', 1.0)   97.388727  0.733333   \n28               ('es:el/el<det><def><m><sg>', 1.0)   97.388727  0.636364   \n29              ('es:un/uno<det><ind><m><sg>', 1.0)    0.024020  0.882353   \n30      ('es:tÃº/prpers<prn><tn><p2><mf><sg>', 1.0)    0.010417  0.750000   \n31          ('es:soy/ser<vbser><pri><p1><sg>', 1.0)    0.033855  0.888889   \n32       ('es:Ã©l/prpers<prn><tn><p3><m><sg>', 1.0)   97.388727  0.750000   \n33                ('es:niÃ±a/niÃ±o<n><f><sg>', 1.0)    0.014051  0.714286   \n34    ('es:usted/prpers<prn><tn><p3><mf><sg>', 1.0)   97.388727  0.700000   \n35              ('es:hombre/hombre<n><m><sg>', 1.0)    0.053419  0.857143   \n36               ('es:la/el<det><def><f><sg>', 1.0)   97.388727  0.545455   \n37                     ('en:local/local<adj>', 1.0)  274.000000  0.500000   \n38         ('en:traditional/traditional<adj>', 1.0)  274.000000  0.571429   \n39                       ('en:bit/bit<n><sg>', 1.0)  274.000000  0.750000   \n40               ('en:opposite/opposite<adj>', 1.0)    0.051588  0.666667   \n41                       ('en:next/next<adj>', 1.0)  274.000000  0.666667   \n42               ('en:cultural/cultural<adj>', 1.0)   62.412216  0.500000   \n43                  ('en:are/be<vbser><pres>', 1.0)   62.412216  0.883333   \n44               ('en:european/european<adj>', 1.0)   62.412216  0.750000   \n45                     ('en:final/final<adj>', 1.0)  274.000000  0.777778   \n46            ('en:is/be<vbser><pri><p3><sg>', 1.0)    0.010417  0.942029   \n47                   ('en:french/french<adj>', 1.0)    0.359065  0.777778   \n48            ('en:am/be<vbser><pri><p1><sg>', 1.0)   62.412216  0.833333   \n49                         ('en:not/not<adv>', 1.0)   62.412216  0.774194   \n\n      lang  right  wrong   timestamp     uid  \\\n0   en->fr      1      0  1363009539  u:dHVF   \n1   en->fr      1      0  1363009539  u:dHVF   \n2   en->fr      1      0  1363009539  u:dHVF   \n3   en->fr      1      0  1363009539  u:dHVF   \n4   en->fr      1      0  1363009539  u:dHVF   \n5   en->fr      1      0  1363009539  u:dHVF   \n6   en->fr      1      0  1363009539  u:dHVF   \n7   en->fr      1      0  1363009539  u:dHVF   \n8   en->fr      1      0  1363009539  u:dHVF   \n9   en->fr      1      0  1363009539  u:dHVF   \n10  en->fr      1      0  1363009539  u:dHVF   \n11  en->fr      0      1  1363009539  u:dHVF   \n12  en->fr      1      0  1363009539  u:dHVF   \n13  es->en      4      0  1363009541  u:h3Jb   \n14  es->en      5      0  1363009541  u:h3Jb   \n15  es->en      3      0  1363009541  u:h3Jb   \n16  es->en      1      0  1363009541  u:h3Jb   \n17  es->en      3      0  1363009541  u:h3Jb   \n18  es->en      2      0  1363009541  u:h3Jb   \n19  en->es      1      1  1363009545  u:i-Dl   \n20  en->es      3      0  1363009545  u:i-Dl   \n21  en->es      2      1  1363009545  u:i-Dl   \n22  en->es      1      1  1363009545  u:i-Dl   \n23  en->es      0      2  1363009545  u:i-Dl   \n24  en->es      2      0  1363009545  u:i-Dl   \n25  en->es      5      0  1363009545  u:i-Dl   \n26  en->es      5      0  1363009545  u:i-Dl   \n27  en->es      4      0  1363009545  u:i-Dl   \n28  en->es      3      0  1363009545  u:i-Dl   \n29  en->es      2      1  1363009545  u:i-Dl   \n30  en->es      0      2  1363009545  u:i-Dl   \n31  en->es      3      1  1363009545  u:i-Dl   \n32  en->es      2      0  1363009545  u:i-Dl   \n33  en->es      1      1  1363009545  u:i-Dl   \n34  en->es      3      0  1363009545  u:i-Dl   \n35  en->es      5      1  1363009545  u:i-Dl   \n36  en->es      2      0  1363009545  u:i-Dl   \n37  es->en      1      0  1363009549  u:dZYW   \n38  es->en      1      0  1363009549  u:dZYW   \n39  es->en      1      0  1363009549  u:dZYW   \n40  es->en      0      1  1363009549  u:dZYW   \n41  es->en      1      0  1363009549  u:dZYW   \n42  es->en      1      0  1363009549  u:dZYW   \n43  es->en      1      0  1363009549  u:dZYW   \n44  es->en      1      0  1363009549  u:dZYW   \n45  es->en      1      0  1363009549  u:dZYW   \n46  es->en      1      1  1363009549  u:dZYW   \n47  es->en      0      1  1363009549  u:dZYW   \n48  es->en      1      0  1363009549  u:dZYW   \n49  es->en      1      0  1363009549  u:dZYW   \n\n                                 lexeme  \n0   <*sf>/indispensable<adj><mf><*numb>  \n1         <*sf>/faux<adj><*gndr><*numb>  \n2          <*sf>/tel<adj><*gndr><*numb>  \n3           <*sf>/juste<adj><mf><*numb>  \n4          <*sf>/fin<adj><*gndr><*numb>  \n5     <*sf>/Ã©lectrique<adj><mf><*numb>  \n6          <*sf>/chinois<adj><f><*numb>  \n7      <*sf>/profond<adj><*gndr><*numb>  \n8       <*sf>/populaire<adj><mf><*numb>  \n9         <*sf>/haut<adj><*gndr><*numb>  \n10     <*sf>/historique<adj><mf><*numb>  \n11     <*sf>/vÃ©ritable<adj><mf><*numb>  \n12    <*sf>/responsable<adj><mf><*numb>  \n13                   women/woman<n><pl>  \n14     we/prpers<prn><subj><p1><mf><pl>  \n15               read/read<vblex><pres>  \n16           newspaper/newspaper<n><sg>  \n17                       men/man<n><pl>  \n18                      boys/boy<n><pl>  \n19       yo/prpers<prn><tn><p1><mf><sg>  \n20           es/ser<vbser><pri><p3><sg>  \n21             una/uno<det><ind><f><sg>  \n22                niÃ±o/niÃ±o<n><m><sg>  \n23         eres/ser<vbser><pri><p2><sg>  \n24      ella/prpers<prn><tn><p3><f><sg>  \n25                mujer/mujer<n><f><sg>  \n26       come/comer<vblex><pri><p3><sg>  \n27            manzana/manzana<n><f><sg>  \n28               el/el<det><def><m><sg>  \n29              un/uno<det><ind><m><sg>  \n30      tÃº/prpers<prn><tn><p2><mf><sg>  \n31          soy/ser<vbser><pri><p1><sg>  \n32       Ã©l/prpers<prn><tn><p3><m><sg>  \n33                niÃ±a/niÃ±o<n><f><sg>  \n34    usted/prpers<prn><tn><p3><mf><sg>  \n35              hombre/hombre<n><m><sg>  \n36               la/el<det><def><f><sg>  \n37                     local/local<adj>  \n38         traditional/traditional<adj>  \n39                       bit/bit<n><sg>  \n40               opposite/opposite<adj>  \n41                       next/next<adj>  \n42               cultural/cultural<adj>  \n43                  are/be<vbser><pres>  \n44               european/european<adj>  \n45                     final/final<adj>  \n46            is/be<vbser><pri><p3><sg>  \n47                   french/french<adj>  \n48            am/be<vbser><pri><p1><sg>  \n49                         not/not<adv>  ",
      "text/html": "<div>\n<style scoped>\n    .dataframe tbody tr th:only-of-type {\n        vertical-align: middle;\n    }\n\n    .dataframe tbody tr th {\n        vertical-align: top;\n    }\n\n    .dataframe thead th {\n        text-align: right;\n    }\n</style>\n<table border=\"1\" class=\"dataframe\">\n  <thead>\n    <tr style=\"text-align: right;\">\n      <th></th>\n      <th>p</th>\n      <th>t</th>\n      <th>fv_leitner_diff</th>\n      <th>fv_pimsleur_total</th>\n      <th>fv_hlr_right</th>\n      <th>fv_hlr_wrong</th>\n      <th>fv_lr_time</th>\n      <th>fv_optional_bias</th>\n      <th>fv_optional_lexeme</th>\n      <th>h</th>\n      <th>a</th>\n      <th>lang</th>\n      <th>right</th>\n      <th>wrong</th>\n      <th>timestamp</th>\n      <th>uid</th>\n      <th>lexeme</th>\n    </tr>\n  </thead>\n  <tbody>\n    <tr>\n      <th>0</th>\n      <td>0.999900</td>\n      <td>32.750220</td>\n      <td>2</td>\n      <td>2</td>\n      <td>1.732051</td>\n      <td>1.000000</td>\n      <td>32.750220</td>\n      <td>1.0</td>\n      <td>('fr:&lt;*sf&gt;/indispensable&lt;adj&gt;&lt;mf&gt;&lt;*numb&gt;', 1.0)</td>\n      <td>274.000000</td>\n      <td>0.666667</td>\n      <td>en-&gt;fr</td>\n      <td>1</td>\n      <td>0</td>\n      <td>1363009539</td>\n      <td>u:dHVF</td>\n      <td>&lt;*sf&gt;/indispensable&lt;adj&gt;&lt;mf&gt;&lt;*numb&gt;</td>\n    </tr>\n    <tr>\n      <th>1</th>\n      <td>0.999900</td>\n      <td>22.847269</td>\n      <td>3</td>\n      <td>3</td>\n      <td>2.000000</td>\n      <td>1.000000</td>\n      <td>22.847269</td>\n      <td>1.0</td>\n      <td>('fr:&lt;*sf&gt;/faux&lt;adj&gt;&lt;*gndr&gt;&lt;*numb&gt;', 1.0)</td>\n      <td>274.000000</td>\n      <td>0.714286</td>\n      <td>en-&gt;fr</td>\n      <td>1</td>\n      <td>0</td>\n      <td>1363009539</td>\n      <td>u:dHVF</td>\n      <td>&lt;*sf&gt;/faux&lt;adj&gt;&lt;*gndr&gt;&lt;*numb&gt;</td>\n    </tr>\n    <tr>\n      <th>2</th>\n      <td>0.999900</td>\n      <td>22.847269</td>\n      <td>0</td>\n      <td>2</td>\n      <td>1.414214</td>\n      <td>1.414214</td>\n      <td>22.847269</td>\n      <td>1.0</td>\n      <td>('fr:&lt;*sf&gt;/tel&lt;adj&gt;&lt;*gndr&gt;&lt;*numb&gt;', 1.0)</td>\n      <td>274.000000</td>\n      <td>0.500000</td>\n      <td>en-&gt;fr</td>\n      <td>1</td>\n      <td>0</td>\n      <td>1363009539</td>\n      <td>u:dHVF</td>\n      <td>&lt;*sf&gt;/tel&lt;adj&gt;&lt;*gndr&gt;&lt;*numb&gt;</td>\n    </tr>\n    <tr>\n      <th>3</th>\n      <td>0.999900</td>\n      <td>22.847269</td>\n      <td>1</td>\n      <td>1</td>\n      <td>1.414214</td>\n      <td>1.000000</td>\n      <td>22.847269</td>\n      <td>1.0</td>\n      <td>('fr:&lt;*sf&gt;/juste&lt;adj&gt;&lt;mf&gt;&lt;*numb&gt;', 1.0)</td>\n      <td>274.000000</td>\n      <td>0.600000</td>\n      <td>en-&gt;fr</td>\n      <td>1</td>\n      <td>0</td>\n      <td>1363009539</td>\n      <td>u:dHVF</td>\n      <td>&lt;*sf&gt;/juste&lt;adj&gt;&lt;mf&gt;&lt;*numb&gt;</td>\n    </tr>\n    <tr>\n      <th>4</th>\n      <td>0.999900</td>\n      <td>24.962951</td>\n      <td>1</td>\n      <td>1</td>\n      <td>1.414214</td>\n      <td>1.000000</td>\n      <td>24.962951</td>\n      <td>1.0</td>\n      <td>('fr:&lt;*sf&gt;/fin&lt;adj&gt;&lt;*gndr&gt;&lt;*numb&gt;', 1.0)</td>\n      <td>274.000000</td>\n      <td>0.600000</td>\n      <td>en-&gt;fr</td>\n      <td>1</td>\n      <td>0</td>\n      <td>1363009539</td>\n      <td>u:dHVF</td>\n      <td>&lt;*sf&gt;/fin&lt;adj&gt;&lt;*gndr&gt;&lt;*numb&gt;</td>\n    </tr>\n    <tr>\n      <th>5</th>\n      <td>0.999900</td>\n      <td>33.811910</td>\n      <td>2</td>\n      <td>2</td>\n      <td>1.732051</td>\n      <td>1.000000</td>\n      <td>33.811910</td>\n      <td>1.0</td>\n      <td>('fr:&lt;*sf&gt;/Ã©lectrique&lt;adj&gt;&lt;mf&gt;&lt;*numb&gt;', 1.0)</td>\n      <td>274.000000</td>\n      <td>0.666667</td>\n      <td>en-&gt;fr</td>\n      <td>1</td>\n      <td>0</td>\n      <td>1363009539</td>\n      <td>u:dHVF</td>\n      <td>&lt;*sf&gt;/Ã©lectrique&lt;adj&gt;&lt;mf&gt;&lt;*numb&gt;</td>\n    </tr>\n    <tr>\n      <th>6</th>\n      <td>0.999900</td>\n      <td>22.823032</td>\n      <td>2</td>\n      <td>2</td>\n      <td>1.732051</td>\n      <td>1.000000</td>\n      <td>22.823032</td>\n      <td>1.0</td>\n      <td>('fr:&lt;*sf&gt;/chinois&lt;adj&gt;&lt;f&gt;&lt;*numb&gt;', 1.0)</td>\n      <td>274.000000</td>\n      <td>0.666667</td>\n      <td>en-&gt;fr</td>\n      <td>1</td>\n      <td>0</td>\n      <td>1363009539</td>\n      <td>u:dHVF</td>\n      <td>&lt;*sf&gt;/chinois&lt;adj&gt;&lt;f&gt;&lt;*numb&gt;</td>\n    </tr>\n    <tr>\n      <th>7</th>\n      <td>0.999900</td>\n      <td>32.756192</td>\n      <td>0</td>\n      <td>2</td>\n      <td>1.414214</td>\n      <td>1.414214</td>\n      <td>32.756192</td>\n      <td>1.0</td>\n      <td>('fr:&lt;*sf&gt;/profond&lt;adj&gt;&lt;*gndr&gt;&lt;*numb&gt;', 1.0)</td>\n      <td>274.000000</td>\n      <td>0.500000</td>\n      <td>en-&gt;fr</td>\n      <td>1</td>\n      <td>0</td>\n      <td>1363009539</td>\n      <td>u:dHVF</td>\n      <td>&lt;*sf&gt;/profond&lt;adj&gt;&lt;*gndr&gt;&lt;*numb&gt;</td>\n    </tr>\n    <tr>\n      <th>8</th>\n      <td>0.999900</td>\n      <td>32.750220</td>\n      <td>0</td>\n      <td>2</td>\n      <td>1.414214</td>\n      <td>1.414214</td>\n      <td>32.750220</td>\n      <td>1.0</td>\n      <td>('fr:&lt;*sf&gt;/populaire&lt;adj&gt;&lt;mf&gt;&lt;*numb&gt;', 1.0)</td>\n      <td>274.000000</td>\n      <td>0.500000</td>\n      <td>en-&gt;fr</td>\n      <td>1</td>\n      <td>0</td>\n      <td>1363009539</td>\n      <td>u:dHVF</td>\n      <td>&lt;*sf&gt;/populaire&lt;adj&gt;&lt;mf&gt;&lt;*numb&gt;</td>\n    </tr>\n    <tr>\n      <th>9</th>\n      <td>0.999900</td>\n      <td>22.847269</td>\n      <td>2</td>\n      <td>2</td>\n      <td>1.732051</td>\n      <td>1.000000</td>\n      <td>22.847269</td>\n      <td>1.0</td>\n      <td>('fr:&lt;*sf&gt;/haut&lt;adj&gt;&lt;*gndr&gt;&lt;*numb&gt;', 1.0)</td>\n      <td>274.000000</td>\n      <td>0.666667</td>\n      <td>en-&gt;fr</td>\n      <td>1</td>\n      <td>0</td>\n      <td>1363009539</td>\n      <td>u:dHVF</td>\n      <td>&lt;*sf&gt;/haut&lt;adj&gt;&lt;*gndr&gt;&lt;*numb&gt;</td>\n    </tr>\n    <tr>\n      <th>10</th>\n      <td>0.999900</td>\n      <td>33.811910</td>\n      <td>1</td>\n      <td>1</td>\n      <td>1.414214</td>\n      <td>1.000000</td>\n      <td>33.811910</td>\n      <td>1.0</td>\n      <td>('fr:&lt;*sf&gt;/historique&lt;adj&gt;&lt;mf&gt;&lt;*numb&gt;', 1.0)</td>\n      <td>274.000000</td>\n      <td>0.600000</td>\n      <td>en-&gt;fr</td>\n      <td>1</td>\n      <td>0</td>\n      <td>1363009539</td>\n      <td>u:dHVF</td>\n      <td>&lt;*sf&gt;/historique&lt;adj&gt;&lt;mf&gt;&lt;*numb&gt;</td>\n    </tr>\n    <tr>\n      <th>11</th>\n      <td>0.000100</td>\n      <td>22.847269</td>\n      <td>1</td>\n      <td>1</td>\n      <td>1.414214</td>\n      <td>1.000000</td>\n      <td>22.847269</td>\n      <td>1.0</td>\n      <td>('fr:&lt;*sf&gt;/vÃ©ritable&lt;adj&gt;&lt;mf&gt;&lt;*numb&gt;', 1.0)</td>\n      <td>1.719428</td>\n      <td>0.600000</td>\n      <td>en-&gt;fr</td>\n      <td>0</td>\n      <td>1</td>\n      <td>1363009539</td>\n      <td>u:dHVF</td>\n      <td>&lt;*sf&gt;/vÃ©ritable&lt;adj&gt;&lt;mf&gt;&lt;*numb&gt;</td>\n    </tr>\n    <tr>\n      <th>12</th>\n      <td>0.999900</td>\n      <td>24.962951</td>\n      <td>2</td>\n      <td>2</td>\n      <td>1.732051</td>\n      <td>1.000000</td>\n      <td>24.962951</td>\n      <td>1.0</td>\n      <td>('fr:&lt;*sf&gt;/responsable&lt;adj&gt;&lt;mf&gt;&lt;*numb&gt;', 1.0)</td>\n      <td>274.000000</td>\n      <td>0.666667</td>\n      <td>en-&gt;fr</td>\n      <td>1</td>\n      <td>0</td>\n      <td>1363009539</td>\n      <td>u:dHVF</td>\n      <td>&lt;*sf&gt;/responsable&lt;adj&gt;&lt;mf&gt;&lt;*numb&gt;</td>\n    </tr>\n    <tr>\n      <th>13</th>\n      <td>0.999900</td>\n      <td>23.681910</td>\n      <td>-1</td>\n      <td>3</td>\n      <td>1.414214</td>\n      <td>1.732051</td>\n      <td>23.681910</td>\n      <td>1.0</td>\n      <td>('en:women/woman&lt;n&gt;&lt;pl&gt;', 1.0)</td>\n      <td>274.000000</td>\n      <td>0.428571</td>\n      <td>es-&gt;en</td>\n      <td>4</td>\n      <td>0</td>\n      <td>1363009541</td>\n      <td>u:h3Jb</td>\n      <td>women/woman&lt;n&gt;&lt;pl&gt;</td>\n    </tr>\n    <tr>\n      <th>14</th>\n      <td>0.999900</td>\n      <td>23.681910</td>\n      <td>2</td>\n      <td>4</td>\n      <td>2.000000</td>\n      <td>1.414214</td>\n      <td>23.681910</td>\n      <td>1.0</td>\n      <td>('en:we/prpers&lt;prn&gt;&lt;subj&gt;&lt;p1&gt;&lt;mf&gt;&lt;pl&gt;', 1.0)</td>\n      <td>274.000000</td>\n      <td>0.625000</td>\n      <td>es-&gt;en</td>\n      <td>5</td>\n      <td>0</td>\n      <td>1363009541</td>\n      <td>u:h3Jb</td>\n      <td>we/prpers&lt;prn&gt;&lt;subj&gt;&lt;p1&gt;&lt;mf&gt;&lt;pl&gt;</td>\n    </tr>\n    <tr>\n      <th>15</th>\n      <td>0.999900</td>\n      <td>23.681910</td>\n      <td>4</td>\n      <td>4</td>\n      <td>2.236068</td>\n      <td>1.000000</td>\n      <td>23.681910</td>\n      <td>1.0</td>\n      <td>('en:read/read&lt;vblex&gt;&lt;pres&gt;', 1.0)</td>\n      <td>274.000000</td>\n      <td>0.750000</td>\n      <td>es-&gt;en</td>\n      <td>3</td>\n      <td>0</td>\n      <td>1363009541</td>\n      <td>u:h3Jb</td>\n      <td>read/read&lt;vblex&gt;&lt;pres&gt;</td>\n    </tr>\n    <tr>\n      <th>16</th>\n      <td>0.999900</td>\n      <td>23.681910</td>\n      <td>3</td>\n      <td>3</td>\n      <td>2.000000</td>\n      <td>1.000000</td>\n      <td>23.681910</td>\n      <td>1.0</td>\n      <td>('en:newspaper/newspaper&lt;n&gt;&lt;sg&gt;', 1.0)</td>\n      <td>274.000000</td>\n      <td>0.714286</td>\n      <td>es-&gt;en</td>\n      <td>1</td>\n      <td>0</td>\n      <td>1363009541</td>\n      <td>u:h3Jb</td>\n      <td>newspaper/newspaper&lt;n&gt;&lt;sg&gt;</td>\n    </tr>\n    <tr>\n      <th>17</th>\n      <td>0.999900</td>\n      <td>23.681910</td>\n      <td>3</td>\n      <td>3</td>\n      <td>2.000000</td>\n      <td>1.000000</td>\n      <td>23.681910</td>\n      <td>1.0</td>\n      <td>('en:men/man&lt;n&gt;&lt;pl&gt;', 1.0)</td>\n      <td>274.000000</td>\n      <td>0.714286</td>\n      <td>es-&gt;en</td>\n      <td>3</td>\n      <td>0</td>\n      <td>1363009541</td>\n      <td>u:h3Jb</td>\n      <td>men/man&lt;n&gt;&lt;pl&gt;</td>\n    </tr>\n    <tr>\n      <th>18</th>\n      <td>0.999900</td>\n      <td>23.681910</td>\n      <td>2</td>\n      <td>4</td>\n      <td>2.000000</td>\n      <td>1.414214</td>\n      <td>23.681910</td>\n      <td>1.0</td>\n      <td>('en:boys/boy&lt;n&gt;&lt;pl&gt;', 1.0)</td>\n      <td>274.000000</td>\n      <td>0.625000</td>\n      <td>es-&gt;en</td>\n      <td>2</td>\n      <td>0</td>\n      <td>1363009541</td>\n      <td>u:h3Jb</td>\n      <td>boys/boy&lt;n&gt;&lt;pl&gt;</td>\n    </tr>\n    <tr>\n      <th>19</th>\n      <td>0.500000</td>\n      <td>0.014051</td>\n      <td>13</td>\n      <td>13</td>\n      <td>3.741657</td>\n      <td>1.000000</td>\n      <td>0.014051</td>\n      <td>1.0</td>\n      <td>('es:yo/prpers&lt;prn&gt;&lt;tn&gt;&lt;p1&gt;&lt;mf&gt;&lt;sg&gt;', 1.0)</td>\n      <td>0.014051</td>\n      <td>0.882353</td>\n      <td>en-&gt;es</td>\n      <td>1</td>\n      <td>1</td>\n      <td>1363009545</td>\n      <td>u:i-Dl</td>\n      <td>yo/prpers&lt;prn&gt;&lt;tn&gt;&lt;p1&gt;&lt;mf&gt;&lt;sg&gt;</td>\n    </tr>\n    <tr>\n      <th>20</th>\n      <td>0.999900</td>\n      <td>0.014051</td>\n      <td>11</td>\n      <td>13</td>\n      <td>3.605551</td>\n      <td>1.414214</td>\n      <td>0.014051</td>\n      <td>1.0</td>\n      <td>('es:es/ser&lt;vbser&gt;&lt;pri&gt;&lt;p3&gt;&lt;sg&gt;', 1.0)</td>\n      <td>97.388727</td>\n      <td>0.823529</td>\n      <td>en-&gt;es</td>\n      <td>3</td>\n      <td>0</td>\n      <td>1363009545</td>\n      <td>u:i-Dl</td>\n      <td>es/ser&lt;vbser&gt;&lt;pri&gt;&lt;p3&gt;&lt;sg&gt;</td>\n    </tr>\n    <tr>\n      <th>21</th>\n      <td>0.666667</td>\n      <td>0.014051</td>\n      <td>10</td>\n      <td>14</td>\n      <td>3.605551</td>\n      <td>1.732051</td>\n      <td>0.014051</td>\n      <td>1.0</td>\n      <td>('es:una/uno&lt;det&gt;&lt;ind&gt;&lt;f&gt;&lt;sg&gt;', 1.0)</td>\n      <td>0.024020</td>\n      <td>0.777778</td>\n      <td>en-&gt;es</td>\n      <td>2</td>\n      <td>1</td>\n      <td>1363009545</td>\n      <td>u:i-Dl</td>\n      <td>una/uno&lt;det&gt;&lt;ind&gt;&lt;f&gt;&lt;sg&gt;</td>\n    </tr>\n    <tr>\n      <th>22</th>\n      <td>0.500000</td>\n      <td>0.014051</td>\n      <td>5</td>\n      <td>11</td>\n      <td>3.000000</td>\n      <td>2.000000</td>\n      <td>0.014051</td>\n      <td>1.0</td>\n      <td>('es:niÃ±o/niÃ±o&lt;n&gt;&lt;m&gt;&lt;sg&gt;', 1.0)</td>\n      <td>0.014051</td>\n      <td>0.666667</td>\n      <td>en-&gt;es</td>\n      <td>1</td>\n      <td>1</td>\n      <td>1363009545</td>\n      <td>u:i-Dl</td>\n      <td>niÃ±o/niÃ±o&lt;n&gt;&lt;m&gt;&lt;sg&gt;</td>\n    </tr>\n    <tr>\n      <th>23</th>\n      <td>0.000100</td>\n      <td>0.014051</td>\n      <td>5</td>\n      <td>7</td>\n      <td>2.645751</td>\n      <td>1.414214</td>\n      <td>0.014051</td>\n      <td>1.0</td>\n      <td>('es:eres/ser&lt;vbser&gt;&lt;pri&gt;&lt;p2&gt;&lt;sg&gt;', 1.0)</td>\n      <td>0.010417</td>\n      <td>0.727273</td>\n      <td>en-&gt;es</td>\n      <td>0</td>\n      <td>2</td>\n      <td>1363009545</td>\n      <td>u:i-Dl</td>\n      <td>eres/ser&lt;vbser&gt;&lt;pri&gt;&lt;p2&gt;&lt;sg&gt;</td>\n    </tr>\n    <tr>\n      <th>24</th>\n      <td>0.999900</td>\n      <td>0.014051</td>\n      <td>7</td>\n      <td>7</td>\n      <td>2.828427</td>\n      <td>1.000000</td>\n      <td>0.014051</td>\n      <td>1.0</td>\n      <td>('es:ella/prpers&lt;prn&gt;&lt;tn&gt;&lt;p3&gt;&lt;f&gt;&lt;sg&gt;', 1.0)</td>\n      <td>97.388727</td>\n      <td>0.818182</td>\n      <td>en-&gt;es</td>\n      <td>2</td>\n      <td>0</td>\n      <td>1363009545</td>\n      <td>u:i-Dl</td>\n      <td>ella/prpers&lt;prn&gt;&lt;tn&gt;&lt;p3&gt;&lt;f&gt;&lt;sg&gt;</td>\n    </tr>\n    <tr>\n      <th>25</th>\n      <td>0.999900</td>\n      <td>0.014051</td>\n      <td>11</td>\n      <td>15</td>\n      <td>3.741657</td>\n      <td>1.732051</td>\n      <td>0.014051</td>\n      <td>1.0</td>\n      <td>('es:mujer/mujer&lt;n&gt;&lt;f&gt;&lt;sg&gt;', 1.0)</td>\n      <td>97.388727</td>\n      <td>0.789474</td>\n      <td>en-&gt;es</td>\n      <td>5</td>\n      <td>0</td>\n      <td>1363009545</td>\n      <td>u:i-Dl</td>\n      <td>mujer/mujer&lt;n&gt;&lt;f&gt;&lt;sg&gt;</td>\n    </tr>\n    <tr>\n      <th>26</th>\n      <td>0.999900</td>\n      <td>0.014051</td>\n      <td>7</td>\n      <td>13</td>\n      <td>3.316625</td>\n      <td>2.000000</td>\n      <td>0.014051</td>\n      <td>1.0</td>\n      <td>('es:come/comer&lt;vblex&gt;&lt;pri&gt;&lt;p3&gt;&lt;sg&gt;', 1.0)</td>\n      <td>97.388727</td>\n      <td>0.705882</td>\n      <td>en-&gt;es</td>\n      <td>5</td>\n      <td>0</td>\n      <td>1363009545</td>\n      <td>u:i-Dl</td>\n      <td>come/comer&lt;vblex&gt;&lt;pri&gt;&lt;p3&gt;&lt;sg&gt;</td>\n    </tr>\n    <tr>\n      <th>27</th>\n      <td>0.999900</td>\n      <td>0.014051</td>\n      <td>7</td>\n      <td>11</td>\n      <td>3.162278</td>\n      <td>1.732051</td>\n      <td>0.014051</td>\n      <td>1.0</td>\n      <td>('es:manzana/manzana&lt;n&gt;&lt;f&gt;&lt;sg&gt;', 1.0)</td>\n      <td>97.388727</td>\n      <td>0.733333</td>\n      <td>en-&gt;es</td>\n      <td>4</td>\n      <td>0</td>\n      <td>1363009545</td>\n      <td>u:i-Dl</td>\n      <td>manzana/manzana&lt;n&gt;&lt;f&gt;&lt;sg&gt;</td>\n    </tr>\n    <tr>\n      <th>28</th>\n      <td>0.999900</td>\n      <td>0.014051</td>\n      <td>3</td>\n      <td>7</td>\n      <td>2.449490</td>\n      <td>1.732051</td>\n      <td>0.014051</td>\n      <td>1.0</td>\n      <td>('es:el/el&lt;det&gt;&lt;def&gt;&lt;m&gt;&lt;sg&gt;', 1.0)</td>\n      <td>97.388727</td>\n      <td>0.636364</td>\n      <td>en-&gt;es</td>\n      <td>3</td>\n      <td>0</td>\n      <td>1363009545</td>\n      <td>u:i-Dl</td>\n      <td>el/el&lt;det&gt;&lt;def&gt;&lt;m&gt;&lt;sg&gt;</td>\n    </tr>\n    <tr>\n      <th>29</th>\n      <td>0.666667</td>\n      <td>0.014051</td>\n      <td>13</td>\n      <td>13</td>\n      <td>3.741657</td>\n      <td>1.000000</td>\n      <td>0.014051</td>\n      <td>1.0</td>\n      <td>('es:un/uno&lt;det&gt;&lt;ind&gt;&lt;m&gt;&lt;sg&gt;', 1.0)</td>\n      <td>0.024020</td>\n      <td>0.882353</td>\n      <td>en-&gt;es</td>\n      <td>2</td>\n      <td>1</td>\n      <td>1363009545</td>\n      <td>u:i-Dl</td>\n      <td>un/uno&lt;det&gt;&lt;ind&gt;&lt;m&gt;&lt;sg&gt;</td>\n    </tr>\n    <tr>\n      <th>30</th>\n      <td>0.000100</td>\n      <td>0.014051</td>\n      <td>6</td>\n      <td>8</td>\n      <td>2.828427</td>\n      <td>1.414214</td>\n      <td>0.014051</td>\n      <td>1.0</td>\n      <td>('es:tÃº/prpers&lt;prn&gt;&lt;tn&gt;&lt;p2&gt;&lt;mf&gt;&lt;sg&gt;', 1.0)</td>\n      <td>0.010417</td>\n      <td>0.750000</td>\n      <td>en-&gt;es</td>\n      <td>0</td>\n      <td>2</td>\n      <td>1363009545</td>\n      <td>u:i-Dl</td>\n      <td>tÃº/prpers&lt;prn&gt;&lt;tn&gt;&lt;p2&gt;&lt;mf&gt;&lt;sg&gt;</td>\n    </tr>\n    <tr>\n      <th>31</th>\n      <td>0.750000</td>\n      <td>0.014051</td>\n      <td>14</td>\n      <td>14</td>\n      <td>3.872983</td>\n      <td>1.000000</td>\n      <td>0.014051</td>\n      <td>1.0</td>\n      <td>('es:soy/ser&lt;vbser&gt;&lt;pri&gt;&lt;p1&gt;&lt;sg&gt;', 1.0)</td>\n      <td>0.033855</td>\n      <td>0.888889</td>\n      <td>en-&gt;es</td>\n      <td>3</td>\n      <td>1</td>\n      <td>1363009545</td>\n      <td>u:i-Dl</td>\n      <td>soy/ser&lt;vbser&gt;&lt;pri&gt;&lt;p1&gt;&lt;sg&gt;</td>\n    </tr>\n    <tr>\n      <th>32</th>\n      <td>0.999900</td>\n      <td>0.014051</td>\n      <td>6</td>\n      <td>8</td>\n      <td>2.828427</td>\n      <td>1.414214</td>\n      <td>0.014051</td>\n      <td>1.0</td>\n      <td>('es:Ã©l/prpers&lt;prn&gt;&lt;tn&gt;&lt;p3&gt;&lt;m&gt;&lt;sg&gt;', 1.0)</td>\n      <td>97.388727</td>\n      <td>0.750000</td>\n      <td>en-&gt;es</td>\n      <td>2</td>\n      <td>0</td>\n      <td>1363009545</td>\n      <td>u:i-Dl</td>\n      <td>Ã©l/prpers&lt;prn&gt;&lt;tn&gt;&lt;p3&gt;&lt;m&gt;&lt;sg&gt;</td>\n    </tr>\n    <tr>\n      <th>33</th>\n      <td>0.500000</td>\n      <td>0.014051</td>\n      <td>6</td>\n      <td>10</td>\n      <td>3.000000</td>\n      <td>1.732051</td>\n      <td>0.014051</td>\n      <td>1.0</td>\n      <td>('es:niÃ±a/niÃ±o&lt;n&gt;&lt;f&gt;&lt;sg&gt;', 1.0)</td>\n      <td>0.014051</td>\n      <td>0.714286</td>\n      <td>en-&gt;es</td>\n      <td>1</td>\n      <td>1</td>\n      <td>1363009545</td>\n      <td>u:i-Dl</td>\n      <td>niÃ±a/niÃ±o&lt;n&gt;&lt;f&gt;&lt;sg&gt;</td>\n    </tr>\n    <tr>\n      <th>34</th>\n      <td>0.999900</td>\n      <td>0.014051</td>\n      <td>4</td>\n      <td>6</td>\n      <td>2.449490</td>\n      <td>1.414214</td>\n      <td>0.014051</td>\n      <td>1.0</td>\n      <td>('es:usted/prpers&lt;prn&gt;&lt;tn&gt;&lt;p3&gt;&lt;mf&gt;&lt;sg&gt;', 1.0)</td>\n      <td>97.388727</td>\n      <td>0.700000</td>\n      <td>en-&gt;es</td>\n      <td>3</td>\n      <td>0</td>\n      <td>1363009545</td>\n      <td>u:i-Dl</td>\n      <td>usted/prpers&lt;prn&gt;&lt;tn&gt;&lt;p3&gt;&lt;mf&gt;&lt;sg&gt;</td>\n    </tr>\n    <tr>\n      <th>35</th>\n      <td>0.833333</td>\n      <td>0.014051</td>\n      <td>15</td>\n      <td>17</td>\n      <td>4.123106</td>\n      <td>1.414214</td>\n      <td>0.014051</td>\n      <td>1.0</td>\n      <td>('es:hombre/hombre&lt;n&gt;&lt;m&gt;&lt;sg&gt;', 1.0)</td>\n      <td>0.053419</td>\n      <td>0.857143</td>\n      <td>en-&gt;es</td>\n      <td>5</td>\n      <td>1</td>\n      <td>1363009545</td>\n      <td>u:i-Dl</td>\n      <td>hombre/hombre&lt;n&gt;&lt;m&gt;&lt;sg&gt;</td>\n    </tr>\n    <tr>\n      <th>36</th>\n      <td>0.999900</td>\n      <td>0.014051</td>\n      <td>1</td>\n      <td>7</td>\n      <td>2.236068</td>\n      <td>2.000000</td>\n      <td>0.014051</td>\n      <td>1.0</td>\n      <td>('es:la/el&lt;det&gt;&lt;def&gt;&lt;f&gt;&lt;sg&gt;', 1.0)</td>\n      <td>97.388727</td>\n      <td>0.545455</td>\n      <td>en-&gt;es</td>\n      <td>2</td>\n      <td>0</td>\n      <td>1363009545</td>\n      <td>u:i-Dl</td>\n      <td>la/el&lt;det&gt;&lt;def&gt;&lt;f&gt;&lt;sg&gt;</td>\n    </tr>\n    <tr>\n      <th>37</th>\n      <td>0.999900</td>\n      <td>11.829942</td>\n      <td>0</td>\n      <td>2</td>\n      <td>1.414214</td>\n      <td>1.414214</td>\n      <td>11.829942</td>\n      <td>1.0</td>\n      <td>('en:local/local&lt;adj&gt;', 1.0)</td>\n      <td>274.000000</td>\n      <td>0.500000</td>\n      <td>es-&gt;en</td>\n      <td>1</td>\n      <td>0</td>\n      <td>1363009549</td>\n      <td>u:dZYW</td>\n      <td>local/local&lt;adj&gt;</td>\n    </tr>\n    <tr>\n      <th>38</th>\n      <td>0.999900</td>\n      <td>3.773484</td>\n      <td>1</td>\n      <td>3</td>\n      <td>1.732051</td>\n      <td>1.414214</td>\n      <td>3.773484</td>\n      <td>1.0</td>\n      <td>('en:traditional/traditional&lt;adj&gt;', 1.0)</td>\n      <td>274.000000</td>\n      <td>0.571429</td>\n      <td>es-&gt;en</td>\n      <td>1</td>\n      <td>0</td>\n      <td>1363009549</td>\n      <td>u:dZYW</td>\n      <td>traditional/traditional&lt;adj&gt;</td>\n    </tr>\n    <tr>\n      <th>39</th>\n      <td>0.999900</td>\n      <td>22.788102</td>\n      <td>4</td>\n      <td>4</td>\n      <td>2.236068</td>\n      <td>1.000000</td>\n      <td>22.788102</td>\n      <td>1.0</td>\n      <td>('en:bit/bit&lt;n&gt;&lt;sg&gt;', 1.0)</td>\n      <td>274.000000</td>\n      <td>0.750000</td>\n      <td>es-&gt;en</td>\n      <td>1</td>\n      <td>0</td>\n      <td>1363009549</td>\n      <td>u:dZYW</td>\n      <td>bit/bit&lt;n&gt;&lt;sg&gt;</td>\n    </tr>\n    <tr>\n      <th>40</th>\n      <td>0.000100</td>\n      <td>0.685486</td>\n      <td>2</td>\n      <td>2</td>\n      <td>1.732051</td>\n      <td>1.000000</td>\n      <td>0.685486</td>\n      <td>1.0</td>\n      <td>('en:opposite/opposite&lt;adj&gt;', 1.0)</td>\n      <td>0.051588</td>\n      <td>0.666667</td>\n      <td>es-&gt;en</td>\n      <td>0</td>\n      <td>1</td>\n      <td>1363009549</td>\n      <td>u:dZYW</td>\n      <td>opposite/opposite&lt;adj&gt;</td>\n    </tr>\n    <tr>\n      <th>41</th>\n      <td>0.999900</td>\n      <td>12.793380</td>\n      <td>2</td>\n      <td>2</td>\n      <td>1.732051</td>\n      <td>1.000000</td>\n      <td>12.793380</td>\n      <td>1.0</td>\n      <td>('en:next/next&lt;adj&gt;', 1.0)</td>\n      <td>274.000000</td>\n      <td>0.666667</td>\n      <td>es-&gt;en</td>\n      <td>1</td>\n      <td>0</td>\n      <td>1363009549</td>\n      <td>u:dZYW</td>\n      <td>next/next&lt;adj&gt;</td>\n    </tr>\n    <tr>\n      <th>42</th>\n      <td>0.999900</td>\n      <td>0.009005</td>\n      <td>0</td>\n      <td>4</td>\n      <td>1.732051</td>\n      <td>1.732051</td>\n      <td>0.009005</td>\n      <td>1.0</td>\n      <td>('en:cultural/cultural&lt;adj&gt;', 1.0)</td>\n      <td>62.412216</td>\n      <td>0.500000</td>\n      <td>es-&gt;en</td>\n      <td>1</td>\n      <td>0</td>\n      <td>1363009549</td>\n      <td>u:dZYW</td>\n      <td>cultural/cultural&lt;adj&gt;</td>\n    </tr>\n    <tr>\n      <th>43</th>\n      <td>0.999900</td>\n      <td>0.009005</td>\n      <td>46</td>\n      <td>56</td>\n      <td>7.211103</td>\n      <td>2.449490</td>\n      <td>0.009005</td>\n      <td>1.0</td>\n      <td>('en:are/be&lt;vbser&gt;&lt;pres&gt;', 1.0)</td>\n      <td>62.412216</td>\n      <td>0.883333</td>\n      <td>es-&gt;en</td>\n      <td>1</td>\n      <td>0</td>\n      <td>1363009549</td>\n      <td>u:dZYW</td>\n      <td>are/be&lt;vbser&gt;&lt;pres&gt;</td>\n    </tr>\n    <tr>\n      <th>44</th>\n      <td>0.999900</td>\n      <td>0.009005</td>\n      <td>4</td>\n      <td>4</td>\n      <td>2.236068</td>\n      <td>1.000000</td>\n      <td>0.009005</td>\n      <td>1.0</td>\n      <td>('en:european/european&lt;adj&gt;', 1.0)</td>\n      <td>62.412216</td>\n      <td>0.750000</td>\n      <td>es-&gt;en</td>\n      <td>1</td>\n      <td>0</td>\n      <td>1363009549</td>\n      <td>u:dZYW</td>\n      <td>european/european&lt;adj&gt;</td>\n    </tr>\n    <tr>\n      <th>45</th>\n      <td>0.999900</td>\n      <td>0.677049</td>\n      <td>5</td>\n      <td>5</td>\n      <td>2.449490</td>\n      <td>1.000000</td>\n      <td>0.677049</td>\n      <td>1.0</td>\n      <td>('en:final/final&lt;adj&gt;', 1.0)</td>\n      <td>274.000000</td>\n      <td>0.777778</td>\n      <td>es-&gt;en</td>\n      <td>1</td>\n      <td>0</td>\n      <td>1363009549</td>\n      <td>u:dZYW</td>\n      <td>final/final&lt;adj&gt;</td>\n    </tr>\n    <tr>\n      <th>46</th>\n      <td>0.500000</td>\n      <td>0.009005</td>\n      <td>61</td>\n      <td>65</td>\n      <td>8.000000</td>\n      <td>1.732051</td>\n      <td>0.009005</td>\n      <td>1.0</td>\n      <td>('en:is/be&lt;vbser&gt;&lt;pri&gt;&lt;p3&gt;&lt;sg&gt;', 1.0)</td>\n      <td>0.010417</td>\n      <td>0.942029</td>\n      <td>es-&gt;en</td>\n      <td>1</td>\n      <td>1</td>\n      <td>1363009549</td>\n      <td>u:dZYW</td>\n      <td>is/be&lt;vbser&gt;&lt;pri&gt;&lt;p3&gt;&lt;sg&gt;</td>\n    </tr>\n    <tr>\n      <th>47</th>\n      <td>0.000100</td>\n      <td>4.771157</td>\n      <td>5</td>\n      <td>5</td>\n      <td>2.449490</td>\n      <td>1.000000</td>\n      <td>4.771157</td>\n      <td>1.0</td>\n      <td>('en:french/french&lt;adj&gt;', 1.0)</td>\n      <td>0.359065</td>\n      <td>0.777778</td>\n      <td>es-&gt;en</td>\n      <td>0</td>\n      <td>1</td>\n      <td>1363009549</td>\n      <td>u:dZYW</td>\n      <td>french/french&lt;adj&gt;</td>\n    </tr>\n    <tr>\n      <th>48</th>\n      <td>0.999900</td>\n      <td>0.009005</td>\n      <td>16</td>\n      <td>20</td>\n      <td>4.358899</td>\n      <td>1.732051</td>\n      <td>0.009005</td>\n      <td>1.0</td>\n      <td>('en:am/be&lt;vbser&gt;&lt;pri&gt;&lt;p1&gt;&lt;sg&gt;', 1.0)</td>\n      <td>62.412216</td>\n      <td>0.833333</td>\n      <td>es-&gt;en</td>\n      <td>1</td>\n      <td>0</td>\n      <td>1363009549</td>\n      <td>u:dZYW</td>\n      <td>am/be&lt;vbser&gt;&lt;pri&gt;&lt;p1&gt;&lt;sg&gt;</td>\n    </tr>\n    <tr>\n      <th>49</th>\n      <td>0.999900</td>\n      <td>0.009005</td>\n      <td>17</td>\n      <td>27</td>\n      <td>4.795832</td>\n      <td>2.449490</td>\n      <td>0.009005</td>\n      <td>1.0</td>\n      <td>('en:not/not&lt;adv&gt;', 1.0)</td>\n      <td>62.412216</td>\n      <td>0.774194</td>\n      <td>es-&gt;en</td>\n      <td>1</td>\n      <td>0</td>\n      <td>1363009549</td>\n      <td>u:dZYW</td>\n      <td>not/not&lt;adv&gt;</td>\n    </tr>\n  </tbody>\n</table>\n</div>"
     },
     "metadata": {},
     "output_type": "display_data"
    }
   ],
   "source": [
    "data_postprocess_test = pd.read_csv(\"data_postprocess_test.csv\", encoding='latin-1')\n",
    "display(len(data_postprocess_test))\n",
    "display(data_postprocess_test.head(50))"
   ],
   "metadata": {
    "collapsed": false,
    "pycharm": {
     "name": "#%%\n"
    }
   }
  },
  {
   "cell_type": "code",
   "execution_count": 2,
   "outputs": [
    {
     "data": {
      "text/plain": "11568803"
     },
     "metadata": {},
     "output_type": "display_data"
    },
    {
     "data": {
      "text/plain": "               p           t  fv_leitner_diff  fv_pimsleur_total  \\\n0         0.9999  320.018924                2                  6   \n1         0.5000  320.018924                4                  4   \n2         0.9999  320.018924                3                  5   \n3         0.5000  320.018924                4                  6   \n4         0.9999  320.018924                4                  4   \n...          ...         ...              ...                ...   \n11568798  0.9999   17.720694                1                  1   \n11568799  0.9999    4.029560                2                  2   \n11568800  0.9999   61.005174               20                 20   \n11568801  0.0001   52.772650               25                 27   \n11568802  0.9999   24.962951                1                  1   \n\n          fv_hlr_right  fv_hlr_wrong  fv_lr_time  fv_optional_bias  \\\n0             2.236068      1.732051  320.018924               1.0   \n1             2.236068      1.000000  320.018924               1.0   \n2             2.236068      1.414214  320.018924               1.0   \n3             2.449490      1.414214  320.018924               1.0   \n4             2.236068      1.000000  320.018924               1.0   \n...                ...           ...         ...               ...   \n11568798      1.414214      1.000000   17.720694               1.0   \n11568799      1.732051      1.000000    4.029560               1.0   \n11568800      4.582576      1.000000   61.005174               1.0   \n11568801      5.196152      1.414214   52.772650               1.0   \n11568802      1.414214      1.000000   24.962951               1.0   \n\n                                         fv_optional_lexeme           h  \\\n0              ('de:lernt/lernen<vblex><pri><p3><sg>', 1.0)  274.000000   \n1                 ('de:die/die<det><def><f><sg><nom>', 1.0)  274.000000   \n2                      ('de:mann/mann<n><m><sg><nom>', 1.0)  274.000000   \n3                      ('de:frau/frau<n><f><sg><nom>', 1.0)  274.000000   \n4                ('de:das/das<det><def><nt><sg><nom>', 1.0)  274.000000   \n...                                                     ...         ...   \n11568798                  ('fr:pÃ¨re/pÃ¨re<n><m><sg>', 1.0)  274.000000   \n11568799              ('fr:cette/ce<det><dem><f><sg>', 1.0)  274.000000   \n11568800                 (\"fr:c'/ce<prn><tn><nt><sg>\", 1.0)  274.000000   \n11568801                ('fr:sa/son<det><pos><f><sg>', 1.0)    3.971538   \n11568802  ('fr:<*sf>/intÃ©ressant<adj><*gndr><*numb>', 1.0)  274.000000   \n\n                 a    lang  right  wrong   timestamp     uid  \\\n0         0.600000  en->de      2      0  1362076081    u:FO   \n1         0.750000  en->de      1      1  1362076081    u:FO   \n2         0.666667  en->de      1      0  1362076081    u:FO   \n3         0.700000  en->de      1      1  1362076081    u:FO   \n4         0.750000  en->de      1      0  1362076081    u:FO   \n...            ...     ...    ...    ...         ...     ...   \n11568798  0.600000  en->fr      1      0  1363009539  u:dHVF   \n11568799  0.666667  en->fr      1      0  1363009539  u:dHVF   \n11568800  0.916667  en->fr      1      0  1363009539  u:dHVF   \n11568801  0.903226  en->fr      0      1  1363009539  u:dHVF   \n11568802  0.600000  en->fr      1      0  1363009539  u:dHVF   \n\n                                         lexeme  \n0              lernt/lernen<vblex><pri><p3><sg>  \n1                 die/die<det><def><f><sg><nom>  \n2                      mann/mann<n><m><sg><nom>  \n3                      frau/frau<n><f><sg><nom>  \n4                das/das<det><def><nt><sg><nom>  \n...                                         ...  \n11568798                  pÃ¨re/pÃ¨re<n><m><sg>  \n11568799              cette/ce<det><dem><f><sg>  \n11568800                 c'/ce<prn><tn><nt><sg>  \n11568801                sa/son<det><pos><f><sg>  \n11568802  <*sf>/intÃ©ressant<adj><*gndr><*numb>  \n\n[11568803 rows x 17 columns]",
      "text/html": "<div>\n<style scoped>\n    .dataframe tbody tr th:only-of-type {\n        vertical-align: middle;\n    }\n\n    .dataframe tbody tr th {\n        vertical-align: top;\n    }\n\n    .dataframe thead th {\n        text-align: right;\n    }\n</style>\n<table border=\"1\" class=\"dataframe\">\n  <thead>\n    <tr style=\"text-align: right;\">\n      <th></th>\n      <th>p</th>\n      <th>t</th>\n      <th>fv_leitner_diff</th>\n      <th>fv_pimsleur_total</th>\n      <th>fv_hlr_right</th>\n      <th>fv_hlr_wrong</th>\n      <th>fv_lr_time</th>\n      <th>fv_optional_bias</th>\n      <th>fv_optional_lexeme</th>\n      <th>h</th>\n      <th>a</th>\n      <th>lang</th>\n      <th>right</th>\n      <th>wrong</th>\n      <th>timestamp</th>\n      <th>uid</th>\n      <th>lexeme</th>\n    </tr>\n  </thead>\n  <tbody>\n    <tr>\n      <th>0</th>\n      <td>0.9999</td>\n      <td>320.018924</td>\n      <td>2</td>\n      <td>6</td>\n      <td>2.236068</td>\n      <td>1.732051</td>\n      <td>320.018924</td>\n      <td>1.0</td>\n      <td>('de:lernt/lernen&lt;vblex&gt;&lt;pri&gt;&lt;p3&gt;&lt;sg&gt;', 1.0)</td>\n      <td>274.000000</td>\n      <td>0.600000</td>\n      <td>en-&gt;de</td>\n      <td>2</td>\n      <td>0</td>\n      <td>1362076081</td>\n      <td>u:FO</td>\n      <td>lernt/lernen&lt;vblex&gt;&lt;pri&gt;&lt;p3&gt;&lt;sg&gt;</td>\n    </tr>\n    <tr>\n      <th>1</th>\n      <td>0.5000</td>\n      <td>320.018924</td>\n      <td>4</td>\n      <td>4</td>\n      <td>2.236068</td>\n      <td>1.000000</td>\n      <td>320.018924</td>\n      <td>1.0</td>\n      <td>('de:die/die&lt;det&gt;&lt;def&gt;&lt;f&gt;&lt;sg&gt;&lt;nom&gt;', 1.0)</td>\n      <td>274.000000</td>\n      <td>0.750000</td>\n      <td>en-&gt;de</td>\n      <td>1</td>\n      <td>1</td>\n      <td>1362076081</td>\n      <td>u:FO</td>\n      <td>die/die&lt;det&gt;&lt;def&gt;&lt;f&gt;&lt;sg&gt;&lt;nom&gt;</td>\n    </tr>\n    <tr>\n      <th>2</th>\n      <td>0.9999</td>\n      <td>320.018924</td>\n      <td>3</td>\n      <td>5</td>\n      <td>2.236068</td>\n      <td>1.414214</td>\n      <td>320.018924</td>\n      <td>1.0</td>\n      <td>('de:mann/mann&lt;n&gt;&lt;m&gt;&lt;sg&gt;&lt;nom&gt;', 1.0)</td>\n      <td>274.000000</td>\n      <td>0.666667</td>\n      <td>en-&gt;de</td>\n      <td>1</td>\n      <td>0</td>\n      <td>1362076081</td>\n      <td>u:FO</td>\n      <td>mann/mann&lt;n&gt;&lt;m&gt;&lt;sg&gt;&lt;nom&gt;</td>\n    </tr>\n    <tr>\n      <th>3</th>\n      <td>0.5000</td>\n      <td>320.018924</td>\n      <td>4</td>\n      <td>6</td>\n      <td>2.449490</td>\n      <td>1.414214</td>\n      <td>320.018924</td>\n      <td>1.0</td>\n      <td>('de:frau/frau&lt;n&gt;&lt;f&gt;&lt;sg&gt;&lt;nom&gt;', 1.0)</td>\n      <td>274.000000</td>\n      <td>0.700000</td>\n      <td>en-&gt;de</td>\n      <td>1</td>\n      <td>1</td>\n      <td>1362076081</td>\n      <td>u:FO</td>\n      <td>frau/frau&lt;n&gt;&lt;f&gt;&lt;sg&gt;&lt;nom&gt;</td>\n    </tr>\n    <tr>\n      <th>4</th>\n      <td>0.9999</td>\n      <td>320.018924</td>\n      <td>4</td>\n      <td>4</td>\n      <td>2.236068</td>\n      <td>1.000000</td>\n      <td>320.018924</td>\n      <td>1.0</td>\n      <td>('de:das/das&lt;det&gt;&lt;def&gt;&lt;nt&gt;&lt;sg&gt;&lt;nom&gt;', 1.0)</td>\n      <td>274.000000</td>\n      <td>0.750000</td>\n      <td>en-&gt;de</td>\n      <td>1</td>\n      <td>0</td>\n      <td>1362076081</td>\n      <td>u:FO</td>\n      <td>das/das&lt;det&gt;&lt;def&gt;&lt;nt&gt;&lt;sg&gt;&lt;nom&gt;</td>\n    </tr>\n    <tr>\n      <th>...</th>\n      <td>...</td>\n      <td>...</td>\n      <td>...</td>\n      <td>...</td>\n      <td>...</td>\n      <td>...</td>\n      <td>...</td>\n      <td>...</td>\n      <td>...</td>\n      <td>...</td>\n      <td>...</td>\n      <td>...</td>\n      <td>...</td>\n      <td>...</td>\n      <td>...</td>\n      <td>...</td>\n      <td>...</td>\n    </tr>\n    <tr>\n      <th>11568798</th>\n      <td>0.9999</td>\n      <td>17.720694</td>\n      <td>1</td>\n      <td>1</td>\n      <td>1.414214</td>\n      <td>1.000000</td>\n      <td>17.720694</td>\n      <td>1.0</td>\n      <td>('fr:pÃ¨re/pÃ¨re&lt;n&gt;&lt;m&gt;&lt;sg&gt;', 1.0)</td>\n      <td>274.000000</td>\n      <td>0.600000</td>\n      <td>en-&gt;fr</td>\n      <td>1</td>\n      <td>0</td>\n      <td>1363009539</td>\n      <td>u:dHVF</td>\n      <td>pÃ¨re/pÃ¨re&lt;n&gt;&lt;m&gt;&lt;sg&gt;</td>\n    </tr>\n    <tr>\n      <th>11568799</th>\n      <td>0.9999</td>\n      <td>4.029560</td>\n      <td>2</td>\n      <td>2</td>\n      <td>1.732051</td>\n      <td>1.000000</td>\n      <td>4.029560</td>\n      <td>1.0</td>\n      <td>('fr:cette/ce&lt;det&gt;&lt;dem&gt;&lt;f&gt;&lt;sg&gt;', 1.0)</td>\n      <td>274.000000</td>\n      <td>0.666667</td>\n      <td>en-&gt;fr</td>\n      <td>1</td>\n      <td>0</td>\n      <td>1363009539</td>\n      <td>u:dHVF</td>\n      <td>cette/ce&lt;det&gt;&lt;dem&gt;&lt;f&gt;&lt;sg&gt;</td>\n    </tr>\n    <tr>\n      <th>11568800</th>\n      <td>0.9999</td>\n      <td>61.005174</td>\n      <td>20</td>\n      <td>20</td>\n      <td>4.582576</td>\n      <td>1.000000</td>\n      <td>61.005174</td>\n      <td>1.0</td>\n      <td>(\"fr:c'/ce&lt;prn&gt;&lt;tn&gt;&lt;nt&gt;&lt;sg&gt;\", 1.0)</td>\n      <td>274.000000</td>\n      <td>0.916667</td>\n      <td>en-&gt;fr</td>\n      <td>1</td>\n      <td>0</td>\n      <td>1363009539</td>\n      <td>u:dHVF</td>\n      <td>c'/ce&lt;prn&gt;&lt;tn&gt;&lt;nt&gt;&lt;sg&gt;</td>\n    </tr>\n    <tr>\n      <th>11568801</th>\n      <td>0.0001</td>\n      <td>52.772650</td>\n      <td>25</td>\n      <td>27</td>\n      <td>5.196152</td>\n      <td>1.414214</td>\n      <td>52.772650</td>\n      <td>1.0</td>\n      <td>('fr:sa/son&lt;det&gt;&lt;pos&gt;&lt;f&gt;&lt;sg&gt;', 1.0)</td>\n      <td>3.971538</td>\n      <td>0.903226</td>\n      <td>en-&gt;fr</td>\n      <td>0</td>\n      <td>1</td>\n      <td>1363009539</td>\n      <td>u:dHVF</td>\n      <td>sa/son&lt;det&gt;&lt;pos&gt;&lt;f&gt;&lt;sg&gt;</td>\n    </tr>\n    <tr>\n      <th>11568802</th>\n      <td>0.9999</td>\n      <td>24.962951</td>\n      <td>1</td>\n      <td>1</td>\n      <td>1.414214</td>\n      <td>1.000000</td>\n      <td>24.962951</td>\n      <td>1.0</td>\n      <td>('fr:&lt;*sf&gt;/intÃ©ressant&lt;adj&gt;&lt;*gndr&gt;&lt;*numb&gt;', 1.0)</td>\n      <td>274.000000</td>\n      <td>0.600000</td>\n      <td>en-&gt;fr</td>\n      <td>1</td>\n      <td>0</td>\n      <td>1363009539</td>\n      <td>u:dHVF</td>\n      <td>&lt;*sf&gt;/intÃ©ressant&lt;adj&gt;&lt;*gndr&gt;&lt;*numb&gt;</td>\n    </tr>\n  </tbody>\n</table>\n<p>11568803 rows × 17 columns</p>\n</div>"
     },
     "metadata": {},
     "output_type": "display_data"
    }
   ],
   "source": [
    "data_postprocess_train = pd.read_csv(\"data_postprocess_train.csv\", encoding='latin-1')\n",
    "display(len(data_postprocess_train))\n",
    "display(data_postprocess_train)\n"
   ],
   "metadata": {
    "collapsed": false,
    "pycharm": {
     "name": "#%%\n"
    }
   }
  },
  {
   "cell_type": "code",
   "execution_count": 3,
   "outputs": [],
   "source": [
    "df = pd.DataFrame(data_postprocess_train[\"fv_optional_lexeme\"])\n",
    "lexeme = df.copy()"
   ],
   "metadata": {
    "collapsed": false,
    "pycharm": {
     "name": "#%%\n"
    }
   }
  },
  {
   "cell_type": "code",
   "execution_count": 4,
   "outputs": [],
   "source": [
    "def comma_replacer(text):\n",
    "    result = str(text).replace(\"\\\"\", \"'\")\n",
    "    return (result)"
   ],
   "metadata": {
    "collapsed": false,
    "pycharm": {
     "name": "#%%\n"
    }
   }
  },
  {
   "cell_type": "code",
   "execution_count": 5,
   "outputs": [],
   "source": [
    "lexeme[\"fv_optional_lexeme\"] = lexeme[\"fv_optional_lexeme\"].apply(comma_replacer)"
   ],
   "metadata": {
    "collapsed": false,
    "pycharm": {
     "name": "#%%\n"
    }
   }
  },
  {
   "cell_type": "code",
   "execution_count": 6,
   "outputs": [
    {
     "data": {
      "text/plain": "                                         fv_optional_lexeme\n0              ('de:lernt/lernen<vblex><pri><p3><sg>', 1.0)\n1                 ('de:die/die<det><def><f><sg><nom>', 1.0)\n2                      ('de:mann/mann<n><m><sg><nom>', 1.0)\n3                      ('de:frau/frau<n><f><sg><nom>', 1.0)\n4                ('de:das/das<det><def><nt><sg><nom>', 1.0)\n...                                                     ...\n11568798                  ('fr:pÃ¨re/pÃ¨re<n><m><sg>', 1.0)\n11568799              ('fr:cette/ce<det><dem><f><sg>', 1.0)\n11568800                 ('fr:c'/ce<prn><tn><nt><sg>', 1.0)\n11568801                ('fr:sa/son<det><pos><f><sg>', 1.0)\n11568802  ('fr:<*sf>/intÃ©ressant<adj><*gndr><*numb>', 1.0)\n\n[11568803 rows x 1 columns]",
      "text/html": "<div>\n<style scoped>\n    .dataframe tbody tr th:only-of-type {\n        vertical-align: middle;\n    }\n\n    .dataframe tbody tr th {\n        vertical-align: top;\n    }\n\n    .dataframe thead th {\n        text-align: right;\n    }\n</style>\n<table border=\"1\" class=\"dataframe\">\n  <thead>\n    <tr style=\"text-align: right;\">\n      <th></th>\n      <th>fv_optional_lexeme</th>\n    </tr>\n  </thead>\n  <tbody>\n    <tr>\n      <th>0</th>\n      <td>('de:lernt/lernen&lt;vblex&gt;&lt;pri&gt;&lt;p3&gt;&lt;sg&gt;', 1.0)</td>\n    </tr>\n    <tr>\n      <th>1</th>\n      <td>('de:die/die&lt;det&gt;&lt;def&gt;&lt;f&gt;&lt;sg&gt;&lt;nom&gt;', 1.0)</td>\n    </tr>\n    <tr>\n      <th>2</th>\n      <td>('de:mann/mann&lt;n&gt;&lt;m&gt;&lt;sg&gt;&lt;nom&gt;', 1.0)</td>\n    </tr>\n    <tr>\n      <th>3</th>\n      <td>('de:frau/frau&lt;n&gt;&lt;f&gt;&lt;sg&gt;&lt;nom&gt;', 1.0)</td>\n    </tr>\n    <tr>\n      <th>4</th>\n      <td>('de:das/das&lt;det&gt;&lt;def&gt;&lt;nt&gt;&lt;sg&gt;&lt;nom&gt;', 1.0)</td>\n    </tr>\n    <tr>\n      <th>...</th>\n      <td>...</td>\n    </tr>\n    <tr>\n      <th>11568798</th>\n      <td>('fr:pÃ¨re/pÃ¨re&lt;n&gt;&lt;m&gt;&lt;sg&gt;', 1.0)</td>\n    </tr>\n    <tr>\n      <th>11568799</th>\n      <td>('fr:cette/ce&lt;det&gt;&lt;dem&gt;&lt;f&gt;&lt;sg&gt;', 1.0)</td>\n    </tr>\n    <tr>\n      <th>11568800</th>\n      <td>('fr:c'/ce&lt;prn&gt;&lt;tn&gt;&lt;nt&gt;&lt;sg&gt;', 1.0)</td>\n    </tr>\n    <tr>\n      <th>11568801</th>\n      <td>('fr:sa/son&lt;det&gt;&lt;pos&gt;&lt;f&gt;&lt;sg&gt;', 1.0)</td>\n    </tr>\n    <tr>\n      <th>11568802</th>\n      <td>('fr:&lt;*sf&gt;/intÃ©ressant&lt;adj&gt;&lt;*gndr&gt;&lt;*numb&gt;', 1.0)</td>\n    </tr>\n  </tbody>\n</table>\n<p>11568803 rows × 1 columns</p>\n</div>"
     },
     "execution_count": 6,
     "metadata": {},
     "output_type": "execute_result"
    }
   ],
   "source": [
    "lexeme"
   ],
   "metadata": {
    "collapsed": false,
    "pycharm": {
     "name": "#%%\n"
    }
   }
  },
  {
   "cell_type": "code",
   "execution_count": 6,
   "outputs": [
    {
     "data": {
      "text/plain": "               p           t  fv_leitner_diff  fv_pimsleur_total  \\\n0         0.9999  320.018924                2                  6   \n1         0.5000  320.018924                4                  4   \n2         0.9999  320.018924                3                  5   \n3         0.5000  320.018924                4                  6   \n4         0.9999  320.018924                4                  4   \n...          ...         ...              ...                ...   \n11568798  0.9999   17.720694                1                  1   \n11568799  0.9999    4.029560                2                  2   \n11568800  0.9999   61.005174               20                 20   \n11568801  0.0001   52.772650               25                 27   \n11568802  0.9999   24.962951                1                  1   \n\n          fv_hlr_right  fv_hlr_wrong  fv_lr_time  fv_optional_bias  \\\n0             2.236068      1.732051  320.018924               1.0   \n1             2.236068      1.000000  320.018924               1.0   \n2             2.236068      1.414214  320.018924               1.0   \n3             2.449490      1.414214  320.018924               1.0   \n4             2.236068      1.000000  320.018924               1.0   \n...                ...           ...         ...               ...   \n11568798      1.414214      1.000000   17.720694               1.0   \n11568799      1.732051      1.000000    4.029560               1.0   \n11568800      4.582576      1.000000   61.005174               1.0   \n11568801      5.196152      1.414214   52.772650               1.0   \n11568802      1.414214      1.000000   24.962951               1.0   \n\n                                         fv_optional_lexeme           h  \\\n0              ('de:lernt/lernen<vblex><pri><p3><sg>', 1.0)  274.000000   \n1                 ('de:die/die<det><def><f><sg><nom>', 1.0)  274.000000   \n2                      ('de:mann/mann<n><m><sg><nom>', 1.0)  274.000000   \n3                      ('de:frau/frau<n><f><sg><nom>', 1.0)  274.000000   \n4                ('de:das/das<det><def><nt><sg><nom>', 1.0)  274.000000   \n...                                                     ...         ...   \n11568798                  ('fr:pÃ¨re/pÃ¨re<n><m><sg>', 1.0)  274.000000   \n11568799              ('fr:cette/ce<det><dem><f><sg>', 1.0)  274.000000   \n11568800                 (\"fr:c'/ce<prn><tn><nt><sg>\", 1.0)  274.000000   \n11568801                ('fr:sa/son<det><pos><f><sg>', 1.0)    3.971538   \n11568802  ('fr:<*sf>/intÃ©ressant<adj><*gndr><*numb>', 1.0)  274.000000   \n\n                 a    lang  right  wrong   timestamp     uid  \\\n0         0.600000  en->de      2      0  1362076081    u:FO   \n1         0.750000  en->de      1      1  1362076081    u:FO   \n2         0.666667  en->de      1      0  1362076081    u:FO   \n3         0.700000  en->de      1      1  1362076081    u:FO   \n4         0.750000  en->de      1      0  1362076081    u:FO   \n...            ...     ...    ...    ...         ...     ...   \n11568798  0.600000  en->fr      1      0  1363009539  u:dHVF   \n11568799  0.666667  en->fr      1      0  1363009539  u:dHVF   \n11568800  0.916667  en->fr      1      0  1363009539  u:dHVF   \n11568801  0.903226  en->fr      0      1  1363009539  u:dHVF   \n11568802  0.600000  en->fr      1      0  1363009539  u:dHVF   \n\n                                         lexeme  \n0              lernt/lernen<vblex><pri><p3><sg>  \n1                 die/die<det><def><f><sg><nom>  \n2                      mann/mann<n><m><sg><nom>  \n3                      frau/frau<n><f><sg><nom>  \n4                das/das<det><def><nt><sg><nom>  \n...                                         ...  \n11568798                  pÃ¨re/pÃ¨re<n><m><sg>  \n11568799              cette/ce<det><dem><f><sg>  \n11568800                 c'/ce<prn><tn><nt><sg>  \n11568801                sa/son<det><pos><f><sg>  \n11568802  <*sf>/intÃ©ressant<adj><*gndr><*numb>  \n\n[11568803 rows x 17 columns]",
      "text/html": "<div>\n<style scoped>\n    .dataframe tbody tr th:only-of-type {\n        vertical-align: middle;\n    }\n\n    .dataframe tbody tr th {\n        vertical-align: top;\n    }\n\n    .dataframe thead th {\n        text-align: right;\n    }\n</style>\n<table border=\"1\" class=\"dataframe\">\n  <thead>\n    <tr style=\"text-align: right;\">\n      <th></th>\n      <th>p</th>\n      <th>t</th>\n      <th>fv_leitner_diff</th>\n      <th>fv_pimsleur_total</th>\n      <th>fv_hlr_right</th>\n      <th>fv_hlr_wrong</th>\n      <th>fv_lr_time</th>\n      <th>fv_optional_bias</th>\n      <th>fv_optional_lexeme</th>\n      <th>h</th>\n      <th>a</th>\n      <th>lang</th>\n      <th>right</th>\n      <th>wrong</th>\n      <th>timestamp</th>\n      <th>uid</th>\n      <th>lexeme</th>\n    </tr>\n  </thead>\n  <tbody>\n    <tr>\n      <th>0</th>\n      <td>0.9999</td>\n      <td>320.018924</td>\n      <td>2</td>\n      <td>6</td>\n      <td>2.236068</td>\n      <td>1.732051</td>\n      <td>320.018924</td>\n      <td>1.0</td>\n      <td>('de:lernt/lernen&lt;vblex&gt;&lt;pri&gt;&lt;p3&gt;&lt;sg&gt;', 1.0)</td>\n      <td>274.000000</td>\n      <td>0.600000</td>\n      <td>en-&gt;de</td>\n      <td>2</td>\n      <td>0</td>\n      <td>1362076081</td>\n      <td>u:FO</td>\n      <td>lernt/lernen&lt;vblex&gt;&lt;pri&gt;&lt;p3&gt;&lt;sg&gt;</td>\n    </tr>\n    <tr>\n      <th>1</th>\n      <td>0.5000</td>\n      <td>320.018924</td>\n      <td>4</td>\n      <td>4</td>\n      <td>2.236068</td>\n      <td>1.000000</td>\n      <td>320.018924</td>\n      <td>1.0</td>\n      <td>('de:die/die&lt;det&gt;&lt;def&gt;&lt;f&gt;&lt;sg&gt;&lt;nom&gt;', 1.0)</td>\n      <td>274.000000</td>\n      <td>0.750000</td>\n      <td>en-&gt;de</td>\n      <td>1</td>\n      <td>1</td>\n      <td>1362076081</td>\n      <td>u:FO</td>\n      <td>die/die&lt;det&gt;&lt;def&gt;&lt;f&gt;&lt;sg&gt;&lt;nom&gt;</td>\n    </tr>\n    <tr>\n      <th>2</th>\n      <td>0.9999</td>\n      <td>320.018924</td>\n      <td>3</td>\n      <td>5</td>\n      <td>2.236068</td>\n      <td>1.414214</td>\n      <td>320.018924</td>\n      <td>1.0</td>\n      <td>('de:mann/mann&lt;n&gt;&lt;m&gt;&lt;sg&gt;&lt;nom&gt;', 1.0)</td>\n      <td>274.000000</td>\n      <td>0.666667</td>\n      <td>en-&gt;de</td>\n      <td>1</td>\n      <td>0</td>\n      <td>1362076081</td>\n      <td>u:FO</td>\n      <td>mann/mann&lt;n&gt;&lt;m&gt;&lt;sg&gt;&lt;nom&gt;</td>\n    </tr>\n    <tr>\n      <th>3</th>\n      <td>0.5000</td>\n      <td>320.018924</td>\n      <td>4</td>\n      <td>6</td>\n      <td>2.449490</td>\n      <td>1.414214</td>\n      <td>320.018924</td>\n      <td>1.0</td>\n      <td>('de:frau/frau&lt;n&gt;&lt;f&gt;&lt;sg&gt;&lt;nom&gt;', 1.0)</td>\n      <td>274.000000</td>\n      <td>0.700000</td>\n      <td>en-&gt;de</td>\n      <td>1</td>\n      <td>1</td>\n      <td>1362076081</td>\n      <td>u:FO</td>\n      <td>frau/frau&lt;n&gt;&lt;f&gt;&lt;sg&gt;&lt;nom&gt;</td>\n    </tr>\n    <tr>\n      <th>4</th>\n      <td>0.9999</td>\n      <td>320.018924</td>\n      <td>4</td>\n      <td>4</td>\n      <td>2.236068</td>\n      <td>1.000000</td>\n      <td>320.018924</td>\n      <td>1.0</td>\n      <td>('de:das/das&lt;det&gt;&lt;def&gt;&lt;nt&gt;&lt;sg&gt;&lt;nom&gt;', 1.0)</td>\n      <td>274.000000</td>\n      <td>0.750000</td>\n      <td>en-&gt;de</td>\n      <td>1</td>\n      <td>0</td>\n      <td>1362076081</td>\n      <td>u:FO</td>\n      <td>das/das&lt;det&gt;&lt;def&gt;&lt;nt&gt;&lt;sg&gt;&lt;nom&gt;</td>\n    </tr>\n    <tr>\n      <th>...</th>\n      <td>...</td>\n      <td>...</td>\n      <td>...</td>\n      <td>...</td>\n      <td>...</td>\n      <td>...</td>\n      <td>...</td>\n      <td>...</td>\n      <td>...</td>\n      <td>...</td>\n      <td>...</td>\n      <td>...</td>\n      <td>...</td>\n      <td>...</td>\n      <td>...</td>\n      <td>...</td>\n      <td>...</td>\n    </tr>\n    <tr>\n      <th>11568798</th>\n      <td>0.9999</td>\n      <td>17.720694</td>\n      <td>1</td>\n      <td>1</td>\n      <td>1.414214</td>\n      <td>1.000000</td>\n      <td>17.720694</td>\n      <td>1.0</td>\n      <td>('fr:pÃ¨re/pÃ¨re&lt;n&gt;&lt;m&gt;&lt;sg&gt;', 1.0)</td>\n      <td>274.000000</td>\n      <td>0.600000</td>\n      <td>en-&gt;fr</td>\n      <td>1</td>\n      <td>0</td>\n      <td>1363009539</td>\n      <td>u:dHVF</td>\n      <td>pÃ¨re/pÃ¨re&lt;n&gt;&lt;m&gt;&lt;sg&gt;</td>\n    </tr>\n    <tr>\n      <th>11568799</th>\n      <td>0.9999</td>\n      <td>4.029560</td>\n      <td>2</td>\n      <td>2</td>\n      <td>1.732051</td>\n      <td>1.000000</td>\n      <td>4.029560</td>\n      <td>1.0</td>\n      <td>('fr:cette/ce&lt;det&gt;&lt;dem&gt;&lt;f&gt;&lt;sg&gt;', 1.0)</td>\n      <td>274.000000</td>\n      <td>0.666667</td>\n      <td>en-&gt;fr</td>\n      <td>1</td>\n      <td>0</td>\n      <td>1363009539</td>\n      <td>u:dHVF</td>\n      <td>cette/ce&lt;det&gt;&lt;dem&gt;&lt;f&gt;&lt;sg&gt;</td>\n    </tr>\n    <tr>\n      <th>11568800</th>\n      <td>0.9999</td>\n      <td>61.005174</td>\n      <td>20</td>\n      <td>20</td>\n      <td>4.582576</td>\n      <td>1.000000</td>\n      <td>61.005174</td>\n      <td>1.0</td>\n      <td>(\"fr:c'/ce&lt;prn&gt;&lt;tn&gt;&lt;nt&gt;&lt;sg&gt;\", 1.0)</td>\n      <td>274.000000</td>\n      <td>0.916667</td>\n      <td>en-&gt;fr</td>\n      <td>1</td>\n      <td>0</td>\n      <td>1363009539</td>\n      <td>u:dHVF</td>\n      <td>c'/ce&lt;prn&gt;&lt;tn&gt;&lt;nt&gt;&lt;sg&gt;</td>\n    </tr>\n    <tr>\n      <th>11568801</th>\n      <td>0.0001</td>\n      <td>52.772650</td>\n      <td>25</td>\n      <td>27</td>\n      <td>5.196152</td>\n      <td>1.414214</td>\n      <td>52.772650</td>\n      <td>1.0</td>\n      <td>('fr:sa/son&lt;det&gt;&lt;pos&gt;&lt;f&gt;&lt;sg&gt;', 1.0)</td>\n      <td>3.971538</td>\n      <td>0.903226</td>\n      <td>en-&gt;fr</td>\n      <td>0</td>\n      <td>1</td>\n      <td>1363009539</td>\n      <td>u:dHVF</td>\n      <td>sa/son&lt;det&gt;&lt;pos&gt;&lt;f&gt;&lt;sg&gt;</td>\n    </tr>\n    <tr>\n      <th>11568802</th>\n      <td>0.9999</td>\n      <td>24.962951</td>\n      <td>1</td>\n      <td>1</td>\n      <td>1.414214</td>\n      <td>1.000000</td>\n      <td>24.962951</td>\n      <td>1.0</td>\n      <td>('fr:&lt;*sf&gt;/intÃ©ressant&lt;adj&gt;&lt;*gndr&gt;&lt;*numb&gt;', 1.0)</td>\n      <td>274.000000</td>\n      <td>0.600000</td>\n      <td>en-&gt;fr</td>\n      <td>1</td>\n      <td>0</td>\n      <td>1363009539</td>\n      <td>u:dHVF</td>\n      <td>&lt;*sf&gt;/intÃ©ressant&lt;adj&gt;&lt;*gndr&gt;&lt;*numb&gt;</td>\n    </tr>\n  </tbody>\n</table>\n<p>11568803 rows × 17 columns</p>\n</div>"
     },
     "execution_count": 6,
     "metadata": {},
     "output_type": "execute_result"
    }
   ],
   "source": [
    "data_postprocess_train"
   ],
   "metadata": {
    "collapsed": false,
    "pycharm": {
     "name": "#%%\n"
    }
   }
  },
  {
   "cell_type": "code",
   "execution_count": 7,
   "outputs": [],
   "source": [
    "import re\n",
    "\n",
    "def regexer_language(lexeme):\n",
    "    lang = re.search(\"'(.+?):\", str(lexeme)).group(1)\n",
    "\n",
    "    return lang\n"
   ],
   "metadata": {
    "collapsed": false,
    "pycharm": {
     "name": "#%%\n"
    }
   }
  },
  {
   "cell_type": "code",
   "execution_count": 8,
   "outputs": [],
   "source": [
    "def regexer_surface_form(lexeme):\n",
    "    surface_form = re.search(\":(.+?)/\", str(lexeme)).group(1)\n",
    "\n",
    "    return surface_form"
   ],
   "metadata": {
    "collapsed": false,
    "pycharm": {
     "name": "#%%\n"
    }
   }
  },
  {
   "cell_type": "code",
   "execution_count": 9,
   "outputs": [],
   "source": [
    "def regexer_root_form(lexeme):\n",
    "    root_form = re.search(\"/(.+?)<\", str(lexeme)).group(1)\n",
    "\n",
    "    return root_form"
   ],
   "metadata": {
    "collapsed": false,
    "pycharm": {
     "name": "#%%\n"
    }
   }
  },
  {
   "cell_type": "code",
   "execution_count": 10,
   "outputs": [],
   "source": [
    "def regex_modifiers(lexeme):\n",
    "\n",
    "    modifiers = re.search(\"/(.+?)'\", str(lexeme)).group(1)\n",
    "\n",
    "    modifiers_split = re.findall(r'\\<.*?\\>', modifiers)\n",
    "\n",
    "    return modifiers_split\n",
    "    # for index, modifier in enumerate(modifiers_split):\n",
    "    #     if (index == 0):\n",
    "    #         modifier1 = modifier\n",
    "    #     elif (index == 1):\n",
    "    #         modifier2 = modifier\n",
    "    #     elif (index == 2):\n",
    "    #         modifier3 = modifier\n",
    "    #     elif (index == 3):\n",
    "    #         modifier4 = modifier\n",
    "    #     elif (index == 4):\n",
    "    #         modifier5 = modifier"
   ],
   "metadata": {
    "collapsed": false,
    "pycharm": {
     "name": "#%%\n"
    }
   }
  },
  {
   "cell_type": "code",
   "execution_count": 11,
   "outputs": [],
   "source": [
    "def regex_modifier1(split):\n",
    "    if (len(split) > 0):\n",
    "        return split[0]\n"
   ],
   "metadata": {
    "collapsed": false,
    "pycharm": {
     "name": "#%%\n"
    }
   }
  },
  {
   "cell_type": "code",
   "execution_count": 12,
   "outputs": [],
   "source": [
    "def regex_modifier2(split):\n",
    "    if (len(split) > 1):\n",
    "        return split[1]"
   ],
   "metadata": {
    "collapsed": false,
    "pycharm": {
     "name": "#%%\n"
    }
   }
  },
  {
   "cell_type": "code",
   "execution_count": 13,
   "outputs": [],
   "source": [
    "def regex_modifier3(split):\n",
    "    if (len(split) > 2):\n",
    "        return split[2]"
   ],
   "metadata": {
    "collapsed": false,
    "pycharm": {
     "name": "#%%\n"
    }
   }
  },
  {
   "cell_type": "code",
   "execution_count": 14,
   "outputs": [],
   "source": [
    "def regex_modifier4(split):\n",
    "    if (len(split) > 3):\n",
    "        return split[3]"
   ],
   "metadata": {
    "collapsed": false,
    "pycharm": {
     "name": "#%%\n"
    }
   }
  },
  {
   "cell_type": "code",
   "execution_count": 15,
   "outputs": [],
   "source": [
    "def regex_modifier5(split):\n",
    "    if (len(split) > 4):\n",
    "        return split[4]"
   ],
   "metadata": {
    "collapsed": false,
    "pycharm": {
     "name": "#%%\n"
    }
   }
  },
  {
   "cell_type": "code",
   "execution_count": 16,
   "outputs": [],
   "source": [
    "lexeme[\"language\"] = lexeme[\"fv_optional_lexeme\"].apply(regexer_language)"
   ],
   "metadata": {
    "collapsed": false,
    "pycharm": {
     "name": "#%%\n"
    }
   }
  },
  {
   "cell_type": "code",
   "execution_count": 17,
   "outputs": [],
   "source": [
    "lexeme[\"surface_form\"] = lexeme[\"fv_optional_lexeme\"].apply(regexer_surface_form)"
   ],
   "metadata": {
    "collapsed": false,
    "pycharm": {
     "name": "#%%\n"
    }
   }
  },
  {
   "cell_type": "code",
   "execution_count": 18,
   "outputs": [],
   "source": [
    "lexeme[\"root_form\"] = lexeme[\"fv_optional_lexeme\"].apply(regexer_root_form)"
   ],
   "metadata": {
    "collapsed": false,
    "pycharm": {
     "name": "#%%\n"
    }
   }
  },
  {
   "cell_type": "code",
   "execution_count": 19,
   "outputs": [],
   "source": [
    "lexeme[\"modifiers_split\"] = lexeme[\"fv_optional_lexeme\"].apply(regex_modifiers)"
   ],
   "metadata": {
    "collapsed": false,
    "pycharm": {
     "name": "#%%\n"
    }
   }
  },
  {
   "cell_type": "code",
   "execution_count": 20,
   "outputs": [],
   "source": [
    "lexeme[\"modifier1\"] = lexeme[\"modifiers_split\"].apply(regex_modifier1)"
   ],
   "metadata": {
    "collapsed": false,
    "pycharm": {
     "name": "#%%\n"
    }
   }
  },
  {
   "cell_type": "code",
   "execution_count": 21,
   "outputs": [],
   "source": [
    "lexeme[\"modifier2\"] = lexeme[\"modifiers_split\"].apply(regex_modifier2)\n"
   ],
   "metadata": {
    "collapsed": false,
    "pycharm": {
     "name": "#%%\n"
    }
   }
  },
  {
   "cell_type": "code",
   "execution_count": 22,
   "outputs": [],
   "source": [
    "lexeme[\"modifier3\"] = lexeme[\"modifiers_split\"].apply(regex_modifier3)\n"
   ],
   "metadata": {
    "collapsed": false,
    "pycharm": {
     "name": "#%%\n"
    }
   }
  },
  {
   "cell_type": "code",
   "execution_count": 23,
   "outputs": [],
   "source": [
    "lexeme[\"modifier4\"] = lexeme[\"modifiers_split\"].apply(regex_modifier4)\n"
   ],
   "metadata": {
    "collapsed": false,
    "pycharm": {
     "name": "#%%\n"
    }
   }
  },
  {
   "cell_type": "code",
   "execution_count": 24,
   "outputs": [],
   "source": [
    "lexeme[\"modifier5\"] = lexeme[\"modifiers_split\"].apply(regex_modifier5)\n"
   ],
   "metadata": {
    "collapsed": false,
    "pycharm": {
     "name": "#%%\n"
    }
   }
  },
  {
   "cell_type": "code",
   "execution_count": 25,
   "outputs": [
    {
     "data": {
      "text/plain": "                                         fv_optional_lexeme language  \\\n0              ('de:lernt/lernen<vblex><pri><p3><sg>', 1.0)       de   \n1                 ('de:die/die<det><def><f><sg><nom>', 1.0)       de   \n2                      ('de:mann/mann<n><m><sg><nom>', 1.0)       de   \n3                      ('de:frau/frau<n><f><sg><nom>', 1.0)       de   \n4                ('de:das/das<det><def><nt><sg><nom>', 1.0)       de   \n...                                                     ...      ...   \n11568798                  ('fr:pÃ¨re/pÃ¨re<n><m><sg>', 1.0)       fr   \n11568799              ('fr:cette/ce<det><dem><f><sg>', 1.0)       fr   \n11568800                 ('fr:c'/ce<prn><tn><nt><sg>', 1.0)       fr   \n11568801                ('fr:sa/son<det><pos><f><sg>', 1.0)       fr   \n11568802  ('fr:<*sf>/intÃ©ressant<adj><*gndr><*numb>', 1.0)       fr   \n\n         surface_form     root_form modifier1 modifier2 modifier3 modifier4  \\\n0               lernt        lernen   <vblex>     <pri>      <p3>      <sg>   \n1                 die           die     <det>     <def>       <f>      <sg>   \n2                mann          mann       <n>       <m>      <sg>     <nom>   \n3                frau          frau       <n>       <f>      <sg>     <nom>   \n4                 das           das     <det>     <def>      <nt>      <sg>   \n...               ...           ...       ...       ...       ...       ...   \n11568798        pÃ¨re         pÃ¨re       <n>       <m>      <sg>      None   \n11568799        cette            ce     <det>     <dem>       <f>      <sg>   \n11568800           c'            ce     <prn>      <tn>      <nt>      <sg>   \n11568801           sa           son     <det>     <pos>       <f>      <sg>   \n11568802        <*sf>  intÃ©ressant     <adj>   <*gndr>   <*numb>      None   \n\n         modifier5  \n0             None  \n1            <nom>  \n2             None  \n3             None  \n4            <nom>  \n...            ...  \n11568798      None  \n11568799      None  \n11568800      None  \n11568801      None  \n11568802      None  \n\n[11568803 rows x 9 columns]",
      "text/html": "<div>\n<style scoped>\n    .dataframe tbody tr th:only-of-type {\n        vertical-align: middle;\n    }\n\n    .dataframe tbody tr th {\n        vertical-align: top;\n    }\n\n    .dataframe thead th {\n        text-align: right;\n    }\n</style>\n<table border=\"1\" class=\"dataframe\">\n  <thead>\n    <tr style=\"text-align: right;\">\n      <th></th>\n      <th>fv_optional_lexeme</th>\n      <th>language</th>\n      <th>surface_form</th>\n      <th>root_form</th>\n      <th>modifier1</th>\n      <th>modifier2</th>\n      <th>modifier3</th>\n      <th>modifier4</th>\n      <th>modifier5</th>\n    </tr>\n  </thead>\n  <tbody>\n    <tr>\n      <th>0</th>\n      <td>('de:lernt/lernen&lt;vblex&gt;&lt;pri&gt;&lt;p3&gt;&lt;sg&gt;', 1.0)</td>\n      <td>de</td>\n      <td>lernt</td>\n      <td>lernen</td>\n      <td>&lt;vblex&gt;</td>\n      <td>&lt;pri&gt;</td>\n      <td>&lt;p3&gt;</td>\n      <td>&lt;sg&gt;</td>\n      <td>None</td>\n    </tr>\n    <tr>\n      <th>1</th>\n      <td>('de:die/die&lt;det&gt;&lt;def&gt;&lt;f&gt;&lt;sg&gt;&lt;nom&gt;', 1.0)</td>\n      <td>de</td>\n      <td>die</td>\n      <td>die</td>\n      <td>&lt;det&gt;</td>\n      <td>&lt;def&gt;</td>\n      <td>&lt;f&gt;</td>\n      <td>&lt;sg&gt;</td>\n      <td>&lt;nom&gt;</td>\n    </tr>\n    <tr>\n      <th>2</th>\n      <td>('de:mann/mann&lt;n&gt;&lt;m&gt;&lt;sg&gt;&lt;nom&gt;', 1.0)</td>\n      <td>de</td>\n      <td>mann</td>\n      <td>mann</td>\n      <td>&lt;n&gt;</td>\n      <td>&lt;m&gt;</td>\n      <td>&lt;sg&gt;</td>\n      <td>&lt;nom&gt;</td>\n      <td>None</td>\n    </tr>\n    <tr>\n      <th>3</th>\n      <td>('de:frau/frau&lt;n&gt;&lt;f&gt;&lt;sg&gt;&lt;nom&gt;', 1.0)</td>\n      <td>de</td>\n      <td>frau</td>\n      <td>frau</td>\n      <td>&lt;n&gt;</td>\n      <td>&lt;f&gt;</td>\n      <td>&lt;sg&gt;</td>\n      <td>&lt;nom&gt;</td>\n      <td>None</td>\n    </tr>\n    <tr>\n      <th>4</th>\n      <td>('de:das/das&lt;det&gt;&lt;def&gt;&lt;nt&gt;&lt;sg&gt;&lt;nom&gt;', 1.0)</td>\n      <td>de</td>\n      <td>das</td>\n      <td>das</td>\n      <td>&lt;det&gt;</td>\n      <td>&lt;def&gt;</td>\n      <td>&lt;nt&gt;</td>\n      <td>&lt;sg&gt;</td>\n      <td>&lt;nom&gt;</td>\n    </tr>\n    <tr>\n      <th>...</th>\n      <td>...</td>\n      <td>...</td>\n      <td>...</td>\n      <td>...</td>\n      <td>...</td>\n      <td>...</td>\n      <td>...</td>\n      <td>...</td>\n      <td>...</td>\n    </tr>\n    <tr>\n      <th>11568798</th>\n      <td>('fr:pÃ¨re/pÃ¨re&lt;n&gt;&lt;m&gt;&lt;sg&gt;', 1.0)</td>\n      <td>fr</td>\n      <td>pÃ¨re</td>\n      <td>pÃ¨re</td>\n      <td>&lt;n&gt;</td>\n      <td>&lt;m&gt;</td>\n      <td>&lt;sg&gt;</td>\n      <td>None</td>\n      <td>None</td>\n    </tr>\n    <tr>\n      <th>11568799</th>\n      <td>('fr:cette/ce&lt;det&gt;&lt;dem&gt;&lt;f&gt;&lt;sg&gt;', 1.0)</td>\n      <td>fr</td>\n      <td>cette</td>\n      <td>ce</td>\n      <td>&lt;det&gt;</td>\n      <td>&lt;dem&gt;</td>\n      <td>&lt;f&gt;</td>\n      <td>&lt;sg&gt;</td>\n      <td>None</td>\n    </tr>\n    <tr>\n      <th>11568800</th>\n      <td>('fr:c'/ce&lt;prn&gt;&lt;tn&gt;&lt;nt&gt;&lt;sg&gt;', 1.0)</td>\n      <td>fr</td>\n      <td>c'</td>\n      <td>ce</td>\n      <td>&lt;prn&gt;</td>\n      <td>&lt;tn&gt;</td>\n      <td>&lt;nt&gt;</td>\n      <td>&lt;sg&gt;</td>\n      <td>None</td>\n    </tr>\n    <tr>\n      <th>11568801</th>\n      <td>('fr:sa/son&lt;det&gt;&lt;pos&gt;&lt;f&gt;&lt;sg&gt;', 1.0)</td>\n      <td>fr</td>\n      <td>sa</td>\n      <td>son</td>\n      <td>&lt;det&gt;</td>\n      <td>&lt;pos&gt;</td>\n      <td>&lt;f&gt;</td>\n      <td>&lt;sg&gt;</td>\n      <td>None</td>\n    </tr>\n    <tr>\n      <th>11568802</th>\n      <td>('fr:&lt;*sf&gt;/intÃ©ressant&lt;adj&gt;&lt;*gndr&gt;&lt;*numb&gt;', 1.0)</td>\n      <td>fr</td>\n      <td>&lt;*sf&gt;</td>\n      <td>intÃ©ressant</td>\n      <td>&lt;adj&gt;</td>\n      <td>&lt;*gndr&gt;</td>\n      <td>&lt;*numb&gt;</td>\n      <td>None</td>\n      <td>None</td>\n    </tr>\n  </tbody>\n</table>\n<p>11568803 rows × 9 columns</p>\n</div>"
     },
     "execution_count": 25,
     "metadata": {},
     "output_type": "execute_result"
    }
   ],
   "source": [
    "\n",
    "del lexeme[\"modifiers_split\"]\n",
    "lexeme"
   ],
   "metadata": {
    "collapsed": false,
    "pycharm": {
     "name": "#%%\n"
    }
   }
  },
  {
   "cell_type": "code",
   "execution_count": 127,
   "outputs": [
    {
     "data": {
      "text/plain": "        language surface_form      root_form modifier1 modifier2 modifier3  \\\n0             fr        <*sf>  indispensable     <adj>      <mf>   <*numb>   \n1             fr        <*sf>           faux     <adj>   <*gndr>   <*numb>   \n2             fr        <*sf>            tel     <adj>   <*gndr>   <*numb>   \n3             fr        <*sf>          juste     <adj>      <mf>   <*numb>   \n4             fr        <*sf>            fin     <adj>   <*gndr>   <*numb>   \n...          ...          ...            ...       ...       ...       ...   \n1285418       en          the            the     <det>     <def>      <sp>   \n1285419       en          eat            eat   <vblex>    <pres>             \n1285420       en        bread          bread       <n>      <sg>             \n1285421       en        drink          drink   <vblex>    <pres>             \n1285422       en        water          water       <n>      <sg>             \n\n        modifier4 modifier5  \n0                            \n1                            \n2                            \n3                            \n4                            \n...           ...       ...  \n1285418                      \n1285419                      \n1285420                      \n1285421                      \n1285422                      \n\n[1285423 rows x 8 columns]",
      "text/html": "<div>\n<style scoped>\n    .dataframe tbody tr th:only-of-type {\n        vertical-align: middle;\n    }\n\n    .dataframe tbody tr th {\n        vertical-align: top;\n    }\n\n    .dataframe thead th {\n        text-align: right;\n    }\n</style>\n<table border=\"1\" class=\"dataframe\">\n  <thead>\n    <tr style=\"text-align: right;\">\n      <th></th>\n      <th>language</th>\n      <th>surface_form</th>\n      <th>root_form</th>\n      <th>modifier1</th>\n      <th>modifier2</th>\n      <th>modifier3</th>\n      <th>modifier4</th>\n      <th>modifier5</th>\n    </tr>\n  </thead>\n  <tbody>\n    <tr>\n      <th>0</th>\n      <td>fr</td>\n      <td>&lt;*sf&gt;</td>\n      <td>indispensable</td>\n      <td>&lt;adj&gt;</td>\n      <td>&lt;mf&gt;</td>\n      <td>&lt;*numb&gt;</td>\n      <td></td>\n      <td></td>\n    </tr>\n    <tr>\n      <th>1</th>\n      <td>fr</td>\n      <td>&lt;*sf&gt;</td>\n      <td>faux</td>\n      <td>&lt;adj&gt;</td>\n      <td>&lt;*gndr&gt;</td>\n      <td>&lt;*numb&gt;</td>\n      <td></td>\n      <td></td>\n    </tr>\n    <tr>\n      <th>2</th>\n      <td>fr</td>\n      <td>&lt;*sf&gt;</td>\n      <td>tel</td>\n      <td>&lt;adj&gt;</td>\n      <td>&lt;*gndr&gt;</td>\n      <td>&lt;*numb&gt;</td>\n      <td></td>\n      <td></td>\n    </tr>\n    <tr>\n      <th>3</th>\n      <td>fr</td>\n      <td>&lt;*sf&gt;</td>\n      <td>juste</td>\n      <td>&lt;adj&gt;</td>\n      <td>&lt;mf&gt;</td>\n      <td>&lt;*numb&gt;</td>\n      <td></td>\n      <td></td>\n    </tr>\n    <tr>\n      <th>4</th>\n      <td>fr</td>\n      <td>&lt;*sf&gt;</td>\n      <td>fin</td>\n      <td>&lt;adj&gt;</td>\n      <td>&lt;*gndr&gt;</td>\n      <td>&lt;*numb&gt;</td>\n      <td></td>\n      <td></td>\n    </tr>\n    <tr>\n      <th>...</th>\n      <td>...</td>\n      <td>...</td>\n      <td>...</td>\n      <td>...</td>\n      <td>...</td>\n      <td>...</td>\n      <td>...</td>\n      <td>...</td>\n    </tr>\n    <tr>\n      <th>1285418</th>\n      <td>en</td>\n      <td>the</td>\n      <td>the</td>\n      <td>&lt;det&gt;</td>\n      <td>&lt;def&gt;</td>\n      <td>&lt;sp&gt;</td>\n      <td></td>\n      <td></td>\n    </tr>\n    <tr>\n      <th>1285419</th>\n      <td>en</td>\n      <td>eat</td>\n      <td>eat</td>\n      <td>&lt;vblex&gt;</td>\n      <td>&lt;pres&gt;</td>\n      <td></td>\n      <td></td>\n      <td></td>\n    </tr>\n    <tr>\n      <th>1285420</th>\n      <td>en</td>\n      <td>bread</td>\n      <td>bread</td>\n      <td>&lt;n&gt;</td>\n      <td>&lt;sg&gt;</td>\n      <td></td>\n      <td></td>\n      <td></td>\n    </tr>\n    <tr>\n      <th>1285421</th>\n      <td>en</td>\n      <td>drink</td>\n      <td>drink</td>\n      <td>&lt;vblex&gt;</td>\n      <td>&lt;pres&gt;</td>\n      <td></td>\n      <td></td>\n      <td></td>\n    </tr>\n    <tr>\n      <th>1285422</th>\n      <td>en</td>\n      <td>water</td>\n      <td>water</td>\n      <td>&lt;n&gt;</td>\n      <td>&lt;sg&gt;</td>\n      <td></td>\n      <td></td>\n      <td></td>\n    </tr>\n  </tbody>\n</table>\n<p>1285423 rows × 8 columns</p>\n</div>"
     },
     "execution_count": 127,
     "metadata": {},
     "output_type": "execute_result"
    }
   ],
   "source": [
    "\n",
    "lexeme_numeric = lexeme.copy()\n",
    "del lexeme_numeric[\"fv_optional_lexeme\"]\n",
    "lexeme_numeric = lexeme_numeric.fillna('')\n",
    "lexeme_numeric"
   ],
   "metadata": {
    "collapsed": false,
    "pycharm": {
     "name": "#%%\n"
    }
   }
  },
  {
   "cell_type": "code",
   "execution_count": 128,
   "outputs": [
    {
     "data": {
      "text/plain": "         language  surface_form  root_form  modifier1  modifier2  modifier3  \\\n0             3.0           2.0     3217.0       53.0       26.0        2.0   \n1             3.0           2.0     2505.0       53.0        1.0        2.0   \n2             3.0           2.0     6358.0       53.0        1.0        2.0   \n3             3.0           2.0     3453.0       53.0       26.0        2.0   \n4             3.0           2.0     2568.0       53.0        1.0        2.0   \n...           ...           ...        ...        ...        ...        ...   \n1285418       1.0        6968.0     6430.0       59.0       12.0       38.0   \n1285419       1.0        2201.0     2052.0       74.0       42.0        0.0   \n1285420       1.0         925.0      850.0       62.0       51.0        0.0   \n1285421       1.0        2131.0     1987.0       74.0       42.0        0.0   \n1285422       1.0        7635.0     6965.0       62.0       51.0        0.0   \n\n         modifier4  modifier5  \n0              0.0        0.0  \n1              0.0        0.0  \n2              0.0        0.0  \n3              0.0        0.0  \n4              0.0        0.0  \n...            ...        ...  \n1285418        0.0        0.0  \n1285419        0.0        0.0  \n1285420        0.0        0.0  \n1285421        0.0        0.0  \n1285422        0.0        0.0  \n\n[1285423 rows x 8 columns]",
      "text/html": "<div>\n<style scoped>\n    .dataframe tbody tr th:only-of-type {\n        vertical-align: middle;\n    }\n\n    .dataframe tbody tr th {\n        vertical-align: top;\n    }\n\n    .dataframe thead th {\n        text-align: right;\n    }\n</style>\n<table border=\"1\" class=\"dataframe\">\n  <thead>\n    <tr style=\"text-align: right;\">\n      <th></th>\n      <th>language</th>\n      <th>surface_form</th>\n      <th>root_form</th>\n      <th>modifier1</th>\n      <th>modifier2</th>\n      <th>modifier3</th>\n      <th>modifier4</th>\n      <th>modifier5</th>\n    </tr>\n  </thead>\n  <tbody>\n    <tr>\n      <th>0</th>\n      <td>3.0</td>\n      <td>2.0</td>\n      <td>3217.0</td>\n      <td>53.0</td>\n      <td>26.0</td>\n      <td>2.0</td>\n      <td>0.0</td>\n      <td>0.0</td>\n    </tr>\n    <tr>\n      <th>1</th>\n      <td>3.0</td>\n      <td>2.0</td>\n      <td>2505.0</td>\n      <td>53.0</td>\n      <td>1.0</td>\n      <td>2.0</td>\n      <td>0.0</td>\n      <td>0.0</td>\n    </tr>\n    <tr>\n      <th>2</th>\n      <td>3.0</td>\n      <td>2.0</td>\n      <td>6358.0</td>\n      <td>53.0</td>\n      <td>1.0</td>\n      <td>2.0</td>\n      <td>0.0</td>\n      <td>0.0</td>\n    </tr>\n    <tr>\n      <th>3</th>\n      <td>3.0</td>\n      <td>2.0</td>\n      <td>3453.0</td>\n      <td>53.0</td>\n      <td>26.0</td>\n      <td>2.0</td>\n      <td>0.0</td>\n      <td>0.0</td>\n    </tr>\n    <tr>\n      <th>4</th>\n      <td>3.0</td>\n      <td>2.0</td>\n      <td>2568.0</td>\n      <td>53.0</td>\n      <td>1.0</td>\n      <td>2.0</td>\n      <td>0.0</td>\n      <td>0.0</td>\n    </tr>\n    <tr>\n      <th>...</th>\n      <td>...</td>\n      <td>...</td>\n      <td>...</td>\n      <td>...</td>\n      <td>...</td>\n      <td>...</td>\n      <td>...</td>\n      <td>...</td>\n    </tr>\n    <tr>\n      <th>1285418</th>\n      <td>1.0</td>\n      <td>6968.0</td>\n      <td>6430.0</td>\n      <td>59.0</td>\n      <td>12.0</td>\n      <td>38.0</td>\n      <td>0.0</td>\n      <td>0.0</td>\n    </tr>\n    <tr>\n      <th>1285419</th>\n      <td>1.0</td>\n      <td>2201.0</td>\n      <td>2052.0</td>\n      <td>74.0</td>\n      <td>42.0</td>\n      <td>0.0</td>\n      <td>0.0</td>\n      <td>0.0</td>\n    </tr>\n    <tr>\n      <th>1285420</th>\n      <td>1.0</td>\n      <td>925.0</td>\n      <td>850.0</td>\n      <td>62.0</td>\n      <td>51.0</td>\n      <td>0.0</td>\n      <td>0.0</td>\n      <td>0.0</td>\n    </tr>\n    <tr>\n      <th>1285421</th>\n      <td>1.0</td>\n      <td>2131.0</td>\n      <td>1987.0</td>\n      <td>74.0</td>\n      <td>42.0</td>\n      <td>0.0</td>\n      <td>0.0</td>\n      <td>0.0</td>\n    </tr>\n    <tr>\n      <th>1285422</th>\n      <td>1.0</td>\n      <td>7635.0</td>\n      <td>6965.0</td>\n      <td>62.0</td>\n      <td>51.0</td>\n      <td>0.0</td>\n      <td>0.0</td>\n      <td>0.0</td>\n    </tr>\n  </tbody>\n</table>\n<p>1285423 rows × 8 columns</p>\n</div>"
     },
     "execution_count": 128,
     "metadata": {},
     "output_type": "execute_result"
    }
   ],
   "source": [
    "from sklearn.preprocessing import OrdinalEncoder\n",
    "\n",
    "enc = OrdinalEncoder()\n",
    "lexeme_numeric[[\"language\", \"surface_form\", \"root_form\", \"modifier1\", \"modifier2\", \"modifier3\", \"modifier4\",\n",
    "                \"modifier5\"]] = enc.fit_transform(lexeme_numeric[[\"language\", \"surface_form\", \"root_form\", \"modifier1\",\n",
    "                                                                  \"modifier2\", \"modifier3\", \"modifier4\", \"modifier5\"]])\n",
    "lexeme_numeric\n"
   ],
   "metadata": {
    "collapsed": false,
    "pycharm": {
     "name": "#%%\n"
    }
   }
  },
  {
   "cell_type": "code",
   "execution_count": 26,
   "outputs": [
    {
     "data": {
      "text/plain": "                                         fv_optional_lexeme language  \\\n0              ('de:lernt/lernen<vblex><pri><p3><sg>', 1.0)       de   \n1                 ('de:die/die<det><def><f><sg><nom>', 1.0)       de   \n2                      ('de:mann/mann<n><m><sg><nom>', 1.0)       de   \n3                      ('de:frau/frau<n><f><sg><nom>', 1.0)       de   \n4                ('de:das/das<det><def><nt><sg><nom>', 1.0)       de   \n...                                                     ...      ...   \n11568798                  ('fr:pÃ¨re/pÃ¨re<n><m><sg>', 1.0)       fr   \n11568799              ('fr:cette/ce<det><dem><f><sg>', 1.0)       fr   \n11568800                 ('fr:c'/ce<prn><tn><nt><sg>', 1.0)       fr   \n11568801                ('fr:sa/son<det><pos><f><sg>', 1.0)       fr   \n11568802  ('fr:<*sf>/intÃ©ressant<adj><*gndr><*numb>', 1.0)       fr   \n\n         surface_form     root_form modifier1 modifier2 modifier3 modifier4  \\\n0               lernt        lernen   <vblex>     <pri>      <p3>      <sg>   \n1                 die           die     <det>     <def>       <f>      <sg>   \n2                mann          mann       <n>       <m>      <sg>     <nom>   \n3                frau          frau       <n>       <f>      <sg>     <nom>   \n4                 das           das     <det>     <def>      <nt>      <sg>   \n...               ...           ...       ...       ...       ...       ...   \n11568798        pÃ¨re         pÃ¨re       <n>       <m>      <sg>             \n11568799        cette            ce     <det>     <dem>       <f>      <sg>   \n11568800           c'            ce     <prn>      <tn>      <nt>      <sg>   \n11568801           sa           son     <det>     <pos>       <f>      <sg>   \n11568802        <*sf>  intÃ©ressant     <adj>   <*gndr>   <*numb>             \n\n         modifier5  \n0                   \n1            <nom>  \n2                   \n3                   \n4            <nom>  \n...            ...  \n11568798            \n11568799            \n11568800            \n11568801            \n11568802            \n\n[11568803 rows x 9 columns]",
      "text/html": "<div>\n<style scoped>\n    .dataframe tbody tr th:only-of-type {\n        vertical-align: middle;\n    }\n\n    .dataframe tbody tr th {\n        vertical-align: top;\n    }\n\n    .dataframe thead th {\n        text-align: right;\n    }\n</style>\n<table border=\"1\" class=\"dataframe\">\n  <thead>\n    <tr style=\"text-align: right;\">\n      <th></th>\n      <th>fv_optional_lexeme</th>\n      <th>language</th>\n      <th>surface_form</th>\n      <th>root_form</th>\n      <th>modifier1</th>\n      <th>modifier2</th>\n      <th>modifier3</th>\n      <th>modifier4</th>\n      <th>modifier5</th>\n    </tr>\n  </thead>\n  <tbody>\n    <tr>\n      <th>0</th>\n      <td>('de:lernt/lernen&lt;vblex&gt;&lt;pri&gt;&lt;p3&gt;&lt;sg&gt;', 1.0)</td>\n      <td>de</td>\n      <td>lernt</td>\n      <td>lernen</td>\n      <td>&lt;vblex&gt;</td>\n      <td>&lt;pri&gt;</td>\n      <td>&lt;p3&gt;</td>\n      <td>&lt;sg&gt;</td>\n      <td></td>\n    </tr>\n    <tr>\n      <th>1</th>\n      <td>('de:die/die&lt;det&gt;&lt;def&gt;&lt;f&gt;&lt;sg&gt;&lt;nom&gt;', 1.0)</td>\n      <td>de</td>\n      <td>die</td>\n      <td>die</td>\n      <td>&lt;det&gt;</td>\n      <td>&lt;def&gt;</td>\n      <td>&lt;f&gt;</td>\n      <td>&lt;sg&gt;</td>\n      <td>&lt;nom&gt;</td>\n    </tr>\n    <tr>\n      <th>2</th>\n      <td>('de:mann/mann&lt;n&gt;&lt;m&gt;&lt;sg&gt;&lt;nom&gt;', 1.0)</td>\n      <td>de</td>\n      <td>mann</td>\n      <td>mann</td>\n      <td>&lt;n&gt;</td>\n      <td>&lt;m&gt;</td>\n      <td>&lt;sg&gt;</td>\n      <td>&lt;nom&gt;</td>\n      <td></td>\n    </tr>\n    <tr>\n      <th>3</th>\n      <td>('de:frau/frau&lt;n&gt;&lt;f&gt;&lt;sg&gt;&lt;nom&gt;', 1.0)</td>\n      <td>de</td>\n      <td>frau</td>\n      <td>frau</td>\n      <td>&lt;n&gt;</td>\n      <td>&lt;f&gt;</td>\n      <td>&lt;sg&gt;</td>\n      <td>&lt;nom&gt;</td>\n      <td></td>\n    </tr>\n    <tr>\n      <th>4</th>\n      <td>('de:das/das&lt;det&gt;&lt;def&gt;&lt;nt&gt;&lt;sg&gt;&lt;nom&gt;', 1.0)</td>\n      <td>de</td>\n      <td>das</td>\n      <td>das</td>\n      <td>&lt;det&gt;</td>\n      <td>&lt;def&gt;</td>\n      <td>&lt;nt&gt;</td>\n      <td>&lt;sg&gt;</td>\n      <td>&lt;nom&gt;</td>\n    </tr>\n    <tr>\n      <th>...</th>\n      <td>...</td>\n      <td>...</td>\n      <td>...</td>\n      <td>...</td>\n      <td>...</td>\n      <td>...</td>\n      <td>...</td>\n      <td>...</td>\n      <td>...</td>\n    </tr>\n    <tr>\n      <th>11568798</th>\n      <td>('fr:pÃ¨re/pÃ¨re&lt;n&gt;&lt;m&gt;&lt;sg&gt;', 1.0)</td>\n      <td>fr</td>\n      <td>pÃ¨re</td>\n      <td>pÃ¨re</td>\n      <td>&lt;n&gt;</td>\n      <td>&lt;m&gt;</td>\n      <td>&lt;sg&gt;</td>\n      <td></td>\n      <td></td>\n    </tr>\n    <tr>\n      <th>11568799</th>\n      <td>('fr:cette/ce&lt;det&gt;&lt;dem&gt;&lt;f&gt;&lt;sg&gt;', 1.0)</td>\n      <td>fr</td>\n      <td>cette</td>\n      <td>ce</td>\n      <td>&lt;det&gt;</td>\n      <td>&lt;dem&gt;</td>\n      <td>&lt;f&gt;</td>\n      <td>&lt;sg&gt;</td>\n      <td></td>\n    </tr>\n    <tr>\n      <th>11568800</th>\n      <td>('fr:c'/ce&lt;prn&gt;&lt;tn&gt;&lt;nt&gt;&lt;sg&gt;', 1.0)</td>\n      <td>fr</td>\n      <td>c'</td>\n      <td>ce</td>\n      <td>&lt;prn&gt;</td>\n      <td>&lt;tn&gt;</td>\n      <td>&lt;nt&gt;</td>\n      <td>&lt;sg&gt;</td>\n      <td></td>\n    </tr>\n    <tr>\n      <th>11568801</th>\n      <td>('fr:sa/son&lt;det&gt;&lt;pos&gt;&lt;f&gt;&lt;sg&gt;', 1.0)</td>\n      <td>fr</td>\n      <td>sa</td>\n      <td>son</td>\n      <td>&lt;det&gt;</td>\n      <td>&lt;pos&gt;</td>\n      <td>&lt;f&gt;</td>\n      <td>&lt;sg&gt;</td>\n      <td></td>\n    </tr>\n    <tr>\n      <th>11568802</th>\n      <td>('fr:&lt;*sf&gt;/intÃ©ressant&lt;adj&gt;&lt;*gndr&gt;&lt;*numb&gt;', 1.0)</td>\n      <td>fr</td>\n      <td>&lt;*sf&gt;</td>\n      <td>intÃ©ressant</td>\n      <td>&lt;adj&gt;</td>\n      <td>&lt;*gndr&gt;</td>\n      <td>&lt;*numb&gt;</td>\n      <td></td>\n      <td></td>\n    </tr>\n  </tbody>\n</table>\n<p>11568803 rows × 9 columns</p>\n</div>"
     },
     "execution_count": 26,
     "metadata": {},
     "output_type": "execute_result"
    }
   ],
   "source": [
    "lexeme_binary = lexeme.copy()\n",
    "lexeme_binary = lexeme_binary.fillna('')\n",
    "lexeme_binary"
   ],
   "metadata": {
    "collapsed": false,
    "pycharm": {
     "name": "#%%\n"
    }
   }
  },
  {
   "cell_type": "code",
   "execution_count": 27,
   "outputs": [
    {
     "data": {
      "text/plain": "             root_form       p language\n0               lernen  0.9999       de\n1                  die  0.5000       de\n2                 mann  0.9999       de\n3                 frau  0.5000       de\n4                  das  0.9999       de\n...                ...     ...      ...\n11568798         pÃ¨re  0.9999       fr\n11568799            ce  0.9999       fr\n11568800            ce  0.9999       fr\n11568801           son  0.0001       fr\n11568802  intÃ©ressant  0.9999       fr\n\n[11568803 rows x 3 columns]",
      "text/html": "<div>\n<style scoped>\n    .dataframe tbody tr th:only-of-type {\n        vertical-align: middle;\n    }\n\n    .dataframe tbody tr th {\n        vertical-align: top;\n    }\n\n    .dataframe thead th {\n        text-align: right;\n    }\n</style>\n<table border=\"1\" class=\"dataframe\">\n  <thead>\n    <tr style=\"text-align: right;\">\n      <th></th>\n      <th>root_form</th>\n      <th>p</th>\n      <th>language</th>\n    </tr>\n  </thead>\n  <tbody>\n    <tr>\n      <th>0</th>\n      <td>lernen</td>\n      <td>0.9999</td>\n      <td>de</td>\n    </tr>\n    <tr>\n      <th>1</th>\n      <td>die</td>\n      <td>0.5000</td>\n      <td>de</td>\n    </tr>\n    <tr>\n      <th>2</th>\n      <td>mann</td>\n      <td>0.9999</td>\n      <td>de</td>\n    </tr>\n    <tr>\n      <th>3</th>\n      <td>frau</td>\n      <td>0.5000</td>\n      <td>de</td>\n    </tr>\n    <tr>\n      <th>4</th>\n      <td>das</td>\n      <td>0.9999</td>\n      <td>de</td>\n    </tr>\n    <tr>\n      <th>...</th>\n      <td>...</td>\n      <td>...</td>\n      <td>...</td>\n    </tr>\n    <tr>\n      <th>11568798</th>\n      <td>pÃ¨re</td>\n      <td>0.9999</td>\n      <td>fr</td>\n    </tr>\n    <tr>\n      <th>11568799</th>\n      <td>ce</td>\n      <td>0.9999</td>\n      <td>fr</td>\n    </tr>\n    <tr>\n      <th>11568800</th>\n      <td>ce</td>\n      <td>0.9999</td>\n      <td>fr</td>\n    </tr>\n    <tr>\n      <th>11568801</th>\n      <td>son</td>\n      <td>0.0001</td>\n      <td>fr</td>\n    </tr>\n    <tr>\n      <th>11568802</th>\n      <td>intÃ©ressant</td>\n      <td>0.9999</td>\n      <td>fr</td>\n    </tr>\n  </tbody>\n</table>\n<p>11568803 rows × 3 columns</p>\n</div>"
     },
     "execution_count": 27,
     "metadata": {},
     "output_type": "execute_result"
    }
   ],
   "source": [
    "lexeme_binary_root = pd.DataFrame({\"root_form\":lexeme_binary[\"root_form\"],\n",
    "                                   \"p\":data_postprocess_train[\"p\"],\n",
    "                                   \"language\":lexeme_binary[\"language\"]})\n",
    "lexeme_binary_root"
   ],
   "metadata": {
    "collapsed": false,
    "pycharm": {
     "name": "#%%\n"
    }
   }
  },
  {
   "cell_type": "code",
   "execution_count": 129,
   "outputs": [
    {
     "name": "stdout",
     "output_type": "stream",
     "text": [
      "['de' 'en' 'es' 'fr' 'it' 'pt']\n"
     ]
    }
   ],
   "source": [
    "print(np.unique(lexeme_binary_root[\"language\"]))"
   ],
   "metadata": {
    "collapsed": false,
    "pycharm": {
     "name": "#%%\n"
    }
   }
  },
  {
   "cell_type": "code",
   "execution_count": 28,
   "outputs": [],
   "source": [
    "lexeme_binary_root_de = lexeme_binary_root[lexeme_binary_root[\"language\"]==\"de\"]\n",
    "lexeme_binary_root_en = lexeme_binary_root[lexeme_binary_root[\"language\"]==\"en\"]\n",
    "lexeme_binary_root_es = lexeme_binary_root[lexeme_binary_root[\"language\"]==\"es\"]\n",
    "lexeme_binary_root_fr = lexeme_binary_root[lexeme_binary_root[\"language\"]==\"fr\"]\n",
    "lexeme_binary_root_it = lexeme_binary_root[lexeme_binary_root[\"language\"]==\"it\"]\n",
    "lexeme_binary_root_pt = lexeme_binary_root[lexeme_binary_root[\"language\"]==\"pt\"]"
   ],
   "metadata": {
    "collapsed": false,
    "pycharm": {
     "name": "#%%\n"
    }
   }
  },
  {
   "cell_type": "code",
   "execution_count": 29,
   "outputs": [],
   "source": [
    "del lexeme_binary_root_de[\"language\"]\n",
    "del lexeme_binary_root_en[\"language\"]\n",
    "del lexeme_binary_root_es[\"language\"]\n",
    "del lexeme_binary_root_fr[\"language\"]\n",
    "del lexeme_binary_root_it[\"language\"]\n",
    "del lexeme_binary_root_pt[\"language\"]"
   ],
   "metadata": {
    "collapsed": false,
    "pycharm": {
     "name": "#%%\n"
    }
   }
  },
  {
   "cell_type": "code",
   "execution_count": 31,
   "outputs": [
    {
     "name": "stdout",
     "output_type": "stream",
     "text": [
      "ein                67966\n",
      "essen              46039\n",
      "die                42861\n",
      "das                35188\n",
      "trinken            33302\n",
      "                   ...  \n",
      "rathaus                1\n",
      "vorschrift             1\n",
      "polizei                1\n",
      "bundesregierung        1\n",
      "kapitel                1\n",
      "Name: root_form, Length: 1879, dtype: int64\n"
     ]
    }
   ],
   "source": [
    "print(pd.value_counts(lexeme_binary_root_de[\"root_form\"]))"
   ],
   "metadata": {
    "collapsed": false,
    "pycharm": {
     "name": "#%%\n"
    }
   }
  },
  {
   "cell_type": "code",
   "execution_count": 30,
   "outputs": [
    {
     "data": {
      "text/plain": "         root_form       p\n0           lernen  0.9999\n1              die  0.5000\n2             mann  0.9999\n3             frau  0.5000\n4              das  0.9999\n...            ...     ...\n11568560   trinken  0.9999\n11568561      kind  0.5000\n11568562       das  0.9999\n11568563   spielen  0.9999\n11568564        du  0.9999\n\n[1301317 rows x 2 columns]",
      "text/html": "<div>\n<style scoped>\n    .dataframe tbody tr th:only-of-type {\n        vertical-align: middle;\n    }\n\n    .dataframe tbody tr th {\n        vertical-align: top;\n    }\n\n    .dataframe thead th {\n        text-align: right;\n    }\n</style>\n<table border=\"1\" class=\"dataframe\">\n  <thead>\n    <tr style=\"text-align: right;\">\n      <th></th>\n      <th>root_form</th>\n      <th>p</th>\n    </tr>\n  </thead>\n  <tbody>\n    <tr>\n      <th>0</th>\n      <td>lernen</td>\n      <td>0.9999</td>\n    </tr>\n    <tr>\n      <th>1</th>\n      <td>die</td>\n      <td>0.5000</td>\n    </tr>\n    <tr>\n      <th>2</th>\n      <td>mann</td>\n      <td>0.9999</td>\n    </tr>\n    <tr>\n      <th>3</th>\n      <td>frau</td>\n      <td>0.5000</td>\n    </tr>\n    <tr>\n      <th>4</th>\n      <td>das</td>\n      <td>0.9999</td>\n    </tr>\n    <tr>\n      <th>...</th>\n      <td>...</td>\n      <td>...</td>\n    </tr>\n    <tr>\n      <th>11568560</th>\n      <td>trinken</td>\n      <td>0.9999</td>\n    </tr>\n    <tr>\n      <th>11568561</th>\n      <td>kind</td>\n      <td>0.5000</td>\n    </tr>\n    <tr>\n      <th>11568562</th>\n      <td>das</td>\n      <td>0.9999</td>\n    </tr>\n    <tr>\n      <th>11568563</th>\n      <td>spielen</td>\n      <td>0.9999</td>\n    </tr>\n    <tr>\n      <th>11568564</th>\n      <td>du</td>\n      <td>0.9999</td>\n    </tr>\n  </tbody>\n</table>\n<p>1301317 rows × 2 columns</p>\n</div>"
     },
     "execution_count": 30,
     "metadata": {},
     "output_type": "execute_result"
    }
   ],
   "source": [
    "lexeme_binary_root_de_filtered=lexeme_binary_root_de.groupby(\"root_form\").filter(lambda x: len(x) > 10)\n",
    "lexeme_binary_root_en_filtered=lexeme_binary_root_en.groupby(\"root_form\").filter(lambda x: len(x) > 10)\n",
    "lexeme_binary_root_es_filtered=lexeme_binary_root_es.groupby(\"root_form\").filter(lambda x: len(x) > 10)\n",
    "lexeme_binary_root_fr_filtered=lexeme_binary_root_fr.groupby(\"root_form\").filter(lambda x: len(x) > 10)\n",
    "lexeme_binary_root_it_filtered=lexeme_binary_root_it.groupby(\"root_form\").filter(lambda x: len(x) > 10)\n",
    "lexeme_binary_root_pt_filtered=lexeme_binary_root_pt.groupby(\"root_form\").filter(lambda x: len(x) > 10)\n",
    "lexeme_binary_root_de_filtered"
   ],
   "metadata": {
    "collapsed": false,
    "pycharm": {
     "name": "#%%\n"
    }
   }
  },
  {
   "cell_type": "code",
   "execution_count": 31,
   "outputs": [
    {
     "data": {
      "text/plain": "               p  root_form_ab  root_form_abend  root_form_abgeben  \\\n0         0.9999             0                0                  0   \n1         0.5000             0                0                  0   \n2         0.9999             0                0                  0   \n3         0.5000             0                0                  0   \n4         0.9999             0                0                  0   \n...          ...           ...              ...                ...   \n11568560  0.9999             0                0                  0   \n11568561  0.5000             0                0                  0   \n11568562  0.9999             0                0                  0   \n11568563  0.9999             0                0                  0   \n11568564  0.9999             0                0                  0   \n\n          root_form_abhÃ¤ngig  root_form_ablauf  root_form_abmelden  \\\n0                           0                 0                   0   \n1                           0                 0                   0   \n2                           0                 0                   0   \n3                           0                 0                   0   \n4                           0                 0                   0   \n...                       ...               ...                 ...   \n11568560                    0                 0                   0   \n11568561                    0                 0                   0   \n11568562                    0                 0                   0   \n11568563                    0                 0                   0   \n11568564                    0                 0                   0   \n\n          root_form_absatz  root_form_acht  root_form_achten  ...  \\\n0                        0               0                 0  ...   \n1                        0               0                 0  ...   \n2                        0               0                 0  ...   \n3                        0               0                 0  ...   \n4                        0               0                 0  ...   \n...                    ...             ...               ...  ...   \n11568560                 0               0                 0  ...   \n11568561                 0               0                 0  ...   \n11568562                 0               0                 0  ...   \n11568563                 0               0                 0  ...   \n11568564                 0               0                 0  ...   \n\n          root_form_Ã¶ffentlich  root_form_Ã¶ffentlichkeit  root_form_Ã¶ffnen  \\\n0                             0                          0                  0   \n1                             0                          0                  0   \n2                             0                          0                  0   \n3                             0                          0                  0   \n4                             0                          0                  0   \n...                         ...                        ...                ...   \n11568560                      0                          0                  0   \n11568561                      0                          0                  0   \n11568562                      0                          0                  0   \n11568563                      0                          0                  0   \n11568564                      0                          0                  0   \n\n          root_form_Ã¶l  root_form_Ã¼ber  root_form_Ã¼berall  \\\n0                     0                0                   0   \n1                     0                0                   0   \n2                     0                0                   0   \n3                     0                0                   0   \n4                     0                0                   0   \n...                 ...              ...                 ...   \n11568560              0                0                   0   \n11568561              0                0                   0   \n11568562              0                0                   0   \n11568563              0                0                   0   \n11568564              0                0                   0   \n\n          root_form_Ã¼berhaupt  root_form_Ã¼bernehmen  root_form_Ã¼brig  \\\n0                            0                      0                 0   \n1                            0                      0                 0   \n2                            0                      0                 0   \n3                            0                      0                 0   \n4                            0                      0                 0   \n...                        ...                    ...               ...   \n11568560                     0                      0                 0   \n11568561                     0                      0                 0   \n11568562                     0                      0                 0   \n11568563                     0                      0                 0   \n11568564                     0                      0                 0   \n\n          root_form_Ã¼brigens  \n0                           0  \n1                           0  \n2                           0  \n3                           0  \n4                           0  \n...                       ...  \n11568560                    0  \n11568561                    0  \n11568562                    0  \n11568563                    0  \n11568564                    0  \n\n[1301317 rows x 1180 columns]",
      "text/html": "<div>\n<style scoped>\n    .dataframe tbody tr th:only-of-type {\n        vertical-align: middle;\n    }\n\n    .dataframe tbody tr th {\n        vertical-align: top;\n    }\n\n    .dataframe thead th {\n        text-align: right;\n    }\n</style>\n<table border=\"1\" class=\"dataframe\">\n  <thead>\n    <tr style=\"text-align: right;\">\n      <th></th>\n      <th>p</th>\n      <th>root_form_ab</th>\n      <th>root_form_abend</th>\n      <th>root_form_abgeben</th>\n      <th>root_form_abhÃ¤ngig</th>\n      <th>root_form_ablauf</th>\n      <th>root_form_abmelden</th>\n      <th>root_form_absatz</th>\n      <th>root_form_acht</th>\n      <th>root_form_achten</th>\n      <th>...</th>\n      <th>root_form_Ã¶ffentlich</th>\n      <th>root_form_Ã¶ffentlichkeit</th>\n      <th>root_form_Ã¶ffnen</th>\n      <th>root_form_Ã¶l</th>\n      <th>root_form_Ã¼ber</th>\n      <th>root_form_Ã¼berall</th>\n      <th>root_form_Ã¼berhaupt</th>\n      <th>root_form_Ã¼bernehmen</th>\n      <th>root_form_Ã¼brig</th>\n      <th>root_form_Ã¼brigens</th>\n    </tr>\n  </thead>\n  <tbody>\n    <tr>\n      <th>0</th>\n      <td>0.9999</td>\n      <td>0</td>\n      <td>0</td>\n      <td>0</td>\n      <td>0</td>\n      <td>0</td>\n      <td>0</td>\n      <td>0</td>\n      <td>0</td>\n      <td>0</td>\n      <td>...</td>\n      <td>0</td>\n      <td>0</td>\n      <td>0</td>\n      <td>0</td>\n      <td>0</td>\n      <td>0</td>\n      <td>0</td>\n      <td>0</td>\n      <td>0</td>\n      <td>0</td>\n    </tr>\n    <tr>\n      <th>1</th>\n      <td>0.5000</td>\n      <td>0</td>\n      <td>0</td>\n      <td>0</td>\n      <td>0</td>\n      <td>0</td>\n      <td>0</td>\n      <td>0</td>\n      <td>0</td>\n      <td>0</td>\n      <td>...</td>\n      <td>0</td>\n      <td>0</td>\n      <td>0</td>\n      <td>0</td>\n      <td>0</td>\n      <td>0</td>\n      <td>0</td>\n      <td>0</td>\n      <td>0</td>\n      <td>0</td>\n    </tr>\n    <tr>\n      <th>2</th>\n      <td>0.9999</td>\n      <td>0</td>\n      <td>0</td>\n      <td>0</td>\n      <td>0</td>\n      <td>0</td>\n      <td>0</td>\n      <td>0</td>\n      <td>0</td>\n      <td>0</td>\n      <td>...</td>\n      <td>0</td>\n      <td>0</td>\n      <td>0</td>\n      <td>0</td>\n      <td>0</td>\n      <td>0</td>\n      <td>0</td>\n      <td>0</td>\n      <td>0</td>\n      <td>0</td>\n    </tr>\n    <tr>\n      <th>3</th>\n      <td>0.5000</td>\n      <td>0</td>\n      <td>0</td>\n      <td>0</td>\n      <td>0</td>\n      <td>0</td>\n      <td>0</td>\n      <td>0</td>\n      <td>0</td>\n      <td>0</td>\n      <td>...</td>\n      <td>0</td>\n      <td>0</td>\n      <td>0</td>\n      <td>0</td>\n      <td>0</td>\n      <td>0</td>\n      <td>0</td>\n      <td>0</td>\n      <td>0</td>\n      <td>0</td>\n    </tr>\n    <tr>\n      <th>4</th>\n      <td>0.9999</td>\n      <td>0</td>\n      <td>0</td>\n      <td>0</td>\n      <td>0</td>\n      <td>0</td>\n      <td>0</td>\n      <td>0</td>\n      <td>0</td>\n      <td>0</td>\n      <td>...</td>\n      <td>0</td>\n      <td>0</td>\n      <td>0</td>\n      <td>0</td>\n      <td>0</td>\n      <td>0</td>\n      <td>0</td>\n      <td>0</td>\n      <td>0</td>\n      <td>0</td>\n    </tr>\n    <tr>\n      <th>...</th>\n      <td>...</td>\n      <td>...</td>\n      <td>...</td>\n      <td>...</td>\n      <td>...</td>\n      <td>...</td>\n      <td>...</td>\n      <td>...</td>\n      <td>...</td>\n      <td>...</td>\n      <td>...</td>\n      <td>...</td>\n      <td>...</td>\n      <td>...</td>\n      <td>...</td>\n      <td>...</td>\n      <td>...</td>\n      <td>...</td>\n      <td>...</td>\n      <td>...</td>\n      <td>...</td>\n    </tr>\n    <tr>\n      <th>11568560</th>\n      <td>0.9999</td>\n      <td>0</td>\n      <td>0</td>\n      <td>0</td>\n      <td>0</td>\n      <td>0</td>\n      <td>0</td>\n      <td>0</td>\n      <td>0</td>\n      <td>0</td>\n      <td>...</td>\n      <td>0</td>\n      <td>0</td>\n      <td>0</td>\n      <td>0</td>\n      <td>0</td>\n      <td>0</td>\n      <td>0</td>\n      <td>0</td>\n      <td>0</td>\n      <td>0</td>\n    </tr>\n    <tr>\n      <th>11568561</th>\n      <td>0.5000</td>\n      <td>0</td>\n      <td>0</td>\n      <td>0</td>\n      <td>0</td>\n      <td>0</td>\n      <td>0</td>\n      <td>0</td>\n      <td>0</td>\n      <td>0</td>\n      <td>...</td>\n      <td>0</td>\n      <td>0</td>\n      <td>0</td>\n      <td>0</td>\n      <td>0</td>\n      <td>0</td>\n      <td>0</td>\n      <td>0</td>\n      <td>0</td>\n      <td>0</td>\n    </tr>\n    <tr>\n      <th>11568562</th>\n      <td>0.9999</td>\n      <td>0</td>\n      <td>0</td>\n      <td>0</td>\n      <td>0</td>\n      <td>0</td>\n      <td>0</td>\n      <td>0</td>\n      <td>0</td>\n      <td>0</td>\n      <td>...</td>\n      <td>0</td>\n      <td>0</td>\n      <td>0</td>\n      <td>0</td>\n      <td>0</td>\n      <td>0</td>\n      <td>0</td>\n      <td>0</td>\n      <td>0</td>\n      <td>0</td>\n    </tr>\n    <tr>\n      <th>11568563</th>\n      <td>0.9999</td>\n      <td>0</td>\n      <td>0</td>\n      <td>0</td>\n      <td>0</td>\n      <td>0</td>\n      <td>0</td>\n      <td>0</td>\n      <td>0</td>\n      <td>0</td>\n      <td>...</td>\n      <td>0</td>\n      <td>0</td>\n      <td>0</td>\n      <td>0</td>\n      <td>0</td>\n      <td>0</td>\n      <td>0</td>\n      <td>0</td>\n      <td>0</td>\n      <td>0</td>\n    </tr>\n    <tr>\n      <th>11568564</th>\n      <td>0.9999</td>\n      <td>0</td>\n      <td>0</td>\n      <td>0</td>\n      <td>0</td>\n      <td>0</td>\n      <td>0</td>\n      <td>0</td>\n      <td>0</td>\n      <td>0</td>\n      <td>...</td>\n      <td>0</td>\n      <td>0</td>\n      <td>0</td>\n      <td>0</td>\n      <td>0</td>\n      <td>0</td>\n      <td>0</td>\n      <td>0</td>\n      <td>0</td>\n      <td>0</td>\n    </tr>\n  </tbody>\n</table>\n<p>1301317 rows × 1180 columns</p>\n</div>"
     },
     "execution_count": 31,
     "metadata": {},
     "output_type": "execute_result"
    }
   ],
   "source": [
    "lexeme_binary_root_de_filtered=pd.get_dummies(data=lexeme_binary_root_de_filtered, columns=[\"root_form\"])\n",
    "lexeme_binary_root_de_filtered"
   ],
   "metadata": {
    "collapsed": false,
    "pycharm": {
     "name": "#%%\n"
    }
   }
  },
  {
   "cell_type": "markdown",
   "source": [],
   "metadata": {
    "collapsed": false
   }
  },
  {
   "cell_type": "code",
   "execution_count": 32,
   "outputs": [
    {
     "data": {
      "text/plain": "p                        1.000000\nroot_form_ab            -0.006421\nroot_form_abend          0.000547\nroot_form_abgeben       -0.007736\nroot_form_abhÃ¤ngig     -0.000259\n                           ...   \nroot_form_Ã¼berall      -0.002487\nroot_form_Ã¼berhaupt    -0.000524\nroot_form_Ã¼bernehmen   -0.003618\nroot_form_Ã¼brig        -0.002713\nroot_form_Ã¼brigens     -0.002430\nLength: 1180, dtype: float64"
     },
     "execution_count": 32,
     "metadata": {},
     "output_type": "execute_result"
    }
   ],
   "source": [
    "lexeme_binary_root_de_filtered.corrwith(lexeme_binary_root_de_filtered[\"p\"])"
   ],
   "metadata": {
    "collapsed": false,
    "pycharm": {
     "name": "#%%\n"
    }
   }
  },
  {
   "cell_type": "code",
   "execution_count": 33,
   "outputs": [
    {
     "data": {
      "text/plain": "p                     1.000000\nroot_form_'          -0.003768\nroot_form_'s          0.005118\nroot_form_a          -0.014540\nroot_form_able       -0.006248\n                        ...   \nroot_form_your       -0.008611\nroot_form_yours       0.003733\nroot_form_yourself   -0.002602\nroot_form_youth       0.000457\nroot_form_zone        0.000700\nLength: 1404, dtype: float64"
     },
     "execution_count": 33,
     "metadata": {},
     "output_type": "execute_result"
    }
   ],
   "source": [
    "lexeme_binary_root_en_filtered=pd.get_dummies(data=lexeme_binary_root_en_filtered, columns=[\"root_form\"])\n",
    "lexeme_binary_root_en_filtered.corrwith(lexeme_binary_root_en_filtered[\"p\"])"
   ],
   "metadata": {
    "collapsed": false,
    "pycharm": {
     "name": "#%%\n"
    }
   }
  },
  {
   "cell_type": "code",
   "execution_count": 34,
   "outputs": [
    {
     "data": {
      "text/plain": "p                        1.000000\nroot_form_a             -0.009632\nroot_form_abandonar     -0.001499\nroot_form_abierto       -0.003296\nroot_form_abogado        0.003128\n                           ...   \nroot_form_Ã³rgano        0.000911\nroot_form_Ãºltimo       -0.001415\nroot_form_Ãºnicamente    0.000994\nroot_form_Ãºnico         0.001648\nroot_form_Ãºtil         -0.000507\nLength: 1694, dtype: float64"
     },
     "execution_count": 34,
     "metadata": {},
     "output_type": "execute_result"
    }
   ],
   "source": [
    "lexeme_binary_root_es_filtered=pd.get_dummies(data=lexeme_binary_root_es_filtered, columns=[\"root_form\"])\n",
    "lexeme_binary_root_es_filtered.corrwith(lexeme_binary_root_es_filtered[\"p\"])"
   ],
   "metadata": {
    "collapsed": false,
    "pycharm": {
     "name": "#%%\n"
    }
   }
  },
  {
   "cell_type": "code",
   "execution_count": 35,
   "outputs": [
    {
     "data": {
      "text/plain": "p                       1.000000\nroot_form_abandonner   -0.000624\nroot_form_abeille      -0.001697\nroot_form_absolument   -0.000053\nroot_form_accepter      0.000366\n                          ...   \nroot_form_Ã©viter      -0.003088\nroot_form_Ãªtre         0.013598\nroot_form_Ã®le         -0.001775\nroot_form_Åil         -0.001160\nroot_form_Åuf          0.000770\nLength: 1267, dtype: float64"
     },
     "execution_count": 35,
     "metadata": {},
     "output_type": "execute_result"
    }
   ],
   "source": [
    "lexeme_binary_root_fr_filtered=pd.get_dummies(data=lexeme_binary_root_fr_filtered, columns=[\"root_form\"])\n",
    "lexeme_binary_root_fr_filtered.corrwith(lexeme_binary_root_fr_filtered[\"p\"])"
   ],
   "metadata": {
    "collapsed": false,
    "pycharm": {
     "name": "#%%\n"
    }
   }
  },
  {
   "cell_type": "code",
   "execution_count": 36,
   "outputs": [
    {
     "data": {
      "text/plain": "p                          1.000000\nroot_form_a               -0.005765\nroot_form_abbassare       -0.001337\nroot_form_abbastanza       0.001256\nroot_form_abbigliamento   -0.008588\n                             ...   \nroot_form_zio              0.003453\nroot_form_zona             0.001508\nroot_form_zoo              0.001843\nroot_form_zucchero        -0.000751\nroot_form_zuppa            0.000393\nLength: 978, dtype: float64"
     },
     "execution_count": 36,
     "metadata": {},
     "output_type": "execute_result"
    }
   ],
   "source": [
    "lexeme_binary_root_it_filtered=pd.get_dummies(data=lexeme_binary_root_it_filtered, columns=[\"root_form\"])\n",
    "lexeme_binary_root_it_filtered.corrwith(lexeme_binary_root_it_filtered[\"p\"])"
   ],
   "metadata": {
    "collapsed": false,
    "pycharm": {
     "name": "#%%\n"
    }
   }
  },
  {
   "cell_type": "code",
   "execution_count": 37,
   "outputs": [
    {
     "data": {
      "text/plain": "p                    1.000000\nroot_form_a         -0.022696\nroot_form_abacaxi    0.007024\nroot_form_abelha     0.002982\nroot_form_abril     -0.001217\n                       ...   \nroot_form_Ã©poca    -0.001642\nroot_form_Ã³culo     0.000103\nroot_form_Ã³leo     -0.001810\nroot_form_Ãºltimo    0.002886\nroot_form_Ãºnico     0.002716\nLength: 842, dtype: float64"
     },
     "execution_count": 37,
     "metadata": {},
     "output_type": "execute_result"
    }
   ],
   "source": [
    "lexeme_binary_root_pt_filtered=pd.get_dummies(data=lexeme_binary_root_pt_filtered, columns=[\"root_form\"])\n",
    "lexeme_binary_root_pt_filtered.corrwith(lexeme_binary_root_pt_filtered[\"p\"])"
   ],
   "metadata": {
    "collapsed": false,
    "pycharm": {
     "name": "#%%\n"
    }
   }
  },
  {
   "cell_type": "code",
   "execution_count": 38,
   "outputs": [],
   "source": [
    "#lexeme_binary=pd.get_dummies(data=lexeme_binary, columns=[\"language\",\"surface_form\",\"root_form\",\"modifier1\",\"modifier2\",\"modifier3\",\"modifier4\",\"modifier5\"])\n",
    "lexeme_binary_language=pd.get_dummies(data=lexeme_binary[\"language\"], columns=[\"language\"])"
   ],
   "metadata": {
    "collapsed": false,
    "pycharm": {
     "name": "#%%\n"
    }
   }
  },
  {
   "cell_type": "code",
   "execution_count": 39,
   "outputs": [
    {
     "data": {
      "text/plain": "          de  en  es  fr  it  pt\n0          1   0   0   0   0   0\n1          1   0   0   0   0   0\n2          1   0   0   0   0   0\n3          1   0   0   0   0   0\n4          1   0   0   0   0   0\n...       ..  ..  ..  ..  ..  ..\n11568798   0   0   0   1   0   0\n11568799   0   0   0   1   0   0\n11568800   0   0   0   1   0   0\n11568801   0   0   0   1   0   0\n11568802   0   0   0   1   0   0\n\n[11568803 rows x 6 columns]",
      "text/html": "<div>\n<style scoped>\n    .dataframe tbody tr th:only-of-type {\n        vertical-align: middle;\n    }\n\n    .dataframe tbody tr th {\n        vertical-align: top;\n    }\n\n    .dataframe thead th {\n        text-align: right;\n    }\n</style>\n<table border=\"1\" class=\"dataframe\">\n  <thead>\n    <tr style=\"text-align: right;\">\n      <th></th>\n      <th>de</th>\n      <th>en</th>\n      <th>es</th>\n      <th>fr</th>\n      <th>it</th>\n      <th>pt</th>\n    </tr>\n  </thead>\n  <tbody>\n    <tr>\n      <th>0</th>\n      <td>1</td>\n      <td>0</td>\n      <td>0</td>\n      <td>0</td>\n      <td>0</td>\n      <td>0</td>\n    </tr>\n    <tr>\n      <th>1</th>\n      <td>1</td>\n      <td>0</td>\n      <td>0</td>\n      <td>0</td>\n      <td>0</td>\n      <td>0</td>\n    </tr>\n    <tr>\n      <th>2</th>\n      <td>1</td>\n      <td>0</td>\n      <td>0</td>\n      <td>0</td>\n      <td>0</td>\n      <td>0</td>\n    </tr>\n    <tr>\n      <th>3</th>\n      <td>1</td>\n      <td>0</td>\n      <td>0</td>\n      <td>0</td>\n      <td>0</td>\n      <td>0</td>\n    </tr>\n    <tr>\n      <th>4</th>\n      <td>1</td>\n      <td>0</td>\n      <td>0</td>\n      <td>0</td>\n      <td>0</td>\n      <td>0</td>\n    </tr>\n    <tr>\n      <th>...</th>\n      <td>...</td>\n      <td>...</td>\n      <td>...</td>\n      <td>...</td>\n      <td>...</td>\n      <td>...</td>\n    </tr>\n    <tr>\n      <th>11568798</th>\n      <td>0</td>\n      <td>0</td>\n      <td>0</td>\n      <td>1</td>\n      <td>0</td>\n      <td>0</td>\n    </tr>\n    <tr>\n      <th>11568799</th>\n      <td>0</td>\n      <td>0</td>\n      <td>0</td>\n      <td>1</td>\n      <td>0</td>\n      <td>0</td>\n    </tr>\n    <tr>\n      <th>11568800</th>\n      <td>0</td>\n      <td>0</td>\n      <td>0</td>\n      <td>1</td>\n      <td>0</td>\n      <td>0</td>\n    </tr>\n    <tr>\n      <th>11568801</th>\n      <td>0</td>\n      <td>0</td>\n      <td>0</td>\n      <td>1</td>\n      <td>0</td>\n      <td>0</td>\n    </tr>\n    <tr>\n      <th>11568802</th>\n      <td>0</td>\n      <td>0</td>\n      <td>0</td>\n      <td>1</td>\n      <td>0</td>\n      <td>0</td>\n    </tr>\n  </tbody>\n</table>\n<p>11568803 rows × 6 columns</p>\n</div>"
     },
     "execution_count": 39,
     "metadata": {},
     "output_type": "execute_result"
    }
   ],
   "source": [
    "lexeme_binary_language"
   ],
   "metadata": {
    "collapsed": false,
    "pycharm": {
     "name": "#%%\n"
    }
   }
  },
  {
   "cell_type": "code",
   "execution_count": 40,
   "outputs": [
    {
     "data": {
      "text/plain": "          de  en  es  fr  it  pt       p\n0          1   0   0   0   0   0  0.9999\n1          1   0   0   0   0   0  0.5000\n2          1   0   0   0   0   0  0.9999\n3          1   0   0   0   0   0  0.5000\n4          1   0   0   0   0   0  0.9999\n...       ..  ..  ..  ..  ..  ..     ...\n11568798   0   0   0   1   0   0  0.9999\n11568799   0   0   0   1   0   0  0.9999\n11568800   0   0   0   1   0   0  0.9999\n11568801   0   0   0   1   0   0  0.0001\n11568802   0   0   0   1   0   0  0.9999\n\n[11568803 rows x 7 columns]",
      "text/html": "<div>\n<style scoped>\n    .dataframe tbody tr th:only-of-type {\n        vertical-align: middle;\n    }\n\n    .dataframe tbody tr th {\n        vertical-align: top;\n    }\n\n    .dataframe thead th {\n        text-align: right;\n    }\n</style>\n<table border=\"1\" class=\"dataframe\">\n  <thead>\n    <tr style=\"text-align: right;\">\n      <th></th>\n      <th>de</th>\n      <th>en</th>\n      <th>es</th>\n      <th>fr</th>\n      <th>it</th>\n      <th>pt</th>\n      <th>p</th>\n    </tr>\n  </thead>\n  <tbody>\n    <tr>\n      <th>0</th>\n      <td>1</td>\n      <td>0</td>\n      <td>0</td>\n      <td>0</td>\n      <td>0</td>\n      <td>0</td>\n      <td>0.9999</td>\n    </tr>\n    <tr>\n      <th>1</th>\n      <td>1</td>\n      <td>0</td>\n      <td>0</td>\n      <td>0</td>\n      <td>0</td>\n      <td>0</td>\n      <td>0.5000</td>\n    </tr>\n    <tr>\n      <th>2</th>\n      <td>1</td>\n      <td>0</td>\n      <td>0</td>\n      <td>0</td>\n      <td>0</td>\n      <td>0</td>\n      <td>0.9999</td>\n    </tr>\n    <tr>\n      <th>3</th>\n      <td>1</td>\n      <td>0</td>\n      <td>0</td>\n      <td>0</td>\n      <td>0</td>\n      <td>0</td>\n      <td>0.5000</td>\n    </tr>\n    <tr>\n      <th>4</th>\n      <td>1</td>\n      <td>0</td>\n      <td>0</td>\n      <td>0</td>\n      <td>0</td>\n      <td>0</td>\n      <td>0.9999</td>\n    </tr>\n    <tr>\n      <th>...</th>\n      <td>...</td>\n      <td>...</td>\n      <td>...</td>\n      <td>...</td>\n      <td>...</td>\n      <td>...</td>\n      <td>...</td>\n    </tr>\n    <tr>\n      <th>11568798</th>\n      <td>0</td>\n      <td>0</td>\n      <td>0</td>\n      <td>1</td>\n      <td>0</td>\n      <td>0</td>\n      <td>0.9999</td>\n    </tr>\n    <tr>\n      <th>11568799</th>\n      <td>0</td>\n      <td>0</td>\n      <td>0</td>\n      <td>1</td>\n      <td>0</td>\n      <td>0</td>\n      <td>0.9999</td>\n    </tr>\n    <tr>\n      <th>11568800</th>\n      <td>0</td>\n      <td>0</td>\n      <td>0</td>\n      <td>1</td>\n      <td>0</td>\n      <td>0</td>\n      <td>0.9999</td>\n    </tr>\n    <tr>\n      <th>11568801</th>\n      <td>0</td>\n      <td>0</td>\n      <td>0</td>\n      <td>1</td>\n      <td>0</td>\n      <td>0</td>\n      <td>0.0001</td>\n    </tr>\n    <tr>\n      <th>11568802</th>\n      <td>0</td>\n      <td>0</td>\n      <td>0</td>\n      <td>1</td>\n      <td>0</td>\n      <td>0</td>\n      <td>0.9999</td>\n    </tr>\n  </tbody>\n</table>\n<p>11568803 rows × 7 columns</p>\n</div>"
     },
     "execution_count": 40,
     "metadata": {},
     "output_type": "execute_result"
    }
   ],
   "source": [
    "lexeme_binary_language[\"p\"]=data_postprocess_train[\"p\"]\n",
    "lexeme_binary_language"
   ],
   "metadata": {
    "collapsed": false,
    "pycharm": {
     "name": "#%%\n"
    }
   }
  },
  {
   "cell_type": "code",
   "execution_count": 41,
   "outputs": [
    {
     "data": {
      "text/plain": "de   -0.004847\nen    0.005553\nes    0.005601\nfr   -0.020308\nit    0.011457\npt    0.004966\np     1.000000\ndtype: float64"
     },
     "execution_count": 41,
     "metadata": {},
     "output_type": "execute_result"
    }
   ],
   "source": [
    "lexeme_binary_language.corrwith(lexeme_binary_language[\"p\"])"
   ],
   "metadata": {
    "collapsed": false,
    "pycharm": {
     "name": "#%%\n"
    }
   }
  },
  {
   "cell_type": "code",
   "execution_count": 42,
   "outputs": [],
   "source": [
    "lexeme_binary_modifier1 = pd.DataFrame({\n",
    "                                   \"p\":data_postprocess_train[\"p\"],\n",
    "                                   \"modifier1\":lexeme_binary[\"modifier1\"]\n",
    "                                   })\n",
    "lexeme_binary_modifier2 = pd.DataFrame({\n",
    "                                   \"p\":data_postprocess_train[\"p\"],\n",
    "                                   \"modifier2\":lexeme_binary[\"modifier2\"]\n",
    "                                   })\n",
    "lexeme_binary_modifier3 = pd.DataFrame({\n",
    "                                   \"p\":data_postprocess_train[\"p\"],\n",
    "                                   \"modifier3\":lexeme_binary[\"modifier3\"]\n",
    "                                   })\n",
    "lexeme_binary_modifier4 = pd.DataFrame({\n",
    "                                   \"p\":data_postprocess_train[\"p\"],\n",
    "                                   \"modifier4\":lexeme_binary[\"modifier4\"]\n",
    "                                   })\n",
    "lexeme_binary_modifier5 = pd.DataFrame({\n",
    "                                   \"p\":data_postprocess_train[\"p\"],\n",
    "                                   \"modifier5\":lexeme_binary[\"modifier5\"]\n",
    "                                   })"
   ],
   "metadata": {
    "collapsed": false,
    "pycharm": {
     "name": "#%%\n"
    }
   }
  },
  {
   "cell_type": "code",
   "execution_count": 43,
   "outputs": [
    {
     "data": {
      "text/plain": "               p modifier1\n0         0.9999   <vblex>\n1         0.5000     <det>\n2         0.9999       <n>\n3         0.5000       <n>\n4         0.9999     <det>\n...          ...       ...\n11568798  0.9999       <n>\n11568799  0.9999     <det>\n11568800  0.9999     <prn>\n11568801  0.0001     <det>\n11568802  0.9999     <adj>\n\n[11568803 rows x 2 columns]",
      "text/html": "<div>\n<style scoped>\n    .dataframe tbody tr th:only-of-type {\n        vertical-align: middle;\n    }\n\n    .dataframe tbody tr th {\n        vertical-align: top;\n    }\n\n    .dataframe thead th {\n        text-align: right;\n    }\n</style>\n<table border=\"1\" class=\"dataframe\">\n  <thead>\n    <tr style=\"text-align: right;\">\n      <th></th>\n      <th>p</th>\n      <th>modifier1</th>\n    </tr>\n  </thead>\n  <tbody>\n    <tr>\n      <th>0</th>\n      <td>0.9999</td>\n      <td>&lt;vblex&gt;</td>\n    </tr>\n    <tr>\n      <th>1</th>\n      <td>0.5000</td>\n      <td>&lt;det&gt;</td>\n    </tr>\n    <tr>\n      <th>2</th>\n      <td>0.9999</td>\n      <td>&lt;n&gt;</td>\n    </tr>\n    <tr>\n      <th>3</th>\n      <td>0.5000</td>\n      <td>&lt;n&gt;</td>\n    </tr>\n    <tr>\n      <th>4</th>\n      <td>0.9999</td>\n      <td>&lt;det&gt;</td>\n    </tr>\n    <tr>\n      <th>...</th>\n      <td>...</td>\n      <td>...</td>\n    </tr>\n    <tr>\n      <th>11568798</th>\n      <td>0.9999</td>\n      <td>&lt;n&gt;</td>\n    </tr>\n    <tr>\n      <th>11568799</th>\n      <td>0.9999</td>\n      <td>&lt;det&gt;</td>\n    </tr>\n    <tr>\n      <th>11568800</th>\n      <td>0.9999</td>\n      <td>&lt;prn&gt;</td>\n    </tr>\n    <tr>\n      <th>11568801</th>\n      <td>0.0001</td>\n      <td>&lt;det&gt;</td>\n    </tr>\n    <tr>\n      <th>11568802</th>\n      <td>0.9999</td>\n      <td>&lt;adj&gt;</td>\n    </tr>\n  </tbody>\n</table>\n<p>11568803 rows × 2 columns</p>\n</div>"
     },
     "execution_count": 43,
     "metadata": {},
     "output_type": "execute_result"
    }
   ],
   "source": [
    "lexeme_binary_modifier1"
   ],
   "metadata": {
    "collapsed": false,
    "pycharm": {
     "name": "#%%\n"
    }
   }
  },
  {
   "cell_type": "code",
   "execution_count": 63,
   "outputs": [
    {
     "name": "stdout",
     "output_type": "stream",
     "text": [
      "modifier1: ['' '<@adv:a_part>' '<@adv:a_peu_pres>' '<@adv:a_posteriori>'\n",
      " '<@adv:a_priori>' '<@adv:au_dela>' '<@adv:au_moins>' '<@adv:en_fait>'\n",
      " '<@adv:en_general>' '<@adv:peut_etre>' '<@adv:por_favor>'\n",
      " '<@adv:por_supuesto>' '<@adv:s_il_te_plait>' '<@adv:s_il_vous_plait>'\n",
      " '<@adv:tout_a_fait>' '<@cnj:alors_que>' '<@cnj:apres_que>'\n",
      " '<@cnj:autant_que>' '<@cnj:avant_que>' '<@cnj:bien_que>'\n",
      " '<@cnj:depuis_que>' '<@cnj:des_que>' '<@cnj:du_fait_que>'\n",
      " '<@cnj:parce_que>' '<@cnj:pendant_que>' '<@cnj:pour_que>'\n",
      " '<@cnj:tandis_que>' '<@common_phrases:a_bientot>'\n",
      " '<@common_phrases:a_demain>' '<@common_phrases:a_plus>'\n",
      " '<@common_phrases:a_plus_tard>' '<@common_phrases:ca_va_bien>'\n",
      " '<@common_phrases:comment_ca_va>' '<@common_phrases:de_rien>'\n",
      " '<@common_phrases:il_y_a>' '<@ij:au_revoir>' '<@ij:auf_wiedersehen>'\n",
      " '<@ij:bis_bald>' '<@ij:buenas_noches>' '<@ij:buenos_dias>'\n",
      " '<@ij:merci_beaucoup>' '<@ij:thank_you>' '<@itg:est_ce_que>'\n",
      " '<@itg:que_est_ce_que>' '<@neg:pas_du_tout>' '<@neg:plus_de>'\n",
      " '<@pr:a_cause_de>' '<@pr:a_cote_de>' '<@pr:a_travers>' '<@pr:afin_de>'\n",
      " '<@pr:au_dela_de>' '<@pr:autant_de>' '<@pr:plus_de>' '<@pr:pres_de>'\n",
      " '<@pr:un_peu_de>' '<@prn:n_importe_quoi>' '<adj>' '<adv>' '<apos>'\n",
      " '<cnjadv>' '<cnjcoo>' '<cnjsub>' '<det>' '<gen>' '<ij>' '<n>' '<np>'\n",
      " '<num>' '<ord>' '<pprep>' '<pr>' '<preadv>' '<predet>' '<prn>' '<rel>'\n",
      " '<vaux>' '<vbdo>' '<vbhaver>' '<vblex>' '<vbmod>' '<vbser>']\n",
      "modifier2: ['' '<*gndr>' '<*numb>' '<@pos>' '<aa>' '<acc>' '<acr>' '<adv>' '<an>'\n",
      " '<ant>' '<cni>' '<comp>' '<dat>' '<def>' '<dem>' '<det>' '<f>' '<fti>'\n",
      " '<gen>' '<ger>' '<ifi>' '<imp>' '<ind>' '<inf>' '<itg>' '<loc>' '<m>'\n",
      " '<mf>' '<n>' '<nn>' '<nt>' '<obj>' '<ord>' '<p1>' '<p2>' '<p3>' '<past>'\n",
      " '<pii>' '<pis>' '<pl>' '<pos>' '<pp>' '<pprs>' '<pres>' '<pri>' '<prn>'\n",
      " '<pro>' '<pron>' '<prs>' '<pst>' '<qnt>' '<ref>' '<rel>' '<sg>' '<sint>'\n",
      " '<sp>' '<subj>' '<suff>' '<sup>' '<tn>']\n",
      "modifier3: ['' '<*gndr>' '<*numb>' '<*pers>' '<@cond>' '<@cond_perfect>' '<@future>'\n",
      " '<@future_perfect>' '<@future_phrasal>' '<@ger_past>' '<@modal>'\n",
      " '<@passive>' '<@past>' '<@past_inf>' '<@past_perfect>'\n",
      " '<@present_perfect>' '<@prn:celui_que>' '<@ref>' '<adv>' '<attr>'\n",
      " '<comp>' '<def>' '<enc>' '<f>' '<m>' '<mf>' '<n>' '<nt>' '<p1>' '<p2>'\n",
      " '<p3>' '<pl>' '<pos>' '<pred>' '<prn>' '<prs>' '<ref>' '<sg>' '<sp>'\n",
      " '<st>' '<sup>' '<sw>' '<tn>']\n",
      "modifier4: ['' '<*case>' '<*gndr>' '<*numb>' '<@n:petit_ami>' '<@prn:ce_dont>'\n",
      " '<@prn:le_meme>' '<@ref>' '<acc>' '<dat>' '<enc>' '<f>' '<gen>' '<m>'\n",
      " '<mf>' '<nom>' '<nt>' '<p1>' '<p3>' '<pl>' '<sg>' '<sp>']\n",
      "modifier5: ['' '<*case>' '<*numb>' '<@compound_past>' '<@cond>' '<@cond_perfect>'\n",
      " '<@det:a_le>' '<@det:de_le>' '<@future>' '<@future_perfect>'\n",
      " '<@future_phrasal>' '<@ger_past>' '<@modal>' '<@neg:il_ne_y_a>'\n",
      " '<@passive>' '<@past_cond>' '<@past_inf>' '<@past_perfect>'\n",
      " '<@past_subjunctive>' '<@pluperfect>' '<@present_perfect>'\n",
      " '<@prn:celui_ci>' '<@prn:celui_la>' '<@prn:l_un>' '<@prn:le_mien>'\n",
      " '<@prn:le_notre>' '<@prn:le_tien>' '<@prn:quelque_chose>'\n",
      " '<@prn:quelque_un>' '<@ref>' '<@subjunctive_perfect>'\n",
      " '<@subjunctive_pluperfect>' '<acc>' '<dat>' '<dim>' '<f>' '<gen>' '<mf>'\n",
      " '<nom>' '<p1>' '<p3>' '<pl>' '<prn>' '<sg>' '<sp>']\n"
     ]
    }
   ],
   "source": [
    "print(\"modifier1:\",np.unique(lexeme_binary_modifier1[\"modifier1\"]))\n",
    "print(\"modifier2:\",np.unique(lexeme_binary_modifier2[\"modifier2\"]))\n",
    "print(\"modifier3:\",np.unique(lexeme_binary_modifier3[\"modifier3\"]))\n",
    "print(\"modifier4:\",np.unique(lexeme_binary_modifier4[\"modifier4\"]))\n",
    "print(\"modifier5:\",np.unique(lexeme_binary_modifier5[\"modifier5\"]))"
   ],
   "metadata": {
    "collapsed": false,
    "pycharm": {
     "name": "#%%\n"
    }
   }
  },
  {
   "cell_type": "code",
   "execution_count": 44,
   "outputs": [
    {
     "data": {
      "text/plain": "               p  modifier1_  modifier1_<@adv:a_part>  \\\n0         0.9999           0                        0   \n1         0.5000           0                        0   \n2         0.9999           0                        0   \n3         0.5000           0                        0   \n4         0.9999           0                        0   \n...          ...         ...                      ...   \n11568798  0.9999           0                        0   \n11568799  0.9999           0                        0   \n11568800  0.9999           0                        0   \n11568801  0.0001           0                        0   \n11568802  0.9999           0                        0   \n\n          modifier1_<@adv:a_peu_pres>  modifier1_<@adv:a_posteriori>  \\\n0                                   0                              0   \n1                                   0                              0   \n2                                   0                              0   \n3                                   0                              0   \n4                                   0                              0   \n...                               ...                            ...   \n11568798                            0                              0   \n11568799                            0                              0   \n11568800                            0                              0   \n11568801                            0                              0   \n11568802                            0                              0   \n\n          modifier1_<@adv:a_priori>  modifier1_<@adv:au_dela>  \\\n0                                 0                         0   \n1                                 0                         0   \n2                                 0                         0   \n3                                 0                         0   \n4                                 0                         0   \n...                             ...                       ...   \n11568798                          0                         0   \n11568799                          0                         0   \n11568800                          0                         0   \n11568801                          0                         0   \n11568802                          0                         0   \n\n          modifier1_<@adv:au_moins>  modifier1_<@adv:en_fait>  \\\n0                                 0                         0   \n1                                 0                         0   \n2                                 0                         0   \n3                                 0                         0   \n4                                 0                         0   \n...                             ...                       ...   \n11568798                          0                         0   \n11568799                          0                         0   \n11568800                          0                         0   \n11568801                          0                         0   \n11568802                          0                         0   \n\n          modifier1_<@adv:en_general>  ...  modifier1_<preadv>  \\\n0                                   0  ...                   0   \n1                                   0  ...                   0   \n2                                   0  ...                   0   \n3                                   0  ...                   0   \n4                                   0  ...                   0   \n...                               ...  ...                 ...   \n11568798                            0  ...                   0   \n11568799                            0  ...                   0   \n11568800                            0  ...                   0   \n11568801                            0  ...                   0   \n11568802                            0  ...                   0   \n\n          modifier1_<predet>  modifier1_<prn>  modifier1_<rel>  \\\n0                          0                0                0   \n1                          0                0                0   \n2                          0                0                0   \n3                          0                0                0   \n4                          0                0                0   \n...                      ...              ...              ...   \n11568798                   0                0                0   \n11568799                   0                0                0   \n11568800                   0                1                0   \n11568801                   0                0                0   \n11568802                   0                0                0   \n\n          modifier1_<vaux>  modifier1_<vbdo>  modifier1_<vbhaver>  \\\n0                        0                 0                    0   \n1                        0                 0                    0   \n2                        0                 0                    0   \n3                        0                 0                    0   \n4                        0                 0                    0   \n...                    ...               ...                  ...   \n11568798                 0                 0                    0   \n11568799                 0                 0                    0   \n11568800                 0                 0                    0   \n11568801                 0                 0                    0   \n11568802                 0                 0                    0   \n\n          modifier1_<vblex>  modifier1_<vbmod>  modifier1_<vbser>  \n0                         1                  0                  0  \n1                         0                  0                  0  \n2                         0                  0                  0  \n3                         0                  0                  0  \n4                         0                  0                  0  \n...                     ...                ...                ...  \n11568798                  0                  0                  0  \n11568799                  0                  0                  0  \n11568800                  0                  0                  0  \n11568801                  0                  0                  0  \n11568802                  0                  0                  0  \n\n[11568803 rows x 82 columns]",
      "text/html": "<div>\n<style scoped>\n    .dataframe tbody tr th:only-of-type {\n        vertical-align: middle;\n    }\n\n    .dataframe tbody tr th {\n        vertical-align: top;\n    }\n\n    .dataframe thead th {\n        text-align: right;\n    }\n</style>\n<table border=\"1\" class=\"dataframe\">\n  <thead>\n    <tr style=\"text-align: right;\">\n      <th></th>\n      <th>p</th>\n      <th>modifier1_</th>\n      <th>modifier1_&lt;@adv:a_part&gt;</th>\n      <th>modifier1_&lt;@adv:a_peu_pres&gt;</th>\n      <th>modifier1_&lt;@adv:a_posteriori&gt;</th>\n      <th>modifier1_&lt;@adv:a_priori&gt;</th>\n      <th>modifier1_&lt;@adv:au_dela&gt;</th>\n      <th>modifier1_&lt;@adv:au_moins&gt;</th>\n      <th>modifier1_&lt;@adv:en_fait&gt;</th>\n      <th>modifier1_&lt;@adv:en_general&gt;</th>\n      <th>...</th>\n      <th>modifier1_&lt;preadv&gt;</th>\n      <th>modifier1_&lt;predet&gt;</th>\n      <th>modifier1_&lt;prn&gt;</th>\n      <th>modifier1_&lt;rel&gt;</th>\n      <th>modifier1_&lt;vaux&gt;</th>\n      <th>modifier1_&lt;vbdo&gt;</th>\n      <th>modifier1_&lt;vbhaver&gt;</th>\n      <th>modifier1_&lt;vblex&gt;</th>\n      <th>modifier1_&lt;vbmod&gt;</th>\n      <th>modifier1_&lt;vbser&gt;</th>\n    </tr>\n  </thead>\n  <tbody>\n    <tr>\n      <th>0</th>\n      <td>0.9999</td>\n      <td>0</td>\n      <td>0</td>\n      <td>0</td>\n      <td>0</td>\n      <td>0</td>\n      <td>0</td>\n      <td>0</td>\n      <td>0</td>\n      <td>0</td>\n      <td>...</td>\n      <td>0</td>\n      <td>0</td>\n      <td>0</td>\n      <td>0</td>\n      <td>0</td>\n      <td>0</td>\n      <td>0</td>\n      <td>1</td>\n      <td>0</td>\n      <td>0</td>\n    </tr>\n    <tr>\n      <th>1</th>\n      <td>0.5000</td>\n      <td>0</td>\n      <td>0</td>\n      <td>0</td>\n      <td>0</td>\n      <td>0</td>\n      <td>0</td>\n      <td>0</td>\n      <td>0</td>\n      <td>0</td>\n      <td>...</td>\n      <td>0</td>\n      <td>0</td>\n      <td>0</td>\n      <td>0</td>\n      <td>0</td>\n      <td>0</td>\n      <td>0</td>\n      <td>0</td>\n      <td>0</td>\n      <td>0</td>\n    </tr>\n    <tr>\n      <th>2</th>\n      <td>0.9999</td>\n      <td>0</td>\n      <td>0</td>\n      <td>0</td>\n      <td>0</td>\n      <td>0</td>\n      <td>0</td>\n      <td>0</td>\n      <td>0</td>\n      <td>0</td>\n      <td>...</td>\n      <td>0</td>\n      <td>0</td>\n      <td>0</td>\n      <td>0</td>\n      <td>0</td>\n      <td>0</td>\n      <td>0</td>\n      <td>0</td>\n      <td>0</td>\n      <td>0</td>\n    </tr>\n    <tr>\n      <th>3</th>\n      <td>0.5000</td>\n      <td>0</td>\n      <td>0</td>\n      <td>0</td>\n      <td>0</td>\n      <td>0</td>\n      <td>0</td>\n      <td>0</td>\n      <td>0</td>\n      <td>0</td>\n      <td>...</td>\n      <td>0</td>\n      <td>0</td>\n      <td>0</td>\n      <td>0</td>\n      <td>0</td>\n      <td>0</td>\n      <td>0</td>\n      <td>0</td>\n      <td>0</td>\n      <td>0</td>\n    </tr>\n    <tr>\n      <th>4</th>\n      <td>0.9999</td>\n      <td>0</td>\n      <td>0</td>\n      <td>0</td>\n      <td>0</td>\n      <td>0</td>\n      <td>0</td>\n      <td>0</td>\n      <td>0</td>\n      <td>0</td>\n      <td>...</td>\n      <td>0</td>\n      <td>0</td>\n      <td>0</td>\n      <td>0</td>\n      <td>0</td>\n      <td>0</td>\n      <td>0</td>\n      <td>0</td>\n      <td>0</td>\n      <td>0</td>\n    </tr>\n    <tr>\n      <th>...</th>\n      <td>...</td>\n      <td>...</td>\n      <td>...</td>\n      <td>...</td>\n      <td>...</td>\n      <td>...</td>\n      <td>...</td>\n      <td>...</td>\n      <td>...</td>\n      <td>...</td>\n      <td>...</td>\n      <td>...</td>\n      <td>...</td>\n      <td>...</td>\n      <td>...</td>\n      <td>...</td>\n      <td>...</td>\n      <td>...</td>\n      <td>...</td>\n      <td>...</td>\n      <td>...</td>\n    </tr>\n    <tr>\n      <th>11568798</th>\n      <td>0.9999</td>\n      <td>0</td>\n      <td>0</td>\n      <td>0</td>\n      <td>0</td>\n      <td>0</td>\n      <td>0</td>\n      <td>0</td>\n      <td>0</td>\n      <td>0</td>\n      <td>...</td>\n      <td>0</td>\n      <td>0</td>\n      <td>0</td>\n      <td>0</td>\n      <td>0</td>\n      <td>0</td>\n      <td>0</td>\n      <td>0</td>\n      <td>0</td>\n      <td>0</td>\n    </tr>\n    <tr>\n      <th>11568799</th>\n      <td>0.9999</td>\n      <td>0</td>\n      <td>0</td>\n      <td>0</td>\n      <td>0</td>\n      <td>0</td>\n      <td>0</td>\n      <td>0</td>\n      <td>0</td>\n      <td>0</td>\n      <td>...</td>\n      <td>0</td>\n      <td>0</td>\n      <td>0</td>\n      <td>0</td>\n      <td>0</td>\n      <td>0</td>\n      <td>0</td>\n      <td>0</td>\n      <td>0</td>\n      <td>0</td>\n    </tr>\n    <tr>\n      <th>11568800</th>\n      <td>0.9999</td>\n      <td>0</td>\n      <td>0</td>\n      <td>0</td>\n      <td>0</td>\n      <td>0</td>\n      <td>0</td>\n      <td>0</td>\n      <td>0</td>\n      <td>0</td>\n      <td>...</td>\n      <td>0</td>\n      <td>0</td>\n      <td>1</td>\n      <td>0</td>\n      <td>0</td>\n      <td>0</td>\n      <td>0</td>\n      <td>0</td>\n      <td>0</td>\n      <td>0</td>\n    </tr>\n    <tr>\n      <th>11568801</th>\n      <td>0.0001</td>\n      <td>0</td>\n      <td>0</td>\n      <td>0</td>\n      <td>0</td>\n      <td>0</td>\n      <td>0</td>\n      <td>0</td>\n      <td>0</td>\n      <td>0</td>\n      <td>...</td>\n      <td>0</td>\n      <td>0</td>\n      <td>0</td>\n      <td>0</td>\n      <td>0</td>\n      <td>0</td>\n      <td>0</td>\n      <td>0</td>\n      <td>0</td>\n      <td>0</td>\n    </tr>\n    <tr>\n      <th>11568802</th>\n      <td>0.9999</td>\n      <td>0</td>\n      <td>0</td>\n      <td>0</td>\n      <td>0</td>\n      <td>0</td>\n      <td>0</td>\n      <td>0</td>\n      <td>0</td>\n      <td>0</td>\n      <td>...</td>\n      <td>0</td>\n      <td>0</td>\n      <td>0</td>\n      <td>0</td>\n      <td>0</td>\n      <td>0</td>\n      <td>0</td>\n      <td>0</td>\n      <td>0</td>\n      <td>0</td>\n    </tr>\n  </tbody>\n</table>\n<p>11568803 rows × 82 columns</p>\n</div>"
     },
     "execution_count": 44,
     "metadata": {},
     "output_type": "execute_result"
    }
   ],
   "source": [
    "lexeme_binary_modifier1=pd.get_dummies(data=lexeme_binary_modifier1, columns=[\"modifier1\"])\n",
    "lexeme_binary_modifier2=pd.get_dummies(data=lexeme_binary_modifier2, columns=[\"modifier2\"])\n",
    "lexeme_binary_modifier3=pd.get_dummies(data=lexeme_binary_modifier3, columns=[\"modifier3\"])\n",
    "lexeme_binary_modifier4=pd.get_dummies(data=lexeme_binary_modifier4, columns=[\"modifier4\"])\n",
    "lexeme_binary_modifier5=pd.get_dummies(data=lexeme_binary_modifier5, columns=[\"modifier5\"])\n",
    "\n",
    "lexeme_binary_modifier1"
   ],
   "metadata": {
    "collapsed": false,
    "pycharm": {
     "name": "#%%\n"
    }
   }
  },
  {
   "cell_type": "code",
   "execution_count": 45,
   "outputs": [
    {
     "data": {
      "text/plain": "p                                1.000000\nmodifier1_                       0.001828\nmodifier1_<@adv:a_part>         -0.000611\nmodifier1_<@adv:a_peu_pres>     -0.000894\nmodifier1_<@adv:a_posteriori>   -0.000167\n                                   ...   \nmodifier1_<vbdo>                -0.007734\nmodifier1_<vbhaver>             -0.005901\nmodifier1_<vblex>               -0.002581\nmodifier1_<vbmod>               -0.001989\nmodifier1_<vbser>               -0.000456\nLength: 82, dtype: float64"
     },
     "execution_count": 45,
     "metadata": {},
     "output_type": "execute_result"
    }
   ],
   "source": [
    "lexeme_binary_modifier1.corrwith(lexeme_binary_modifier1[\"p\"])"
   ],
   "metadata": {
    "collapsed": false,
    "pycharm": {
     "name": "#%%\n"
    }
   }
  },
  {
   "cell_type": "code",
   "execution_count": 46,
   "outputs": [
    {
     "data": {
      "text/plain": "p                    1.000000\nmodifier2_          -0.010391\nmodifier2_<*gndr>    0.002184\nmodifier2_<*numb>    0.009759\nmodifier2_<@pos>    -0.000431\n                       ...   \nmodifier2_<sp>       0.000752\nmodifier2_<subj>     0.005683\nmodifier2_<suff>     0.001544\nmodifier2_<sup>     -0.000973\nmodifier2_<tn>      -0.001715\nLength: 61, dtype: float64"
     },
     "execution_count": 46,
     "metadata": {},
     "output_type": "execute_result"
    }
   ],
   "source": [
    "lexeme_binary_modifier2.corrwith(lexeme_binary_modifier2[\"p\"])"
   ],
   "metadata": {
    "collapsed": false,
    "pycharm": {
     "name": "#%%\n"
    }
   }
  },
  {
   "cell_type": "code",
   "execution_count": 47,
   "outputs": [
    {
     "data": {
      "text/plain": "p                               1.000000\nmodifier3_                      0.007017\nmodifier3_<*gndr>              -0.000655\nmodifier3_<*numb>               0.004284\nmodifier3_<*pers>               0.004036\nmodifier3_<@cond>              -0.005350\nmodifier3_<@cond_perfect>      -0.006396\nmodifier3_<@future>            -0.012797\nmodifier3_<@future_perfect>    -0.003497\nmodifier3_<@future_phrasal>    -0.005150\nmodifier3_<@ger_past>          -0.000458\nmodifier3_<@modal>             -0.002269\nmodifier3_<@passive>           -0.001255\nmodifier3_<@past>              -0.005896\nmodifier3_<@past_inf>          -0.000300\nmodifier3_<@past_perfect>      -0.006856\nmodifier3_<@present_perfect>   -0.009790\nmodifier3_<@prn:celui_que>      0.000158\nmodifier3_<@ref>               -0.001153\nmodifier3_<adv>                -0.004920\nmodifier3_<attr>                0.003425\nmodifier3_<comp>               -0.002221\nmodifier3_<def>                -0.007950\nmodifier3_<enc>                -0.000380\nmodifier3_<f>                  -0.005952\nmodifier3_<m>                  -0.006395\nmodifier3_<mf>                 -0.014419\nmodifier3_<n>                   0.001544\nmodifier3_<nt>                 -0.004669\nmodifier3_<p1>                  0.013398\nmodifier3_<p2>                 -0.003743\nmodifier3_<p3>                 -0.007193\nmodifier3_<pl>                  0.003644\nmodifier3_<pos>                 0.001353\nmodifier3_<pred>                0.002565\nmodifier3_<prn>                 0.000159\nmodifier3_<prs>                 0.004510\nmodifier3_<ref>                -0.007206\nmodifier3_<sg>                  0.006123\nmodifier3_<sp>                 -0.007607\nmodifier3_<st>                  0.000033\nmodifier3_<sup>                -0.000053\nmodifier3_<sw>                 -0.000524\nmodifier3_<tn>                  0.000002\ndtype: float64"
     },
     "execution_count": 47,
     "metadata": {},
     "output_type": "execute_result"
    }
   ],
   "source": [
    "lexeme_binary_modifier3.corrwith(lexeme_binary_modifier3[\"p\"])"
   ],
   "metadata": {
    "collapsed": false,
    "pycharm": {
     "name": "#%%\n"
    }
   }
  },
  {
   "cell_type": "code",
   "execution_count": 48,
   "outputs": [
    {
     "data": {
      "text/plain": "p                           1.000000\nmodifier4_                  0.009134\nmodifier4_<*case>           0.001820\nmodifier4_<*gndr>           0.000105\nmodifier4_<*numb>           0.003629\nmodifier4_<@n:petit_ami>   -0.000833\nmodifier4_<@prn:ce_dont>   -0.001264\nmodifier4_<@prn:le_meme>    0.000158\nmodifier4_<@ref>           -0.000520\nmodifier4_<acc>             0.000809\nmodifier4_<dat>            -0.004059\nmodifier4_<enc>             0.000159\nmodifier4_<f>               0.002209\nmodifier4_<gen>            -0.000300\nmodifier4_<m>              -0.001133\nmodifier4_<mf>             -0.003458\nmodifier4_<nom>             0.001834\nmodifier4_<nt>             -0.000446\nmodifier4_<p1>             -0.000023\nmodifier4_<p3>             -0.000369\nmodifier4_<pl>             -0.009068\nmodifier4_<sg>             -0.005087\nmodifier4_<sp>             -0.004437\ndtype: float64"
     },
     "execution_count": 48,
     "metadata": {},
     "output_type": "execute_result"
    }
   ],
   "source": [
    "lexeme_binary_modifier4.corrwith(lexeme_binary_modifier4[\"p\"])"
   ],
   "metadata": {
    "collapsed": false,
    "pycharm": {
     "name": "#%%\n"
    }
   }
  },
  {
   "cell_type": "code",
   "execution_count": 49,
   "outputs": [
    {
     "data": {
      "text/plain": "p                                      1.000000\nmodifier5_                             0.009890\nmodifier5_<*case>                      0.000672\nmodifier5_<*numb>                      0.000156\nmodifier5_<@compound_past>            -0.006653\nmodifier5_<@cond>                     -0.001147\nmodifier5_<@cond_perfect>             -0.000639\nmodifier5_<@det:a_le>                 -0.000897\nmodifier5_<@det:de_le>                -0.002418\nmodifier5_<@future>                   -0.001267\nmodifier5_<@future_perfect>            0.000125\nmodifier5_<@future_phrasal>           -0.002539\nmodifier5_<@ger_past>                 -0.000558\nmodifier5_<@modal>                    -0.002626\nmodifier5_<@neg:il_ne_y_a>            -0.000656\nmodifier5_<@passive>                  -0.001928\nmodifier5_<@past_cond>                -0.001688\nmodifier5_<@past_inf>                 -0.000204\nmodifier5_<@past_perfect>             -0.001857\nmodifier5_<@past_subjunctive>         -0.000775\nmodifier5_<@pluperfect>               -0.002302\nmodifier5_<@present_perfect>          -0.007740\nmodifier5_<@prn:celui_ci>             -0.000612\nmodifier5_<@prn:celui_la>             -0.001272\nmodifier5_<@prn:l_un>                 -0.001205\nmodifier5_<@prn:le_mien>               0.000186\nmodifier5_<@prn:le_notre>             -0.000274\nmodifier5_<@prn:le_tien>               0.000109\nmodifier5_<@prn:quelque_chose>         0.000366\nmodifier5_<@prn:quelque_un>           -0.000648\nmodifier5_<@ref>                      -0.001451\nmodifier5_<@subjunctive_perfect>      -0.000971\nmodifier5_<@subjunctive_pluperfect>    0.000370\nmodifier5_<acc>                       -0.011491\nmodifier5_<dat>                       -0.008329\nmodifier5_<dim>                        0.000298\nmodifier5_<f>                         -0.000060\nmodifier5_<gen>                       -0.002459\nmodifier5_<mf>                        -0.007167\nmodifier5_<nom>                       -0.002713\nmodifier5_<p1>                         0.000112\nmodifier5_<p3>                         0.000112\nmodifier5_<pl>                        -0.004472\nmodifier5_<prn>                       -0.001240\nmodifier5_<sg>                         0.001925\nmodifier5_<sp>                        -0.001336\ndtype: float64"
     },
     "execution_count": 49,
     "metadata": {},
     "output_type": "execute_result"
    }
   ],
   "source": [
    "lexeme_binary_modifier5.corrwith(lexeme_binary_modifier5[\"p\"])"
   ],
   "metadata": {
    "collapsed": false,
    "pycharm": {
     "name": "#%%\n"
    }
   }
  },
  {
   "cell_type": "code",
   "execution_count": null,
   "outputs": [],
   "source": [],
   "metadata": {
    "collapsed": false,
    "pycharm": {
     "name": "#%%\n"
    }
   }
  }
 ],
 "metadata": {
  "kernelspec": {
   "display_name": "Python 3",
   "language": "python",
   "name": "python3"
  },
  "language_info": {
   "codemirror_mode": {
    "name": "ipython",
    "version": 2
   },
   "file_extension": ".py",
   "mimetype": "text/x-python",
   "name": "python",
   "nbconvert_exporter": "python",
   "pygments_lexer": "ipython2",
   "version": "2.7.6"
  }
 },
 "nbformat": 4,
 "nbformat_minor": 0
}