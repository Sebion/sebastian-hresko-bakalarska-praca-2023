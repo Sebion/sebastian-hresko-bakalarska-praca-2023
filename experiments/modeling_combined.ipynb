{
 "cells": [
  {
   "cell_type": "code",
   "execution_count": 1,
   "metadata": {
    "collapsed": true
   },
   "outputs": [
    {
     "data": {
      "text/plain": "         p_recall     delta ui_language  history_seen  history_correct  \\\n0        1.000000  0.099167          pt            17               17   \n1        1.000000  0.099167          pt            19               19   \n2        1.000000  0.099167          pt            21               20   \n3        0.800000  0.099167          pt            44               36   \n4        1.000000  0.099167          pt            21               20   \n...           ...       ...         ...           ...              ...   \n4997494  0.800000  0.102222          it             6                4   \n4997495  0.800000  0.102222          it             4                4   \n4997496  1.000000  0.102222          it             4                4   \n4997497  0.600000  0.102222          it             3                2   \n4997498  0.666667  0.102222          it             5                3   \n\n         session_seen surface_form    root_form modifiers_split  \\\n0                   2   definition   definition         <n><sg>   \n1                   3      surface      surface         <n><sg>   \n2                   3        scale        scale         <n><sg>   \n3                   5  temperature  temperature         <n><sg>   \n4                   3     distance     distance         <n><sg>   \n...               ...          ...          ...             ...   \n4997494             5          the          the  <det><def><sp>   \n4997495             5          eat          eat   <vblex><pres>   \n4997496             4        bread        bread         <n><sg>   \n4997497             5        drink        drink   <vblex><pres>   \n4997498             9        water        water         <n><sg>   \n\n         history_incorrect  ...  pronoun  adjective  adverb  conjunction  \\\n0                        0  ...        0          0       0            0   \n1                        0  ...        0          0       0            0   \n2                        1  ...        0          0       0            0   \n3                        8  ...        0          0       0            0   \n4                        1  ...        0          0       0            0   \n...                    ...  ...      ...        ...     ...          ...   \n4997494                  2  ...        0          0       0            0   \n4997495                  0  ...        0          0       0            0   \n4997496                  0  ...        0          0       0            0   \n4997497                  1  ...        0          0       0            0   \n4997498                  2  ...        0          0       0            0   \n\n         determiner  interjection  plural  number  phrase  word_freq  \n0                 0             0       0       0       0   0.000038  \n1                 0             0       0       0       0   0.000068  \n2                 0             0       0       0       0   0.000068  \n3                 0             0       0       0       0   0.000044  \n4                 0             0       0       0       0   0.000071  \n...             ...           ...     ...     ...     ...        ...  \n4997494           1             0       0       0       0   0.053700  \n4997495           0             0       0       0       0   0.000135  \n4997496           0             0       0       0       0   0.000032  \n4997497           0             0       0       0       0   0.000079  \n4997498           0             0       0       0       0   0.000331  \n\n[4997499 rows x 26 columns]",
      "text/html": "<div>\n<style scoped>\n    .dataframe tbody tr th:only-of-type {\n        vertical-align: middle;\n    }\n\n    .dataframe tbody tr th {\n        vertical-align: top;\n    }\n\n    .dataframe thead th {\n        text-align: right;\n    }\n</style>\n<table border=\"1\" class=\"dataframe\">\n  <thead>\n    <tr style=\"text-align: right;\">\n      <th></th>\n      <th>p_recall</th>\n      <th>delta</th>\n      <th>ui_language</th>\n      <th>history_seen</th>\n      <th>history_correct</th>\n      <th>session_seen</th>\n      <th>surface_form</th>\n      <th>root_form</th>\n      <th>modifiers_split</th>\n      <th>history_incorrect</th>\n      <th>...</th>\n      <th>pronoun</th>\n      <th>adjective</th>\n      <th>adverb</th>\n      <th>conjunction</th>\n      <th>determiner</th>\n      <th>interjection</th>\n      <th>plural</th>\n      <th>number</th>\n      <th>phrase</th>\n      <th>word_freq</th>\n    </tr>\n  </thead>\n  <tbody>\n    <tr>\n      <th>0</th>\n      <td>1.000000</td>\n      <td>0.099167</td>\n      <td>pt</td>\n      <td>17</td>\n      <td>17</td>\n      <td>2</td>\n      <td>definition</td>\n      <td>definition</td>\n      <td>&lt;n&gt;&lt;sg&gt;</td>\n      <td>0</td>\n      <td>...</td>\n      <td>0</td>\n      <td>0</td>\n      <td>0</td>\n      <td>0</td>\n      <td>0</td>\n      <td>0</td>\n      <td>0</td>\n      <td>0</td>\n      <td>0</td>\n      <td>0.000038</td>\n    </tr>\n    <tr>\n      <th>1</th>\n      <td>1.000000</td>\n      <td>0.099167</td>\n      <td>pt</td>\n      <td>19</td>\n      <td>19</td>\n      <td>3</td>\n      <td>surface</td>\n      <td>surface</td>\n      <td>&lt;n&gt;&lt;sg&gt;</td>\n      <td>0</td>\n      <td>...</td>\n      <td>0</td>\n      <td>0</td>\n      <td>0</td>\n      <td>0</td>\n      <td>0</td>\n      <td>0</td>\n      <td>0</td>\n      <td>0</td>\n      <td>0</td>\n      <td>0.000068</td>\n    </tr>\n    <tr>\n      <th>2</th>\n      <td>1.000000</td>\n      <td>0.099167</td>\n      <td>pt</td>\n      <td>21</td>\n      <td>20</td>\n      <td>3</td>\n      <td>scale</td>\n      <td>scale</td>\n      <td>&lt;n&gt;&lt;sg&gt;</td>\n      <td>1</td>\n      <td>...</td>\n      <td>0</td>\n      <td>0</td>\n      <td>0</td>\n      <td>0</td>\n      <td>0</td>\n      <td>0</td>\n      <td>0</td>\n      <td>0</td>\n      <td>0</td>\n      <td>0.000068</td>\n    </tr>\n    <tr>\n      <th>3</th>\n      <td>0.800000</td>\n      <td>0.099167</td>\n      <td>pt</td>\n      <td>44</td>\n      <td>36</td>\n      <td>5</td>\n      <td>temperature</td>\n      <td>temperature</td>\n      <td>&lt;n&gt;&lt;sg&gt;</td>\n      <td>8</td>\n      <td>...</td>\n      <td>0</td>\n      <td>0</td>\n      <td>0</td>\n      <td>0</td>\n      <td>0</td>\n      <td>0</td>\n      <td>0</td>\n      <td>0</td>\n      <td>0</td>\n      <td>0.000044</td>\n    </tr>\n    <tr>\n      <th>4</th>\n      <td>1.000000</td>\n      <td>0.099167</td>\n      <td>pt</td>\n      <td>21</td>\n      <td>20</td>\n      <td>3</td>\n      <td>distance</td>\n      <td>distance</td>\n      <td>&lt;n&gt;&lt;sg&gt;</td>\n      <td>1</td>\n      <td>...</td>\n      <td>0</td>\n      <td>0</td>\n      <td>0</td>\n      <td>0</td>\n      <td>0</td>\n      <td>0</td>\n      <td>0</td>\n      <td>0</td>\n      <td>0</td>\n      <td>0.000071</td>\n    </tr>\n    <tr>\n      <th>...</th>\n      <td>...</td>\n      <td>...</td>\n      <td>...</td>\n      <td>...</td>\n      <td>...</td>\n      <td>...</td>\n      <td>...</td>\n      <td>...</td>\n      <td>...</td>\n      <td>...</td>\n      <td>...</td>\n      <td>...</td>\n      <td>...</td>\n      <td>...</td>\n      <td>...</td>\n      <td>...</td>\n      <td>...</td>\n      <td>...</td>\n      <td>...</td>\n      <td>...</td>\n      <td>...</td>\n    </tr>\n    <tr>\n      <th>4997494</th>\n      <td>0.800000</td>\n      <td>0.102222</td>\n      <td>it</td>\n      <td>6</td>\n      <td>4</td>\n      <td>5</td>\n      <td>the</td>\n      <td>the</td>\n      <td>&lt;det&gt;&lt;def&gt;&lt;sp&gt;</td>\n      <td>2</td>\n      <td>...</td>\n      <td>0</td>\n      <td>0</td>\n      <td>0</td>\n      <td>0</td>\n      <td>1</td>\n      <td>0</td>\n      <td>0</td>\n      <td>0</td>\n      <td>0</td>\n      <td>0.053700</td>\n    </tr>\n    <tr>\n      <th>4997495</th>\n      <td>0.800000</td>\n      <td>0.102222</td>\n      <td>it</td>\n      <td>4</td>\n      <td>4</td>\n      <td>5</td>\n      <td>eat</td>\n      <td>eat</td>\n      <td>&lt;vblex&gt;&lt;pres&gt;</td>\n      <td>0</td>\n      <td>...</td>\n      <td>0</td>\n      <td>0</td>\n      <td>0</td>\n      <td>0</td>\n      <td>0</td>\n      <td>0</td>\n      <td>0</td>\n      <td>0</td>\n      <td>0</td>\n      <td>0.000135</td>\n    </tr>\n    <tr>\n      <th>4997496</th>\n      <td>1.000000</td>\n      <td>0.102222</td>\n      <td>it</td>\n      <td>4</td>\n      <td>4</td>\n      <td>4</td>\n      <td>bread</td>\n      <td>bread</td>\n      <td>&lt;n&gt;&lt;sg&gt;</td>\n      <td>0</td>\n      <td>...</td>\n      <td>0</td>\n      <td>0</td>\n      <td>0</td>\n      <td>0</td>\n      <td>0</td>\n      <td>0</td>\n      <td>0</td>\n      <td>0</td>\n      <td>0</td>\n      <td>0.000032</td>\n    </tr>\n    <tr>\n      <th>4997497</th>\n      <td>0.600000</td>\n      <td>0.102222</td>\n      <td>it</td>\n      <td>3</td>\n      <td>2</td>\n      <td>5</td>\n      <td>drink</td>\n      <td>drink</td>\n      <td>&lt;vblex&gt;&lt;pres&gt;</td>\n      <td>1</td>\n      <td>...</td>\n      <td>0</td>\n      <td>0</td>\n      <td>0</td>\n      <td>0</td>\n      <td>0</td>\n      <td>0</td>\n      <td>0</td>\n      <td>0</td>\n      <td>0</td>\n      <td>0.000079</td>\n    </tr>\n    <tr>\n      <th>4997498</th>\n      <td>0.666667</td>\n      <td>0.102222</td>\n      <td>it</td>\n      <td>5</td>\n      <td>3</td>\n      <td>9</td>\n      <td>water</td>\n      <td>water</td>\n      <td>&lt;n&gt;&lt;sg&gt;</td>\n      <td>2</td>\n      <td>...</td>\n      <td>0</td>\n      <td>0</td>\n      <td>0</td>\n      <td>0</td>\n      <td>0</td>\n      <td>0</td>\n      <td>0</td>\n      <td>0</td>\n      <td>0</td>\n      <td>0.000331</td>\n    </tr>\n  </tbody>\n</table>\n<p>4997499 rows × 26 columns</p>\n</div>"
     },
     "execution_count": 1,
     "metadata": {},
     "output_type": "execute_result"
    }
   ],
   "source": [
    "import numpy as np\n",
    "import pandas as pd\n",
    "\n",
    "data_en = pd.read_csv(\"data_ready_en.csv\")\n",
    "data_en"
   ]
  },
  {
   "cell_type": "code",
   "execution_count": 2,
   "outputs": [],
   "source": [
    "del data_en[\"modifiers_split\"]\n",
    "del data_en[\"surface_form\"]\n",
    "del data_en[\"root_form\"]"
   ],
   "metadata": {
    "collapsed": false,
    "pycharm": {
     "name": "#%%\n"
    }
   }
  },
  {
   "cell_type": "code",
   "execution_count": 3,
   "outputs": [
    {
     "data": {
      "text/plain": "         p_recall     delta  history_seen  history_correct  session_seen  \\\n0        1.000000  0.099167            17               17             2   \n1        1.000000  0.099167            19               19             3   \n2        1.000000  0.099167            21               20             3   \n3        0.800000  0.099167            44               36             5   \n4        1.000000  0.099167            21               20             3   \n...           ...       ...           ...              ...           ...   \n4997494  0.800000  0.102222             6                4             5   \n4997495  0.800000  0.102222             4                4             5   \n4997496  1.000000  0.102222             4                4             4   \n4997497  0.600000  0.102222             3                2             5   \n4997498  0.666667  0.102222             5                3             9   \n\n         history_incorrect  word_length  differs_from_root  passed  verb  ...  \\\n0                        0           10                  0       1     0  ...   \n1                        0            7                  0       1     0  ...   \n2                        1            5                  0       1     0  ...   \n3                        8           11                  0       0     0  ...   \n4                        1            8                  0       1     0  ...   \n...                    ...          ...                ...     ...   ...  ...   \n4997494                  2            3                  0       0     0  ...   \n4997495                  0            3                  0       0     1  ...   \n4997496                  0            5                  0       1     0  ...   \n4997497                  1            5                  0       0     1  ...   \n4997498                  2            5                  0       0     0  ...   \n\n         conjunction  determiner  interjection  plural  number  phrase  \\\n0                  0           0             0       0       0       0   \n1                  0           0             0       0       0       0   \n2                  0           0             0       0       0       0   \n3                  0           0             0       0       0       0   \n4                  0           0             0       0       0       0   \n...              ...         ...           ...     ...     ...     ...   \n4997494            0           1             0       0       0       0   \n4997495            0           0             0       0       0       0   \n4997496            0           0             0       0       0       0   \n4997497            0           0             0       0       0       0   \n4997498            0           0             0       0       0       0   \n\n         word_freq  ui_language_es  ui_language_it  ui_language_pt  \n0         0.000038               0               0               1  \n1         0.000068               0               0               1  \n2         0.000068               0               0               1  \n3         0.000044               0               0               1  \n4         0.000071               0               0               1  \n...            ...             ...             ...             ...  \n4997494   0.053700               0               1               0  \n4997495   0.000135               0               1               0  \n4997496   0.000032               0               1               0  \n4997497   0.000079               0               1               0  \n4997498   0.000331               0               1               0  \n\n[4997499 rows x 25 columns]",
      "text/html": "<div>\n<style scoped>\n    .dataframe tbody tr th:only-of-type {\n        vertical-align: middle;\n    }\n\n    .dataframe tbody tr th {\n        vertical-align: top;\n    }\n\n    .dataframe thead th {\n        text-align: right;\n    }\n</style>\n<table border=\"1\" class=\"dataframe\">\n  <thead>\n    <tr style=\"text-align: right;\">\n      <th></th>\n      <th>p_recall</th>\n      <th>delta</th>\n      <th>history_seen</th>\n      <th>history_correct</th>\n      <th>session_seen</th>\n      <th>history_incorrect</th>\n      <th>word_length</th>\n      <th>differs_from_root</th>\n      <th>passed</th>\n      <th>verb</th>\n      <th>...</th>\n      <th>conjunction</th>\n      <th>determiner</th>\n      <th>interjection</th>\n      <th>plural</th>\n      <th>number</th>\n      <th>phrase</th>\n      <th>word_freq</th>\n      <th>ui_language_es</th>\n      <th>ui_language_it</th>\n      <th>ui_language_pt</th>\n    </tr>\n  </thead>\n  <tbody>\n    <tr>\n      <th>0</th>\n      <td>1.000000</td>\n      <td>0.099167</td>\n      <td>17</td>\n      <td>17</td>\n      <td>2</td>\n      <td>0</td>\n      <td>10</td>\n      <td>0</td>\n      <td>1</td>\n      <td>0</td>\n      <td>...</td>\n      <td>0</td>\n      <td>0</td>\n      <td>0</td>\n      <td>0</td>\n      <td>0</td>\n      <td>0</td>\n      <td>0.000038</td>\n      <td>0</td>\n      <td>0</td>\n      <td>1</td>\n    </tr>\n    <tr>\n      <th>1</th>\n      <td>1.000000</td>\n      <td>0.099167</td>\n      <td>19</td>\n      <td>19</td>\n      <td>3</td>\n      <td>0</td>\n      <td>7</td>\n      <td>0</td>\n      <td>1</td>\n      <td>0</td>\n      <td>...</td>\n      <td>0</td>\n      <td>0</td>\n      <td>0</td>\n      <td>0</td>\n      <td>0</td>\n      <td>0</td>\n      <td>0.000068</td>\n      <td>0</td>\n      <td>0</td>\n      <td>1</td>\n    </tr>\n    <tr>\n      <th>2</th>\n      <td>1.000000</td>\n      <td>0.099167</td>\n      <td>21</td>\n      <td>20</td>\n      <td>3</td>\n      <td>1</td>\n      <td>5</td>\n      <td>0</td>\n      <td>1</td>\n      <td>0</td>\n      <td>...</td>\n      <td>0</td>\n      <td>0</td>\n      <td>0</td>\n      <td>0</td>\n      <td>0</td>\n      <td>0</td>\n      <td>0.000068</td>\n      <td>0</td>\n      <td>0</td>\n      <td>1</td>\n    </tr>\n    <tr>\n      <th>3</th>\n      <td>0.800000</td>\n      <td>0.099167</td>\n      <td>44</td>\n      <td>36</td>\n      <td>5</td>\n      <td>8</td>\n      <td>11</td>\n      <td>0</td>\n      <td>0</td>\n      <td>0</td>\n      <td>...</td>\n      <td>0</td>\n      <td>0</td>\n      <td>0</td>\n      <td>0</td>\n      <td>0</td>\n      <td>0</td>\n      <td>0.000044</td>\n      <td>0</td>\n      <td>0</td>\n      <td>1</td>\n    </tr>\n    <tr>\n      <th>4</th>\n      <td>1.000000</td>\n      <td>0.099167</td>\n      <td>21</td>\n      <td>20</td>\n      <td>3</td>\n      <td>1</td>\n      <td>8</td>\n      <td>0</td>\n      <td>1</td>\n      <td>0</td>\n      <td>...</td>\n      <td>0</td>\n      <td>0</td>\n      <td>0</td>\n      <td>0</td>\n      <td>0</td>\n      <td>0</td>\n      <td>0.000071</td>\n      <td>0</td>\n      <td>0</td>\n      <td>1</td>\n    </tr>\n    <tr>\n      <th>...</th>\n      <td>...</td>\n      <td>...</td>\n      <td>...</td>\n      <td>...</td>\n      <td>...</td>\n      <td>...</td>\n      <td>...</td>\n      <td>...</td>\n      <td>...</td>\n      <td>...</td>\n      <td>...</td>\n      <td>...</td>\n      <td>...</td>\n      <td>...</td>\n      <td>...</td>\n      <td>...</td>\n      <td>...</td>\n      <td>...</td>\n      <td>...</td>\n      <td>...</td>\n      <td>...</td>\n    </tr>\n    <tr>\n      <th>4997494</th>\n      <td>0.800000</td>\n      <td>0.102222</td>\n      <td>6</td>\n      <td>4</td>\n      <td>5</td>\n      <td>2</td>\n      <td>3</td>\n      <td>0</td>\n      <td>0</td>\n      <td>0</td>\n      <td>...</td>\n      <td>0</td>\n      <td>1</td>\n      <td>0</td>\n      <td>0</td>\n      <td>0</td>\n      <td>0</td>\n      <td>0.053700</td>\n      <td>0</td>\n      <td>1</td>\n      <td>0</td>\n    </tr>\n    <tr>\n      <th>4997495</th>\n      <td>0.800000</td>\n      <td>0.102222</td>\n      <td>4</td>\n      <td>4</td>\n      <td>5</td>\n      <td>0</td>\n      <td>3</td>\n      <td>0</td>\n      <td>0</td>\n      <td>1</td>\n      <td>...</td>\n      <td>0</td>\n      <td>0</td>\n      <td>0</td>\n      <td>0</td>\n      <td>0</td>\n      <td>0</td>\n      <td>0.000135</td>\n      <td>0</td>\n      <td>1</td>\n      <td>0</td>\n    </tr>\n    <tr>\n      <th>4997496</th>\n      <td>1.000000</td>\n      <td>0.102222</td>\n      <td>4</td>\n      <td>4</td>\n      <td>4</td>\n      <td>0</td>\n      <td>5</td>\n      <td>0</td>\n      <td>1</td>\n      <td>0</td>\n      <td>...</td>\n      <td>0</td>\n      <td>0</td>\n      <td>0</td>\n      <td>0</td>\n      <td>0</td>\n      <td>0</td>\n      <td>0.000032</td>\n      <td>0</td>\n      <td>1</td>\n      <td>0</td>\n    </tr>\n    <tr>\n      <th>4997497</th>\n      <td>0.600000</td>\n      <td>0.102222</td>\n      <td>3</td>\n      <td>2</td>\n      <td>5</td>\n      <td>1</td>\n      <td>5</td>\n      <td>0</td>\n      <td>0</td>\n      <td>1</td>\n      <td>...</td>\n      <td>0</td>\n      <td>0</td>\n      <td>0</td>\n      <td>0</td>\n      <td>0</td>\n      <td>0</td>\n      <td>0.000079</td>\n      <td>0</td>\n      <td>1</td>\n      <td>0</td>\n    </tr>\n    <tr>\n      <th>4997498</th>\n      <td>0.666667</td>\n      <td>0.102222</td>\n      <td>5</td>\n      <td>3</td>\n      <td>9</td>\n      <td>2</td>\n      <td>5</td>\n      <td>0</td>\n      <td>0</td>\n      <td>0</td>\n      <td>...</td>\n      <td>0</td>\n      <td>0</td>\n      <td>0</td>\n      <td>0</td>\n      <td>0</td>\n      <td>0</td>\n      <td>0.000331</td>\n      <td>0</td>\n      <td>1</td>\n      <td>0</td>\n    </tr>\n  </tbody>\n</table>\n<p>4997499 rows × 25 columns</p>\n</div>"
     },
     "execution_count": 3,
     "metadata": {},
     "output_type": "execute_result"
    }
   ],
   "source": [
    "data_en = pd.get_dummies(data_en,columns=[\"ui_language\"])\n",
    "data_en"
   ],
   "metadata": {
    "collapsed": false,
    "pycharm": {
     "name": "#%%\n"
    }
   }
  },
  {
   "cell_type": "code",
   "execution_count": 4,
   "outputs": [],
   "source": [
    "del data_en[\"session_seen\"]"
   ],
   "metadata": {
    "collapsed": false,
    "pycharm": {
     "name": "#%%\n"
    }
   }
  },
  {
   "cell_type": "code",
   "execution_count": 5,
   "outputs": [
    {
     "data": {
      "text/plain": "         p_recall     delta  history_seen  history_correct  history_incorrect  \\\n0        1.000000  0.099167            17               17                  0   \n1        1.000000  0.099167            19               19                  0   \n2        1.000000  0.099167            21               20                  1   \n3        0.800000  0.099167            44               36                  8   \n4        1.000000  0.099167            21               20                  1   \n...           ...       ...           ...              ...                ...   \n4997494  0.800000  0.102222             6                4                  2   \n4997495  0.800000  0.102222             4                4                  0   \n4997496  1.000000  0.102222             4                4                  0   \n4997497  0.600000  0.102222             3                2                  1   \n4997498  0.666667  0.102222             5                3                  2   \n\n         word_length  differs_from_root  passed  verb  noun  ...  conjunction  \\\n0                 10                  0       1     0     1  ...            0   \n1                  7                  0       1     0     1  ...            0   \n2                  5                  0       1     0     1  ...            0   \n3                 11                  0       0     0     1  ...            0   \n4                  8                  0       1     0     1  ...            0   \n...              ...                ...     ...   ...   ...  ...          ...   \n4997494            3                  0       0     0     0  ...            0   \n4997495            3                  0       0     1     0  ...            0   \n4997496            5                  0       1     0     1  ...            0   \n4997497            5                  0       0     1     0  ...            0   \n4997498            5                  0       0     0     1  ...            0   \n\n         determiner  interjection  plural  number  phrase  word_freq  \\\n0                 0             0       0       0       0   0.000038   \n1                 0             0       0       0       0   0.000068   \n2                 0             0       0       0       0   0.000068   \n3                 0             0       0       0       0   0.000044   \n4                 0             0       0       0       0   0.000071   \n...             ...           ...     ...     ...     ...        ...   \n4997494           1             0       0       0       0   0.053700   \n4997495           0             0       0       0       0   0.000135   \n4997496           0             0       0       0       0   0.000032   \n4997497           0             0       0       0       0   0.000079   \n4997498           0             0       0       0       0   0.000331   \n\n         ui_language_es  ui_language_it  ui_language_pt  \n0                     0               0               1  \n1                     0               0               1  \n2                     0               0               1  \n3                     0               0               1  \n4                     0               0               1  \n...                 ...             ...             ...  \n4997494               0               1               0  \n4997495               0               1               0  \n4997496               0               1               0  \n4997497               0               1               0  \n4997498               0               1               0  \n\n[4997499 rows x 24 columns]",
      "text/html": "<div>\n<style scoped>\n    .dataframe tbody tr th:only-of-type {\n        vertical-align: middle;\n    }\n\n    .dataframe tbody tr th {\n        vertical-align: top;\n    }\n\n    .dataframe thead th {\n        text-align: right;\n    }\n</style>\n<table border=\"1\" class=\"dataframe\">\n  <thead>\n    <tr style=\"text-align: right;\">\n      <th></th>\n      <th>p_recall</th>\n      <th>delta</th>\n      <th>history_seen</th>\n      <th>history_correct</th>\n      <th>history_incorrect</th>\n      <th>word_length</th>\n      <th>differs_from_root</th>\n      <th>passed</th>\n      <th>verb</th>\n      <th>noun</th>\n      <th>...</th>\n      <th>conjunction</th>\n      <th>determiner</th>\n      <th>interjection</th>\n      <th>plural</th>\n      <th>number</th>\n      <th>phrase</th>\n      <th>word_freq</th>\n      <th>ui_language_es</th>\n      <th>ui_language_it</th>\n      <th>ui_language_pt</th>\n    </tr>\n  </thead>\n  <tbody>\n    <tr>\n      <th>0</th>\n      <td>1.000000</td>\n      <td>0.099167</td>\n      <td>17</td>\n      <td>17</td>\n      <td>0</td>\n      <td>10</td>\n      <td>0</td>\n      <td>1</td>\n      <td>0</td>\n      <td>1</td>\n      <td>...</td>\n      <td>0</td>\n      <td>0</td>\n      <td>0</td>\n      <td>0</td>\n      <td>0</td>\n      <td>0</td>\n      <td>0.000038</td>\n      <td>0</td>\n      <td>0</td>\n      <td>1</td>\n    </tr>\n    <tr>\n      <th>1</th>\n      <td>1.000000</td>\n      <td>0.099167</td>\n      <td>19</td>\n      <td>19</td>\n      <td>0</td>\n      <td>7</td>\n      <td>0</td>\n      <td>1</td>\n      <td>0</td>\n      <td>1</td>\n      <td>...</td>\n      <td>0</td>\n      <td>0</td>\n      <td>0</td>\n      <td>0</td>\n      <td>0</td>\n      <td>0</td>\n      <td>0.000068</td>\n      <td>0</td>\n      <td>0</td>\n      <td>1</td>\n    </tr>\n    <tr>\n      <th>2</th>\n      <td>1.000000</td>\n      <td>0.099167</td>\n      <td>21</td>\n      <td>20</td>\n      <td>1</td>\n      <td>5</td>\n      <td>0</td>\n      <td>1</td>\n      <td>0</td>\n      <td>1</td>\n      <td>...</td>\n      <td>0</td>\n      <td>0</td>\n      <td>0</td>\n      <td>0</td>\n      <td>0</td>\n      <td>0</td>\n      <td>0.000068</td>\n      <td>0</td>\n      <td>0</td>\n      <td>1</td>\n    </tr>\n    <tr>\n      <th>3</th>\n      <td>0.800000</td>\n      <td>0.099167</td>\n      <td>44</td>\n      <td>36</td>\n      <td>8</td>\n      <td>11</td>\n      <td>0</td>\n      <td>0</td>\n      <td>0</td>\n      <td>1</td>\n      <td>...</td>\n      <td>0</td>\n      <td>0</td>\n      <td>0</td>\n      <td>0</td>\n      <td>0</td>\n      <td>0</td>\n      <td>0.000044</td>\n      <td>0</td>\n      <td>0</td>\n      <td>1</td>\n    </tr>\n    <tr>\n      <th>4</th>\n      <td>1.000000</td>\n      <td>0.099167</td>\n      <td>21</td>\n      <td>20</td>\n      <td>1</td>\n      <td>8</td>\n      <td>0</td>\n      <td>1</td>\n      <td>0</td>\n      <td>1</td>\n      <td>...</td>\n      <td>0</td>\n      <td>0</td>\n      <td>0</td>\n      <td>0</td>\n      <td>0</td>\n      <td>0</td>\n      <td>0.000071</td>\n      <td>0</td>\n      <td>0</td>\n      <td>1</td>\n    </tr>\n    <tr>\n      <th>...</th>\n      <td>...</td>\n      <td>...</td>\n      <td>...</td>\n      <td>...</td>\n      <td>...</td>\n      <td>...</td>\n      <td>...</td>\n      <td>...</td>\n      <td>...</td>\n      <td>...</td>\n      <td>...</td>\n      <td>...</td>\n      <td>...</td>\n      <td>...</td>\n      <td>...</td>\n      <td>...</td>\n      <td>...</td>\n      <td>...</td>\n      <td>...</td>\n      <td>...</td>\n      <td>...</td>\n    </tr>\n    <tr>\n      <th>4997494</th>\n      <td>0.800000</td>\n      <td>0.102222</td>\n      <td>6</td>\n      <td>4</td>\n      <td>2</td>\n      <td>3</td>\n      <td>0</td>\n      <td>0</td>\n      <td>0</td>\n      <td>0</td>\n      <td>...</td>\n      <td>0</td>\n      <td>1</td>\n      <td>0</td>\n      <td>0</td>\n      <td>0</td>\n      <td>0</td>\n      <td>0.053700</td>\n      <td>0</td>\n      <td>1</td>\n      <td>0</td>\n    </tr>\n    <tr>\n      <th>4997495</th>\n      <td>0.800000</td>\n      <td>0.102222</td>\n      <td>4</td>\n      <td>4</td>\n      <td>0</td>\n      <td>3</td>\n      <td>0</td>\n      <td>0</td>\n      <td>1</td>\n      <td>0</td>\n      <td>...</td>\n      <td>0</td>\n      <td>0</td>\n      <td>0</td>\n      <td>0</td>\n      <td>0</td>\n      <td>0</td>\n      <td>0.000135</td>\n      <td>0</td>\n      <td>1</td>\n      <td>0</td>\n    </tr>\n    <tr>\n      <th>4997496</th>\n      <td>1.000000</td>\n      <td>0.102222</td>\n      <td>4</td>\n      <td>4</td>\n      <td>0</td>\n      <td>5</td>\n      <td>0</td>\n      <td>1</td>\n      <td>0</td>\n      <td>1</td>\n      <td>...</td>\n      <td>0</td>\n      <td>0</td>\n      <td>0</td>\n      <td>0</td>\n      <td>0</td>\n      <td>0</td>\n      <td>0.000032</td>\n      <td>0</td>\n      <td>1</td>\n      <td>0</td>\n    </tr>\n    <tr>\n      <th>4997497</th>\n      <td>0.600000</td>\n      <td>0.102222</td>\n      <td>3</td>\n      <td>2</td>\n      <td>1</td>\n      <td>5</td>\n      <td>0</td>\n      <td>0</td>\n      <td>1</td>\n      <td>0</td>\n      <td>...</td>\n      <td>0</td>\n      <td>0</td>\n      <td>0</td>\n      <td>0</td>\n      <td>0</td>\n      <td>0</td>\n      <td>0.000079</td>\n      <td>0</td>\n      <td>1</td>\n      <td>0</td>\n    </tr>\n    <tr>\n      <th>4997498</th>\n      <td>0.666667</td>\n      <td>0.102222</td>\n      <td>5</td>\n      <td>3</td>\n      <td>2</td>\n      <td>5</td>\n      <td>0</td>\n      <td>0</td>\n      <td>0</td>\n      <td>1</td>\n      <td>...</td>\n      <td>0</td>\n      <td>0</td>\n      <td>0</td>\n      <td>0</td>\n      <td>0</td>\n      <td>0</td>\n      <td>0.000331</td>\n      <td>0</td>\n      <td>1</td>\n      <td>0</td>\n    </tr>\n  </tbody>\n</table>\n<p>4997499 rows × 24 columns</p>\n</div>"
     },
     "execution_count": 5,
     "metadata": {},
     "output_type": "execute_result"
    }
   ],
   "source": [
    "data_en"
   ],
   "metadata": {
    "collapsed": false,
    "pycharm": {
     "name": "#%%\n"
    }
   }
  },
  {
   "cell_type": "code",
   "execution_count": 7,
   "outputs": [],
   "source": [
    "from sklearn.model_selection import train_test_split\n"
   ],
   "metadata": {
    "collapsed": false,
    "pycharm": {
     "name": "#%%\n"
    }
   }
  },
  {
   "cell_type": "code",
   "execution_count": 10,
   "outputs": [],
   "source": [
    "data_en_train, data_en_test = train_test_split(data_en, test_size=0.2, random_state=42,stratify=data_en[\"passed\"])\n"
   ],
   "metadata": {
    "collapsed": false,
    "pycharm": {
     "name": "#%%\n"
    }
   }
  },
  {
   "cell_type": "code",
   "execution_count": 17,
   "outputs": [
    {
     "name": "stdout",
     "output_type": "stream",
     "text": [
      "4997499\n",
      "3997999\n",
      "999500\n",
      "1    3354405\n",
      "0     643594\n",
      "Name: passed, dtype: int64\n",
      "1    838602\n",
      "0    160898\n",
      "Name: passed, dtype: int64\n"
     ]
    }
   ],
   "source": [
    "print(len(data_en))\n",
    "print(len(data_en_train))\n",
    "print(len(data_en_test))\n",
    "\n",
    "print(pd.value_counts(data_en_train[\"passed\"]))\n",
    "print(pd.value_counts(data_en_test[\"passed\"]))\n"
   ],
   "metadata": {
    "collapsed": false,
    "pycharm": {
     "name": "#%%\n"
    }
   }
  },
  {
   "cell_type": "code",
   "execution_count": 16,
   "outputs": [
    {
     "ename": "KeyError",
     "evalue": "'p_recall'",
     "output_type": "error",
     "traceback": [
      "\u001B[1;31m---------------------------------------------------------------------------\u001B[0m",
      "\u001B[1;31mKeyError\u001B[0m                                  Traceback (most recent call last)",
      "File \u001B[1;32mc:\\users\\hresk\\pycharmprojects\\bakalarka\\venv\\lib\\site-packages\\pandas\\core\\indexes\\base.py:3802\u001B[0m, in \u001B[0;36mIndex.get_loc\u001B[1;34m(self, key, method, tolerance)\u001B[0m\n\u001B[0;32m   3801\u001B[0m \u001B[38;5;28;01mtry\u001B[39;00m:\n\u001B[1;32m-> 3802\u001B[0m     \u001B[38;5;28;01mreturn\u001B[39;00m \u001B[38;5;28;43mself\u001B[39;49m\u001B[38;5;241;43m.\u001B[39;49m\u001B[43m_engine\u001B[49m\u001B[38;5;241;43m.\u001B[39;49m\u001B[43mget_loc\u001B[49m\u001B[43m(\u001B[49m\u001B[43mcasted_key\u001B[49m\u001B[43m)\u001B[49m\n\u001B[0;32m   3803\u001B[0m \u001B[38;5;28;01mexcept\u001B[39;00m \u001B[38;5;167;01mKeyError\u001B[39;00m \u001B[38;5;28;01mas\u001B[39;00m err:\n",
      "File \u001B[1;32mc:\\users\\hresk\\pycharmprojects\\bakalarka\\venv\\lib\\site-packages\\pandas\\_libs\\index.pyx:138\u001B[0m, in \u001B[0;36mpandas._libs.index.IndexEngine.get_loc\u001B[1;34m()\u001B[0m\n",
      "File \u001B[1;32mc:\\users\\hresk\\pycharmprojects\\bakalarka\\venv\\lib\\site-packages\\pandas\\_libs\\index.pyx:165\u001B[0m, in \u001B[0;36mpandas._libs.index.IndexEngine.get_loc\u001B[1;34m()\u001B[0m\n",
      "File \u001B[1;32mpandas\\_libs\\hashtable_class_helper.pxi:5745\u001B[0m, in \u001B[0;36mpandas._libs.hashtable.PyObjectHashTable.get_item\u001B[1;34m()\u001B[0m\n",
      "File \u001B[1;32mpandas\\_libs\\hashtable_class_helper.pxi:5753\u001B[0m, in \u001B[0;36mpandas._libs.hashtable.PyObjectHashTable.get_item\u001B[1;34m()\u001B[0m\n",
      "\u001B[1;31mKeyError\u001B[0m: 'p_recall'",
      "\nThe above exception was the direct cause of the following exception:\n",
      "\u001B[1;31mKeyError\u001B[0m                                  Traceback (most recent call last)",
      "Cell \u001B[1;32mIn[16], line 1\u001B[0m\n\u001B[1;32m----> 1\u001B[0m \u001B[38;5;28;01mdel\u001B[39;00m data_en_train[\u001B[38;5;124m\"\u001B[39m\u001B[38;5;124mp_recall\u001B[39m\u001B[38;5;124m\"\u001B[39m]\n",
      "File \u001B[1;32mc:\\users\\hresk\\pycharmprojects\\bakalarka\\venv\\lib\\site-packages\\pandas\\core\\generic.py:4243\u001B[0m, in \u001B[0;36mNDFrame.__delitem__\u001B[1;34m(self, key)\u001B[0m\n\u001B[0;32m   4238\u001B[0m             deleted \u001B[38;5;241m=\u001B[39m \u001B[38;5;28;01mTrue\u001B[39;00m\n\u001B[0;32m   4239\u001B[0m \u001B[38;5;28;01mif\u001B[39;00m \u001B[38;5;129;01mnot\u001B[39;00m deleted:\n\u001B[0;32m   4240\u001B[0m     \u001B[38;5;66;03m# If the above loop ran and didn't delete anything because\u001B[39;00m\n\u001B[0;32m   4241\u001B[0m     \u001B[38;5;66;03m# there was no match, this call should raise the appropriate\u001B[39;00m\n\u001B[0;32m   4242\u001B[0m     \u001B[38;5;66;03m# exception:\u001B[39;00m\n\u001B[1;32m-> 4243\u001B[0m     loc \u001B[38;5;241m=\u001B[39m \u001B[38;5;28;43mself\u001B[39;49m\u001B[38;5;241;43m.\u001B[39;49m\u001B[43maxes\u001B[49m\u001B[43m[\u001B[49m\u001B[38;5;241;43m-\u001B[39;49m\u001B[38;5;241;43m1\u001B[39;49m\u001B[43m]\u001B[49m\u001B[38;5;241;43m.\u001B[39;49m\u001B[43mget_loc\u001B[49m\u001B[43m(\u001B[49m\u001B[43mkey\u001B[49m\u001B[43m)\u001B[49m\n\u001B[0;32m   4244\u001B[0m     \u001B[38;5;28mself\u001B[39m\u001B[38;5;241m.\u001B[39m_mgr \u001B[38;5;241m=\u001B[39m \u001B[38;5;28mself\u001B[39m\u001B[38;5;241m.\u001B[39m_mgr\u001B[38;5;241m.\u001B[39midelete(loc)\n\u001B[0;32m   4246\u001B[0m \u001B[38;5;66;03m# delete from the caches\u001B[39;00m\n",
      "File \u001B[1;32mc:\\users\\hresk\\pycharmprojects\\bakalarka\\venv\\lib\\site-packages\\pandas\\core\\indexes\\base.py:3804\u001B[0m, in \u001B[0;36mIndex.get_loc\u001B[1;34m(self, key, method, tolerance)\u001B[0m\n\u001B[0;32m   3802\u001B[0m     \u001B[38;5;28;01mreturn\u001B[39;00m \u001B[38;5;28mself\u001B[39m\u001B[38;5;241m.\u001B[39m_engine\u001B[38;5;241m.\u001B[39mget_loc(casted_key)\n\u001B[0;32m   3803\u001B[0m \u001B[38;5;28;01mexcept\u001B[39;00m \u001B[38;5;167;01mKeyError\u001B[39;00m \u001B[38;5;28;01mas\u001B[39;00m err:\n\u001B[1;32m-> 3804\u001B[0m     \u001B[38;5;28;01mraise\u001B[39;00m \u001B[38;5;167;01mKeyError\u001B[39;00m(key) \u001B[38;5;28;01mfrom\u001B[39;00m \u001B[38;5;21;01merr\u001B[39;00m\n\u001B[0;32m   3805\u001B[0m \u001B[38;5;28;01mexcept\u001B[39;00m \u001B[38;5;167;01mTypeError\u001B[39;00m:\n\u001B[0;32m   3806\u001B[0m     \u001B[38;5;66;03m# If we have a listlike key, _check_indexing_error will raise\u001B[39;00m\n\u001B[0;32m   3807\u001B[0m     \u001B[38;5;66;03m#  InvalidIndexError. Otherwise we fall through and re-raise\u001B[39;00m\n\u001B[0;32m   3808\u001B[0m     \u001B[38;5;66;03m#  the TypeError.\u001B[39;00m\n\u001B[0;32m   3809\u001B[0m     \u001B[38;5;28mself\u001B[39m\u001B[38;5;241m.\u001B[39m_check_indexing_error(key)\n",
      "\u001B[1;31mKeyError\u001B[0m: 'p_recall'"
     ]
    }
   ],
   "source": [
    "del data_en_train[\"p_recall\"]"
   ],
   "metadata": {
    "collapsed": false,
    "pycharm": {
     "name": "#%%\n"
    }
   }
  },
  {
   "cell_type": "code",
   "execution_count": 19,
   "outputs": [
    {
     "data": {
      "text/plain": "         p_recall       delta  history_seen  history_correct  \\\n572811        1.0    0.047500             7                7   \n2082768       0.5  552.537500             8                8   \n1370834       0.0  274.734722             4                2   \n722845        1.0    0.147500             5                1   \n3302301       1.0   74.719444             4                4   \n...           ...         ...           ...              ...   \n1154645       1.0    0.031667             9                9   \n4194216       1.0  138.976111            23               20   \n1018461       1.0  144.618611           377              355   \n714094        1.0   42.364167             7                6   \n3969005       1.0    0.080833            14               12   \n\n         history_incorrect  word_length  differs_from_root  passed  verb  \\\n572811                   0            5                  0       1     0   \n2082768                  0            3                  0       0     1   \n1370834                  2            8                  0       0     0   \n722845                   4            4                  0       1     0   \n3302301                  0            4                  0       1     0   \n...                    ...          ...                ...     ...   ...   \n1154645                  0            3                  0       1     1   \n4194216                  3            2                  1       1     1   \n1018461                 22            6                  1       1     1   \n714094                   1            6                  0       1     0   \n3969005                  2            3                  0       1     0   \n\n         noun  ...  conjunction  determiner  interjection  plural  number  \\\n572811      1  ...            0           0             0       0       0   \n2082768     0  ...            0           0             0       0       0   \n1370834     1  ...            0           0             0       0       0   \n722845      0  ...            0           0             0       0       0   \n3302301     1  ...            0           0             0       0       0   \n...       ...  ...          ...         ...           ...     ...     ...   \n1154645     0  ...            0           0             0       0       0   \n4194216     0  ...            0           0             0       0       0   \n1018461     0  ...            0           0             0       0       0   \n714094      1  ...            0           0             0       0       0   \n3969005     1  ...            0           0             0       0       0   \n\n         phrase  word_freq  ui_language_es  ui_language_it  ui_language_pt  \n572811        0   0.000054               0               0               1  \n2082768       0   0.000309               1               0               0  \n1370834       0   0.000013               1               0               0  \n722845        0   0.010200               1               0               0  \n3302301       0   0.000016               0               1               0  \n...         ...        ...             ...             ...             ...  \n1154645       0   0.000251               1               0               0  \n4194216       0   0.011700               1               0               0  \n1018461       0   0.000027               1               0               0  \n714094        0   0.000037               1               0               0  \n3969005       0   0.000126               1               0               0  \n\n[999500 rows x 24 columns]",
      "text/html": "<div>\n<style scoped>\n    .dataframe tbody tr th:only-of-type {\n        vertical-align: middle;\n    }\n\n    .dataframe tbody tr th {\n        vertical-align: top;\n    }\n\n    .dataframe thead th {\n        text-align: right;\n    }\n</style>\n<table border=\"1\" class=\"dataframe\">\n  <thead>\n    <tr style=\"text-align: right;\">\n      <th></th>\n      <th>p_recall</th>\n      <th>delta</th>\n      <th>history_seen</th>\n      <th>history_correct</th>\n      <th>history_incorrect</th>\n      <th>word_length</th>\n      <th>differs_from_root</th>\n      <th>passed</th>\n      <th>verb</th>\n      <th>noun</th>\n      <th>...</th>\n      <th>conjunction</th>\n      <th>determiner</th>\n      <th>interjection</th>\n      <th>plural</th>\n      <th>number</th>\n      <th>phrase</th>\n      <th>word_freq</th>\n      <th>ui_language_es</th>\n      <th>ui_language_it</th>\n      <th>ui_language_pt</th>\n    </tr>\n  </thead>\n  <tbody>\n    <tr>\n      <th>572811</th>\n      <td>1.0</td>\n      <td>0.047500</td>\n      <td>7</td>\n      <td>7</td>\n      <td>0</td>\n      <td>5</td>\n      <td>0</td>\n      <td>1</td>\n      <td>0</td>\n      <td>1</td>\n      <td>...</td>\n      <td>0</td>\n      <td>0</td>\n      <td>0</td>\n      <td>0</td>\n      <td>0</td>\n      <td>0</td>\n      <td>0.000054</td>\n      <td>0</td>\n      <td>0</td>\n      <td>1</td>\n    </tr>\n    <tr>\n      <th>2082768</th>\n      <td>0.5</td>\n      <td>552.537500</td>\n      <td>8</td>\n      <td>8</td>\n      <td>0</td>\n      <td>3</td>\n      <td>0</td>\n      <td>0</td>\n      <td>1</td>\n      <td>0</td>\n      <td>...</td>\n      <td>0</td>\n      <td>0</td>\n      <td>0</td>\n      <td>0</td>\n      <td>0</td>\n      <td>0</td>\n      <td>0.000309</td>\n      <td>1</td>\n      <td>0</td>\n      <td>0</td>\n    </tr>\n    <tr>\n      <th>1370834</th>\n      <td>0.0</td>\n      <td>274.734722</td>\n      <td>4</td>\n      <td>2</td>\n      <td>2</td>\n      <td>8</td>\n      <td>0</td>\n      <td>0</td>\n      <td>0</td>\n      <td>1</td>\n      <td>...</td>\n      <td>0</td>\n      <td>0</td>\n      <td>0</td>\n      <td>0</td>\n      <td>0</td>\n      <td>0</td>\n      <td>0.000013</td>\n      <td>1</td>\n      <td>0</td>\n      <td>0</td>\n    </tr>\n    <tr>\n      <th>722845</th>\n      <td>1.0</td>\n      <td>0.147500</td>\n      <td>5</td>\n      <td>1</td>\n      <td>4</td>\n      <td>4</td>\n      <td>0</td>\n      <td>1</td>\n      <td>0</td>\n      <td>0</td>\n      <td>...</td>\n      <td>0</td>\n      <td>0</td>\n      <td>0</td>\n      <td>0</td>\n      <td>0</td>\n      <td>0</td>\n      <td>0.010200</td>\n      <td>1</td>\n      <td>0</td>\n      <td>0</td>\n    </tr>\n    <tr>\n      <th>3302301</th>\n      <td>1.0</td>\n      <td>74.719444</td>\n      <td>4</td>\n      <td>4</td>\n      <td>0</td>\n      <td>4</td>\n      <td>0</td>\n      <td>1</td>\n      <td>0</td>\n      <td>1</td>\n      <td>...</td>\n      <td>0</td>\n      <td>0</td>\n      <td>0</td>\n      <td>0</td>\n      <td>0</td>\n      <td>0</td>\n      <td>0.000016</td>\n      <td>0</td>\n      <td>1</td>\n      <td>0</td>\n    </tr>\n    <tr>\n      <th>...</th>\n      <td>...</td>\n      <td>...</td>\n      <td>...</td>\n      <td>...</td>\n      <td>...</td>\n      <td>...</td>\n      <td>...</td>\n      <td>...</td>\n      <td>...</td>\n      <td>...</td>\n      <td>...</td>\n      <td>...</td>\n      <td>...</td>\n      <td>...</td>\n      <td>...</td>\n      <td>...</td>\n      <td>...</td>\n      <td>...</td>\n      <td>...</td>\n      <td>...</td>\n      <td>...</td>\n    </tr>\n    <tr>\n      <th>1154645</th>\n      <td>1.0</td>\n      <td>0.031667</td>\n      <td>9</td>\n      <td>9</td>\n      <td>0</td>\n      <td>3</td>\n      <td>0</td>\n      <td>1</td>\n      <td>1</td>\n      <td>0</td>\n      <td>...</td>\n      <td>0</td>\n      <td>0</td>\n      <td>0</td>\n      <td>0</td>\n      <td>0</td>\n      <td>0</td>\n      <td>0.000251</td>\n      <td>1</td>\n      <td>0</td>\n      <td>0</td>\n    </tr>\n    <tr>\n      <th>4194216</th>\n      <td>1.0</td>\n      <td>138.976111</td>\n      <td>23</td>\n      <td>20</td>\n      <td>3</td>\n      <td>2</td>\n      <td>1</td>\n      <td>1</td>\n      <td>1</td>\n      <td>0</td>\n      <td>...</td>\n      <td>0</td>\n      <td>0</td>\n      <td>0</td>\n      <td>0</td>\n      <td>0</td>\n      <td>0</td>\n      <td>0.011700</td>\n      <td>1</td>\n      <td>0</td>\n      <td>0</td>\n    </tr>\n    <tr>\n      <th>1018461</th>\n      <td>1.0</td>\n      <td>144.618611</td>\n      <td>377</td>\n      <td>355</td>\n      <td>22</td>\n      <td>6</td>\n      <td>1</td>\n      <td>1</td>\n      <td>1</td>\n      <td>0</td>\n      <td>...</td>\n      <td>0</td>\n      <td>0</td>\n      <td>0</td>\n      <td>0</td>\n      <td>0</td>\n      <td>0</td>\n      <td>0.000027</td>\n      <td>1</td>\n      <td>0</td>\n      <td>0</td>\n    </tr>\n    <tr>\n      <th>714094</th>\n      <td>1.0</td>\n      <td>42.364167</td>\n      <td>7</td>\n      <td>6</td>\n      <td>1</td>\n      <td>6</td>\n      <td>0</td>\n      <td>1</td>\n      <td>0</td>\n      <td>1</td>\n      <td>...</td>\n      <td>0</td>\n      <td>0</td>\n      <td>0</td>\n      <td>0</td>\n      <td>0</td>\n      <td>0</td>\n      <td>0.000037</td>\n      <td>1</td>\n      <td>0</td>\n      <td>0</td>\n    </tr>\n    <tr>\n      <th>3969005</th>\n      <td>1.0</td>\n      <td>0.080833</td>\n      <td>14</td>\n      <td>12</td>\n      <td>2</td>\n      <td>3</td>\n      <td>0</td>\n      <td>1</td>\n      <td>0</td>\n      <td>1</td>\n      <td>...</td>\n      <td>0</td>\n      <td>0</td>\n      <td>0</td>\n      <td>0</td>\n      <td>0</td>\n      <td>0</td>\n      <td>0.000126</td>\n      <td>1</td>\n      <td>0</td>\n      <td>0</td>\n    </tr>\n  </tbody>\n</table>\n<p>999500 rows × 24 columns</p>\n</div>"
     },
     "execution_count": 19,
     "metadata": {},
     "output_type": "execute_result"
    }
   ],
   "source": [
    "data_en_test"
   ],
   "metadata": {
    "collapsed": false,
    "pycharm": {
     "name": "#%%\n"
    }
   }
  },
  {
   "cell_type": "code",
   "execution_count": 20,
   "outputs": [],
   "source": [
    "data_en_train.to_csv(\"data_ready_en_train.csv\",index=False)\n",
    "data_en_test.to_csv(\"data_ready_en_test.csv\",index=False)\n"
   ],
   "metadata": {
    "collapsed": false,
    "pycharm": {
     "name": "#%%\n"
    }
   }
  },
  {
   "cell_type": "code",
   "execution_count": 22,
   "outputs": [
    {
     "data": {
      "text/plain": "              delta  history_seen  history_correct  history_incorrect  \\\n2300844  196.707778             6                6                  0   \n3498076    0.065556            13               10                  3   \n4736263    0.130000            12               11                  1   \n3953712    0.234167            33               32                  1   \n2418465   92.646111             1                1                  0   \n...             ...           ...              ...                ...   \n1527908    0.475278             7                7                  0   \n609082    74.590833             6                6                  0   \n4656531    0.086944            25               24                  1   \n2825942   43.611111            15               13                  2   \n3007411  987.339167            33               31                  2   \n\n         word_length  differs_from_root  verb  noun  preposition  pronoun  \\\n2300844            5                  0     0     0            0        0   \n3498076            5                  0     0     1            0        0   \n4736263            5                  0     0     1            0        0   \n3953712            3                  0     0     1            0        0   \n2418465            5                  0     0     1            0        0   \n...              ...                ...   ...   ...          ...      ...   \n1527908            5                  0     1     0            0        0   \n609082             8                  0     0     1            0        0   \n4656531            2                  1     1     0            0        0   \n2825942            4                  0     0     1            0        0   \n3007411            2                  1     1     0            0        0   \n\n         ...  conjunction  determiner  interjection  plural  number  phrase  \\\n2300844  ...            0           0             1       0       0       0   \n3498076  ...            0           0             0       0       0       0   \n4736263  ...            0           0             0       0       0       0   \n3953712  ...            0           0             0       0       0       0   \n2418465  ...            0           0             0       0       0       0   \n...      ...          ...         ...           ...     ...     ...     ...   \n1527908  ...            0           0             0       0       0       0   \n609082   ...            0           0             0       0       0       0   \n4656531  ...            0           0             0       0       0       0   \n2825942  ...            0           0             0       0       0       0   \n3007411  ...            0           0             0       0       0       0   \n\n         word_freq  ui_language_es  ui_language_it  ui_language_pt  \n2300844   0.000053               1               0               0  \n3498076   0.000032               1               0               0  \n4736263   0.000032               1               0               0  \n3953712   0.000148               0               0               1  \n2418465   0.000036               0               1               0  \n...            ...             ...             ...             ...  \n1527908   0.000079               1               0               0  \n609082    0.000013               1               0               0  \n4656531   0.011700               1               0               0  \n2825942   0.000269               0               0               1  \n3007411   0.000603               0               0               1  \n\n[3997999 rows x 22 columns]",
      "text/html": "<div>\n<style scoped>\n    .dataframe tbody tr th:only-of-type {\n        vertical-align: middle;\n    }\n\n    .dataframe tbody tr th {\n        vertical-align: top;\n    }\n\n    .dataframe thead th {\n        text-align: right;\n    }\n</style>\n<table border=\"1\" class=\"dataframe\">\n  <thead>\n    <tr style=\"text-align: right;\">\n      <th></th>\n      <th>delta</th>\n      <th>history_seen</th>\n      <th>history_correct</th>\n      <th>history_incorrect</th>\n      <th>word_length</th>\n      <th>differs_from_root</th>\n      <th>verb</th>\n      <th>noun</th>\n      <th>preposition</th>\n      <th>pronoun</th>\n      <th>...</th>\n      <th>conjunction</th>\n      <th>determiner</th>\n      <th>interjection</th>\n      <th>plural</th>\n      <th>number</th>\n      <th>phrase</th>\n      <th>word_freq</th>\n      <th>ui_language_es</th>\n      <th>ui_language_it</th>\n      <th>ui_language_pt</th>\n    </tr>\n  </thead>\n  <tbody>\n    <tr>\n      <th>2300844</th>\n      <td>196.707778</td>\n      <td>6</td>\n      <td>6</td>\n      <td>0</td>\n      <td>5</td>\n      <td>0</td>\n      <td>0</td>\n      <td>0</td>\n      <td>0</td>\n      <td>0</td>\n      <td>...</td>\n      <td>0</td>\n      <td>0</td>\n      <td>1</td>\n      <td>0</td>\n      <td>0</td>\n      <td>0</td>\n      <td>0.000053</td>\n      <td>1</td>\n      <td>0</td>\n      <td>0</td>\n    </tr>\n    <tr>\n      <th>3498076</th>\n      <td>0.065556</td>\n      <td>13</td>\n      <td>10</td>\n      <td>3</td>\n      <td>5</td>\n      <td>0</td>\n      <td>0</td>\n      <td>1</td>\n      <td>0</td>\n      <td>0</td>\n      <td>...</td>\n      <td>0</td>\n      <td>0</td>\n      <td>0</td>\n      <td>0</td>\n      <td>0</td>\n      <td>0</td>\n      <td>0.000032</td>\n      <td>1</td>\n      <td>0</td>\n      <td>0</td>\n    </tr>\n    <tr>\n      <th>4736263</th>\n      <td>0.130000</td>\n      <td>12</td>\n      <td>11</td>\n      <td>1</td>\n      <td>5</td>\n      <td>0</td>\n      <td>0</td>\n      <td>1</td>\n      <td>0</td>\n      <td>0</td>\n      <td>...</td>\n      <td>0</td>\n      <td>0</td>\n      <td>0</td>\n      <td>0</td>\n      <td>0</td>\n      <td>0</td>\n      <td>0.000032</td>\n      <td>1</td>\n      <td>0</td>\n      <td>0</td>\n    </tr>\n    <tr>\n      <th>3953712</th>\n      <td>0.234167</td>\n      <td>33</td>\n      <td>32</td>\n      <td>1</td>\n      <td>3</td>\n      <td>0</td>\n      <td>0</td>\n      <td>1</td>\n      <td>0</td>\n      <td>0</td>\n      <td>...</td>\n      <td>0</td>\n      <td>0</td>\n      <td>0</td>\n      <td>0</td>\n      <td>0</td>\n      <td>0</td>\n      <td>0.000148</td>\n      <td>0</td>\n      <td>0</td>\n      <td>1</td>\n    </tr>\n    <tr>\n      <th>2418465</th>\n      <td>92.646111</td>\n      <td>1</td>\n      <td>1</td>\n      <td>0</td>\n      <td>5</td>\n      <td>0</td>\n      <td>0</td>\n      <td>1</td>\n      <td>0</td>\n      <td>0</td>\n      <td>...</td>\n      <td>0</td>\n      <td>0</td>\n      <td>0</td>\n      <td>0</td>\n      <td>0</td>\n      <td>0</td>\n      <td>0.000036</td>\n      <td>0</td>\n      <td>1</td>\n      <td>0</td>\n    </tr>\n    <tr>\n      <th>...</th>\n      <td>...</td>\n      <td>...</td>\n      <td>...</td>\n      <td>...</td>\n      <td>...</td>\n      <td>...</td>\n      <td>...</td>\n      <td>...</td>\n      <td>...</td>\n      <td>...</td>\n      <td>...</td>\n      <td>...</td>\n      <td>...</td>\n      <td>...</td>\n      <td>...</td>\n      <td>...</td>\n      <td>...</td>\n      <td>...</td>\n      <td>...</td>\n      <td>...</td>\n      <td>...</td>\n    </tr>\n    <tr>\n      <th>1527908</th>\n      <td>0.475278</td>\n      <td>7</td>\n      <td>7</td>\n      <td>0</td>\n      <td>5</td>\n      <td>0</td>\n      <td>1</td>\n      <td>0</td>\n      <td>0</td>\n      <td>0</td>\n      <td>...</td>\n      <td>0</td>\n      <td>0</td>\n      <td>0</td>\n      <td>0</td>\n      <td>0</td>\n      <td>0</td>\n      <td>0.000079</td>\n      <td>1</td>\n      <td>0</td>\n      <td>0</td>\n    </tr>\n    <tr>\n      <th>609082</th>\n      <td>74.590833</td>\n      <td>6</td>\n      <td>6</td>\n      <td>0</td>\n      <td>8</td>\n      <td>0</td>\n      <td>0</td>\n      <td>1</td>\n      <td>0</td>\n      <td>0</td>\n      <td>...</td>\n      <td>0</td>\n      <td>0</td>\n      <td>0</td>\n      <td>0</td>\n      <td>0</td>\n      <td>0</td>\n      <td>0.000013</td>\n      <td>1</td>\n      <td>0</td>\n      <td>0</td>\n    </tr>\n    <tr>\n      <th>4656531</th>\n      <td>0.086944</td>\n      <td>25</td>\n      <td>24</td>\n      <td>1</td>\n      <td>2</td>\n      <td>1</td>\n      <td>1</td>\n      <td>0</td>\n      <td>0</td>\n      <td>0</td>\n      <td>...</td>\n      <td>0</td>\n      <td>0</td>\n      <td>0</td>\n      <td>0</td>\n      <td>0</td>\n      <td>0</td>\n      <td>0.011700</td>\n      <td>1</td>\n      <td>0</td>\n      <td>0</td>\n    </tr>\n    <tr>\n      <th>2825942</th>\n      <td>43.611111</td>\n      <td>15</td>\n      <td>13</td>\n      <td>2</td>\n      <td>4</td>\n      <td>0</td>\n      <td>0</td>\n      <td>1</td>\n      <td>0</td>\n      <td>0</td>\n      <td>...</td>\n      <td>0</td>\n      <td>0</td>\n      <td>0</td>\n      <td>0</td>\n      <td>0</td>\n      <td>0</td>\n      <td>0.000269</td>\n      <td>0</td>\n      <td>0</td>\n      <td>1</td>\n    </tr>\n    <tr>\n      <th>3007411</th>\n      <td>987.339167</td>\n      <td>33</td>\n      <td>31</td>\n      <td>2</td>\n      <td>2</td>\n      <td>1</td>\n      <td>1</td>\n      <td>0</td>\n      <td>0</td>\n      <td>0</td>\n      <td>...</td>\n      <td>0</td>\n      <td>0</td>\n      <td>0</td>\n      <td>0</td>\n      <td>0</td>\n      <td>0</td>\n      <td>0.000603</td>\n      <td>0</td>\n      <td>0</td>\n      <td>1</td>\n    </tr>\n  </tbody>\n</table>\n<p>3997999 rows × 22 columns</p>\n</div>"
     },
     "execution_count": 22,
     "metadata": {},
     "output_type": "execute_result"
    }
   ],
   "source": [
    "X = data_en_train.drop(['passed'], axis=1)\n",
    "y = data_en_train['passed']\n",
    "X"
   ],
   "metadata": {
    "collapsed": false,
    "pycharm": {
     "name": "#%%\n"
    }
   }
  },
  {
   "cell_type": "code",
   "execution_count": 23,
   "outputs": [],
   "source": [
    "from imblearn.over_sampling import SMOTE\n",
    "oversampled = SMOTE(random_state=0)\n",
    "X_train_smote, y_train_smote = oversampled.fit_resample(X, y)"
   ],
   "metadata": {
    "collapsed": false,
    "pycharm": {
     "name": "#%%\n"
    }
   }
  },
  {
   "cell_type": "code",
   "execution_count": 26,
   "outputs": [
    {
     "name": "stdout",
     "output_type": "stream",
     "text": [
      "6708810\n",
      "6708810\n",
      "1    3354405\n",
      "0    3354405\n",
      "Name: passed, dtype: int64\n"
     ]
    }
   ],
   "source": [
    "print(len(X_train_smote))\n",
    "print(len(y_train_smote))\n",
    "print(pd.value_counts(y_train_smote))\n"
   ],
   "metadata": {
    "collapsed": false,
    "pycharm": {
     "name": "#%%\n"
    }
   }
  },
  {
   "cell_type": "code",
   "execution_count": 24,
   "outputs": [
    {
     "data": {
      "text/plain": "               delta  history_seen  history_correct  history_incorrect  \\\n0         196.707778             6                6                  0   \n1           0.065556            13               10                  3   \n2           0.130000            12               11                  1   \n3           0.234167            33               32                  1   \n4          92.646111             1                1                  0   \n...              ...           ...              ...                ...   \n6708805     0.123270             2                2                  0   \n6708806    67.675043             4                3                  1   \n6708807  2496.947899            10                9                  0   \n6708808    23.637890             5                5                  0   \n6708809     0.172238            26               24                  2   \n\n         word_length  differs_from_root  verb  noun  preposition  pronoun  \\\n0                  5                  0     0     0            0        0   \n1                  5                  0     0     1            0        0   \n2                  5                  0     0     1            0        0   \n3                  3                  0     0     1            0        0   \n4                  5                  0     0     1            0        0   \n...              ...                ...   ...   ...          ...      ...   \n6708805            4                  0     0     1            0        0   \n6708806            5                  0     0     1            0        0   \n6708807            4                  0     0     0            0        0   \n6708808            7                  1     0     1            0        0   \n6708809            2                  1     0     0            0        1   \n\n         ...  determiner  interjection  plural  number  phrase  word_freq  \\\n0        ...           0             1       0       0       0   0.000053   \n1        ...           0             0       0       0       0   0.000032   \n2        ...           0             0       0       0       0   0.000032   \n3        ...           0             0       0       0       0   0.000148   \n4        ...           0             0       0       0       0   0.000036   \n...      ...         ...           ...     ...     ...     ...        ...   \n6708805  ...           0             0       0       0       0   0.000018   \n6708806  ...           0             0       0       0       0   0.000102   \n6708807  ...           0             0       0       0       0   0.000033   \n6708808  ...           0             0       1       0       0   0.000069   \n6708809  ...           0             0       1       0       0   0.003470   \n\n         ui_language_es  ui_language_it  ui_language_pt  passed  \n0                     1               0               0       1  \n1                     1               0               0       1  \n2                     1               0               0       1  \n3                     0               0               1       1  \n4                     0               1               0       0  \n...                 ...             ...             ...     ...  \n6708805               1               0               0       0  \n6708806               1               0               0       0  \n6708807               1               0               0       0  \n6708808               0               1               0       0  \n6708809               1               0               0       0  \n\n[6708810 rows x 23 columns]",
      "text/html": "<div>\n<style scoped>\n    .dataframe tbody tr th:only-of-type {\n        vertical-align: middle;\n    }\n\n    .dataframe tbody tr th {\n        vertical-align: top;\n    }\n\n    .dataframe thead th {\n        text-align: right;\n    }\n</style>\n<table border=\"1\" class=\"dataframe\">\n  <thead>\n    <tr style=\"text-align: right;\">\n      <th></th>\n      <th>delta</th>\n      <th>history_seen</th>\n      <th>history_correct</th>\n      <th>history_incorrect</th>\n      <th>word_length</th>\n      <th>differs_from_root</th>\n      <th>verb</th>\n      <th>noun</th>\n      <th>preposition</th>\n      <th>pronoun</th>\n      <th>...</th>\n      <th>determiner</th>\n      <th>interjection</th>\n      <th>plural</th>\n      <th>number</th>\n      <th>phrase</th>\n      <th>word_freq</th>\n      <th>ui_language_es</th>\n      <th>ui_language_it</th>\n      <th>ui_language_pt</th>\n      <th>passed</th>\n    </tr>\n  </thead>\n  <tbody>\n    <tr>\n      <th>0</th>\n      <td>196.707778</td>\n      <td>6</td>\n      <td>6</td>\n      <td>0</td>\n      <td>5</td>\n      <td>0</td>\n      <td>0</td>\n      <td>0</td>\n      <td>0</td>\n      <td>0</td>\n      <td>...</td>\n      <td>0</td>\n      <td>1</td>\n      <td>0</td>\n      <td>0</td>\n      <td>0</td>\n      <td>0.000053</td>\n      <td>1</td>\n      <td>0</td>\n      <td>0</td>\n      <td>1</td>\n    </tr>\n    <tr>\n      <th>1</th>\n      <td>0.065556</td>\n      <td>13</td>\n      <td>10</td>\n      <td>3</td>\n      <td>5</td>\n      <td>0</td>\n      <td>0</td>\n      <td>1</td>\n      <td>0</td>\n      <td>0</td>\n      <td>...</td>\n      <td>0</td>\n      <td>0</td>\n      <td>0</td>\n      <td>0</td>\n      <td>0</td>\n      <td>0.000032</td>\n      <td>1</td>\n      <td>0</td>\n      <td>0</td>\n      <td>1</td>\n    </tr>\n    <tr>\n      <th>2</th>\n      <td>0.130000</td>\n      <td>12</td>\n      <td>11</td>\n      <td>1</td>\n      <td>5</td>\n      <td>0</td>\n      <td>0</td>\n      <td>1</td>\n      <td>0</td>\n      <td>0</td>\n      <td>...</td>\n      <td>0</td>\n      <td>0</td>\n      <td>0</td>\n      <td>0</td>\n      <td>0</td>\n      <td>0.000032</td>\n      <td>1</td>\n      <td>0</td>\n      <td>0</td>\n      <td>1</td>\n    </tr>\n    <tr>\n      <th>3</th>\n      <td>0.234167</td>\n      <td>33</td>\n      <td>32</td>\n      <td>1</td>\n      <td>3</td>\n      <td>0</td>\n      <td>0</td>\n      <td>1</td>\n      <td>0</td>\n      <td>0</td>\n      <td>...</td>\n      <td>0</td>\n      <td>0</td>\n      <td>0</td>\n      <td>0</td>\n      <td>0</td>\n      <td>0.000148</td>\n      <td>0</td>\n      <td>0</td>\n      <td>1</td>\n      <td>1</td>\n    </tr>\n    <tr>\n      <th>4</th>\n      <td>92.646111</td>\n      <td>1</td>\n      <td>1</td>\n      <td>0</td>\n      <td>5</td>\n      <td>0</td>\n      <td>0</td>\n      <td>1</td>\n      <td>0</td>\n      <td>0</td>\n      <td>...</td>\n      <td>0</td>\n      <td>0</td>\n      <td>0</td>\n      <td>0</td>\n      <td>0</td>\n      <td>0.000036</td>\n      <td>0</td>\n      <td>1</td>\n      <td>0</td>\n      <td>0</td>\n    </tr>\n    <tr>\n      <th>...</th>\n      <td>...</td>\n      <td>...</td>\n      <td>...</td>\n      <td>...</td>\n      <td>...</td>\n      <td>...</td>\n      <td>...</td>\n      <td>...</td>\n      <td>...</td>\n      <td>...</td>\n      <td>...</td>\n      <td>...</td>\n      <td>...</td>\n      <td>...</td>\n      <td>...</td>\n      <td>...</td>\n      <td>...</td>\n      <td>...</td>\n      <td>...</td>\n      <td>...</td>\n      <td>...</td>\n    </tr>\n    <tr>\n      <th>6708805</th>\n      <td>0.123270</td>\n      <td>2</td>\n      <td>2</td>\n      <td>0</td>\n      <td>4</td>\n      <td>0</td>\n      <td>0</td>\n      <td>1</td>\n      <td>0</td>\n      <td>0</td>\n      <td>...</td>\n      <td>0</td>\n      <td>0</td>\n      <td>0</td>\n      <td>0</td>\n      <td>0</td>\n      <td>0.000018</td>\n      <td>1</td>\n      <td>0</td>\n      <td>0</td>\n      <td>0</td>\n    </tr>\n    <tr>\n      <th>6708806</th>\n      <td>67.675043</td>\n      <td>4</td>\n      <td>3</td>\n      <td>1</td>\n      <td>5</td>\n      <td>0</td>\n      <td>0</td>\n      <td>1</td>\n      <td>0</td>\n      <td>0</td>\n      <td>...</td>\n      <td>0</td>\n      <td>0</td>\n      <td>0</td>\n      <td>0</td>\n      <td>0</td>\n      <td>0.000102</td>\n      <td>1</td>\n      <td>0</td>\n      <td>0</td>\n      <td>0</td>\n    </tr>\n    <tr>\n      <th>6708807</th>\n      <td>2496.947899</td>\n      <td>10</td>\n      <td>9</td>\n      <td>0</td>\n      <td>4</td>\n      <td>0</td>\n      <td>0</td>\n      <td>0</td>\n      <td>0</td>\n      <td>0</td>\n      <td>...</td>\n      <td>0</td>\n      <td>0</td>\n      <td>0</td>\n      <td>0</td>\n      <td>0</td>\n      <td>0.000033</td>\n      <td>1</td>\n      <td>0</td>\n      <td>0</td>\n      <td>0</td>\n    </tr>\n    <tr>\n      <th>6708808</th>\n      <td>23.637890</td>\n      <td>5</td>\n      <td>5</td>\n      <td>0</td>\n      <td>7</td>\n      <td>1</td>\n      <td>0</td>\n      <td>1</td>\n      <td>0</td>\n      <td>0</td>\n      <td>...</td>\n      <td>0</td>\n      <td>0</td>\n      <td>1</td>\n      <td>0</td>\n      <td>0</td>\n      <td>0.000069</td>\n      <td>0</td>\n      <td>1</td>\n      <td>0</td>\n      <td>0</td>\n    </tr>\n    <tr>\n      <th>6708809</th>\n      <td>0.172238</td>\n      <td>26</td>\n      <td>24</td>\n      <td>2</td>\n      <td>2</td>\n      <td>1</td>\n      <td>0</td>\n      <td>0</td>\n      <td>0</td>\n      <td>1</td>\n      <td>...</td>\n      <td>0</td>\n      <td>0</td>\n      <td>1</td>\n      <td>0</td>\n      <td>0</td>\n      <td>0.003470</td>\n      <td>1</td>\n      <td>0</td>\n      <td>0</td>\n      <td>0</td>\n    </tr>\n  </tbody>\n</table>\n<p>6708810 rows × 23 columns</p>\n</div>"
     },
     "execution_count": 24,
     "metadata": {},
     "output_type": "execute_result"
    }
   ],
   "source": [],
   "metadata": {
    "collapsed": false,
    "pycharm": {
     "name": "#%%\n"
    }
   }
  },
  {
   "cell_type": "code",
   "execution_count": 27,
   "outputs": [],
   "source": [
    "data_en_train_oversampled = X_train_smote\n"
   ],
   "metadata": {
    "collapsed": false,
    "pycharm": {
     "name": "#%%\n"
    }
   }
  },
  {
   "cell_type": "code",
   "execution_count": 29,
   "outputs": [],
   "source": [
    "data_en_train_oversampled.to_csv(\"data_ready_en_train_oversampled.csv\",index=False)\n"
   ],
   "metadata": {
    "collapsed": false,
    "pycharm": {
     "name": "#%%\n"
    }
   }
  },
  {
   "cell_type": "code",
   "execution_count": 30,
   "outputs": [],
   "source": [
    "from imblearn.under_sampling import RandomUnderSampler\n",
    "rus = RandomUnderSampler(random_state=42)\n",
    "X_under, y_under = rus.fit_resample(X, y)"
   ],
   "metadata": {
    "collapsed": false,
    "pycharm": {
     "name": "#%%\n"
    }
   }
  },
  {
   "cell_type": "code",
   "execution_count": 31,
   "outputs": [
    {
     "name": "stdout",
     "output_type": "stream",
     "text": [
      "1287188\n",
      "1287188\n",
      "0    643594\n",
      "1    643594\n",
      "Name: passed, dtype: int64\n"
     ]
    }
   ],
   "source": [
    "print(len(X_under))\n",
    "print(len(y_under))\n",
    "print(pd.value_counts(y_under))"
   ],
   "metadata": {
    "collapsed": false,
    "pycharm": {
     "name": "#%%\n"
    }
   }
  },
  {
   "cell_type": "code",
   "execution_count": 32,
   "outputs": [],
   "source": [
    "X_under[\"passed\"]=y_under"
   ],
   "metadata": {
    "collapsed": false,
    "pycharm": {
     "name": "#%%\n"
    }
   }
  },
  {
   "cell_type": "code",
   "execution_count": 33,
   "outputs": [
    {
     "data": {
      "text/plain": "               delta  history_seen  history_correct  history_incorrect  \\\n0          92.646111             1                1                  0   \n1           4.446667             4                4                  0   \n2        3479.713889            34               30                  4   \n3           0.128056            27               27                  0   \n4          46.780556            55               45                 10   \n...              ...           ...              ...                ...   \n1287183    40.598889            52               48                  4   \n1287184     0.413056            16               16                  0   \n1287185    85.583611            35               32                  3   \n1287186   334.465833            43               40                  3   \n1287187   350.208611            29               29                  0   \n\n         word_length  differs_from_root  verb  noun  preposition  pronoun  \\\n0                  5                  0     0     1            0        0   \n1                  4                  0     0     1            0        0   \n2                  2                  0     0     0            1        0   \n3                  4                  0     0     1            0        0   \n4                  3                  0     0     0            0        0   \n...              ...                ...   ...   ...          ...      ...   \n1287183            4                  0     0     1            0        0   \n1287184            5                  0     1     0            0        0   \n1287185            5                  0     0     1            0        0   \n1287186            2                  1     1     0            0        0   \n1287187            5                  0     0     1            0        0   \n\n         ...  determiner  interjection  plural  number  phrase  word_freq  \\\n0        ...           0             0       0       0       0   0.000036   \n1        ...           0             0       0       0       0   0.000055   \n2        ...           0             0       0       0       0   0.025100   \n3        ...           0             0       0       0       0   0.000022   \n4        ...           0             0       0       0       0   0.025700   \n...      ...         ...           ...     ...     ...     ...        ...   \n1287183  ...           0             0       0       0       0   0.000240   \n1287184  ...           0             0       0       0       0   0.000079   \n1287185  ...           0             0       0       0       0   0.000224   \n1287186  ...           0             0       0       0       0   0.000603   \n1287187  ...           0             0       0       0       0   0.000331   \n\n         ui_language_es  ui_language_it  ui_language_pt  passed  \n0                     0               1               0       0  \n1                     1               0               0       0  \n2                     1               0               0       0  \n3                     1               0               0       0  \n4                     1               0               0       0  \n...                 ...             ...             ...     ...  \n1287183               1               0               0       1  \n1287184               0               0               1       1  \n1287185               0               0               1       1  \n1287186               0               1               0       1  \n1287187               1               0               0       1  \n\n[1287188 rows x 23 columns]",
      "text/html": "<div>\n<style scoped>\n    .dataframe tbody tr th:only-of-type {\n        vertical-align: middle;\n    }\n\n    .dataframe tbody tr th {\n        vertical-align: top;\n    }\n\n    .dataframe thead th {\n        text-align: right;\n    }\n</style>\n<table border=\"1\" class=\"dataframe\">\n  <thead>\n    <tr style=\"text-align: right;\">\n      <th></th>\n      <th>delta</th>\n      <th>history_seen</th>\n      <th>history_correct</th>\n      <th>history_incorrect</th>\n      <th>word_length</th>\n      <th>differs_from_root</th>\n      <th>verb</th>\n      <th>noun</th>\n      <th>preposition</th>\n      <th>pronoun</th>\n      <th>...</th>\n      <th>determiner</th>\n      <th>interjection</th>\n      <th>plural</th>\n      <th>number</th>\n      <th>phrase</th>\n      <th>word_freq</th>\n      <th>ui_language_es</th>\n      <th>ui_language_it</th>\n      <th>ui_language_pt</th>\n      <th>passed</th>\n    </tr>\n  </thead>\n  <tbody>\n    <tr>\n      <th>0</th>\n      <td>92.646111</td>\n      <td>1</td>\n      <td>1</td>\n      <td>0</td>\n      <td>5</td>\n      <td>0</td>\n      <td>0</td>\n      <td>1</td>\n      <td>0</td>\n      <td>0</td>\n      <td>...</td>\n      <td>0</td>\n      <td>0</td>\n      <td>0</td>\n      <td>0</td>\n      <td>0</td>\n      <td>0.000036</td>\n      <td>0</td>\n      <td>1</td>\n      <td>0</td>\n      <td>0</td>\n    </tr>\n    <tr>\n      <th>1</th>\n      <td>4.446667</td>\n      <td>4</td>\n      <td>4</td>\n      <td>0</td>\n      <td>4</td>\n      <td>0</td>\n      <td>0</td>\n      <td>1</td>\n      <td>0</td>\n      <td>0</td>\n      <td>...</td>\n      <td>0</td>\n      <td>0</td>\n      <td>0</td>\n      <td>0</td>\n      <td>0</td>\n      <td>0.000055</td>\n      <td>1</td>\n      <td>0</td>\n      <td>0</td>\n      <td>0</td>\n    </tr>\n    <tr>\n      <th>2</th>\n      <td>3479.713889</td>\n      <td>34</td>\n      <td>30</td>\n      <td>4</td>\n      <td>2</td>\n      <td>0</td>\n      <td>0</td>\n      <td>0</td>\n      <td>1</td>\n      <td>0</td>\n      <td>...</td>\n      <td>0</td>\n      <td>0</td>\n      <td>0</td>\n      <td>0</td>\n      <td>0</td>\n      <td>0.025100</td>\n      <td>1</td>\n      <td>0</td>\n      <td>0</td>\n      <td>0</td>\n    </tr>\n    <tr>\n      <th>3</th>\n      <td>0.128056</td>\n      <td>27</td>\n      <td>27</td>\n      <td>0</td>\n      <td>4</td>\n      <td>0</td>\n      <td>0</td>\n      <td>1</td>\n      <td>0</td>\n      <td>0</td>\n      <td>...</td>\n      <td>0</td>\n      <td>0</td>\n      <td>0</td>\n      <td>0</td>\n      <td>0</td>\n      <td>0.000022</td>\n      <td>1</td>\n      <td>0</td>\n      <td>0</td>\n      <td>0</td>\n    </tr>\n    <tr>\n      <th>4</th>\n      <td>46.780556</td>\n      <td>55</td>\n      <td>45</td>\n      <td>10</td>\n      <td>3</td>\n      <td>0</td>\n      <td>0</td>\n      <td>0</td>\n      <td>0</td>\n      <td>0</td>\n      <td>...</td>\n      <td>0</td>\n      <td>0</td>\n      <td>0</td>\n      <td>0</td>\n      <td>0</td>\n      <td>0.025700</td>\n      <td>1</td>\n      <td>0</td>\n      <td>0</td>\n      <td>0</td>\n    </tr>\n    <tr>\n      <th>...</th>\n      <td>...</td>\n      <td>...</td>\n      <td>...</td>\n      <td>...</td>\n      <td>...</td>\n      <td>...</td>\n      <td>...</td>\n      <td>...</td>\n      <td>...</td>\n      <td>...</td>\n      <td>...</td>\n      <td>...</td>\n      <td>...</td>\n      <td>...</td>\n      <td>...</td>\n      <td>...</td>\n      <td>...</td>\n      <td>...</td>\n      <td>...</td>\n      <td>...</td>\n      <td>...</td>\n    </tr>\n    <tr>\n      <th>1287183</th>\n      <td>40.598889</td>\n      <td>52</td>\n      <td>48</td>\n      <td>4</td>\n      <td>4</td>\n      <td>0</td>\n      <td>0</td>\n      <td>1</td>\n      <td>0</td>\n      <td>0</td>\n      <td>...</td>\n      <td>0</td>\n      <td>0</td>\n      <td>0</td>\n      <td>0</td>\n      <td>0</td>\n      <td>0.000240</td>\n      <td>1</td>\n      <td>0</td>\n      <td>0</td>\n      <td>1</td>\n    </tr>\n    <tr>\n      <th>1287184</th>\n      <td>0.413056</td>\n      <td>16</td>\n      <td>16</td>\n      <td>0</td>\n      <td>5</td>\n      <td>0</td>\n      <td>1</td>\n      <td>0</td>\n      <td>0</td>\n      <td>0</td>\n      <td>...</td>\n      <td>0</td>\n      <td>0</td>\n      <td>0</td>\n      <td>0</td>\n      <td>0</td>\n      <td>0.000079</td>\n      <td>0</td>\n      <td>0</td>\n      <td>1</td>\n      <td>1</td>\n    </tr>\n    <tr>\n      <th>1287185</th>\n      <td>85.583611</td>\n      <td>35</td>\n      <td>32</td>\n      <td>3</td>\n      <td>5</td>\n      <td>0</td>\n      <td>0</td>\n      <td>1</td>\n      <td>0</td>\n      <td>0</td>\n      <td>...</td>\n      <td>0</td>\n      <td>0</td>\n      <td>0</td>\n      <td>0</td>\n      <td>0</td>\n      <td>0.000224</td>\n      <td>0</td>\n      <td>0</td>\n      <td>1</td>\n      <td>1</td>\n    </tr>\n    <tr>\n      <th>1287186</th>\n      <td>334.465833</td>\n      <td>43</td>\n      <td>40</td>\n      <td>3</td>\n      <td>2</td>\n      <td>1</td>\n      <td>1</td>\n      <td>0</td>\n      <td>0</td>\n      <td>0</td>\n      <td>...</td>\n      <td>0</td>\n      <td>0</td>\n      <td>0</td>\n      <td>0</td>\n      <td>0</td>\n      <td>0.000603</td>\n      <td>0</td>\n      <td>1</td>\n      <td>0</td>\n      <td>1</td>\n    </tr>\n    <tr>\n      <th>1287187</th>\n      <td>350.208611</td>\n      <td>29</td>\n      <td>29</td>\n      <td>0</td>\n      <td>5</td>\n      <td>0</td>\n      <td>0</td>\n      <td>1</td>\n      <td>0</td>\n      <td>0</td>\n      <td>...</td>\n      <td>0</td>\n      <td>0</td>\n      <td>0</td>\n      <td>0</td>\n      <td>0</td>\n      <td>0.000331</td>\n      <td>1</td>\n      <td>0</td>\n      <td>0</td>\n      <td>1</td>\n    </tr>\n  </tbody>\n</table>\n<p>1287188 rows × 23 columns</p>\n</div>"
     },
     "execution_count": 33,
     "metadata": {},
     "output_type": "execute_result"
    }
   ],
   "source": [
    "data_en_train_undersampled=X_under\n",
    "data_en_train_undersampled"
   ],
   "metadata": {
    "collapsed": false,
    "pycharm": {
     "name": "#%%\n"
    }
   }
  },
  {
   "cell_type": "code",
   "execution_count": 34,
   "outputs": [],
   "source": [
    "data_en_train_undersampled.to_csv(\"data_ready_en_train_undersampled.csv\",index=False)"
   ],
   "metadata": {
    "collapsed": false,
    "pycharm": {
     "name": "#%%\n"
    }
   }
  },
  {
   "cell_type": "code",
   "execution_count": null,
   "outputs": [],
   "source": [
    "del data_en[\"p_recall\"]\n"
   ],
   "metadata": {
    "collapsed": false,
    "pycharm": {
     "name": "#%%\n"
    }
   }
  },
  {
   "cell_type": "code",
   "execution_count": null,
   "outputs": [],
   "source": [
    "X = data_en.drop(['passed','session_seen'], axis=1)\n",
    "y = data_en['passed']\n",
    "X"
   ],
   "metadata": {
    "collapsed": false,
    "pycharm": {
     "name": "#%%\n"
    }
   }
  },
  {
   "cell_type": "code",
   "execution_count": null,
   "outputs": [],
   "source": [
    "print(pd.value_counts(y))\n",
    "print(len(data_en))"
   ],
   "metadata": {
    "collapsed": false,
    "pycharm": {
     "name": "#%%\n"
    }
   }
  },
  {
   "cell_type": "code",
   "execution_count": null,
   "outputs": [],
   "source": [
    "X_train, X_test, y_train, y_test = train_test_split(X, y, test_size=0.2, random_state=42)"
   ],
   "metadata": {
    "collapsed": false,
    "pycharm": {
     "name": "#%%\n"
    }
   }
  },
  {
   "cell_type": "code",
   "execution_count": 21,
   "outputs": [],
   "source": [
    "from sklearn.ensemble import RandomForestClassifier\n",
    "from sklearn.metrics import classification_report\n",
    "from imblearn.under_sampling import RandomUnderSampler\n",
    "from imblearn.over_sampling import SMOTE\n"
   ],
   "metadata": {
    "collapsed": false,
    "pycharm": {
     "name": "#%%\n"
    }
   }
  },
  {
   "cell_type": "code",
   "execution_count": 8,
   "outputs": [
    {
     "data": {
      "text/plain": "         p_recall        delta  history_seen  history_correct  \\\n2854018       1.0     0.131944             6                4   \n30776         1.0   257.612500             4                3   \n98489         1.0  2354.541111             2                2   \n2602557       1.0     0.037778             1                1   \n4954945       1.0    20.241667           373              340   \n...           ...          ...           ...              ...   \n1570006       1.0     0.166111             5                5   \n2234489       1.0   130.625278             5                4   \n4926484       1.0     0.173333             5                5   \n4304572       1.0    79.720278             6                6   \n1692743       1.0     0.071944             7                7   \n\n         history_incorrect  word_length  differs_from_root  verb  noun  \\\n2854018                  2            4                  0     1     0   \n30776                    1            3                  0     0     0   \n98489                    0            4                  1     0     1   \n2602557                  0            5                  1     0     1   \n4954945                 33            2                  1     1     0   \n...                    ...          ...                ...   ...   ...   \n1570006                  0            5                  0     0     0   \n2234489                  1            2                  1     0     0   \n4926484                  0            7                  0     0     1   \n4304572                  0            5                  0     0     1   \n1692743                  0            3                  0     0     1   \n\n         preposition  ...  conjunction  determiner  interjection  plural  \\\n2854018            0  ...            0           0             0       0   \n30776              0  ...            0           0             0       0   \n98489              0  ...            0           0             0       1   \n2602557            0  ...            0           0             0       1   \n4954945            0  ...            0           0             0       0   \n...              ...  ...          ...         ...           ...     ...   \n1570006            0  ...            0           0             0       0   \n2234489            0  ...            0           1             0       0   \n4926484            0  ...            0           0             0       0   \n4304572            0  ...            0           0             0       0   \n1692743            0  ...            0           0             0       0   \n\n         number  phrase  word_freq  ui_language_es  ui_language_it  \\\n2854018       0       0   0.001260               0               0   \n30776         0       0   0.000851               1               0   \n98489         0       0   0.000059               1               0   \n2602557       0       0   0.000008               0               0   \n4954945       0       0   0.000603               1               0   \n...         ...     ...        ...             ...             ...   \n1570006       0       0   0.000288               1               0   \n2234489       0       0   0.003390               1               0   \n4926484       0       0   0.000043               0               1   \n4304572       0       0   0.000120               0               0   \n1692743       0       0   0.000126               1               0   \n\n         ui_language_pt  \n2854018               1  \n30776                 0  \n98489                 0  \n2602557               1  \n4954945               0  \n...                 ...  \n1570006               0  \n2234489               0  \n4926484               0  \n4304572               1  \n1692743               0  \n\n[3997999 rows x 23 columns]",
      "text/html": "<div>\n<style scoped>\n    .dataframe tbody tr th:only-of-type {\n        vertical-align: middle;\n    }\n\n    .dataframe tbody tr th {\n        vertical-align: top;\n    }\n\n    .dataframe thead th {\n        text-align: right;\n    }\n</style>\n<table border=\"1\" class=\"dataframe\">\n  <thead>\n    <tr style=\"text-align: right;\">\n      <th></th>\n      <th>p_recall</th>\n      <th>delta</th>\n      <th>history_seen</th>\n      <th>history_correct</th>\n      <th>history_incorrect</th>\n      <th>word_length</th>\n      <th>differs_from_root</th>\n      <th>verb</th>\n      <th>noun</th>\n      <th>preposition</th>\n      <th>...</th>\n      <th>conjunction</th>\n      <th>determiner</th>\n      <th>interjection</th>\n      <th>plural</th>\n      <th>number</th>\n      <th>phrase</th>\n      <th>word_freq</th>\n      <th>ui_language_es</th>\n      <th>ui_language_it</th>\n      <th>ui_language_pt</th>\n    </tr>\n  </thead>\n  <tbody>\n    <tr>\n      <th>2854018</th>\n      <td>1.0</td>\n      <td>0.131944</td>\n      <td>6</td>\n      <td>4</td>\n      <td>2</td>\n      <td>4</td>\n      <td>0</td>\n      <td>1</td>\n      <td>0</td>\n      <td>0</td>\n      <td>...</td>\n      <td>0</td>\n      <td>0</td>\n      <td>0</td>\n      <td>0</td>\n      <td>0</td>\n      <td>0</td>\n      <td>0.001260</td>\n      <td>0</td>\n      <td>0</td>\n      <td>1</td>\n    </tr>\n    <tr>\n      <th>30776</th>\n      <td>1.0</td>\n      <td>257.612500</td>\n      <td>4</td>\n      <td>3</td>\n      <td>1</td>\n      <td>3</td>\n      <td>0</td>\n      <td>0</td>\n      <td>0</td>\n      <td>0</td>\n      <td>...</td>\n      <td>0</td>\n      <td>0</td>\n      <td>0</td>\n      <td>0</td>\n      <td>0</td>\n      <td>0</td>\n      <td>0.000851</td>\n      <td>1</td>\n      <td>0</td>\n      <td>0</td>\n    </tr>\n    <tr>\n      <th>98489</th>\n      <td>1.0</td>\n      <td>2354.541111</td>\n      <td>2</td>\n      <td>2</td>\n      <td>0</td>\n      <td>4</td>\n      <td>1</td>\n      <td>0</td>\n      <td>1</td>\n      <td>0</td>\n      <td>...</td>\n      <td>0</td>\n      <td>0</td>\n      <td>0</td>\n      <td>1</td>\n      <td>0</td>\n      <td>0</td>\n      <td>0.000059</td>\n      <td>1</td>\n      <td>0</td>\n      <td>0</td>\n    </tr>\n    <tr>\n      <th>2602557</th>\n      <td>1.0</td>\n      <td>0.037778</td>\n      <td>1</td>\n      <td>1</td>\n      <td>0</td>\n      <td>5</td>\n      <td>1</td>\n      <td>0</td>\n      <td>1</td>\n      <td>0</td>\n      <td>...</td>\n      <td>0</td>\n      <td>0</td>\n      <td>0</td>\n      <td>1</td>\n      <td>0</td>\n      <td>0</td>\n      <td>0.000008</td>\n      <td>0</td>\n      <td>0</td>\n      <td>1</td>\n    </tr>\n    <tr>\n      <th>4954945</th>\n      <td>1.0</td>\n      <td>20.241667</td>\n      <td>373</td>\n      <td>340</td>\n      <td>33</td>\n      <td>2</td>\n      <td>1</td>\n      <td>1</td>\n      <td>0</td>\n      <td>0</td>\n      <td>...</td>\n      <td>0</td>\n      <td>0</td>\n      <td>0</td>\n      <td>0</td>\n      <td>0</td>\n      <td>0</td>\n      <td>0.000603</td>\n      <td>1</td>\n      <td>0</td>\n      <td>0</td>\n    </tr>\n    <tr>\n      <th>...</th>\n      <td>...</td>\n      <td>...</td>\n      <td>...</td>\n      <td>...</td>\n      <td>...</td>\n      <td>...</td>\n      <td>...</td>\n      <td>...</td>\n      <td>...</td>\n      <td>...</td>\n      <td>...</td>\n      <td>...</td>\n      <td>...</td>\n      <td>...</td>\n      <td>...</td>\n      <td>...</td>\n      <td>...</td>\n      <td>...</td>\n      <td>...</td>\n      <td>...</td>\n      <td>...</td>\n    </tr>\n    <tr>\n      <th>1570006</th>\n      <td>1.0</td>\n      <td>0.166111</td>\n      <td>5</td>\n      <td>5</td>\n      <td>0</td>\n      <td>5</td>\n      <td>0</td>\n      <td>0</td>\n      <td>0</td>\n      <td>0</td>\n      <td>...</td>\n      <td>0</td>\n      <td>0</td>\n      <td>0</td>\n      <td>0</td>\n      <td>0</td>\n      <td>0</td>\n      <td>0.000288</td>\n      <td>1</td>\n      <td>0</td>\n      <td>0</td>\n    </tr>\n    <tr>\n      <th>2234489</th>\n      <td>1.0</td>\n      <td>130.625278</td>\n      <td>5</td>\n      <td>4</td>\n      <td>1</td>\n      <td>2</td>\n      <td>1</td>\n      <td>0</td>\n      <td>0</td>\n      <td>0</td>\n      <td>...</td>\n      <td>0</td>\n      <td>1</td>\n      <td>0</td>\n      <td>0</td>\n      <td>0</td>\n      <td>0</td>\n      <td>0.003390</td>\n      <td>1</td>\n      <td>0</td>\n      <td>0</td>\n    </tr>\n    <tr>\n      <th>4926484</th>\n      <td>1.0</td>\n      <td>0.173333</td>\n      <td>5</td>\n      <td>5</td>\n      <td>0</td>\n      <td>7</td>\n      <td>0</td>\n      <td>0</td>\n      <td>1</td>\n      <td>0</td>\n      <td>...</td>\n      <td>0</td>\n      <td>0</td>\n      <td>0</td>\n      <td>0</td>\n      <td>0</td>\n      <td>0</td>\n      <td>0.000043</td>\n      <td>0</td>\n      <td>1</td>\n      <td>0</td>\n    </tr>\n    <tr>\n      <th>4304572</th>\n      <td>1.0</td>\n      <td>79.720278</td>\n      <td>6</td>\n      <td>6</td>\n      <td>0</td>\n      <td>5</td>\n      <td>0</td>\n      <td>0</td>\n      <td>1</td>\n      <td>0</td>\n      <td>...</td>\n      <td>0</td>\n      <td>0</td>\n      <td>0</td>\n      <td>0</td>\n      <td>0</td>\n      <td>0</td>\n      <td>0.000120</td>\n      <td>0</td>\n      <td>0</td>\n      <td>1</td>\n    </tr>\n    <tr>\n      <th>1692743</th>\n      <td>1.0</td>\n      <td>0.071944</td>\n      <td>7</td>\n      <td>7</td>\n      <td>0</td>\n      <td>3</td>\n      <td>0</td>\n      <td>0</td>\n      <td>1</td>\n      <td>0</td>\n      <td>...</td>\n      <td>0</td>\n      <td>0</td>\n      <td>0</td>\n      <td>0</td>\n      <td>0</td>\n      <td>0</td>\n      <td>0.000126</td>\n      <td>1</td>\n      <td>0</td>\n      <td>0</td>\n    </tr>\n  </tbody>\n</table>\n<p>3997999 rows × 23 columns</p>\n</div>"
     },
     "execution_count": 8,
     "metadata": {},
     "output_type": "execute_result"
    }
   ],
   "source": [
    "X_train"
   ],
   "metadata": {
    "collapsed": false,
    "pycharm": {
     "name": "#%%\n"
    }
   }
  },
  {
   "cell_type": "code",
   "execution_count": 9,
   "outputs": [
    {
     "name": "stdout",
     "output_type": "stream",
     "text": [
      "1    3354072\n",
      "0     643927\n",
      "Name: passed, dtype: int64\n",
      "3997999\n"
     ]
    }
   ],
   "source": [
    "print(pd.value_counts(y_train))\n",
    "print(len(y_train))"
   ],
   "metadata": {
    "collapsed": false,
    "pycharm": {
     "name": "#%%\n"
    }
   }
  },
  {
   "cell_type": "code",
   "execution_count": null,
   "outputs": [],
   "source": [],
   "metadata": {
    "collapsed": false,
    "pycharm": {
     "name": "#%%\n"
    }
   }
  },
  {
   "cell_type": "code",
   "execution_count": 11,
   "outputs": [
    {
     "name": "stdout",
     "output_type": "stream",
     "text": [
      "1    838935\n",
      "0    160565\n",
      "Name: passed, dtype: int64\n",
      "999500\n"
     ]
    }
   ],
   "source": [
    "print(pd.value_counts(y_test))\n",
    "print(len(y_test))"
   ],
   "metadata": {
    "collapsed": false,
    "pycharm": {
     "name": "#%%\n"
    }
   }
  },
  {
   "cell_type": "code",
   "execution_count": null,
   "outputs": [],
   "source": [
    "#SMOTE oversampler"
   ],
   "metadata": {
    "collapsed": false,
    "pycharm": {
     "name": "#%%\n"
    }
   }
  },
  {
   "cell_type": "code",
   "execution_count": 13,
   "outputs": [],
   "source": [
    "oversampled = SMOTE(random_state=0)\n",
    "X_train_smote, y_train_smote = oversampled.fit_resample(X_train, y_train)"
   ],
   "metadata": {
    "collapsed": false,
    "pycharm": {
     "name": "#%%\n"
    }
   }
  },
  {
   "cell_type": "code",
   "execution_count": 14,
   "outputs": [
    {
     "name": "stdout",
     "output_type": "stream",
     "text": [
      "1    3354072\n",
      "0    3354072\n",
      "Name: passed, dtype: int64\n"
     ]
    }
   ],
   "source": [
    "print(pd.value_counts(y_train_smote))"
   ],
   "metadata": {
    "collapsed": false,
    "pycharm": {
     "name": "#%%\n"
    }
   }
  },
  {
   "cell_type": "code",
   "execution_count": 15,
   "outputs": [],
   "source": [
    "clf = RandomForestClassifier(n_estimators = 16, max_depth=16, criterion=\"gini\", min_samples_split=64, min_samples_leaf=32, max_features=8,oob_score=True)"
   ],
   "metadata": {
    "collapsed": false,
    "pycharm": {
     "name": "#%%\n"
    }
   }
  },
  {
   "cell_type": "code",
   "execution_count": 16,
   "outputs": [
    {
     "name": "stderr",
     "output_type": "stream",
     "text": [
      "c:\\users\\hresk\\pycharmprojects\\bakalarka\\venv\\lib\\site-packages\\sklearn\\ensemble\\_forest.py:583: UserWarning: Some inputs do not have OOB scores. This probably means too few trees were used to compute any reliable OOB estimates.\n",
      "  warn(\n"
     ]
    },
    {
     "data": {
      "text/plain": "RandomForestClassifier(max_depth=16, max_features=8, min_samples_leaf=32,\n                       min_samples_split=64, n_estimators=16, oob_score=True)",
      "text/html": "<style>#sk-container-id-1 {color: black;background-color: white;}#sk-container-id-1 pre{padding: 0;}#sk-container-id-1 div.sk-toggleable {background-color: white;}#sk-container-id-1 label.sk-toggleable__label {cursor: pointer;display: block;width: 100%;margin-bottom: 0;padding: 0.3em;box-sizing: border-box;text-align: center;}#sk-container-id-1 label.sk-toggleable__label-arrow:before {content: \"▸\";float: left;margin-right: 0.25em;color: #696969;}#sk-container-id-1 label.sk-toggleable__label-arrow:hover:before {color: black;}#sk-container-id-1 div.sk-estimator:hover label.sk-toggleable__label-arrow:before {color: black;}#sk-container-id-1 div.sk-toggleable__content {max-height: 0;max-width: 0;overflow: hidden;text-align: left;background-color: #f0f8ff;}#sk-container-id-1 div.sk-toggleable__content pre {margin: 0.2em;color: black;border-radius: 0.25em;background-color: #f0f8ff;}#sk-container-id-1 input.sk-toggleable__control:checked~div.sk-toggleable__content {max-height: 200px;max-width: 100%;overflow: auto;}#sk-container-id-1 input.sk-toggleable__control:checked~label.sk-toggleable__label-arrow:before {content: \"▾\";}#sk-container-id-1 div.sk-estimator input.sk-toggleable__control:checked~label.sk-toggleable__label {background-color: #d4ebff;}#sk-container-id-1 div.sk-label input.sk-toggleable__control:checked~label.sk-toggleable__label {background-color: #d4ebff;}#sk-container-id-1 input.sk-hidden--visually {border: 0;clip: rect(1px 1px 1px 1px);clip: rect(1px, 1px, 1px, 1px);height: 1px;margin: -1px;overflow: hidden;padding: 0;position: absolute;width: 1px;}#sk-container-id-1 div.sk-estimator {font-family: monospace;background-color: #f0f8ff;border: 1px dotted black;border-radius: 0.25em;box-sizing: border-box;margin-bottom: 0.5em;}#sk-container-id-1 div.sk-estimator:hover {background-color: #d4ebff;}#sk-container-id-1 div.sk-parallel-item::after {content: \"\";width: 100%;border-bottom: 1px solid gray;flex-grow: 1;}#sk-container-id-1 div.sk-label:hover label.sk-toggleable__label {background-color: #d4ebff;}#sk-container-id-1 div.sk-serial::before {content: \"\";position: absolute;border-left: 1px solid gray;box-sizing: border-box;top: 0;bottom: 0;left: 50%;z-index: 0;}#sk-container-id-1 div.sk-serial {display: flex;flex-direction: column;align-items: center;background-color: white;padding-right: 0.2em;padding-left: 0.2em;position: relative;}#sk-container-id-1 div.sk-item {position: relative;z-index: 1;}#sk-container-id-1 div.sk-parallel {display: flex;align-items: stretch;justify-content: center;background-color: white;position: relative;}#sk-container-id-1 div.sk-item::before, #sk-container-id-1 div.sk-parallel-item::before {content: \"\";position: absolute;border-left: 1px solid gray;box-sizing: border-box;top: 0;bottom: 0;left: 50%;z-index: -1;}#sk-container-id-1 div.sk-parallel-item {display: flex;flex-direction: column;z-index: 1;position: relative;background-color: white;}#sk-container-id-1 div.sk-parallel-item:first-child::after {align-self: flex-end;width: 50%;}#sk-container-id-1 div.sk-parallel-item:last-child::after {align-self: flex-start;width: 50%;}#sk-container-id-1 div.sk-parallel-item:only-child::after {width: 0;}#sk-container-id-1 div.sk-dashed-wrapped {border: 1px dashed gray;margin: 0 0.4em 0.5em 0.4em;box-sizing: border-box;padding-bottom: 0.4em;background-color: white;}#sk-container-id-1 div.sk-label label {font-family: monospace;font-weight: bold;display: inline-block;line-height: 1.2em;}#sk-container-id-1 div.sk-label-container {text-align: center;}#sk-container-id-1 div.sk-container {/* jupyter's `normalize.less` sets `[hidden] { display: none; }` but bootstrap.min.css set `[hidden] { display: none !important; }` so we also need the `!important` here to be able to override the default hidden behavior on the sphinx rendered scikit-learn.org. See: https://github.com/scikit-learn/scikit-learn/issues/21755 */display: inline-block !important;position: relative;}#sk-container-id-1 div.sk-text-repr-fallback {display: none;}</style><div id=\"sk-container-id-1\" class=\"sk-top-container\"><div class=\"sk-text-repr-fallback\"><pre>RandomForestClassifier(max_depth=16, max_features=8, min_samples_leaf=32,\n                       min_samples_split=64, n_estimators=16, oob_score=True)</pre><b>In a Jupyter environment, please rerun this cell to show the HTML representation or trust the notebook. <br />On GitHub, the HTML representation is unable to render, please try loading this page with nbviewer.org.</b></div><div class=\"sk-container\" hidden><div class=\"sk-item\"><div class=\"sk-estimator sk-toggleable\"><input class=\"sk-toggleable__control sk-hidden--visually\" id=\"sk-estimator-id-1\" type=\"checkbox\" checked><label for=\"sk-estimator-id-1\" class=\"sk-toggleable__label sk-toggleable__label-arrow\">RandomForestClassifier</label><div class=\"sk-toggleable__content\"><pre>RandomForestClassifier(max_depth=16, max_features=8, min_samples_leaf=32,\n                       min_samples_split=64, n_estimators=16, oob_score=True)</pre></div></div></div></div></div>"
     },
     "execution_count": 16,
     "metadata": {},
     "output_type": "execute_result"
    }
   ],
   "source": [
    "clf.fit(X_train_smote, y_train_smote)"
   ],
   "metadata": {
    "collapsed": false,
    "pycharm": {
     "name": "#%%\n"
    }
   }
  },
  {
   "cell_type": "code",
   "execution_count": 17,
   "outputs": [],
   "source": [
    "y_pred = clf.predict(X_test)"
   ],
   "metadata": {
    "collapsed": false,
    "pycharm": {
     "name": "#%%\n"
    }
   }
  },
  {
   "cell_type": "code",
   "execution_count": 18,
   "outputs": [
    {
     "name": "stdout",
     "output_type": "stream",
     "text": [
      "              precision    recall  f1-score   support\n",
      "\n",
      "           0       0.25      0.32      0.28    160565\n",
      "           1       0.86      0.82      0.84    838935\n",
      "\n",
      "    accuracy                           0.74    999500\n",
      "   macro avg       0.55      0.57      0.56    999500\n",
      "weighted avg       0.76      0.74      0.75    999500\n",
      "\n"
     ]
    }
   ],
   "source": [
    "print(classification_report(y_test, y_pred))"
   ],
   "metadata": {
    "collapsed": false,
    "pycharm": {
     "name": "#%%\n"
    }
   }
  },
  {
   "cell_type": "code",
   "execution_count": 19,
   "outputs": [
    {
     "data": {
      "text/plain": "array([0.06703677, 0.03602461, 0.05808913, 0.06097553, 0.06756313,\n       0.01751295, 0.04097825, 0.03192324, 0.03465885, 0.03066997,\n       0.02499298, 0.03518077, 0.02973664, 0.04361827, 0.01866754,\n       0.00643755, 0.00746337, 0.00508682, 0.2704619 , 0.06179869,\n       0.02755568, 0.02356736])"
     },
     "execution_count": 19,
     "metadata": {},
     "output_type": "execute_result"
    }
   ],
   "source": [
    "clf.feature_importances_"
   ],
   "metadata": {
    "collapsed": false,
    "pycharm": {
     "name": "#%%\n"
    }
   }
  },
  {
   "cell_type": "code",
   "execution_count": 20,
   "outputs": [
    {
     "data": {
      "text/plain": "array(['delta', 'history_seen', 'history_correct', 'history_incorrect',\n       'word_length', 'differs_from_root', 'verb', 'noun', 'preposition',\n       'pronoun', 'adjective', 'adverb', 'conjunction', 'determiner',\n       'interjection', 'plural', 'number', 'phrase', 'word_freq',\n       'ui_language_es', 'ui_language_it', 'ui_language_pt'], dtype=object)"
     },
     "execution_count": 20,
     "metadata": {},
     "output_type": "execute_result"
    }
   ],
   "source": [
    "clf.feature_names_in_"
   ],
   "metadata": {
    "collapsed": false,
    "pycharm": {
     "name": "#%%\n"
    }
   }
  },
  {
   "cell_type": "code",
   "execution_count": null,
   "outputs": [],
   "source": [
    "#undersampler"
   ],
   "metadata": {
    "collapsed": false,
    "pycharm": {
     "name": "#%%\n"
    }
   }
  },
  {
   "cell_type": "code",
   "execution_count": 14,
   "outputs": [],
   "source": [
    "X_train=X_train.drop(['p_recall'], axis=1)"
   ],
   "metadata": {
    "collapsed": false,
    "pycharm": {
     "name": "#%%\n"
    }
   }
  },
  {
   "cell_type": "code",
   "execution_count": 15,
   "outputs": [
    {
     "data": {
      "text/plain": "               delta  history_seen  history_correct  history_incorrect  \\\n2854018     0.131944             6                4                  2   \n30776     257.612500             4                3                  1   \n98489    2354.541111             2                2                  0   \n2602557     0.037778             1                1                  0   \n4954945    20.241667           373              340                 33   \n...              ...           ...              ...                ...   \n1570006     0.166111             5                5                  0   \n2234489   130.625278             5                4                  1   \n4926484     0.173333             5                5                  0   \n4304572    79.720278             6                6                  0   \n1692743     0.071944             7                7                  0   \n\n         word_length  differs_from_root  verb  noun  preposition  pronoun  \\\n2854018            4                  0     1     0            0        0   \n30776              3                  0     0     0            0        0   \n98489              4                  1     0     1            0        0   \n2602557            5                  1     0     1            0        0   \n4954945            2                  1     1     0            0        0   \n...              ...                ...   ...   ...          ...      ...   \n1570006            5                  0     0     0            0        0   \n2234489            2                  1     0     0            0        0   \n4926484            7                  0     0     1            0        0   \n4304572            5                  0     0     1            0        0   \n1692743            3                  0     0     1            0        0   \n\n         ...  conjunction  determiner  interjection  plural  number  phrase  \\\n2854018  ...            0           0             0       0       0       0   \n30776    ...            0           0             0       0       0       0   \n98489    ...            0           0             0       1       0       0   \n2602557  ...            0           0             0       1       0       0   \n4954945  ...            0           0             0       0       0       0   \n...      ...          ...         ...           ...     ...     ...     ...   \n1570006  ...            0           0             0       0       0       0   \n2234489  ...            0           1             0       0       0       0   \n4926484  ...            0           0             0       0       0       0   \n4304572  ...            0           0             0       0       0       0   \n1692743  ...            0           0             0       0       0       0   \n\n         word_freq  ui_language_es  ui_language_it  ui_language_pt  \n2854018   0.001260               0               0               1  \n30776     0.000851               1               0               0  \n98489     0.000059               1               0               0  \n2602557   0.000008               0               0               1  \n4954945   0.000603               1               0               0  \n...            ...             ...             ...             ...  \n1570006   0.000288               1               0               0  \n2234489   0.003390               1               0               0  \n4926484   0.000043               0               1               0  \n4304572   0.000120               0               0               1  \n1692743   0.000126               1               0               0  \n\n[3997999 rows x 22 columns]",
      "text/html": "<div>\n<style scoped>\n    .dataframe tbody tr th:only-of-type {\n        vertical-align: middle;\n    }\n\n    .dataframe tbody tr th {\n        vertical-align: top;\n    }\n\n    .dataframe thead th {\n        text-align: right;\n    }\n</style>\n<table border=\"1\" class=\"dataframe\">\n  <thead>\n    <tr style=\"text-align: right;\">\n      <th></th>\n      <th>delta</th>\n      <th>history_seen</th>\n      <th>history_correct</th>\n      <th>history_incorrect</th>\n      <th>word_length</th>\n      <th>differs_from_root</th>\n      <th>verb</th>\n      <th>noun</th>\n      <th>preposition</th>\n      <th>pronoun</th>\n      <th>...</th>\n      <th>conjunction</th>\n      <th>determiner</th>\n      <th>interjection</th>\n      <th>plural</th>\n      <th>number</th>\n      <th>phrase</th>\n      <th>word_freq</th>\n      <th>ui_language_es</th>\n      <th>ui_language_it</th>\n      <th>ui_language_pt</th>\n    </tr>\n  </thead>\n  <tbody>\n    <tr>\n      <th>2854018</th>\n      <td>0.131944</td>\n      <td>6</td>\n      <td>4</td>\n      <td>2</td>\n      <td>4</td>\n      <td>0</td>\n      <td>1</td>\n      <td>0</td>\n      <td>0</td>\n      <td>0</td>\n      <td>...</td>\n      <td>0</td>\n      <td>0</td>\n      <td>0</td>\n      <td>0</td>\n      <td>0</td>\n      <td>0</td>\n      <td>0.001260</td>\n      <td>0</td>\n      <td>0</td>\n      <td>1</td>\n    </tr>\n    <tr>\n      <th>30776</th>\n      <td>257.612500</td>\n      <td>4</td>\n      <td>3</td>\n      <td>1</td>\n      <td>3</td>\n      <td>0</td>\n      <td>0</td>\n      <td>0</td>\n      <td>0</td>\n      <td>0</td>\n      <td>...</td>\n      <td>0</td>\n      <td>0</td>\n      <td>0</td>\n      <td>0</td>\n      <td>0</td>\n      <td>0</td>\n      <td>0.000851</td>\n      <td>1</td>\n      <td>0</td>\n      <td>0</td>\n    </tr>\n    <tr>\n      <th>98489</th>\n      <td>2354.541111</td>\n      <td>2</td>\n      <td>2</td>\n      <td>0</td>\n      <td>4</td>\n      <td>1</td>\n      <td>0</td>\n      <td>1</td>\n      <td>0</td>\n      <td>0</td>\n      <td>...</td>\n      <td>0</td>\n      <td>0</td>\n      <td>0</td>\n      <td>1</td>\n      <td>0</td>\n      <td>0</td>\n      <td>0.000059</td>\n      <td>1</td>\n      <td>0</td>\n      <td>0</td>\n    </tr>\n    <tr>\n      <th>2602557</th>\n      <td>0.037778</td>\n      <td>1</td>\n      <td>1</td>\n      <td>0</td>\n      <td>5</td>\n      <td>1</td>\n      <td>0</td>\n      <td>1</td>\n      <td>0</td>\n      <td>0</td>\n      <td>...</td>\n      <td>0</td>\n      <td>0</td>\n      <td>0</td>\n      <td>1</td>\n      <td>0</td>\n      <td>0</td>\n      <td>0.000008</td>\n      <td>0</td>\n      <td>0</td>\n      <td>1</td>\n    </tr>\n    <tr>\n      <th>4954945</th>\n      <td>20.241667</td>\n      <td>373</td>\n      <td>340</td>\n      <td>33</td>\n      <td>2</td>\n      <td>1</td>\n      <td>1</td>\n      <td>0</td>\n      <td>0</td>\n      <td>0</td>\n      <td>...</td>\n      <td>0</td>\n      <td>0</td>\n      <td>0</td>\n      <td>0</td>\n      <td>0</td>\n      <td>0</td>\n      <td>0.000603</td>\n      <td>1</td>\n      <td>0</td>\n      <td>0</td>\n    </tr>\n    <tr>\n      <th>...</th>\n      <td>...</td>\n      <td>...</td>\n      <td>...</td>\n      <td>...</td>\n      <td>...</td>\n      <td>...</td>\n      <td>...</td>\n      <td>...</td>\n      <td>...</td>\n      <td>...</td>\n      <td>...</td>\n      <td>...</td>\n      <td>...</td>\n      <td>...</td>\n      <td>...</td>\n      <td>...</td>\n      <td>...</td>\n      <td>...</td>\n      <td>...</td>\n      <td>...</td>\n      <td>...</td>\n    </tr>\n    <tr>\n      <th>1570006</th>\n      <td>0.166111</td>\n      <td>5</td>\n      <td>5</td>\n      <td>0</td>\n      <td>5</td>\n      <td>0</td>\n      <td>0</td>\n      <td>0</td>\n      <td>0</td>\n      <td>0</td>\n      <td>...</td>\n      <td>0</td>\n      <td>0</td>\n      <td>0</td>\n      <td>0</td>\n      <td>0</td>\n      <td>0</td>\n      <td>0.000288</td>\n      <td>1</td>\n      <td>0</td>\n      <td>0</td>\n    </tr>\n    <tr>\n      <th>2234489</th>\n      <td>130.625278</td>\n      <td>5</td>\n      <td>4</td>\n      <td>1</td>\n      <td>2</td>\n      <td>1</td>\n      <td>0</td>\n      <td>0</td>\n      <td>0</td>\n      <td>0</td>\n      <td>...</td>\n      <td>0</td>\n      <td>1</td>\n      <td>0</td>\n      <td>0</td>\n      <td>0</td>\n      <td>0</td>\n      <td>0.003390</td>\n      <td>1</td>\n      <td>0</td>\n      <td>0</td>\n    </tr>\n    <tr>\n      <th>4926484</th>\n      <td>0.173333</td>\n      <td>5</td>\n      <td>5</td>\n      <td>0</td>\n      <td>7</td>\n      <td>0</td>\n      <td>0</td>\n      <td>1</td>\n      <td>0</td>\n      <td>0</td>\n      <td>...</td>\n      <td>0</td>\n      <td>0</td>\n      <td>0</td>\n      <td>0</td>\n      <td>0</td>\n      <td>0</td>\n      <td>0.000043</td>\n      <td>0</td>\n      <td>1</td>\n      <td>0</td>\n    </tr>\n    <tr>\n      <th>4304572</th>\n      <td>79.720278</td>\n      <td>6</td>\n      <td>6</td>\n      <td>0</td>\n      <td>5</td>\n      <td>0</td>\n      <td>0</td>\n      <td>1</td>\n      <td>0</td>\n      <td>0</td>\n      <td>...</td>\n      <td>0</td>\n      <td>0</td>\n      <td>0</td>\n      <td>0</td>\n      <td>0</td>\n      <td>0</td>\n      <td>0.000120</td>\n      <td>0</td>\n      <td>0</td>\n      <td>1</td>\n    </tr>\n    <tr>\n      <th>1692743</th>\n      <td>0.071944</td>\n      <td>7</td>\n      <td>7</td>\n      <td>0</td>\n      <td>3</td>\n      <td>0</td>\n      <td>0</td>\n      <td>1</td>\n      <td>0</td>\n      <td>0</td>\n      <td>...</td>\n      <td>0</td>\n      <td>0</td>\n      <td>0</td>\n      <td>0</td>\n      <td>0</td>\n      <td>0</td>\n      <td>0.000126</td>\n      <td>1</td>\n      <td>0</td>\n      <td>0</td>\n    </tr>\n  </tbody>\n</table>\n<p>3997999 rows × 22 columns</p>\n</div>"
     },
     "execution_count": 15,
     "metadata": {},
     "output_type": "execute_result"
    }
   ],
   "source": [
    "X_train"
   ],
   "metadata": {
    "collapsed": false,
    "pycharm": {
     "name": "#%%\n"
    }
   }
  },
  {
   "cell_type": "code",
   "execution_count": 16,
   "outputs": [],
   "source": [
    "# Create an instance of the RandomUnderSampler\n",
    "rus = RandomUnderSampler(random_state=42)\n",
    "\n",
    "# Fit and apply the undersampling to the data\n",
    "X_resampled, y_resampled = rus.fit_resample(X_train, y_train)"
   ],
   "metadata": {
    "collapsed": false,
    "pycharm": {
     "name": "#%%\n"
    }
   }
  },
  {
   "cell_type": "code",
   "execution_count": 17,
   "outputs": [
    {
     "name": "stdout",
     "output_type": "stream",
     "text": [
      "1287854\n",
      "0    643927\n",
      "1    643927\n",
      "Name: passed, dtype: int64\n",
      "1287854\n"
     ]
    }
   ],
   "source": [
    "print(len(X_resampled))\n",
    "print(pd.value_counts(y_resampled))\n",
    "print(len(y_resampled))"
   ],
   "metadata": {
    "collapsed": false,
    "pycharm": {
     "name": "#%%\n"
    }
   }
  },
  {
   "cell_type": "code",
   "execution_count": 19,
   "outputs": [],
   "source": [
    "clf = RandomForestClassifier(n_estimators = 16, max_depth=16, criterion=\"gini\", min_samples_split=64, min_samples_leaf=32, max_features=8,oob_score=True)\n"
   ],
   "metadata": {
    "collapsed": false,
    "pycharm": {
     "name": "#%%\n"
    }
   }
  },
  {
   "cell_type": "code",
   "execution_count": 20,
   "outputs": [
    {
     "name": "stderr",
     "output_type": "stream",
     "text": [
      "c:\\users\\hresk\\pycharmprojects\\bakalarka\\venv\\lib\\site-packages\\sklearn\\ensemble\\_forest.py:583: UserWarning: Some inputs do not have OOB scores. This probably means too few trees were used to compute any reliable OOB estimates.\n",
      "  warn(\n"
     ]
    },
    {
     "data": {
      "text/plain": "RandomForestClassifier(max_depth=16, max_features=8, min_samples_leaf=32,\n                       min_samples_split=64, n_estimators=16, oob_score=True)",
      "text/html": "<style>#sk-container-id-1 {color: black;background-color: white;}#sk-container-id-1 pre{padding: 0;}#sk-container-id-1 div.sk-toggleable {background-color: white;}#sk-container-id-1 label.sk-toggleable__label {cursor: pointer;display: block;width: 100%;margin-bottom: 0;padding: 0.3em;box-sizing: border-box;text-align: center;}#sk-container-id-1 label.sk-toggleable__label-arrow:before {content: \"▸\";float: left;margin-right: 0.25em;color: #696969;}#sk-container-id-1 label.sk-toggleable__label-arrow:hover:before {color: black;}#sk-container-id-1 div.sk-estimator:hover label.sk-toggleable__label-arrow:before {color: black;}#sk-container-id-1 div.sk-toggleable__content {max-height: 0;max-width: 0;overflow: hidden;text-align: left;background-color: #f0f8ff;}#sk-container-id-1 div.sk-toggleable__content pre {margin: 0.2em;color: black;border-radius: 0.25em;background-color: #f0f8ff;}#sk-container-id-1 input.sk-toggleable__control:checked~div.sk-toggleable__content {max-height: 200px;max-width: 100%;overflow: auto;}#sk-container-id-1 input.sk-toggleable__control:checked~label.sk-toggleable__label-arrow:before {content: \"▾\";}#sk-container-id-1 div.sk-estimator input.sk-toggleable__control:checked~label.sk-toggleable__label {background-color: #d4ebff;}#sk-container-id-1 div.sk-label input.sk-toggleable__control:checked~label.sk-toggleable__label {background-color: #d4ebff;}#sk-container-id-1 input.sk-hidden--visually {border: 0;clip: rect(1px 1px 1px 1px);clip: rect(1px, 1px, 1px, 1px);height: 1px;margin: -1px;overflow: hidden;padding: 0;position: absolute;width: 1px;}#sk-container-id-1 div.sk-estimator {font-family: monospace;background-color: #f0f8ff;border: 1px dotted black;border-radius: 0.25em;box-sizing: border-box;margin-bottom: 0.5em;}#sk-container-id-1 div.sk-estimator:hover {background-color: #d4ebff;}#sk-container-id-1 div.sk-parallel-item::after {content: \"\";width: 100%;border-bottom: 1px solid gray;flex-grow: 1;}#sk-container-id-1 div.sk-label:hover label.sk-toggleable__label {background-color: #d4ebff;}#sk-container-id-1 div.sk-serial::before {content: \"\";position: absolute;border-left: 1px solid gray;box-sizing: border-box;top: 0;bottom: 0;left: 50%;z-index: 0;}#sk-container-id-1 div.sk-serial {display: flex;flex-direction: column;align-items: center;background-color: white;padding-right: 0.2em;padding-left: 0.2em;position: relative;}#sk-container-id-1 div.sk-item {position: relative;z-index: 1;}#sk-container-id-1 div.sk-parallel {display: flex;align-items: stretch;justify-content: center;background-color: white;position: relative;}#sk-container-id-1 div.sk-item::before, #sk-container-id-1 div.sk-parallel-item::before {content: \"\";position: absolute;border-left: 1px solid gray;box-sizing: border-box;top: 0;bottom: 0;left: 50%;z-index: -1;}#sk-container-id-1 div.sk-parallel-item {display: flex;flex-direction: column;z-index: 1;position: relative;background-color: white;}#sk-container-id-1 div.sk-parallel-item:first-child::after {align-self: flex-end;width: 50%;}#sk-container-id-1 div.sk-parallel-item:last-child::after {align-self: flex-start;width: 50%;}#sk-container-id-1 div.sk-parallel-item:only-child::after {width: 0;}#sk-container-id-1 div.sk-dashed-wrapped {border: 1px dashed gray;margin: 0 0.4em 0.5em 0.4em;box-sizing: border-box;padding-bottom: 0.4em;background-color: white;}#sk-container-id-1 div.sk-label label {font-family: monospace;font-weight: bold;display: inline-block;line-height: 1.2em;}#sk-container-id-1 div.sk-label-container {text-align: center;}#sk-container-id-1 div.sk-container {/* jupyter's `normalize.less` sets `[hidden] { display: none; }` but bootstrap.min.css set `[hidden] { display: none !important; }` so we also need the `!important` here to be able to override the default hidden behavior on the sphinx rendered scikit-learn.org. See: https://github.com/scikit-learn/scikit-learn/issues/21755 */display: inline-block !important;position: relative;}#sk-container-id-1 div.sk-text-repr-fallback {display: none;}</style><div id=\"sk-container-id-1\" class=\"sk-top-container\"><div class=\"sk-text-repr-fallback\"><pre>RandomForestClassifier(max_depth=16, max_features=8, min_samples_leaf=32,\n                       min_samples_split=64, n_estimators=16, oob_score=True)</pre><b>In a Jupyter environment, please rerun this cell to show the HTML representation or trust the notebook. <br />On GitHub, the HTML representation is unable to render, please try loading this page with nbviewer.org.</b></div><div class=\"sk-container\" hidden><div class=\"sk-item\"><div class=\"sk-estimator sk-toggleable\"><input class=\"sk-toggleable__control sk-hidden--visually\" id=\"sk-estimator-id-1\" type=\"checkbox\" checked><label for=\"sk-estimator-id-1\" class=\"sk-toggleable__label sk-toggleable__label-arrow\">RandomForestClassifier</label><div class=\"sk-toggleable__content\"><pre>RandomForestClassifier(max_depth=16, max_features=8, min_samples_leaf=32,\n                       min_samples_split=64, n_estimators=16, oob_score=True)</pre></div></div></div></div></div>"
     },
     "execution_count": 20,
     "metadata": {},
     "output_type": "execute_result"
    }
   ],
   "source": [
    "clf.fit(X_resampled, y_resampled)"
   ],
   "metadata": {
    "collapsed": false,
    "pycharm": {
     "name": "#%%\n"
    }
   }
  },
  {
   "cell_type": "code",
   "execution_count": 21,
   "outputs": [
    {
     "data": {
      "text/plain": "         p_recall       delta  history_seen  history_correct  \\\n2313520       1.0    9.200556            16               13   \n3222322       1.0    0.076111           138              126   \n1074666       1.0   38.472500             2                2   \n4820034       1.0   45.882500            21               15   \n4904213       1.0    0.051667             5                5   \n...           ...         ...           ...              ...   \n580730        1.0    0.066389             6                5   \n704721        1.0    0.264722             7                7   \n100968        1.0    0.094167             9                7   \n3677723       1.0   65.355556            12               11   \n3353605       1.0  233.312500             2                1   \n\n         history_incorrect  word_length  differs_from_root  verb  noun  \\\n2313520                  3            4                  0     1     0   \n3222322                 12            5                  0     0     1   \n1074666                  0            4                  0     1     0   \n4820034                  6            3                  0     0     0   \n4904213                  0            9                  1     0     1   \n...                    ...          ...                ...   ...   ...   \n580730                   1            5                  1     1     0   \n704721                   0            9                  0     0     1   \n100968                   2            5                  0     0     1   \n3677723                  1            1                  0     0     0   \n3353605                  1            4                  0     1     0   \n\n         preposition  ...  conjunction  determiner  interjection  plural  \\\n2313520            0  ...            0           0             0       0   \n3222322            0  ...            0           0             0       0   \n1074666            0  ...            0           0             0       0   \n4820034            0  ...            0           0             0       0   \n4904213            0  ...            0           0             0       1   \n...              ...  ...          ...         ...           ...     ...   \n580730             0  ...            0           0             0       0   \n704721             0  ...            0           0             0       0   \n100968             0  ...            0           0             0       0   \n3677723            0  ...            0           1             0       0   \n3353605            0  ...            0           0             0       0   \n\n         number  phrase  word_freq  ui_language_es  ui_language_it  \\\n2313520       0       0   0.005130               1               0   \n3222322       0       0   0.000200               1               0   \n1074666       0       0   0.002570               1               0   \n4820034       1       0   0.000195               1               0   \n4904213       0       0   0.000006               0               1   \n...         ...     ...        ...             ...             ...   \n580730        0       0   0.000151               1               0   \n704721        0       0   0.000041               1               0   \n100968        0       0   0.000046               1               0   \n3677723       0       0   0.022900               0               1   \n3353605       0       0   0.000347               1               0   \n\n         ui_language_pt  \n2313520               0  \n3222322               0  \n1074666               0  \n4820034               0  \n4904213               0  \n...                 ...  \n580730                0  \n704721                0  \n100968                0  \n3677723               0  \n3353605               0  \n\n[999500 rows x 23 columns]",
      "text/html": "<div>\n<style scoped>\n    .dataframe tbody tr th:only-of-type {\n        vertical-align: middle;\n    }\n\n    .dataframe tbody tr th {\n        vertical-align: top;\n    }\n\n    .dataframe thead th {\n        text-align: right;\n    }\n</style>\n<table border=\"1\" class=\"dataframe\">\n  <thead>\n    <tr style=\"text-align: right;\">\n      <th></th>\n      <th>p_recall</th>\n      <th>delta</th>\n      <th>history_seen</th>\n      <th>history_correct</th>\n      <th>history_incorrect</th>\n      <th>word_length</th>\n      <th>differs_from_root</th>\n      <th>verb</th>\n      <th>noun</th>\n      <th>preposition</th>\n      <th>...</th>\n      <th>conjunction</th>\n      <th>determiner</th>\n      <th>interjection</th>\n      <th>plural</th>\n      <th>number</th>\n      <th>phrase</th>\n      <th>word_freq</th>\n      <th>ui_language_es</th>\n      <th>ui_language_it</th>\n      <th>ui_language_pt</th>\n    </tr>\n  </thead>\n  <tbody>\n    <tr>\n      <th>2313520</th>\n      <td>1.0</td>\n      <td>9.200556</td>\n      <td>16</td>\n      <td>13</td>\n      <td>3</td>\n      <td>4</td>\n      <td>0</td>\n      <td>1</td>\n      <td>0</td>\n      <td>0</td>\n      <td>...</td>\n      <td>0</td>\n      <td>0</td>\n      <td>0</td>\n      <td>0</td>\n      <td>0</td>\n      <td>0</td>\n      <td>0.005130</td>\n      <td>1</td>\n      <td>0</td>\n      <td>0</td>\n    </tr>\n    <tr>\n      <th>3222322</th>\n      <td>1.0</td>\n      <td>0.076111</td>\n      <td>138</td>\n      <td>126</td>\n      <td>12</td>\n      <td>5</td>\n      <td>0</td>\n      <td>0</td>\n      <td>1</td>\n      <td>0</td>\n      <td>...</td>\n      <td>0</td>\n      <td>0</td>\n      <td>0</td>\n      <td>0</td>\n      <td>0</td>\n      <td>0</td>\n      <td>0.000200</td>\n      <td>1</td>\n      <td>0</td>\n      <td>0</td>\n    </tr>\n    <tr>\n      <th>1074666</th>\n      <td>1.0</td>\n      <td>38.472500</td>\n      <td>2</td>\n      <td>2</td>\n      <td>0</td>\n      <td>4</td>\n      <td>0</td>\n      <td>1</td>\n      <td>0</td>\n      <td>0</td>\n      <td>...</td>\n      <td>0</td>\n      <td>0</td>\n      <td>0</td>\n      <td>0</td>\n      <td>0</td>\n      <td>0</td>\n      <td>0.002570</td>\n      <td>1</td>\n      <td>0</td>\n      <td>0</td>\n    </tr>\n    <tr>\n      <th>4820034</th>\n      <td>1.0</td>\n      <td>45.882500</td>\n      <td>21</td>\n      <td>15</td>\n      <td>6</td>\n      <td>3</td>\n      <td>0</td>\n      <td>0</td>\n      <td>0</td>\n      <td>0</td>\n      <td>...</td>\n      <td>0</td>\n      <td>0</td>\n      <td>0</td>\n      <td>0</td>\n      <td>1</td>\n      <td>0</td>\n      <td>0.000195</td>\n      <td>1</td>\n      <td>0</td>\n      <td>0</td>\n    </tr>\n    <tr>\n      <th>4904213</th>\n      <td>1.0</td>\n      <td>0.051667</td>\n      <td>5</td>\n      <td>5</td>\n      <td>0</td>\n      <td>9</td>\n      <td>1</td>\n      <td>0</td>\n      <td>1</td>\n      <td>0</td>\n      <td>...</td>\n      <td>0</td>\n      <td>0</td>\n      <td>0</td>\n      <td>1</td>\n      <td>0</td>\n      <td>0</td>\n      <td>0.000006</td>\n      <td>0</td>\n      <td>1</td>\n      <td>0</td>\n    </tr>\n    <tr>\n      <th>...</th>\n      <td>...</td>\n      <td>...</td>\n      <td>...</td>\n      <td>...</td>\n      <td>...</td>\n      <td>...</td>\n      <td>...</td>\n      <td>...</td>\n      <td>...</td>\n      <td>...</td>\n      <td>...</td>\n      <td>...</td>\n      <td>...</td>\n      <td>...</td>\n      <td>...</td>\n      <td>...</td>\n      <td>...</td>\n      <td>...</td>\n      <td>...</td>\n      <td>...</td>\n      <td>...</td>\n    </tr>\n    <tr>\n      <th>580730</th>\n      <td>1.0</td>\n      <td>0.066389</td>\n      <td>6</td>\n      <td>5</td>\n      <td>1</td>\n      <td>5</td>\n      <td>1</td>\n      <td>1</td>\n      <td>0</td>\n      <td>0</td>\n      <td>...</td>\n      <td>0</td>\n      <td>0</td>\n      <td>0</td>\n      <td>0</td>\n      <td>0</td>\n      <td>0</td>\n      <td>0.000151</td>\n      <td>1</td>\n      <td>0</td>\n      <td>0</td>\n    </tr>\n    <tr>\n      <th>704721</th>\n      <td>1.0</td>\n      <td>0.264722</td>\n      <td>7</td>\n      <td>7</td>\n      <td>0</td>\n      <td>9</td>\n      <td>0</td>\n      <td>0</td>\n      <td>1</td>\n      <td>0</td>\n      <td>...</td>\n      <td>0</td>\n      <td>0</td>\n      <td>0</td>\n      <td>0</td>\n      <td>0</td>\n      <td>0</td>\n      <td>0.000041</td>\n      <td>1</td>\n      <td>0</td>\n      <td>0</td>\n    </tr>\n    <tr>\n      <th>100968</th>\n      <td>1.0</td>\n      <td>0.094167</td>\n      <td>9</td>\n      <td>7</td>\n      <td>2</td>\n      <td>5</td>\n      <td>0</td>\n      <td>0</td>\n      <td>1</td>\n      <td>0</td>\n      <td>...</td>\n      <td>0</td>\n      <td>0</td>\n      <td>0</td>\n      <td>0</td>\n      <td>0</td>\n      <td>0</td>\n      <td>0.000046</td>\n      <td>1</td>\n      <td>0</td>\n      <td>0</td>\n    </tr>\n    <tr>\n      <th>3677723</th>\n      <td>1.0</td>\n      <td>65.355556</td>\n      <td>12</td>\n      <td>11</td>\n      <td>1</td>\n      <td>1</td>\n      <td>0</td>\n      <td>0</td>\n      <td>0</td>\n      <td>0</td>\n      <td>...</td>\n      <td>0</td>\n      <td>1</td>\n      <td>0</td>\n      <td>0</td>\n      <td>0</td>\n      <td>0</td>\n      <td>0.022900</td>\n      <td>0</td>\n      <td>1</td>\n      <td>0</td>\n    </tr>\n    <tr>\n      <th>3353605</th>\n      <td>1.0</td>\n      <td>233.312500</td>\n      <td>2</td>\n      <td>1</td>\n      <td>1</td>\n      <td>4</td>\n      <td>0</td>\n      <td>1</td>\n      <td>0</td>\n      <td>0</td>\n      <td>...</td>\n      <td>0</td>\n      <td>0</td>\n      <td>0</td>\n      <td>0</td>\n      <td>0</td>\n      <td>0</td>\n      <td>0.000347</td>\n      <td>1</td>\n      <td>0</td>\n      <td>0</td>\n    </tr>\n  </tbody>\n</table>\n<p>999500 rows × 23 columns</p>\n</div>"
     },
     "execution_count": 21,
     "metadata": {},
     "output_type": "execute_result"
    }
   ],
   "source": [
    "X_test"
   ],
   "metadata": {
    "collapsed": false,
    "pycharm": {
     "name": "#%%\n"
    }
   }
  },
  {
   "cell_type": "code",
   "execution_count": 22,
   "outputs": [
    {
     "data": {
      "text/plain": "              delta  history_seen  history_correct  history_incorrect  \\\n2313520    9.200556            16               13                  3   \n3222322    0.076111           138              126                 12   \n1074666   38.472500             2                2                  0   \n4820034   45.882500            21               15                  6   \n4904213    0.051667             5                5                  0   \n...             ...           ...              ...                ...   \n580730     0.066389             6                5                  1   \n704721     0.264722             7                7                  0   \n100968     0.094167             9                7                  2   \n3677723   65.355556            12               11                  1   \n3353605  233.312500             2                1                  1   \n\n         word_length  differs_from_root  verb  noun  preposition  pronoun  \\\n2313520            4                  0     1     0            0        0   \n3222322            5                  0     0     1            0        0   \n1074666            4                  0     1     0            0        0   \n4820034            3                  0     0     0            0        0   \n4904213            9                  1     0     1            0        0   \n...              ...                ...   ...   ...          ...      ...   \n580730             5                  1     1     0            0        0   \n704721             9                  0     0     1            0        0   \n100968             5                  0     0     1            0        0   \n3677723            1                  0     0     0            0        0   \n3353605            4                  0     1     0            0        0   \n\n         ...  conjunction  determiner  interjection  plural  number  phrase  \\\n2313520  ...            0           0             0       0       0       0   \n3222322  ...            0           0             0       0       0       0   \n1074666  ...            0           0             0       0       0       0   \n4820034  ...            0           0             0       0       1       0   \n4904213  ...            0           0             0       1       0       0   \n...      ...          ...         ...           ...     ...     ...     ...   \n580730   ...            0           0             0       0       0       0   \n704721   ...            0           0             0       0       0       0   \n100968   ...            0           0             0       0       0       0   \n3677723  ...            0           1             0       0       0       0   \n3353605  ...            0           0             0       0       0       0   \n\n         word_freq  ui_language_es  ui_language_it  ui_language_pt  \n2313520   0.005130               1               0               0  \n3222322   0.000200               1               0               0  \n1074666   0.002570               1               0               0  \n4820034   0.000195               1               0               0  \n4904213   0.000006               0               1               0  \n...            ...             ...             ...             ...  \n580730    0.000151               1               0               0  \n704721    0.000041               1               0               0  \n100968    0.000046               1               0               0  \n3677723   0.022900               0               1               0  \n3353605   0.000347               1               0               0  \n\n[999500 rows x 22 columns]",
      "text/html": "<div>\n<style scoped>\n    .dataframe tbody tr th:only-of-type {\n        vertical-align: middle;\n    }\n\n    .dataframe tbody tr th {\n        vertical-align: top;\n    }\n\n    .dataframe thead th {\n        text-align: right;\n    }\n</style>\n<table border=\"1\" class=\"dataframe\">\n  <thead>\n    <tr style=\"text-align: right;\">\n      <th></th>\n      <th>delta</th>\n      <th>history_seen</th>\n      <th>history_correct</th>\n      <th>history_incorrect</th>\n      <th>word_length</th>\n      <th>differs_from_root</th>\n      <th>verb</th>\n      <th>noun</th>\n      <th>preposition</th>\n      <th>pronoun</th>\n      <th>...</th>\n      <th>conjunction</th>\n      <th>determiner</th>\n      <th>interjection</th>\n      <th>plural</th>\n      <th>number</th>\n      <th>phrase</th>\n      <th>word_freq</th>\n      <th>ui_language_es</th>\n      <th>ui_language_it</th>\n      <th>ui_language_pt</th>\n    </tr>\n  </thead>\n  <tbody>\n    <tr>\n      <th>2313520</th>\n      <td>9.200556</td>\n      <td>16</td>\n      <td>13</td>\n      <td>3</td>\n      <td>4</td>\n      <td>0</td>\n      <td>1</td>\n      <td>0</td>\n      <td>0</td>\n      <td>0</td>\n      <td>...</td>\n      <td>0</td>\n      <td>0</td>\n      <td>0</td>\n      <td>0</td>\n      <td>0</td>\n      <td>0</td>\n      <td>0.005130</td>\n      <td>1</td>\n      <td>0</td>\n      <td>0</td>\n    </tr>\n    <tr>\n      <th>3222322</th>\n      <td>0.076111</td>\n      <td>138</td>\n      <td>126</td>\n      <td>12</td>\n      <td>5</td>\n      <td>0</td>\n      <td>0</td>\n      <td>1</td>\n      <td>0</td>\n      <td>0</td>\n      <td>...</td>\n      <td>0</td>\n      <td>0</td>\n      <td>0</td>\n      <td>0</td>\n      <td>0</td>\n      <td>0</td>\n      <td>0.000200</td>\n      <td>1</td>\n      <td>0</td>\n      <td>0</td>\n    </tr>\n    <tr>\n      <th>1074666</th>\n      <td>38.472500</td>\n      <td>2</td>\n      <td>2</td>\n      <td>0</td>\n      <td>4</td>\n      <td>0</td>\n      <td>1</td>\n      <td>0</td>\n      <td>0</td>\n      <td>0</td>\n      <td>...</td>\n      <td>0</td>\n      <td>0</td>\n      <td>0</td>\n      <td>0</td>\n      <td>0</td>\n      <td>0</td>\n      <td>0.002570</td>\n      <td>1</td>\n      <td>0</td>\n      <td>0</td>\n    </tr>\n    <tr>\n      <th>4820034</th>\n      <td>45.882500</td>\n      <td>21</td>\n      <td>15</td>\n      <td>6</td>\n      <td>3</td>\n      <td>0</td>\n      <td>0</td>\n      <td>0</td>\n      <td>0</td>\n      <td>0</td>\n      <td>...</td>\n      <td>0</td>\n      <td>0</td>\n      <td>0</td>\n      <td>0</td>\n      <td>1</td>\n      <td>0</td>\n      <td>0.000195</td>\n      <td>1</td>\n      <td>0</td>\n      <td>0</td>\n    </tr>\n    <tr>\n      <th>4904213</th>\n      <td>0.051667</td>\n      <td>5</td>\n      <td>5</td>\n      <td>0</td>\n      <td>9</td>\n      <td>1</td>\n      <td>0</td>\n      <td>1</td>\n      <td>0</td>\n      <td>0</td>\n      <td>...</td>\n      <td>0</td>\n      <td>0</td>\n      <td>0</td>\n      <td>1</td>\n      <td>0</td>\n      <td>0</td>\n      <td>0.000006</td>\n      <td>0</td>\n      <td>1</td>\n      <td>0</td>\n    </tr>\n    <tr>\n      <th>...</th>\n      <td>...</td>\n      <td>...</td>\n      <td>...</td>\n      <td>...</td>\n      <td>...</td>\n      <td>...</td>\n      <td>...</td>\n      <td>...</td>\n      <td>...</td>\n      <td>...</td>\n      <td>...</td>\n      <td>...</td>\n      <td>...</td>\n      <td>...</td>\n      <td>...</td>\n      <td>...</td>\n      <td>...</td>\n      <td>...</td>\n      <td>...</td>\n      <td>...</td>\n      <td>...</td>\n    </tr>\n    <tr>\n      <th>580730</th>\n      <td>0.066389</td>\n      <td>6</td>\n      <td>5</td>\n      <td>1</td>\n      <td>5</td>\n      <td>1</td>\n      <td>1</td>\n      <td>0</td>\n      <td>0</td>\n      <td>0</td>\n      <td>...</td>\n      <td>0</td>\n      <td>0</td>\n      <td>0</td>\n      <td>0</td>\n      <td>0</td>\n      <td>0</td>\n      <td>0.000151</td>\n      <td>1</td>\n      <td>0</td>\n      <td>0</td>\n    </tr>\n    <tr>\n      <th>704721</th>\n      <td>0.264722</td>\n      <td>7</td>\n      <td>7</td>\n      <td>0</td>\n      <td>9</td>\n      <td>0</td>\n      <td>0</td>\n      <td>1</td>\n      <td>0</td>\n      <td>0</td>\n      <td>...</td>\n      <td>0</td>\n      <td>0</td>\n      <td>0</td>\n      <td>0</td>\n      <td>0</td>\n      <td>0</td>\n      <td>0.000041</td>\n      <td>1</td>\n      <td>0</td>\n      <td>0</td>\n    </tr>\n    <tr>\n      <th>100968</th>\n      <td>0.094167</td>\n      <td>9</td>\n      <td>7</td>\n      <td>2</td>\n      <td>5</td>\n      <td>0</td>\n      <td>0</td>\n      <td>1</td>\n      <td>0</td>\n      <td>0</td>\n      <td>...</td>\n      <td>0</td>\n      <td>0</td>\n      <td>0</td>\n      <td>0</td>\n      <td>0</td>\n      <td>0</td>\n      <td>0.000046</td>\n      <td>1</td>\n      <td>0</td>\n      <td>0</td>\n    </tr>\n    <tr>\n      <th>3677723</th>\n      <td>65.355556</td>\n      <td>12</td>\n      <td>11</td>\n      <td>1</td>\n      <td>1</td>\n      <td>0</td>\n      <td>0</td>\n      <td>0</td>\n      <td>0</td>\n      <td>0</td>\n      <td>...</td>\n      <td>0</td>\n      <td>1</td>\n      <td>0</td>\n      <td>0</td>\n      <td>0</td>\n      <td>0</td>\n      <td>0.022900</td>\n      <td>0</td>\n      <td>1</td>\n      <td>0</td>\n    </tr>\n    <tr>\n      <th>3353605</th>\n      <td>233.312500</td>\n      <td>2</td>\n      <td>1</td>\n      <td>1</td>\n      <td>4</td>\n      <td>0</td>\n      <td>1</td>\n      <td>0</td>\n      <td>0</td>\n      <td>0</td>\n      <td>...</td>\n      <td>0</td>\n      <td>0</td>\n      <td>0</td>\n      <td>0</td>\n      <td>0</td>\n      <td>0</td>\n      <td>0.000347</td>\n      <td>1</td>\n      <td>0</td>\n      <td>0</td>\n    </tr>\n  </tbody>\n</table>\n<p>999500 rows × 22 columns</p>\n</div>"
     },
     "execution_count": 22,
     "metadata": {},
     "output_type": "execute_result"
    }
   ],
   "source": [
    "X_test_bezp = X_test.drop(['p_recall'],axis=1)\n",
    "X_test_bezp"
   ],
   "metadata": {
    "collapsed": false,
    "pycharm": {
     "name": "#%%\n"
    }
   }
  },
  {
   "cell_type": "code",
   "execution_count": 23,
   "outputs": [],
   "source": [
    "y_pred = clf.predict(X_test_bezp)"
   ],
   "metadata": {
    "collapsed": false,
    "pycharm": {
     "name": "#%%\n"
    }
   }
  },
  {
   "cell_type": "code",
   "execution_count": 24,
   "outputs": [
    {
     "name": "stdout",
     "output_type": "stream",
     "text": [
      "              precision    recall  f1-score   support\n",
      "\n",
      "           0       0.23      0.60      0.33    160565\n",
      "           1       0.89      0.62      0.73    838935\n",
      "\n",
      "    accuracy                           0.61    999500\n",
      "   macro avg       0.56      0.61      0.53    999500\n",
      "weighted avg       0.78      0.61      0.66    999500\n",
      "\n"
     ]
    }
   ],
   "source": [
    "print(classification_report(y_test, y_pred))"
   ],
   "metadata": {
    "collapsed": false,
    "pycharm": {
     "name": "#%%\n"
    }
   }
  },
  {
   "cell_type": "code",
   "execution_count": 25,
   "outputs": [
    {
     "data": {
      "text/plain": "array([0.20090218, 0.08886494, 0.11329463, 0.24460335, 0.06470385,\n       0.01385382, 0.01233464, 0.01591935, 0.0022906 , 0.00590578,\n       0.00195895, 0.00428491, 0.00207392, 0.00628894, 0.008577  ,\n       0.00628535, 0.0003305 , 0.00452144, 0.18190602, 0.00831562,\n       0.00657802, 0.00620619])"
     },
     "execution_count": 25,
     "metadata": {},
     "output_type": "execute_result"
    }
   ],
   "source": [
    "clf.feature_importances_"
   ],
   "metadata": {
    "collapsed": false,
    "pycharm": {
     "name": "#%%\n"
    }
   }
  },
  {
   "cell_type": "code",
   "execution_count": 26,
   "outputs": [
    {
     "data": {
      "text/plain": "array(['delta', 'history_seen', 'history_correct', 'history_incorrect',\n       'word_length', 'differs_from_root', 'verb', 'noun', 'preposition',\n       'pronoun', 'adjective', 'adverb', 'conjunction', 'determiner',\n       'interjection', 'plural', 'number', 'phrase', 'word_freq',\n       'ui_language_es', 'ui_language_it', 'ui_language_pt'], dtype=object)"
     },
     "execution_count": 26,
     "metadata": {},
     "output_type": "execute_result"
    }
   ],
   "source": [
    "clf.feature_names_in_"
   ],
   "metadata": {
    "collapsed": false,
    "pycharm": {
     "name": "#%%\n"
    }
   }
  },
  {
   "cell_type": "code",
   "execution_count": 27,
   "outputs": [
    {
     "data": {
      "text/plain": "array([[0.54333287, 0.45666713],\n       [0.45738576, 0.54261424],\n       [0.52017107, 0.47982893],\n       ...,\n       [0.47625933, 0.52374067],\n       [0.74522494, 0.25477506],\n       [0.61874514, 0.38125486]])"
     },
     "execution_count": 27,
     "metadata": {},
     "output_type": "execute_result"
    }
   ],
   "source": [
    "y_pred_prob = clf.predict_proba(X_test_bezp)\n",
    "y_pred_prob"
   ],
   "metadata": {
    "collapsed": false,
    "pycharm": {
     "name": "#%%\n"
    }
   }
  },
  {
   "cell_type": "code",
   "execution_count": 28,
   "outputs": [],
   "source": [
    "import numpy as nnpp"
   ],
   "metadata": {
    "collapsed": false,
    "pycharm": {
     "name": "#%%\n"
    }
   }
  },
  {
   "cell_type": "code",
   "execution_count": 32,
   "outputs": [
    {
     "ename": "AttributeError",
     "evalue": "'numpy.ndarray' object has no attribute 'corr'",
     "output_type": "error",
     "traceback": [
      "\u001B[1;31m---------------------------------------------------------------------------\u001B[0m",
      "\u001B[1;31mAttributeError\u001B[0m                            Traceback (most recent call last)",
      "Cell \u001B[1;32mIn[32], line 1\u001B[0m\n\u001B[1;32m----> 1\u001B[0m \u001B[43my_pred_prob\u001B[49m\u001B[38;5;241;43m.\u001B[39;49m\u001B[43mcorr\u001B[49m(X_test[\u001B[38;5;124m\"\u001B[39m\u001B[38;5;124mp_recall\u001B[39m\u001B[38;5;124m\"\u001B[39m])\n",
      "\u001B[1;31mAttributeError\u001B[0m: 'numpy.ndarray' object has no attribute 'corr'"
     ]
    }
   ],
   "source": [],
   "metadata": {
    "collapsed": false,
    "pycharm": {
     "name": "#%%\n"
    }
   }
  },
  {
   "cell_type": "code",
   "execution_count": 30,
   "outputs": [
    {
     "data": {
      "text/plain": "array([[0.54333287, 0.45666713],\n       [0.45738576, 0.54261424],\n       [0.52017107, 0.47982893],\n       ...,\n       [0.47625933, 0.52374067],\n       [0.74522494, 0.25477506],\n       [0.61874514, 0.38125486]])"
     },
     "execution_count": 30,
     "metadata": {},
     "output_type": "execute_result"
    }
   ],
   "source": [
    "y_pred_prob"
   ],
   "metadata": {
    "collapsed": false,
    "pycharm": {
     "name": "#%%\n"
    }
   }
  },
  {
   "cell_type": "code",
   "execution_count": 33,
   "outputs": [
    {
     "data": {
      "text/plain": "2313520    1.0\n3222322    1.0\n1074666    1.0\n4820034    1.0\n4904213    1.0\n          ... \n580730     1.0\n704721     1.0\n100968     1.0\n3677723    1.0\n3353605    1.0\nName: p_recall, Length: 999500, dtype: float64"
     },
     "execution_count": 33,
     "metadata": {},
     "output_type": "execute_result"
    }
   ],
   "source": [
    "X_test[\"p_recall\"]"
   ],
   "metadata": {
    "collapsed": false,
    "pycharm": {
     "name": "#%%\n"
    }
   }
  },
  {
   "cell_type": "code",
   "execution_count": 34,
   "outputs": [
    {
     "ename": "ValueError",
     "evalue": "all the input array dimensions except for the concatenation axis must match exactly, but along dimension 1, the array at index 0 has size 999500 and the array at index 1 has size 2",
     "output_type": "error",
     "traceback": [
      "\u001B[1;31m---------------------------------------------------------------------------\u001B[0m",
      "\u001B[1;31mValueError\u001B[0m                                Traceback (most recent call last)",
      "Cell \u001B[1;32mIn[34], line 1\u001B[0m\n\u001B[1;32m----> 1\u001B[0m \u001B[43mnp\u001B[49m\u001B[38;5;241;43m.\u001B[39;49m\u001B[43mcorrcoef\u001B[49m\u001B[43m(\u001B[49m\u001B[43mX_test\u001B[49m\u001B[43m[\u001B[49m\u001B[38;5;124;43m\"\u001B[39;49m\u001B[38;5;124;43mp_recall\u001B[39;49m\u001B[38;5;124;43m\"\u001B[39;49m\u001B[43m]\u001B[49m\u001B[43m,\u001B[49m\u001B[43my_pred_prob\u001B[49m\u001B[43m[\u001B[49m\u001B[38;5;241;43m1\u001B[39;49m\u001B[43m]\u001B[49m\u001B[43m)\u001B[49m\n",
      "File \u001B[1;32m<__array_function__ internals>:200\u001B[0m, in \u001B[0;36mcorrcoef\u001B[1;34m(*args, **kwargs)\u001B[0m\n",
      "File \u001B[1;32mc:\\users\\hresk\\pycharmprojects\\bakalarka\\venv\\lib\\site-packages\\numpy\\lib\\function_base.py:2846\u001B[0m, in \u001B[0;36mcorrcoef\u001B[1;34m(x, y, rowvar, bias, ddof, dtype)\u001B[0m\n\u001B[0;32m   2842\u001B[0m \u001B[38;5;28;01mif\u001B[39;00m bias \u001B[38;5;129;01mis\u001B[39;00m \u001B[38;5;129;01mnot\u001B[39;00m np\u001B[38;5;241m.\u001B[39m_NoValue \u001B[38;5;129;01mor\u001B[39;00m ddof \u001B[38;5;129;01mis\u001B[39;00m \u001B[38;5;129;01mnot\u001B[39;00m np\u001B[38;5;241m.\u001B[39m_NoValue:\n\u001B[0;32m   2843\u001B[0m     \u001B[38;5;66;03m# 2015-03-15, 1.10\u001B[39;00m\n\u001B[0;32m   2844\u001B[0m     warnings\u001B[38;5;241m.\u001B[39mwarn(\u001B[38;5;124m'\u001B[39m\u001B[38;5;124mbias and ddof have no effect and are deprecated\u001B[39m\u001B[38;5;124m'\u001B[39m,\n\u001B[0;32m   2845\u001B[0m                   \u001B[38;5;167;01mDeprecationWarning\u001B[39;00m, stacklevel\u001B[38;5;241m=\u001B[39m\u001B[38;5;241m3\u001B[39m)\n\u001B[1;32m-> 2846\u001B[0m c \u001B[38;5;241m=\u001B[39m \u001B[43mcov\u001B[49m\u001B[43m(\u001B[49m\u001B[43mx\u001B[49m\u001B[43m,\u001B[49m\u001B[43m \u001B[49m\u001B[43my\u001B[49m\u001B[43m,\u001B[49m\u001B[43m \u001B[49m\u001B[43mrowvar\u001B[49m\u001B[43m,\u001B[49m\u001B[43m \u001B[49m\u001B[43mdtype\u001B[49m\u001B[38;5;241;43m=\u001B[39;49m\u001B[43mdtype\u001B[49m\u001B[43m)\u001B[49m\n\u001B[0;32m   2847\u001B[0m \u001B[38;5;28;01mtry\u001B[39;00m:\n\u001B[0;32m   2848\u001B[0m     d \u001B[38;5;241m=\u001B[39m diag(c)\n",
      "File \u001B[1;32m<__array_function__ internals>:200\u001B[0m, in \u001B[0;36mcov\u001B[1;34m(*args, **kwargs)\u001B[0m\n",
      "File \u001B[1;32mc:\\users\\hresk\\pycharmprojects\\bakalarka\\venv\\lib\\site-packages\\numpy\\lib\\function_base.py:2640\u001B[0m, in \u001B[0;36mcov\u001B[1;34m(m, y, rowvar, bias, ddof, fweights, aweights, dtype)\u001B[0m\n\u001B[0;32m   2638\u001B[0m     \u001B[38;5;28;01mif\u001B[39;00m \u001B[38;5;129;01mnot\u001B[39;00m rowvar \u001B[38;5;129;01mand\u001B[39;00m y\u001B[38;5;241m.\u001B[39mshape[\u001B[38;5;241m0\u001B[39m] \u001B[38;5;241m!=\u001B[39m \u001B[38;5;241m1\u001B[39m:\n\u001B[0;32m   2639\u001B[0m         y \u001B[38;5;241m=\u001B[39m y\u001B[38;5;241m.\u001B[39mT\n\u001B[1;32m-> 2640\u001B[0m     X \u001B[38;5;241m=\u001B[39m \u001B[43mnp\u001B[49m\u001B[38;5;241;43m.\u001B[39;49m\u001B[43mconcatenate\u001B[49m\u001B[43m(\u001B[49m\u001B[43m(\u001B[49m\u001B[43mX\u001B[49m\u001B[43m,\u001B[49m\u001B[43m \u001B[49m\u001B[43my\u001B[49m\u001B[43m)\u001B[49m\u001B[43m,\u001B[49m\u001B[43m \u001B[49m\u001B[43maxis\u001B[49m\u001B[38;5;241;43m=\u001B[39;49m\u001B[38;5;241;43m0\u001B[39;49m\u001B[43m)\u001B[49m\n\u001B[0;32m   2642\u001B[0m \u001B[38;5;28;01mif\u001B[39;00m ddof \u001B[38;5;129;01mis\u001B[39;00m \u001B[38;5;28;01mNone\u001B[39;00m:\n\u001B[0;32m   2643\u001B[0m     \u001B[38;5;28;01mif\u001B[39;00m bias \u001B[38;5;241m==\u001B[39m \u001B[38;5;241m0\u001B[39m:\n",
      "File \u001B[1;32m<__array_function__ internals>:200\u001B[0m, in \u001B[0;36mconcatenate\u001B[1;34m(*args, **kwargs)\u001B[0m\n",
      "\u001B[1;31mValueError\u001B[0m: all the input array dimensions except for the concatenation axis must match exactly, but along dimension 1, the array at index 0 has size 999500 and the array at index 1 has size 2"
     ]
    }
   ],
   "source": [],
   "metadata": {
    "collapsed": false,
    "pycharm": {
     "name": "#%%\n"
    }
   }
  },
  {
   "cell_type": "code",
   "execution_count": 43,
   "outputs": [
    {
     "data": {
      "text/plain": "numpy.ndarray"
     },
     "execution_count": 43,
     "metadata": {},
     "output_type": "execute_result"
    }
   ],
   "source": [
    "type(y_pred_prob)"
   ],
   "metadata": {
    "collapsed": false,
    "pycharm": {
     "name": "#%%\n"
    }
   }
  },
  {
   "cell_type": "code",
   "execution_count": 44,
   "outputs": [
    {
     "data": {
      "text/plain": "               0         1\n0       0.543333  0.456667\n1       0.457386  0.542614\n2       0.520171  0.479829\n3       0.570045  0.429955\n4       0.222178  0.777822\n...          ...       ...\n999495  0.438259  0.561741\n999496  0.270704  0.729296\n999497  0.476259  0.523741\n999498  0.745225  0.254775\n999499  0.618745  0.381255\n\n[999500 rows x 2 columns]",
      "text/html": "<div>\n<style scoped>\n    .dataframe tbody tr th:only-of-type {\n        vertical-align: middle;\n    }\n\n    .dataframe tbody tr th {\n        vertical-align: top;\n    }\n\n    .dataframe thead th {\n        text-align: right;\n    }\n</style>\n<table border=\"1\" class=\"dataframe\">\n  <thead>\n    <tr style=\"text-align: right;\">\n      <th></th>\n      <th>0</th>\n      <th>1</th>\n    </tr>\n  </thead>\n  <tbody>\n    <tr>\n      <th>0</th>\n      <td>0.543333</td>\n      <td>0.456667</td>\n    </tr>\n    <tr>\n      <th>1</th>\n      <td>0.457386</td>\n      <td>0.542614</td>\n    </tr>\n    <tr>\n      <th>2</th>\n      <td>0.520171</td>\n      <td>0.479829</td>\n    </tr>\n    <tr>\n      <th>3</th>\n      <td>0.570045</td>\n      <td>0.429955</td>\n    </tr>\n    <tr>\n      <th>4</th>\n      <td>0.222178</td>\n      <td>0.777822</td>\n    </tr>\n    <tr>\n      <th>...</th>\n      <td>...</td>\n      <td>...</td>\n    </tr>\n    <tr>\n      <th>999495</th>\n      <td>0.438259</td>\n      <td>0.561741</td>\n    </tr>\n    <tr>\n      <th>999496</th>\n      <td>0.270704</td>\n      <td>0.729296</td>\n    </tr>\n    <tr>\n      <th>999497</th>\n      <td>0.476259</td>\n      <td>0.523741</td>\n    </tr>\n    <tr>\n      <th>999498</th>\n      <td>0.745225</td>\n      <td>0.254775</td>\n    </tr>\n    <tr>\n      <th>999499</th>\n      <td>0.618745</td>\n      <td>0.381255</td>\n    </tr>\n  </tbody>\n</table>\n<p>999500 rows × 2 columns</p>\n</div>"
     },
     "execution_count": 44,
     "metadata": {},
     "output_type": "execute_result"
    }
   ],
   "source": [
    "ypred_prob_DF = pd.DataFrame(y_pred_prob)\n",
    "ypred_prob_DF"
   ],
   "metadata": {
    "collapsed": false,
    "pycharm": {
     "name": "#%%\n"
    }
   }
  },
  {
   "cell_type": "code",
   "execution_count": 45,
   "outputs": [
    {
     "data": {
      "text/plain": "0         0.456667\n1         0.542614\n2         0.479829\n3         0.429955\n4         0.777822\n            ...   \n999495    0.561741\n999496    0.729296\n999497    0.523741\n999498    0.254775\n999499    0.381255\nName: 1, Length: 999500, dtype: float64"
     },
     "execution_count": 45,
     "metadata": {},
     "output_type": "execute_result"
    }
   ],
   "source": [
    "ypred_prob_DF[1]"
   ],
   "metadata": {
    "collapsed": false,
    "pycharm": {
     "name": "#%%\n"
    }
   }
  },
  {
   "cell_type": "code",
   "execution_count": 48,
   "outputs": [
    {
     "data": {
      "text/plain": "array([[1.        , 0.16542777],\n       [0.16542777, 1.        ]])"
     },
     "execution_count": 48,
     "metadata": {},
     "output_type": "execute_result"
    }
   ],
   "source": [
    "np.corrcoef(X_test[\"p_recall\"],ypred_prob_DF[1])"
   ],
   "metadata": {
    "collapsed": false,
    "pycharm": {
     "name": "#%%\n"
    }
   }
  },
  {
   "cell_type": "code",
   "execution_count": 49,
   "outputs": [],
   "source": [],
   "metadata": {
    "collapsed": false,
    "pycharm": {
     "name": "#%%\n"
    }
   }
  },
  {
   "cell_type": "code",
   "execution_count": null,
   "outputs": [],
   "source": [],
   "metadata": {
    "collapsed": false,
    "pycharm": {
     "name": "#%%\n"
    }
   }
  }
 ],
 "metadata": {
  "kernelspec": {
   "display_name": "Python 3",
   "language": "python",
   "name": "python3"
  },
  "language_info": {
   "codemirror_mode": {
    "name": "ipython",
    "version": 2
   },
   "file_extension": ".py",
   "mimetype": "text/x-python",
   "name": "python",
   "nbconvert_exporter": "python",
   "pygments_lexer": "ipython2",
   "version": "2.7.6"
  }
 },
 "nbformat": 4,
 "nbformat_minor": 0
}