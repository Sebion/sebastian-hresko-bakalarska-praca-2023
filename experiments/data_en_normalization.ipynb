{
 "cells": [
  {
   "cell_type": "code",
   "execution_count": 2,
   "metadata": {
    "collapsed": true
   },
   "outputs": [],
   "source": [
    "import pandas as pd\n",
    "data_en = pd.read_csv(\"data_ready_en.csv\")"
   ]
  },
  {
   "cell_type": "code",
   "execution_count": 2,
   "outputs": [
    {
     "data": {
      "text/plain": "         p_recall     delta ui_language  history_seen  history_correct  \\\n0        1.000000  0.099167          pt            17               17   \n1        1.000000  0.099167          pt            19               19   \n2        1.000000  0.099167          pt            21               20   \n3        0.800000  0.099167          pt            44               36   \n4        1.000000  0.099167          pt            21               20   \n...           ...       ...         ...           ...              ...   \n4997494  0.800000  0.102222          it             6                4   \n4997495  0.800000  0.102222          it             4                4   \n4997496  1.000000  0.102222          it             4                4   \n4997497  0.600000  0.102222          it             3                2   \n4997498  0.666667  0.102222          it             5                3   \n\n         session_seen surface_form    root_form modifiers_split  \\\n0                   2   definition   definition         <n><sg>   \n1                   3      surface      surface         <n><sg>   \n2                   3        scale        scale         <n><sg>   \n3                   5  temperature  temperature         <n><sg>   \n4                   3     distance     distance         <n><sg>   \n...               ...          ...          ...             ...   \n4997494             5          the          the  <det><def><sp>   \n4997495             5          eat          eat   <vblex><pres>   \n4997496             4        bread        bread         <n><sg>   \n4997497             5        drink        drink   <vblex><pres>   \n4997498             9        water        water         <n><sg>   \n\n         history_incorrect  ...  pronoun  adjective  adverb  conjunction  \\\n0                        0  ...        0          0       0            0   \n1                        0  ...        0          0       0            0   \n2                        1  ...        0          0       0            0   \n3                        8  ...        0          0       0            0   \n4                        1  ...        0          0       0            0   \n...                    ...  ...      ...        ...     ...          ...   \n4997494                  2  ...        0          0       0            0   \n4997495                  0  ...        0          0       0            0   \n4997496                  0  ...        0          0       0            0   \n4997497                  1  ...        0          0       0            0   \n4997498                  2  ...        0          0       0            0   \n\n         determiner  interjection  plural  number  phrase  word_freq  \n0                 0             0       0       0       0   0.000038  \n1                 0             0       0       0       0   0.000068  \n2                 0             0       0       0       0   0.000068  \n3                 0             0       0       0       0   0.000044  \n4                 0             0       0       0       0   0.000071  \n...             ...           ...     ...     ...     ...        ...  \n4997494           1             0       0       0       0   0.053700  \n4997495           0             0       0       0       0   0.000135  \n4997496           0             0       0       0       0   0.000032  \n4997497           0             0       0       0       0   0.000079  \n4997498           0             0       0       0       0   0.000331  \n\n[4997499 rows x 26 columns]",
      "text/html": "<div>\n<style scoped>\n    .dataframe tbody tr th:only-of-type {\n        vertical-align: middle;\n    }\n\n    .dataframe tbody tr th {\n        vertical-align: top;\n    }\n\n    .dataframe thead th {\n        text-align: right;\n    }\n</style>\n<table border=\"1\" class=\"dataframe\">\n  <thead>\n    <tr style=\"text-align: right;\">\n      <th></th>\n      <th>p_recall</th>\n      <th>delta</th>\n      <th>ui_language</th>\n      <th>history_seen</th>\n      <th>history_correct</th>\n      <th>session_seen</th>\n      <th>surface_form</th>\n      <th>root_form</th>\n      <th>modifiers_split</th>\n      <th>history_incorrect</th>\n      <th>...</th>\n      <th>pronoun</th>\n      <th>adjective</th>\n      <th>adverb</th>\n      <th>conjunction</th>\n      <th>determiner</th>\n      <th>interjection</th>\n      <th>plural</th>\n      <th>number</th>\n      <th>phrase</th>\n      <th>word_freq</th>\n    </tr>\n  </thead>\n  <tbody>\n    <tr>\n      <th>0</th>\n      <td>1.000000</td>\n      <td>0.099167</td>\n      <td>pt</td>\n      <td>17</td>\n      <td>17</td>\n      <td>2</td>\n      <td>definition</td>\n      <td>definition</td>\n      <td>&lt;n&gt;&lt;sg&gt;</td>\n      <td>0</td>\n      <td>...</td>\n      <td>0</td>\n      <td>0</td>\n      <td>0</td>\n      <td>0</td>\n      <td>0</td>\n      <td>0</td>\n      <td>0</td>\n      <td>0</td>\n      <td>0</td>\n      <td>0.000038</td>\n    </tr>\n    <tr>\n      <th>1</th>\n      <td>1.000000</td>\n      <td>0.099167</td>\n      <td>pt</td>\n      <td>19</td>\n      <td>19</td>\n      <td>3</td>\n      <td>surface</td>\n      <td>surface</td>\n      <td>&lt;n&gt;&lt;sg&gt;</td>\n      <td>0</td>\n      <td>...</td>\n      <td>0</td>\n      <td>0</td>\n      <td>0</td>\n      <td>0</td>\n      <td>0</td>\n      <td>0</td>\n      <td>0</td>\n      <td>0</td>\n      <td>0</td>\n      <td>0.000068</td>\n    </tr>\n    <tr>\n      <th>2</th>\n      <td>1.000000</td>\n      <td>0.099167</td>\n      <td>pt</td>\n      <td>21</td>\n      <td>20</td>\n      <td>3</td>\n      <td>scale</td>\n      <td>scale</td>\n      <td>&lt;n&gt;&lt;sg&gt;</td>\n      <td>1</td>\n      <td>...</td>\n      <td>0</td>\n      <td>0</td>\n      <td>0</td>\n      <td>0</td>\n      <td>0</td>\n      <td>0</td>\n      <td>0</td>\n      <td>0</td>\n      <td>0</td>\n      <td>0.000068</td>\n    </tr>\n    <tr>\n      <th>3</th>\n      <td>0.800000</td>\n      <td>0.099167</td>\n      <td>pt</td>\n      <td>44</td>\n      <td>36</td>\n      <td>5</td>\n      <td>temperature</td>\n      <td>temperature</td>\n      <td>&lt;n&gt;&lt;sg&gt;</td>\n      <td>8</td>\n      <td>...</td>\n      <td>0</td>\n      <td>0</td>\n      <td>0</td>\n      <td>0</td>\n      <td>0</td>\n      <td>0</td>\n      <td>0</td>\n      <td>0</td>\n      <td>0</td>\n      <td>0.000044</td>\n    </tr>\n    <tr>\n      <th>4</th>\n      <td>1.000000</td>\n      <td>0.099167</td>\n      <td>pt</td>\n      <td>21</td>\n      <td>20</td>\n      <td>3</td>\n      <td>distance</td>\n      <td>distance</td>\n      <td>&lt;n&gt;&lt;sg&gt;</td>\n      <td>1</td>\n      <td>...</td>\n      <td>0</td>\n      <td>0</td>\n      <td>0</td>\n      <td>0</td>\n      <td>0</td>\n      <td>0</td>\n      <td>0</td>\n      <td>0</td>\n      <td>0</td>\n      <td>0.000071</td>\n    </tr>\n    <tr>\n      <th>...</th>\n      <td>...</td>\n      <td>...</td>\n      <td>...</td>\n      <td>...</td>\n      <td>...</td>\n      <td>...</td>\n      <td>...</td>\n      <td>...</td>\n      <td>...</td>\n      <td>...</td>\n      <td>...</td>\n      <td>...</td>\n      <td>...</td>\n      <td>...</td>\n      <td>...</td>\n      <td>...</td>\n      <td>...</td>\n      <td>...</td>\n      <td>...</td>\n      <td>...</td>\n      <td>...</td>\n    </tr>\n    <tr>\n      <th>4997494</th>\n      <td>0.800000</td>\n      <td>0.102222</td>\n      <td>it</td>\n      <td>6</td>\n      <td>4</td>\n      <td>5</td>\n      <td>the</td>\n      <td>the</td>\n      <td>&lt;det&gt;&lt;def&gt;&lt;sp&gt;</td>\n      <td>2</td>\n      <td>...</td>\n      <td>0</td>\n      <td>0</td>\n      <td>0</td>\n      <td>0</td>\n      <td>1</td>\n      <td>0</td>\n      <td>0</td>\n      <td>0</td>\n      <td>0</td>\n      <td>0.053700</td>\n    </tr>\n    <tr>\n      <th>4997495</th>\n      <td>0.800000</td>\n      <td>0.102222</td>\n      <td>it</td>\n      <td>4</td>\n      <td>4</td>\n      <td>5</td>\n      <td>eat</td>\n      <td>eat</td>\n      <td>&lt;vblex&gt;&lt;pres&gt;</td>\n      <td>0</td>\n      <td>...</td>\n      <td>0</td>\n      <td>0</td>\n      <td>0</td>\n      <td>0</td>\n      <td>0</td>\n      <td>0</td>\n      <td>0</td>\n      <td>0</td>\n      <td>0</td>\n      <td>0.000135</td>\n    </tr>\n    <tr>\n      <th>4997496</th>\n      <td>1.000000</td>\n      <td>0.102222</td>\n      <td>it</td>\n      <td>4</td>\n      <td>4</td>\n      <td>4</td>\n      <td>bread</td>\n      <td>bread</td>\n      <td>&lt;n&gt;&lt;sg&gt;</td>\n      <td>0</td>\n      <td>...</td>\n      <td>0</td>\n      <td>0</td>\n      <td>0</td>\n      <td>0</td>\n      <td>0</td>\n      <td>0</td>\n      <td>0</td>\n      <td>0</td>\n      <td>0</td>\n      <td>0.000032</td>\n    </tr>\n    <tr>\n      <th>4997497</th>\n      <td>0.600000</td>\n      <td>0.102222</td>\n      <td>it</td>\n      <td>3</td>\n      <td>2</td>\n      <td>5</td>\n      <td>drink</td>\n      <td>drink</td>\n      <td>&lt;vblex&gt;&lt;pres&gt;</td>\n      <td>1</td>\n      <td>...</td>\n      <td>0</td>\n      <td>0</td>\n      <td>0</td>\n      <td>0</td>\n      <td>0</td>\n      <td>0</td>\n      <td>0</td>\n      <td>0</td>\n      <td>0</td>\n      <td>0.000079</td>\n    </tr>\n    <tr>\n      <th>4997498</th>\n      <td>0.666667</td>\n      <td>0.102222</td>\n      <td>it</td>\n      <td>5</td>\n      <td>3</td>\n      <td>9</td>\n      <td>water</td>\n      <td>water</td>\n      <td>&lt;n&gt;&lt;sg&gt;</td>\n      <td>2</td>\n      <td>...</td>\n      <td>0</td>\n      <td>0</td>\n      <td>0</td>\n      <td>0</td>\n      <td>0</td>\n      <td>0</td>\n      <td>0</td>\n      <td>0</td>\n      <td>0</td>\n      <td>0.000331</td>\n    </tr>\n  </tbody>\n</table>\n<p>4997499 rows × 26 columns</p>\n</div>"
     },
     "execution_count": 2,
     "metadata": {},
     "output_type": "execute_result"
    }
   ],
   "source": [
    "data_en"
   ],
   "metadata": {
    "collapsed": false,
    "pycharm": {
     "name": "#%%\n"
    }
   }
  },
  {
   "cell_type": "code",
   "execution_count": 3,
   "outputs": [
    {
     "name": "stdout",
     "output_type": "stream",
     "text": [
      "es    3628934\n",
      "pt     945955\n",
      "it     422610\n",
      "Name: ui_language, dtype: int64\n"
     ]
    }
   ],
   "source": [
    "print(pd.value_counts(data_en[\"ui_language\"]))"
   ],
   "metadata": {
    "collapsed": false,
    "pycharm": {
     "name": "#%%\n"
    }
   }
  },
  {
   "cell_type": "code",
   "execution_count": 12,
   "outputs": [],
   "source": [
    "del data_en[\"modifiers_split\"]\n",
    "del data_en[\"surface_form\"]\n",
    "del data_en[\"root_form\"]"
   ],
   "metadata": {
    "collapsed": false,
    "pycharm": {
     "name": "#%%\n"
    }
   }
  },
  {
   "cell_type": "code",
   "execution_count": 13,
   "outputs": [
    {
     "data": {
      "text/plain": "         p_recall     delta  history_seen  history_correct  session_seen  \\\n0        1.000000  0.099167            17               17             2   \n1        1.000000  0.099167            19               19             3   \n2        1.000000  0.099167            21               20             3   \n3        0.800000  0.099167            44               36             5   \n4        1.000000  0.099167            21               20             3   \n...           ...       ...           ...              ...           ...   \n4997494  0.800000  0.102222             6                4             5   \n4997495  0.800000  0.102222             4                4             5   \n4997496  1.000000  0.102222             4                4             4   \n4997497  0.600000  0.102222             3                2             5   \n4997498  0.666667  0.102222             5                3             9   \n\n         history_incorrect  word_length  differs_from_root  passed  verb  ...  \\\n0                        0           10                  0       1     0  ...   \n1                        0            7                  0       1     0  ...   \n2                        1            5                  0       1     0  ...   \n3                        8           11                  0       0     0  ...   \n4                        1            8                  0       1     0  ...   \n...                    ...          ...                ...     ...   ...  ...   \n4997494                  2            3                  0       0     0  ...   \n4997495                  0            3                  0       0     1  ...   \n4997496                  0            5                  0       1     0  ...   \n4997497                  1            5                  0       0     1  ...   \n4997498                  2            5                  0       0     0  ...   \n\n         conjunction  determiner  interjection  plural  number  phrase  \\\n0                  0           0             0       0       0       0   \n1                  0           0             0       0       0       0   \n2                  0           0             0       0       0       0   \n3                  0           0             0       0       0       0   \n4                  0           0             0       0       0       0   \n...              ...         ...           ...     ...     ...     ...   \n4997494            0           1             0       0       0       0   \n4997495            0           0             0       0       0       0   \n4997496            0           0             0       0       0       0   \n4997497            0           0             0       0       0       0   \n4997498            0           0             0       0       0       0   \n\n         word_freq  ui_language_es  ui_language_it  ui_language_pt  \n0         0.000038               0               0               1  \n1         0.000068               0               0               1  \n2         0.000068               0               0               1  \n3         0.000044               0               0               1  \n4         0.000071               0               0               1  \n...            ...             ...             ...             ...  \n4997494   0.053700               0               1               0  \n4997495   0.000135               0               1               0  \n4997496   0.000032               0               1               0  \n4997497   0.000079               0               1               0  \n4997498   0.000331               0               1               0  \n\n[4997499 rows x 25 columns]",
      "text/html": "<div>\n<style scoped>\n    .dataframe tbody tr th:only-of-type {\n        vertical-align: middle;\n    }\n\n    .dataframe tbody tr th {\n        vertical-align: top;\n    }\n\n    .dataframe thead th {\n        text-align: right;\n    }\n</style>\n<table border=\"1\" class=\"dataframe\">\n  <thead>\n    <tr style=\"text-align: right;\">\n      <th></th>\n      <th>p_recall</th>\n      <th>delta</th>\n      <th>history_seen</th>\n      <th>history_correct</th>\n      <th>session_seen</th>\n      <th>history_incorrect</th>\n      <th>word_length</th>\n      <th>differs_from_root</th>\n      <th>passed</th>\n      <th>verb</th>\n      <th>...</th>\n      <th>conjunction</th>\n      <th>determiner</th>\n      <th>interjection</th>\n      <th>plural</th>\n      <th>number</th>\n      <th>phrase</th>\n      <th>word_freq</th>\n      <th>ui_language_es</th>\n      <th>ui_language_it</th>\n      <th>ui_language_pt</th>\n    </tr>\n  </thead>\n  <tbody>\n    <tr>\n      <th>0</th>\n      <td>1.000000</td>\n      <td>0.099167</td>\n      <td>17</td>\n      <td>17</td>\n      <td>2</td>\n      <td>0</td>\n      <td>10</td>\n      <td>0</td>\n      <td>1</td>\n      <td>0</td>\n      <td>...</td>\n      <td>0</td>\n      <td>0</td>\n      <td>0</td>\n      <td>0</td>\n      <td>0</td>\n      <td>0</td>\n      <td>0.000038</td>\n      <td>0</td>\n      <td>0</td>\n      <td>1</td>\n    </tr>\n    <tr>\n      <th>1</th>\n      <td>1.000000</td>\n      <td>0.099167</td>\n      <td>19</td>\n      <td>19</td>\n      <td>3</td>\n      <td>0</td>\n      <td>7</td>\n      <td>0</td>\n      <td>1</td>\n      <td>0</td>\n      <td>...</td>\n      <td>0</td>\n      <td>0</td>\n      <td>0</td>\n      <td>0</td>\n      <td>0</td>\n      <td>0</td>\n      <td>0.000068</td>\n      <td>0</td>\n      <td>0</td>\n      <td>1</td>\n    </tr>\n    <tr>\n      <th>2</th>\n      <td>1.000000</td>\n      <td>0.099167</td>\n      <td>21</td>\n      <td>20</td>\n      <td>3</td>\n      <td>1</td>\n      <td>5</td>\n      <td>0</td>\n      <td>1</td>\n      <td>0</td>\n      <td>...</td>\n      <td>0</td>\n      <td>0</td>\n      <td>0</td>\n      <td>0</td>\n      <td>0</td>\n      <td>0</td>\n      <td>0.000068</td>\n      <td>0</td>\n      <td>0</td>\n      <td>1</td>\n    </tr>\n    <tr>\n      <th>3</th>\n      <td>0.800000</td>\n      <td>0.099167</td>\n      <td>44</td>\n      <td>36</td>\n      <td>5</td>\n      <td>8</td>\n      <td>11</td>\n      <td>0</td>\n      <td>0</td>\n      <td>0</td>\n      <td>...</td>\n      <td>0</td>\n      <td>0</td>\n      <td>0</td>\n      <td>0</td>\n      <td>0</td>\n      <td>0</td>\n      <td>0.000044</td>\n      <td>0</td>\n      <td>0</td>\n      <td>1</td>\n    </tr>\n    <tr>\n      <th>4</th>\n      <td>1.000000</td>\n      <td>0.099167</td>\n      <td>21</td>\n      <td>20</td>\n      <td>3</td>\n      <td>1</td>\n      <td>8</td>\n      <td>0</td>\n      <td>1</td>\n      <td>0</td>\n      <td>...</td>\n      <td>0</td>\n      <td>0</td>\n      <td>0</td>\n      <td>0</td>\n      <td>0</td>\n      <td>0</td>\n      <td>0.000071</td>\n      <td>0</td>\n      <td>0</td>\n      <td>1</td>\n    </tr>\n    <tr>\n      <th>...</th>\n      <td>...</td>\n      <td>...</td>\n      <td>...</td>\n      <td>...</td>\n      <td>...</td>\n      <td>...</td>\n      <td>...</td>\n      <td>...</td>\n      <td>...</td>\n      <td>...</td>\n      <td>...</td>\n      <td>...</td>\n      <td>...</td>\n      <td>...</td>\n      <td>...</td>\n      <td>...</td>\n      <td>...</td>\n      <td>...</td>\n      <td>...</td>\n      <td>...</td>\n      <td>...</td>\n    </tr>\n    <tr>\n      <th>4997494</th>\n      <td>0.800000</td>\n      <td>0.102222</td>\n      <td>6</td>\n      <td>4</td>\n      <td>5</td>\n      <td>2</td>\n      <td>3</td>\n      <td>0</td>\n      <td>0</td>\n      <td>0</td>\n      <td>...</td>\n      <td>0</td>\n      <td>1</td>\n      <td>0</td>\n      <td>0</td>\n      <td>0</td>\n      <td>0</td>\n      <td>0.053700</td>\n      <td>0</td>\n      <td>1</td>\n      <td>0</td>\n    </tr>\n    <tr>\n      <th>4997495</th>\n      <td>0.800000</td>\n      <td>0.102222</td>\n      <td>4</td>\n      <td>4</td>\n      <td>5</td>\n      <td>0</td>\n      <td>3</td>\n      <td>0</td>\n      <td>0</td>\n      <td>1</td>\n      <td>...</td>\n      <td>0</td>\n      <td>0</td>\n      <td>0</td>\n      <td>0</td>\n      <td>0</td>\n      <td>0</td>\n      <td>0.000135</td>\n      <td>0</td>\n      <td>1</td>\n      <td>0</td>\n    </tr>\n    <tr>\n      <th>4997496</th>\n      <td>1.000000</td>\n      <td>0.102222</td>\n      <td>4</td>\n      <td>4</td>\n      <td>4</td>\n      <td>0</td>\n      <td>5</td>\n      <td>0</td>\n      <td>1</td>\n      <td>0</td>\n      <td>...</td>\n      <td>0</td>\n      <td>0</td>\n      <td>0</td>\n      <td>0</td>\n      <td>0</td>\n      <td>0</td>\n      <td>0.000032</td>\n      <td>0</td>\n      <td>1</td>\n      <td>0</td>\n    </tr>\n    <tr>\n      <th>4997497</th>\n      <td>0.600000</td>\n      <td>0.102222</td>\n      <td>3</td>\n      <td>2</td>\n      <td>5</td>\n      <td>1</td>\n      <td>5</td>\n      <td>0</td>\n      <td>0</td>\n      <td>1</td>\n      <td>...</td>\n      <td>0</td>\n      <td>0</td>\n      <td>0</td>\n      <td>0</td>\n      <td>0</td>\n      <td>0</td>\n      <td>0.000079</td>\n      <td>0</td>\n      <td>1</td>\n      <td>0</td>\n    </tr>\n    <tr>\n      <th>4997498</th>\n      <td>0.666667</td>\n      <td>0.102222</td>\n      <td>5</td>\n      <td>3</td>\n      <td>9</td>\n      <td>2</td>\n      <td>5</td>\n      <td>0</td>\n      <td>0</td>\n      <td>0</td>\n      <td>...</td>\n      <td>0</td>\n      <td>0</td>\n      <td>0</td>\n      <td>0</td>\n      <td>0</td>\n      <td>0</td>\n      <td>0.000331</td>\n      <td>0</td>\n      <td>1</td>\n      <td>0</td>\n    </tr>\n  </tbody>\n</table>\n<p>4997499 rows × 25 columns</p>\n</div>"
     },
     "execution_count": 13,
     "metadata": {},
     "output_type": "execute_result"
    }
   ],
   "source": [
    "data_en = pd.get_dummies(data_en,columns=[\"ui_language\"])\n",
    "data_en"
   ],
   "metadata": {
    "collapsed": false,
    "pycharm": {
     "name": "#%%\n"
    }
   }
  },
  {
   "cell_type": "code",
   "execution_count": 3,
   "outputs": [
    {
     "data": {
      "text/plain": "               delta  history_seen  history_correct  history_incorrect  \\\n0          92.646111             1                1                  0   \n1           4.446667             4                4                  0   \n2        3479.713889            34               30                  4   \n3           0.128056            27               27                  0   \n4          46.780556            55               45                 10   \n...              ...           ...              ...                ...   \n1287183    40.598889            52               48                  4   \n1287184     0.413056            16               16                  0   \n1287185    85.583611            35               32                  3   \n1287186   334.465833            43               40                  3   \n1287187   350.208611            29               29                  0   \n\n         word_length  differs_from_root  verb  noun  preposition  pronoun  \\\n0                  5                  0     0     1            0        0   \n1                  4                  0     0     1            0        0   \n2                  2                  0     0     0            1        0   \n3                  4                  0     0     1            0        0   \n4                  3                  0     0     0            0        0   \n...              ...                ...   ...   ...          ...      ...   \n1287183            4                  0     0     1            0        0   \n1287184            5                  0     1     0            0        0   \n1287185            5                  0     0     1            0        0   \n1287186            2                  1     1     0            0        0   \n1287187            5                  0     0     1            0        0   \n\n         ...  determiner  interjection  plural  number  phrase  word_freq  \\\n0        ...           0             0       0       0       0   0.000036   \n1        ...           0             0       0       0       0   0.000055   \n2        ...           0             0       0       0       0   0.025100   \n3        ...           0             0       0       0       0   0.000022   \n4        ...           0             0       0       0       0   0.025700   \n...      ...         ...           ...     ...     ...     ...        ...   \n1287183  ...           0             0       0       0       0   0.000240   \n1287184  ...           0             0       0       0       0   0.000079   \n1287185  ...           0             0       0       0       0   0.000224   \n1287186  ...           0             0       0       0       0   0.000603   \n1287187  ...           0             0       0       0       0   0.000331   \n\n         ui_language_es  ui_language_it  ui_language_pt  passed  \n0                     0               1               0       0  \n1                     1               0               0       0  \n2                     1               0               0       0  \n3                     1               0               0       0  \n4                     1               0               0       0  \n...                 ...             ...             ...     ...  \n1287183               1               0               0       1  \n1287184               0               0               1       1  \n1287185               0               0               1       1  \n1287186               0               1               0       1  \n1287187               1               0               0       1  \n\n[1287188 rows x 23 columns]",
      "text/html": "<div>\n<style scoped>\n    .dataframe tbody tr th:only-of-type {\n        vertical-align: middle;\n    }\n\n    .dataframe tbody tr th {\n        vertical-align: top;\n    }\n\n    .dataframe thead th {\n        text-align: right;\n    }\n</style>\n<table border=\"1\" class=\"dataframe\">\n  <thead>\n    <tr style=\"text-align: right;\">\n      <th></th>\n      <th>delta</th>\n      <th>history_seen</th>\n      <th>history_correct</th>\n      <th>history_incorrect</th>\n      <th>word_length</th>\n      <th>differs_from_root</th>\n      <th>verb</th>\n      <th>noun</th>\n      <th>preposition</th>\n      <th>pronoun</th>\n      <th>...</th>\n      <th>determiner</th>\n      <th>interjection</th>\n      <th>plural</th>\n      <th>number</th>\n      <th>phrase</th>\n      <th>word_freq</th>\n      <th>ui_language_es</th>\n      <th>ui_language_it</th>\n      <th>ui_language_pt</th>\n      <th>passed</th>\n    </tr>\n  </thead>\n  <tbody>\n    <tr>\n      <th>0</th>\n      <td>92.646111</td>\n      <td>1</td>\n      <td>1</td>\n      <td>0</td>\n      <td>5</td>\n      <td>0</td>\n      <td>0</td>\n      <td>1</td>\n      <td>0</td>\n      <td>0</td>\n      <td>...</td>\n      <td>0</td>\n      <td>0</td>\n      <td>0</td>\n      <td>0</td>\n      <td>0</td>\n      <td>0.000036</td>\n      <td>0</td>\n      <td>1</td>\n      <td>0</td>\n      <td>0</td>\n    </tr>\n    <tr>\n      <th>1</th>\n      <td>4.446667</td>\n      <td>4</td>\n      <td>4</td>\n      <td>0</td>\n      <td>4</td>\n      <td>0</td>\n      <td>0</td>\n      <td>1</td>\n      <td>0</td>\n      <td>0</td>\n      <td>...</td>\n      <td>0</td>\n      <td>0</td>\n      <td>0</td>\n      <td>0</td>\n      <td>0</td>\n      <td>0.000055</td>\n      <td>1</td>\n      <td>0</td>\n      <td>0</td>\n      <td>0</td>\n    </tr>\n    <tr>\n      <th>2</th>\n      <td>3479.713889</td>\n      <td>34</td>\n      <td>30</td>\n      <td>4</td>\n      <td>2</td>\n      <td>0</td>\n      <td>0</td>\n      <td>0</td>\n      <td>1</td>\n      <td>0</td>\n      <td>...</td>\n      <td>0</td>\n      <td>0</td>\n      <td>0</td>\n      <td>0</td>\n      <td>0</td>\n      <td>0.025100</td>\n      <td>1</td>\n      <td>0</td>\n      <td>0</td>\n      <td>0</td>\n    </tr>\n    <tr>\n      <th>3</th>\n      <td>0.128056</td>\n      <td>27</td>\n      <td>27</td>\n      <td>0</td>\n      <td>4</td>\n      <td>0</td>\n      <td>0</td>\n      <td>1</td>\n      <td>0</td>\n      <td>0</td>\n      <td>...</td>\n      <td>0</td>\n      <td>0</td>\n      <td>0</td>\n      <td>0</td>\n      <td>0</td>\n      <td>0.000022</td>\n      <td>1</td>\n      <td>0</td>\n      <td>0</td>\n      <td>0</td>\n    </tr>\n    <tr>\n      <th>4</th>\n      <td>46.780556</td>\n      <td>55</td>\n      <td>45</td>\n      <td>10</td>\n      <td>3</td>\n      <td>0</td>\n      <td>0</td>\n      <td>0</td>\n      <td>0</td>\n      <td>0</td>\n      <td>...</td>\n      <td>0</td>\n      <td>0</td>\n      <td>0</td>\n      <td>0</td>\n      <td>0</td>\n      <td>0.025700</td>\n      <td>1</td>\n      <td>0</td>\n      <td>0</td>\n      <td>0</td>\n    </tr>\n    <tr>\n      <th>...</th>\n      <td>...</td>\n      <td>...</td>\n      <td>...</td>\n      <td>...</td>\n      <td>...</td>\n      <td>...</td>\n      <td>...</td>\n      <td>...</td>\n      <td>...</td>\n      <td>...</td>\n      <td>...</td>\n      <td>...</td>\n      <td>...</td>\n      <td>...</td>\n      <td>...</td>\n      <td>...</td>\n      <td>...</td>\n      <td>...</td>\n      <td>...</td>\n      <td>...</td>\n      <td>...</td>\n    </tr>\n    <tr>\n      <th>1287183</th>\n      <td>40.598889</td>\n      <td>52</td>\n      <td>48</td>\n      <td>4</td>\n      <td>4</td>\n      <td>0</td>\n      <td>0</td>\n      <td>1</td>\n      <td>0</td>\n      <td>0</td>\n      <td>...</td>\n      <td>0</td>\n      <td>0</td>\n      <td>0</td>\n      <td>0</td>\n      <td>0</td>\n      <td>0.000240</td>\n      <td>1</td>\n      <td>0</td>\n      <td>0</td>\n      <td>1</td>\n    </tr>\n    <tr>\n      <th>1287184</th>\n      <td>0.413056</td>\n      <td>16</td>\n      <td>16</td>\n      <td>0</td>\n      <td>5</td>\n      <td>0</td>\n      <td>1</td>\n      <td>0</td>\n      <td>0</td>\n      <td>0</td>\n      <td>...</td>\n      <td>0</td>\n      <td>0</td>\n      <td>0</td>\n      <td>0</td>\n      <td>0</td>\n      <td>0.000079</td>\n      <td>0</td>\n      <td>0</td>\n      <td>1</td>\n      <td>1</td>\n    </tr>\n    <tr>\n      <th>1287185</th>\n      <td>85.583611</td>\n      <td>35</td>\n      <td>32</td>\n      <td>3</td>\n      <td>5</td>\n      <td>0</td>\n      <td>0</td>\n      <td>1</td>\n      <td>0</td>\n      <td>0</td>\n      <td>...</td>\n      <td>0</td>\n      <td>0</td>\n      <td>0</td>\n      <td>0</td>\n      <td>0</td>\n      <td>0.000224</td>\n      <td>0</td>\n      <td>0</td>\n      <td>1</td>\n      <td>1</td>\n    </tr>\n    <tr>\n      <th>1287186</th>\n      <td>334.465833</td>\n      <td>43</td>\n      <td>40</td>\n      <td>3</td>\n      <td>2</td>\n      <td>1</td>\n      <td>1</td>\n      <td>0</td>\n      <td>0</td>\n      <td>0</td>\n      <td>...</td>\n      <td>0</td>\n      <td>0</td>\n      <td>0</td>\n      <td>0</td>\n      <td>0</td>\n      <td>0.000603</td>\n      <td>0</td>\n      <td>1</td>\n      <td>0</td>\n      <td>1</td>\n    </tr>\n    <tr>\n      <th>1287187</th>\n      <td>350.208611</td>\n      <td>29</td>\n      <td>29</td>\n      <td>0</td>\n      <td>5</td>\n      <td>0</td>\n      <td>0</td>\n      <td>1</td>\n      <td>0</td>\n      <td>0</td>\n      <td>...</td>\n      <td>0</td>\n      <td>0</td>\n      <td>0</td>\n      <td>0</td>\n      <td>0</td>\n      <td>0.000331</td>\n      <td>1</td>\n      <td>0</td>\n      <td>0</td>\n      <td>1</td>\n    </tr>\n  </tbody>\n</table>\n<p>1287188 rows × 23 columns</p>\n</div>"
     },
     "execution_count": 3,
     "metadata": {},
     "output_type": "execute_result"
    }
   ],
   "source": [
    "data_en_train_undersampled = pd.read_csv(\"data_ready_en_train_undersampled.csv\")\n",
    "data_en_train_undersampled"
   ],
   "metadata": {
    "collapsed": false,
    "pycharm": {
     "name": "#%%\n"
    }
   }
  },
  {
   "cell_type": "code",
   "execution_count": 10,
   "outputs": [
    {
     "name": "stdout",
     "output_type": "stream",
     "text": [
      "0    643594\n",
      "1    643594\n",
      "Name: passed, dtype: int64\n"
     ]
    }
   ],
   "source": [
    "print(pd.value_counts(data_en_train_undersampled[\"passed\"]))"
   ],
   "metadata": {
    "collapsed": false,
    "pycharm": {
     "name": "#%%\n"
    }
   }
  },
  {
   "cell_type": "code",
   "execution_count": 4,
   "outputs": [
    {
     "data": {
      "text/plain": "        p_recall       delta  history_seen  history_correct  \\\n0            1.0    0.047500             7                7   \n1            0.5  552.537500             8                8   \n2            0.0  274.734722             4                2   \n3            1.0    0.147500             5                1   \n4            1.0   74.719444             4                4   \n...          ...         ...           ...              ...   \n999495       1.0    0.031667             9                9   \n999496       1.0  138.976111            23               20   \n999497       1.0  144.618611           377              355   \n999498       1.0   42.364167             7                6   \n999499       1.0    0.080833            14               12   \n\n        history_incorrect  word_length  differs_from_root  passed  verb  noun  \\\n0                       0            5                  0       1     0     1   \n1                       0            3                  0       0     1     0   \n2                       2            8                  0       0     0     1   \n3                       4            4                  0       1     0     0   \n4                       0            4                  0       1     0     1   \n...                   ...          ...                ...     ...   ...   ...   \n999495                  0            3                  0       1     1     0   \n999496                  3            2                  1       1     1     0   \n999497                 22            6                  1       1     1     0   \n999498                  1            6                  0       1     0     1   \n999499                  2            3                  0       1     0     1   \n\n        ...  conjunction  determiner  interjection  plural  number  phrase  \\\n0       ...            0           0             0       0       0       0   \n1       ...            0           0             0       0       0       0   \n2       ...            0           0             0       0       0       0   \n3       ...            0           0             0       0       0       0   \n4       ...            0           0             0       0       0       0   \n...     ...          ...         ...           ...     ...     ...     ...   \n999495  ...            0           0             0       0       0       0   \n999496  ...            0           0             0       0       0       0   \n999497  ...            0           0             0       0       0       0   \n999498  ...            0           0             0       0       0       0   \n999499  ...            0           0             0       0       0       0   \n\n        word_freq  ui_language_es  ui_language_it  ui_language_pt  \n0        0.000054               0               0               1  \n1        0.000309               1               0               0  \n2        0.000013               1               0               0  \n3        0.010200               1               0               0  \n4        0.000016               0               1               0  \n...           ...             ...             ...             ...  \n999495   0.000251               1               0               0  \n999496   0.011700               1               0               0  \n999497   0.000027               1               0               0  \n999498   0.000037               1               0               0  \n999499   0.000126               1               0               0  \n\n[999500 rows x 24 columns]",
      "text/html": "<div>\n<style scoped>\n    .dataframe tbody tr th:only-of-type {\n        vertical-align: middle;\n    }\n\n    .dataframe tbody tr th {\n        vertical-align: top;\n    }\n\n    .dataframe thead th {\n        text-align: right;\n    }\n</style>\n<table border=\"1\" class=\"dataframe\">\n  <thead>\n    <tr style=\"text-align: right;\">\n      <th></th>\n      <th>p_recall</th>\n      <th>delta</th>\n      <th>history_seen</th>\n      <th>history_correct</th>\n      <th>history_incorrect</th>\n      <th>word_length</th>\n      <th>differs_from_root</th>\n      <th>passed</th>\n      <th>verb</th>\n      <th>noun</th>\n      <th>...</th>\n      <th>conjunction</th>\n      <th>determiner</th>\n      <th>interjection</th>\n      <th>plural</th>\n      <th>number</th>\n      <th>phrase</th>\n      <th>word_freq</th>\n      <th>ui_language_es</th>\n      <th>ui_language_it</th>\n      <th>ui_language_pt</th>\n    </tr>\n  </thead>\n  <tbody>\n    <tr>\n      <th>0</th>\n      <td>1.0</td>\n      <td>0.047500</td>\n      <td>7</td>\n      <td>7</td>\n      <td>0</td>\n      <td>5</td>\n      <td>0</td>\n      <td>1</td>\n      <td>0</td>\n      <td>1</td>\n      <td>...</td>\n      <td>0</td>\n      <td>0</td>\n      <td>0</td>\n      <td>0</td>\n      <td>0</td>\n      <td>0</td>\n      <td>0.000054</td>\n      <td>0</td>\n      <td>0</td>\n      <td>1</td>\n    </tr>\n    <tr>\n      <th>1</th>\n      <td>0.5</td>\n      <td>552.537500</td>\n      <td>8</td>\n      <td>8</td>\n      <td>0</td>\n      <td>3</td>\n      <td>0</td>\n      <td>0</td>\n      <td>1</td>\n      <td>0</td>\n      <td>...</td>\n      <td>0</td>\n      <td>0</td>\n      <td>0</td>\n      <td>0</td>\n      <td>0</td>\n      <td>0</td>\n      <td>0.000309</td>\n      <td>1</td>\n      <td>0</td>\n      <td>0</td>\n    </tr>\n    <tr>\n      <th>2</th>\n      <td>0.0</td>\n      <td>274.734722</td>\n      <td>4</td>\n      <td>2</td>\n      <td>2</td>\n      <td>8</td>\n      <td>0</td>\n      <td>0</td>\n      <td>0</td>\n      <td>1</td>\n      <td>...</td>\n      <td>0</td>\n      <td>0</td>\n      <td>0</td>\n      <td>0</td>\n      <td>0</td>\n      <td>0</td>\n      <td>0.000013</td>\n      <td>1</td>\n      <td>0</td>\n      <td>0</td>\n    </tr>\n    <tr>\n      <th>3</th>\n      <td>1.0</td>\n      <td>0.147500</td>\n      <td>5</td>\n      <td>1</td>\n      <td>4</td>\n      <td>4</td>\n      <td>0</td>\n      <td>1</td>\n      <td>0</td>\n      <td>0</td>\n      <td>...</td>\n      <td>0</td>\n      <td>0</td>\n      <td>0</td>\n      <td>0</td>\n      <td>0</td>\n      <td>0</td>\n      <td>0.010200</td>\n      <td>1</td>\n      <td>0</td>\n      <td>0</td>\n    </tr>\n    <tr>\n      <th>4</th>\n      <td>1.0</td>\n      <td>74.719444</td>\n      <td>4</td>\n      <td>4</td>\n      <td>0</td>\n      <td>4</td>\n      <td>0</td>\n      <td>1</td>\n      <td>0</td>\n      <td>1</td>\n      <td>...</td>\n      <td>0</td>\n      <td>0</td>\n      <td>0</td>\n      <td>0</td>\n      <td>0</td>\n      <td>0</td>\n      <td>0.000016</td>\n      <td>0</td>\n      <td>1</td>\n      <td>0</td>\n    </tr>\n    <tr>\n      <th>...</th>\n      <td>...</td>\n      <td>...</td>\n      <td>...</td>\n      <td>...</td>\n      <td>...</td>\n      <td>...</td>\n      <td>...</td>\n      <td>...</td>\n      <td>...</td>\n      <td>...</td>\n      <td>...</td>\n      <td>...</td>\n      <td>...</td>\n      <td>...</td>\n      <td>...</td>\n      <td>...</td>\n      <td>...</td>\n      <td>...</td>\n      <td>...</td>\n      <td>...</td>\n      <td>...</td>\n    </tr>\n    <tr>\n      <th>999495</th>\n      <td>1.0</td>\n      <td>0.031667</td>\n      <td>9</td>\n      <td>9</td>\n      <td>0</td>\n      <td>3</td>\n      <td>0</td>\n      <td>1</td>\n      <td>1</td>\n      <td>0</td>\n      <td>...</td>\n      <td>0</td>\n      <td>0</td>\n      <td>0</td>\n      <td>0</td>\n      <td>0</td>\n      <td>0</td>\n      <td>0.000251</td>\n      <td>1</td>\n      <td>0</td>\n      <td>0</td>\n    </tr>\n    <tr>\n      <th>999496</th>\n      <td>1.0</td>\n      <td>138.976111</td>\n      <td>23</td>\n      <td>20</td>\n      <td>3</td>\n      <td>2</td>\n      <td>1</td>\n      <td>1</td>\n      <td>1</td>\n      <td>0</td>\n      <td>...</td>\n      <td>0</td>\n      <td>0</td>\n      <td>0</td>\n      <td>0</td>\n      <td>0</td>\n      <td>0</td>\n      <td>0.011700</td>\n      <td>1</td>\n      <td>0</td>\n      <td>0</td>\n    </tr>\n    <tr>\n      <th>999497</th>\n      <td>1.0</td>\n      <td>144.618611</td>\n      <td>377</td>\n      <td>355</td>\n      <td>22</td>\n      <td>6</td>\n      <td>1</td>\n      <td>1</td>\n      <td>1</td>\n      <td>0</td>\n      <td>...</td>\n      <td>0</td>\n      <td>0</td>\n      <td>0</td>\n      <td>0</td>\n      <td>0</td>\n      <td>0</td>\n      <td>0.000027</td>\n      <td>1</td>\n      <td>0</td>\n      <td>0</td>\n    </tr>\n    <tr>\n      <th>999498</th>\n      <td>1.0</td>\n      <td>42.364167</td>\n      <td>7</td>\n      <td>6</td>\n      <td>1</td>\n      <td>6</td>\n      <td>0</td>\n      <td>1</td>\n      <td>0</td>\n      <td>1</td>\n      <td>...</td>\n      <td>0</td>\n      <td>0</td>\n      <td>0</td>\n      <td>0</td>\n      <td>0</td>\n      <td>0</td>\n      <td>0.000037</td>\n      <td>1</td>\n      <td>0</td>\n      <td>0</td>\n    </tr>\n    <tr>\n      <th>999499</th>\n      <td>1.0</td>\n      <td>0.080833</td>\n      <td>14</td>\n      <td>12</td>\n      <td>2</td>\n      <td>3</td>\n      <td>0</td>\n      <td>1</td>\n      <td>0</td>\n      <td>1</td>\n      <td>...</td>\n      <td>0</td>\n      <td>0</td>\n      <td>0</td>\n      <td>0</td>\n      <td>0</td>\n      <td>0</td>\n      <td>0.000126</td>\n      <td>1</td>\n      <td>0</td>\n      <td>0</td>\n    </tr>\n  </tbody>\n</table>\n<p>999500 rows × 24 columns</p>\n</div>"
     },
     "execution_count": 4,
     "metadata": {},
     "output_type": "execute_result"
    }
   ],
   "source": [
    "data_en_test = pd.read_csv(\"data_ready_en_test.csv\")\n",
    "data_en_test"
   ],
   "metadata": {
    "collapsed": false,
    "pycharm": {
     "name": "#%%\n"
    }
   }
  },
  {
   "cell_type": "code",
   "execution_count": 5,
   "outputs": [],
   "source": [
    "from sklearn.preprocessing import MinMaxScaler\n",
    "import numpy as np\n",
    "scaler = MinMaxScaler(copy=True)"
   ],
   "metadata": {
    "collapsed": false,
    "pycharm": {
     "name": "#%%\n"
    }
   }
  },
  {
   "cell_type": "code",
   "execution_count": 6,
   "outputs": [
    {
     "data": {
      "text/plain": "array([[1.14204956e-02, 0.00000000e+00, 0.00000000e+00, ...,\n        1.00000000e+00, 0.00000000e+00, 0.00000000e+00],\n       [5.48108459e-04, 2.22041300e-04, 2.32883093e-04, ...,\n        0.00000000e+00, 0.00000000e+00, 0.00000000e+00],\n       [4.28945941e-01, 2.44245430e-03, 2.25120323e-03, ...,\n        0.00000000e+00, 0.00000000e+00, 0.00000000e+00],\n       ...,\n       [1.05498979e-02, 2.51646806e-03, 2.40645862e-03, ...,\n        0.00000000e+00, 1.00000000e+00, 1.00000000e+00],\n       [4.12297271e-02, 3.10857820e-03, 3.02748020e-03, ...,\n        1.00000000e+00, 0.00000000e+00, 1.00000000e+00],\n       [4.31703467e-02, 2.07238546e-03, 2.17357553e-03, ...,\n        0.00000000e+00, 0.00000000e+00, 1.00000000e+00]])"
     },
     "execution_count": 6,
     "metadata": {},
     "output_type": "execute_result"
    }
   ],
   "source": [
    "data_en_train_undersampled_normalized = scaler.fit_transform(data_en_train_undersampled)\n",
    "data_en_train_undersampled_normalized"
   ],
   "metadata": {
    "collapsed": false,
    "pycharm": {
     "name": "#%%\n"
    }
   }
  },
  {
   "cell_type": "code",
   "execution_count": 9,
   "outputs": [
    {
     "data": {
      "text/plain": "            delta  history_seen  history_correct  history_incorrect  \\\n0        0.011420      0.000000         0.000000           0.000000   \n1        0.000548      0.000222         0.000233           0.000000   \n2        0.428946      0.002442         0.002251           0.001628   \n3        0.000016      0.001924         0.002018           0.000000   \n4        0.005767      0.003997         0.003416           0.004070   \n...           ...           ...              ...                ...   \n1287183  0.005005      0.003775         0.003649           0.001628   \n1287184  0.000051      0.001110         0.001164           0.000000   \n1287185  0.010550      0.002516         0.002406           0.001221   \n1287186  0.041230      0.003109         0.003027           0.001221   \n1287187  0.043170      0.002072         0.002174           0.000000   \n\n         word_length  differs_from_root  verb  noun  preposition  pronoun  \\\n0           0.307692                0.0   0.0   1.0          0.0      0.0   \n1           0.230769                0.0   0.0   1.0          0.0      0.0   \n2           0.076923                0.0   0.0   0.0          1.0      0.0   \n3           0.230769                0.0   0.0   1.0          0.0      0.0   \n4           0.153846                0.0   0.0   0.0          0.0      0.0   \n...              ...                ...   ...   ...          ...      ...   \n1287183     0.230769                0.0   0.0   1.0          0.0      0.0   \n1287184     0.307692                0.0   1.0   0.0          0.0      0.0   \n1287185     0.307692                0.0   0.0   1.0          0.0      0.0   \n1287186     0.076923                1.0   1.0   0.0          0.0      0.0   \n1287187     0.307692                0.0   0.0   1.0          0.0      0.0   \n\n         ...  determiner  interjection  plural  number  phrase  word_freq  \\\n0        ...         0.0           0.0     0.0     0.0     0.0   0.000642   \n1        ...         0.0           0.0     0.0     0.0     0.0   0.001005   \n2        ...         0.0           0.0     0.0     0.0     0.0   0.467401   \n3        ...         0.0           0.0     0.0     0.0     0.0   0.000389   \n4        ...         0.0           0.0     0.0     0.0     0.0   0.478575   \n...      ...         ...           ...     ...     ...     ...        ...   \n1287183  ...         0.0           0.0     0.0     0.0     0.0   0.004450   \n1287184  ...         0.0           0.0     0.0     0.0     0.0   0.001460   \n1287185  ...         0.0           0.0     0.0     0.0     0.0   0.004152   \n1287186  ...         0.0           0.0     0.0     0.0     0.0   0.011210   \n1287187  ...         0.0           0.0     0.0     0.0     0.0   0.006145   \n\n         ui_language_es  ui_language_it  ui_language_pt  passed  \n0                   0.0             1.0             0.0     0.0  \n1                   1.0             0.0             0.0     0.0  \n2                   1.0             0.0             0.0     0.0  \n3                   1.0             0.0             0.0     0.0  \n4                   1.0             0.0             0.0     0.0  \n...                 ...             ...             ...     ...  \n1287183             1.0             0.0             0.0     1.0  \n1287184             0.0             0.0             1.0     1.0  \n1287185             0.0             0.0             1.0     1.0  \n1287186             0.0             1.0             0.0     1.0  \n1287187             1.0             0.0             0.0     1.0  \n\n[1287188 rows x 23 columns]",
      "text/html": "<div>\n<style scoped>\n    .dataframe tbody tr th:only-of-type {\n        vertical-align: middle;\n    }\n\n    .dataframe tbody tr th {\n        vertical-align: top;\n    }\n\n    .dataframe thead th {\n        text-align: right;\n    }\n</style>\n<table border=\"1\" class=\"dataframe\">\n  <thead>\n    <tr style=\"text-align: right;\">\n      <th></th>\n      <th>delta</th>\n      <th>history_seen</th>\n      <th>history_correct</th>\n      <th>history_incorrect</th>\n      <th>word_length</th>\n      <th>differs_from_root</th>\n      <th>verb</th>\n      <th>noun</th>\n      <th>preposition</th>\n      <th>pronoun</th>\n      <th>...</th>\n      <th>determiner</th>\n      <th>interjection</th>\n      <th>plural</th>\n      <th>number</th>\n      <th>phrase</th>\n      <th>word_freq</th>\n      <th>ui_language_es</th>\n      <th>ui_language_it</th>\n      <th>ui_language_pt</th>\n      <th>passed</th>\n    </tr>\n  </thead>\n  <tbody>\n    <tr>\n      <th>0</th>\n      <td>0.011420</td>\n      <td>0.000000</td>\n      <td>0.000000</td>\n      <td>0.000000</td>\n      <td>0.307692</td>\n      <td>0.0</td>\n      <td>0.0</td>\n      <td>1.0</td>\n      <td>0.0</td>\n      <td>0.0</td>\n      <td>...</td>\n      <td>0.0</td>\n      <td>0.0</td>\n      <td>0.0</td>\n      <td>0.0</td>\n      <td>0.0</td>\n      <td>0.000642</td>\n      <td>0.0</td>\n      <td>1.0</td>\n      <td>0.0</td>\n      <td>0.0</td>\n    </tr>\n    <tr>\n      <th>1</th>\n      <td>0.000548</td>\n      <td>0.000222</td>\n      <td>0.000233</td>\n      <td>0.000000</td>\n      <td>0.230769</td>\n      <td>0.0</td>\n      <td>0.0</td>\n      <td>1.0</td>\n      <td>0.0</td>\n      <td>0.0</td>\n      <td>...</td>\n      <td>0.0</td>\n      <td>0.0</td>\n      <td>0.0</td>\n      <td>0.0</td>\n      <td>0.0</td>\n      <td>0.001005</td>\n      <td>1.0</td>\n      <td>0.0</td>\n      <td>0.0</td>\n      <td>0.0</td>\n    </tr>\n    <tr>\n      <th>2</th>\n      <td>0.428946</td>\n      <td>0.002442</td>\n      <td>0.002251</td>\n      <td>0.001628</td>\n      <td>0.076923</td>\n      <td>0.0</td>\n      <td>0.0</td>\n      <td>0.0</td>\n      <td>1.0</td>\n      <td>0.0</td>\n      <td>...</td>\n      <td>0.0</td>\n      <td>0.0</td>\n      <td>0.0</td>\n      <td>0.0</td>\n      <td>0.0</td>\n      <td>0.467401</td>\n      <td>1.0</td>\n      <td>0.0</td>\n      <td>0.0</td>\n      <td>0.0</td>\n    </tr>\n    <tr>\n      <th>3</th>\n      <td>0.000016</td>\n      <td>0.001924</td>\n      <td>0.002018</td>\n      <td>0.000000</td>\n      <td>0.230769</td>\n      <td>0.0</td>\n      <td>0.0</td>\n      <td>1.0</td>\n      <td>0.0</td>\n      <td>0.0</td>\n      <td>...</td>\n      <td>0.0</td>\n      <td>0.0</td>\n      <td>0.0</td>\n      <td>0.0</td>\n      <td>0.0</td>\n      <td>0.000389</td>\n      <td>1.0</td>\n      <td>0.0</td>\n      <td>0.0</td>\n      <td>0.0</td>\n    </tr>\n    <tr>\n      <th>4</th>\n      <td>0.005767</td>\n      <td>0.003997</td>\n      <td>0.003416</td>\n      <td>0.004070</td>\n      <td>0.153846</td>\n      <td>0.0</td>\n      <td>0.0</td>\n      <td>0.0</td>\n      <td>0.0</td>\n      <td>0.0</td>\n      <td>...</td>\n      <td>0.0</td>\n      <td>0.0</td>\n      <td>0.0</td>\n      <td>0.0</td>\n      <td>0.0</td>\n      <td>0.478575</td>\n      <td>1.0</td>\n      <td>0.0</td>\n      <td>0.0</td>\n      <td>0.0</td>\n    </tr>\n    <tr>\n      <th>...</th>\n      <td>...</td>\n      <td>...</td>\n      <td>...</td>\n      <td>...</td>\n      <td>...</td>\n      <td>...</td>\n      <td>...</td>\n      <td>...</td>\n      <td>...</td>\n      <td>...</td>\n      <td>...</td>\n      <td>...</td>\n      <td>...</td>\n      <td>...</td>\n      <td>...</td>\n      <td>...</td>\n      <td>...</td>\n      <td>...</td>\n      <td>...</td>\n      <td>...</td>\n      <td>...</td>\n    </tr>\n    <tr>\n      <th>1287183</th>\n      <td>0.005005</td>\n      <td>0.003775</td>\n      <td>0.003649</td>\n      <td>0.001628</td>\n      <td>0.230769</td>\n      <td>0.0</td>\n      <td>0.0</td>\n      <td>1.0</td>\n      <td>0.0</td>\n      <td>0.0</td>\n      <td>...</td>\n      <td>0.0</td>\n      <td>0.0</td>\n      <td>0.0</td>\n      <td>0.0</td>\n      <td>0.0</td>\n      <td>0.004450</td>\n      <td>1.0</td>\n      <td>0.0</td>\n      <td>0.0</td>\n      <td>1.0</td>\n    </tr>\n    <tr>\n      <th>1287184</th>\n      <td>0.000051</td>\n      <td>0.001110</td>\n      <td>0.001164</td>\n      <td>0.000000</td>\n      <td>0.307692</td>\n      <td>0.0</td>\n      <td>1.0</td>\n      <td>0.0</td>\n      <td>0.0</td>\n      <td>0.0</td>\n      <td>...</td>\n      <td>0.0</td>\n      <td>0.0</td>\n      <td>0.0</td>\n      <td>0.0</td>\n      <td>0.0</td>\n      <td>0.001460</td>\n      <td>0.0</td>\n      <td>0.0</td>\n      <td>1.0</td>\n      <td>1.0</td>\n    </tr>\n    <tr>\n      <th>1287185</th>\n      <td>0.010550</td>\n      <td>0.002516</td>\n      <td>0.002406</td>\n      <td>0.001221</td>\n      <td>0.307692</td>\n      <td>0.0</td>\n      <td>0.0</td>\n      <td>1.0</td>\n      <td>0.0</td>\n      <td>0.0</td>\n      <td>...</td>\n      <td>0.0</td>\n      <td>0.0</td>\n      <td>0.0</td>\n      <td>0.0</td>\n      <td>0.0</td>\n      <td>0.004152</td>\n      <td>0.0</td>\n      <td>0.0</td>\n      <td>1.0</td>\n      <td>1.0</td>\n    </tr>\n    <tr>\n      <th>1287186</th>\n      <td>0.041230</td>\n      <td>0.003109</td>\n      <td>0.003027</td>\n      <td>0.001221</td>\n      <td>0.076923</td>\n      <td>1.0</td>\n      <td>1.0</td>\n      <td>0.0</td>\n      <td>0.0</td>\n      <td>0.0</td>\n      <td>...</td>\n      <td>0.0</td>\n      <td>0.0</td>\n      <td>0.0</td>\n      <td>0.0</td>\n      <td>0.0</td>\n      <td>0.011210</td>\n      <td>0.0</td>\n      <td>1.0</td>\n      <td>0.0</td>\n      <td>1.0</td>\n    </tr>\n    <tr>\n      <th>1287187</th>\n      <td>0.043170</td>\n      <td>0.002072</td>\n      <td>0.002174</td>\n      <td>0.000000</td>\n      <td>0.307692</td>\n      <td>0.0</td>\n      <td>0.0</td>\n      <td>1.0</td>\n      <td>0.0</td>\n      <td>0.0</td>\n      <td>...</td>\n      <td>0.0</td>\n      <td>0.0</td>\n      <td>0.0</td>\n      <td>0.0</td>\n      <td>0.0</td>\n      <td>0.006145</td>\n      <td>1.0</td>\n      <td>0.0</td>\n      <td>0.0</td>\n      <td>1.0</td>\n    </tr>\n  </tbody>\n</table>\n<p>1287188 rows × 23 columns</p>\n</div>"
     },
     "execution_count": 9,
     "metadata": {},
     "output_type": "execute_result"
    }
   ],
   "source": [
    "data_en_train_undersampled_normalized = pd.DataFrame(data_en_train_undersampled_normalized,columns=data_en_train_undersampled.columns)\n",
    "data_en_train_undersampled_normalized"
   ],
   "metadata": {
    "collapsed": false,
    "pycharm": {
     "name": "#%%\n"
    }
   }
  },
  {
   "cell_type": "code",
   "execution_count": 11,
   "outputs": [],
   "source": [
    "data_en_train_undersampled_normalized.to_csv(\"data_ready_en_normalized_undersampled_train.csv\",index=False)\n"
   ],
   "metadata": {
    "collapsed": false,
    "pycharm": {
     "name": "#%%\n"
    }
   }
  },
  {
   "cell_type": "code",
   "execution_count": 22,
   "outputs": [
    {
     "data": {
      "text/plain": "         p_recall     delta  history_seen  history_correct  session_seen  \\\n2313520       1.0  0.000889      0.001110         0.000931      0.000000   \n3222322       1.0  0.000007      0.010135         0.009700      0.105263   \n1074666       1.0  0.003718      0.000074         0.000078      0.052632   \n4820034       1.0  0.004435      0.001480         0.001086      0.000000   \n4904213       1.0  0.000005      0.000296         0.000310      0.052632   \n...           ...       ...           ...              ...           ...   \n580730        1.0  0.000006      0.000370         0.000310      0.000000   \n704721        1.0  0.000026      0.000444         0.000466      0.000000   \n100968        1.0  0.000009      0.000592         0.000466      0.000000   \n3677723       1.0  0.006317      0.000814         0.000776      0.000000   \n3353605       1.0  0.022550      0.000074         0.000000      0.052632   \n\n         history_incorrect  word_length  differs_from_root  passed  verb  ...  \\\n2313520           0.001221     0.230769                0.0     1.0   1.0  ...   \n3222322           0.004884     0.307692                0.0     1.0   0.0  ...   \n1074666           0.000000     0.230769                0.0     1.0   1.0  ...   \n4820034           0.002442     0.153846                0.0     1.0   0.0  ...   \n4904213           0.000000     0.615385                1.0     1.0   0.0  ...   \n...                    ...          ...                ...     ...   ...  ...   \n580730            0.000407     0.307692                1.0     1.0   1.0  ...   \n704721            0.000000     0.615385                0.0     1.0   0.0  ...   \n100968            0.000814     0.307692                0.0     1.0   0.0  ...   \n3677723           0.000407     0.000000                0.0     1.0   0.0  ...   \n3353605           0.000407     0.230769                0.0     1.0   1.0  ...   \n\n         conjunction  determiner  interjection  plural  number  phrase  \\\n2313520          0.0         0.0           0.0     0.0     0.0     0.0   \n3222322          0.0         0.0           0.0     0.0     0.0     0.0   \n1074666          0.0         0.0           0.0     0.0     0.0     0.0   \n4820034          0.0         0.0           0.0     0.0     1.0     0.0   \n4904213          0.0         0.0           0.0     1.0     0.0     0.0   \n...              ...         ...           ...     ...     ...     ...   \n580730           0.0         0.0           0.0     0.0     0.0     0.0   \n704721           0.0         0.0           0.0     0.0     0.0     0.0   \n100968           0.0         0.0           0.0     0.0     0.0     0.0   \n3677723          0.0         1.0           0.0     0.0     0.0     0.0   \n3353605          0.0         0.0           0.0     0.0     0.0     0.0   \n\n         word_freq  ui_language_es  ui_language_it  ui_language_pt  \n2313520   0.095514             1.0             0.0             0.0  \n3222322   0.003705             1.0             0.0             0.0  \n1074666   0.047840             1.0             0.0             0.0  \n4820034   0.003612             1.0             0.0             0.0  \n4904213   0.000101             0.0             1.0             0.0  \n...            ...             ...             ...             ...  \n580730    0.002793             1.0             0.0             0.0  \n704721    0.000739             1.0             0.0             0.0  \n100968    0.000832             1.0             0.0             0.0  \n3677723   0.426432             0.0             1.0             0.0  \n3353605   0.006443             1.0             0.0             0.0  \n\n[999500 rows x 25 columns]",
      "text/html": "<div>\n<style scoped>\n    .dataframe tbody tr th:only-of-type {\n        vertical-align: middle;\n    }\n\n    .dataframe tbody tr th {\n        vertical-align: top;\n    }\n\n    .dataframe thead th {\n        text-align: right;\n    }\n</style>\n<table border=\"1\" class=\"dataframe\">\n  <thead>\n    <tr style=\"text-align: right;\">\n      <th></th>\n      <th>p_recall</th>\n      <th>delta</th>\n      <th>history_seen</th>\n      <th>history_correct</th>\n      <th>session_seen</th>\n      <th>history_incorrect</th>\n      <th>word_length</th>\n      <th>differs_from_root</th>\n      <th>passed</th>\n      <th>verb</th>\n      <th>...</th>\n      <th>conjunction</th>\n      <th>determiner</th>\n      <th>interjection</th>\n      <th>plural</th>\n      <th>number</th>\n      <th>phrase</th>\n      <th>word_freq</th>\n      <th>ui_language_es</th>\n      <th>ui_language_it</th>\n      <th>ui_language_pt</th>\n    </tr>\n  </thead>\n  <tbody>\n    <tr>\n      <th>2313520</th>\n      <td>1.0</td>\n      <td>0.000889</td>\n      <td>0.001110</td>\n      <td>0.000931</td>\n      <td>0.000000</td>\n      <td>0.001221</td>\n      <td>0.230769</td>\n      <td>0.0</td>\n      <td>1.0</td>\n      <td>1.0</td>\n      <td>...</td>\n      <td>0.0</td>\n      <td>0.0</td>\n      <td>0.0</td>\n      <td>0.0</td>\n      <td>0.0</td>\n      <td>0.0</td>\n      <td>0.095514</td>\n      <td>1.0</td>\n      <td>0.0</td>\n      <td>0.0</td>\n    </tr>\n    <tr>\n      <th>3222322</th>\n      <td>1.0</td>\n      <td>0.000007</td>\n      <td>0.010135</td>\n      <td>0.009700</td>\n      <td>0.105263</td>\n      <td>0.004884</td>\n      <td>0.307692</td>\n      <td>0.0</td>\n      <td>1.0</td>\n      <td>0.0</td>\n      <td>...</td>\n      <td>0.0</td>\n      <td>0.0</td>\n      <td>0.0</td>\n      <td>0.0</td>\n      <td>0.0</td>\n      <td>0.0</td>\n      <td>0.003705</td>\n      <td>1.0</td>\n      <td>0.0</td>\n      <td>0.0</td>\n    </tr>\n    <tr>\n      <th>1074666</th>\n      <td>1.0</td>\n      <td>0.003718</td>\n      <td>0.000074</td>\n      <td>0.000078</td>\n      <td>0.052632</td>\n      <td>0.000000</td>\n      <td>0.230769</td>\n      <td>0.0</td>\n      <td>1.0</td>\n      <td>1.0</td>\n      <td>...</td>\n      <td>0.0</td>\n      <td>0.0</td>\n      <td>0.0</td>\n      <td>0.0</td>\n      <td>0.0</td>\n      <td>0.0</td>\n      <td>0.047840</td>\n      <td>1.0</td>\n      <td>0.0</td>\n      <td>0.0</td>\n    </tr>\n    <tr>\n      <th>4820034</th>\n      <td>1.0</td>\n      <td>0.004435</td>\n      <td>0.001480</td>\n      <td>0.001086</td>\n      <td>0.000000</td>\n      <td>0.002442</td>\n      <td>0.153846</td>\n      <td>0.0</td>\n      <td>1.0</td>\n      <td>0.0</td>\n      <td>...</td>\n      <td>0.0</td>\n      <td>0.0</td>\n      <td>0.0</td>\n      <td>0.0</td>\n      <td>1.0</td>\n      <td>0.0</td>\n      <td>0.003612</td>\n      <td>1.0</td>\n      <td>0.0</td>\n      <td>0.0</td>\n    </tr>\n    <tr>\n      <th>4904213</th>\n      <td>1.0</td>\n      <td>0.000005</td>\n      <td>0.000296</td>\n      <td>0.000310</td>\n      <td>0.052632</td>\n      <td>0.000000</td>\n      <td>0.615385</td>\n      <td>1.0</td>\n      <td>1.0</td>\n      <td>0.0</td>\n      <td>...</td>\n      <td>0.0</td>\n      <td>0.0</td>\n      <td>0.0</td>\n      <td>1.0</td>\n      <td>0.0</td>\n      <td>0.0</td>\n      <td>0.000101</td>\n      <td>0.0</td>\n      <td>1.0</td>\n      <td>0.0</td>\n    </tr>\n    <tr>\n      <th>...</th>\n      <td>...</td>\n      <td>...</td>\n      <td>...</td>\n      <td>...</td>\n      <td>...</td>\n      <td>...</td>\n      <td>...</td>\n      <td>...</td>\n      <td>...</td>\n      <td>...</td>\n      <td>...</td>\n      <td>...</td>\n      <td>...</td>\n      <td>...</td>\n      <td>...</td>\n      <td>...</td>\n      <td>...</td>\n      <td>...</td>\n      <td>...</td>\n      <td>...</td>\n      <td>...</td>\n    </tr>\n    <tr>\n      <th>580730</th>\n      <td>1.0</td>\n      <td>0.000006</td>\n      <td>0.000370</td>\n      <td>0.000310</td>\n      <td>0.000000</td>\n      <td>0.000407</td>\n      <td>0.307692</td>\n      <td>1.0</td>\n      <td>1.0</td>\n      <td>1.0</td>\n      <td>...</td>\n      <td>0.0</td>\n      <td>0.0</td>\n      <td>0.0</td>\n      <td>0.0</td>\n      <td>0.0</td>\n      <td>0.0</td>\n      <td>0.002793</td>\n      <td>1.0</td>\n      <td>0.0</td>\n      <td>0.0</td>\n    </tr>\n    <tr>\n      <th>704721</th>\n      <td>1.0</td>\n      <td>0.000026</td>\n      <td>0.000444</td>\n      <td>0.000466</td>\n      <td>0.000000</td>\n      <td>0.000000</td>\n      <td>0.615385</td>\n      <td>0.0</td>\n      <td>1.0</td>\n      <td>0.0</td>\n      <td>...</td>\n      <td>0.0</td>\n      <td>0.0</td>\n      <td>0.0</td>\n      <td>0.0</td>\n      <td>0.0</td>\n      <td>0.0</td>\n      <td>0.000739</td>\n      <td>1.0</td>\n      <td>0.0</td>\n      <td>0.0</td>\n    </tr>\n    <tr>\n      <th>100968</th>\n      <td>1.0</td>\n      <td>0.000009</td>\n      <td>0.000592</td>\n      <td>0.000466</td>\n      <td>0.000000</td>\n      <td>0.000814</td>\n      <td>0.307692</td>\n      <td>0.0</td>\n      <td>1.0</td>\n      <td>0.0</td>\n      <td>...</td>\n      <td>0.0</td>\n      <td>0.0</td>\n      <td>0.0</td>\n      <td>0.0</td>\n      <td>0.0</td>\n      <td>0.0</td>\n      <td>0.000832</td>\n      <td>1.0</td>\n      <td>0.0</td>\n      <td>0.0</td>\n    </tr>\n    <tr>\n      <th>3677723</th>\n      <td>1.0</td>\n      <td>0.006317</td>\n      <td>0.000814</td>\n      <td>0.000776</td>\n      <td>0.000000</td>\n      <td>0.000407</td>\n      <td>0.000000</td>\n      <td>0.0</td>\n      <td>1.0</td>\n      <td>0.0</td>\n      <td>...</td>\n      <td>0.0</td>\n      <td>1.0</td>\n      <td>0.0</td>\n      <td>0.0</td>\n      <td>0.0</td>\n      <td>0.0</td>\n      <td>0.426432</td>\n      <td>0.0</td>\n      <td>1.0</td>\n      <td>0.0</td>\n    </tr>\n    <tr>\n      <th>3353605</th>\n      <td>1.0</td>\n      <td>0.022550</td>\n      <td>0.000074</td>\n      <td>0.000000</td>\n      <td>0.052632</td>\n      <td>0.000407</td>\n      <td>0.230769</td>\n      <td>0.0</td>\n      <td>1.0</td>\n      <td>1.0</td>\n      <td>...</td>\n      <td>0.0</td>\n      <td>0.0</td>\n      <td>0.0</td>\n      <td>0.0</td>\n      <td>0.0</td>\n      <td>0.0</td>\n      <td>0.006443</td>\n      <td>1.0</td>\n      <td>0.0</td>\n      <td>0.0</td>\n    </tr>\n  </tbody>\n</table>\n<p>999500 rows × 25 columns</p>\n</div>"
     },
     "execution_count": 22,
     "metadata": {},
     "output_type": "execute_result"
    }
   ],
   "source": [
    "data_en_normalized_test"
   ],
   "metadata": {
    "collapsed": false,
    "pycharm": {
     "name": "#%%\n"
    }
   }
  },
  {
   "cell_type": "code",
   "execution_count": 95,
   "outputs": [
    {
     "data": {
      "text/plain": "         p_recall     delta  history_seen  history_correct  session_seen  \\\n2313520       1.0  0.000889      0.001110         0.000931      0.000000   \n3222322       1.0  0.000007      0.010135         0.009700      0.105263   \n1074666       1.0  0.003718      0.000074         0.000078      0.052632   \n4820034       1.0  0.004435      0.001480         0.001086      0.000000   \n4904213       1.0  0.000005      0.000296         0.000310      0.052632   \n...           ...       ...           ...              ...           ...   \n580730        1.0  0.000006      0.000370         0.000310      0.000000   \n704721        1.0  0.000026      0.000444         0.000466      0.000000   \n100968        1.0  0.000009      0.000592         0.000466      0.000000   \n3677723       1.0  0.006317      0.000814         0.000776      0.000000   \n3353605       1.0  0.022550      0.000074         0.000000      0.052632   \n\n         history_incorrect  word_length  differs_from_root  verb  noun  ...  \\\n2313520           0.001221     0.230769                0.0   1.0   0.0  ...   \n3222322           0.004884     0.307692                0.0   0.0   1.0  ...   \n1074666           0.000000     0.230769                0.0   1.0   0.0  ...   \n4820034           0.002442     0.153846                0.0   0.0   0.0  ...   \n4904213           0.000000     0.615385                1.0   0.0   1.0  ...   \n...                    ...          ...                ...   ...   ...  ...   \n580730            0.000407     0.307692                1.0   1.0   0.0  ...   \n704721            0.000000     0.615385                0.0   0.0   1.0  ...   \n100968            0.000814     0.307692                0.0   0.0   1.0  ...   \n3677723           0.000407     0.000000                0.0   0.0   0.0  ...   \n3353605           0.000407     0.230769                0.0   1.0   0.0  ...   \n\n         conjunction  determiner  interjection  plural  number  phrase  \\\n2313520          0.0         0.0           0.0     0.0     0.0     0.0   \n3222322          0.0         0.0           0.0     0.0     0.0     0.0   \n1074666          0.0         0.0           0.0     0.0     0.0     0.0   \n4820034          0.0         0.0           0.0     0.0     1.0     0.0   \n4904213          0.0         0.0           0.0     1.0     0.0     0.0   \n...              ...         ...           ...     ...     ...     ...   \n580730           0.0         0.0           0.0     0.0     0.0     0.0   \n704721           0.0         0.0           0.0     0.0     0.0     0.0   \n100968           0.0         0.0           0.0     0.0     0.0     0.0   \n3677723          0.0         1.0           0.0     0.0     0.0     0.0   \n3353605          0.0         0.0           0.0     0.0     0.0     0.0   \n\n         word_freq  ui_language_es  ui_language_it  ui_language_pt  \n2313520   0.095514             1.0             0.0             0.0  \n3222322   0.003705             1.0             0.0             0.0  \n1074666   0.047840             1.0             0.0             0.0  \n4820034   0.003612             1.0             0.0             0.0  \n4904213   0.000101             0.0             1.0             0.0  \n...            ...             ...             ...             ...  \n580730    0.002793             1.0             0.0             0.0  \n704721    0.000739             1.0             0.0             0.0  \n100968    0.000832             1.0             0.0             0.0  \n3677723   0.426432             0.0             1.0             0.0  \n3353605   0.006443             1.0             0.0             0.0  \n\n[999500 rows x 24 columns]",
      "text/html": "<div>\n<style scoped>\n    .dataframe tbody tr th:only-of-type {\n        vertical-align: middle;\n    }\n\n    .dataframe tbody tr th {\n        vertical-align: top;\n    }\n\n    .dataframe thead th {\n        text-align: right;\n    }\n</style>\n<table border=\"1\" class=\"dataframe\">\n  <thead>\n    <tr style=\"text-align: right;\">\n      <th></th>\n      <th>p_recall</th>\n      <th>delta</th>\n      <th>history_seen</th>\n      <th>history_correct</th>\n      <th>session_seen</th>\n      <th>history_incorrect</th>\n      <th>word_length</th>\n      <th>differs_from_root</th>\n      <th>verb</th>\n      <th>noun</th>\n      <th>...</th>\n      <th>conjunction</th>\n      <th>determiner</th>\n      <th>interjection</th>\n      <th>plural</th>\n      <th>number</th>\n      <th>phrase</th>\n      <th>word_freq</th>\n      <th>ui_language_es</th>\n      <th>ui_language_it</th>\n      <th>ui_language_pt</th>\n    </tr>\n  </thead>\n  <tbody>\n    <tr>\n      <th>2313520</th>\n      <td>1.0</td>\n      <td>0.000889</td>\n      <td>0.001110</td>\n      <td>0.000931</td>\n      <td>0.000000</td>\n      <td>0.001221</td>\n      <td>0.230769</td>\n      <td>0.0</td>\n      <td>1.0</td>\n      <td>0.0</td>\n      <td>...</td>\n      <td>0.0</td>\n      <td>0.0</td>\n      <td>0.0</td>\n      <td>0.0</td>\n      <td>0.0</td>\n      <td>0.0</td>\n      <td>0.095514</td>\n      <td>1.0</td>\n      <td>0.0</td>\n      <td>0.0</td>\n    </tr>\n    <tr>\n      <th>3222322</th>\n      <td>1.0</td>\n      <td>0.000007</td>\n      <td>0.010135</td>\n      <td>0.009700</td>\n      <td>0.105263</td>\n      <td>0.004884</td>\n      <td>0.307692</td>\n      <td>0.0</td>\n      <td>0.0</td>\n      <td>1.0</td>\n      <td>...</td>\n      <td>0.0</td>\n      <td>0.0</td>\n      <td>0.0</td>\n      <td>0.0</td>\n      <td>0.0</td>\n      <td>0.0</td>\n      <td>0.003705</td>\n      <td>1.0</td>\n      <td>0.0</td>\n      <td>0.0</td>\n    </tr>\n    <tr>\n      <th>1074666</th>\n      <td>1.0</td>\n      <td>0.003718</td>\n      <td>0.000074</td>\n      <td>0.000078</td>\n      <td>0.052632</td>\n      <td>0.000000</td>\n      <td>0.230769</td>\n      <td>0.0</td>\n      <td>1.0</td>\n      <td>0.0</td>\n      <td>...</td>\n      <td>0.0</td>\n      <td>0.0</td>\n      <td>0.0</td>\n      <td>0.0</td>\n      <td>0.0</td>\n      <td>0.0</td>\n      <td>0.047840</td>\n      <td>1.0</td>\n      <td>0.0</td>\n      <td>0.0</td>\n    </tr>\n    <tr>\n      <th>4820034</th>\n      <td>1.0</td>\n      <td>0.004435</td>\n      <td>0.001480</td>\n      <td>0.001086</td>\n      <td>0.000000</td>\n      <td>0.002442</td>\n      <td>0.153846</td>\n      <td>0.0</td>\n      <td>0.0</td>\n      <td>0.0</td>\n      <td>...</td>\n      <td>0.0</td>\n      <td>0.0</td>\n      <td>0.0</td>\n      <td>0.0</td>\n      <td>1.0</td>\n      <td>0.0</td>\n      <td>0.003612</td>\n      <td>1.0</td>\n      <td>0.0</td>\n      <td>0.0</td>\n    </tr>\n    <tr>\n      <th>4904213</th>\n      <td>1.0</td>\n      <td>0.000005</td>\n      <td>0.000296</td>\n      <td>0.000310</td>\n      <td>0.052632</td>\n      <td>0.000000</td>\n      <td>0.615385</td>\n      <td>1.0</td>\n      <td>0.0</td>\n      <td>1.0</td>\n      <td>...</td>\n      <td>0.0</td>\n      <td>0.0</td>\n      <td>0.0</td>\n      <td>1.0</td>\n      <td>0.0</td>\n      <td>0.0</td>\n      <td>0.000101</td>\n      <td>0.0</td>\n      <td>1.0</td>\n      <td>0.0</td>\n    </tr>\n    <tr>\n      <th>...</th>\n      <td>...</td>\n      <td>...</td>\n      <td>...</td>\n      <td>...</td>\n      <td>...</td>\n      <td>...</td>\n      <td>...</td>\n      <td>...</td>\n      <td>...</td>\n      <td>...</td>\n      <td>...</td>\n      <td>...</td>\n      <td>...</td>\n      <td>...</td>\n      <td>...</td>\n      <td>...</td>\n      <td>...</td>\n      <td>...</td>\n      <td>...</td>\n      <td>...</td>\n      <td>...</td>\n    </tr>\n    <tr>\n      <th>580730</th>\n      <td>1.0</td>\n      <td>0.000006</td>\n      <td>0.000370</td>\n      <td>0.000310</td>\n      <td>0.000000</td>\n      <td>0.000407</td>\n      <td>0.307692</td>\n      <td>1.0</td>\n      <td>1.0</td>\n      <td>0.0</td>\n      <td>...</td>\n      <td>0.0</td>\n      <td>0.0</td>\n      <td>0.0</td>\n      <td>0.0</td>\n      <td>0.0</td>\n      <td>0.0</td>\n      <td>0.002793</td>\n      <td>1.0</td>\n      <td>0.0</td>\n      <td>0.0</td>\n    </tr>\n    <tr>\n      <th>704721</th>\n      <td>1.0</td>\n      <td>0.000026</td>\n      <td>0.000444</td>\n      <td>0.000466</td>\n      <td>0.000000</td>\n      <td>0.000000</td>\n      <td>0.615385</td>\n      <td>0.0</td>\n      <td>0.0</td>\n      <td>1.0</td>\n      <td>...</td>\n      <td>0.0</td>\n      <td>0.0</td>\n      <td>0.0</td>\n      <td>0.0</td>\n      <td>0.0</td>\n      <td>0.0</td>\n      <td>0.000739</td>\n      <td>1.0</td>\n      <td>0.0</td>\n      <td>0.0</td>\n    </tr>\n    <tr>\n      <th>100968</th>\n      <td>1.0</td>\n      <td>0.000009</td>\n      <td>0.000592</td>\n      <td>0.000466</td>\n      <td>0.000000</td>\n      <td>0.000814</td>\n      <td>0.307692</td>\n      <td>0.0</td>\n      <td>0.0</td>\n      <td>1.0</td>\n      <td>...</td>\n      <td>0.0</td>\n      <td>0.0</td>\n      <td>0.0</td>\n      <td>0.0</td>\n      <td>0.0</td>\n      <td>0.0</td>\n      <td>0.000832</td>\n      <td>1.0</td>\n      <td>0.0</td>\n      <td>0.0</td>\n    </tr>\n    <tr>\n      <th>3677723</th>\n      <td>1.0</td>\n      <td>0.006317</td>\n      <td>0.000814</td>\n      <td>0.000776</td>\n      <td>0.000000</td>\n      <td>0.000407</td>\n      <td>0.000000</td>\n      <td>0.0</td>\n      <td>0.0</td>\n      <td>0.0</td>\n      <td>...</td>\n      <td>0.0</td>\n      <td>1.0</td>\n      <td>0.0</td>\n      <td>0.0</td>\n      <td>0.0</td>\n      <td>0.0</td>\n      <td>0.426432</td>\n      <td>0.0</td>\n      <td>1.0</td>\n      <td>0.0</td>\n    </tr>\n    <tr>\n      <th>3353605</th>\n      <td>1.0</td>\n      <td>0.022550</td>\n      <td>0.000074</td>\n      <td>0.000000</td>\n      <td>0.052632</td>\n      <td>0.000407</td>\n      <td>0.230769</td>\n      <td>0.0</td>\n      <td>1.0</td>\n      <td>0.0</td>\n      <td>...</td>\n      <td>0.0</td>\n      <td>0.0</td>\n      <td>0.0</td>\n      <td>0.0</td>\n      <td>0.0</td>\n      <td>0.0</td>\n      <td>0.006443</td>\n      <td>1.0</td>\n      <td>0.0</td>\n      <td>0.0</td>\n    </tr>\n  </tbody>\n</table>\n<p>999500 rows × 24 columns</p>\n</div>"
     },
     "execution_count": 95,
     "metadata": {},
     "output_type": "execute_result"
    }
   ],
   "source": [
    "del data_en_normalized_test[\"passed\"]\n",
    "data_en_normalized_test"
   ],
   "metadata": {
    "collapsed": false,
    "pycharm": {
     "name": "#%%\n"
    }
   }
  },
  {
   "cell_type": "code",
   "execution_count": 84,
   "outputs": [
    {
     "name": "stdout",
     "output_type": "stream",
     "text": [
      "1.000000    838935\n",
      "0.000000     67169\n",
      "0.500000     37095\n",
      "0.666667     22833\n",
      "0.750000     13112\n",
      "0.800000      6820\n",
      "0.833333      3146\n",
      "0.333333      2112\n",
      "0.857143      1684\n",
      "0.600000      1462\n",
      "0.875000      1141\n",
      "0.888889       623\n",
      "0.714286       600\n",
      "0.900000       455\n",
      "0.777778       270\n",
      "0.909091       237\n",
      "0.937500       150\n",
      "0.818182       137\n",
      "0.928571       134\n",
      "0.250000       134\n",
      "0.400000       131\n",
      "0.916667       130\n",
      "0.923077       110\n",
      "0.625000       104\n",
      "0.571429        96\n",
      "0.812500        86\n",
      "0.846154        79\n",
      "0.933333        76\n",
      "0.785714        71\n",
      "0.700000        62\n",
      "0.727273        54\n",
      "0.866667        52\n",
      "0.769231        45\n",
      "0.947368        16\n",
      "0.200000        14\n",
      "0.692308        13\n",
      "0.733333        13\n",
      "0.894737        13\n",
      "0.428571        13\n",
      "0.842105        10\n",
      "0.882353         9\n",
      "0.636364         9\n",
      "0.941176         8\n",
      "0.764706         7\n",
      "0.823529         7\n",
      "0.555556         4\n",
      "0.789474         4\n",
      "0.615385         2\n",
      "0.583333         2\n",
      "0.944444         2\n",
      "0.950000         1\n",
      "0.375000         1\n",
      "0.300000         1\n",
      "0.444444         1\n",
      "0.272727         1\n",
      "0.111111         1\n",
      "0.142857         1\n",
      "0.538462         1\n",
      "0.166667         1\n",
      "Name: p_recall, dtype: int64\n"
     ]
    }
   ],
   "source": [
    "print(pd.value_counts(data_en_normalized_test[\"p_recall\"]))"
   ],
   "metadata": {
    "collapsed": false,
    "pycharm": {
     "name": "#%%\n"
    }
   }
  },
  {
   "cell_type": "code",
   "execution_count": 85,
   "outputs": [
    {
     "name": "stdout",
     "output_type": "stream",
     "text": [
      "1.000000    3354072\n",
      "0.000000     270650\n",
      "0.500000     148138\n",
      "0.666667      91658\n",
      "0.750000      52125\n",
      "             ...   \n",
      "0.214286          1\n",
      "0.684211          1\n",
      "0.100000          1\n",
      "0.466667          1\n",
      "0.538462          1\n",
      "Name: p_recall, Length: 71, dtype: int64\n"
     ]
    }
   ],
   "source": [
    "print(pd.value_counts(data_en_normalized_train[\"p_recall\"]))\n"
   ],
   "metadata": {
    "collapsed": false,
    "pycharm": {
     "name": "#%%\n"
    }
   }
  },
  {
   "cell_type": "code",
   "execution_count": 86,
   "outputs": [
    {
     "data": {
      "text/plain": "         p_recall     delta  history_seen  history_correct  session_seen  \\\n2854018       1.0  0.000013      0.000370         0.000233      0.000000   \n30776         1.0  0.024899      0.000222         0.000155      0.105263   \n98489         1.0  0.227572      0.000074         0.000078      0.052632   \n2602557       1.0  0.000004      0.000000         0.000000      0.000000   \n4954945       1.0  0.001956      0.027521         0.026306      0.578947   \n...           ...       ...           ...              ...           ...   \n1570006       1.0  0.000016      0.000296         0.000310      0.052632   \n2234489       1.0  0.012625      0.000296         0.000233      0.000000   \n4926484       1.0  0.000017      0.000296         0.000310      0.000000   \n4304572       1.0  0.007705      0.000370         0.000388      0.000000   \n1692743       1.0  0.000007      0.000444         0.000466      0.105263   \n\n         history_incorrect  word_length  differs_from_root  verb  noun  ...  \\\n2854018           0.000814     0.230769                0.0   1.0   0.0  ...   \n30776             0.000407     0.153846                0.0   0.0   0.0  ...   \n98489             0.000000     0.230769                1.0   0.0   1.0  ...   \n2602557           0.000000     0.307692                1.0   0.0   1.0  ...   \n4954945           0.013431     0.076923                1.0   1.0   0.0  ...   \n...                    ...          ...                ...   ...   ...  ...   \n1570006           0.000000     0.307692                0.0   0.0   0.0  ...   \n2234489           0.000407     0.076923                1.0   0.0   0.0  ...   \n4926484           0.000000     0.461538                0.0   0.0   1.0  ...   \n4304572           0.000000     0.307692                0.0   0.0   1.0  ...   \n1692743           0.000000     0.153846                0.0   0.0   1.0  ...   \n\n         conjunction  determiner  interjection  plural  number  phrase  \\\n2854018          0.0         0.0           0.0     0.0     0.0     0.0   \n30776            0.0         0.0           0.0     0.0     0.0     0.0   \n98489            0.0         0.0           0.0     1.0     0.0     0.0   \n2602557          0.0         0.0           0.0     1.0     0.0     0.0   \n4954945          0.0         0.0           0.0     0.0     0.0     0.0   \n...              ...         ...           ...     ...     ...     ...   \n1570006          0.0         0.0           0.0     0.0     0.0     0.0   \n2234489          0.0         1.0           0.0     0.0     0.0     0.0   \n4926484          0.0         0.0           0.0     0.0     0.0     0.0   \n4304572          0.0         0.0           0.0     0.0     0.0     0.0   \n1692743          0.0         0.0           0.0     0.0     0.0     0.0   \n\n         word_freq  ui_language_es  ui_language_it  ui_language_pt  \n2854018   0.023445             0.0             0.0             1.0  \n30776     0.015829             1.0             0.0             0.0  \n98489     0.001078             1.0             0.0             0.0  \n2602557   0.000129             0.0             0.0             1.0  \n4954945   0.011210             1.0             0.0             0.0  \n...            ...             ...             ...             ...  \n1570006   0.005344             1.0             0.0             0.0  \n2234489   0.063111             1.0             0.0             0.0  \n4926484   0.000776             0.0             1.0             0.0  \n4304572   0.002216             0.0             0.0             1.0  \n1692743   0.002327             1.0             0.0             0.0  \n\n[3997999 rows x 24 columns]",
      "text/html": "<div>\n<style scoped>\n    .dataframe tbody tr th:only-of-type {\n        vertical-align: middle;\n    }\n\n    .dataframe tbody tr th {\n        vertical-align: top;\n    }\n\n    .dataframe thead th {\n        text-align: right;\n    }\n</style>\n<table border=\"1\" class=\"dataframe\">\n  <thead>\n    <tr style=\"text-align: right;\">\n      <th></th>\n      <th>p_recall</th>\n      <th>delta</th>\n      <th>history_seen</th>\n      <th>history_correct</th>\n      <th>session_seen</th>\n      <th>history_incorrect</th>\n      <th>word_length</th>\n      <th>differs_from_root</th>\n      <th>verb</th>\n      <th>noun</th>\n      <th>...</th>\n      <th>conjunction</th>\n      <th>determiner</th>\n      <th>interjection</th>\n      <th>plural</th>\n      <th>number</th>\n      <th>phrase</th>\n      <th>word_freq</th>\n      <th>ui_language_es</th>\n      <th>ui_language_it</th>\n      <th>ui_language_pt</th>\n    </tr>\n  </thead>\n  <tbody>\n    <tr>\n      <th>2854018</th>\n      <td>1.0</td>\n      <td>0.000013</td>\n      <td>0.000370</td>\n      <td>0.000233</td>\n      <td>0.000000</td>\n      <td>0.000814</td>\n      <td>0.230769</td>\n      <td>0.0</td>\n      <td>1.0</td>\n      <td>0.0</td>\n      <td>...</td>\n      <td>0.0</td>\n      <td>0.0</td>\n      <td>0.0</td>\n      <td>0.0</td>\n      <td>0.0</td>\n      <td>0.0</td>\n      <td>0.023445</td>\n      <td>0.0</td>\n      <td>0.0</td>\n      <td>1.0</td>\n    </tr>\n    <tr>\n      <th>30776</th>\n      <td>1.0</td>\n      <td>0.024899</td>\n      <td>0.000222</td>\n      <td>0.000155</td>\n      <td>0.105263</td>\n      <td>0.000407</td>\n      <td>0.153846</td>\n      <td>0.0</td>\n      <td>0.0</td>\n      <td>0.0</td>\n      <td>...</td>\n      <td>0.0</td>\n      <td>0.0</td>\n      <td>0.0</td>\n      <td>0.0</td>\n      <td>0.0</td>\n      <td>0.0</td>\n      <td>0.015829</td>\n      <td>1.0</td>\n      <td>0.0</td>\n      <td>0.0</td>\n    </tr>\n    <tr>\n      <th>98489</th>\n      <td>1.0</td>\n      <td>0.227572</td>\n      <td>0.000074</td>\n      <td>0.000078</td>\n      <td>0.052632</td>\n      <td>0.000000</td>\n      <td>0.230769</td>\n      <td>1.0</td>\n      <td>0.0</td>\n      <td>1.0</td>\n      <td>...</td>\n      <td>0.0</td>\n      <td>0.0</td>\n      <td>0.0</td>\n      <td>1.0</td>\n      <td>0.0</td>\n      <td>0.0</td>\n      <td>0.001078</td>\n      <td>1.0</td>\n      <td>0.0</td>\n      <td>0.0</td>\n    </tr>\n    <tr>\n      <th>2602557</th>\n      <td>1.0</td>\n      <td>0.000004</td>\n      <td>0.000000</td>\n      <td>0.000000</td>\n      <td>0.000000</td>\n      <td>0.000000</td>\n      <td>0.307692</td>\n      <td>1.0</td>\n      <td>0.0</td>\n      <td>1.0</td>\n      <td>...</td>\n      <td>0.0</td>\n      <td>0.0</td>\n      <td>0.0</td>\n      <td>1.0</td>\n      <td>0.0</td>\n      <td>0.0</td>\n      <td>0.000129</td>\n      <td>0.0</td>\n      <td>0.0</td>\n      <td>1.0</td>\n    </tr>\n    <tr>\n      <th>4954945</th>\n      <td>1.0</td>\n      <td>0.001956</td>\n      <td>0.027521</td>\n      <td>0.026306</td>\n      <td>0.578947</td>\n      <td>0.013431</td>\n      <td>0.076923</td>\n      <td>1.0</td>\n      <td>1.0</td>\n      <td>0.0</td>\n      <td>...</td>\n      <td>0.0</td>\n      <td>0.0</td>\n      <td>0.0</td>\n      <td>0.0</td>\n      <td>0.0</td>\n      <td>0.0</td>\n      <td>0.011210</td>\n      <td>1.0</td>\n      <td>0.0</td>\n      <td>0.0</td>\n    </tr>\n    <tr>\n      <th>...</th>\n      <td>...</td>\n      <td>...</td>\n      <td>...</td>\n      <td>...</td>\n      <td>...</td>\n      <td>...</td>\n      <td>...</td>\n      <td>...</td>\n      <td>...</td>\n      <td>...</td>\n      <td>...</td>\n      <td>...</td>\n      <td>...</td>\n      <td>...</td>\n      <td>...</td>\n      <td>...</td>\n      <td>...</td>\n      <td>...</td>\n      <td>...</td>\n      <td>...</td>\n      <td>...</td>\n    </tr>\n    <tr>\n      <th>1570006</th>\n      <td>1.0</td>\n      <td>0.000016</td>\n      <td>0.000296</td>\n      <td>0.000310</td>\n      <td>0.052632</td>\n      <td>0.000000</td>\n      <td>0.307692</td>\n      <td>0.0</td>\n      <td>0.0</td>\n      <td>0.0</td>\n      <td>...</td>\n      <td>0.0</td>\n      <td>0.0</td>\n      <td>0.0</td>\n      <td>0.0</td>\n      <td>0.0</td>\n      <td>0.0</td>\n      <td>0.005344</td>\n      <td>1.0</td>\n      <td>0.0</td>\n      <td>0.0</td>\n    </tr>\n    <tr>\n      <th>2234489</th>\n      <td>1.0</td>\n      <td>0.012625</td>\n      <td>0.000296</td>\n      <td>0.000233</td>\n      <td>0.000000</td>\n      <td>0.000407</td>\n      <td>0.076923</td>\n      <td>1.0</td>\n      <td>0.0</td>\n      <td>0.0</td>\n      <td>...</td>\n      <td>0.0</td>\n      <td>1.0</td>\n      <td>0.0</td>\n      <td>0.0</td>\n      <td>0.0</td>\n      <td>0.0</td>\n      <td>0.063111</td>\n      <td>1.0</td>\n      <td>0.0</td>\n      <td>0.0</td>\n    </tr>\n    <tr>\n      <th>4926484</th>\n      <td>1.0</td>\n      <td>0.000017</td>\n      <td>0.000296</td>\n      <td>0.000310</td>\n      <td>0.000000</td>\n      <td>0.000000</td>\n      <td>0.461538</td>\n      <td>0.0</td>\n      <td>0.0</td>\n      <td>1.0</td>\n      <td>...</td>\n      <td>0.0</td>\n      <td>0.0</td>\n      <td>0.0</td>\n      <td>0.0</td>\n      <td>0.0</td>\n      <td>0.0</td>\n      <td>0.000776</td>\n      <td>0.0</td>\n      <td>1.0</td>\n      <td>0.0</td>\n    </tr>\n    <tr>\n      <th>4304572</th>\n      <td>1.0</td>\n      <td>0.007705</td>\n      <td>0.000370</td>\n      <td>0.000388</td>\n      <td>0.000000</td>\n      <td>0.000000</td>\n      <td>0.307692</td>\n      <td>0.0</td>\n      <td>0.0</td>\n      <td>1.0</td>\n      <td>...</td>\n      <td>0.0</td>\n      <td>0.0</td>\n      <td>0.0</td>\n      <td>0.0</td>\n      <td>0.0</td>\n      <td>0.0</td>\n      <td>0.002216</td>\n      <td>0.0</td>\n      <td>0.0</td>\n      <td>1.0</td>\n    </tr>\n    <tr>\n      <th>1692743</th>\n      <td>1.0</td>\n      <td>0.000007</td>\n      <td>0.000444</td>\n      <td>0.000466</td>\n      <td>0.105263</td>\n      <td>0.000000</td>\n      <td>0.153846</td>\n      <td>0.0</td>\n      <td>0.0</td>\n      <td>1.0</td>\n      <td>...</td>\n      <td>0.0</td>\n      <td>0.0</td>\n      <td>0.0</td>\n      <td>0.0</td>\n      <td>0.0</td>\n      <td>0.0</td>\n      <td>0.002327</td>\n      <td>1.0</td>\n      <td>0.0</td>\n      <td>0.0</td>\n    </tr>\n  </tbody>\n</table>\n<p>3997999 rows × 24 columns</p>\n</div>"
     },
     "execution_count": 86,
     "metadata": {},
     "output_type": "execute_result"
    }
   ],
   "source": [
    "X = data_en_normalized_train.drop(['passed'], axis=1)\n",
    "y = data_en_normalized_train['passed']\n",
    "X"
   ],
   "metadata": {
    "collapsed": false,
    "pycharm": {
     "name": "#%%\n"
    }
   }
  },
  {
   "cell_type": "code",
   "execution_count": 69,
   "outputs": [
    {
     "data": {
      "text/plain": "2854018    1\n30776      1\n98489      1\n2602557    1\n4954945    1\n          ..\n1570006    1\n2234489    1\n4926484    1\n4304572    1\n1692743    1\nName: passed, Length: 3997999, dtype: int64"
     },
     "execution_count": 69,
     "metadata": {},
     "output_type": "execute_result"
    }
   ],
   "source": [
    "y"
   ],
   "metadata": {
    "collapsed": false,
    "pycharm": {
     "name": "#%%\n"
    }
   }
  },
  {
   "cell_type": "code",
   "execution_count": 72,
   "outputs": [
    {
     "name": "stdout",
     "output_type": "stream",
     "text": [
      "1.000000    3354072\n",
      "0.000000     270650\n",
      "0.500000     148138\n",
      "0.666667      91658\n",
      "0.750000      52125\n",
      "             ...   \n",
      "0.214286          1\n",
      "0.684211          1\n",
      "0.100000          1\n",
      "0.466667          1\n",
      "0.538462          1\n",
      "Name: p_recall, Length: 71, dtype: int64\n"
     ]
    }
   ],
   "source": [
    "print(pd.value_counts(X[\"p_recall\"]))"
   ],
   "metadata": {
    "collapsed": false,
    "pycharm": {
     "name": "#%%\n"
    }
   }
  },
  {
   "cell_type": "code",
   "execution_count": null,
   "outputs": [],
   "source": [],
   "metadata": {
    "collapsed": false,
    "pycharm": {
     "name": "#%%\n"
    }
   }
  },
  {
   "cell_type": "code",
   "execution_count": 87,
   "outputs": [],
   "source": [
    "from imblearn.under_sampling import RandomUnderSampler\n",
    "rus = RandomUnderSampler(random_state=42)\n",
    "X_under, y_under = rus.fit_resample(X, y)"
   ],
   "metadata": {
    "collapsed": false,
    "pycharm": {
     "name": "#%%\n"
    }
   }
  },
  {
   "cell_type": "code",
   "execution_count": 88,
   "outputs": [
    {
     "name": "stdout",
     "output_type": "stream",
     "text": [
      "1.000000    643927\n",
      "0.000000    270650\n",
      "0.500000    148138\n",
      "0.666667     91658\n",
      "0.750000     52125\n",
      "             ...  \n",
      "0.411765         1\n",
      "0.181818         1\n",
      "0.650000         1\n",
      "0.538462         1\n",
      "0.214286         1\n",
      "Name: p_recall, Length: 71, dtype: int64\n"
     ]
    }
   ],
   "source": [
    "print(pd.value_counts(X_under[\"p_recall\"]))"
   ],
   "metadata": {
    "collapsed": false,
    "pycharm": {
     "name": "#%%\n"
    }
   }
  },
  {
   "cell_type": "code",
   "execution_count": 89,
   "outputs": [
    {
     "data": {
      "text/plain": "0          0.0\n1          0.0\n2          0.0\n3          0.0\n4          0.0\n          ... \n1287849    1.0\n1287850    1.0\n1287851    1.0\n1287852    1.0\n1287853    1.0\nName: passed, Length: 1287854, dtype: float64"
     },
     "execution_count": 89,
     "metadata": {},
     "output_type": "execute_result"
    }
   ],
   "source": [
    "y_under"
   ],
   "metadata": {
    "collapsed": false,
    "pycharm": {
     "name": "#%%\n"
    }
   }
  },
  {
   "cell_type": "code",
   "execution_count": 90,
   "outputs": [
    {
     "name": "stdout",
     "output_type": "stream",
     "text": [
      "1287854\n"
     ]
    }
   ],
   "source": [
    "print(len(X_under))"
   ],
   "metadata": {
    "collapsed": false,
    "pycharm": {
     "name": "#%%\n"
    }
   }
  },
  {
   "cell_type": "code",
   "execution_count": 91,
   "outputs": [
    {
     "data": {
      "text/plain": "         p_recall     delta  history_seen  history_correct  session_seen  \\\n0        0.666667  0.000021      0.002663         0.002406      0.105263   \n1        0.750000  0.006823      0.000296         0.000310      0.157895   \n2        0.000000  0.122888      0.000444         0.000388      0.000000   \n3        0.000000  0.032874      0.000444         0.000466      0.000000   \n4        0.500000  0.124812      0.008138         0.008225      0.052632   \n...           ...       ...           ...              ...           ...   \n1287849  1.000000  0.001782      0.000074         0.000000      0.000000   \n1287850  1.000000  0.000012      0.000148         0.000155      0.000000   \n1287851  1.000000  0.032392      0.001110         0.001164      0.105263   \n1287852  1.000000  0.007122      0.002219         0.002328      0.000000   \n1287853  1.000000  0.007654      0.000592         0.000543      0.052632   \n\n         history_incorrect  word_length  differs_from_root  verb  noun  ...  \\\n0                 0.002035     0.000000                0.0   0.0   0.0  ...   \n1                 0.000000     0.153846                0.0   0.0   0.0  ...   \n2                 0.000407     0.076923                1.0   0.0   0.0  ...   \n3                 0.000000     0.153846                0.0   0.0   1.0  ...   \n4                 0.001628     0.153846                0.0   0.0   0.0  ...   \n...                    ...          ...                ...   ...   ...  ...   \n1287849           0.000407     0.384615                0.0   0.0   1.0  ...   \n1287850           0.000000     0.230769                0.0   1.0   0.0  ...   \n1287851           0.000000     0.307692                1.0   1.0   0.0  ...   \n1287852           0.000000     0.230769                0.0   0.0   0.0  ...   \n1287853           0.000407     0.153846                0.0   0.0   0.0  ...   \n\n         conjunction  determiner  interjection  plural  number  phrase  \\\n0                0.0         1.0           0.0     0.0     0.0     0.0   \n1                0.0         0.0           0.0     0.0     0.0     0.0   \n2                0.0         0.0           0.0     0.0     0.0     0.0   \n3                0.0         0.0           0.0     0.0     0.0     0.0   \n4                0.0         1.0           0.0     0.0     0.0     0.0   \n...              ...         ...           ...     ...     ...     ...   \n1287849          0.0         0.0           0.0     0.0     0.0     0.0   \n1287850          0.0         0.0           0.0     0.0     0.0     0.0   \n1287851          0.0         0.0           0.0     0.0     0.0     0.0   \n1287852          0.0         0.0           0.0     0.0     0.0     0.0   \n1287853          0.0         0.0           0.0     0.0     0.0     0.0   \n\n         word_freq  ui_language_es  ui_language_it  ui_language_pt  \n0         0.426432             0.0             0.0             1.0  \n1         0.091230             0.0             0.0             1.0  \n2         0.165906             1.0             0.0             0.0  \n3         0.012290             1.0             0.0             0.0  \n4         1.000000             1.0             0.0             0.0  \n...            ...             ...             ...             ...  \n1287849   0.002495             1.0             0.0             0.0  \n1287850   0.015475             1.0             0.0             0.0  \n1287851   0.000482             1.0             0.0             0.0  \n1287852   0.079498             1.0             0.0             0.0  \n1287853   0.015829             1.0             0.0             0.0  \n\n[1287854 rows x 24 columns]",
      "text/html": "<div>\n<style scoped>\n    .dataframe tbody tr th:only-of-type {\n        vertical-align: middle;\n    }\n\n    .dataframe tbody tr th {\n        vertical-align: top;\n    }\n\n    .dataframe thead th {\n        text-align: right;\n    }\n</style>\n<table border=\"1\" class=\"dataframe\">\n  <thead>\n    <tr style=\"text-align: right;\">\n      <th></th>\n      <th>p_recall</th>\n      <th>delta</th>\n      <th>history_seen</th>\n      <th>history_correct</th>\n      <th>session_seen</th>\n      <th>history_incorrect</th>\n      <th>word_length</th>\n      <th>differs_from_root</th>\n      <th>verb</th>\n      <th>noun</th>\n      <th>...</th>\n      <th>conjunction</th>\n      <th>determiner</th>\n      <th>interjection</th>\n      <th>plural</th>\n      <th>number</th>\n      <th>phrase</th>\n      <th>word_freq</th>\n      <th>ui_language_es</th>\n      <th>ui_language_it</th>\n      <th>ui_language_pt</th>\n    </tr>\n  </thead>\n  <tbody>\n    <tr>\n      <th>0</th>\n      <td>0.666667</td>\n      <td>0.000021</td>\n      <td>0.002663</td>\n      <td>0.002406</td>\n      <td>0.105263</td>\n      <td>0.002035</td>\n      <td>0.000000</td>\n      <td>0.0</td>\n      <td>0.0</td>\n      <td>0.0</td>\n      <td>...</td>\n      <td>0.0</td>\n      <td>1.0</td>\n      <td>0.0</td>\n      <td>0.0</td>\n      <td>0.0</td>\n      <td>0.0</td>\n      <td>0.426432</td>\n      <td>0.0</td>\n      <td>0.0</td>\n      <td>1.0</td>\n    </tr>\n    <tr>\n      <th>1</th>\n      <td>0.750000</td>\n      <td>0.006823</td>\n      <td>0.000296</td>\n      <td>0.000310</td>\n      <td>0.157895</td>\n      <td>0.000000</td>\n      <td>0.153846</td>\n      <td>0.0</td>\n      <td>0.0</td>\n      <td>0.0</td>\n      <td>...</td>\n      <td>0.0</td>\n      <td>0.0</td>\n      <td>0.0</td>\n      <td>0.0</td>\n      <td>0.0</td>\n      <td>0.0</td>\n      <td>0.091230</td>\n      <td>0.0</td>\n      <td>0.0</td>\n      <td>1.0</td>\n    </tr>\n    <tr>\n      <th>2</th>\n      <td>0.000000</td>\n      <td>0.122888</td>\n      <td>0.000444</td>\n      <td>0.000388</td>\n      <td>0.000000</td>\n      <td>0.000407</td>\n      <td>0.076923</td>\n      <td>1.0</td>\n      <td>0.0</td>\n      <td>0.0</td>\n      <td>...</td>\n      <td>0.0</td>\n      <td>0.0</td>\n      <td>0.0</td>\n      <td>0.0</td>\n      <td>0.0</td>\n      <td>0.0</td>\n      <td>0.165906</td>\n      <td>1.0</td>\n      <td>0.0</td>\n      <td>0.0</td>\n    </tr>\n    <tr>\n      <th>3</th>\n      <td>0.000000</td>\n      <td>0.032874</td>\n      <td>0.000444</td>\n      <td>0.000466</td>\n      <td>0.000000</td>\n      <td>0.000000</td>\n      <td>0.153846</td>\n      <td>0.0</td>\n      <td>0.0</td>\n      <td>1.0</td>\n      <td>...</td>\n      <td>0.0</td>\n      <td>0.0</td>\n      <td>0.0</td>\n      <td>0.0</td>\n      <td>0.0</td>\n      <td>0.0</td>\n      <td>0.012290</td>\n      <td>1.0</td>\n      <td>0.0</td>\n      <td>0.0</td>\n    </tr>\n    <tr>\n      <th>4</th>\n      <td>0.500000</td>\n      <td>0.124812</td>\n      <td>0.008138</td>\n      <td>0.008225</td>\n      <td>0.052632</td>\n      <td>0.001628</td>\n      <td>0.153846</td>\n      <td>0.0</td>\n      <td>0.0</td>\n      <td>0.0</td>\n      <td>...</td>\n      <td>0.0</td>\n      <td>1.0</td>\n      <td>0.0</td>\n      <td>0.0</td>\n      <td>0.0</td>\n      <td>0.0</td>\n      <td>1.000000</td>\n      <td>1.0</td>\n      <td>0.0</td>\n      <td>0.0</td>\n    </tr>\n    <tr>\n      <th>...</th>\n      <td>...</td>\n      <td>...</td>\n      <td>...</td>\n      <td>...</td>\n      <td>...</td>\n      <td>...</td>\n      <td>...</td>\n      <td>...</td>\n      <td>...</td>\n      <td>...</td>\n      <td>...</td>\n      <td>...</td>\n      <td>...</td>\n      <td>...</td>\n      <td>...</td>\n      <td>...</td>\n      <td>...</td>\n      <td>...</td>\n      <td>...</td>\n      <td>...</td>\n      <td>...</td>\n    </tr>\n    <tr>\n      <th>1287849</th>\n      <td>1.000000</td>\n      <td>0.001782</td>\n      <td>0.000074</td>\n      <td>0.000000</td>\n      <td>0.000000</td>\n      <td>0.000407</td>\n      <td>0.384615</td>\n      <td>0.0</td>\n      <td>0.0</td>\n      <td>1.0</td>\n      <td>...</td>\n      <td>0.0</td>\n      <td>0.0</td>\n      <td>0.0</td>\n      <td>0.0</td>\n      <td>0.0</td>\n      <td>0.0</td>\n      <td>0.002495</td>\n      <td>1.0</td>\n      <td>0.0</td>\n      <td>0.0</td>\n    </tr>\n    <tr>\n      <th>1287850</th>\n      <td>1.000000</td>\n      <td>0.000012</td>\n      <td>0.000148</td>\n      <td>0.000155</td>\n      <td>0.000000</td>\n      <td>0.000000</td>\n      <td>0.230769</td>\n      <td>0.0</td>\n      <td>1.0</td>\n      <td>0.0</td>\n      <td>...</td>\n      <td>0.0</td>\n      <td>0.0</td>\n      <td>0.0</td>\n      <td>0.0</td>\n      <td>0.0</td>\n      <td>0.0</td>\n      <td>0.015475</td>\n      <td>1.0</td>\n      <td>0.0</td>\n      <td>0.0</td>\n    </tr>\n    <tr>\n      <th>1287851</th>\n      <td>1.000000</td>\n      <td>0.032392</td>\n      <td>0.001110</td>\n      <td>0.001164</td>\n      <td>0.105263</td>\n      <td>0.000000</td>\n      <td>0.307692</td>\n      <td>1.0</td>\n      <td>1.0</td>\n      <td>0.0</td>\n      <td>...</td>\n      <td>0.0</td>\n      <td>0.0</td>\n      <td>0.0</td>\n      <td>0.0</td>\n      <td>0.0</td>\n      <td>0.0</td>\n      <td>0.000482</td>\n      <td>1.0</td>\n      <td>0.0</td>\n      <td>0.0</td>\n    </tr>\n    <tr>\n      <th>1287852</th>\n      <td>1.000000</td>\n      <td>0.007122</td>\n      <td>0.002219</td>\n      <td>0.002328</td>\n      <td>0.000000</td>\n      <td>0.000000</td>\n      <td>0.230769</td>\n      <td>0.0</td>\n      <td>0.0</td>\n      <td>0.0</td>\n      <td>...</td>\n      <td>0.0</td>\n      <td>0.0</td>\n      <td>0.0</td>\n      <td>0.0</td>\n      <td>0.0</td>\n      <td>0.0</td>\n      <td>0.079498</td>\n      <td>1.0</td>\n      <td>0.0</td>\n      <td>0.0</td>\n    </tr>\n    <tr>\n      <th>1287853</th>\n      <td>1.000000</td>\n      <td>0.007654</td>\n      <td>0.000592</td>\n      <td>0.000543</td>\n      <td>0.052632</td>\n      <td>0.000407</td>\n      <td>0.153846</td>\n      <td>0.0</td>\n      <td>0.0</td>\n      <td>0.0</td>\n      <td>...</td>\n      <td>0.0</td>\n      <td>0.0</td>\n      <td>0.0</td>\n      <td>0.0</td>\n      <td>0.0</td>\n      <td>0.0</td>\n      <td>0.015829</td>\n      <td>1.0</td>\n      <td>0.0</td>\n      <td>0.0</td>\n    </tr>\n  </tbody>\n</table>\n<p>1287854 rows × 24 columns</p>\n</div>"
     },
     "execution_count": 91,
     "metadata": {},
     "output_type": "execute_result"
    }
   ],
   "source": [
    "X_under"
   ],
   "metadata": {
    "collapsed": false,
    "pycharm": {
     "name": "#%%\n"
    }
   }
  },
  {
   "cell_type": "code",
   "execution_count": 92,
   "outputs": [
    {
     "data": {
      "text/plain": "Index(['p_recall', 'delta', 'history_seen', 'history_correct', 'session_seen',\n       'history_incorrect', 'word_length', 'differs_from_root', 'verb', 'noun',\n       'preposition', 'pronoun', 'adjective', 'adverb', 'conjunction',\n       'determiner', 'interjection', 'plural', 'number', 'phrase', 'word_freq',\n       'ui_language_es', 'ui_language_it', 'ui_language_pt'],\n      dtype='object')"
     },
     "execution_count": 92,
     "metadata": {},
     "output_type": "execute_result"
    }
   ],
   "source": [
    "X_under.columns"
   ],
   "metadata": {
    "collapsed": false,
    "pycharm": {
     "name": "#%%\n"
    }
   }
  },
  {
   "cell_type": "code",
   "execution_count": 93,
   "outputs": [
    {
     "name": "stdout",
     "output_type": "stream",
     "text": [
      "1.000000    643927\n",
      "0.000000    270650\n",
      "0.500000    148138\n",
      "0.666667     91658\n",
      "0.750000     52125\n",
      "             ...  \n",
      "0.411765         1\n",
      "0.181818         1\n",
      "0.650000         1\n",
      "0.538462         1\n",
      "0.214286         1\n",
      "Name: p_recall, Length: 71, dtype: int64\n"
     ]
    }
   ],
   "source": [
    "print(pd.value_counts(X_under[\"p_recall\"]))"
   ],
   "metadata": {
    "collapsed": false,
    "pycharm": {
     "name": "#%%\n"
    }
   }
  },
  {
   "cell_type": "code",
   "execution_count": 94,
   "outputs": [
    {
     "data": {
      "text/plain": "         p_recall     delta  history_seen  history_correct  session_seen  \\\n0        0.666667  0.000021      0.002663         0.002406      0.105263   \n1        0.750000  0.006823      0.000296         0.000310      0.157895   \n2        0.000000  0.122888      0.000444         0.000388      0.000000   \n3        0.000000  0.032874      0.000444         0.000466      0.000000   \n4        0.500000  0.124812      0.008138         0.008225      0.052632   \n...           ...       ...           ...              ...           ...   \n1287849  1.000000  0.001782      0.000074         0.000000      0.000000   \n1287850  1.000000  0.000012      0.000148         0.000155      0.000000   \n1287851  1.000000  0.032392      0.001110         0.001164      0.105263   \n1287852  1.000000  0.007122      0.002219         0.002328      0.000000   \n1287853  1.000000  0.007654      0.000592         0.000543      0.052632   \n\n         history_incorrect  word_length  differs_from_root  verb  noun  ...  \\\n0                 0.002035     0.000000                0.0   0.0   0.0  ...   \n1                 0.000000     0.153846                0.0   0.0   0.0  ...   \n2                 0.000407     0.076923                1.0   0.0   0.0  ...   \n3                 0.000000     0.153846                0.0   0.0   1.0  ...   \n4                 0.001628     0.153846                0.0   0.0   0.0  ...   \n...                    ...          ...                ...   ...   ...  ...   \n1287849           0.000407     0.384615                0.0   0.0   1.0  ...   \n1287850           0.000000     0.230769                0.0   1.0   0.0  ...   \n1287851           0.000000     0.307692                1.0   1.0   0.0  ...   \n1287852           0.000000     0.230769                0.0   0.0   0.0  ...   \n1287853           0.000407     0.153846                0.0   0.0   0.0  ...   \n\n         conjunction  determiner  interjection  plural  number  phrase  \\\n0                0.0         1.0           0.0     0.0     0.0     0.0   \n1                0.0         0.0           0.0     0.0     0.0     0.0   \n2                0.0         0.0           0.0     0.0     0.0     0.0   \n3                0.0         0.0           0.0     0.0     0.0     0.0   \n4                0.0         1.0           0.0     0.0     0.0     0.0   \n...              ...         ...           ...     ...     ...     ...   \n1287849          0.0         0.0           0.0     0.0     0.0     0.0   \n1287850          0.0         0.0           0.0     0.0     0.0     0.0   \n1287851          0.0         0.0           0.0     0.0     0.0     0.0   \n1287852          0.0         0.0           0.0     0.0     0.0     0.0   \n1287853          0.0         0.0           0.0     0.0     0.0     0.0   \n\n         word_freq  ui_language_es  ui_language_it  ui_language_pt  \n0         0.426432             0.0             0.0             1.0  \n1         0.091230             0.0             0.0             1.0  \n2         0.165906             1.0             0.0             0.0  \n3         0.012290             1.0             0.0             0.0  \n4         1.000000             1.0             0.0             0.0  \n...            ...             ...             ...             ...  \n1287849   0.002495             1.0             0.0             0.0  \n1287850   0.015475             1.0             0.0             0.0  \n1287851   0.000482             1.0             0.0             0.0  \n1287852   0.079498             1.0             0.0             0.0  \n1287853   0.015829             1.0             0.0             0.0  \n\n[1287854 rows x 24 columns]",
      "text/html": "<div>\n<style scoped>\n    .dataframe tbody tr th:only-of-type {\n        vertical-align: middle;\n    }\n\n    .dataframe tbody tr th {\n        vertical-align: top;\n    }\n\n    .dataframe thead th {\n        text-align: right;\n    }\n</style>\n<table border=\"1\" class=\"dataframe\">\n  <thead>\n    <tr style=\"text-align: right;\">\n      <th></th>\n      <th>p_recall</th>\n      <th>delta</th>\n      <th>history_seen</th>\n      <th>history_correct</th>\n      <th>session_seen</th>\n      <th>history_incorrect</th>\n      <th>word_length</th>\n      <th>differs_from_root</th>\n      <th>verb</th>\n      <th>noun</th>\n      <th>...</th>\n      <th>conjunction</th>\n      <th>determiner</th>\n      <th>interjection</th>\n      <th>plural</th>\n      <th>number</th>\n      <th>phrase</th>\n      <th>word_freq</th>\n      <th>ui_language_es</th>\n      <th>ui_language_it</th>\n      <th>ui_language_pt</th>\n    </tr>\n  </thead>\n  <tbody>\n    <tr>\n      <th>0</th>\n      <td>0.666667</td>\n      <td>0.000021</td>\n      <td>0.002663</td>\n      <td>0.002406</td>\n      <td>0.105263</td>\n      <td>0.002035</td>\n      <td>0.000000</td>\n      <td>0.0</td>\n      <td>0.0</td>\n      <td>0.0</td>\n      <td>...</td>\n      <td>0.0</td>\n      <td>1.0</td>\n      <td>0.0</td>\n      <td>0.0</td>\n      <td>0.0</td>\n      <td>0.0</td>\n      <td>0.426432</td>\n      <td>0.0</td>\n      <td>0.0</td>\n      <td>1.0</td>\n    </tr>\n    <tr>\n      <th>1</th>\n      <td>0.750000</td>\n      <td>0.006823</td>\n      <td>0.000296</td>\n      <td>0.000310</td>\n      <td>0.157895</td>\n      <td>0.000000</td>\n      <td>0.153846</td>\n      <td>0.0</td>\n      <td>0.0</td>\n      <td>0.0</td>\n      <td>...</td>\n      <td>0.0</td>\n      <td>0.0</td>\n      <td>0.0</td>\n      <td>0.0</td>\n      <td>0.0</td>\n      <td>0.0</td>\n      <td>0.091230</td>\n      <td>0.0</td>\n      <td>0.0</td>\n      <td>1.0</td>\n    </tr>\n    <tr>\n      <th>2</th>\n      <td>0.000000</td>\n      <td>0.122888</td>\n      <td>0.000444</td>\n      <td>0.000388</td>\n      <td>0.000000</td>\n      <td>0.000407</td>\n      <td>0.076923</td>\n      <td>1.0</td>\n      <td>0.0</td>\n      <td>0.0</td>\n      <td>...</td>\n      <td>0.0</td>\n      <td>0.0</td>\n      <td>0.0</td>\n      <td>0.0</td>\n      <td>0.0</td>\n      <td>0.0</td>\n      <td>0.165906</td>\n      <td>1.0</td>\n      <td>0.0</td>\n      <td>0.0</td>\n    </tr>\n    <tr>\n      <th>3</th>\n      <td>0.000000</td>\n      <td>0.032874</td>\n      <td>0.000444</td>\n      <td>0.000466</td>\n      <td>0.000000</td>\n      <td>0.000000</td>\n      <td>0.153846</td>\n      <td>0.0</td>\n      <td>0.0</td>\n      <td>1.0</td>\n      <td>...</td>\n      <td>0.0</td>\n      <td>0.0</td>\n      <td>0.0</td>\n      <td>0.0</td>\n      <td>0.0</td>\n      <td>0.0</td>\n      <td>0.012290</td>\n      <td>1.0</td>\n      <td>0.0</td>\n      <td>0.0</td>\n    </tr>\n    <tr>\n      <th>4</th>\n      <td>0.500000</td>\n      <td>0.124812</td>\n      <td>0.008138</td>\n      <td>0.008225</td>\n      <td>0.052632</td>\n      <td>0.001628</td>\n      <td>0.153846</td>\n      <td>0.0</td>\n      <td>0.0</td>\n      <td>0.0</td>\n      <td>...</td>\n      <td>0.0</td>\n      <td>1.0</td>\n      <td>0.0</td>\n      <td>0.0</td>\n      <td>0.0</td>\n      <td>0.0</td>\n      <td>1.000000</td>\n      <td>1.0</td>\n      <td>0.0</td>\n      <td>0.0</td>\n    </tr>\n    <tr>\n      <th>...</th>\n      <td>...</td>\n      <td>...</td>\n      <td>...</td>\n      <td>...</td>\n      <td>...</td>\n      <td>...</td>\n      <td>...</td>\n      <td>...</td>\n      <td>...</td>\n      <td>...</td>\n      <td>...</td>\n      <td>...</td>\n      <td>...</td>\n      <td>...</td>\n      <td>...</td>\n      <td>...</td>\n      <td>...</td>\n      <td>...</td>\n      <td>...</td>\n      <td>...</td>\n      <td>...</td>\n    </tr>\n    <tr>\n      <th>1287849</th>\n      <td>1.000000</td>\n      <td>0.001782</td>\n      <td>0.000074</td>\n      <td>0.000000</td>\n      <td>0.000000</td>\n      <td>0.000407</td>\n      <td>0.384615</td>\n      <td>0.0</td>\n      <td>0.0</td>\n      <td>1.0</td>\n      <td>...</td>\n      <td>0.0</td>\n      <td>0.0</td>\n      <td>0.0</td>\n      <td>0.0</td>\n      <td>0.0</td>\n      <td>0.0</td>\n      <td>0.002495</td>\n      <td>1.0</td>\n      <td>0.0</td>\n      <td>0.0</td>\n    </tr>\n    <tr>\n      <th>1287850</th>\n      <td>1.000000</td>\n      <td>0.000012</td>\n      <td>0.000148</td>\n      <td>0.000155</td>\n      <td>0.000000</td>\n      <td>0.000000</td>\n      <td>0.230769</td>\n      <td>0.0</td>\n      <td>1.0</td>\n      <td>0.0</td>\n      <td>...</td>\n      <td>0.0</td>\n      <td>0.0</td>\n      <td>0.0</td>\n      <td>0.0</td>\n      <td>0.0</td>\n      <td>0.0</td>\n      <td>0.015475</td>\n      <td>1.0</td>\n      <td>0.0</td>\n      <td>0.0</td>\n    </tr>\n    <tr>\n      <th>1287851</th>\n      <td>1.000000</td>\n      <td>0.032392</td>\n      <td>0.001110</td>\n      <td>0.001164</td>\n      <td>0.105263</td>\n      <td>0.000000</td>\n      <td>0.307692</td>\n      <td>1.0</td>\n      <td>1.0</td>\n      <td>0.0</td>\n      <td>...</td>\n      <td>0.0</td>\n      <td>0.0</td>\n      <td>0.0</td>\n      <td>0.0</td>\n      <td>0.0</td>\n      <td>0.0</td>\n      <td>0.000482</td>\n      <td>1.0</td>\n      <td>0.0</td>\n      <td>0.0</td>\n    </tr>\n    <tr>\n      <th>1287852</th>\n      <td>1.000000</td>\n      <td>0.007122</td>\n      <td>0.002219</td>\n      <td>0.002328</td>\n      <td>0.000000</td>\n      <td>0.000000</td>\n      <td>0.230769</td>\n      <td>0.0</td>\n      <td>0.0</td>\n      <td>0.0</td>\n      <td>...</td>\n      <td>0.0</td>\n      <td>0.0</td>\n      <td>0.0</td>\n      <td>0.0</td>\n      <td>0.0</td>\n      <td>0.0</td>\n      <td>0.079498</td>\n      <td>1.0</td>\n      <td>0.0</td>\n      <td>0.0</td>\n    </tr>\n    <tr>\n      <th>1287853</th>\n      <td>1.000000</td>\n      <td>0.007654</td>\n      <td>0.000592</td>\n      <td>0.000543</td>\n      <td>0.052632</td>\n      <td>0.000407</td>\n      <td>0.153846</td>\n      <td>0.0</td>\n      <td>0.0</td>\n      <td>0.0</td>\n      <td>...</td>\n      <td>0.0</td>\n      <td>0.0</td>\n      <td>0.0</td>\n      <td>0.0</td>\n      <td>0.0</td>\n      <td>0.0</td>\n      <td>0.015829</td>\n      <td>1.0</td>\n      <td>0.0</td>\n      <td>0.0</td>\n    </tr>\n  </tbody>\n</table>\n<p>1287854 rows × 24 columns</p>\n</div>"
     },
     "execution_count": 94,
     "metadata": {},
     "output_type": "execute_result"
    }
   ],
   "source": [
    "X_under"
   ],
   "metadata": {
    "collapsed": false,
    "pycharm": {
     "name": "#%%\n"
    }
   }
  },
  {
   "cell_type": "code",
   "execution_count": 97,
   "outputs": [
    {
     "name": "stdout",
     "output_type": "stream",
     "text": [
      "1.000000    838935\n",
      "0.000000     67169\n",
      "0.500000     37095\n",
      "0.666667     22833\n",
      "0.750000     13112\n",
      "0.800000      6820\n",
      "0.833333      3146\n",
      "0.333333      2112\n",
      "0.857143      1684\n",
      "0.600000      1462\n",
      "0.875000      1141\n",
      "0.888889       623\n",
      "0.714286       600\n",
      "0.900000       455\n",
      "0.777778       270\n",
      "0.909091       237\n",
      "0.937500       150\n",
      "0.818182       137\n",
      "0.928571       134\n",
      "0.250000       134\n",
      "0.400000       131\n",
      "0.916667       130\n",
      "0.923077       110\n",
      "0.625000       104\n",
      "0.571429        96\n",
      "0.812500        86\n",
      "0.846154        79\n",
      "0.933333        76\n",
      "0.785714        71\n",
      "0.700000        62\n",
      "0.727273        54\n",
      "0.866667        52\n",
      "0.769231        45\n",
      "0.947368        16\n",
      "0.200000        14\n",
      "0.692308        13\n",
      "0.733333        13\n",
      "0.894737        13\n",
      "0.428571        13\n",
      "0.842105        10\n",
      "0.882353         9\n",
      "0.636364         9\n",
      "0.941176         8\n",
      "0.764706         7\n",
      "0.823529         7\n",
      "0.555556         4\n",
      "0.789474         4\n",
      "0.615385         2\n",
      "0.583333         2\n",
      "0.944444         2\n",
      "0.950000         1\n",
      "0.375000         1\n",
      "0.300000         1\n",
      "0.444444         1\n",
      "0.272727         1\n",
      "0.111111         1\n",
      "0.142857         1\n",
      "0.538462         1\n",
      "0.166667         1\n",
      "Name: p_recall, dtype: int64\n"
     ]
    }
   ],
   "source": [
    "print(pd.value_counts(data_en_normalized_test[\"p_recall\"]))"
   ],
   "metadata": {
    "collapsed": false,
    "pycharm": {
     "name": "#%%\n"
    }
   }
  },
  {
   "cell_type": "code",
   "execution_count": 96,
   "outputs": [],
   "source": [
    "X_under.to_csv(\"data_ready_en_normalized_undersampled_train.csv\",index=False)\n",
    "data_en_normalized_test.to_csv(\"data_en_ready_normalized_test.csv\",index=False)"
   ],
   "metadata": {
    "collapsed": false,
    "pycharm": {
     "name": "#%%\n"
    }
   }
  },
  {
   "cell_type": "code",
   "execution_count": null,
   "outputs": [],
   "source": [
    "X = data_en_normalized_train.drop(['passed'], axis=1)\n",
    "y = data_en_normalized_train['passed']\n",
    "X"
   ],
   "metadata": {
    "collapsed": false,
    "pycharm": {
     "name": "#%%\n"
    }
   }
  }
 ],
 "metadata": {
  "kernelspec": {
   "display_name": "Python 3",
   "language": "python",
   "name": "python3"
  },
  "language_info": {
   "codemirror_mode": {
    "name": "ipython",
    "version": 2
   },
   "file_extension": ".py",
   "mimetype": "text/x-python",
   "name": "python",
   "nbconvert_exporter": "python",
   "pygments_lexer": "ipython2",
   "version": "2.7.6"
  }
 },
 "nbformat": 4,
 "nbformat_minor": 0
}