{
 "cells": [
  {
   "cell_type": "code",
   "execution_count": 1,
   "metadata": {
    "collapsed": true
   },
   "outputs": [
    {
     "data": {
      "text/plain": "         p_recall     delta ui_language  history_seen  history_correct  \\\n0        1.000000  0.099167          pt            17               17   \n1        1.000000  0.099167          pt            19               19   \n2        1.000000  0.099167          pt            21               20   \n3        0.800000  0.099167          pt            44               36   \n4        1.000000  0.099167          pt            21               20   \n...           ...       ...         ...           ...              ...   \n4997494  0.800000  0.102222          it             6                4   \n4997495  0.800000  0.102222          it             4                4   \n4997496  1.000000  0.102222          it             4                4   \n4997497  0.600000  0.102222          it             3                2   \n4997498  0.666667  0.102222          it             5                3   \n\n         session_seen surface_form    root_form modifiers_split  \\\n0                   2   definition   definition         <n><sg>   \n1                   3      surface      surface         <n><sg>   \n2                   3        scale        scale         <n><sg>   \n3                   5  temperature  temperature         <n><sg>   \n4                   3     distance     distance         <n><sg>   \n...               ...          ...          ...             ...   \n4997494             5          the          the  <det><def><sp>   \n4997495             5          eat          eat   <vblex><pres>   \n4997496             4        bread        bread         <n><sg>   \n4997497             5        drink        drink   <vblex><pres>   \n4997498             9        water        water         <n><sg>   \n\n         history_incorrect  ...  pronoun  adjective  adverb  conjunction  \\\n0                        0  ...        0          0       0            0   \n1                        0  ...        0          0       0            0   \n2                        1  ...        0          0       0            0   \n3                        8  ...        0          0       0            0   \n4                        1  ...        0          0       0            0   \n...                    ...  ...      ...        ...     ...          ...   \n4997494                  2  ...        0          0       0            0   \n4997495                  0  ...        0          0       0            0   \n4997496                  0  ...        0          0       0            0   \n4997497                  1  ...        0          0       0            0   \n4997498                  2  ...        0          0       0            0   \n\n         determiner  interjection  plural  number  phrase  word_freq  \n0                 0             0       0       0       0   0.000038  \n1                 0             0       0       0       0   0.000068  \n2                 0             0       0       0       0   0.000068  \n3                 0             0       0       0       0   0.000044  \n4                 0             0       0       0       0   0.000071  \n...             ...           ...     ...     ...     ...        ...  \n4997494           1             0       0       0       0   0.053700  \n4997495           0             0       0       0       0   0.000135  \n4997496           0             0       0       0       0   0.000032  \n4997497           0             0       0       0       0   0.000079  \n4997498           0             0       0       0       0   0.000331  \n\n[4997499 rows x 26 columns]",
      "text/html": "<div>\n<style scoped>\n    .dataframe tbody tr th:only-of-type {\n        vertical-align: middle;\n    }\n\n    .dataframe tbody tr th {\n        vertical-align: top;\n    }\n\n    .dataframe thead th {\n        text-align: right;\n    }\n</style>\n<table border=\"1\" class=\"dataframe\">\n  <thead>\n    <tr style=\"text-align: right;\">\n      <th></th>\n      <th>p_recall</th>\n      <th>delta</th>\n      <th>ui_language</th>\n      <th>history_seen</th>\n      <th>history_correct</th>\n      <th>session_seen</th>\n      <th>surface_form</th>\n      <th>root_form</th>\n      <th>modifiers_split</th>\n      <th>history_incorrect</th>\n      <th>...</th>\n      <th>pronoun</th>\n      <th>adjective</th>\n      <th>adverb</th>\n      <th>conjunction</th>\n      <th>determiner</th>\n      <th>interjection</th>\n      <th>plural</th>\n      <th>number</th>\n      <th>phrase</th>\n      <th>word_freq</th>\n    </tr>\n  </thead>\n  <tbody>\n    <tr>\n      <th>0</th>\n      <td>1.000000</td>\n      <td>0.099167</td>\n      <td>pt</td>\n      <td>17</td>\n      <td>17</td>\n      <td>2</td>\n      <td>definition</td>\n      <td>definition</td>\n      <td>&lt;n&gt;&lt;sg&gt;</td>\n      <td>0</td>\n      <td>...</td>\n      <td>0</td>\n      <td>0</td>\n      <td>0</td>\n      <td>0</td>\n      <td>0</td>\n      <td>0</td>\n      <td>0</td>\n      <td>0</td>\n      <td>0</td>\n      <td>0.000038</td>\n    </tr>\n    <tr>\n      <th>1</th>\n      <td>1.000000</td>\n      <td>0.099167</td>\n      <td>pt</td>\n      <td>19</td>\n      <td>19</td>\n      <td>3</td>\n      <td>surface</td>\n      <td>surface</td>\n      <td>&lt;n&gt;&lt;sg&gt;</td>\n      <td>0</td>\n      <td>...</td>\n      <td>0</td>\n      <td>0</td>\n      <td>0</td>\n      <td>0</td>\n      <td>0</td>\n      <td>0</td>\n      <td>0</td>\n      <td>0</td>\n      <td>0</td>\n      <td>0.000068</td>\n    </tr>\n    <tr>\n      <th>2</th>\n      <td>1.000000</td>\n      <td>0.099167</td>\n      <td>pt</td>\n      <td>21</td>\n      <td>20</td>\n      <td>3</td>\n      <td>scale</td>\n      <td>scale</td>\n      <td>&lt;n&gt;&lt;sg&gt;</td>\n      <td>1</td>\n      <td>...</td>\n      <td>0</td>\n      <td>0</td>\n      <td>0</td>\n      <td>0</td>\n      <td>0</td>\n      <td>0</td>\n      <td>0</td>\n      <td>0</td>\n      <td>0</td>\n      <td>0.000068</td>\n    </tr>\n    <tr>\n      <th>3</th>\n      <td>0.800000</td>\n      <td>0.099167</td>\n      <td>pt</td>\n      <td>44</td>\n      <td>36</td>\n      <td>5</td>\n      <td>temperature</td>\n      <td>temperature</td>\n      <td>&lt;n&gt;&lt;sg&gt;</td>\n      <td>8</td>\n      <td>...</td>\n      <td>0</td>\n      <td>0</td>\n      <td>0</td>\n      <td>0</td>\n      <td>0</td>\n      <td>0</td>\n      <td>0</td>\n      <td>0</td>\n      <td>0</td>\n      <td>0.000044</td>\n    </tr>\n    <tr>\n      <th>4</th>\n      <td>1.000000</td>\n      <td>0.099167</td>\n      <td>pt</td>\n      <td>21</td>\n      <td>20</td>\n      <td>3</td>\n      <td>distance</td>\n      <td>distance</td>\n      <td>&lt;n&gt;&lt;sg&gt;</td>\n      <td>1</td>\n      <td>...</td>\n      <td>0</td>\n      <td>0</td>\n      <td>0</td>\n      <td>0</td>\n      <td>0</td>\n      <td>0</td>\n      <td>0</td>\n      <td>0</td>\n      <td>0</td>\n      <td>0.000071</td>\n    </tr>\n    <tr>\n      <th>...</th>\n      <td>...</td>\n      <td>...</td>\n      <td>...</td>\n      <td>...</td>\n      <td>...</td>\n      <td>...</td>\n      <td>...</td>\n      <td>...</td>\n      <td>...</td>\n      <td>...</td>\n      <td>...</td>\n      <td>...</td>\n      <td>...</td>\n      <td>...</td>\n      <td>...</td>\n      <td>...</td>\n      <td>...</td>\n      <td>...</td>\n      <td>...</td>\n      <td>...</td>\n      <td>...</td>\n    </tr>\n    <tr>\n      <th>4997494</th>\n      <td>0.800000</td>\n      <td>0.102222</td>\n      <td>it</td>\n      <td>6</td>\n      <td>4</td>\n      <td>5</td>\n      <td>the</td>\n      <td>the</td>\n      <td>&lt;det&gt;&lt;def&gt;&lt;sp&gt;</td>\n      <td>2</td>\n      <td>...</td>\n      <td>0</td>\n      <td>0</td>\n      <td>0</td>\n      <td>0</td>\n      <td>1</td>\n      <td>0</td>\n      <td>0</td>\n      <td>0</td>\n      <td>0</td>\n      <td>0.053700</td>\n    </tr>\n    <tr>\n      <th>4997495</th>\n      <td>0.800000</td>\n      <td>0.102222</td>\n      <td>it</td>\n      <td>4</td>\n      <td>4</td>\n      <td>5</td>\n      <td>eat</td>\n      <td>eat</td>\n      <td>&lt;vblex&gt;&lt;pres&gt;</td>\n      <td>0</td>\n      <td>...</td>\n      <td>0</td>\n      <td>0</td>\n      <td>0</td>\n      <td>0</td>\n      <td>0</td>\n      <td>0</td>\n      <td>0</td>\n      <td>0</td>\n      <td>0</td>\n      <td>0.000135</td>\n    </tr>\n    <tr>\n      <th>4997496</th>\n      <td>1.000000</td>\n      <td>0.102222</td>\n      <td>it</td>\n      <td>4</td>\n      <td>4</td>\n      <td>4</td>\n      <td>bread</td>\n      <td>bread</td>\n      <td>&lt;n&gt;&lt;sg&gt;</td>\n      <td>0</td>\n      <td>...</td>\n      <td>0</td>\n      <td>0</td>\n      <td>0</td>\n      <td>0</td>\n      <td>0</td>\n      <td>0</td>\n      <td>0</td>\n      <td>0</td>\n      <td>0</td>\n      <td>0.000032</td>\n    </tr>\n    <tr>\n      <th>4997497</th>\n      <td>0.600000</td>\n      <td>0.102222</td>\n      <td>it</td>\n      <td>3</td>\n      <td>2</td>\n      <td>5</td>\n      <td>drink</td>\n      <td>drink</td>\n      <td>&lt;vblex&gt;&lt;pres&gt;</td>\n      <td>1</td>\n      <td>...</td>\n      <td>0</td>\n      <td>0</td>\n      <td>0</td>\n      <td>0</td>\n      <td>0</td>\n      <td>0</td>\n      <td>0</td>\n      <td>0</td>\n      <td>0</td>\n      <td>0.000079</td>\n    </tr>\n    <tr>\n      <th>4997498</th>\n      <td>0.666667</td>\n      <td>0.102222</td>\n      <td>it</td>\n      <td>5</td>\n      <td>3</td>\n      <td>9</td>\n      <td>water</td>\n      <td>water</td>\n      <td>&lt;n&gt;&lt;sg&gt;</td>\n      <td>2</td>\n      <td>...</td>\n      <td>0</td>\n      <td>0</td>\n      <td>0</td>\n      <td>0</td>\n      <td>0</td>\n      <td>0</td>\n      <td>0</td>\n      <td>0</td>\n      <td>0</td>\n      <td>0.000331</td>\n    </tr>\n  </tbody>\n</table>\n<p>4997499 rows × 26 columns</p>\n</div>"
     },
     "execution_count": 1,
     "metadata": {},
     "output_type": "execute_result"
    }
   ],
   "source": [
    "import numpy as np\n",
    "import pandas as pd\n",
    "\n",
    "data_en = pd.read_csv(\"data_ready_en.csv\")\n",
    "data_en"
   ]
  },
  {
   "cell_type": "code",
   "execution_count": 2,
   "outputs": [],
   "source": [
    "del data_en[\"modifiers_split\"]\n",
    "del data_en[\"surface_form\"]\n",
    "del data_en[\"root_form\"]"
   ],
   "metadata": {
    "collapsed": false,
    "pycharm": {
     "name": "#%%\n"
    }
   }
  },
  {
   "cell_type": "code",
   "execution_count": 3,
   "outputs": [
    {
     "data": {
      "text/plain": "         p_recall     delta  history_seen  history_correct  session_seen  \\\n0        1.000000  0.099167            17               17             2   \n1        1.000000  0.099167            19               19             3   \n2        1.000000  0.099167            21               20             3   \n3        0.800000  0.099167            44               36             5   \n4        1.000000  0.099167            21               20             3   \n...           ...       ...           ...              ...           ...   \n4997494  0.800000  0.102222             6                4             5   \n4997495  0.800000  0.102222             4                4             5   \n4997496  1.000000  0.102222             4                4             4   \n4997497  0.600000  0.102222             3                2             5   \n4997498  0.666667  0.102222             5                3             9   \n\n         history_incorrect  word_length  differs_from_root  passed  verb  ...  \\\n0                        0           10                  0       1     0  ...   \n1                        0            7                  0       1     0  ...   \n2                        1            5                  0       1     0  ...   \n3                        8           11                  0       0     0  ...   \n4                        1            8                  0       1     0  ...   \n...                    ...          ...                ...     ...   ...  ...   \n4997494                  2            3                  0       0     0  ...   \n4997495                  0            3                  0       0     1  ...   \n4997496                  0            5                  0       1     0  ...   \n4997497                  1            5                  0       0     1  ...   \n4997498                  2            5                  0       0     0  ...   \n\n         conjunction  determiner  interjection  plural  number  phrase  \\\n0                  0           0             0       0       0       0   \n1                  0           0             0       0       0       0   \n2                  0           0             0       0       0       0   \n3                  0           0             0       0       0       0   \n4                  0           0             0       0       0       0   \n...              ...         ...           ...     ...     ...     ...   \n4997494            0           1             0       0       0       0   \n4997495            0           0             0       0       0       0   \n4997496            0           0             0       0       0       0   \n4997497            0           0             0       0       0       0   \n4997498            0           0             0       0       0       0   \n\n         word_freq  ui_language_es  ui_language_it  ui_language_pt  \n0         0.000038               0               0               1  \n1         0.000068               0               0               1  \n2         0.000068               0               0               1  \n3         0.000044               0               0               1  \n4         0.000071               0               0               1  \n...            ...             ...             ...             ...  \n4997494   0.053700               0               1               0  \n4997495   0.000135               0               1               0  \n4997496   0.000032               0               1               0  \n4997497   0.000079               0               1               0  \n4997498   0.000331               0               1               0  \n\n[4997499 rows x 25 columns]",
      "text/html": "<div>\n<style scoped>\n    .dataframe tbody tr th:only-of-type {\n        vertical-align: middle;\n    }\n\n    .dataframe tbody tr th {\n        vertical-align: top;\n    }\n\n    .dataframe thead th {\n        text-align: right;\n    }\n</style>\n<table border=\"1\" class=\"dataframe\">\n  <thead>\n    <tr style=\"text-align: right;\">\n      <th></th>\n      <th>p_recall</th>\n      <th>delta</th>\n      <th>history_seen</th>\n      <th>history_correct</th>\n      <th>session_seen</th>\n      <th>history_incorrect</th>\n      <th>word_length</th>\n      <th>differs_from_root</th>\n      <th>passed</th>\n      <th>verb</th>\n      <th>...</th>\n      <th>conjunction</th>\n      <th>determiner</th>\n      <th>interjection</th>\n      <th>plural</th>\n      <th>number</th>\n      <th>phrase</th>\n      <th>word_freq</th>\n      <th>ui_language_es</th>\n      <th>ui_language_it</th>\n      <th>ui_language_pt</th>\n    </tr>\n  </thead>\n  <tbody>\n    <tr>\n      <th>0</th>\n      <td>1.000000</td>\n      <td>0.099167</td>\n      <td>17</td>\n      <td>17</td>\n      <td>2</td>\n      <td>0</td>\n      <td>10</td>\n      <td>0</td>\n      <td>1</td>\n      <td>0</td>\n      <td>...</td>\n      <td>0</td>\n      <td>0</td>\n      <td>0</td>\n      <td>0</td>\n      <td>0</td>\n      <td>0</td>\n      <td>0.000038</td>\n      <td>0</td>\n      <td>0</td>\n      <td>1</td>\n    </tr>\n    <tr>\n      <th>1</th>\n      <td>1.000000</td>\n      <td>0.099167</td>\n      <td>19</td>\n      <td>19</td>\n      <td>3</td>\n      <td>0</td>\n      <td>7</td>\n      <td>0</td>\n      <td>1</td>\n      <td>0</td>\n      <td>...</td>\n      <td>0</td>\n      <td>0</td>\n      <td>0</td>\n      <td>0</td>\n      <td>0</td>\n      <td>0</td>\n      <td>0.000068</td>\n      <td>0</td>\n      <td>0</td>\n      <td>1</td>\n    </tr>\n    <tr>\n      <th>2</th>\n      <td>1.000000</td>\n      <td>0.099167</td>\n      <td>21</td>\n      <td>20</td>\n      <td>3</td>\n      <td>1</td>\n      <td>5</td>\n      <td>0</td>\n      <td>1</td>\n      <td>0</td>\n      <td>...</td>\n      <td>0</td>\n      <td>0</td>\n      <td>0</td>\n      <td>0</td>\n      <td>0</td>\n      <td>0</td>\n      <td>0.000068</td>\n      <td>0</td>\n      <td>0</td>\n      <td>1</td>\n    </tr>\n    <tr>\n      <th>3</th>\n      <td>0.800000</td>\n      <td>0.099167</td>\n      <td>44</td>\n      <td>36</td>\n      <td>5</td>\n      <td>8</td>\n      <td>11</td>\n      <td>0</td>\n      <td>0</td>\n      <td>0</td>\n      <td>...</td>\n      <td>0</td>\n      <td>0</td>\n      <td>0</td>\n      <td>0</td>\n      <td>0</td>\n      <td>0</td>\n      <td>0.000044</td>\n      <td>0</td>\n      <td>0</td>\n      <td>1</td>\n    </tr>\n    <tr>\n      <th>4</th>\n      <td>1.000000</td>\n      <td>0.099167</td>\n      <td>21</td>\n      <td>20</td>\n      <td>3</td>\n      <td>1</td>\n      <td>8</td>\n      <td>0</td>\n      <td>1</td>\n      <td>0</td>\n      <td>...</td>\n      <td>0</td>\n      <td>0</td>\n      <td>0</td>\n      <td>0</td>\n      <td>0</td>\n      <td>0</td>\n      <td>0.000071</td>\n      <td>0</td>\n      <td>0</td>\n      <td>1</td>\n    </tr>\n    <tr>\n      <th>...</th>\n      <td>...</td>\n      <td>...</td>\n      <td>...</td>\n      <td>...</td>\n      <td>...</td>\n      <td>...</td>\n      <td>...</td>\n      <td>...</td>\n      <td>...</td>\n      <td>...</td>\n      <td>...</td>\n      <td>...</td>\n      <td>...</td>\n      <td>...</td>\n      <td>...</td>\n      <td>...</td>\n      <td>...</td>\n      <td>...</td>\n      <td>...</td>\n      <td>...</td>\n      <td>...</td>\n    </tr>\n    <tr>\n      <th>4997494</th>\n      <td>0.800000</td>\n      <td>0.102222</td>\n      <td>6</td>\n      <td>4</td>\n      <td>5</td>\n      <td>2</td>\n      <td>3</td>\n      <td>0</td>\n      <td>0</td>\n      <td>0</td>\n      <td>...</td>\n      <td>0</td>\n      <td>1</td>\n      <td>0</td>\n      <td>0</td>\n      <td>0</td>\n      <td>0</td>\n      <td>0.053700</td>\n      <td>0</td>\n      <td>1</td>\n      <td>0</td>\n    </tr>\n    <tr>\n      <th>4997495</th>\n      <td>0.800000</td>\n      <td>0.102222</td>\n      <td>4</td>\n      <td>4</td>\n      <td>5</td>\n      <td>0</td>\n      <td>3</td>\n      <td>0</td>\n      <td>0</td>\n      <td>1</td>\n      <td>...</td>\n      <td>0</td>\n      <td>0</td>\n      <td>0</td>\n      <td>0</td>\n      <td>0</td>\n      <td>0</td>\n      <td>0.000135</td>\n      <td>0</td>\n      <td>1</td>\n      <td>0</td>\n    </tr>\n    <tr>\n      <th>4997496</th>\n      <td>1.000000</td>\n      <td>0.102222</td>\n      <td>4</td>\n      <td>4</td>\n      <td>4</td>\n      <td>0</td>\n      <td>5</td>\n      <td>0</td>\n      <td>1</td>\n      <td>0</td>\n      <td>...</td>\n      <td>0</td>\n      <td>0</td>\n      <td>0</td>\n      <td>0</td>\n      <td>0</td>\n      <td>0</td>\n      <td>0.000032</td>\n      <td>0</td>\n      <td>1</td>\n      <td>0</td>\n    </tr>\n    <tr>\n      <th>4997497</th>\n      <td>0.600000</td>\n      <td>0.102222</td>\n      <td>3</td>\n      <td>2</td>\n      <td>5</td>\n      <td>1</td>\n      <td>5</td>\n      <td>0</td>\n      <td>0</td>\n      <td>1</td>\n      <td>...</td>\n      <td>0</td>\n      <td>0</td>\n      <td>0</td>\n      <td>0</td>\n      <td>0</td>\n      <td>0</td>\n      <td>0.000079</td>\n      <td>0</td>\n      <td>1</td>\n      <td>0</td>\n    </tr>\n    <tr>\n      <th>4997498</th>\n      <td>0.666667</td>\n      <td>0.102222</td>\n      <td>5</td>\n      <td>3</td>\n      <td>9</td>\n      <td>2</td>\n      <td>5</td>\n      <td>0</td>\n      <td>0</td>\n      <td>0</td>\n      <td>...</td>\n      <td>0</td>\n      <td>0</td>\n      <td>0</td>\n      <td>0</td>\n      <td>0</td>\n      <td>0</td>\n      <td>0.000331</td>\n      <td>0</td>\n      <td>1</td>\n      <td>0</td>\n    </tr>\n  </tbody>\n</table>\n<p>4997499 rows × 25 columns</p>\n</div>"
     },
     "execution_count": 3,
     "metadata": {},
     "output_type": "execute_result"
    }
   ],
   "source": [
    "data_en = pd.get_dummies(data_en,columns=[\"ui_language\"])\n",
    "data_en"
   ],
   "metadata": {
    "collapsed": false,
    "pycharm": {
     "name": "#%%\n"
    }
   }
  },
  {
   "cell_type": "code",
   "execution_count": 4,
   "outputs": [
    {
     "data": {
      "text/plain": "            delta  history_seen  history_correct  session_seen  \\\n0        0.099167            17               17             2   \n1        0.099167            19               19             3   \n2        0.099167            21               20             3   \n3        0.099167            44               36             5   \n4        0.099167            21               20             3   \n...           ...           ...              ...           ...   \n4997494  0.102222             6                4             5   \n4997495  0.102222             4                4             5   \n4997496  0.102222             4                4             4   \n4997497  0.102222             3                2             5   \n4997498  0.102222             5                3             9   \n\n         history_incorrect  word_length  differs_from_root  passed  verb  \\\n0                        0           10                  0       1     0   \n1                        0            7                  0       1     0   \n2                        1            5                  0       1     0   \n3                        8           11                  0       0     0   \n4                        1            8                  0       1     0   \n...                    ...          ...                ...     ...   ...   \n4997494                  2            3                  0       0     0   \n4997495                  0            3                  0       0     1   \n4997496                  0            5                  0       1     0   \n4997497                  1            5                  0       0     1   \n4997498                  2            5                  0       0     0   \n\n         noun  ...  conjunction  determiner  interjection  plural  number  \\\n0           1  ...            0           0             0       0       0   \n1           1  ...            0           0             0       0       0   \n2           1  ...            0           0             0       0       0   \n3           1  ...            0           0             0       0       0   \n4           1  ...            0           0             0       0       0   \n...       ...  ...          ...         ...           ...     ...     ...   \n4997494     0  ...            0           1             0       0       0   \n4997495     0  ...            0           0             0       0       0   \n4997496     1  ...            0           0             0       0       0   \n4997497     0  ...            0           0             0       0       0   \n4997498     1  ...            0           0             0       0       0   \n\n         phrase  word_freq  ui_language_es  ui_language_it  ui_language_pt  \n0             0   0.000038               0               0               1  \n1             0   0.000068               0               0               1  \n2             0   0.000068               0               0               1  \n3             0   0.000044               0               0               1  \n4             0   0.000071               0               0               1  \n...         ...        ...             ...             ...             ...  \n4997494       0   0.053700               0               1               0  \n4997495       0   0.000135               0               1               0  \n4997496       0   0.000032               0               1               0  \n4997497       0   0.000079               0               1               0  \n4997498       0   0.000331               0               1               0  \n\n[4997499 rows x 24 columns]",
      "text/html": "<div>\n<style scoped>\n    .dataframe tbody tr th:only-of-type {\n        vertical-align: middle;\n    }\n\n    .dataframe tbody tr th {\n        vertical-align: top;\n    }\n\n    .dataframe thead th {\n        text-align: right;\n    }\n</style>\n<table border=\"1\" class=\"dataframe\">\n  <thead>\n    <tr style=\"text-align: right;\">\n      <th></th>\n      <th>delta</th>\n      <th>history_seen</th>\n      <th>history_correct</th>\n      <th>session_seen</th>\n      <th>history_incorrect</th>\n      <th>word_length</th>\n      <th>differs_from_root</th>\n      <th>passed</th>\n      <th>verb</th>\n      <th>noun</th>\n      <th>...</th>\n      <th>conjunction</th>\n      <th>determiner</th>\n      <th>interjection</th>\n      <th>plural</th>\n      <th>number</th>\n      <th>phrase</th>\n      <th>word_freq</th>\n      <th>ui_language_es</th>\n      <th>ui_language_it</th>\n      <th>ui_language_pt</th>\n    </tr>\n  </thead>\n  <tbody>\n    <tr>\n      <th>0</th>\n      <td>0.099167</td>\n      <td>17</td>\n      <td>17</td>\n      <td>2</td>\n      <td>0</td>\n      <td>10</td>\n      <td>0</td>\n      <td>1</td>\n      <td>0</td>\n      <td>1</td>\n      <td>...</td>\n      <td>0</td>\n      <td>0</td>\n      <td>0</td>\n      <td>0</td>\n      <td>0</td>\n      <td>0</td>\n      <td>0.000038</td>\n      <td>0</td>\n      <td>0</td>\n      <td>1</td>\n    </tr>\n    <tr>\n      <th>1</th>\n      <td>0.099167</td>\n      <td>19</td>\n      <td>19</td>\n      <td>3</td>\n      <td>0</td>\n      <td>7</td>\n      <td>0</td>\n      <td>1</td>\n      <td>0</td>\n      <td>1</td>\n      <td>...</td>\n      <td>0</td>\n      <td>0</td>\n      <td>0</td>\n      <td>0</td>\n      <td>0</td>\n      <td>0</td>\n      <td>0.000068</td>\n      <td>0</td>\n      <td>0</td>\n      <td>1</td>\n    </tr>\n    <tr>\n      <th>2</th>\n      <td>0.099167</td>\n      <td>21</td>\n      <td>20</td>\n      <td>3</td>\n      <td>1</td>\n      <td>5</td>\n      <td>0</td>\n      <td>1</td>\n      <td>0</td>\n      <td>1</td>\n      <td>...</td>\n      <td>0</td>\n      <td>0</td>\n      <td>0</td>\n      <td>0</td>\n      <td>0</td>\n      <td>0</td>\n      <td>0.000068</td>\n      <td>0</td>\n      <td>0</td>\n      <td>1</td>\n    </tr>\n    <tr>\n      <th>3</th>\n      <td>0.099167</td>\n      <td>44</td>\n      <td>36</td>\n      <td>5</td>\n      <td>8</td>\n      <td>11</td>\n      <td>0</td>\n      <td>0</td>\n      <td>0</td>\n      <td>1</td>\n      <td>...</td>\n      <td>0</td>\n      <td>0</td>\n      <td>0</td>\n      <td>0</td>\n      <td>0</td>\n      <td>0</td>\n      <td>0.000044</td>\n      <td>0</td>\n      <td>0</td>\n      <td>1</td>\n    </tr>\n    <tr>\n      <th>4</th>\n      <td>0.099167</td>\n      <td>21</td>\n      <td>20</td>\n      <td>3</td>\n      <td>1</td>\n      <td>8</td>\n      <td>0</td>\n      <td>1</td>\n      <td>0</td>\n      <td>1</td>\n      <td>...</td>\n      <td>0</td>\n      <td>0</td>\n      <td>0</td>\n      <td>0</td>\n      <td>0</td>\n      <td>0</td>\n      <td>0.000071</td>\n      <td>0</td>\n      <td>0</td>\n      <td>1</td>\n    </tr>\n    <tr>\n      <th>...</th>\n      <td>...</td>\n      <td>...</td>\n      <td>...</td>\n      <td>...</td>\n      <td>...</td>\n      <td>...</td>\n      <td>...</td>\n      <td>...</td>\n      <td>...</td>\n      <td>...</td>\n      <td>...</td>\n      <td>...</td>\n      <td>...</td>\n      <td>...</td>\n      <td>...</td>\n      <td>...</td>\n      <td>...</td>\n      <td>...</td>\n      <td>...</td>\n      <td>...</td>\n      <td>...</td>\n    </tr>\n    <tr>\n      <th>4997494</th>\n      <td>0.102222</td>\n      <td>6</td>\n      <td>4</td>\n      <td>5</td>\n      <td>2</td>\n      <td>3</td>\n      <td>0</td>\n      <td>0</td>\n      <td>0</td>\n      <td>0</td>\n      <td>...</td>\n      <td>0</td>\n      <td>1</td>\n      <td>0</td>\n      <td>0</td>\n      <td>0</td>\n      <td>0</td>\n      <td>0.053700</td>\n      <td>0</td>\n      <td>1</td>\n      <td>0</td>\n    </tr>\n    <tr>\n      <th>4997495</th>\n      <td>0.102222</td>\n      <td>4</td>\n      <td>4</td>\n      <td>5</td>\n      <td>0</td>\n      <td>3</td>\n      <td>0</td>\n      <td>0</td>\n      <td>1</td>\n      <td>0</td>\n      <td>...</td>\n      <td>0</td>\n      <td>0</td>\n      <td>0</td>\n      <td>0</td>\n      <td>0</td>\n      <td>0</td>\n      <td>0.000135</td>\n      <td>0</td>\n      <td>1</td>\n      <td>0</td>\n    </tr>\n    <tr>\n      <th>4997496</th>\n      <td>0.102222</td>\n      <td>4</td>\n      <td>4</td>\n      <td>4</td>\n      <td>0</td>\n      <td>5</td>\n      <td>0</td>\n      <td>1</td>\n      <td>0</td>\n      <td>1</td>\n      <td>...</td>\n      <td>0</td>\n      <td>0</td>\n      <td>0</td>\n      <td>0</td>\n      <td>0</td>\n      <td>0</td>\n      <td>0.000032</td>\n      <td>0</td>\n      <td>1</td>\n      <td>0</td>\n    </tr>\n    <tr>\n      <th>4997497</th>\n      <td>0.102222</td>\n      <td>3</td>\n      <td>2</td>\n      <td>5</td>\n      <td>1</td>\n      <td>5</td>\n      <td>0</td>\n      <td>0</td>\n      <td>1</td>\n      <td>0</td>\n      <td>...</td>\n      <td>0</td>\n      <td>0</td>\n      <td>0</td>\n      <td>0</td>\n      <td>0</td>\n      <td>0</td>\n      <td>0.000079</td>\n      <td>0</td>\n      <td>1</td>\n      <td>0</td>\n    </tr>\n    <tr>\n      <th>4997498</th>\n      <td>0.102222</td>\n      <td>5</td>\n      <td>3</td>\n      <td>9</td>\n      <td>2</td>\n      <td>5</td>\n      <td>0</td>\n      <td>0</td>\n      <td>0</td>\n      <td>1</td>\n      <td>...</td>\n      <td>0</td>\n      <td>0</td>\n      <td>0</td>\n      <td>0</td>\n      <td>0</td>\n      <td>0</td>\n      <td>0.000331</td>\n      <td>0</td>\n      <td>1</td>\n      <td>0</td>\n    </tr>\n  </tbody>\n</table>\n<p>4997499 rows × 24 columns</p>\n</div>"
     },
     "execution_count": 4,
     "metadata": {},
     "output_type": "execute_result"
    }
   ],
   "source": [
    "del data_en[\"p_recall\"]\n",
    "data_en"
   ],
   "metadata": {
    "collapsed": false,
    "pycharm": {
     "name": "#%%\n"
    }
   }
  },
  {
   "cell_type": "code",
   "execution_count": 5,
   "outputs": [
    {
     "data": {
      "text/plain": "            delta  history_seen  history_correct  history_incorrect  \\\n0        0.099167            17               17                  0   \n1        0.099167            19               19                  0   \n2        0.099167            21               20                  1   \n3        0.099167            44               36                  8   \n4        0.099167            21               20                  1   \n...           ...           ...              ...                ...   \n4997494  0.102222             6                4                  2   \n4997495  0.102222             4                4                  0   \n4997496  0.102222             4                4                  0   \n4997497  0.102222             3                2                  1   \n4997498  0.102222             5                3                  2   \n\n         word_length  differs_from_root  passed  verb  noun  preposition  ...  \\\n0                 10                  0       1     0     1            0  ...   \n1                  7                  0       1     0     1            0  ...   \n2                  5                  0       1     0     1            0  ...   \n3                 11                  0       0     0     1            0  ...   \n4                  8                  0       1     0     1            0  ...   \n...              ...                ...     ...   ...   ...          ...  ...   \n4997494            3                  0       0     0     0            0  ...   \n4997495            3                  0       0     1     0            0  ...   \n4997496            5                  0       1     0     1            0  ...   \n4997497            5                  0       0     1     0            0  ...   \n4997498            5                  0       0     0     1            0  ...   \n\n         conjunction  determiner  interjection  plural  number  phrase  \\\n0                  0           0             0       0       0       0   \n1                  0           0             0       0       0       0   \n2                  0           0             0       0       0       0   \n3                  0           0             0       0       0       0   \n4                  0           0             0       0       0       0   \n...              ...         ...           ...     ...     ...     ...   \n4997494            0           1             0       0       0       0   \n4997495            0           0             0       0       0       0   \n4997496            0           0             0       0       0       0   \n4997497            0           0             0       0       0       0   \n4997498            0           0             0       0       0       0   \n\n         word_freq  ui_language_es  ui_language_it  ui_language_pt  \n0         0.000038               0               0               1  \n1         0.000068               0               0               1  \n2         0.000068               0               0               1  \n3         0.000044               0               0               1  \n4         0.000071               0               0               1  \n...            ...             ...             ...             ...  \n4997494   0.053700               0               1               0  \n4997495   0.000135               0               1               0  \n4997496   0.000032               0               1               0  \n4997497   0.000079               0               1               0  \n4997498   0.000331               0               1               0  \n\n[4997499 rows x 23 columns]",
      "text/html": "<div>\n<style scoped>\n    .dataframe tbody tr th:only-of-type {\n        vertical-align: middle;\n    }\n\n    .dataframe tbody tr th {\n        vertical-align: top;\n    }\n\n    .dataframe thead th {\n        text-align: right;\n    }\n</style>\n<table border=\"1\" class=\"dataframe\">\n  <thead>\n    <tr style=\"text-align: right;\">\n      <th></th>\n      <th>delta</th>\n      <th>history_seen</th>\n      <th>history_correct</th>\n      <th>history_incorrect</th>\n      <th>word_length</th>\n      <th>differs_from_root</th>\n      <th>passed</th>\n      <th>verb</th>\n      <th>noun</th>\n      <th>preposition</th>\n      <th>...</th>\n      <th>conjunction</th>\n      <th>determiner</th>\n      <th>interjection</th>\n      <th>plural</th>\n      <th>number</th>\n      <th>phrase</th>\n      <th>word_freq</th>\n      <th>ui_language_es</th>\n      <th>ui_language_it</th>\n      <th>ui_language_pt</th>\n    </tr>\n  </thead>\n  <tbody>\n    <tr>\n      <th>0</th>\n      <td>0.099167</td>\n      <td>17</td>\n      <td>17</td>\n      <td>0</td>\n      <td>10</td>\n      <td>0</td>\n      <td>1</td>\n      <td>0</td>\n      <td>1</td>\n      <td>0</td>\n      <td>...</td>\n      <td>0</td>\n      <td>0</td>\n      <td>0</td>\n      <td>0</td>\n      <td>0</td>\n      <td>0</td>\n      <td>0.000038</td>\n      <td>0</td>\n      <td>0</td>\n      <td>1</td>\n    </tr>\n    <tr>\n      <th>1</th>\n      <td>0.099167</td>\n      <td>19</td>\n      <td>19</td>\n      <td>0</td>\n      <td>7</td>\n      <td>0</td>\n      <td>1</td>\n      <td>0</td>\n      <td>1</td>\n      <td>0</td>\n      <td>...</td>\n      <td>0</td>\n      <td>0</td>\n      <td>0</td>\n      <td>0</td>\n      <td>0</td>\n      <td>0</td>\n      <td>0.000068</td>\n      <td>0</td>\n      <td>0</td>\n      <td>1</td>\n    </tr>\n    <tr>\n      <th>2</th>\n      <td>0.099167</td>\n      <td>21</td>\n      <td>20</td>\n      <td>1</td>\n      <td>5</td>\n      <td>0</td>\n      <td>1</td>\n      <td>0</td>\n      <td>1</td>\n      <td>0</td>\n      <td>...</td>\n      <td>0</td>\n      <td>0</td>\n      <td>0</td>\n      <td>0</td>\n      <td>0</td>\n      <td>0</td>\n      <td>0.000068</td>\n      <td>0</td>\n      <td>0</td>\n      <td>1</td>\n    </tr>\n    <tr>\n      <th>3</th>\n      <td>0.099167</td>\n      <td>44</td>\n      <td>36</td>\n      <td>8</td>\n      <td>11</td>\n      <td>0</td>\n      <td>0</td>\n      <td>0</td>\n      <td>1</td>\n      <td>0</td>\n      <td>...</td>\n      <td>0</td>\n      <td>0</td>\n      <td>0</td>\n      <td>0</td>\n      <td>0</td>\n      <td>0</td>\n      <td>0.000044</td>\n      <td>0</td>\n      <td>0</td>\n      <td>1</td>\n    </tr>\n    <tr>\n      <th>4</th>\n      <td>0.099167</td>\n      <td>21</td>\n      <td>20</td>\n      <td>1</td>\n      <td>8</td>\n      <td>0</td>\n      <td>1</td>\n      <td>0</td>\n      <td>1</td>\n      <td>0</td>\n      <td>...</td>\n      <td>0</td>\n      <td>0</td>\n      <td>0</td>\n      <td>0</td>\n      <td>0</td>\n      <td>0</td>\n      <td>0.000071</td>\n      <td>0</td>\n      <td>0</td>\n      <td>1</td>\n    </tr>\n    <tr>\n      <th>...</th>\n      <td>...</td>\n      <td>...</td>\n      <td>...</td>\n      <td>...</td>\n      <td>...</td>\n      <td>...</td>\n      <td>...</td>\n      <td>...</td>\n      <td>...</td>\n      <td>...</td>\n      <td>...</td>\n      <td>...</td>\n      <td>...</td>\n      <td>...</td>\n      <td>...</td>\n      <td>...</td>\n      <td>...</td>\n      <td>...</td>\n      <td>...</td>\n      <td>...</td>\n      <td>...</td>\n    </tr>\n    <tr>\n      <th>4997494</th>\n      <td>0.102222</td>\n      <td>6</td>\n      <td>4</td>\n      <td>2</td>\n      <td>3</td>\n      <td>0</td>\n      <td>0</td>\n      <td>0</td>\n      <td>0</td>\n      <td>0</td>\n      <td>...</td>\n      <td>0</td>\n      <td>1</td>\n      <td>0</td>\n      <td>0</td>\n      <td>0</td>\n      <td>0</td>\n      <td>0.053700</td>\n      <td>0</td>\n      <td>1</td>\n      <td>0</td>\n    </tr>\n    <tr>\n      <th>4997495</th>\n      <td>0.102222</td>\n      <td>4</td>\n      <td>4</td>\n      <td>0</td>\n      <td>3</td>\n      <td>0</td>\n      <td>0</td>\n      <td>1</td>\n      <td>0</td>\n      <td>0</td>\n      <td>...</td>\n      <td>0</td>\n      <td>0</td>\n      <td>0</td>\n      <td>0</td>\n      <td>0</td>\n      <td>0</td>\n      <td>0.000135</td>\n      <td>0</td>\n      <td>1</td>\n      <td>0</td>\n    </tr>\n    <tr>\n      <th>4997496</th>\n      <td>0.102222</td>\n      <td>4</td>\n      <td>4</td>\n      <td>0</td>\n      <td>5</td>\n      <td>0</td>\n      <td>1</td>\n      <td>0</td>\n      <td>1</td>\n      <td>0</td>\n      <td>...</td>\n      <td>0</td>\n      <td>0</td>\n      <td>0</td>\n      <td>0</td>\n      <td>0</td>\n      <td>0</td>\n      <td>0.000032</td>\n      <td>0</td>\n      <td>1</td>\n      <td>0</td>\n    </tr>\n    <tr>\n      <th>4997497</th>\n      <td>0.102222</td>\n      <td>3</td>\n      <td>2</td>\n      <td>1</td>\n      <td>5</td>\n      <td>0</td>\n      <td>0</td>\n      <td>1</td>\n      <td>0</td>\n      <td>0</td>\n      <td>...</td>\n      <td>0</td>\n      <td>0</td>\n      <td>0</td>\n      <td>0</td>\n      <td>0</td>\n      <td>0</td>\n      <td>0.000079</td>\n      <td>0</td>\n      <td>1</td>\n      <td>0</td>\n    </tr>\n    <tr>\n      <th>4997498</th>\n      <td>0.102222</td>\n      <td>5</td>\n      <td>3</td>\n      <td>2</td>\n      <td>5</td>\n      <td>0</td>\n      <td>0</td>\n      <td>0</td>\n      <td>1</td>\n      <td>0</td>\n      <td>...</td>\n      <td>0</td>\n      <td>0</td>\n      <td>0</td>\n      <td>0</td>\n      <td>0</td>\n      <td>0</td>\n      <td>0.000331</td>\n      <td>0</td>\n      <td>1</td>\n      <td>0</td>\n    </tr>\n  </tbody>\n</table>\n<p>4997499 rows × 23 columns</p>\n</div>"
     },
     "execution_count": 5,
     "metadata": {},
     "output_type": "execute_result"
    }
   ],
   "source": [
    "del data_en[\"session_seen\"]\n",
    "data_en"
   ],
   "metadata": {
    "collapsed": false,
    "pycharm": {
     "name": "#%%\n"
    }
   }
  },
  {
   "cell_type": "code",
   "execution_count": 6,
   "outputs": [],
   "source": [
    "from sklearn.ensemble import RandomForestClassifier\n",
    "from sklearn.model_selection import train_test_split\n",
    "from sklearn.metrics import classification_report\n",
    "from imblearn.under_sampling import RandomUnderSampler\n",
    "from imblearn.over_sampling import SMOTE"
   ],
   "metadata": {
    "collapsed": false,
    "pycharm": {
     "name": "#%%\n"
    }
   }
  },
  {
   "cell_type": "code",
   "execution_count": 7,
   "outputs": [
    {
     "data": {
      "text/plain": "            delta  history_seen  history_correct  history_incorrect  \\\n0        0.099167            17               17                  0   \n1        0.099167            19               19                  0   \n2        0.099167            21               20                  1   \n3        0.099167            44               36                  8   \n4        0.099167            21               20                  1   \n...           ...           ...              ...                ...   \n4997494  0.102222             6                4                  2   \n4997495  0.102222             4                4                  0   \n4997496  0.102222             4                4                  0   \n4997497  0.102222             3                2                  1   \n4997498  0.102222             5                3                  2   \n\n         word_length  differs_from_root  verb  noun  preposition  pronoun  \\\n0                 10                  0     0     1            0        0   \n1                  7                  0     0     1            0        0   \n2                  5                  0     0     1            0        0   \n3                 11                  0     0     1            0        0   \n4                  8                  0     0     1            0        0   \n...              ...                ...   ...   ...          ...      ...   \n4997494            3                  0     0     0            0        0   \n4997495            3                  0     1     0            0        0   \n4997496            5                  0     0     1            0        0   \n4997497            5                  0     1     0            0        0   \n4997498            5                  0     0     1            0        0   \n\n         ...  conjunction  determiner  interjection  plural  number  phrase  \\\n0        ...            0           0             0       0       0       0   \n1        ...            0           0             0       0       0       0   \n2        ...            0           0             0       0       0       0   \n3        ...            0           0             0       0       0       0   \n4        ...            0           0             0       0       0       0   \n...      ...          ...         ...           ...     ...     ...     ...   \n4997494  ...            0           1             0       0       0       0   \n4997495  ...            0           0             0       0       0       0   \n4997496  ...            0           0             0       0       0       0   \n4997497  ...            0           0             0       0       0       0   \n4997498  ...            0           0             0       0       0       0   \n\n         word_freq  ui_language_es  ui_language_it  ui_language_pt  \n0         0.000038               0               0               1  \n1         0.000068               0               0               1  \n2         0.000068               0               0               1  \n3         0.000044               0               0               1  \n4         0.000071               0               0               1  \n...            ...             ...             ...             ...  \n4997494   0.053700               0               1               0  \n4997495   0.000135               0               1               0  \n4997496   0.000032               0               1               0  \n4997497   0.000079               0               1               0  \n4997498   0.000331               0               1               0  \n\n[4997499 rows x 22 columns]",
      "text/html": "<div>\n<style scoped>\n    .dataframe tbody tr th:only-of-type {\n        vertical-align: middle;\n    }\n\n    .dataframe tbody tr th {\n        vertical-align: top;\n    }\n\n    .dataframe thead th {\n        text-align: right;\n    }\n</style>\n<table border=\"1\" class=\"dataframe\">\n  <thead>\n    <tr style=\"text-align: right;\">\n      <th></th>\n      <th>delta</th>\n      <th>history_seen</th>\n      <th>history_correct</th>\n      <th>history_incorrect</th>\n      <th>word_length</th>\n      <th>differs_from_root</th>\n      <th>verb</th>\n      <th>noun</th>\n      <th>preposition</th>\n      <th>pronoun</th>\n      <th>...</th>\n      <th>conjunction</th>\n      <th>determiner</th>\n      <th>interjection</th>\n      <th>plural</th>\n      <th>number</th>\n      <th>phrase</th>\n      <th>word_freq</th>\n      <th>ui_language_es</th>\n      <th>ui_language_it</th>\n      <th>ui_language_pt</th>\n    </tr>\n  </thead>\n  <tbody>\n    <tr>\n      <th>0</th>\n      <td>0.099167</td>\n      <td>17</td>\n      <td>17</td>\n      <td>0</td>\n      <td>10</td>\n      <td>0</td>\n      <td>0</td>\n      <td>1</td>\n      <td>0</td>\n      <td>0</td>\n      <td>...</td>\n      <td>0</td>\n      <td>0</td>\n      <td>0</td>\n      <td>0</td>\n      <td>0</td>\n      <td>0</td>\n      <td>0.000038</td>\n      <td>0</td>\n      <td>0</td>\n      <td>1</td>\n    </tr>\n    <tr>\n      <th>1</th>\n      <td>0.099167</td>\n      <td>19</td>\n      <td>19</td>\n      <td>0</td>\n      <td>7</td>\n      <td>0</td>\n      <td>0</td>\n      <td>1</td>\n      <td>0</td>\n      <td>0</td>\n      <td>...</td>\n      <td>0</td>\n      <td>0</td>\n      <td>0</td>\n      <td>0</td>\n      <td>0</td>\n      <td>0</td>\n      <td>0.000068</td>\n      <td>0</td>\n      <td>0</td>\n      <td>1</td>\n    </tr>\n    <tr>\n      <th>2</th>\n      <td>0.099167</td>\n      <td>21</td>\n      <td>20</td>\n      <td>1</td>\n      <td>5</td>\n      <td>0</td>\n      <td>0</td>\n      <td>1</td>\n      <td>0</td>\n      <td>0</td>\n      <td>...</td>\n      <td>0</td>\n      <td>0</td>\n      <td>0</td>\n      <td>0</td>\n      <td>0</td>\n      <td>0</td>\n      <td>0.000068</td>\n      <td>0</td>\n      <td>0</td>\n      <td>1</td>\n    </tr>\n    <tr>\n      <th>3</th>\n      <td>0.099167</td>\n      <td>44</td>\n      <td>36</td>\n      <td>8</td>\n      <td>11</td>\n      <td>0</td>\n      <td>0</td>\n      <td>1</td>\n      <td>0</td>\n      <td>0</td>\n      <td>...</td>\n      <td>0</td>\n      <td>0</td>\n      <td>0</td>\n      <td>0</td>\n      <td>0</td>\n      <td>0</td>\n      <td>0.000044</td>\n      <td>0</td>\n      <td>0</td>\n      <td>1</td>\n    </tr>\n    <tr>\n      <th>4</th>\n      <td>0.099167</td>\n      <td>21</td>\n      <td>20</td>\n      <td>1</td>\n      <td>8</td>\n      <td>0</td>\n      <td>0</td>\n      <td>1</td>\n      <td>0</td>\n      <td>0</td>\n      <td>...</td>\n      <td>0</td>\n      <td>0</td>\n      <td>0</td>\n      <td>0</td>\n      <td>0</td>\n      <td>0</td>\n      <td>0.000071</td>\n      <td>0</td>\n      <td>0</td>\n      <td>1</td>\n    </tr>\n    <tr>\n      <th>...</th>\n      <td>...</td>\n      <td>...</td>\n      <td>...</td>\n      <td>...</td>\n      <td>...</td>\n      <td>...</td>\n      <td>...</td>\n      <td>...</td>\n      <td>...</td>\n      <td>...</td>\n      <td>...</td>\n      <td>...</td>\n      <td>...</td>\n      <td>...</td>\n      <td>...</td>\n      <td>...</td>\n      <td>...</td>\n      <td>...</td>\n      <td>...</td>\n      <td>...</td>\n      <td>...</td>\n    </tr>\n    <tr>\n      <th>4997494</th>\n      <td>0.102222</td>\n      <td>6</td>\n      <td>4</td>\n      <td>2</td>\n      <td>3</td>\n      <td>0</td>\n      <td>0</td>\n      <td>0</td>\n      <td>0</td>\n      <td>0</td>\n      <td>...</td>\n      <td>0</td>\n      <td>1</td>\n      <td>0</td>\n      <td>0</td>\n      <td>0</td>\n      <td>0</td>\n      <td>0.053700</td>\n      <td>0</td>\n      <td>1</td>\n      <td>0</td>\n    </tr>\n    <tr>\n      <th>4997495</th>\n      <td>0.102222</td>\n      <td>4</td>\n      <td>4</td>\n      <td>0</td>\n      <td>3</td>\n      <td>0</td>\n      <td>1</td>\n      <td>0</td>\n      <td>0</td>\n      <td>0</td>\n      <td>...</td>\n      <td>0</td>\n      <td>0</td>\n      <td>0</td>\n      <td>0</td>\n      <td>0</td>\n      <td>0</td>\n      <td>0.000135</td>\n      <td>0</td>\n      <td>1</td>\n      <td>0</td>\n    </tr>\n    <tr>\n      <th>4997496</th>\n      <td>0.102222</td>\n      <td>4</td>\n      <td>4</td>\n      <td>0</td>\n      <td>5</td>\n      <td>0</td>\n      <td>0</td>\n      <td>1</td>\n      <td>0</td>\n      <td>0</td>\n      <td>...</td>\n      <td>0</td>\n      <td>0</td>\n      <td>0</td>\n      <td>0</td>\n      <td>0</td>\n      <td>0</td>\n      <td>0.000032</td>\n      <td>0</td>\n      <td>1</td>\n      <td>0</td>\n    </tr>\n    <tr>\n      <th>4997497</th>\n      <td>0.102222</td>\n      <td>3</td>\n      <td>2</td>\n      <td>1</td>\n      <td>5</td>\n      <td>0</td>\n      <td>1</td>\n      <td>0</td>\n      <td>0</td>\n      <td>0</td>\n      <td>...</td>\n      <td>0</td>\n      <td>0</td>\n      <td>0</td>\n      <td>0</td>\n      <td>0</td>\n      <td>0</td>\n      <td>0.000079</td>\n      <td>0</td>\n      <td>1</td>\n      <td>0</td>\n    </tr>\n    <tr>\n      <th>4997498</th>\n      <td>0.102222</td>\n      <td>5</td>\n      <td>3</td>\n      <td>2</td>\n      <td>5</td>\n      <td>0</td>\n      <td>0</td>\n      <td>1</td>\n      <td>0</td>\n      <td>0</td>\n      <td>...</td>\n      <td>0</td>\n      <td>0</td>\n      <td>0</td>\n      <td>0</td>\n      <td>0</td>\n      <td>0</td>\n      <td>0.000331</td>\n      <td>0</td>\n      <td>1</td>\n      <td>0</td>\n    </tr>\n  </tbody>\n</table>\n<p>4997499 rows × 22 columns</p>\n</div>"
     },
     "execution_count": 7,
     "metadata": {},
     "output_type": "execute_result"
    }
   ],
   "source": [
    "X = data_en.drop(['passed'], axis=1)\n",
    "y = data_en['passed']\n",
    "X"
   ],
   "metadata": {
    "collapsed": false,
    "pycharm": {
     "name": "#%%\n"
    }
   }
  },
  {
   "cell_type": "code",
   "execution_count": 8,
   "outputs": [
    {
     "name": "stdout",
     "output_type": "stream",
     "text": [
      "1    4193007\n",
      "0     804492\n",
      "Name: passed, dtype: int64\n",
      "4997499\n"
     ]
    }
   ],
   "source": [
    "print(pd.value_counts(y))\n",
    "print(len(data_en))"
   ],
   "metadata": {
    "collapsed": false,
    "pycharm": {
     "name": "#%%\n"
    }
   }
  },
  {
   "cell_type": "code",
   "execution_count": 9,
   "outputs": [],
   "source": [
    "\n",
    "# combination of SMOTE and random undersampling for imbalanced classification\n",
    "from numpy import mean\n",
    "from sklearn.datasets import make_classification\n",
    "from sklearn.model_selection import cross_val_score\n",
    "from sklearn.model_selection import StratifiedKFold\n",
    "from sklearn.tree import DecisionTreeClassifier\n",
    "from imblearn.pipeline import Pipeline\n",
    "from imblearn.over_sampling import SMOTE\n",
    "from imblearn.under_sampling import RandomUnderSampler\n",
    "# generate dataset\n"
   ],
   "metadata": {
    "collapsed": false,
    "pycharm": {
     "name": "#%%\n"
    }
   }
  },
  {
   "cell_type": "code",
   "execution_count": 11,
   "outputs": [
    {
     "name": "stdout",
     "output_type": "stream",
     "text": [
      "Mean ROC AUC: 0.654\n"
     ]
    }
   ],
   "source": [
    "# define model\n",
    "model = RandomForestClassifier(n_estimators = 16, max_depth=16, criterion=\"gini\", min_samples_split=64, min_samples_leaf=32, max_features=8,oob_score=True)\n",
    "# define evaluation procedure\n",
    "cv = StratifiedKFold(n_splits=5)\n",
    "# evaluate model\n",
    "scores = cross_val_score(model, X, y, scoring='roc_auc', cv=cv, n_jobs=-1)\n",
    "# summarize performance\n",
    "print('Mean ROC AUC: %.3f' % mean(scores))"
   ],
   "metadata": {
    "collapsed": false,
    "pycharm": {
     "name": "#%%\n"
    }
   }
  },
  {
   "cell_type": "code",
   "execution_count": 12,
   "outputs": [
    {
     "ename": "NotFittedError",
     "evalue": "This RandomForestClassifier instance is not fitted yet. Call 'fit' with appropriate arguments before using this estimator.",
     "output_type": "error",
     "traceback": [
      "\u001B[1;31m---------------------------------------------------------------------------\u001B[0m",
      "\u001B[1;31mNotFittedError\u001B[0m                            Traceback (most recent call last)",
      "Cell \u001B[1;32mIn[12], line 1\u001B[0m\n\u001B[1;32m----> 1\u001B[0m \u001B[43mmodel\u001B[49m\u001B[38;5;241;43m.\u001B[39;49m\u001B[43mfeature_importances_\u001B[49m\n",
      "File \u001B[1;32mc:\\users\\hresk\\pycharmprojects\\bakalarka\\venv\\lib\\site-packages\\sklearn\\ensemble\\_forest.py:628\u001B[0m, in \u001B[0;36mBaseForest.feature_importances_\u001B[1;34m(self)\u001B[0m\n\u001B[0;32m    607\u001B[0m \u001B[38;5;129m@property\u001B[39m\n\u001B[0;32m    608\u001B[0m \u001B[38;5;28;01mdef\u001B[39;00m \u001B[38;5;21mfeature_importances_\u001B[39m(\u001B[38;5;28mself\u001B[39m):\n\u001B[0;32m    609\u001B[0m \u001B[38;5;250m    \u001B[39m\u001B[38;5;124;03m\"\"\"\u001B[39;00m\n\u001B[0;32m    610\u001B[0m \u001B[38;5;124;03m    The impurity-based feature importances.\u001B[39;00m\n\u001B[0;32m    611\u001B[0m \n\u001B[1;32m   (...)\u001B[0m\n\u001B[0;32m    626\u001B[0m \u001B[38;5;124;03m        array of zeros.\u001B[39;00m\n\u001B[0;32m    627\u001B[0m \u001B[38;5;124;03m    \"\"\"\u001B[39;00m\n\u001B[1;32m--> 628\u001B[0m     \u001B[43mcheck_is_fitted\u001B[49m\u001B[43m(\u001B[49m\u001B[38;5;28;43mself\u001B[39;49m\u001B[43m)\u001B[49m\n\u001B[0;32m    630\u001B[0m     all_importances \u001B[38;5;241m=\u001B[39m Parallel(n_jobs\u001B[38;5;241m=\u001B[39m\u001B[38;5;28mself\u001B[39m\u001B[38;5;241m.\u001B[39mn_jobs, prefer\u001B[38;5;241m=\u001B[39m\u001B[38;5;124m\"\u001B[39m\u001B[38;5;124mthreads\u001B[39m\u001B[38;5;124m\"\u001B[39m)(\n\u001B[0;32m    631\u001B[0m         delayed(\u001B[38;5;28mgetattr\u001B[39m)(tree, \u001B[38;5;124m\"\u001B[39m\u001B[38;5;124mfeature_importances_\u001B[39m\u001B[38;5;124m\"\u001B[39m)\n\u001B[0;32m    632\u001B[0m         \u001B[38;5;28;01mfor\u001B[39;00m tree \u001B[38;5;129;01min\u001B[39;00m \u001B[38;5;28mself\u001B[39m\u001B[38;5;241m.\u001B[39mestimators_\n\u001B[0;32m    633\u001B[0m         \u001B[38;5;28;01mif\u001B[39;00m tree\u001B[38;5;241m.\u001B[39mtree_\u001B[38;5;241m.\u001B[39mnode_count \u001B[38;5;241m>\u001B[39m \u001B[38;5;241m1\u001B[39m\n\u001B[0;32m    634\u001B[0m     )\n\u001B[0;32m    636\u001B[0m     \u001B[38;5;28;01mif\u001B[39;00m \u001B[38;5;129;01mnot\u001B[39;00m all_importances:\n",
      "File \u001B[1;32mc:\\users\\hresk\\pycharmprojects\\bakalarka\\venv\\lib\\site-packages\\sklearn\\utils\\validation.py:1390\u001B[0m, in \u001B[0;36mcheck_is_fitted\u001B[1;34m(estimator, attributes, msg, all_or_any)\u001B[0m\n\u001B[0;32m   1385\u001B[0m     fitted \u001B[38;5;241m=\u001B[39m [\n\u001B[0;32m   1386\u001B[0m         v \u001B[38;5;28;01mfor\u001B[39;00m v \u001B[38;5;129;01min\u001B[39;00m \u001B[38;5;28mvars\u001B[39m(estimator) \u001B[38;5;28;01mif\u001B[39;00m v\u001B[38;5;241m.\u001B[39mendswith(\u001B[38;5;124m\"\u001B[39m\u001B[38;5;124m_\u001B[39m\u001B[38;5;124m\"\u001B[39m) \u001B[38;5;129;01mand\u001B[39;00m \u001B[38;5;129;01mnot\u001B[39;00m v\u001B[38;5;241m.\u001B[39mstartswith(\u001B[38;5;124m\"\u001B[39m\u001B[38;5;124m__\u001B[39m\u001B[38;5;124m\"\u001B[39m)\n\u001B[0;32m   1387\u001B[0m     ]\n\u001B[0;32m   1389\u001B[0m \u001B[38;5;28;01mif\u001B[39;00m \u001B[38;5;129;01mnot\u001B[39;00m fitted:\n\u001B[1;32m-> 1390\u001B[0m     \u001B[38;5;28;01mraise\u001B[39;00m NotFittedError(msg \u001B[38;5;241m%\u001B[39m {\u001B[38;5;124m\"\u001B[39m\u001B[38;5;124mname\u001B[39m\u001B[38;5;124m\"\u001B[39m: \u001B[38;5;28mtype\u001B[39m(estimator)\u001B[38;5;241m.\u001B[39m\u001B[38;5;18m__name__\u001B[39m})\n",
      "\u001B[1;31mNotFittedError\u001B[0m: This RandomForestClassifier instance is not fitted yet. Call 'fit' with appropriate arguments before using this estimator."
     ]
    }
   ],
   "source": [],
   "metadata": {
    "collapsed": false,
    "pycharm": {
     "name": "#%%\n"
    }
   }
  },
  {
   "cell_type": "code",
   "execution_count": null,
   "outputs": [],
   "source": [
    "#####################################################################################################################################\n"
   ],
   "metadata": {
    "collapsed": false,
    "pycharm": {
     "name": "#%%\n"
    }
   }
  },
  {
   "cell_type": "code",
   "execution_count": null,
   "outputs": [],
   "source": [
    "#OVER-UNDER-SAMPLING"
   ],
   "metadata": {
    "collapsed": false,
    "pycharm": {
     "name": "#%%\n"
    }
   }
  },
  {
   "cell_type": "code",
   "execution_count": null,
   "outputs": [],
   "source": [
    "#####################################################################################################################################"
   ],
   "metadata": {
    "collapsed": false,
    "pycharm": {
     "name": "#%%\n"
    }
   }
  },
  {
   "cell_type": "code",
   "execution_count": 10,
   "outputs": [],
   "source": [
    "\n",
    "# define model\n",
    "model = RandomForestClassifier(n_estimators = 16, max_depth=16, criterion=\"gini\", min_samples_split=64, min_samples_leaf=32, max_features=\"sqrt\",oob_score=True)\n",
    "# define pipeline\n",
    "over = SMOTE(sampling_strategy=0.25)\n",
    "under = RandomUnderSampler(sampling_strategy=0.5)\n"
   ],
   "metadata": {
    "collapsed": false,
    "pycharm": {
     "name": "#%%\n"
    }
   }
  },
  {
   "cell_type": "code",
   "execution_count": null,
   "outputs": [],
   "source": [
    "print(pd.value_counts(y))"
   ],
   "metadata": {
    "collapsed": false,
    "pycharm": {
     "name": "#%%\n"
    }
   }
  },
  {
   "cell_type": "code",
   "execution_count": 11,
   "outputs": [],
   "source": [
    "\n",
    "X_train_smote, y_train_smote = over.fit_resample(X, y)"
   ],
   "metadata": {
    "collapsed": false,
    "pycharm": {
     "name": "#%%\n"
    }
   }
  },
  {
   "cell_type": "code",
   "execution_count": 12,
   "outputs": [
    {
     "name": "stdout",
     "output_type": "stream",
     "text": [
      "1    4193007\n",
      "0    1048251\n",
      "Name: passed, dtype: int64\n",
      "5241258\n"
     ]
    }
   ],
   "source": [
    "print(pd.value_counts(y_train_smote))\n",
    "print(len(y_train_smote))"
   ],
   "metadata": {
    "collapsed": false,
    "pycharm": {
     "name": "#%%\n"
    }
   }
  },
  {
   "cell_type": "code",
   "execution_count": 13,
   "outputs": [],
   "source": [
    "X_final, y_final = under.fit_resample(X_train_smote, y_train_smote)\n"
   ],
   "metadata": {
    "collapsed": false,
    "pycharm": {
     "name": "#%%\n"
    }
   }
  },
  {
   "cell_type": "code",
   "execution_count": 15,
   "outputs": [
    {
     "name": "stdout",
     "output_type": "stream",
     "text": [
      "1    2096502\n",
      "0    1048251\n",
      "Name: passed, dtype: int64\n",
      "3144753\n"
     ]
    }
   ],
   "source": [
    "print(pd.value_counts(y_final))\n",
    "print(len(y_final))"
   ],
   "metadata": {
    "collapsed": false,
    "pycharm": {
     "name": "#%%\n"
    }
   }
  },
  {
   "cell_type": "code",
   "execution_count": 15,
   "outputs": [],
   "source": [
    "cv = StratifiedKFold(n_splits=5)"
   ],
   "metadata": {
    "collapsed": false,
    "pycharm": {
     "name": "#%%\n"
    }
   }
  },
  {
   "cell_type": "code",
   "execution_count": 17,
   "outputs": [
    {
     "name": "stdout",
     "output_type": "stream",
     "text": [
      "Mean ROC AUC: 0.655\n"
     ]
    }
   ],
   "source": [
    "# evaluate model\n",
    "scores = cross_val_score(model, X_final, y_final, scoring='roc_auc', cv=cv, n_jobs=-1)\n",
    "# summarize performance\n",
    "print('Mean ROC AUC: %.3f' % mean(scores))"
   ],
   "metadata": {
    "collapsed": false,
    "pycharm": {
     "name": "#%%\n"
    }
   }
  },
  {
   "cell_type": "code",
   "execution_count": 21,
   "outputs": [
    {
     "name": "stdout",
     "output_type": "stream",
     "text": [
      "1    4193007\n",
      "0     804492\n",
      "Name: passed, dtype: int64\n",
      "4997499\n"
     ]
    }
   ],
   "source": [
    "print(pd.value_counts(y))\n",
    "print(len(y))"
   ],
   "metadata": {
    "collapsed": false,
    "pycharm": {
     "name": "#%%\n"
    }
   }
  },
  {
   "cell_type": "code",
   "execution_count": null,
   "outputs": [],
   "source": [],
   "metadata": {
    "collapsed": false,
    "pycharm": {
     "name": "#%%\n"
    }
   }
  },
  {
   "cell_type": "code",
   "execution_count": null,
   "outputs": [],
   "source": [],
   "metadata": {
    "collapsed": false,
    "pycharm": {
     "name": "#%%\n"
    }
   }
  },
  {
   "cell_type": "code",
   "execution_count": 22,
   "outputs": [],
   "source": [
    "from sklearn.model_selection import train_test_split\n",
    "X_train, X_test, y_train, y_test = train_test_split(X, y,\n",
    "                                                    stratify=y,\n",
    "                                                    test_size=0.25)"
   ],
   "metadata": {
    "collapsed": false,
    "pycharm": {
     "name": "#%%\n"
    }
   }
  },
  {
   "cell_type": "code",
   "execution_count": 24,
   "outputs": [
    {
     "name": "stdout",
     "output_type": "stream",
     "text": [
      "1    1048252\n",
      "0     201123\n",
      "Name: passed, dtype: int64\n",
      "1249375\n"
     ]
    }
   ],
   "source": [
    "print(pd.value_counts(y_test))\n",
    "print(len(y_test))"
   ],
   "metadata": {
    "collapsed": false,
    "pycharm": {
     "name": "#%%\n"
    }
   }
  },
  {
   "cell_type": "code",
   "execution_count": 25,
   "outputs": [
    {
     "name": "stdout",
     "output_type": "stream",
     "text": [
      "1    3144755\n",
      "0     603369\n",
      "Name: passed, dtype: int64\n",
      "3748124\n"
     ]
    }
   ],
   "source": [
    "print(pd.value_counts(y_train))\n",
    "print(len(y_train))"
   ],
   "metadata": {
    "collapsed": false,
    "pycharm": {
     "name": "#%%\n"
    }
   }
  },
  {
   "cell_type": "code",
   "execution_count": 26,
   "outputs": [],
   "source": [
    "X_train_n, X_test_n, y_train_n, y_test_n = train_test_split(X, y, test_size=0.25)"
   ],
   "metadata": {
    "collapsed": false,
    "pycharm": {
     "name": "#%%\n"
    }
   }
  },
  {
   "cell_type": "code",
   "execution_count": 27,
   "outputs": [
    {
     "name": "stdout",
     "output_type": "stream",
     "text": [
      "1    3144925\n",
      "0     603199\n",
      "Name: passed, dtype: int64\n",
      "3748124\n",
      "1    1048082\n",
      "0     201293\n",
      "Name: passed, dtype: int64\n",
      "1249375\n"
     ]
    }
   ],
   "source": [
    "print(pd.value_counts(y_train_n))\n",
    "print(len(y_train_n))\n",
    "print(pd.value_counts(y_test_n))\n",
    "print(len(y_test_n))"
   ],
   "metadata": {
    "collapsed": false,
    "pycharm": {
     "name": "#%%\n"
    }
   }
  },
  {
   "cell_type": "code",
   "execution_count": 13,
   "outputs": [],
   "source": [
    "model = RandomForestClassifier(n_estimators = 16, max_depth=16, criterion=\"gini\", min_samples_split=64, min_samples_leaf=32, max_features=\"sqrt\")"
   ],
   "metadata": {
    "collapsed": false,
    "pycharm": {
     "name": "#%%\n"
    }
   }
  },
  {
   "cell_type": "code",
   "execution_count": 30,
   "outputs": [
    {
     "name": "stdout",
     "output_type": "stream",
     "text": [
      "Mean ROC AUC: 0.650\n"
     ]
    }
   ],
   "source": [
    "scores = cross_val_score(model, X, y, scoring='roc_auc', cv=cv, n_jobs=-1)\n",
    "# summarize performance\n",
    "print('Mean ROC AUC: %.3f' % mean(scores))"
   ],
   "metadata": {
    "collapsed": false,
    "pycharm": {
     "name": "#%%\n"
    }
   }
  },
  {
   "cell_type": "code",
   "execution_count": null,
   "outputs": [],
   "source": [],
   "metadata": {
    "collapsed": false,
    "pycharm": {
     "name": "#%%\n"
    }
   }
  },
  {
   "cell_type": "code",
   "execution_count": null,
   "outputs": [],
   "source": [],
   "metadata": {
    "collapsed": false,
    "pycharm": {
     "name": "#%%\n"
    }
   }
  },
  {
   "cell_type": "code",
   "execution_count": 31,
   "outputs": [],
   "source": [
    "# define model\n",
    "model = RandomForestClassifier(n_estimators = 16, max_depth=16, criterion=\"gini\", min_samples_split=64, min_samples_leaf=32, max_features=\"sqrt\",oob_score=True)\n",
    "# define pipeline\n",
    "over = SMOTE()"
   ],
   "metadata": {
    "collapsed": false,
    "pycharm": {
     "name": "#%%\n"
    }
   }
  },
  {
   "cell_type": "code",
   "execution_count": 35,
   "outputs": [],
   "source": [
    "X_train_smote, y_train_smote = over.fit_resample(X, y)"
   ],
   "metadata": {
    "collapsed": false,
    "pycharm": {
     "name": "#%%\n"
    }
   }
  },
  {
   "cell_type": "code",
   "execution_count": 36,
   "outputs": [
    {
     "name": "stdout",
     "output_type": "stream",
     "text": [
      "Mean ROC AUC: 0.877\n"
     ]
    }
   ],
   "source": [
    "scores = cross_val_score(model, X_train_smote, y_train_smote, scoring='roc_auc', cv=cv, n_jobs=-1)\n",
    "# summarize performance\n",
    "print('Mean ROC AUC: %.3f' % mean(scores))"
   ],
   "metadata": {
    "collapsed": false,
    "pycharm": {
     "name": "#%%\n"
    }
   }
  },
  {
   "cell_type": "code",
   "execution_count": 10,
   "outputs": [
    {
     "ename": "NameError",
     "evalue": "name 'y_train_smote' is not defined",
     "output_type": "error",
     "traceback": [
      "\u001B[1;31m---------------------------------------------------------------------------\u001B[0m",
      "\u001B[1;31mNameError\u001B[0m                                 Traceback (most recent call last)",
      "Cell \u001B[1;32mIn[10], line 1\u001B[0m\n\u001B[1;32m----> 1\u001B[0m \u001B[38;5;28mprint\u001B[39m(pd\u001B[38;5;241m.\u001B[39mvalue_counts(\u001B[43my_train_smote\u001B[49m))\n",
      "\u001B[1;31mNameError\u001B[0m: name 'y_train_smote' is not defined"
     ]
    }
   ],
   "source": [
    "print(pd.value_counts(y_train_smote))"
   ],
   "metadata": {
    "collapsed": false,
    "pycharm": {
     "name": "#%%\n"
    }
   }
  },
  {
   "cell_type": "code",
   "execution_count": null,
   "outputs": [],
   "source": [],
   "metadata": {
    "collapsed": false,
    "pycharm": {
     "name": "#%%\n"
    }
   }
  },
  {
   "cell_type": "code",
   "execution_count": 11,
   "outputs": [],
   "source": [
    "under = RandomUnderSampler(sampling_strategy=0.3)\n",
    "X_under, y_under = under.fit_resample(X, y)"
   ],
   "metadata": {
    "collapsed": false,
    "pycharm": {
     "name": "#%%\n"
    }
   }
  },
  {
   "cell_type": "code",
   "execution_count": 16,
   "outputs": [
    {
     "name": "stdout",
     "output_type": "stream",
     "text": [
      "Mean ROC AUC: 0.648\n"
     ]
    }
   ],
   "source": [
    "scores = cross_val_score(model, X_under, y_under, scoring='roc_auc', cv=cv, n_jobs=-1)\n",
    "# summarize performance\n",
    "print('Mean ROC AUC: %.3f' % mean(scores))"
   ],
   "metadata": {
    "collapsed": false,
    "pycharm": {
     "name": "#%%\n"
    }
   }
  },
  {
   "cell_type": "code",
   "execution_count": 17,
   "outputs": [
    {
     "name": "stdout",
     "output_type": "stream",
     "text": [
      "1    2681640\n",
      "0     804492\n",
      "Name: passed, dtype: int64\n"
     ]
    }
   ],
   "source": [
    "print(pd.value_counts(y_under))\n"
   ],
   "metadata": {
    "collapsed": false,
    "pycharm": {
     "name": "#%%\n"
    }
   }
  },
  {
   "cell_type": "code",
   "execution_count": null,
   "outputs": [],
   "source": [],
   "metadata": {
    "collapsed": false,
    "pycharm": {
     "name": "#%%\n"
    }
   }
  },
  {
   "cell_type": "code",
   "execution_count": 33,
   "outputs": [],
   "source": [
    "from imblearn.ensemble import BalancedRandomForestClassifier\n",
    "model = BalancedRandomForestClassifier(n_estimators=10)"
   ],
   "metadata": {
    "collapsed": false,
    "pycharm": {
     "name": "#%%\n"
    }
   }
  },
  {
   "cell_type": "code",
   "execution_count": 34,
   "outputs": [
    {
     "name": "stdout",
     "output_type": "stream",
     "text": [
      "Mean ROC AUC: 0.592\n"
     ]
    }
   ],
   "source": [
    "scores = cross_val_score(model, X, y, scoring='roc_auc', cv=cv, n_jobs=-1)\n",
    "# summarize performance\n",
    "print('Mean ROC AUC: %.3f' % mean(scores))"
   ],
   "metadata": {
    "collapsed": false,
    "pycharm": {
     "name": "#%%\n"
    }
   }
  },
  {
   "cell_type": "code",
   "execution_count": null,
   "outputs": [],
   "source": [],
   "metadata": {
    "collapsed": false,
    "pycharm": {
     "name": "#%%\n"
    }
   }
  }
 ],
 "metadata": {
  "kernelspec": {
   "display_name": "Python 3",
   "language": "python",
   "name": "python3"
  },
  "language_info": {
   "codemirror_mode": {
    "name": "ipython",
    "version": 2
   },
   "file_extension": ".py",
   "mimetype": "text/x-python",
   "name": "python",
   "nbconvert_exporter": "python",
   "pygments_lexer": "ipython2",
   "version": "2.7.6"
  }
 },
 "nbformat": 4,
 "nbformat_minor": 0
}