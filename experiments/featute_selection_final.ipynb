{
 "cells": [
  {
   "cell_type": "code",
   "execution_count": 1,
   "metadata": {
    "collapsed": true
   },
   "outputs": [],
   "source": [
    "import matplotlib\n",
    "import pandas as pd\n",
    "import numpy as np\n",
    "import matplotlib.pyplot as plt\n",
    "import seaborn as sns\n",
    "from IPython.display import display\n",
    "\n",
    "# inicializujeme knižnicu seaborn\n",
    "sns.set()"
   ]
  },
  {
   "cell_type": "code",
   "execution_count": 2,
   "outputs": [
    {
     "data": {
      "text/plain": "          p_recall   timestamp     delta user_id learning_language  \\\n0         1.000000  1362076081  27649635    u:FO                de   \n1         0.500000  1362076081  27649635    u:FO                de   \n2         1.000000  1362076081  27649635    u:FO                de   \n3         0.500000  1362076081  27649635    u:FO                de   \n4         1.000000  1362076081  27649635    u:FO                de   \n...            ...         ...       ...     ...               ...   \n12854221  0.800000  1363104897       368  u:i5D8                en   \n12854222  0.800000  1363104897       368  u:i5D8                en   \n12854223  1.000000  1363104897       368  u:i5D8                en   \n12854224  0.600000  1363104897       368  u:i5D8                en   \n12854225  0.666667  1363104897       368  u:i5D8                en   \n\n         ui_language                         lexeme_id  \\\n0                 en  76390c1350a8dac31186187e2fe1e178   \n1                 en  7dfd7086f3671685e2cf1c1da72796d7   \n2                 en  35a54c25a2cda8127343f6a82e6f6b7d   \n3                 en  0cf63ffe3dda158bc3dbd55682b355ae   \n4                 en  84920990d78044db53c1b012f5bf9ab5   \n...              ...                               ...   \n12854221          it  d5efc552aaea3109eb5388aa1ec8673d   \n12854222          it  a826c47947d68549fa81e19cafa57ba0   \n12854223          it  5e29d77697d23070a1fb92eb6c90e9b6   \n12854224          it  cdfecc9247566d40bb964a218c54c783   \n12854225          it  c52ab45d4e22ee7580041911159e3c0c   \n\n                             lexeme_string  history_seen  history_correct  \\\n0         lernt/lernen<vblex><pri><p3><sg>             6                4   \n1            die/die<det><def><f><sg><nom>             4                4   \n2                 mann/mann<n><m><sg><nom>             5                4   \n3                 frau/frau<n><f><sg><nom>             6                5   \n4           das/das<det><def><nt><sg><nom>             4                4   \n...                                    ...           ...              ...   \n12854221             the/the<det><def><sp>             6                4   \n12854222              eat/eat<vblex><pres>             4                4   \n12854223                bread/bread<n><sg>             4                4   \n12854224          drink/drink<vblex><pres>             3                2   \n12854225                water/water<n><sg>             5                3   \n\n          session_seen  session_correct  \n0                    2                2  \n1                    2                1  \n2                    1                1  \n3                    2                1  \n4                    1                1  \n...                ...              ...  \n12854221             5                4  \n12854222             5                4  \n12854223             4                4  \n12854224             5                3  \n12854225             9                6  \n\n[12854226 rows x 12 columns]",
      "text/html": "<div>\n<style scoped>\n    .dataframe tbody tr th:only-of-type {\n        vertical-align: middle;\n    }\n\n    .dataframe tbody tr th {\n        vertical-align: top;\n    }\n\n    .dataframe thead th {\n        text-align: right;\n    }\n</style>\n<table border=\"1\" class=\"dataframe\">\n  <thead>\n    <tr style=\"text-align: right;\">\n      <th></th>\n      <th>p_recall</th>\n      <th>timestamp</th>\n      <th>delta</th>\n      <th>user_id</th>\n      <th>learning_language</th>\n      <th>ui_language</th>\n      <th>lexeme_id</th>\n      <th>lexeme_string</th>\n      <th>history_seen</th>\n      <th>history_correct</th>\n      <th>session_seen</th>\n      <th>session_correct</th>\n    </tr>\n  </thead>\n  <tbody>\n    <tr>\n      <th>0</th>\n      <td>1.000000</td>\n      <td>1362076081</td>\n      <td>27649635</td>\n      <td>u:FO</td>\n      <td>de</td>\n      <td>en</td>\n      <td>76390c1350a8dac31186187e2fe1e178</td>\n      <td>lernt/lernen&lt;vblex&gt;&lt;pri&gt;&lt;p3&gt;&lt;sg&gt;</td>\n      <td>6</td>\n      <td>4</td>\n      <td>2</td>\n      <td>2</td>\n    </tr>\n    <tr>\n      <th>1</th>\n      <td>0.500000</td>\n      <td>1362076081</td>\n      <td>27649635</td>\n      <td>u:FO</td>\n      <td>de</td>\n      <td>en</td>\n      <td>7dfd7086f3671685e2cf1c1da72796d7</td>\n      <td>die/die&lt;det&gt;&lt;def&gt;&lt;f&gt;&lt;sg&gt;&lt;nom&gt;</td>\n      <td>4</td>\n      <td>4</td>\n      <td>2</td>\n      <td>1</td>\n    </tr>\n    <tr>\n      <th>2</th>\n      <td>1.000000</td>\n      <td>1362076081</td>\n      <td>27649635</td>\n      <td>u:FO</td>\n      <td>de</td>\n      <td>en</td>\n      <td>35a54c25a2cda8127343f6a82e6f6b7d</td>\n      <td>mann/mann&lt;n&gt;&lt;m&gt;&lt;sg&gt;&lt;nom&gt;</td>\n      <td>5</td>\n      <td>4</td>\n      <td>1</td>\n      <td>1</td>\n    </tr>\n    <tr>\n      <th>3</th>\n      <td>0.500000</td>\n      <td>1362076081</td>\n      <td>27649635</td>\n      <td>u:FO</td>\n      <td>de</td>\n      <td>en</td>\n      <td>0cf63ffe3dda158bc3dbd55682b355ae</td>\n      <td>frau/frau&lt;n&gt;&lt;f&gt;&lt;sg&gt;&lt;nom&gt;</td>\n      <td>6</td>\n      <td>5</td>\n      <td>2</td>\n      <td>1</td>\n    </tr>\n    <tr>\n      <th>4</th>\n      <td>1.000000</td>\n      <td>1362076081</td>\n      <td>27649635</td>\n      <td>u:FO</td>\n      <td>de</td>\n      <td>en</td>\n      <td>84920990d78044db53c1b012f5bf9ab5</td>\n      <td>das/das&lt;det&gt;&lt;def&gt;&lt;nt&gt;&lt;sg&gt;&lt;nom&gt;</td>\n      <td>4</td>\n      <td>4</td>\n      <td>1</td>\n      <td>1</td>\n    </tr>\n    <tr>\n      <th>...</th>\n      <td>...</td>\n      <td>...</td>\n      <td>...</td>\n      <td>...</td>\n      <td>...</td>\n      <td>...</td>\n      <td>...</td>\n      <td>...</td>\n      <td>...</td>\n      <td>...</td>\n      <td>...</td>\n      <td>...</td>\n    </tr>\n    <tr>\n      <th>12854221</th>\n      <td>0.800000</td>\n      <td>1363104897</td>\n      <td>368</td>\n      <td>u:i5D8</td>\n      <td>en</td>\n      <td>it</td>\n      <td>d5efc552aaea3109eb5388aa1ec8673d</td>\n      <td>the/the&lt;det&gt;&lt;def&gt;&lt;sp&gt;</td>\n      <td>6</td>\n      <td>4</td>\n      <td>5</td>\n      <td>4</td>\n    </tr>\n    <tr>\n      <th>12854222</th>\n      <td>0.800000</td>\n      <td>1363104897</td>\n      <td>368</td>\n      <td>u:i5D8</td>\n      <td>en</td>\n      <td>it</td>\n      <td>a826c47947d68549fa81e19cafa57ba0</td>\n      <td>eat/eat&lt;vblex&gt;&lt;pres&gt;</td>\n      <td>4</td>\n      <td>4</td>\n      <td>5</td>\n      <td>4</td>\n    </tr>\n    <tr>\n      <th>12854223</th>\n      <td>1.000000</td>\n      <td>1363104897</td>\n      <td>368</td>\n      <td>u:i5D8</td>\n      <td>en</td>\n      <td>it</td>\n      <td>5e29d77697d23070a1fb92eb6c90e9b6</td>\n      <td>bread/bread&lt;n&gt;&lt;sg&gt;</td>\n      <td>4</td>\n      <td>4</td>\n      <td>4</td>\n      <td>4</td>\n    </tr>\n    <tr>\n      <th>12854224</th>\n      <td>0.600000</td>\n      <td>1363104897</td>\n      <td>368</td>\n      <td>u:i5D8</td>\n      <td>en</td>\n      <td>it</td>\n      <td>cdfecc9247566d40bb964a218c54c783</td>\n      <td>drink/drink&lt;vblex&gt;&lt;pres&gt;</td>\n      <td>3</td>\n      <td>2</td>\n      <td>5</td>\n      <td>3</td>\n    </tr>\n    <tr>\n      <th>12854225</th>\n      <td>0.666667</td>\n      <td>1363104897</td>\n      <td>368</td>\n      <td>u:i5D8</td>\n      <td>en</td>\n      <td>it</td>\n      <td>c52ab45d4e22ee7580041911159e3c0c</td>\n      <td>water/water&lt;n&gt;&lt;sg&gt;</td>\n      <td>5</td>\n      <td>3</td>\n      <td>9</td>\n      <td>6</td>\n    </tr>\n  </tbody>\n</table>\n<p>12854226 rows × 12 columns</p>\n</div>"
     },
     "execution_count": 2,
     "metadata": {},
     "output_type": "execute_result"
    }
   ],
   "source": [
    "data = pd.read_csv(\"learning_traces.13m.csv\")\n",
    "data"
   ],
   "metadata": {
    "collapsed": false,
    "pycharm": {
     "name": "#%%\n"
    }
   }
  },
  {
   "cell_type": "code",
   "execution_count": 3,
   "outputs": [
    {
     "data": {
      "text/plain": "          p_recall   timestamp        delta user_id learning_language  \\\n0         1.000000  1362076081  7680.454167    u:FO                de   \n1         0.500000  1362076081  7680.454167    u:FO                de   \n2         1.000000  1362076081  7680.454167    u:FO                de   \n3         0.500000  1362076081  7680.454167    u:FO                de   \n4         1.000000  1362076081  7680.454167    u:FO                de   \n...            ...         ...          ...     ...               ...   \n12854221  0.800000  1363104897     0.102222  u:i5D8                en   \n12854222  0.800000  1363104897     0.102222  u:i5D8                en   \n12854223  1.000000  1363104897     0.102222  u:i5D8                en   \n12854224  0.600000  1363104897     0.102222  u:i5D8                en   \n12854225  0.666667  1363104897     0.102222  u:i5D8                en   \n\n         ui_language                         lexeme_id  \\\n0                 en  76390c1350a8dac31186187e2fe1e178   \n1                 en  7dfd7086f3671685e2cf1c1da72796d7   \n2                 en  35a54c25a2cda8127343f6a82e6f6b7d   \n3                 en  0cf63ffe3dda158bc3dbd55682b355ae   \n4                 en  84920990d78044db53c1b012f5bf9ab5   \n...              ...                               ...   \n12854221          it  d5efc552aaea3109eb5388aa1ec8673d   \n12854222          it  a826c47947d68549fa81e19cafa57ba0   \n12854223          it  5e29d77697d23070a1fb92eb6c90e9b6   \n12854224          it  cdfecc9247566d40bb964a218c54c783   \n12854225          it  c52ab45d4e22ee7580041911159e3c0c   \n\n                             lexeme_string  history_seen  history_correct  \\\n0         lernt/lernen<vblex><pri><p3><sg>             6                4   \n1            die/die<det><def><f><sg><nom>             4                4   \n2                 mann/mann<n><m><sg><nom>             5                4   \n3                 frau/frau<n><f><sg><nom>             6                5   \n4           das/das<det><def><nt><sg><nom>             4                4   \n...                                    ...           ...              ...   \n12854221             the/the<det><def><sp>             6                4   \n12854222              eat/eat<vblex><pres>             4                4   \n12854223                bread/bread<n><sg>             4                4   \n12854224          drink/drink<vblex><pres>             3                2   \n12854225                water/water<n><sg>             5                3   \n\n          session_seen  session_correct  \n0                    2                2  \n1                    2                1  \n2                    1                1  \n3                    2                1  \n4                    1                1  \n...                ...              ...  \n12854221             5                4  \n12854222             5                4  \n12854223             4                4  \n12854224             5                3  \n12854225             9                6  \n\n[12854226 rows x 12 columns]",
      "text/html": "<div>\n<style scoped>\n    .dataframe tbody tr th:only-of-type {\n        vertical-align: middle;\n    }\n\n    .dataframe tbody tr th {\n        vertical-align: top;\n    }\n\n    .dataframe thead th {\n        text-align: right;\n    }\n</style>\n<table border=\"1\" class=\"dataframe\">\n  <thead>\n    <tr style=\"text-align: right;\">\n      <th></th>\n      <th>p_recall</th>\n      <th>timestamp</th>\n      <th>delta</th>\n      <th>user_id</th>\n      <th>learning_language</th>\n      <th>ui_language</th>\n      <th>lexeme_id</th>\n      <th>lexeme_string</th>\n      <th>history_seen</th>\n      <th>history_correct</th>\n      <th>session_seen</th>\n      <th>session_correct</th>\n    </tr>\n  </thead>\n  <tbody>\n    <tr>\n      <th>0</th>\n      <td>1.000000</td>\n      <td>1362076081</td>\n      <td>7680.454167</td>\n      <td>u:FO</td>\n      <td>de</td>\n      <td>en</td>\n      <td>76390c1350a8dac31186187e2fe1e178</td>\n      <td>lernt/lernen&lt;vblex&gt;&lt;pri&gt;&lt;p3&gt;&lt;sg&gt;</td>\n      <td>6</td>\n      <td>4</td>\n      <td>2</td>\n      <td>2</td>\n    </tr>\n    <tr>\n      <th>1</th>\n      <td>0.500000</td>\n      <td>1362076081</td>\n      <td>7680.454167</td>\n      <td>u:FO</td>\n      <td>de</td>\n      <td>en</td>\n      <td>7dfd7086f3671685e2cf1c1da72796d7</td>\n      <td>die/die&lt;det&gt;&lt;def&gt;&lt;f&gt;&lt;sg&gt;&lt;nom&gt;</td>\n      <td>4</td>\n      <td>4</td>\n      <td>2</td>\n      <td>1</td>\n    </tr>\n    <tr>\n      <th>2</th>\n      <td>1.000000</td>\n      <td>1362076081</td>\n      <td>7680.454167</td>\n      <td>u:FO</td>\n      <td>de</td>\n      <td>en</td>\n      <td>35a54c25a2cda8127343f6a82e6f6b7d</td>\n      <td>mann/mann&lt;n&gt;&lt;m&gt;&lt;sg&gt;&lt;nom&gt;</td>\n      <td>5</td>\n      <td>4</td>\n      <td>1</td>\n      <td>1</td>\n    </tr>\n    <tr>\n      <th>3</th>\n      <td>0.500000</td>\n      <td>1362076081</td>\n      <td>7680.454167</td>\n      <td>u:FO</td>\n      <td>de</td>\n      <td>en</td>\n      <td>0cf63ffe3dda158bc3dbd55682b355ae</td>\n      <td>frau/frau&lt;n&gt;&lt;f&gt;&lt;sg&gt;&lt;nom&gt;</td>\n      <td>6</td>\n      <td>5</td>\n      <td>2</td>\n      <td>1</td>\n    </tr>\n    <tr>\n      <th>4</th>\n      <td>1.000000</td>\n      <td>1362076081</td>\n      <td>7680.454167</td>\n      <td>u:FO</td>\n      <td>de</td>\n      <td>en</td>\n      <td>84920990d78044db53c1b012f5bf9ab5</td>\n      <td>das/das&lt;det&gt;&lt;def&gt;&lt;nt&gt;&lt;sg&gt;&lt;nom&gt;</td>\n      <td>4</td>\n      <td>4</td>\n      <td>1</td>\n      <td>1</td>\n    </tr>\n    <tr>\n      <th>...</th>\n      <td>...</td>\n      <td>...</td>\n      <td>...</td>\n      <td>...</td>\n      <td>...</td>\n      <td>...</td>\n      <td>...</td>\n      <td>...</td>\n      <td>...</td>\n      <td>...</td>\n      <td>...</td>\n      <td>...</td>\n    </tr>\n    <tr>\n      <th>12854221</th>\n      <td>0.800000</td>\n      <td>1363104897</td>\n      <td>0.102222</td>\n      <td>u:i5D8</td>\n      <td>en</td>\n      <td>it</td>\n      <td>d5efc552aaea3109eb5388aa1ec8673d</td>\n      <td>the/the&lt;det&gt;&lt;def&gt;&lt;sp&gt;</td>\n      <td>6</td>\n      <td>4</td>\n      <td>5</td>\n      <td>4</td>\n    </tr>\n    <tr>\n      <th>12854222</th>\n      <td>0.800000</td>\n      <td>1363104897</td>\n      <td>0.102222</td>\n      <td>u:i5D8</td>\n      <td>en</td>\n      <td>it</td>\n      <td>a826c47947d68549fa81e19cafa57ba0</td>\n      <td>eat/eat&lt;vblex&gt;&lt;pres&gt;</td>\n      <td>4</td>\n      <td>4</td>\n      <td>5</td>\n      <td>4</td>\n    </tr>\n    <tr>\n      <th>12854223</th>\n      <td>1.000000</td>\n      <td>1363104897</td>\n      <td>0.102222</td>\n      <td>u:i5D8</td>\n      <td>en</td>\n      <td>it</td>\n      <td>5e29d77697d23070a1fb92eb6c90e9b6</td>\n      <td>bread/bread&lt;n&gt;&lt;sg&gt;</td>\n      <td>4</td>\n      <td>4</td>\n      <td>4</td>\n      <td>4</td>\n    </tr>\n    <tr>\n      <th>12854224</th>\n      <td>0.600000</td>\n      <td>1363104897</td>\n      <td>0.102222</td>\n      <td>u:i5D8</td>\n      <td>en</td>\n      <td>it</td>\n      <td>cdfecc9247566d40bb964a218c54c783</td>\n      <td>drink/drink&lt;vblex&gt;&lt;pres&gt;</td>\n      <td>3</td>\n      <td>2</td>\n      <td>5</td>\n      <td>3</td>\n    </tr>\n    <tr>\n      <th>12854225</th>\n      <td>0.666667</td>\n      <td>1363104897</td>\n      <td>0.102222</td>\n      <td>u:i5D8</td>\n      <td>en</td>\n      <td>it</td>\n      <td>c52ab45d4e22ee7580041911159e3c0c</td>\n      <td>water/water&lt;n&gt;&lt;sg&gt;</td>\n      <td>5</td>\n      <td>3</td>\n      <td>9</td>\n      <td>6</td>\n    </tr>\n  </tbody>\n</table>\n<p>12854226 rows × 12 columns</p>\n</div>"
     },
     "execution_count": 3,
     "metadata": {},
     "output_type": "execute_result"
    }
   ],
   "source": [
    "data[\"delta\"] = (data[\"delta\"] / (60 * 60))\n",
    "data"
   ],
   "metadata": {
    "collapsed": false,
    "pycharm": {
     "name": "#%%\n"
    }
   }
  },
  {
   "cell_type": "code",
   "execution_count": 3,
   "outputs": [],
   "source": [
    "import pandas as pd\n",
    "import seaborn as sns\n",
    "import matplotlib.pyplot as plt"
   ],
   "metadata": {
    "collapsed": false,
    "pycharm": {
     "name": "#%%\n"
    }
   }
  },
  {
   "cell_type": "code",
   "execution_count": 20,
   "outputs": [],
   "source": [
    "custom_order = ['es', 'pt', 'it', 'en']"
   ],
   "metadata": {
    "collapsed": false,
    "pycharm": {
     "name": "#%%\n"
    }
   }
  },
  {
   "cell_type": "code",
   "execution_count": 21,
   "outputs": [
    {
     "data": {
      "text/plain": "<AxesSubplot: xlabel='learning_language', ylabel='Count'>"
     },
     "execution_count": 21,
     "metadata": {},
     "output_type": "execute_result"
    },
    {
     "data": {
      "text/plain": "<Figure size 640x480 with 1 Axes>",
      "image/png": "[encoded data removed]"
     },
     "metadata": {},
     "output_type": "display_data"
    }
   ],
   "source": [
    "sns.histplot(data=data, x='learning_language', hue='ui_language',alpha=1, multiple='stack',hue_order=custom_order)\n"
   ],
   "metadata": {
    "collapsed": false,
    "pycharm": {
     "name": "#%%\n"
    }
   }
  },
  {
   "cell_type": "code",
   "execution_count": 19,
   "outputs": [],
   "source": [
    "plt.show()"
   ],
   "metadata": {
    "collapsed": false,
    "pycharm": {
     "name": "#%%\n"
    }
   }
  },
  {
   "cell_type": "code",
   "execution_count": 4,
   "outputs": [
    {
     "data": {
      "text/plain": "          p_recall        delta learning_language ui_language  \\\n0         1.000000  7680.454167                de          en   \n1         0.500000  7680.454167                de          en   \n2         1.000000  7680.454167                de          en   \n3         0.500000  7680.454167                de          en   \n4         1.000000  7680.454167                de          en   \n...            ...          ...               ...         ...   \n12854221  0.800000     0.102222                en          it   \n12854222  0.800000     0.102222                en          it   \n12854223  1.000000     0.102222                en          it   \n12854224  0.600000     0.102222                en          it   \n12854225  0.666667     0.102222                en          it   \n\n                             lexeme_string  history_seen  history_correct  \\\n0         lernt/lernen<vblex><pri><p3><sg>             6                4   \n1            die/die<det><def><f><sg><nom>             4                4   \n2                 mann/mann<n><m><sg><nom>             5                4   \n3                 frau/frau<n><f><sg><nom>             6                5   \n4           das/das<det><def><nt><sg><nom>             4                4   \n...                                    ...           ...              ...   \n12854221             the/the<det><def><sp>             6                4   \n12854222              eat/eat<vblex><pres>             4                4   \n12854223                bread/bread<n><sg>             4                4   \n12854224          drink/drink<vblex><pres>             3                2   \n12854225                water/water<n><sg>             5                3   \n\n          session_seen  \n0                    2  \n1                    2  \n2                    1  \n3                    2  \n4                    1  \n...                ...  \n12854221             5  \n12854222             5  \n12854223             4  \n12854224             5  \n12854225             9  \n\n[12854226 rows x 8 columns]",
      "text/html": "<div>\n<style scoped>\n    .dataframe tbody tr th:only-of-type {\n        vertical-align: middle;\n    }\n\n    .dataframe tbody tr th {\n        vertical-align: top;\n    }\n\n    .dataframe thead th {\n        text-align: right;\n    }\n</style>\n<table border=\"1\" class=\"dataframe\">\n  <thead>\n    <tr style=\"text-align: right;\">\n      <th></th>\n      <th>p_recall</th>\n      <th>delta</th>\n      <th>learning_language</th>\n      <th>ui_language</th>\n      <th>lexeme_string</th>\n      <th>history_seen</th>\n      <th>history_correct</th>\n      <th>session_seen</th>\n    </tr>\n  </thead>\n  <tbody>\n    <tr>\n      <th>0</th>\n      <td>1.000000</td>\n      <td>7680.454167</td>\n      <td>de</td>\n      <td>en</td>\n      <td>lernt/lernen&lt;vblex&gt;&lt;pri&gt;&lt;p3&gt;&lt;sg&gt;</td>\n      <td>6</td>\n      <td>4</td>\n      <td>2</td>\n    </tr>\n    <tr>\n      <th>1</th>\n      <td>0.500000</td>\n      <td>7680.454167</td>\n      <td>de</td>\n      <td>en</td>\n      <td>die/die&lt;det&gt;&lt;def&gt;&lt;f&gt;&lt;sg&gt;&lt;nom&gt;</td>\n      <td>4</td>\n      <td>4</td>\n      <td>2</td>\n    </tr>\n    <tr>\n      <th>2</th>\n      <td>1.000000</td>\n      <td>7680.454167</td>\n      <td>de</td>\n      <td>en</td>\n      <td>mann/mann&lt;n&gt;&lt;m&gt;&lt;sg&gt;&lt;nom&gt;</td>\n      <td>5</td>\n      <td>4</td>\n      <td>1</td>\n    </tr>\n    <tr>\n      <th>3</th>\n      <td>0.500000</td>\n      <td>7680.454167</td>\n      <td>de</td>\n      <td>en</td>\n      <td>frau/frau&lt;n&gt;&lt;f&gt;&lt;sg&gt;&lt;nom&gt;</td>\n      <td>6</td>\n      <td>5</td>\n      <td>2</td>\n    </tr>\n    <tr>\n      <th>4</th>\n      <td>1.000000</td>\n      <td>7680.454167</td>\n      <td>de</td>\n      <td>en</td>\n      <td>das/das&lt;det&gt;&lt;def&gt;&lt;nt&gt;&lt;sg&gt;&lt;nom&gt;</td>\n      <td>4</td>\n      <td>4</td>\n      <td>1</td>\n    </tr>\n    <tr>\n      <th>...</th>\n      <td>...</td>\n      <td>...</td>\n      <td>...</td>\n      <td>...</td>\n      <td>...</td>\n      <td>...</td>\n      <td>...</td>\n      <td>...</td>\n    </tr>\n    <tr>\n      <th>12854221</th>\n      <td>0.800000</td>\n      <td>0.102222</td>\n      <td>en</td>\n      <td>it</td>\n      <td>the/the&lt;det&gt;&lt;def&gt;&lt;sp&gt;</td>\n      <td>6</td>\n      <td>4</td>\n      <td>5</td>\n    </tr>\n    <tr>\n      <th>12854222</th>\n      <td>0.800000</td>\n      <td>0.102222</td>\n      <td>en</td>\n      <td>it</td>\n      <td>eat/eat&lt;vblex&gt;&lt;pres&gt;</td>\n      <td>4</td>\n      <td>4</td>\n      <td>5</td>\n    </tr>\n    <tr>\n      <th>12854223</th>\n      <td>1.000000</td>\n      <td>0.102222</td>\n      <td>en</td>\n      <td>it</td>\n      <td>bread/bread&lt;n&gt;&lt;sg&gt;</td>\n      <td>4</td>\n      <td>4</td>\n      <td>4</td>\n    </tr>\n    <tr>\n      <th>12854224</th>\n      <td>0.600000</td>\n      <td>0.102222</td>\n      <td>en</td>\n      <td>it</td>\n      <td>drink/drink&lt;vblex&gt;&lt;pres&gt;</td>\n      <td>3</td>\n      <td>2</td>\n      <td>5</td>\n    </tr>\n    <tr>\n      <th>12854225</th>\n      <td>0.666667</td>\n      <td>0.102222</td>\n      <td>en</td>\n      <td>it</td>\n      <td>water/water&lt;n&gt;&lt;sg&gt;</td>\n      <td>5</td>\n      <td>3</td>\n      <td>9</td>\n    </tr>\n  </tbody>\n</table>\n<p>12854226 rows × 8 columns</p>\n</div>"
     },
     "execution_count": 4,
     "metadata": {},
     "output_type": "execute_result"
    }
   ],
   "source": [
    "del data[\"lexeme_id\"]\n",
    "del data[\"timestamp\"]\n",
    "del data[\"user_id\"]\n",
    "del data[\"session_correct\"]\n",
    "data"
   ],
   "metadata": {
    "collapsed": false,
    "pycharm": {
     "name": "#%%\n"
    }
   }
  },
  {
   "cell_type": "code",
   "execution_count": 5,
   "outputs": [],
   "source": [
    "import re"
   ],
   "metadata": {
    "collapsed": false,
    "pycharm": {
     "name": "#%%\n"
    }
   }
  },
  {
   "cell_type": "code",
   "execution_count": 6,
   "outputs": [],
   "source": [
    "def regexer_surface_form(lexeme):\n",
    "    surface_form = re.search(\"(.+?)/\", str(lexeme)).group(1)\n",
    "\n",
    "    return surface_form"
   ],
   "metadata": {
    "collapsed": false,
    "pycharm": {
     "name": "#%%\n"
    }
   }
  },
  {
   "cell_type": "code",
   "execution_count": 7,
   "outputs": [
    {
     "data": {
      "text/plain": "          p_recall        delta learning_language ui_language  \\\n0         1.000000  7680.454167                de          en   \n1         0.500000  7680.454167                de          en   \n2         1.000000  7680.454167                de          en   \n3         0.500000  7680.454167                de          en   \n4         1.000000  7680.454167                de          en   \n...            ...          ...               ...         ...   \n12854221  0.800000     0.102222                en          it   \n12854222  0.800000     0.102222                en          it   \n12854223  1.000000     0.102222                en          it   \n12854224  0.600000     0.102222                en          it   \n12854225  0.666667     0.102222                en          it   \n\n                             lexeme_string  history_seen  history_correct  \\\n0         lernt/lernen<vblex><pri><p3><sg>             6                4   \n1            die/die<det><def><f><sg><nom>             4                4   \n2                 mann/mann<n><m><sg><nom>             5                4   \n3                 frau/frau<n><f><sg><nom>             6                5   \n4           das/das<det><def><nt><sg><nom>             4                4   \n...                                    ...           ...              ...   \n12854221             the/the<det><def><sp>             6                4   \n12854222              eat/eat<vblex><pres>             4                4   \n12854223                bread/bread<n><sg>             4                4   \n12854224          drink/drink<vblex><pres>             3                2   \n12854225                water/water<n><sg>             5                3   \n\n          session_seen surface_form  \n0                    2        lernt  \n1                    2          die  \n2                    1         mann  \n3                    2         frau  \n4                    1          das  \n...                ...          ...  \n12854221             5          the  \n12854222             5          eat  \n12854223             4        bread  \n12854224             5        drink  \n12854225             9        water  \n\n[12854226 rows x 9 columns]",
      "text/html": "<div>\n<style scoped>\n    .dataframe tbody tr th:only-of-type {\n        vertical-align: middle;\n    }\n\n    .dataframe tbody tr th {\n        vertical-align: top;\n    }\n\n    .dataframe thead th {\n        text-align: right;\n    }\n</style>\n<table border=\"1\" class=\"dataframe\">\n  <thead>\n    <tr style=\"text-align: right;\">\n      <th></th>\n      <th>p_recall</th>\n      <th>delta</th>\n      <th>learning_language</th>\n      <th>ui_language</th>\n      <th>lexeme_string</th>\n      <th>history_seen</th>\n      <th>history_correct</th>\n      <th>session_seen</th>\n      <th>surface_form</th>\n    </tr>\n  </thead>\n  <tbody>\n    <tr>\n      <th>0</th>\n      <td>1.000000</td>\n      <td>7680.454167</td>\n      <td>de</td>\n      <td>en</td>\n      <td>lernt/lernen&lt;vblex&gt;&lt;pri&gt;&lt;p3&gt;&lt;sg&gt;</td>\n      <td>6</td>\n      <td>4</td>\n      <td>2</td>\n      <td>lernt</td>\n    </tr>\n    <tr>\n      <th>1</th>\n      <td>0.500000</td>\n      <td>7680.454167</td>\n      <td>de</td>\n      <td>en</td>\n      <td>die/die&lt;det&gt;&lt;def&gt;&lt;f&gt;&lt;sg&gt;&lt;nom&gt;</td>\n      <td>4</td>\n      <td>4</td>\n      <td>2</td>\n      <td>die</td>\n    </tr>\n    <tr>\n      <th>2</th>\n      <td>1.000000</td>\n      <td>7680.454167</td>\n      <td>de</td>\n      <td>en</td>\n      <td>mann/mann&lt;n&gt;&lt;m&gt;&lt;sg&gt;&lt;nom&gt;</td>\n      <td>5</td>\n      <td>4</td>\n      <td>1</td>\n      <td>mann</td>\n    </tr>\n    <tr>\n      <th>3</th>\n      <td>0.500000</td>\n      <td>7680.454167</td>\n      <td>de</td>\n      <td>en</td>\n      <td>frau/frau&lt;n&gt;&lt;f&gt;&lt;sg&gt;&lt;nom&gt;</td>\n      <td>6</td>\n      <td>5</td>\n      <td>2</td>\n      <td>frau</td>\n    </tr>\n    <tr>\n      <th>4</th>\n      <td>1.000000</td>\n      <td>7680.454167</td>\n      <td>de</td>\n      <td>en</td>\n      <td>das/das&lt;det&gt;&lt;def&gt;&lt;nt&gt;&lt;sg&gt;&lt;nom&gt;</td>\n      <td>4</td>\n      <td>4</td>\n      <td>1</td>\n      <td>das</td>\n    </tr>\n    <tr>\n      <th>...</th>\n      <td>...</td>\n      <td>...</td>\n      <td>...</td>\n      <td>...</td>\n      <td>...</td>\n      <td>...</td>\n      <td>...</td>\n      <td>...</td>\n      <td>...</td>\n    </tr>\n    <tr>\n      <th>12854221</th>\n      <td>0.800000</td>\n      <td>0.102222</td>\n      <td>en</td>\n      <td>it</td>\n      <td>the/the&lt;det&gt;&lt;def&gt;&lt;sp&gt;</td>\n      <td>6</td>\n      <td>4</td>\n      <td>5</td>\n      <td>the</td>\n    </tr>\n    <tr>\n      <th>12854222</th>\n      <td>0.800000</td>\n      <td>0.102222</td>\n      <td>en</td>\n      <td>it</td>\n      <td>eat/eat&lt;vblex&gt;&lt;pres&gt;</td>\n      <td>4</td>\n      <td>4</td>\n      <td>5</td>\n      <td>eat</td>\n    </tr>\n    <tr>\n      <th>12854223</th>\n      <td>1.000000</td>\n      <td>0.102222</td>\n      <td>en</td>\n      <td>it</td>\n      <td>bread/bread&lt;n&gt;&lt;sg&gt;</td>\n      <td>4</td>\n      <td>4</td>\n      <td>4</td>\n      <td>bread</td>\n    </tr>\n    <tr>\n      <th>12854224</th>\n      <td>0.600000</td>\n      <td>0.102222</td>\n      <td>en</td>\n      <td>it</td>\n      <td>drink/drink&lt;vblex&gt;&lt;pres&gt;</td>\n      <td>3</td>\n      <td>2</td>\n      <td>5</td>\n      <td>drink</td>\n    </tr>\n    <tr>\n      <th>12854225</th>\n      <td>0.666667</td>\n      <td>0.102222</td>\n      <td>en</td>\n      <td>it</td>\n      <td>water/water&lt;n&gt;&lt;sg&gt;</td>\n      <td>5</td>\n      <td>3</td>\n      <td>9</td>\n      <td>water</td>\n    </tr>\n  </tbody>\n</table>\n<p>12854226 rows × 9 columns</p>\n</div>"
     },
     "execution_count": 7,
     "metadata": {},
     "output_type": "execute_result"
    }
   ],
   "source": [
    "data[\"surface_form\"] = data[\"lexeme_string\"].apply(regexer_surface_form)\n",
    "data"
   ],
   "metadata": {
    "collapsed": false,
    "pycharm": {
     "name": "#%%\n"
    }
   }
  },
  {
   "cell_type": "code",
   "execution_count": 8,
   "outputs": [],
   "source": [
    "def regexer_root_form(lexeme):\n",
    "    root_form = re.search(\"/(.+?)<\", str(lexeme)).group(1)\n",
    "\n",
    "    return root_form"
   ],
   "metadata": {
    "collapsed": false,
    "pycharm": {
     "name": "#%%\n"
    }
   }
  },
  {
   "cell_type": "code",
   "execution_count": 9,
   "outputs": [
    {
     "data": {
      "text/plain": "          p_recall        delta learning_language ui_language  \\\n0         1.000000  7680.454167                de          en   \n1         0.500000  7680.454167                de          en   \n2         1.000000  7680.454167                de          en   \n3         0.500000  7680.454167                de          en   \n4         1.000000  7680.454167                de          en   \n...            ...          ...               ...         ...   \n12854221  0.800000     0.102222                en          it   \n12854222  0.800000     0.102222                en          it   \n12854223  1.000000     0.102222                en          it   \n12854224  0.600000     0.102222                en          it   \n12854225  0.666667     0.102222                en          it   \n\n                             lexeme_string  history_seen  history_correct  \\\n0         lernt/lernen<vblex><pri><p3><sg>             6                4   \n1            die/die<det><def><f><sg><nom>             4                4   \n2                 mann/mann<n><m><sg><nom>             5                4   \n3                 frau/frau<n><f><sg><nom>             6                5   \n4           das/das<det><def><nt><sg><nom>             4                4   \n...                                    ...           ...              ...   \n12854221             the/the<det><def><sp>             6                4   \n12854222              eat/eat<vblex><pres>             4                4   \n12854223                bread/bread<n><sg>             4                4   \n12854224          drink/drink<vblex><pres>             3                2   \n12854225                water/water<n><sg>             5                3   \n\n          session_seen surface_form root_form  \n0                    2        lernt    lernen  \n1                    2          die       die  \n2                    1         mann      mann  \n3                    2         frau      frau  \n4                    1          das       das  \n...                ...          ...       ...  \n12854221             5          the       the  \n12854222             5          eat       eat  \n12854223             4        bread     bread  \n12854224             5        drink     drink  \n12854225             9        water     water  \n\n[12854226 rows x 10 columns]",
      "text/html": "<div>\n<style scoped>\n    .dataframe tbody tr th:only-of-type {\n        vertical-align: middle;\n    }\n\n    .dataframe tbody tr th {\n        vertical-align: top;\n    }\n\n    .dataframe thead th {\n        text-align: right;\n    }\n</style>\n<table border=\"1\" class=\"dataframe\">\n  <thead>\n    <tr style=\"text-align: right;\">\n      <th></th>\n      <th>p_recall</th>\n      <th>delta</th>\n      <th>learning_language</th>\n      <th>ui_language</th>\n      <th>lexeme_string</th>\n      <th>history_seen</th>\n      <th>history_correct</th>\n      <th>session_seen</th>\n      <th>surface_form</th>\n      <th>root_form</th>\n    </tr>\n  </thead>\n  <tbody>\n    <tr>\n      <th>0</th>\n      <td>1.000000</td>\n      <td>7680.454167</td>\n      <td>de</td>\n      <td>en</td>\n      <td>lernt/lernen&lt;vblex&gt;&lt;pri&gt;&lt;p3&gt;&lt;sg&gt;</td>\n      <td>6</td>\n      <td>4</td>\n      <td>2</td>\n      <td>lernt</td>\n      <td>lernen</td>\n    </tr>\n    <tr>\n      <th>1</th>\n      <td>0.500000</td>\n      <td>7680.454167</td>\n      <td>de</td>\n      <td>en</td>\n      <td>die/die&lt;det&gt;&lt;def&gt;&lt;f&gt;&lt;sg&gt;&lt;nom&gt;</td>\n      <td>4</td>\n      <td>4</td>\n      <td>2</td>\n      <td>die</td>\n      <td>die</td>\n    </tr>\n    <tr>\n      <th>2</th>\n      <td>1.000000</td>\n      <td>7680.454167</td>\n      <td>de</td>\n      <td>en</td>\n      <td>mann/mann&lt;n&gt;&lt;m&gt;&lt;sg&gt;&lt;nom&gt;</td>\n      <td>5</td>\n      <td>4</td>\n      <td>1</td>\n      <td>mann</td>\n      <td>mann</td>\n    </tr>\n    <tr>\n      <th>3</th>\n      <td>0.500000</td>\n      <td>7680.454167</td>\n      <td>de</td>\n      <td>en</td>\n      <td>frau/frau&lt;n&gt;&lt;f&gt;&lt;sg&gt;&lt;nom&gt;</td>\n      <td>6</td>\n      <td>5</td>\n      <td>2</td>\n      <td>frau</td>\n      <td>frau</td>\n    </tr>\n    <tr>\n      <th>4</th>\n      <td>1.000000</td>\n      <td>7680.454167</td>\n      <td>de</td>\n      <td>en</td>\n      <td>das/das&lt;det&gt;&lt;def&gt;&lt;nt&gt;&lt;sg&gt;&lt;nom&gt;</td>\n      <td>4</td>\n      <td>4</td>\n      <td>1</td>\n      <td>das</td>\n      <td>das</td>\n    </tr>\n    <tr>\n      <th>...</th>\n      <td>...</td>\n      <td>...</td>\n      <td>...</td>\n      <td>...</td>\n      <td>...</td>\n      <td>...</td>\n      <td>...</td>\n      <td>...</td>\n      <td>...</td>\n      <td>...</td>\n    </tr>\n    <tr>\n      <th>12854221</th>\n      <td>0.800000</td>\n      <td>0.102222</td>\n      <td>en</td>\n      <td>it</td>\n      <td>the/the&lt;det&gt;&lt;def&gt;&lt;sp&gt;</td>\n      <td>6</td>\n      <td>4</td>\n      <td>5</td>\n      <td>the</td>\n      <td>the</td>\n    </tr>\n    <tr>\n      <th>12854222</th>\n      <td>0.800000</td>\n      <td>0.102222</td>\n      <td>en</td>\n      <td>it</td>\n      <td>eat/eat&lt;vblex&gt;&lt;pres&gt;</td>\n      <td>4</td>\n      <td>4</td>\n      <td>5</td>\n      <td>eat</td>\n      <td>eat</td>\n    </tr>\n    <tr>\n      <th>12854223</th>\n      <td>1.000000</td>\n      <td>0.102222</td>\n      <td>en</td>\n      <td>it</td>\n      <td>bread/bread&lt;n&gt;&lt;sg&gt;</td>\n      <td>4</td>\n      <td>4</td>\n      <td>4</td>\n      <td>bread</td>\n      <td>bread</td>\n    </tr>\n    <tr>\n      <th>12854224</th>\n      <td>0.600000</td>\n      <td>0.102222</td>\n      <td>en</td>\n      <td>it</td>\n      <td>drink/drink&lt;vblex&gt;&lt;pres&gt;</td>\n      <td>3</td>\n      <td>2</td>\n      <td>5</td>\n      <td>drink</td>\n      <td>drink</td>\n    </tr>\n    <tr>\n      <th>12854225</th>\n      <td>0.666667</td>\n      <td>0.102222</td>\n      <td>en</td>\n      <td>it</td>\n      <td>water/water&lt;n&gt;&lt;sg&gt;</td>\n      <td>5</td>\n      <td>3</td>\n      <td>9</td>\n      <td>water</td>\n      <td>water</td>\n    </tr>\n  </tbody>\n</table>\n<p>12854226 rows × 10 columns</p>\n</div>"
     },
     "execution_count": 9,
     "metadata": {},
     "output_type": "execute_result"
    }
   ],
   "source": [
    "data[\"root_form\"] = data[\"lexeme_string\"].apply(regexer_root_form)\n",
    "data"
   ],
   "metadata": {
    "collapsed": false,
    "pycharm": {
     "name": "#%%\n"
    }
   }
  },
  {
   "cell_type": "code",
   "execution_count": 10,
   "outputs": [
    {
     "data": {
      "text/plain": "          p_recall        delta learning_language ui_language  \\\n0         1.000000  7680.454167                de          en   \n1         0.500000  7680.454167                de          en   \n2         1.000000  7680.454167                de          en   \n3         0.500000  7680.454167                de          en   \n4         1.000000  7680.454167                de          en   \n...            ...          ...               ...         ...   \n12854221  0.800000     0.102222                en          it   \n12854222  0.800000     0.102222                en          it   \n12854223  1.000000     0.102222                en          it   \n12854224  0.600000     0.102222                en          it   \n12854225  0.666667     0.102222                en          it   \n\n                             lexeme_string  history_seen  history_correct  \\\n0         lernt/lernen<vblex><pri><p3><sg>             6                4   \n1            die/die<det><def><f><sg><nom>             4                4   \n2                 mann/mann<n><m><sg><nom>             5                4   \n3                 frau/frau<n><f><sg><nom>             6                5   \n4           das/das<det><def><nt><sg><nom>             4                4   \n...                                    ...           ...              ...   \n12854221             the/the<det><def><sp>             6                4   \n12854222              eat/eat<vblex><pres>             4                4   \n12854223                bread/bread<n><sg>             4                4   \n12854224          drink/drink<vblex><pres>             3                2   \n12854225                water/water<n><sg>             5                3   \n\n          session_seen surface_form root_form  \n0                    2        lernt    lernen  \n1                    2          die       die  \n2                    1         mann      mann  \n3                    2         frau      frau  \n4                    1          das       das  \n...                ...          ...       ...  \n12854221             5          the       the  \n12854222             5          eat       eat  \n12854223             4        bread     bread  \n12854224             5        drink     drink  \n12854225             9        water     water  \n\n[12844597 rows x 10 columns]",
      "text/html": "<div>\n<style scoped>\n    .dataframe tbody tr th:only-of-type {\n        vertical-align: middle;\n    }\n\n    .dataframe tbody tr th {\n        vertical-align: top;\n    }\n\n    .dataframe thead th {\n        text-align: right;\n    }\n</style>\n<table border=\"1\" class=\"dataframe\">\n  <thead>\n    <tr style=\"text-align: right;\">\n      <th></th>\n      <th>p_recall</th>\n      <th>delta</th>\n      <th>learning_language</th>\n      <th>ui_language</th>\n      <th>lexeme_string</th>\n      <th>history_seen</th>\n      <th>history_correct</th>\n      <th>session_seen</th>\n      <th>surface_form</th>\n      <th>root_form</th>\n    </tr>\n  </thead>\n  <tbody>\n    <tr>\n      <th>0</th>\n      <td>1.000000</td>\n      <td>7680.454167</td>\n      <td>de</td>\n      <td>en</td>\n      <td>lernt/lernen&lt;vblex&gt;&lt;pri&gt;&lt;p3&gt;&lt;sg&gt;</td>\n      <td>6</td>\n      <td>4</td>\n      <td>2</td>\n      <td>lernt</td>\n      <td>lernen</td>\n    </tr>\n    <tr>\n      <th>1</th>\n      <td>0.500000</td>\n      <td>7680.454167</td>\n      <td>de</td>\n      <td>en</td>\n      <td>die/die&lt;det&gt;&lt;def&gt;&lt;f&gt;&lt;sg&gt;&lt;nom&gt;</td>\n      <td>4</td>\n      <td>4</td>\n      <td>2</td>\n      <td>die</td>\n      <td>die</td>\n    </tr>\n    <tr>\n      <th>2</th>\n      <td>1.000000</td>\n      <td>7680.454167</td>\n      <td>de</td>\n      <td>en</td>\n      <td>mann/mann&lt;n&gt;&lt;m&gt;&lt;sg&gt;&lt;nom&gt;</td>\n      <td>5</td>\n      <td>4</td>\n      <td>1</td>\n      <td>mann</td>\n      <td>mann</td>\n    </tr>\n    <tr>\n      <th>3</th>\n      <td>0.500000</td>\n      <td>7680.454167</td>\n      <td>de</td>\n      <td>en</td>\n      <td>frau/frau&lt;n&gt;&lt;f&gt;&lt;sg&gt;&lt;nom&gt;</td>\n      <td>6</td>\n      <td>5</td>\n      <td>2</td>\n      <td>frau</td>\n      <td>frau</td>\n    </tr>\n    <tr>\n      <th>4</th>\n      <td>1.000000</td>\n      <td>7680.454167</td>\n      <td>de</td>\n      <td>en</td>\n      <td>das/das&lt;det&gt;&lt;def&gt;&lt;nt&gt;&lt;sg&gt;&lt;nom&gt;</td>\n      <td>4</td>\n      <td>4</td>\n      <td>1</td>\n      <td>das</td>\n      <td>das</td>\n    </tr>\n    <tr>\n      <th>...</th>\n      <td>...</td>\n      <td>...</td>\n      <td>...</td>\n      <td>...</td>\n      <td>...</td>\n      <td>...</td>\n      <td>...</td>\n      <td>...</td>\n      <td>...</td>\n      <td>...</td>\n    </tr>\n    <tr>\n      <th>12854221</th>\n      <td>0.800000</td>\n      <td>0.102222</td>\n      <td>en</td>\n      <td>it</td>\n      <td>the/the&lt;det&gt;&lt;def&gt;&lt;sp&gt;</td>\n      <td>6</td>\n      <td>4</td>\n      <td>5</td>\n      <td>the</td>\n      <td>the</td>\n    </tr>\n    <tr>\n      <th>12854222</th>\n      <td>0.800000</td>\n      <td>0.102222</td>\n      <td>en</td>\n      <td>it</td>\n      <td>eat/eat&lt;vblex&gt;&lt;pres&gt;</td>\n      <td>4</td>\n      <td>4</td>\n      <td>5</td>\n      <td>eat</td>\n      <td>eat</td>\n    </tr>\n    <tr>\n      <th>12854223</th>\n      <td>1.000000</td>\n      <td>0.102222</td>\n      <td>en</td>\n      <td>it</td>\n      <td>bread/bread&lt;n&gt;&lt;sg&gt;</td>\n      <td>4</td>\n      <td>4</td>\n      <td>4</td>\n      <td>bread</td>\n      <td>bread</td>\n    </tr>\n    <tr>\n      <th>12854224</th>\n      <td>0.600000</td>\n      <td>0.102222</td>\n      <td>en</td>\n      <td>it</td>\n      <td>drink/drink&lt;vblex&gt;&lt;pres&gt;</td>\n      <td>3</td>\n      <td>2</td>\n      <td>5</td>\n      <td>drink</td>\n      <td>drink</td>\n    </tr>\n    <tr>\n      <th>12854225</th>\n      <td>0.666667</td>\n      <td>0.102222</td>\n      <td>en</td>\n      <td>it</td>\n      <td>water/water&lt;n&gt;&lt;sg&gt;</td>\n      <td>5</td>\n      <td>3</td>\n      <td>9</td>\n      <td>water</td>\n      <td>water</td>\n    </tr>\n  </tbody>\n</table>\n<p>12844597 rows × 10 columns</p>\n</div>"
     },
     "execution_count": 10,
     "metadata": {},
     "output_type": "execute_result"
    }
   ],
   "source": [
    "data.drop(data[data[\"root_form\"]==\"'\"].index,inplace=True)\n",
    "data"
   ],
   "metadata": {
    "collapsed": false,
    "pycharm": {
     "name": "#%%\n"
    }
   }
  },
  {
   "cell_type": "code",
   "execution_count": 11,
   "outputs": [
    {
     "data": {
      "text/plain": "          p_recall        delta learning_language ui_language  \\\n0         1.000000  7680.454167                de          en   \n1         0.500000  7680.454167                de          en   \n2         1.000000  7680.454167                de          en   \n3         0.500000  7680.454167                de          en   \n4         1.000000  7680.454167                de          en   \n...            ...          ...               ...         ...   \n12854221  0.800000     0.102222                en          it   \n12854222  0.800000     0.102222                en          it   \n12854223  1.000000     0.102222                en          it   \n12854224  0.600000     0.102222                en          it   \n12854225  0.666667     0.102222                en          it   \n\n                             lexeme_string  history_seen  history_correct  \\\n0         lernt/lernen<vblex><pri><p3><sg>             6                4   \n1            die/die<det><def><f><sg><nom>             4                4   \n2                 mann/mann<n><m><sg><nom>             5                4   \n3                 frau/frau<n><f><sg><nom>             6                5   \n4           das/das<det><def><nt><sg><nom>             4                4   \n...                                    ...           ...              ...   \n12854221             the/the<det><def><sp>             6                4   \n12854222              eat/eat<vblex><pres>             4                4   \n12854223                bread/bread<n><sg>             4                4   \n12854224          drink/drink<vblex><pres>             3                2   \n12854225                water/water<n><sg>             5                3   \n\n          session_seen surface_form root_form  \n0                    2        lernt    lernen  \n1                    2          die       die  \n2                    1         mann      mann  \n3                    2         frau      frau  \n4                    1          das       das  \n...                ...          ...       ...  \n12854221             5          the       the  \n12854222             5          eat       eat  \n12854223             4        bread     bread  \n12854224             5        drink     drink  \n12854225             9        water     water  \n\n[12836934 rows x 10 columns]",
      "text/html": "<div>\n<style scoped>\n    .dataframe tbody tr th:only-of-type {\n        vertical-align: middle;\n    }\n\n    .dataframe tbody tr th {\n        vertical-align: top;\n    }\n\n    .dataframe thead th {\n        text-align: right;\n    }\n</style>\n<table border=\"1\" class=\"dataframe\">\n  <thead>\n    <tr style=\"text-align: right;\">\n      <th></th>\n      <th>p_recall</th>\n      <th>delta</th>\n      <th>learning_language</th>\n      <th>ui_language</th>\n      <th>lexeme_string</th>\n      <th>history_seen</th>\n      <th>history_correct</th>\n      <th>session_seen</th>\n      <th>surface_form</th>\n      <th>root_form</th>\n    </tr>\n  </thead>\n  <tbody>\n    <tr>\n      <th>0</th>\n      <td>1.000000</td>\n      <td>7680.454167</td>\n      <td>de</td>\n      <td>en</td>\n      <td>lernt/lernen&lt;vblex&gt;&lt;pri&gt;&lt;p3&gt;&lt;sg&gt;</td>\n      <td>6</td>\n      <td>4</td>\n      <td>2</td>\n      <td>lernt</td>\n      <td>lernen</td>\n    </tr>\n    <tr>\n      <th>1</th>\n      <td>0.500000</td>\n      <td>7680.454167</td>\n      <td>de</td>\n      <td>en</td>\n      <td>die/die&lt;det&gt;&lt;def&gt;&lt;f&gt;&lt;sg&gt;&lt;nom&gt;</td>\n      <td>4</td>\n      <td>4</td>\n      <td>2</td>\n      <td>die</td>\n      <td>die</td>\n    </tr>\n    <tr>\n      <th>2</th>\n      <td>1.000000</td>\n      <td>7680.454167</td>\n      <td>de</td>\n      <td>en</td>\n      <td>mann/mann&lt;n&gt;&lt;m&gt;&lt;sg&gt;&lt;nom&gt;</td>\n      <td>5</td>\n      <td>4</td>\n      <td>1</td>\n      <td>mann</td>\n      <td>mann</td>\n    </tr>\n    <tr>\n      <th>3</th>\n      <td>0.500000</td>\n      <td>7680.454167</td>\n      <td>de</td>\n      <td>en</td>\n      <td>frau/frau&lt;n&gt;&lt;f&gt;&lt;sg&gt;&lt;nom&gt;</td>\n      <td>6</td>\n      <td>5</td>\n      <td>2</td>\n      <td>frau</td>\n      <td>frau</td>\n    </tr>\n    <tr>\n      <th>4</th>\n      <td>1.000000</td>\n      <td>7680.454167</td>\n      <td>de</td>\n      <td>en</td>\n      <td>das/das&lt;det&gt;&lt;def&gt;&lt;nt&gt;&lt;sg&gt;&lt;nom&gt;</td>\n      <td>4</td>\n      <td>4</td>\n      <td>1</td>\n      <td>das</td>\n      <td>das</td>\n    </tr>\n    <tr>\n      <th>...</th>\n      <td>...</td>\n      <td>...</td>\n      <td>...</td>\n      <td>...</td>\n      <td>...</td>\n      <td>...</td>\n      <td>...</td>\n      <td>...</td>\n      <td>...</td>\n      <td>...</td>\n    </tr>\n    <tr>\n      <th>12854221</th>\n      <td>0.800000</td>\n      <td>0.102222</td>\n      <td>en</td>\n      <td>it</td>\n      <td>the/the&lt;det&gt;&lt;def&gt;&lt;sp&gt;</td>\n      <td>6</td>\n      <td>4</td>\n      <td>5</td>\n      <td>the</td>\n      <td>the</td>\n    </tr>\n    <tr>\n      <th>12854222</th>\n      <td>0.800000</td>\n      <td>0.102222</td>\n      <td>en</td>\n      <td>it</td>\n      <td>eat/eat&lt;vblex&gt;&lt;pres&gt;</td>\n      <td>4</td>\n      <td>4</td>\n      <td>5</td>\n      <td>eat</td>\n      <td>eat</td>\n    </tr>\n    <tr>\n      <th>12854223</th>\n      <td>1.000000</td>\n      <td>0.102222</td>\n      <td>en</td>\n      <td>it</td>\n      <td>bread/bread&lt;n&gt;&lt;sg&gt;</td>\n      <td>4</td>\n      <td>4</td>\n      <td>4</td>\n      <td>bread</td>\n      <td>bread</td>\n    </tr>\n    <tr>\n      <th>12854224</th>\n      <td>0.600000</td>\n      <td>0.102222</td>\n      <td>en</td>\n      <td>it</td>\n      <td>drink/drink&lt;vblex&gt;&lt;pres&gt;</td>\n      <td>3</td>\n      <td>2</td>\n      <td>5</td>\n      <td>drink</td>\n      <td>drink</td>\n    </tr>\n    <tr>\n      <th>12854225</th>\n      <td>0.666667</td>\n      <td>0.102222</td>\n      <td>en</td>\n      <td>it</td>\n      <td>water/water&lt;n&gt;&lt;sg&gt;</td>\n      <td>5</td>\n      <td>3</td>\n      <td>9</td>\n      <td>water</td>\n      <td>water</td>\n    </tr>\n  </tbody>\n</table>\n<p>12836934 rows × 10 columns</p>\n</div>"
     },
     "execution_count": 11,
     "metadata": {},
     "output_type": "execute_result"
    }
   ],
   "source": [
    "data.drop(data[data[\"root_form\"]==\"'s\"].index,inplace=True)\n",
    "data"
   ],
   "metadata": {
    "collapsed": false,
    "pycharm": {
     "name": "#%%\n"
    }
   }
  },
  {
   "cell_type": "code",
   "execution_count": 12,
   "outputs": [
    {
     "data": {
      "text/plain": "          p_recall        delta learning_language ui_language  \\\n0         1.000000  7680.454167                de          en   \n1         0.500000  7680.454167                de          en   \n2         1.000000  7680.454167                de          en   \n3         0.500000  7680.454167                de          en   \n4         1.000000  7680.454167                de          en   \n...            ...          ...               ...         ...   \n12854221  0.800000     0.102222                en          it   \n12854222  0.800000     0.102222                en          it   \n12854223  1.000000     0.102222                en          it   \n12854224  0.600000     0.102222                en          it   \n12854225  0.666667     0.102222                en          it   \n\n                             lexeme_string  history_seen  history_correct  \\\n0         lernt/lernen<vblex><pri><p3><sg>             6                4   \n1            die/die<det><def><f><sg><nom>             4                4   \n2                 mann/mann<n><m><sg><nom>             5                4   \n3                 frau/frau<n><f><sg><nom>             6                5   \n4           das/das<det><def><nt><sg><nom>             4                4   \n...                                    ...           ...              ...   \n12854221             the/the<det><def><sp>             6                4   \n12854222              eat/eat<vblex><pres>             4                4   \n12854223                bread/bread<n><sg>             4                4   \n12854224          drink/drink<vblex><pres>             3                2   \n12854225                water/water<n><sg>             5                3   \n\n          session_seen surface_form root_form  \n0                    2        lernt    lernen  \n1                    2          die       die  \n2                    1         mann      mann  \n3                    2         frau      frau  \n4                    1          das       das  \n...                ...          ...       ...  \n12854221             5          the       the  \n12854222             5          eat       eat  \n12854223             4        bread     bread  \n12854224             5        drink     drink  \n12854225             9        water     water  \n\n[12836934 rows x 10 columns]",
      "text/html": "<div>\n<style scoped>\n    .dataframe tbody tr th:only-of-type {\n        vertical-align: middle;\n    }\n\n    .dataframe tbody tr th {\n        vertical-align: top;\n    }\n\n    .dataframe thead th {\n        text-align: right;\n    }\n</style>\n<table border=\"1\" class=\"dataframe\">\n  <thead>\n    <tr style=\"text-align: right;\">\n      <th></th>\n      <th>p_recall</th>\n      <th>delta</th>\n      <th>learning_language</th>\n      <th>ui_language</th>\n      <th>lexeme_string</th>\n      <th>history_seen</th>\n      <th>history_correct</th>\n      <th>session_seen</th>\n      <th>surface_form</th>\n      <th>root_form</th>\n    </tr>\n  </thead>\n  <tbody>\n    <tr>\n      <th>0</th>\n      <td>1.000000</td>\n      <td>7680.454167</td>\n      <td>de</td>\n      <td>en</td>\n      <td>lernt/lernen&lt;vblex&gt;&lt;pri&gt;&lt;p3&gt;&lt;sg&gt;</td>\n      <td>6</td>\n      <td>4</td>\n      <td>2</td>\n      <td>lernt</td>\n      <td>lernen</td>\n    </tr>\n    <tr>\n      <th>1</th>\n      <td>0.500000</td>\n      <td>7680.454167</td>\n      <td>de</td>\n      <td>en</td>\n      <td>die/die&lt;det&gt;&lt;def&gt;&lt;f&gt;&lt;sg&gt;&lt;nom&gt;</td>\n      <td>4</td>\n      <td>4</td>\n      <td>2</td>\n      <td>die</td>\n      <td>die</td>\n    </tr>\n    <tr>\n      <th>2</th>\n      <td>1.000000</td>\n      <td>7680.454167</td>\n      <td>de</td>\n      <td>en</td>\n      <td>mann/mann&lt;n&gt;&lt;m&gt;&lt;sg&gt;&lt;nom&gt;</td>\n      <td>5</td>\n      <td>4</td>\n      <td>1</td>\n      <td>mann</td>\n      <td>mann</td>\n    </tr>\n    <tr>\n      <th>3</th>\n      <td>0.500000</td>\n      <td>7680.454167</td>\n      <td>de</td>\n      <td>en</td>\n      <td>frau/frau&lt;n&gt;&lt;f&gt;&lt;sg&gt;&lt;nom&gt;</td>\n      <td>6</td>\n      <td>5</td>\n      <td>2</td>\n      <td>frau</td>\n      <td>frau</td>\n    </tr>\n    <tr>\n      <th>4</th>\n      <td>1.000000</td>\n      <td>7680.454167</td>\n      <td>de</td>\n      <td>en</td>\n      <td>das/das&lt;det&gt;&lt;def&gt;&lt;nt&gt;&lt;sg&gt;&lt;nom&gt;</td>\n      <td>4</td>\n      <td>4</td>\n      <td>1</td>\n      <td>das</td>\n      <td>das</td>\n    </tr>\n    <tr>\n      <th>...</th>\n      <td>...</td>\n      <td>...</td>\n      <td>...</td>\n      <td>...</td>\n      <td>...</td>\n      <td>...</td>\n      <td>...</td>\n      <td>...</td>\n      <td>...</td>\n      <td>...</td>\n    </tr>\n    <tr>\n      <th>12854221</th>\n      <td>0.800000</td>\n      <td>0.102222</td>\n      <td>en</td>\n      <td>it</td>\n      <td>the/the&lt;det&gt;&lt;def&gt;&lt;sp&gt;</td>\n      <td>6</td>\n      <td>4</td>\n      <td>5</td>\n      <td>the</td>\n      <td>the</td>\n    </tr>\n    <tr>\n      <th>12854222</th>\n      <td>0.800000</td>\n      <td>0.102222</td>\n      <td>en</td>\n      <td>it</td>\n      <td>eat/eat&lt;vblex&gt;&lt;pres&gt;</td>\n      <td>4</td>\n      <td>4</td>\n      <td>5</td>\n      <td>eat</td>\n      <td>eat</td>\n    </tr>\n    <tr>\n      <th>12854223</th>\n      <td>1.000000</td>\n      <td>0.102222</td>\n      <td>en</td>\n      <td>it</td>\n      <td>bread/bread&lt;n&gt;&lt;sg&gt;</td>\n      <td>4</td>\n      <td>4</td>\n      <td>4</td>\n      <td>bread</td>\n      <td>bread</td>\n    </tr>\n    <tr>\n      <th>12854224</th>\n      <td>0.600000</td>\n      <td>0.102222</td>\n      <td>en</td>\n      <td>it</td>\n      <td>drink/drink&lt;vblex&gt;&lt;pres&gt;</td>\n      <td>3</td>\n      <td>2</td>\n      <td>5</td>\n      <td>drink</td>\n      <td>drink</td>\n    </tr>\n    <tr>\n      <th>12854225</th>\n      <td>0.666667</td>\n      <td>0.102222</td>\n      <td>en</td>\n      <td>it</td>\n      <td>water/water&lt;n&gt;&lt;sg&gt;</td>\n      <td>5</td>\n      <td>3</td>\n      <td>9</td>\n      <td>water</td>\n      <td>water</td>\n    </tr>\n  </tbody>\n</table>\n<p>12836934 rows × 10 columns</p>\n</div>"
     },
     "execution_count": 12,
     "metadata": {},
     "output_type": "execute_result"
    }
   ],
   "source": [
    "data['surface_form'] = np.where(data['surface_form'] == \"<*sf>\",data['root_form'], data['surface_form'])\n",
    "data"
   ],
   "metadata": {
    "collapsed": false,
    "pycharm": {
     "name": "#%%\n"
    }
   }
  },
  {
   "cell_type": "code",
   "execution_count": 13,
   "outputs": [],
   "source": [
    "def regex_modifiers(lexeme):\n",
    "\n",
    "    modifiers_split = re.findall(r'\\<.*?\\>', lexeme)\n",
    "    modifiers_string=\"\"\n",
    "\n",
    "    for modifier in modifiers_split:\n",
    "        modifiers_string=modifiers_string+modifier\n",
    "    return modifiers_string"
   ],
   "metadata": {
    "collapsed": false,
    "pycharm": {
     "name": "#%%\n"
    }
   }
  },
  {
   "cell_type": "code",
   "execution_count": 14,
   "outputs": [],
   "source": [
    "data[\"modifiers_split\"] = data[\"lexeme_string\"].apply(regex_modifiers)"
   ],
   "metadata": {
    "collapsed": false,
    "pycharm": {
     "name": "#%%\n"
    }
   }
  },
  {
   "cell_type": "code",
   "execution_count": 15,
   "outputs": [
    {
     "data": {
      "text/plain": "          p_recall        delta learning_language ui_language  \\\n0         1.000000  7680.454167                de          en   \n1         0.500000  7680.454167                de          en   \n2         1.000000  7680.454167                de          en   \n3         0.500000  7680.454167                de          en   \n4         1.000000  7680.454167                de          en   \n...            ...          ...               ...         ...   \n12854221  0.800000     0.102222                en          it   \n12854222  0.800000     0.102222                en          it   \n12854223  1.000000     0.102222                en          it   \n12854224  0.600000     0.102222                en          it   \n12854225  0.666667     0.102222                en          it   \n\n                             lexeme_string  history_seen  history_correct  \\\n0         lernt/lernen<vblex><pri><p3><sg>             6                4   \n1            die/die<det><def><f><sg><nom>             4                4   \n2                 mann/mann<n><m><sg><nom>             5                4   \n3                 frau/frau<n><f><sg><nom>             6                5   \n4           das/das<det><def><nt><sg><nom>             4                4   \n...                                    ...           ...              ...   \n12854221             the/the<det><def><sp>             6                4   \n12854222              eat/eat<vblex><pres>             4                4   \n12854223                bread/bread<n><sg>             4                4   \n12854224          drink/drink<vblex><pres>             3                2   \n12854225                water/water<n><sg>             5                3   \n\n          session_seen surface_form root_form          modifiers_split  \n0                    2        lernt    lernen     <vblex><pri><p3><sg>  \n1                    2          die       die   <det><def><f><sg><nom>  \n2                    1         mann      mann          <n><m><sg><nom>  \n3                    2         frau      frau          <n><f><sg><nom>  \n4                    1          das       das  <det><def><nt><sg><nom>  \n...                ...          ...       ...                      ...  \n12854221             5          the       the           <det><def><sp>  \n12854222             5          eat       eat            <vblex><pres>  \n12854223             4        bread     bread                  <n><sg>  \n12854224             5        drink     drink            <vblex><pres>  \n12854225             9        water     water                  <n><sg>  \n\n[12836934 rows x 11 columns]",
      "text/html": "<div>\n<style scoped>\n    .dataframe tbody tr th:only-of-type {\n        vertical-align: middle;\n    }\n\n    .dataframe tbody tr th {\n        vertical-align: top;\n    }\n\n    .dataframe thead th {\n        text-align: right;\n    }\n</style>\n<table border=\"1\" class=\"dataframe\">\n  <thead>\n    <tr style=\"text-align: right;\">\n      <th></th>\n      <th>p_recall</th>\n      <th>delta</th>\n      <th>learning_language</th>\n      <th>ui_language</th>\n      <th>lexeme_string</th>\n      <th>history_seen</th>\n      <th>history_correct</th>\n      <th>session_seen</th>\n      <th>surface_form</th>\n      <th>root_form</th>\n      <th>modifiers_split</th>\n    </tr>\n  </thead>\n  <tbody>\n    <tr>\n      <th>0</th>\n      <td>1.000000</td>\n      <td>7680.454167</td>\n      <td>de</td>\n      <td>en</td>\n      <td>lernt/lernen&lt;vblex&gt;&lt;pri&gt;&lt;p3&gt;&lt;sg&gt;</td>\n      <td>6</td>\n      <td>4</td>\n      <td>2</td>\n      <td>lernt</td>\n      <td>lernen</td>\n      <td>&lt;vblex&gt;&lt;pri&gt;&lt;p3&gt;&lt;sg&gt;</td>\n    </tr>\n    <tr>\n      <th>1</th>\n      <td>0.500000</td>\n      <td>7680.454167</td>\n      <td>de</td>\n      <td>en</td>\n      <td>die/die&lt;det&gt;&lt;def&gt;&lt;f&gt;&lt;sg&gt;&lt;nom&gt;</td>\n      <td>4</td>\n      <td>4</td>\n      <td>2</td>\n      <td>die</td>\n      <td>die</td>\n      <td>&lt;det&gt;&lt;def&gt;&lt;f&gt;&lt;sg&gt;&lt;nom&gt;</td>\n    </tr>\n    <tr>\n      <th>2</th>\n      <td>1.000000</td>\n      <td>7680.454167</td>\n      <td>de</td>\n      <td>en</td>\n      <td>mann/mann&lt;n&gt;&lt;m&gt;&lt;sg&gt;&lt;nom&gt;</td>\n      <td>5</td>\n      <td>4</td>\n      <td>1</td>\n      <td>mann</td>\n      <td>mann</td>\n      <td>&lt;n&gt;&lt;m&gt;&lt;sg&gt;&lt;nom&gt;</td>\n    </tr>\n    <tr>\n      <th>3</th>\n      <td>0.500000</td>\n      <td>7680.454167</td>\n      <td>de</td>\n      <td>en</td>\n      <td>frau/frau&lt;n&gt;&lt;f&gt;&lt;sg&gt;&lt;nom&gt;</td>\n      <td>6</td>\n      <td>5</td>\n      <td>2</td>\n      <td>frau</td>\n      <td>frau</td>\n      <td>&lt;n&gt;&lt;f&gt;&lt;sg&gt;&lt;nom&gt;</td>\n    </tr>\n    <tr>\n      <th>4</th>\n      <td>1.000000</td>\n      <td>7680.454167</td>\n      <td>de</td>\n      <td>en</td>\n      <td>das/das&lt;det&gt;&lt;def&gt;&lt;nt&gt;&lt;sg&gt;&lt;nom&gt;</td>\n      <td>4</td>\n      <td>4</td>\n      <td>1</td>\n      <td>das</td>\n      <td>das</td>\n      <td>&lt;det&gt;&lt;def&gt;&lt;nt&gt;&lt;sg&gt;&lt;nom&gt;</td>\n    </tr>\n    <tr>\n      <th>...</th>\n      <td>...</td>\n      <td>...</td>\n      <td>...</td>\n      <td>...</td>\n      <td>...</td>\n      <td>...</td>\n      <td>...</td>\n      <td>...</td>\n      <td>...</td>\n      <td>...</td>\n      <td>...</td>\n    </tr>\n    <tr>\n      <th>12854221</th>\n      <td>0.800000</td>\n      <td>0.102222</td>\n      <td>en</td>\n      <td>it</td>\n      <td>the/the&lt;det&gt;&lt;def&gt;&lt;sp&gt;</td>\n      <td>6</td>\n      <td>4</td>\n      <td>5</td>\n      <td>the</td>\n      <td>the</td>\n      <td>&lt;det&gt;&lt;def&gt;&lt;sp&gt;</td>\n    </tr>\n    <tr>\n      <th>12854222</th>\n      <td>0.800000</td>\n      <td>0.102222</td>\n      <td>en</td>\n      <td>it</td>\n      <td>eat/eat&lt;vblex&gt;&lt;pres&gt;</td>\n      <td>4</td>\n      <td>4</td>\n      <td>5</td>\n      <td>eat</td>\n      <td>eat</td>\n      <td>&lt;vblex&gt;&lt;pres&gt;</td>\n    </tr>\n    <tr>\n      <th>12854223</th>\n      <td>1.000000</td>\n      <td>0.102222</td>\n      <td>en</td>\n      <td>it</td>\n      <td>bread/bread&lt;n&gt;&lt;sg&gt;</td>\n      <td>4</td>\n      <td>4</td>\n      <td>4</td>\n      <td>bread</td>\n      <td>bread</td>\n      <td>&lt;n&gt;&lt;sg&gt;</td>\n    </tr>\n    <tr>\n      <th>12854224</th>\n      <td>0.600000</td>\n      <td>0.102222</td>\n      <td>en</td>\n      <td>it</td>\n      <td>drink/drink&lt;vblex&gt;&lt;pres&gt;</td>\n      <td>3</td>\n      <td>2</td>\n      <td>5</td>\n      <td>drink</td>\n      <td>drink</td>\n      <td>&lt;vblex&gt;&lt;pres&gt;</td>\n    </tr>\n    <tr>\n      <th>12854225</th>\n      <td>0.666667</td>\n      <td>0.102222</td>\n      <td>en</td>\n      <td>it</td>\n      <td>water/water&lt;n&gt;&lt;sg&gt;</td>\n      <td>5</td>\n      <td>3</td>\n      <td>9</td>\n      <td>water</td>\n      <td>water</td>\n      <td>&lt;n&gt;&lt;sg&gt;</td>\n    </tr>\n  </tbody>\n</table>\n<p>12836934 rows × 11 columns</p>\n</div>"
     },
     "execution_count": 15,
     "metadata": {},
     "output_type": "execute_result"
    }
   ],
   "source": [
    "data"
   ],
   "metadata": {
    "collapsed": false,
    "pycharm": {
     "name": "#%%\n"
    }
   }
  },
  {
   "cell_type": "code",
   "execution_count": 16,
   "outputs": [
    {
     "data": {
      "text/plain": "          p_recall        delta learning_language ui_language  history_seen  \\\n0         1.000000  7680.454167                de          en             6   \n1         0.500000  7680.454167                de          en             4   \n2         1.000000  7680.454167                de          en             5   \n3         0.500000  7680.454167                de          en             6   \n4         1.000000  7680.454167                de          en             4   \n...            ...          ...               ...         ...           ...   \n12854221  0.800000     0.102222                en          it             6   \n12854222  0.800000     0.102222                en          it             4   \n12854223  1.000000     0.102222                en          it             4   \n12854224  0.600000     0.102222                en          it             3   \n12854225  0.666667     0.102222                en          it             5   \n\n          history_correct  session_seen surface_form root_form  \\\n0                       4             2        lernt    lernen   \n1                       4             2          die       die   \n2                       4             1         mann      mann   \n3                       5             2         frau      frau   \n4                       4             1          das       das   \n...                   ...           ...          ...       ...   \n12854221                4             5          the       the   \n12854222                4             5          eat       eat   \n12854223                4             4        bread     bread   \n12854224                2             5        drink     drink   \n12854225                3             9        water     water   \n\n                  modifiers_split  \n0            <vblex><pri><p3><sg>  \n1          <det><def><f><sg><nom>  \n2                 <n><m><sg><nom>  \n3                 <n><f><sg><nom>  \n4         <det><def><nt><sg><nom>  \n...                           ...  \n12854221           <det><def><sp>  \n12854222            <vblex><pres>  \n12854223                  <n><sg>  \n12854224            <vblex><pres>  \n12854225                  <n><sg>  \n\n[12836934 rows x 10 columns]",
      "text/html": "<div>\n<style scoped>\n    .dataframe tbody tr th:only-of-type {\n        vertical-align: middle;\n    }\n\n    .dataframe tbody tr th {\n        vertical-align: top;\n    }\n\n    .dataframe thead th {\n        text-align: right;\n    }\n</style>\n<table border=\"1\" class=\"dataframe\">\n  <thead>\n    <tr style=\"text-align: right;\">\n      <th></th>\n      <th>p_recall</th>\n      <th>delta</th>\n      <th>learning_language</th>\n      <th>ui_language</th>\n      <th>history_seen</th>\n      <th>history_correct</th>\n      <th>session_seen</th>\n      <th>surface_form</th>\n      <th>root_form</th>\n      <th>modifiers_split</th>\n    </tr>\n  </thead>\n  <tbody>\n    <tr>\n      <th>0</th>\n      <td>1.000000</td>\n      <td>7680.454167</td>\n      <td>de</td>\n      <td>en</td>\n      <td>6</td>\n      <td>4</td>\n      <td>2</td>\n      <td>lernt</td>\n      <td>lernen</td>\n      <td>&lt;vblex&gt;&lt;pri&gt;&lt;p3&gt;&lt;sg&gt;</td>\n    </tr>\n    <tr>\n      <th>1</th>\n      <td>0.500000</td>\n      <td>7680.454167</td>\n      <td>de</td>\n      <td>en</td>\n      <td>4</td>\n      <td>4</td>\n      <td>2</td>\n      <td>die</td>\n      <td>die</td>\n      <td>&lt;det&gt;&lt;def&gt;&lt;f&gt;&lt;sg&gt;&lt;nom&gt;</td>\n    </tr>\n    <tr>\n      <th>2</th>\n      <td>1.000000</td>\n      <td>7680.454167</td>\n      <td>de</td>\n      <td>en</td>\n      <td>5</td>\n      <td>4</td>\n      <td>1</td>\n      <td>mann</td>\n      <td>mann</td>\n      <td>&lt;n&gt;&lt;m&gt;&lt;sg&gt;&lt;nom&gt;</td>\n    </tr>\n    <tr>\n      <th>3</th>\n      <td>0.500000</td>\n      <td>7680.454167</td>\n      <td>de</td>\n      <td>en</td>\n      <td>6</td>\n      <td>5</td>\n      <td>2</td>\n      <td>frau</td>\n      <td>frau</td>\n      <td>&lt;n&gt;&lt;f&gt;&lt;sg&gt;&lt;nom&gt;</td>\n    </tr>\n    <tr>\n      <th>4</th>\n      <td>1.000000</td>\n      <td>7680.454167</td>\n      <td>de</td>\n      <td>en</td>\n      <td>4</td>\n      <td>4</td>\n      <td>1</td>\n      <td>das</td>\n      <td>das</td>\n      <td>&lt;det&gt;&lt;def&gt;&lt;nt&gt;&lt;sg&gt;&lt;nom&gt;</td>\n    </tr>\n    <tr>\n      <th>...</th>\n      <td>...</td>\n      <td>...</td>\n      <td>...</td>\n      <td>...</td>\n      <td>...</td>\n      <td>...</td>\n      <td>...</td>\n      <td>...</td>\n      <td>...</td>\n      <td>...</td>\n    </tr>\n    <tr>\n      <th>12854221</th>\n      <td>0.800000</td>\n      <td>0.102222</td>\n      <td>en</td>\n      <td>it</td>\n      <td>6</td>\n      <td>4</td>\n      <td>5</td>\n      <td>the</td>\n      <td>the</td>\n      <td>&lt;det&gt;&lt;def&gt;&lt;sp&gt;</td>\n    </tr>\n    <tr>\n      <th>12854222</th>\n      <td>0.800000</td>\n      <td>0.102222</td>\n      <td>en</td>\n      <td>it</td>\n      <td>4</td>\n      <td>4</td>\n      <td>5</td>\n      <td>eat</td>\n      <td>eat</td>\n      <td>&lt;vblex&gt;&lt;pres&gt;</td>\n    </tr>\n    <tr>\n      <th>12854223</th>\n      <td>1.000000</td>\n      <td>0.102222</td>\n      <td>en</td>\n      <td>it</td>\n      <td>4</td>\n      <td>4</td>\n      <td>4</td>\n      <td>bread</td>\n      <td>bread</td>\n      <td>&lt;n&gt;&lt;sg&gt;</td>\n    </tr>\n    <tr>\n      <th>12854224</th>\n      <td>0.600000</td>\n      <td>0.102222</td>\n      <td>en</td>\n      <td>it</td>\n      <td>3</td>\n      <td>2</td>\n      <td>5</td>\n      <td>drink</td>\n      <td>drink</td>\n      <td>&lt;vblex&gt;&lt;pres&gt;</td>\n    </tr>\n    <tr>\n      <th>12854225</th>\n      <td>0.666667</td>\n      <td>0.102222</td>\n      <td>en</td>\n      <td>it</td>\n      <td>5</td>\n      <td>3</td>\n      <td>9</td>\n      <td>water</td>\n      <td>water</td>\n      <td>&lt;n&gt;&lt;sg&gt;</td>\n    </tr>\n  </tbody>\n</table>\n<p>12836934 rows × 10 columns</p>\n</div>"
     },
     "execution_count": 16,
     "metadata": {},
     "output_type": "execute_result"
    }
   ],
   "source": [
    "del data[\"lexeme_string\"]\n",
    "data"
   ],
   "metadata": {
    "collapsed": false,
    "pycharm": {
     "name": "#%%\n"
    }
   }
  },
  {
   "cell_type": "code",
   "execution_count": 17,
   "outputs": [],
   "source": [
    "data[\"history_incorrect\"]= data[\"history_seen\"]-data[\"history_correct\"]"
   ],
   "metadata": {
    "collapsed": false,
    "pycharm": {
     "name": "#%%\n"
    }
   }
  },
  {
   "cell_type": "code",
   "execution_count": 18,
   "outputs": [],
   "source": [
    "data[\"word_length\"]=data[\"surface_form\"].apply(len)\n"
   ],
   "metadata": {
    "collapsed": false,
    "pycharm": {
     "name": "#%%\n"
    }
   }
  },
  {
   "cell_type": "code",
   "execution_count": 19,
   "outputs": [],
   "source": [
    "data[\"differs_from_root\"]=((data[\"surface_form\"]!=data[\"root_form\"]).astype(int))"
   ],
   "metadata": {
    "collapsed": false,
    "pycharm": {
     "name": "#%%\n"
    }
   }
  },
  {
   "cell_type": "code",
   "execution_count": 20,
   "outputs": [
    {
     "data": {
      "text/plain": "          p_recall        delta learning_language ui_language  history_seen  \\\n0         1.000000  7680.454167                de          en             6   \n1         0.500000  7680.454167                de          en             4   \n2         1.000000  7680.454167                de          en             5   \n3         0.500000  7680.454167                de          en             6   \n4         1.000000  7680.454167                de          en             4   \n...            ...          ...               ...         ...           ...   \n12854221  0.800000     0.102222                en          it             6   \n12854222  0.800000     0.102222                en          it             4   \n12854223  1.000000     0.102222                en          it             4   \n12854224  0.600000     0.102222                en          it             3   \n12854225  0.666667     0.102222                en          it             5   \n\n          history_correct  session_seen surface_form root_form  \\\n0                       4             2        lernt    lernen   \n1                       4             2          die       die   \n2                       4             1         mann      mann   \n3                       5             2         frau      frau   \n4                       4             1          das       das   \n...                   ...           ...          ...       ...   \n12854221                4             5          the       the   \n12854222                4             5          eat       eat   \n12854223                4             4        bread     bread   \n12854224                2             5        drink     drink   \n12854225                3             9        water     water   \n\n                  modifiers_split  history_incorrect  word_length  \\\n0            <vblex><pri><p3><sg>                  2            5   \n1          <det><def><f><sg><nom>                  0            3   \n2                 <n><m><sg><nom>                  1            4   \n3                 <n><f><sg><nom>                  1            4   \n4         <det><def><nt><sg><nom>                  0            3   \n...                           ...                ...          ...   \n12854221           <det><def><sp>                  2            3   \n12854222            <vblex><pres>                  0            3   \n12854223                  <n><sg>                  0            5   \n12854224            <vblex><pres>                  1            5   \n12854225                  <n><sg>                  2            5   \n\n          differs_from_root  passed  \n0                         1       1  \n1                         0       0  \n2                         0       1  \n3                         0       0  \n4                         0       1  \n...                     ...     ...  \n12854221                  0       0  \n12854222                  0       0  \n12854223                  0       1  \n12854224                  0       0  \n12854225                  0       0  \n\n[12836934 rows x 14 columns]",
      "text/html": "<div>\n<style scoped>\n    .dataframe tbody tr th:only-of-type {\n        vertical-align: middle;\n    }\n\n    .dataframe tbody tr th {\n        vertical-align: top;\n    }\n\n    .dataframe thead th {\n        text-align: right;\n    }\n</style>\n<table border=\"1\" class=\"dataframe\">\n  <thead>\n    <tr style=\"text-align: right;\">\n      <th></th>\n      <th>p_recall</th>\n      <th>delta</th>\n      <th>learning_language</th>\n      <th>ui_language</th>\n      <th>history_seen</th>\n      <th>history_correct</th>\n      <th>session_seen</th>\n      <th>surface_form</th>\n      <th>root_form</th>\n      <th>modifiers_split</th>\n      <th>history_incorrect</th>\n      <th>word_length</th>\n      <th>differs_from_root</th>\n      <th>passed</th>\n    </tr>\n  </thead>\n  <tbody>\n    <tr>\n      <th>0</th>\n      <td>1.000000</td>\n      <td>7680.454167</td>\n      <td>de</td>\n      <td>en</td>\n      <td>6</td>\n      <td>4</td>\n      <td>2</td>\n      <td>lernt</td>\n      <td>lernen</td>\n      <td>&lt;vblex&gt;&lt;pri&gt;&lt;p3&gt;&lt;sg&gt;</td>\n      <td>2</td>\n      <td>5</td>\n      <td>1</td>\n      <td>1</td>\n    </tr>\n    <tr>\n      <th>1</th>\n      <td>0.500000</td>\n      <td>7680.454167</td>\n      <td>de</td>\n      <td>en</td>\n      <td>4</td>\n      <td>4</td>\n      <td>2</td>\n      <td>die</td>\n      <td>die</td>\n      <td>&lt;det&gt;&lt;def&gt;&lt;f&gt;&lt;sg&gt;&lt;nom&gt;</td>\n      <td>0</td>\n      <td>3</td>\n      <td>0</td>\n      <td>0</td>\n    </tr>\n    <tr>\n      <th>2</th>\n      <td>1.000000</td>\n      <td>7680.454167</td>\n      <td>de</td>\n      <td>en</td>\n      <td>5</td>\n      <td>4</td>\n      <td>1</td>\n      <td>mann</td>\n      <td>mann</td>\n      <td>&lt;n&gt;&lt;m&gt;&lt;sg&gt;&lt;nom&gt;</td>\n      <td>1</td>\n      <td>4</td>\n      <td>0</td>\n      <td>1</td>\n    </tr>\n    <tr>\n      <th>3</th>\n      <td>0.500000</td>\n      <td>7680.454167</td>\n      <td>de</td>\n      <td>en</td>\n      <td>6</td>\n      <td>5</td>\n      <td>2</td>\n      <td>frau</td>\n      <td>frau</td>\n      <td>&lt;n&gt;&lt;f&gt;&lt;sg&gt;&lt;nom&gt;</td>\n      <td>1</td>\n      <td>4</td>\n      <td>0</td>\n      <td>0</td>\n    </tr>\n    <tr>\n      <th>4</th>\n      <td>1.000000</td>\n      <td>7680.454167</td>\n      <td>de</td>\n      <td>en</td>\n      <td>4</td>\n      <td>4</td>\n      <td>1</td>\n      <td>das</td>\n      <td>das</td>\n      <td>&lt;det&gt;&lt;def&gt;&lt;nt&gt;&lt;sg&gt;&lt;nom&gt;</td>\n      <td>0</td>\n      <td>3</td>\n      <td>0</td>\n      <td>1</td>\n    </tr>\n    <tr>\n      <th>...</th>\n      <td>...</td>\n      <td>...</td>\n      <td>...</td>\n      <td>...</td>\n      <td>...</td>\n      <td>...</td>\n      <td>...</td>\n      <td>...</td>\n      <td>...</td>\n      <td>...</td>\n      <td>...</td>\n      <td>...</td>\n      <td>...</td>\n      <td>...</td>\n    </tr>\n    <tr>\n      <th>12854221</th>\n      <td>0.800000</td>\n      <td>0.102222</td>\n      <td>en</td>\n      <td>it</td>\n      <td>6</td>\n      <td>4</td>\n      <td>5</td>\n      <td>the</td>\n      <td>the</td>\n      <td>&lt;det&gt;&lt;def&gt;&lt;sp&gt;</td>\n      <td>2</td>\n      <td>3</td>\n      <td>0</td>\n      <td>0</td>\n    </tr>\n    <tr>\n      <th>12854222</th>\n      <td>0.800000</td>\n      <td>0.102222</td>\n      <td>en</td>\n      <td>it</td>\n      <td>4</td>\n      <td>4</td>\n      <td>5</td>\n      <td>eat</td>\n      <td>eat</td>\n      <td>&lt;vblex&gt;&lt;pres&gt;</td>\n      <td>0</td>\n      <td>3</td>\n      <td>0</td>\n      <td>0</td>\n    </tr>\n    <tr>\n      <th>12854223</th>\n      <td>1.000000</td>\n      <td>0.102222</td>\n      <td>en</td>\n      <td>it</td>\n      <td>4</td>\n      <td>4</td>\n      <td>4</td>\n      <td>bread</td>\n      <td>bread</td>\n      <td>&lt;n&gt;&lt;sg&gt;</td>\n      <td>0</td>\n      <td>5</td>\n      <td>0</td>\n      <td>1</td>\n    </tr>\n    <tr>\n      <th>12854224</th>\n      <td>0.600000</td>\n      <td>0.102222</td>\n      <td>en</td>\n      <td>it</td>\n      <td>3</td>\n      <td>2</td>\n      <td>5</td>\n      <td>drink</td>\n      <td>drink</td>\n      <td>&lt;vblex&gt;&lt;pres&gt;</td>\n      <td>1</td>\n      <td>5</td>\n      <td>0</td>\n      <td>0</td>\n    </tr>\n    <tr>\n      <th>12854225</th>\n      <td>0.666667</td>\n      <td>0.102222</td>\n      <td>en</td>\n      <td>it</td>\n      <td>5</td>\n      <td>3</td>\n      <td>9</td>\n      <td>water</td>\n      <td>water</td>\n      <td>&lt;n&gt;&lt;sg&gt;</td>\n      <td>2</td>\n      <td>5</td>\n      <td>0</td>\n      <td>0</td>\n    </tr>\n  </tbody>\n</table>\n<p>12836934 rows × 14 columns</p>\n</div>"
     },
     "execution_count": 20,
     "metadata": {},
     "output_type": "execute_result"
    }
   ],
   "source": [
    "data[\"passed\"]=data[\"p_recall\"].apply(lambda x: 1 if x==1 else 0)\n",
    "data"
   ],
   "metadata": {
    "collapsed": false,
    "pycharm": {
     "name": "#%%\n"
    }
   }
  },
  {
   "cell_type": "code",
   "execution_count": null,
   "outputs": [],
   "source": [
    "#prn = pronoun/zameno\n",
    "#v... = verb/sloveso\n",
    "#pr = preposition/predlozka\n",
    "#n = noun/podstatne meno\n",
    "#adj = adjective/pridavne meno\n",
    "#cnj.. = conjunction/spojka\n",
    "#det = determiner\n",
    "#adv = adverb/prislovka\n",
    "#ij = interjenction/citoslovcia(pozdrav)\n",
    "#=====================\n",
    "#sg = singular\n",
    "#pl = plural\n"
   ],
   "metadata": {
    "collapsed": false,
    "pycharm": {
     "name": "#%%\n"
    }
   }
  },
  {
   "cell_type": "code",
   "execution_count": 102,
   "outputs": [],
   "source": [
    "def regexer_verb(lexeme):\n",
    "    if re.search(\"<v(.+?)>\", str(lexeme)):\n",
    "        return 1\n",
    "    else:\n",
    "        return 0\n",
    "\n",
    "def regexer_noun(lexeme):\n",
    "    if re.search(\"<n>\", str(lexeme)):\n",
    "        return 1\n",
    "    elif re.search(\"<np>\", str(lexeme)):\n",
    "        return 1\n",
    "    else:\n",
    "        return 0\n",
    "def regexer_prepostion(lexeme):\n",
    "    if re.search(\"<pr>\", str(lexeme)):\n",
    "        return 1\n",
    "    if re.search(\"<pprep>\", str(lexeme)):\n",
    "        return 1\n",
    "    else:\n",
    "        return 0\n",
    "def regexer_pronoun(lexeme):\n",
    "    if re.search(\"<prn>\", str(lexeme)):\n",
    "        return 1\n",
    "    else:\n",
    "        return 0\n",
    "def regexer_adjective(lexeme):\n",
    "    if re.search(\"<adj>\", str(lexeme)):\n",
    "        return 1\n",
    "    elif re.search(\"<rel>\", str(lexeme)):\n",
    "        return 1\n",
    "    else:\n",
    "        return 0\n",
    "def regexer_adverb(lexeme):\n",
    "    if re.search(\"<adv>\", str(lexeme)):\n",
    "        return 1\n",
    "    elif re.search(\"<preadv>\", str(lexeme)):\n",
    "        return 1\n",
    "    else:\n",
    "        return 0\n",
    "def regexer_conjunction(lexeme):\n",
    "    if re.search(\"<cnj(.+?)>\", str(lexeme)):\n",
    "        return 1\n",
    "    else:\n",
    "        return 0\n",
    "def regexer_determiner(lexeme):\n",
    "    if re.search(\"<det>\", str(lexeme)):\n",
    "        return 1\n",
    "    elif re.search(\"<predet>\", str(lexeme)):\n",
    "        return 1\n",
    "    else:\n",
    "        return 0\n",
    "def regexer_interjection(lexeme):\n",
    "    if re.search(\"<ij>\", str(lexeme)):\n",
    "        return 1\n",
    "    else:\n",
    "        return 0\n",
    "def regexer_plural(lexeme):\n",
    "    if re.search(\"<pl>\", str(lexeme)):\n",
    "        return 1\n",
    "    else:\n",
    "        return 0\n",
    "\n",
    "def regexer_number(lexeme):\n",
    "    if re.search(\"<num>\", str(lexeme)):\n",
    "        return 1\n",
    "    if re.search(\"<ord>\", str(lexeme)):\n",
    "        return 1\n",
    "    else:\n",
    "        return 0\n",
    "def regexer_phrase(lexeme):\n",
    "    if re.search(\"<@(.+?)>\", str(lexeme)):\n",
    "        return 1\n",
    "    else:\n",
    "        return 0\n",
    "\n",
    "\n"
   ],
   "metadata": {
    "collapsed": false,
    "pycharm": {
     "name": "#%%\n"
    }
   }
  },
  {
   "cell_type": "code",
   "execution_count": 88,
   "outputs": [
    {
     "data": {
      "text/plain": "          p_recall        delta learning_language ui_language  history_seen  \\\n0         1.000000  7680.454167                de          en             6   \n1         0.500000  7680.454167                de          en             4   \n2         1.000000  7680.454167                de          en             5   \n3         0.500000  7680.454167                de          en             6   \n4         1.000000  7680.454167                de          en             4   \n...            ...          ...               ...         ...           ...   \n12854221  0.800000     0.102222                en          it             6   \n12854222  0.800000     0.102222                en          it             4   \n12854223  1.000000     0.102222                en          it             4   \n12854224  0.600000     0.102222                en          it             3   \n12854225  0.666667     0.102222                en          it             5   \n\n          history_correct  session_seen surface_form root_form  \\\n0                       4             2        lernt    lernen   \n1                       4             2          die       die   \n2                       4             1         mann      mann   \n3                       5             2         frau      frau   \n4                       4             1          das       das   \n...                   ...           ...          ...       ...   \n12854221                4             5          the       the   \n12854222                4             5          eat       eat   \n12854223                4             4        bread     bread   \n12854224                2             5        drink     drink   \n12854225                3             9        water     water   \n\n                  modifiers_split  ...  preposition  pronoun  adjective  \\\n0            <vblex><pri><p3><sg>  ...            0        0          0   \n1          <det><def><f><sg><nom>  ...            0        0          0   \n2                 <n><m><sg><nom>  ...            0        0          0   \n3                 <n><f><sg><nom>  ...            0        0          0   \n4         <det><def><nt><sg><nom>  ...            0        0          0   \n...                           ...  ...          ...      ...        ...   \n12854221           <det><def><sp>  ...            0        0          0   \n12854222            <vblex><pres>  ...            0        0          0   \n12854223                  <n><sg>  ...            0        0          0   \n12854224            <vblex><pres>  ...            0        0          0   \n12854225                  <n><sg>  ...            0        0          0   \n\n          adverb  conjunction  determiner  interjection  plural  number  \\\n0              0            0           0             0       0       0   \n1              0            0           1             0       0       0   \n2              0            0           0             0       0       0   \n3              0            0           0             0       0       0   \n4              0            0           1             0       0       0   \n...          ...          ...         ...           ...     ...     ...   \n12854221       0            0           1             0       0       0   \n12854222       0            0           0             0       0       0   \n12854223       0            0           0             0       0       0   \n12854224       0            0           0             0       0       0   \n12854225       0            0           0             0       0       0   \n\n          phrase  \n0              0  \n1              0  \n2              0  \n3              0  \n4              0  \n...          ...  \n12854221       0  \n12854222       0  \n12854223       0  \n12854224       0  \n12854225       0  \n\n[12836934 rows x 26 columns]",
      "text/html": "<div>\n<style scoped>\n    .dataframe tbody tr th:only-of-type {\n        vertical-align: middle;\n    }\n\n    .dataframe tbody tr th {\n        vertical-align: top;\n    }\n\n    .dataframe thead th {\n        text-align: right;\n    }\n</style>\n<table border=\"1\" class=\"dataframe\">\n  <thead>\n    <tr style=\"text-align: right;\">\n      <th></th>\n      <th>p_recall</th>\n      <th>delta</th>\n      <th>learning_language</th>\n      <th>ui_language</th>\n      <th>history_seen</th>\n      <th>history_correct</th>\n      <th>session_seen</th>\n      <th>surface_form</th>\n      <th>root_form</th>\n      <th>modifiers_split</th>\n      <th>...</th>\n      <th>preposition</th>\n      <th>pronoun</th>\n      <th>adjective</th>\n      <th>adverb</th>\n      <th>conjunction</th>\n      <th>determiner</th>\n      <th>interjection</th>\n      <th>plural</th>\n      <th>number</th>\n      <th>phrase</th>\n    </tr>\n  </thead>\n  <tbody>\n    <tr>\n      <th>0</th>\n      <td>1.000000</td>\n      <td>7680.454167</td>\n      <td>de</td>\n      <td>en</td>\n      <td>6</td>\n      <td>4</td>\n      <td>2</td>\n      <td>lernt</td>\n      <td>lernen</td>\n      <td>&lt;vblex&gt;&lt;pri&gt;&lt;p3&gt;&lt;sg&gt;</td>\n      <td>...</td>\n      <td>0</td>\n      <td>0</td>\n      <td>0</td>\n      <td>0</td>\n      <td>0</td>\n      <td>0</td>\n      <td>0</td>\n      <td>0</td>\n      <td>0</td>\n      <td>0</td>\n    </tr>\n    <tr>\n      <th>1</th>\n      <td>0.500000</td>\n      <td>7680.454167</td>\n      <td>de</td>\n      <td>en</td>\n      <td>4</td>\n      <td>4</td>\n      <td>2</td>\n      <td>die</td>\n      <td>die</td>\n      <td>&lt;det&gt;&lt;def&gt;&lt;f&gt;&lt;sg&gt;&lt;nom&gt;</td>\n      <td>...</td>\n      <td>0</td>\n      <td>0</td>\n      <td>0</td>\n      <td>0</td>\n      <td>0</td>\n      <td>1</td>\n      <td>0</td>\n      <td>0</td>\n      <td>0</td>\n      <td>0</td>\n    </tr>\n    <tr>\n      <th>2</th>\n      <td>1.000000</td>\n      <td>7680.454167</td>\n      <td>de</td>\n      <td>en</td>\n      <td>5</td>\n      <td>4</td>\n      <td>1</td>\n      <td>mann</td>\n      <td>mann</td>\n      <td>&lt;n&gt;&lt;m&gt;&lt;sg&gt;&lt;nom&gt;</td>\n      <td>...</td>\n      <td>0</td>\n      <td>0</td>\n      <td>0</td>\n      <td>0</td>\n      <td>0</td>\n      <td>0</td>\n      <td>0</td>\n      <td>0</td>\n      <td>0</td>\n      <td>0</td>\n    </tr>\n    <tr>\n      <th>3</th>\n      <td>0.500000</td>\n      <td>7680.454167</td>\n      <td>de</td>\n      <td>en</td>\n      <td>6</td>\n      <td>5</td>\n      <td>2</td>\n      <td>frau</td>\n      <td>frau</td>\n      <td>&lt;n&gt;&lt;f&gt;&lt;sg&gt;&lt;nom&gt;</td>\n      <td>...</td>\n      <td>0</td>\n      <td>0</td>\n      <td>0</td>\n      <td>0</td>\n      <td>0</td>\n      <td>0</td>\n      <td>0</td>\n      <td>0</td>\n      <td>0</td>\n      <td>0</td>\n    </tr>\n    <tr>\n      <th>4</th>\n      <td>1.000000</td>\n      <td>7680.454167</td>\n      <td>de</td>\n      <td>en</td>\n      <td>4</td>\n      <td>4</td>\n      <td>1</td>\n      <td>das</td>\n      <td>das</td>\n      <td>&lt;det&gt;&lt;def&gt;&lt;nt&gt;&lt;sg&gt;&lt;nom&gt;</td>\n      <td>...</td>\n      <td>0</td>\n      <td>0</td>\n      <td>0</td>\n      <td>0</td>\n      <td>0</td>\n      <td>1</td>\n      <td>0</td>\n      <td>0</td>\n      <td>0</td>\n      <td>0</td>\n    </tr>\n    <tr>\n      <th>...</th>\n      <td>...</td>\n      <td>...</td>\n      <td>...</td>\n      <td>...</td>\n      <td>...</td>\n      <td>...</td>\n      <td>...</td>\n      <td>...</td>\n      <td>...</td>\n      <td>...</td>\n      <td>...</td>\n      <td>...</td>\n      <td>...</td>\n      <td>...</td>\n      <td>...</td>\n      <td>...</td>\n      <td>...</td>\n      <td>...</td>\n      <td>...</td>\n      <td>...</td>\n      <td>...</td>\n    </tr>\n    <tr>\n      <th>12854221</th>\n      <td>0.800000</td>\n      <td>0.102222</td>\n      <td>en</td>\n      <td>it</td>\n      <td>6</td>\n      <td>4</td>\n      <td>5</td>\n      <td>the</td>\n      <td>the</td>\n      <td>&lt;det&gt;&lt;def&gt;&lt;sp&gt;</td>\n      <td>...</td>\n      <td>0</td>\n      <td>0</td>\n      <td>0</td>\n      <td>0</td>\n      <td>0</td>\n      <td>1</td>\n      <td>0</td>\n      <td>0</td>\n      <td>0</td>\n      <td>0</td>\n    </tr>\n    <tr>\n      <th>12854222</th>\n      <td>0.800000</td>\n      <td>0.102222</td>\n      <td>en</td>\n      <td>it</td>\n      <td>4</td>\n      <td>4</td>\n      <td>5</td>\n      <td>eat</td>\n      <td>eat</td>\n      <td>&lt;vblex&gt;&lt;pres&gt;</td>\n      <td>...</td>\n      <td>0</td>\n      <td>0</td>\n      <td>0</td>\n      <td>0</td>\n      <td>0</td>\n      <td>0</td>\n      <td>0</td>\n      <td>0</td>\n      <td>0</td>\n      <td>0</td>\n    </tr>\n    <tr>\n      <th>12854223</th>\n      <td>1.000000</td>\n      <td>0.102222</td>\n      <td>en</td>\n      <td>it</td>\n      <td>4</td>\n      <td>4</td>\n      <td>4</td>\n      <td>bread</td>\n      <td>bread</td>\n      <td>&lt;n&gt;&lt;sg&gt;</td>\n      <td>...</td>\n      <td>0</td>\n      <td>0</td>\n      <td>0</td>\n      <td>0</td>\n      <td>0</td>\n      <td>0</td>\n      <td>0</td>\n      <td>0</td>\n      <td>0</td>\n      <td>0</td>\n    </tr>\n    <tr>\n      <th>12854224</th>\n      <td>0.600000</td>\n      <td>0.102222</td>\n      <td>en</td>\n      <td>it</td>\n      <td>3</td>\n      <td>2</td>\n      <td>5</td>\n      <td>drink</td>\n      <td>drink</td>\n      <td>&lt;vblex&gt;&lt;pres&gt;</td>\n      <td>...</td>\n      <td>0</td>\n      <td>0</td>\n      <td>0</td>\n      <td>0</td>\n      <td>0</td>\n      <td>0</td>\n      <td>0</td>\n      <td>0</td>\n      <td>0</td>\n      <td>0</td>\n    </tr>\n    <tr>\n      <th>12854225</th>\n      <td>0.666667</td>\n      <td>0.102222</td>\n      <td>en</td>\n      <td>it</td>\n      <td>5</td>\n      <td>3</td>\n      <td>9</td>\n      <td>water</td>\n      <td>water</td>\n      <td>&lt;n&gt;&lt;sg&gt;</td>\n      <td>...</td>\n      <td>0</td>\n      <td>0</td>\n      <td>0</td>\n      <td>0</td>\n      <td>0</td>\n      <td>0</td>\n      <td>0</td>\n      <td>0</td>\n      <td>0</td>\n      <td>0</td>\n    </tr>\n  </tbody>\n</table>\n<p>12836934 rows × 26 columns</p>\n</div>"
     },
     "execution_count": 88,
     "metadata": {},
     "output_type": "execute_result"
    }
   ],
   "source": [
    "data[\"verb\"]=data[\"modifiers_split\"].apply(regexer_verb)\n",
    "data[\"noun\"]=data[\"modifiers_split\"].apply(regexer_noun)\n",
    "data[\"preposition\"]=data[\"modifiers_split\"].apply(regexer_prepostion)\n",
    "data[\"pronoun\"]=data[\"modifiers_split\"].apply(regexer_pronoun)\n",
    "data[\"adjective\"]=data[\"modifiers_split\"].apply(regexer_adjective)\n",
    "data[\"determiner\"]=data[\"modifiers_split\"].apply(regexer_determiner)\n",
    "data[\"adverb\"]=data[\"modifiers_split\"].apply(regexer_adverb)\n",
    "data[\"conjunction\"]=data[\"modifiers_split\"].apply(regexer_conjunction)\n",
    "data[\"interjection\"]=data[\"modifiers_split\"].apply(regexer_interjection)\n",
    "data[\"plural\"]=data[\"modifiers_split\"].apply(regexer_plural)\n",
    "data[\"number\"]=data[\"modifiers_split\"].apply(regexer_number)\n",
    "data[\"phrase\"]=data[\"modifiers_split\"].apply(regexer_phrase)\n",
    "data\n",
    "\n",
    "\n",
    "\n"
   ],
   "metadata": {
    "collapsed": false,
    "pycharm": {
     "name": "#%%\n"
    }
   }
  },
  {
   "cell_type": "code",
   "execution_count": 103,
   "outputs": [],
   "source": [
    "\n"
   ],
   "metadata": {
    "collapsed": false,
    "pycharm": {
     "name": "#%%\n"
    }
   }
  },
  {
   "cell_type": "code",
   "execution_count": 104,
   "outputs": [],
   "source": [
    "unassigned_data=data.loc[(data[\"verb\"]==0) & (data[\"noun\"]==0)& (data[\"preposition\"]==0)& (data[\"pronoun\"]==0)& (data[\"adjective\"]==0)& (data[\"adverb\"]==0)& (data[\"conjunction\"]==0)& (data[\"determiner\"]==0)& (data[\"interjection\"]==0)& (data[\"number\"]==0)& (data[\"phrase\"]==0)]"
   ],
   "metadata": {
    "collapsed": false,
    "pycharm": {
     "name": "#%%\n"
    }
   }
  },
  {
   "cell_type": "markdown",
   "source": [],
   "metadata": {
    "collapsed": false
   }
  },
  {
   "cell_type": "code",
   "execution_count": 105,
   "outputs": [
    {
     "data": {
      "text/plain": "Empty DataFrame\nColumns: [learning_language, surface_form, root_form, modifiers_split]\nIndex: []",
      "text/html": "<div>\n<style scoped>\n    .dataframe tbody tr th:only-of-type {\n        vertical-align: middle;\n    }\n\n    .dataframe tbody tr th {\n        vertical-align: top;\n    }\n\n    .dataframe thead th {\n        text-align: right;\n    }\n</style>\n<table border=\"1\" class=\"dataframe\">\n  <thead>\n    <tr style=\"text-align: right;\">\n      <th></th>\n      <th>learning_language</th>\n      <th>surface_form</th>\n      <th>root_form</th>\n      <th>modifiers_split</th>\n    </tr>\n  </thead>\n  <tbody>\n  </tbody>\n</table>\n</div>"
     },
     "execution_count": 105,
     "metadata": {},
     "output_type": "execute_result"
    }
   ],
   "source": [
    "unassigned_data[[\"learning_language\",\"surface_form\",\"root_form\",\"modifiers_split\"]]\n",
    "#display(np.unique(unassigned_data[\"modifiers_split\"]))"
   ],
   "metadata": {
    "collapsed": false,
    "pycharm": {
     "name": "#%%\n"
    }
   }
  },
  {
   "cell_type": "code",
   "execution_count": 116,
   "outputs": [
    {
     "name": "stdout",
     "output_type": "stream",
     "text": [
      "1\n"
     ]
    }
   ],
   "source": [
    "#pip install syllables\n",
    "import syllables\n",
    "\n",
    "print(syllables.estimate(\"tuo\"))"
   ],
   "metadata": {
    "collapsed": false,
    "pycharm": {
     "name": "#%%\n"
    }
   }
  },
  {
   "cell_type": "code",
   "execution_count": 118,
   "outputs": [],
   "source": [
    "data[\"syllables\"]=data[\"surface_form\"].apply(syllables.estimate)"
   ],
   "metadata": {
    "collapsed": false,
    "pycharm": {
     "name": "#%%\n"
    }
   }
  },
  {
   "cell_type": "code",
   "execution_count": 119,
   "outputs": [
    {
     "data": {
      "text/plain": "          p_recall        delta learning_language ui_language  history_seen  \\\n0         1.000000  7680.454167                de          en             6   \n1         0.500000  7680.454167                de          en             4   \n2         1.000000  7680.454167                de          en             5   \n3         0.500000  7680.454167                de          en             6   \n4         1.000000  7680.454167                de          en             4   \n...            ...          ...               ...         ...           ...   \n12854221  0.800000     0.102222                en          it             6   \n12854222  0.800000     0.102222                en          it             4   \n12854223  1.000000     0.102222                en          it             4   \n12854224  0.600000     0.102222                en          it             3   \n12854225  0.666667     0.102222                en          it             5   \n\n          history_correct  session_seen surface_form root_form  \\\n0                       4             2        lernt    lernen   \n1                       4             2          die       die   \n2                       4             1         mann      mann   \n3                       5             2         frau      frau   \n4                       4             1          das       das   \n...                   ...           ...          ...       ...   \n12854221                4             5          the       the   \n12854222                4             5          eat       eat   \n12854223                4             4        bread     bread   \n12854224                2             5        drink     drink   \n12854225                3             9        water     water   \n\n                  modifiers_split  ...  pronoun  adjective  adverb  \\\n0            <vblex><pri><p3><sg>  ...        0          0       0   \n1          <det><def><f><sg><nom>  ...        0          0       0   \n2                 <n><m><sg><nom>  ...        0          0       0   \n3                 <n><f><sg><nom>  ...        0          0       0   \n4         <det><def><nt><sg><nom>  ...        0          0       0   \n...                           ...  ...      ...        ...     ...   \n12854221           <det><def><sp>  ...        0          0       0   \n12854222            <vblex><pres>  ...        0          0       0   \n12854223                  <n><sg>  ...        0          0       0   \n12854224            <vblex><pres>  ...        0          0       0   \n12854225                  <n><sg>  ...        0          0       0   \n\n          conjunction  determiner  interjection  plural  number  phrase  \\\n0                   0           0             0       0       0       0   \n1                   0           1             0       0       0       0   \n2                   0           0             0       0       0       0   \n3                   0           0             0       0       0       0   \n4                   0           1             0       0       0       0   \n...               ...         ...           ...     ...     ...     ...   \n12854221            0           1             0       0       0       0   \n12854222            0           0             0       0       0       0   \n12854223            0           0             0       0       0       0   \n12854224            0           0             0       0       0       0   \n12854225            0           0             0       0       0       0   \n\n          syllables  \n0                 1  \n1                 1  \n2                 1  \n3                 1  \n4                 1  \n...             ...  \n12854221          1  \n12854222          1  \n12854223          1  \n12854224          1  \n12854225          2  \n\n[12836934 rows x 27 columns]",
      "text/html": "<div>\n<style scoped>\n    .dataframe tbody tr th:only-of-type {\n        vertical-align: middle;\n    }\n\n    .dataframe tbody tr th {\n        vertical-align: top;\n    }\n\n    .dataframe thead th {\n        text-align: right;\n    }\n</style>\n<table border=\"1\" class=\"dataframe\">\n  <thead>\n    <tr style=\"text-align: right;\">\n      <th></th>\n      <th>p_recall</th>\n      <th>delta</th>\n      <th>learning_language</th>\n      <th>ui_language</th>\n      <th>history_seen</th>\n      <th>history_correct</th>\n      <th>session_seen</th>\n      <th>surface_form</th>\n      <th>root_form</th>\n      <th>modifiers_split</th>\n      <th>...</th>\n      <th>pronoun</th>\n      <th>adjective</th>\n      <th>adverb</th>\n      <th>conjunction</th>\n      <th>determiner</th>\n      <th>interjection</th>\n      <th>plural</th>\n      <th>number</th>\n      <th>phrase</th>\n      <th>syllables</th>\n    </tr>\n  </thead>\n  <tbody>\n    <tr>\n      <th>0</th>\n      <td>1.000000</td>\n      <td>7680.454167</td>\n      <td>de</td>\n      <td>en</td>\n      <td>6</td>\n      <td>4</td>\n      <td>2</td>\n      <td>lernt</td>\n      <td>lernen</td>\n      <td>&lt;vblex&gt;&lt;pri&gt;&lt;p3&gt;&lt;sg&gt;</td>\n      <td>...</td>\n      <td>0</td>\n      <td>0</td>\n      <td>0</td>\n      <td>0</td>\n      <td>0</td>\n      <td>0</td>\n      <td>0</td>\n      <td>0</td>\n      <td>0</td>\n      <td>1</td>\n    </tr>\n    <tr>\n      <th>1</th>\n      <td>0.500000</td>\n      <td>7680.454167</td>\n      <td>de</td>\n      <td>en</td>\n      <td>4</td>\n      <td>4</td>\n      <td>2</td>\n      <td>die</td>\n      <td>die</td>\n      <td>&lt;det&gt;&lt;def&gt;&lt;f&gt;&lt;sg&gt;&lt;nom&gt;</td>\n      <td>...</td>\n      <td>0</td>\n      <td>0</td>\n      <td>0</td>\n      <td>0</td>\n      <td>1</td>\n      <td>0</td>\n      <td>0</td>\n      <td>0</td>\n      <td>0</td>\n      <td>1</td>\n    </tr>\n    <tr>\n      <th>2</th>\n      <td>1.000000</td>\n      <td>7680.454167</td>\n      <td>de</td>\n      <td>en</td>\n      <td>5</td>\n      <td>4</td>\n      <td>1</td>\n      <td>mann</td>\n      <td>mann</td>\n      <td>&lt;n&gt;&lt;m&gt;&lt;sg&gt;&lt;nom&gt;</td>\n      <td>...</td>\n      <td>0</td>\n      <td>0</td>\n      <td>0</td>\n      <td>0</td>\n      <td>0</td>\n      <td>0</td>\n      <td>0</td>\n      <td>0</td>\n      <td>0</td>\n      <td>1</td>\n    </tr>\n    <tr>\n      <th>3</th>\n      <td>0.500000</td>\n      <td>7680.454167</td>\n      <td>de</td>\n      <td>en</td>\n      <td>6</td>\n      <td>5</td>\n      <td>2</td>\n      <td>frau</td>\n      <td>frau</td>\n      <td>&lt;n&gt;&lt;f&gt;&lt;sg&gt;&lt;nom&gt;</td>\n      <td>...</td>\n      <td>0</td>\n      <td>0</td>\n      <td>0</td>\n      <td>0</td>\n      <td>0</td>\n      <td>0</td>\n      <td>0</td>\n      <td>0</td>\n      <td>0</td>\n      <td>1</td>\n    </tr>\n    <tr>\n      <th>4</th>\n      <td>1.000000</td>\n      <td>7680.454167</td>\n      <td>de</td>\n      <td>en</td>\n      <td>4</td>\n      <td>4</td>\n      <td>1</td>\n      <td>das</td>\n      <td>das</td>\n      <td>&lt;det&gt;&lt;def&gt;&lt;nt&gt;&lt;sg&gt;&lt;nom&gt;</td>\n      <td>...</td>\n      <td>0</td>\n      <td>0</td>\n      <td>0</td>\n      <td>0</td>\n      <td>1</td>\n      <td>0</td>\n      <td>0</td>\n      <td>0</td>\n      <td>0</td>\n      <td>1</td>\n    </tr>\n    <tr>\n      <th>...</th>\n      <td>...</td>\n      <td>...</td>\n      <td>...</td>\n      <td>...</td>\n      <td>...</td>\n      <td>...</td>\n      <td>...</td>\n      <td>...</td>\n      <td>...</td>\n      <td>...</td>\n      <td>...</td>\n      <td>...</td>\n      <td>...</td>\n      <td>...</td>\n      <td>...</td>\n      <td>...</td>\n      <td>...</td>\n      <td>...</td>\n      <td>...</td>\n      <td>...</td>\n      <td>...</td>\n    </tr>\n    <tr>\n      <th>12854221</th>\n      <td>0.800000</td>\n      <td>0.102222</td>\n      <td>en</td>\n      <td>it</td>\n      <td>6</td>\n      <td>4</td>\n      <td>5</td>\n      <td>the</td>\n      <td>the</td>\n      <td>&lt;det&gt;&lt;def&gt;&lt;sp&gt;</td>\n      <td>...</td>\n      <td>0</td>\n      <td>0</td>\n      <td>0</td>\n      <td>0</td>\n      <td>1</td>\n      <td>0</td>\n      <td>0</td>\n      <td>0</td>\n      <td>0</td>\n      <td>1</td>\n    </tr>\n    <tr>\n      <th>12854222</th>\n      <td>0.800000</td>\n      <td>0.102222</td>\n      <td>en</td>\n      <td>it</td>\n      <td>4</td>\n      <td>4</td>\n      <td>5</td>\n      <td>eat</td>\n      <td>eat</td>\n      <td>&lt;vblex&gt;&lt;pres&gt;</td>\n      <td>...</td>\n      <td>0</td>\n      <td>0</td>\n      <td>0</td>\n      <td>0</td>\n      <td>0</td>\n      <td>0</td>\n      <td>0</td>\n      <td>0</td>\n      <td>0</td>\n      <td>1</td>\n    </tr>\n    <tr>\n      <th>12854223</th>\n      <td>1.000000</td>\n      <td>0.102222</td>\n      <td>en</td>\n      <td>it</td>\n      <td>4</td>\n      <td>4</td>\n      <td>4</td>\n      <td>bread</td>\n      <td>bread</td>\n      <td>&lt;n&gt;&lt;sg&gt;</td>\n      <td>...</td>\n      <td>0</td>\n      <td>0</td>\n      <td>0</td>\n      <td>0</td>\n      <td>0</td>\n      <td>0</td>\n      <td>0</td>\n      <td>0</td>\n      <td>0</td>\n      <td>1</td>\n    </tr>\n    <tr>\n      <th>12854224</th>\n      <td>0.600000</td>\n      <td>0.102222</td>\n      <td>en</td>\n      <td>it</td>\n      <td>3</td>\n      <td>2</td>\n      <td>5</td>\n      <td>drink</td>\n      <td>drink</td>\n      <td>&lt;vblex&gt;&lt;pres&gt;</td>\n      <td>...</td>\n      <td>0</td>\n      <td>0</td>\n      <td>0</td>\n      <td>0</td>\n      <td>0</td>\n      <td>0</td>\n      <td>0</td>\n      <td>0</td>\n      <td>0</td>\n      <td>1</td>\n    </tr>\n    <tr>\n      <th>12854225</th>\n      <td>0.666667</td>\n      <td>0.102222</td>\n      <td>en</td>\n      <td>it</td>\n      <td>5</td>\n      <td>3</td>\n      <td>9</td>\n      <td>water</td>\n      <td>water</td>\n      <td>&lt;n&gt;&lt;sg&gt;</td>\n      <td>...</td>\n      <td>0</td>\n      <td>0</td>\n      <td>0</td>\n      <td>0</td>\n      <td>0</td>\n      <td>0</td>\n      <td>0</td>\n      <td>0</td>\n      <td>0</td>\n      <td>2</td>\n    </tr>\n  </tbody>\n</table>\n<p>12836934 rows × 27 columns</p>\n</div>"
     },
     "execution_count": 119,
     "metadata": {},
     "output_type": "execute_result"
    }
   ],
   "source": [
    "data"
   ],
   "metadata": {
    "collapsed": false,
    "pycharm": {
     "name": "#%%\n"
    }
   }
  },
  {
   "cell_type": "code",
   "execution_count": 120,
   "outputs": [],
   "source": [
    "data.to_csv(\"data_ready.csv\",index=False)"
   ],
   "metadata": {
    "collapsed": false,
    "pycharm": {
     "name": "#%%\n"
    }
   }
  },
  {
   "cell_type": "code",
   "execution_count": 106,
   "outputs": [
    {
     "data": {
      "text/plain": "          p_recall     delta ui_language  history_seen  history_correct  \\\n87        1.000000  0.099167          pt            17               17   \n88        1.000000  0.099167          pt            19               19   \n89        1.000000  0.099167          pt            21               20   \n90        0.800000  0.099167          pt            44               36   \n91        1.000000  0.099167          pt            21               20   \n...            ...       ...         ...           ...              ...   \n12854221  0.800000  0.102222          it             6                4   \n12854222  0.800000  0.102222          it             4                4   \n12854223  1.000000  0.102222          it             4                4   \n12854224  0.600000  0.102222          it             3                2   \n12854225  0.666667  0.102222          it             5                3   \n\n          session_seen surface_form    root_form modifiers_split  \\\n87                   2   definition   definition         <n><sg>   \n88                   3      surface      surface         <n><sg>   \n89                   3        scale        scale         <n><sg>   \n90                   5  temperature  temperature         <n><sg>   \n91                   3     distance     distance         <n><sg>   \n...                ...          ...          ...             ...   \n12854221             5          the          the  <det><def><sp>   \n12854222             5          eat          eat   <vblex><pres>   \n12854223             4        bread        bread         <n><sg>   \n12854224             5        drink        drink   <vblex><pres>   \n12854225             9        water        water         <n><sg>   \n\n          history_incorrect  ...  preposition  pronoun  adjective  adverb  \\\n87                        0  ...            0        0          0       0   \n88                        0  ...            0        0          0       0   \n89                        1  ...            0        0          0       0   \n90                        8  ...            0        0          0       0   \n91                        1  ...            0        0          0       0   \n...                     ...  ...          ...      ...        ...     ...   \n12854221                  2  ...            0        0          0       0   \n12854222                  0  ...            0        0          0       0   \n12854223                  0  ...            0        0          0       0   \n12854224                  1  ...            0        0          0       0   \n12854225                  2  ...            0        0          0       0   \n\n          conjunction  determiner  interjection  plural  number  phrase  \n87                  0           0             0       0       0       0  \n88                  0           0             0       0       0       0  \n89                  0           0             0       0       0       0  \n90                  0           0             0       0       0       0  \n91                  0           0             0       0       0       0  \n...               ...         ...           ...     ...     ...     ...  \n12854221            0           1             0       0       0       0  \n12854222            0           0             0       0       0       0  \n12854223            0           0             0       0       0       0  \n12854224            0           0             0       0       0       0  \n12854225            0           0             0       0       0       0  \n\n[4997499 rows x 25 columns]",
      "text/html": "<div>\n<style scoped>\n    .dataframe tbody tr th:only-of-type {\n        vertical-align: middle;\n    }\n\n    .dataframe tbody tr th {\n        vertical-align: top;\n    }\n\n    .dataframe thead th {\n        text-align: right;\n    }\n</style>\n<table border=\"1\" class=\"dataframe\">\n  <thead>\n    <tr style=\"text-align: right;\">\n      <th></th>\n      <th>p_recall</th>\n      <th>delta</th>\n      <th>ui_language</th>\n      <th>history_seen</th>\n      <th>history_correct</th>\n      <th>session_seen</th>\n      <th>surface_form</th>\n      <th>root_form</th>\n      <th>modifiers_split</th>\n      <th>history_incorrect</th>\n      <th>...</th>\n      <th>preposition</th>\n      <th>pronoun</th>\n      <th>adjective</th>\n      <th>adverb</th>\n      <th>conjunction</th>\n      <th>determiner</th>\n      <th>interjection</th>\n      <th>plural</th>\n      <th>number</th>\n      <th>phrase</th>\n    </tr>\n  </thead>\n  <tbody>\n    <tr>\n      <th>87</th>\n      <td>1.000000</td>\n      <td>0.099167</td>\n      <td>pt</td>\n      <td>17</td>\n      <td>17</td>\n      <td>2</td>\n      <td>definition</td>\n      <td>definition</td>\n      <td>&lt;n&gt;&lt;sg&gt;</td>\n      <td>0</td>\n      <td>...</td>\n      <td>0</td>\n      <td>0</td>\n      <td>0</td>\n      <td>0</td>\n      <td>0</td>\n      <td>0</td>\n      <td>0</td>\n      <td>0</td>\n      <td>0</td>\n      <td>0</td>\n    </tr>\n    <tr>\n      <th>88</th>\n      <td>1.000000</td>\n      <td>0.099167</td>\n      <td>pt</td>\n      <td>19</td>\n      <td>19</td>\n      <td>3</td>\n      <td>surface</td>\n      <td>surface</td>\n      <td>&lt;n&gt;&lt;sg&gt;</td>\n      <td>0</td>\n      <td>...</td>\n      <td>0</td>\n      <td>0</td>\n      <td>0</td>\n      <td>0</td>\n      <td>0</td>\n      <td>0</td>\n      <td>0</td>\n      <td>0</td>\n      <td>0</td>\n      <td>0</td>\n    </tr>\n    <tr>\n      <th>89</th>\n      <td>1.000000</td>\n      <td>0.099167</td>\n      <td>pt</td>\n      <td>21</td>\n      <td>20</td>\n      <td>3</td>\n      <td>scale</td>\n      <td>scale</td>\n      <td>&lt;n&gt;&lt;sg&gt;</td>\n      <td>1</td>\n      <td>...</td>\n      <td>0</td>\n      <td>0</td>\n      <td>0</td>\n      <td>0</td>\n      <td>0</td>\n      <td>0</td>\n      <td>0</td>\n      <td>0</td>\n      <td>0</td>\n      <td>0</td>\n    </tr>\n    <tr>\n      <th>90</th>\n      <td>0.800000</td>\n      <td>0.099167</td>\n      <td>pt</td>\n      <td>44</td>\n      <td>36</td>\n      <td>5</td>\n      <td>temperature</td>\n      <td>temperature</td>\n      <td>&lt;n&gt;&lt;sg&gt;</td>\n      <td>8</td>\n      <td>...</td>\n      <td>0</td>\n      <td>0</td>\n      <td>0</td>\n      <td>0</td>\n      <td>0</td>\n      <td>0</td>\n      <td>0</td>\n      <td>0</td>\n      <td>0</td>\n      <td>0</td>\n    </tr>\n    <tr>\n      <th>91</th>\n      <td>1.000000</td>\n      <td>0.099167</td>\n      <td>pt</td>\n      <td>21</td>\n      <td>20</td>\n      <td>3</td>\n      <td>distance</td>\n      <td>distance</td>\n      <td>&lt;n&gt;&lt;sg&gt;</td>\n      <td>1</td>\n      <td>...</td>\n      <td>0</td>\n      <td>0</td>\n      <td>0</td>\n      <td>0</td>\n      <td>0</td>\n      <td>0</td>\n      <td>0</td>\n      <td>0</td>\n      <td>0</td>\n      <td>0</td>\n    </tr>\n    <tr>\n      <th>...</th>\n      <td>...</td>\n      <td>...</td>\n      <td>...</td>\n      <td>...</td>\n      <td>...</td>\n      <td>...</td>\n      <td>...</td>\n      <td>...</td>\n      <td>...</td>\n      <td>...</td>\n      <td>...</td>\n      <td>...</td>\n      <td>...</td>\n      <td>...</td>\n      <td>...</td>\n      <td>...</td>\n      <td>...</td>\n      <td>...</td>\n      <td>...</td>\n      <td>...</td>\n      <td>...</td>\n    </tr>\n    <tr>\n      <th>12854221</th>\n      <td>0.800000</td>\n      <td>0.102222</td>\n      <td>it</td>\n      <td>6</td>\n      <td>4</td>\n      <td>5</td>\n      <td>the</td>\n      <td>the</td>\n      <td>&lt;det&gt;&lt;def&gt;&lt;sp&gt;</td>\n      <td>2</td>\n      <td>...</td>\n      <td>0</td>\n      <td>0</td>\n      <td>0</td>\n      <td>0</td>\n      <td>0</td>\n      <td>1</td>\n      <td>0</td>\n      <td>0</td>\n      <td>0</td>\n      <td>0</td>\n    </tr>\n    <tr>\n      <th>12854222</th>\n      <td>0.800000</td>\n      <td>0.102222</td>\n      <td>it</td>\n      <td>4</td>\n      <td>4</td>\n      <td>5</td>\n      <td>eat</td>\n      <td>eat</td>\n      <td>&lt;vblex&gt;&lt;pres&gt;</td>\n      <td>0</td>\n      <td>...</td>\n      <td>0</td>\n      <td>0</td>\n      <td>0</td>\n      <td>0</td>\n      <td>0</td>\n      <td>0</td>\n      <td>0</td>\n      <td>0</td>\n      <td>0</td>\n      <td>0</td>\n    </tr>\n    <tr>\n      <th>12854223</th>\n      <td>1.000000</td>\n      <td>0.102222</td>\n      <td>it</td>\n      <td>4</td>\n      <td>4</td>\n      <td>4</td>\n      <td>bread</td>\n      <td>bread</td>\n      <td>&lt;n&gt;&lt;sg&gt;</td>\n      <td>0</td>\n      <td>...</td>\n      <td>0</td>\n      <td>0</td>\n      <td>0</td>\n      <td>0</td>\n      <td>0</td>\n      <td>0</td>\n      <td>0</td>\n      <td>0</td>\n      <td>0</td>\n      <td>0</td>\n    </tr>\n    <tr>\n      <th>12854224</th>\n      <td>0.600000</td>\n      <td>0.102222</td>\n      <td>it</td>\n      <td>3</td>\n      <td>2</td>\n      <td>5</td>\n      <td>drink</td>\n      <td>drink</td>\n      <td>&lt;vblex&gt;&lt;pres&gt;</td>\n      <td>1</td>\n      <td>...</td>\n      <td>0</td>\n      <td>0</td>\n      <td>0</td>\n      <td>0</td>\n      <td>0</td>\n      <td>0</td>\n      <td>0</td>\n      <td>0</td>\n      <td>0</td>\n      <td>0</td>\n    </tr>\n    <tr>\n      <th>12854225</th>\n      <td>0.666667</td>\n      <td>0.102222</td>\n      <td>it</td>\n      <td>5</td>\n      <td>3</td>\n      <td>9</td>\n      <td>water</td>\n      <td>water</td>\n      <td>&lt;n&gt;&lt;sg&gt;</td>\n      <td>2</td>\n      <td>...</td>\n      <td>0</td>\n      <td>0</td>\n      <td>0</td>\n      <td>0</td>\n      <td>0</td>\n      <td>0</td>\n      <td>0</td>\n      <td>0</td>\n      <td>0</td>\n      <td>0</td>\n    </tr>\n  </tbody>\n</table>\n<p>4997499 rows × 25 columns</p>\n</div>"
     },
     "execution_count": 106,
     "metadata": {},
     "output_type": "execute_result"
    }
   ],
   "source": [
    "data_de = data[data[\"learning_language\"] == \"de\"]\n",
    "data_en = data[data[\"learning_language\"] == \"en\"]\n",
    "data_es = data[data[\"learning_language\"] == \"es\"]\n",
    "data_fr = data[data[\"learning_language\"] == \"fr\"]\n",
    "data_it = data[data[\"learning_language\"] == \"it\"]\n",
    "data_pt = data[data[\"learning_language\"] == \"pt\"]\n",
    "del data_de[\"learning_language\"]\n",
    "del data_en[\"learning_language\"]\n",
    "del data_es[\"learning_language\"]\n",
    "del data_fr[\"learning_language\"]\n",
    "del data_it[\"learning_language\"]\n",
    "del data_pt[\"learning_language\"]\n",
    "data_en"
   ],
   "metadata": {
    "collapsed": false,
    "pycharm": {
     "name": "#%%\n"
    }
   }
  },
  {
   "cell_type": "code",
   "execution_count": 108,
   "outputs": [
    {
     "data": {
      "text/plain": "Index(['p_recall', 'delta', 'ui_language', 'history_seen', 'history_correct',\n       'session_seen', 'surface_form', 'root_form', 'modifiers_split',\n       'history_incorrect', 'word_length', 'differs_from_root', 'passed',\n       'verb', 'noun', 'preposition', 'pronoun', 'adjective', 'adverb',\n       'conjunction', 'determiner', 'interjection', 'plural', 'number',\n       'phrase'],\n      dtype='object')"
     },
     "execution_count": 108,
     "metadata": {},
     "output_type": "execute_result"
    }
   ],
   "source": [],
   "metadata": {
    "collapsed": false,
    "pycharm": {
     "name": "#%%\n"
    }
   }
  },
  {
   "cell_type": "code",
   "execution_count": 109,
   "outputs": [],
   "source": [
    "#pip3 install wordfreq\n",
    "from wordfreq import word_frequency"
   ],
   "metadata": {
    "collapsed": false,
    "pycharm": {
     "name": "#%%\n"
    }
   }
  },
  {
   "cell_type": "code",
   "execution_count": 85,
   "outputs": [
    {
     "name": "stdout",
     "output_type": "stream",
     "text": [
      "7.76e-05\n"
     ]
    }
   ],
   "source": [
    "print(word_frequency(\"cars\", \"en\", wordlist='best', minimum=0.0))"
   ],
   "metadata": {
    "collapsed": false,
    "pycharm": {
     "name": "#%%\n"
    }
   }
  },
  {
   "cell_type": "code",
   "execution_count": 121,
   "outputs": [
    {
     "name": "stderr",
     "output_type": "stream",
     "text": [
      "C:\\Users\\hresk\\AppData\\Local\\Temp\\ipykernel_22360\\947107714.py:1: SettingWithCopyWarning: \n",
      "A value is trying to be set on a copy of a slice from a DataFrame.\n",
      "Try using .loc[row_indexer,col_indexer] = value instead\n",
      "\n",
      "See the caveats in the documentation: https://pandas.pydata.org/pandas-docs/stable/user_guide/indexing.html#returning-a-view-versus-a-copy\n",
      "  data_en[\"word_freq\"]=data_en[\"surface_form\"].apply(lambda x: word_frequency(x,\"en\", wordlist=\"best\",minimum=0.0))\n"
     ]
    },
    {
     "data": {
      "text/plain": "          p_recall     delta ui_language  history_seen  history_correct  \\\n87        1.000000  0.099167          pt            17               17   \n88        1.000000  0.099167          pt            19               19   \n89        1.000000  0.099167          pt            21               20   \n90        0.800000  0.099167          pt            44               36   \n91        1.000000  0.099167          pt            21               20   \n...            ...       ...         ...           ...              ...   \n12854221  0.800000  0.102222          it             6                4   \n12854222  0.800000  0.102222          it             4                4   \n12854223  1.000000  0.102222          it             4                4   \n12854224  0.600000  0.102222          it             3                2   \n12854225  0.666667  0.102222          it             5                3   \n\n          session_seen surface_form    root_form modifiers_split  \\\n87                   2   definition   definition         <n><sg>   \n88                   3      surface      surface         <n><sg>   \n89                   3        scale        scale         <n><sg>   \n90                   5  temperature  temperature         <n><sg>   \n91                   3     distance     distance         <n><sg>   \n...                ...          ...          ...             ...   \n12854221             5          the          the  <det><def><sp>   \n12854222             5          eat          eat   <vblex><pres>   \n12854223             4        bread        bread         <n><sg>   \n12854224             5        drink        drink   <vblex><pres>   \n12854225             9        water        water         <n><sg>   \n\n          history_incorrect  ...  pronoun  adjective  adverb  conjunction  \\\n87                        0  ...        0          0       0            0   \n88                        0  ...        0          0       0            0   \n89                        1  ...        0          0       0            0   \n90                        8  ...        0          0       0            0   \n91                        1  ...        0          0       0            0   \n...                     ...  ...      ...        ...     ...          ...   \n12854221                  2  ...        0          0       0            0   \n12854222                  0  ...        0          0       0            0   \n12854223                  0  ...        0          0       0            0   \n12854224                  1  ...        0          0       0            0   \n12854225                  2  ...        0          0       0            0   \n\n          determiner  interjection  plural  number  phrase  word_freq  \n87                 0             0       0       0       0   0.000038  \n88                 0             0       0       0       0   0.000068  \n89                 0             0       0       0       0   0.000068  \n90                 0             0       0       0       0   0.000044  \n91                 0             0       0       0       0   0.000071  \n...              ...           ...     ...     ...     ...        ...  \n12854221           1             0       0       0       0   0.053700  \n12854222           0             0       0       0       0   0.000135  \n12854223           0             0       0       0       0   0.000032  \n12854224           0             0       0       0       0   0.000079  \n12854225           0             0       0       0       0   0.000331  \n\n[4997499 rows x 26 columns]",
      "text/html": "<div>\n<style scoped>\n    .dataframe tbody tr th:only-of-type {\n        vertical-align: middle;\n    }\n\n    .dataframe tbody tr th {\n        vertical-align: top;\n    }\n\n    .dataframe thead th {\n        text-align: right;\n    }\n</style>\n<table border=\"1\" class=\"dataframe\">\n  <thead>\n    <tr style=\"text-align: right;\">\n      <th></th>\n      <th>p_recall</th>\n      <th>delta</th>\n      <th>ui_language</th>\n      <th>history_seen</th>\n      <th>history_correct</th>\n      <th>session_seen</th>\n      <th>surface_form</th>\n      <th>root_form</th>\n      <th>modifiers_split</th>\n      <th>history_incorrect</th>\n      <th>...</th>\n      <th>pronoun</th>\n      <th>adjective</th>\n      <th>adverb</th>\n      <th>conjunction</th>\n      <th>determiner</th>\n      <th>interjection</th>\n      <th>plural</th>\n      <th>number</th>\n      <th>phrase</th>\n      <th>word_freq</th>\n    </tr>\n  </thead>\n  <tbody>\n    <tr>\n      <th>87</th>\n      <td>1.000000</td>\n      <td>0.099167</td>\n      <td>pt</td>\n      <td>17</td>\n      <td>17</td>\n      <td>2</td>\n      <td>definition</td>\n      <td>definition</td>\n      <td>&lt;n&gt;&lt;sg&gt;</td>\n      <td>0</td>\n      <td>...</td>\n      <td>0</td>\n      <td>0</td>\n      <td>0</td>\n      <td>0</td>\n      <td>0</td>\n      <td>0</td>\n      <td>0</td>\n      <td>0</td>\n      <td>0</td>\n      <td>0.000038</td>\n    </tr>\n    <tr>\n      <th>88</th>\n      <td>1.000000</td>\n      <td>0.099167</td>\n      <td>pt</td>\n      <td>19</td>\n      <td>19</td>\n      <td>3</td>\n      <td>surface</td>\n      <td>surface</td>\n      <td>&lt;n&gt;&lt;sg&gt;</td>\n      <td>0</td>\n      <td>...</td>\n      <td>0</td>\n      <td>0</td>\n      <td>0</td>\n      <td>0</td>\n      <td>0</td>\n      <td>0</td>\n      <td>0</td>\n      <td>0</td>\n      <td>0</td>\n      <td>0.000068</td>\n    </tr>\n    <tr>\n      <th>89</th>\n      <td>1.000000</td>\n      <td>0.099167</td>\n      <td>pt</td>\n      <td>21</td>\n      <td>20</td>\n      <td>3</td>\n      <td>scale</td>\n      <td>scale</td>\n      <td>&lt;n&gt;&lt;sg&gt;</td>\n      <td>1</td>\n      <td>...</td>\n      <td>0</td>\n      <td>0</td>\n      <td>0</td>\n      <td>0</td>\n      <td>0</td>\n      <td>0</td>\n      <td>0</td>\n      <td>0</td>\n      <td>0</td>\n      <td>0.000068</td>\n    </tr>\n    <tr>\n      <th>90</th>\n      <td>0.800000</td>\n      <td>0.099167</td>\n      <td>pt</td>\n      <td>44</td>\n      <td>36</td>\n      <td>5</td>\n      <td>temperature</td>\n      <td>temperature</td>\n      <td>&lt;n&gt;&lt;sg&gt;</td>\n      <td>8</td>\n      <td>...</td>\n      <td>0</td>\n      <td>0</td>\n      <td>0</td>\n      <td>0</td>\n      <td>0</td>\n      <td>0</td>\n      <td>0</td>\n      <td>0</td>\n      <td>0</td>\n      <td>0.000044</td>\n    </tr>\n    <tr>\n      <th>91</th>\n      <td>1.000000</td>\n      <td>0.099167</td>\n      <td>pt</td>\n      <td>21</td>\n      <td>20</td>\n      <td>3</td>\n      <td>distance</td>\n      <td>distance</td>\n      <td>&lt;n&gt;&lt;sg&gt;</td>\n      <td>1</td>\n      <td>...</td>\n      <td>0</td>\n      <td>0</td>\n      <td>0</td>\n      <td>0</td>\n      <td>0</td>\n      <td>0</td>\n      <td>0</td>\n      <td>0</td>\n      <td>0</td>\n      <td>0.000071</td>\n    </tr>\n    <tr>\n      <th>...</th>\n      <td>...</td>\n      <td>...</td>\n      <td>...</td>\n      <td>...</td>\n      <td>...</td>\n      <td>...</td>\n      <td>...</td>\n      <td>...</td>\n      <td>...</td>\n      <td>...</td>\n      <td>...</td>\n      <td>...</td>\n      <td>...</td>\n      <td>...</td>\n      <td>...</td>\n      <td>...</td>\n      <td>...</td>\n      <td>...</td>\n      <td>...</td>\n      <td>...</td>\n      <td>...</td>\n    </tr>\n    <tr>\n      <th>12854221</th>\n      <td>0.800000</td>\n      <td>0.102222</td>\n      <td>it</td>\n      <td>6</td>\n      <td>4</td>\n      <td>5</td>\n      <td>the</td>\n      <td>the</td>\n      <td>&lt;det&gt;&lt;def&gt;&lt;sp&gt;</td>\n      <td>2</td>\n      <td>...</td>\n      <td>0</td>\n      <td>0</td>\n      <td>0</td>\n      <td>0</td>\n      <td>1</td>\n      <td>0</td>\n      <td>0</td>\n      <td>0</td>\n      <td>0</td>\n      <td>0.053700</td>\n    </tr>\n    <tr>\n      <th>12854222</th>\n      <td>0.800000</td>\n      <td>0.102222</td>\n      <td>it</td>\n      <td>4</td>\n      <td>4</td>\n      <td>5</td>\n      <td>eat</td>\n      <td>eat</td>\n      <td>&lt;vblex&gt;&lt;pres&gt;</td>\n      <td>0</td>\n      <td>...</td>\n      <td>0</td>\n      <td>0</td>\n      <td>0</td>\n      <td>0</td>\n      <td>0</td>\n      <td>0</td>\n      <td>0</td>\n      <td>0</td>\n      <td>0</td>\n      <td>0.000135</td>\n    </tr>\n    <tr>\n      <th>12854223</th>\n      <td>1.000000</td>\n      <td>0.102222</td>\n      <td>it</td>\n      <td>4</td>\n      <td>4</td>\n      <td>4</td>\n      <td>bread</td>\n      <td>bread</td>\n      <td>&lt;n&gt;&lt;sg&gt;</td>\n      <td>0</td>\n      <td>...</td>\n      <td>0</td>\n      <td>0</td>\n      <td>0</td>\n      <td>0</td>\n      <td>0</td>\n      <td>0</td>\n      <td>0</td>\n      <td>0</td>\n      <td>0</td>\n      <td>0.000032</td>\n    </tr>\n    <tr>\n      <th>12854224</th>\n      <td>0.600000</td>\n      <td>0.102222</td>\n      <td>it</td>\n      <td>3</td>\n      <td>2</td>\n      <td>5</td>\n      <td>drink</td>\n      <td>drink</td>\n      <td>&lt;vblex&gt;&lt;pres&gt;</td>\n      <td>1</td>\n      <td>...</td>\n      <td>0</td>\n      <td>0</td>\n      <td>0</td>\n      <td>0</td>\n      <td>0</td>\n      <td>0</td>\n      <td>0</td>\n      <td>0</td>\n      <td>0</td>\n      <td>0.000079</td>\n    </tr>\n    <tr>\n      <th>12854225</th>\n      <td>0.666667</td>\n      <td>0.102222</td>\n      <td>it</td>\n      <td>5</td>\n      <td>3</td>\n      <td>9</td>\n      <td>water</td>\n      <td>water</td>\n      <td>&lt;n&gt;&lt;sg&gt;</td>\n      <td>2</td>\n      <td>...</td>\n      <td>0</td>\n      <td>0</td>\n      <td>0</td>\n      <td>0</td>\n      <td>0</td>\n      <td>0</td>\n      <td>0</td>\n      <td>0</td>\n      <td>0</td>\n      <td>0.000331</td>\n    </tr>\n  </tbody>\n</table>\n<p>4997499 rows × 26 columns</p>\n</div>"
     },
     "execution_count": 121,
     "metadata": {},
     "output_type": "execute_result"
    }
   ],
   "source": [
    "data_en[\"word_freq\"]=data_en[\"surface_form\"].apply(lambda x: word_frequency(x,\"en\", wordlist=\"best\",minimum=0.0))\n",
    "data_en"
   ],
   "metadata": {
    "collapsed": false,
    "pycharm": {
     "name": "#%%\n"
    }
   }
  },
  {
   "cell_type": "code",
   "execution_count": 122,
   "outputs": [
    {
     "name": "stderr",
     "output_type": "stream",
     "text": [
      "C:\\Users\\hresk\\AppData\\Local\\Temp\\ipykernel_22360\\250832026.py:1: SettingWithCopyWarning: \n",
      "A value is trying to be set on a copy of a slice from a DataFrame.\n",
      "Try using .loc[row_indexer,col_indexer] = value instead\n",
      "\n",
      "See the caveats in the documentation: https://pandas.pydata.org/pandas-docs/stable/user_guide/indexing.html#returning-a-view-versus-a-copy\n",
      "  data_de[\"word_freq\"]=data_de[\"surface_form\"].apply(lambda x: word_frequency(x,\"de\", wordlist=\"best\",minimum=0.0))\n"
     ]
    },
    {
     "data": {
      "text/plain": "          p_recall        delta ui_language  history_seen  history_correct  \\\n0              1.0  7680.454167          en             6                4   \n1              0.5  7680.454167          en             4                4   \n2              1.0  7680.454167          en             5                4   \n3              0.5  7680.454167          en             6                5   \n4              1.0  7680.454167          en             4                4   \n...            ...          ...         ...           ...              ...   \n12854197       1.0    25.041944          en             5                3   \n12854198       1.0    25.041944          en             5                5   \n12854199       1.0    25.041944          en             7                5   \n12854200       1.0   151.026944          en             3                3   \n12854201       1.0    25.350278          en             7                7   \n\n          session_seen surface_form   root_form          modifiers_split  \\\n0                    2        lernt      lernen     <vblex><pri><p3><sg>   \n1                    2          die         die   <det><def><f><sg><nom>   \n2                    1         mann        mann          <n><m><sg><nom>   \n3                    2         frau        frau          <n><f><sg><nom>   \n4                    1          das         das  <det><def><nt><sg><nom>   \n...                ...          ...         ...                      ...   \n12854197             1       lehrer      lehrer          <n><m><pl><nom>   \n12854198             1        magst       mögen     <vbmod><pri><p2><sg>   \n12854199             1   restaurant  restaurant         <n><nt><sg><dat>   \n12854200             1        tisch       tisch          <n><m><sg><acc>   \n12854201             1         mann        mann          <n><m><sg><acc>   \n\n          history_incorrect  ...  pronoun  adjective  adverb  conjunction  \\\n0                         2  ...        0          0       0            0   \n1                         0  ...        0          0       0            0   \n2                         1  ...        0          0       0            0   \n3                         1  ...        0          0       0            0   \n4                         0  ...        0          0       0            0   \n...                     ...  ...      ...        ...     ...          ...   \n12854197                  2  ...        0          0       0            0   \n12854198                  0  ...        0          0       0            0   \n12854199                  2  ...        0          0       0            0   \n12854200                  0  ...        0          0       0            0   \n12854201                  0  ...        0          0       0            0   \n\n          determiner  interjection  plural  number  phrase  word_freq  \n0                  0             0       0       0       0   0.000023  \n1                  1             0       0       0       0   0.030200  \n2                  0             0       0       0       0   0.000537  \n3                  0             0       0       0       0   0.000457  \n4                  1             0       0       0       0   0.014500  \n...              ...           ...     ...     ...     ...        ...  \n12854197           0             0       1       0       0   0.000083  \n12854198           0             0       0       0       0   0.000024  \n12854199           0             0       0       0       0   0.000034  \n12854200           0             0       0       0       0   0.000068  \n12854201           0             0       0       0       0   0.000537  \n\n[1452597 rows x 26 columns]",
      "text/html": "<div>\n<style scoped>\n    .dataframe tbody tr th:only-of-type {\n        vertical-align: middle;\n    }\n\n    .dataframe tbody tr th {\n        vertical-align: top;\n    }\n\n    .dataframe thead th {\n        text-align: right;\n    }\n</style>\n<table border=\"1\" class=\"dataframe\">\n  <thead>\n    <tr style=\"text-align: right;\">\n      <th></th>\n      <th>p_recall</th>\n      <th>delta</th>\n      <th>ui_language</th>\n      <th>history_seen</th>\n      <th>history_correct</th>\n      <th>session_seen</th>\n      <th>surface_form</th>\n      <th>root_form</th>\n      <th>modifiers_split</th>\n      <th>history_incorrect</th>\n      <th>...</th>\n      <th>pronoun</th>\n      <th>adjective</th>\n      <th>adverb</th>\n      <th>conjunction</th>\n      <th>determiner</th>\n      <th>interjection</th>\n      <th>plural</th>\n      <th>number</th>\n      <th>phrase</th>\n      <th>word_freq</th>\n    </tr>\n  </thead>\n  <tbody>\n    <tr>\n      <th>0</th>\n      <td>1.0</td>\n      <td>7680.454167</td>\n      <td>en</td>\n      <td>6</td>\n      <td>4</td>\n      <td>2</td>\n      <td>lernt</td>\n      <td>lernen</td>\n      <td>&lt;vblex&gt;&lt;pri&gt;&lt;p3&gt;&lt;sg&gt;</td>\n      <td>2</td>\n      <td>...</td>\n      <td>0</td>\n      <td>0</td>\n      <td>0</td>\n      <td>0</td>\n      <td>0</td>\n      <td>0</td>\n      <td>0</td>\n      <td>0</td>\n      <td>0</td>\n      <td>0.000023</td>\n    </tr>\n    <tr>\n      <th>1</th>\n      <td>0.5</td>\n      <td>7680.454167</td>\n      <td>en</td>\n      <td>4</td>\n      <td>4</td>\n      <td>2</td>\n      <td>die</td>\n      <td>die</td>\n      <td>&lt;det&gt;&lt;def&gt;&lt;f&gt;&lt;sg&gt;&lt;nom&gt;</td>\n      <td>0</td>\n      <td>...</td>\n      <td>0</td>\n      <td>0</td>\n      <td>0</td>\n      <td>0</td>\n      <td>1</td>\n      <td>0</td>\n      <td>0</td>\n      <td>0</td>\n      <td>0</td>\n      <td>0.030200</td>\n    </tr>\n    <tr>\n      <th>2</th>\n      <td>1.0</td>\n      <td>7680.454167</td>\n      <td>en</td>\n      <td>5</td>\n      <td>4</td>\n      <td>1</td>\n      <td>mann</td>\n      <td>mann</td>\n      <td>&lt;n&gt;&lt;m&gt;&lt;sg&gt;&lt;nom&gt;</td>\n      <td>1</td>\n      <td>...</td>\n      <td>0</td>\n      <td>0</td>\n      <td>0</td>\n      <td>0</td>\n      <td>0</td>\n      <td>0</td>\n      <td>0</td>\n      <td>0</td>\n      <td>0</td>\n      <td>0.000537</td>\n    </tr>\n    <tr>\n      <th>3</th>\n      <td>0.5</td>\n      <td>7680.454167</td>\n      <td>en</td>\n      <td>6</td>\n      <td>5</td>\n      <td>2</td>\n      <td>frau</td>\n      <td>frau</td>\n      <td>&lt;n&gt;&lt;f&gt;&lt;sg&gt;&lt;nom&gt;</td>\n      <td>1</td>\n      <td>...</td>\n      <td>0</td>\n      <td>0</td>\n      <td>0</td>\n      <td>0</td>\n      <td>0</td>\n      <td>0</td>\n      <td>0</td>\n      <td>0</td>\n      <td>0</td>\n      <td>0.000457</td>\n    </tr>\n    <tr>\n      <th>4</th>\n      <td>1.0</td>\n      <td>7680.454167</td>\n      <td>en</td>\n      <td>4</td>\n      <td>4</td>\n      <td>1</td>\n      <td>das</td>\n      <td>das</td>\n      <td>&lt;det&gt;&lt;def&gt;&lt;nt&gt;&lt;sg&gt;&lt;nom&gt;</td>\n      <td>0</td>\n      <td>...</td>\n      <td>0</td>\n      <td>0</td>\n      <td>0</td>\n      <td>0</td>\n      <td>1</td>\n      <td>0</td>\n      <td>0</td>\n      <td>0</td>\n      <td>0</td>\n      <td>0.014500</td>\n    </tr>\n    <tr>\n      <th>...</th>\n      <td>...</td>\n      <td>...</td>\n      <td>...</td>\n      <td>...</td>\n      <td>...</td>\n      <td>...</td>\n      <td>...</td>\n      <td>...</td>\n      <td>...</td>\n      <td>...</td>\n      <td>...</td>\n      <td>...</td>\n      <td>...</td>\n      <td>...</td>\n      <td>...</td>\n      <td>...</td>\n      <td>...</td>\n      <td>...</td>\n      <td>...</td>\n      <td>...</td>\n      <td>...</td>\n    </tr>\n    <tr>\n      <th>12854197</th>\n      <td>1.0</td>\n      <td>25.041944</td>\n      <td>en</td>\n      <td>5</td>\n      <td>3</td>\n      <td>1</td>\n      <td>lehrer</td>\n      <td>lehrer</td>\n      <td>&lt;n&gt;&lt;m&gt;&lt;pl&gt;&lt;nom&gt;</td>\n      <td>2</td>\n      <td>...</td>\n      <td>0</td>\n      <td>0</td>\n      <td>0</td>\n      <td>0</td>\n      <td>0</td>\n      <td>0</td>\n      <td>1</td>\n      <td>0</td>\n      <td>0</td>\n      <td>0.000083</td>\n    </tr>\n    <tr>\n      <th>12854198</th>\n      <td>1.0</td>\n      <td>25.041944</td>\n      <td>en</td>\n      <td>5</td>\n      <td>5</td>\n      <td>1</td>\n      <td>magst</td>\n      <td>mögen</td>\n      <td>&lt;vbmod&gt;&lt;pri&gt;&lt;p2&gt;&lt;sg&gt;</td>\n      <td>0</td>\n      <td>...</td>\n      <td>0</td>\n      <td>0</td>\n      <td>0</td>\n      <td>0</td>\n      <td>0</td>\n      <td>0</td>\n      <td>0</td>\n      <td>0</td>\n      <td>0</td>\n      <td>0.000024</td>\n    </tr>\n    <tr>\n      <th>12854199</th>\n      <td>1.0</td>\n      <td>25.041944</td>\n      <td>en</td>\n      <td>7</td>\n      <td>5</td>\n      <td>1</td>\n      <td>restaurant</td>\n      <td>restaurant</td>\n      <td>&lt;n&gt;&lt;nt&gt;&lt;sg&gt;&lt;dat&gt;</td>\n      <td>2</td>\n      <td>...</td>\n      <td>0</td>\n      <td>0</td>\n      <td>0</td>\n      <td>0</td>\n      <td>0</td>\n      <td>0</td>\n      <td>0</td>\n      <td>0</td>\n      <td>0</td>\n      <td>0.000034</td>\n    </tr>\n    <tr>\n      <th>12854200</th>\n      <td>1.0</td>\n      <td>151.026944</td>\n      <td>en</td>\n      <td>3</td>\n      <td>3</td>\n      <td>1</td>\n      <td>tisch</td>\n      <td>tisch</td>\n      <td>&lt;n&gt;&lt;m&gt;&lt;sg&gt;&lt;acc&gt;</td>\n      <td>0</td>\n      <td>...</td>\n      <td>0</td>\n      <td>0</td>\n      <td>0</td>\n      <td>0</td>\n      <td>0</td>\n      <td>0</td>\n      <td>0</td>\n      <td>0</td>\n      <td>0</td>\n      <td>0.000068</td>\n    </tr>\n    <tr>\n      <th>12854201</th>\n      <td>1.0</td>\n      <td>25.350278</td>\n      <td>en</td>\n      <td>7</td>\n      <td>7</td>\n      <td>1</td>\n      <td>mann</td>\n      <td>mann</td>\n      <td>&lt;n&gt;&lt;m&gt;&lt;sg&gt;&lt;acc&gt;</td>\n      <td>0</td>\n      <td>...</td>\n      <td>0</td>\n      <td>0</td>\n      <td>0</td>\n      <td>0</td>\n      <td>0</td>\n      <td>0</td>\n      <td>0</td>\n      <td>0</td>\n      <td>0</td>\n      <td>0.000537</td>\n    </tr>\n  </tbody>\n</table>\n<p>1452597 rows × 26 columns</p>\n</div>"
     },
     "execution_count": 122,
     "metadata": {},
     "output_type": "execute_result"
    }
   ],
   "source": [
    "data_de[\"word_freq\"]=data_de[\"surface_form\"].apply(lambda x: word_frequency(x,\"de\", wordlist=\"best\",minimum=0.0))\n",
    "data_de"
   ],
   "metadata": {
    "collapsed": false,
    "pycharm": {
     "name": "#%%\n"
    }
   }
  },
  {
   "cell_type": "code",
   "execution_count": 123,
   "outputs": [
    {
     "name": "stderr",
     "output_type": "stream",
     "text": [
      "C:\\Users\\hresk\\AppData\\Local\\Temp\\ipykernel_22360\\888814684.py:1: SettingWithCopyWarning: \n",
      "A value is trying to be set on a copy of a slice from a DataFrame.\n",
      "Try using .loc[row_indexer,col_indexer] = value instead\n",
      "\n",
      "See the caveats in the documentation: https://pandas.pydata.org/pandas-docs/stable/user_guide/indexing.html#returning-a-view-versus-a-copy\n",
      "  data_es[\"word_freq\"]=data_es[\"surface_form\"].apply(lambda x: word_frequency(x,\"es\", wordlist=\"best\",minimum=0.0))\n"
     ]
    },
    {
     "data": {
      "text/plain": "          p_recall       delta ui_language  history_seen  history_correct  \\\n7              1.0  123.446389          en             3                3   \n15             1.0    0.021389          en             5                5   \n20             1.0  454.104722          en             9                8   \n21             1.0  474.638611          en             7                5   \n22             1.0  474.638611          en             8                8   \n...            ...         ...         ...           ...              ...   \n12854214       1.0  113.622222          en             6                5   \n12854215       1.0  113.622222          en             6                5   \n12854216       1.0   98.358611          en             8                6   \n12854217       0.0    1.072778          en            47               40   \n12854218       1.0   49.193889          en             5                4   \n\n          session_seen surface_form   root_form       modifiers_split  \\\n7                    1         bajo        bajo                  <pr>   \n15                   1         bajo        bajo                  <pr>   \n20                   2        niños        niño            <n><m><pl>   \n21                   2          leo        leer  <vblex><pri><p1><sg>   \n22                   4        libro       libro            <n><m><sg>   \n...                ...          ...         ...                   ...   \n12854214             2   vacaciones  vacaciones            <n><f><pl>   \n12854215             1       corres      correr  <vblex><pri><p2><sg>   \n12854216             3       mañana      mañana                 <adv>   \n12854217             1          son         ser  <vbser><pri><p3><pl>   \n12854218             1        corto       corto          <adj><m><sg>   \n\n          history_incorrect  ...  pronoun  adjective  adverb  conjunction  \\\n7                         0  ...        0          0       0            0   \n15                        0  ...        0          0       0            0   \n20                        1  ...        0          0       0            0   \n21                        2  ...        0          0       0            0   \n22                        0  ...        0          0       0            0   \n...                     ...  ...      ...        ...     ...          ...   \n12854214                  1  ...        0          0       0            0   \n12854215                  1  ...        0          0       0            0   \n12854216                  2  ...        0          0       1            0   \n12854217                  7  ...        0          0       0            0   \n12854218                  1  ...        0          1       0            0   \n\n          determiner  interjection  plural  number  phrase  word_freq  \n7                  0             0       0       0       0   0.000389  \n15                 0             0       0       0       0   0.000389  \n20                 0             0       1       0       0   0.000245  \n21                 0             0       0       0       0   0.000032  \n22                 0             0       0       0       0   0.000214  \n...              ...           ...     ...     ...     ...        ...  \n12854214           0             0       1       0       0   0.000055  \n12854215           0             0       0       0       0   0.000003  \n12854216           0             0       0       0       0   0.000302  \n12854217           0             0       1       0       0   0.001820  \n12854218           0             0       0       0       0   0.000055  \n\n[3407689 rows x 26 columns]",
      "text/html": "<div>\n<style scoped>\n    .dataframe tbody tr th:only-of-type {\n        vertical-align: middle;\n    }\n\n    .dataframe tbody tr th {\n        vertical-align: top;\n    }\n\n    .dataframe thead th {\n        text-align: right;\n    }\n</style>\n<table border=\"1\" class=\"dataframe\">\n  <thead>\n    <tr style=\"text-align: right;\">\n      <th></th>\n      <th>p_recall</th>\n      <th>delta</th>\n      <th>ui_language</th>\n      <th>history_seen</th>\n      <th>history_correct</th>\n      <th>session_seen</th>\n      <th>surface_form</th>\n      <th>root_form</th>\n      <th>modifiers_split</th>\n      <th>history_incorrect</th>\n      <th>...</th>\n      <th>pronoun</th>\n      <th>adjective</th>\n      <th>adverb</th>\n      <th>conjunction</th>\n      <th>determiner</th>\n      <th>interjection</th>\n      <th>plural</th>\n      <th>number</th>\n      <th>phrase</th>\n      <th>word_freq</th>\n    </tr>\n  </thead>\n  <tbody>\n    <tr>\n      <th>7</th>\n      <td>1.0</td>\n      <td>123.446389</td>\n      <td>en</td>\n      <td>3</td>\n      <td>3</td>\n      <td>1</td>\n      <td>bajo</td>\n      <td>bajo</td>\n      <td>&lt;pr&gt;</td>\n      <td>0</td>\n      <td>...</td>\n      <td>0</td>\n      <td>0</td>\n      <td>0</td>\n      <td>0</td>\n      <td>0</td>\n      <td>0</td>\n      <td>0</td>\n      <td>0</td>\n      <td>0</td>\n      <td>0.000389</td>\n    </tr>\n    <tr>\n      <th>15</th>\n      <td>1.0</td>\n      <td>0.021389</td>\n      <td>en</td>\n      <td>5</td>\n      <td>5</td>\n      <td>1</td>\n      <td>bajo</td>\n      <td>bajo</td>\n      <td>&lt;pr&gt;</td>\n      <td>0</td>\n      <td>...</td>\n      <td>0</td>\n      <td>0</td>\n      <td>0</td>\n      <td>0</td>\n      <td>0</td>\n      <td>0</td>\n      <td>0</td>\n      <td>0</td>\n      <td>0</td>\n      <td>0.000389</td>\n    </tr>\n    <tr>\n      <th>20</th>\n      <td>1.0</td>\n      <td>454.104722</td>\n      <td>en</td>\n      <td>9</td>\n      <td>8</td>\n      <td>2</td>\n      <td>niños</td>\n      <td>niño</td>\n      <td>&lt;n&gt;&lt;m&gt;&lt;pl&gt;</td>\n      <td>1</td>\n      <td>...</td>\n      <td>0</td>\n      <td>0</td>\n      <td>0</td>\n      <td>0</td>\n      <td>0</td>\n      <td>0</td>\n      <td>1</td>\n      <td>0</td>\n      <td>0</td>\n      <td>0.000245</td>\n    </tr>\n    <tr>\n      <th>21</th>\n      <td>1.0</td>\n      <td>474.638611</td>\n      <td>en</td>\n      <td>7</td>\n      <td>5</td>\n      <td>2</td>\n      <td>leo</td>\n      <td>leer</td>\n      <td>&lt;vblex&gt;&lt;pri&gt;&lt;p1&gt;&lt;sg&gt;</td>\n      <td>2</td>\n      <td>...</td>\n      <td>0</td>\n      <td>0</td>\n      <td>0</td>\n      <td>0</td>\n      <td>0</td>\n      <td>0</td>\n      <td>0</td>\n      <td>0</td>\n      <td>0</td>\n      <td>0.000032</td>\n    </tr>\n    <tr>\n      <th>22</th>\n      <td>1.0</td>\n      <td>474.638611</td>\n      <td>en</td>\n      <td>8</td>\n      <td>8</td>\n      <td>4</td>\n      <td>libro</td>\n      <td>libro</td>\n      <td>&lt;n&gt;&lt;m&gt;&lt;sg&gt;</td>\n      <td>0</td>\n      <td>...</td>\n      <td>0</td>\n      <td>0</td>\n      <td>0</td>\n      <td>0</td>\n      <td>0</td>\n      <td>0</td>\n      <td>0</td>\n      <td>0</td>\n      <td>0</td>\n      <td>0.000214</td>\n    </tr>\n    <tr>\n      <th>...</th>\n      <td>...</td>\n      <td>...</td>\n      <td>...</td>\n      <td>...</td>\n      <td>...</td>\n      <td>...</td>\n      <td>...</td>\n      <td>...</td>\n      <td>...</td>\n      <td>...</td>\n      <td>...</td>\n      <td>...</td>\n      <td>...</td>\n      <td>...</td>\n      <td>...</td>\n      <td>...</td>\n      <td>...</td>\n      <td>...</td>\n      <td>...</td>\n      <td>...</td>\n      <td>...</td>\n    </tr>\n    <tr>\n      <th>12854214</th>\n      <td>1.0</td>\n      <td>113.622222</td>\n      <td>en</td>\n      <td>6</td>\n      <td>5</td>\n      <td>2</td>\n      <td>vacaciones</td>\n      <td>vacaciones</td>\n      <td>&lt;n&gt;&lt;f&gt;&lt;pl&gt;</td>\n      <td>1</td>\n      <td>...</td>\n      <td>0</td>\n      <td>0</td>\n      <td>0</td>\n      <td>0</td>\n      <td>0</td>\n      <td>0</td>\n      <td>1</td>\n      <td>0</td>\n      <td>0</td>\n      <td>0.000055</td>\n    </tr>\n    <tr>\n      <th>12854215</th>\n      <td>1.0</td>\n      <td>113.622222</td>\n      <td>en</td>\n      <td>6</td>\n      <td>5</td>\n      <td>1</td>\n      <td>corres</td>\n      <td>correr</td>\n      <td>&lt;vblex&gt;&lt;pri&gt;&lt;p2&gt;&lt;sg&gt;</td>\n      <td>1</td>\n      <td>...</td>\n      <td>0</td>\n      <td>0</td>\n      <td>0</td>\n      <td>0</td>\n      <td>0</td>\n      <td>0</td>\n      <td>0</td>\n      <td>0</td>\n      <td>0</td>\n      <td>0.000003</td>\n    </tr>\n    <tr>\n      <th>12854216</th>\n      <td>1.0</td>\n      <td>98.358611</td>\n      <td>en</td>\n      <td>8</td>\n      <td>6</td>\n      <td>3</td>\n      <td>mañana</td>\n      <td>mañana</td>\n      <td>&lt;adv&gt;</td>\n      <td>2</td>\n      <td>...</td>\n      <td>0</td>\n      <td>0</td>\n      <td>1</td>\n      <td>0</td>\n      <td>0</td>\n      <td>0</td>\n      <td>0</td>\n      <td>0</td>\n      <td>0</td>\n      <td>0.000302</td>\n    </tr>\n    <tr>\n      <th>12854217</th>\n      <td>0.0</td>\n      <td>1.072778</td>\n      <td>en</td>\n      <td>47</td>\n      <td>40</td>\n      <td>1</td>\n      <td>son</td>\n      <td>ser</td>\n      <td>&lt;vbser&gt;&lt;pri&gt;&lt;p3&gt;&lt;pl&gt;</td>\n      <td>7</td>\n      <td>...</td>\n      <td>0</td>\n      <td>0</td>\n      <td>0</td>\n      <td>0</td>\n      <td>0</td>\n      <td>0</td>\n      <td>1</td>\n      <td>0</td>\n      <td>0</td>\n      <td>0.001820</td>\n    </tr>\n    <tr>\n      <th>12854218</th>\n      <td>1.0</td>\n      <td>49.193889</td>\n      <td>en</td>\n      <td>5</td>\n      <td>4</td>\n      <td>1</td>\n      <td>corto</td>\n      <td>corto</td>\n      <td>&lt;adj&gt;&lt;m&gt;&lt;sg&gt;</td>\n      <td>1</td>\n      <td>...</td>\n      <td>0</td>\n      <td>1</td>\n      <td>0</td>\n      <td>0</td>\n      <td>0</td>\n      <td>0</td>\n      <td>0</td>\n      <td>0</td>\n      <td>0</td>\n      <td>0.000055</td>\n    </tr>\n  </tbody>\n</table>\n<p>3407689 rows × 26 columns</p>\n</div>"
     },
     "execution_count": 123,
     "metadata": {},
     "output_type": "execute_result"
    }
   ],
   "source": [
    "data_es[\"word_freq\"]=data_es[\"surface_form\"].apply(lambda x: word_frequency(x,\"es\", wordlist=\"best\",minimum=0.0))\n",
    "data_es"
   ],
   "metadata": {
    "collapsed": false,
    "pycharm": {
     "name": "#%%\n"
    }
   }
  },
  {
   "cell_type": "code",
   "execution_count": 124,
   "outputs": [
    {
     "name": "stderr",
     "output_type": "stream",
     "text": [
      "C:\\Users\\hresk\\AppData\\Local\\Temp\\ipykernel_22360\\1864213574.py:1: SettingWithCopyWarning: \n",
      "A value is trying to be set on a copy of a slice from a DataFrame.\n",
      "Try using .loc[row_indexer,col_indexer] = value instead\n",
      "\n",
      "See the caveats in the documentation: https://pandas.pydata.org/pandas-docs/stable/user_guide/indexing.html#returning-a-view-versus-a-copy\n",
      "  data_fr[\"word_freq\"]=data_fr[\"surface_form\"].apply(lambda x: word_frequency(x,\"fr\", wordlist=\"best\",minimum=0.0))\n"
     ]
    },
    {
     "data": {
      "text/plain": "          p_recall      delta ui_language  history_seen  history_correct  \\\n231           1.00  72.691944          en            31               23   \n232           0.50  64.275278          en            28               27   \n233           1.00  64.675556          en             2                2   \n234           1.00  54.693889          en            19               18   \n235           0.00  76.158611          en             6                5   \n...            ...        ...         ...           ...              ...   \n12854112      0.75  15.644167          en             5                4   \n12854113      1.00  15.644167          en             6                6   \n12854114      1.00  15.644167          en             6                4   \n12854115      1.00  15.644167          en             5                3   \n12854116      1.00  15.644167          en             4                4   \n\n          session_seen surface_form root_form       modifiers_split  \\\n231                  1           la        le     <det><def><f><sg>   \n232                  2          mon       mon     <det><pos><m><sg>   \n233                  1          mes       mon    <det><pos><mf><pl>   \n234                  1           c'        ce     <prn><tn><nt><sg>   \n235                  1      nouveau   nouveau          <adj><m><sg>   \n...                ...          ...       ...                   ...   \n12854112             4        parle    parler  <vblex><pri><p3><sg>   \n12854113             1           ça        ça         <prn><tn><nt>   \n12854114             2           et        et              <cnjcoo>   \n12854115             5         robe      robe            <n><f><sg>   \n12854116             1         noir      noir          <adj><m><sg>   \n\n          history_incorrect  ...  pronoun  adjective  adverb  conjunction  \\\n231                       8  ...        0          0       0            0   \n232                       1  ...        0          0       0            0   \n233                       0  ...        0          0       0            0   \n234                       1  ...        1          0       0            0   \n235                       1  ...        0          1       0            0   \n...                     ...  ...      ...        ...     ...          ...   \n12854112                  1  ...        0          0       0            0   \n12854113                  0  ...        1          0       0            0   \n12854114                  2  ...        0          0       0            1   \n12854115                  2  ...        0          0       0            0   \n12854116                  0  ...        0          1       0            0   \n\n          determiner  interjection  plural  number  phrase  word_freq  \n231                1             0       0       0       0   0.026900  \n232                1             0       0       0       0   0.001620  \n233                1             0       1       0       0   0.000589  \n234                0             0       0       0       0   0.007410  \n235                0             0       0       0       0   0.000427  \n...              ...           ...     ...     ...     ...        ...  \n12854112           0             0       0       0       0   0.000295  \n12854113           0             0       0       0       0   0.003390  \n12854114           0             0       0       0       0   0.020400  \n12854115           0             0       0       0       0   0.000039  \n12854116           0             0       0       0       0   0.000135  \n\n[1873734 rows x 26 columns]",
      "text/html": "<div>\n<style scoped>\n    .dataframe tbody tr th:only-of-type {\n        vertical-align: middle;\n    }\n\n    .dataframe tbody tr th {\n        vertical-align: top;\n    }\n\n    .dataframe thead th {\n        text-align: right;\n    }\n</style>\n<table border=\"1\" class=\"dataframe\">\n  <thead>\n    <tr style=\"text-align: right;\">\n      <th></th>\n      <th>p_recall</th>\n      <th>delta</th>\n      <th>ui_language</th>\n      <th>history_seen</th>\n      <th>history_correct</th>\n      <th>session_seen</th>\n      <th>surface_form</th>\n      <th>root_form</th>\n      <th>modifiers_split</th>\n      <th>history_incorrect</th>\n      <th>...</th>\n      <th>pronoun</th>\n      <th>adjective</th>\n      <th>adverb</th>\n      <th>conjunction</th>\n      <th>determiner</th>\n      <th>interjection</th>\n      <th>plural</th>\n      <th>number</th>\n      <th>phrase</th>\n      <th>word_freq</th>\n    </tr>\n  </thead>\n  <tbody>\n    <tr>\n      <th>231</th>\n      <td>1.00</td>\n      <td>72.691944</td>\n      <td>en</td>\n      <td>31</td>\n      <td>23</td>\n      <td>1</td>\n      <td>la</td>\n      <td>le</td>\n      <td>&lt;det&gt;&lt;def&gt;&lt;f&gt;&lt;sg&gt;</td>\n      <td>8</td>\n      <td>...</td>\n      <td>0</td>\n      <td>0</td>\n      <td>0</td>\n      <td>0</td>\n      <td>1</td>\n      <td>0</td>\n      <td>0</td>\n      <td>0</td>\n      <td>0</td>\n      <td>0.026900</td>\n    </tr>\n    <tr>\n      <th>232</th>\n      <td>0.50</td>\n      <td>64.275278</td>\n      <td>en</td>\n      <td>28</td>\n      <td>27</td>\n      <td>2</td>\n      <td>mon</td>\n      <td>mon</td>\n      <td>&lt;det&gt;&lt;pos&gt;&lt;m&gt;&lt;sg&gt;</td>\n      <td>1</td>\n      <td>...</td>\n      <td>0</td>\n      <td>0</td>\n      <td>0</td>\n      <td>0</td>\n      <td>1</td>\n      <td>0</td>\n      <td>0</td>\n      <td>0</td>\n      <td>0</td>\n      <td>0.001620</td>\n    </tr>\n    <tr>\n      <th>233</th>\n      <td>1.00</td>\n      <td>64.675556</td>\n      <td>en</td>\n      <td>2</td>\n      <td>2</td>\n      <td>1</td>\n      <td>mes</td>\n      <td>mon</td>\n      <td>&lt;det&gt;&lt;pos&gt;&lt;mf&gt;&lt;pl&gt;</td>\n      <td>0</td>\n      <td>...</td>\n      <td>0</td>\n      <td>0</td>\n      <td>0</td>\n      <td>0</td>\n      <td>1</td>\n      <td>0</td>\n      <td>1</td>\n      <td>0</td>\n      <td>0</td>\n      <td>0.000589</td>\n    </tr>\n    <tr>\n      <th>234</th>\n      <td>1.00</td>\n      <td>54.693889</td>\n      <td>en</td>\n      <td>19</td>\n      <td>18</td>\n      <td>1</td>\n      <td>c'</td>\n      <td>ce</td>\n      <td>&lt;prn&gt;&lt;tn&gt;&lt;nt&gt;&lt;sg&gt;</td>\n      <td>1</td>\n      <td>...</td>\n      <td>1</td>\n      <td>0</td>\n      <td>0</td>\n      <td>0</td>\n      <td>0</td>\n      <td>0</td>\n      <td>0</td>\n      <td>0</td>\n      <td>0</td>\n      <td>0.007410</td>\n    </tr>\n    <tr>\n      <th>235</th>\n      <td>0.00</td>\n      <td>76.158611</td>\n      <td>en</td>\n      <td>6</td>\n      <td>5</td>\n      <td>1</td>\n      <td>nouveau</td>\n      <td>nouveau</td>\n      <td>&lt;adj&gt;&lt;m&gt;&lt;sg&gt;</td>\n      <td>1</td>\n      <td>...</td>\n      <td>0</td>\n      <td>1</td>\n      <td>0</td>\n      <td>0</td>\n      <td>0</td>\n      <td>0</td>\n      <td>0</td>\n      <td>0</td>\n      <td>0</td>\n      <td>0.000427</td>\n    </tr>\n    <tr>\n      <th>...</th>\n      <td>...</td>\n      <td>...</td>\n      <td>...</td>\n      <td>...</td>\n      <td>...</td>\n      <td>...</td>\n      <td>...</td>\n      <td>...</td>\n      <td>...</td>\n      <td>...</td>\n      <td>...</td>\n      <td>...</td>\n      <td>...</td>\n      <td>...</td>\n      <td>...</td>\n      <td>...</td>\n      <td>...</td>\n      <td>...</td>\n      <td>...</td>\n      <td>...</td>\n      <td>...</td>\n    </tr>\n    <tr>\n      <th>12854112</th>\n      <td>0.75</td>\n      <td>15.644167</td>\n      <td>en</td>\n      <td>5</td>\n      <td>4</td>\n      <td>4</td>\n      <td>parle</td>\n      <td>parler</td>\n      <td>&lt;vblex&gt;&lt;pri&gt;&lt;p3&gt;&lt;sg&gt;</td>\n      <td>1</td>\n      <td>...</td>\n      <td>0</td>\n      <td>0</td>\n      <td>0</td>\n      <td>0</td>\n      <td>0</td>\n      <td>0</td>\n      <td>0</td>\n      <td>0</td>\n      <td>0</td>\n      <td>0.000295</td>\n    </tr>\n    <tr>\n      <th>12854113</th>\n      <td>1.00</td>\n      <td>15.644167</td>\n      <td>en</td>\n      <td>6</td>\n      <td>6</td>\n      <td>1</td>\n      <td>ça</td>\n      <td>ça</td>\n      <td>&lt;prn&gt;&lt;tn&gt;&lt;nt&gt;</td>\n      <td>0</td>\n      <td>...</td>\n      <td>1</td>\n      <td>0</td>\n      <td>0</td>\n      <td>0</td>\n      <td>0</td>\n      <td>0</td>\n      <td>0</td>\n      <td>0</td>\n      <td>0</td>\n      <td>0.003390</td>\n    </tr>\n    <tr>\n      <th>12854114</th>\n      <td>1.00</td>\n      <td>15.644167</td>\n      <td>en</td>\n      <td>6</td>\n      <td>4</td>\n      <td>2</td>\n      <td>et</td>\n      <td>et</td>\n      <td>&lt;cnjcoo&gt;</td>\n      <td>2</td>\n      <td>...</td>\n      <td>0</td>\n      <td>0</td>\n      <td>0</td>\n      <td>1</td>\n      <td>0</td>\n      <td>0</td>\n      <td>0</td>\n      <td>0</td>\n      <td>0</td>\n      <td>0.020400</td>\n    </tr>\n    <tr>\n      <th>12854115</th>\n      <td>1.00</td>\n      <td>15.644167</td>\n      <td>en</td>\n      <td>5</td>\n      <td>3</td>\n      <td>5</td>\n      <td>robe</td>\n      <td>robe</td>\n      <td>&lt;n&gt;&lt;f&gt;&lt;sg&gt;</td>\n      <td>2</td>\n      <td>...</td>\n      <td>0</td>\n      <td>0</td>\n      <td>0</td>\n      <td>0</td>\n      <td>0</td>\n      <td>0</td>\n      <td>0</td>\n      <td>0</td>\n      <td>0</td>\n      <td>0.000039</td>\n    </tr>\n    <tr>\n      <th>12854116</th>\n      <td>1.00</td>\n      <td>15.644167</td>\n      <td>en</td>\n      <td>4</td>\n      <td>4</td>\n      <td>1</td>\n      <td>noir</td>\n      <td>noir</td>\n      <td>&lt;adj&gt;&lt;m&gt;&lt;sg&gt;</td>\n      <td>0</td>\n      <td>...</td>\n      <td>0</td>\n      <td>1</td>\n      <td>0</td>\n      <td>0</td>\n      <td>0</td>\n      <td>0</td>\n      <td>0</td>\n      <td>0</td>\n      <td>0</td>\n      <td>0.000135</td>\n    </tr>\n  </tbody>\n</table>\n<p>1873734 rows × 26 columns</p>\n</div>"
     },
     "execution_count": 124,
     "metadata": {},
     "output_type": "execute_result"
    }
   ],
   "source": [
    "data_fr[\"word_freq\"]=data_fr[\"surface_form\"].apply(lambda x: word_frequency(x,\"fr\", wordlist=\"best\",minimum=0.0))\n",
    "data_fr"
   ],
   "metadata": {
    "collapsed": false,
    "pycharm": {
     "name": "#%%\n"
    }
   }
  },
  {
   "cell_type": "code",
   "execution_count": 125,
   "outputs": [
    {
     "name": "stderr",
     "output_type": "stream",
     "text": [
      "C:\\Users\\hresk\\AppData\\Local\\Temp\\ipykernel_22360\\2227989007.py:1: SettingWithCopyWarning: \n",
      "A value is trying to be set on a copy of a slice from a DataFrame.\n",
      "Try using .loc[row_indexer,col_indexer] = value instead\n",
      "\n",
      "See the caveats in the documentation: https://pandas.pydata.org/pandas-docs/stable/user_guide/indexing.html#returning-a-view-versus-a-copy\n",
      "  data_it[\"word_freq\"]=data_it[\"surface_form\"].apply(lambda x: word_frequency(x,\"it\", wordlist=\"best\",minimum=0.0))\n"
     ]
    },
    {
     "data": {
      "text/plain": "          p_recall       delta ui_language  history_seen  history_correct  \\\n377       0.666667  160.804167          en             7                7   \n378       1.000000  160.804167          en             9                8   \n379       1.000000  160.804167          en             9                9   \n380       1.000000  160.804167          en             8                7   \n381       1.000000  160.804167          en             8                7   \n...            ...         ...         ...           ...              ...   \n12854162  1.000000  122.544167          en             1                1   \n12854163  1.000000  122.544167          en             1                1   \n12854164  1.000000  122.544167          en             1                1   \n12854165  0.000000  122.544167          en             1                1   \n12854166  1.000000  122.737778          en             1                1   \n\n          session_seen surface_form  root_form  \\\n377                  3          mie        mio   \n378                  1          mia        mio   \n379                  1        dell'         di   \n380                  2        della         di   \n381                  2          dei         di   \n...                ...          ...        ...   \n12854162             1    conoscere  conoscere   \n12854163             1       sapere     sapere   \n12854164             1      trovare    trovare   \n12854165             1       vedere     vedere   \n12854166             1       volere     volere   \n\n                          modifiers_split  history_incorrect  ...  pronoun  \\\n377                     <det><pos><f><pl>                  0  ...        0   \n378                     <det><pos><f><sg>                  1  ...        0   \n379                <pr><det><def><mf><sg>                  0  ...        0   \n380                 <pr><det><def><f><sg>                  1  ...        0   \n381                 <pr><det><def><m><pl>                  1  ...        0   \n...                                   ...                ...  ...      ...   \n12854162  <*sf><vblex><pri><*pers><*numb>                  0  ...        0   \n12854163  <*sf><vblex><pri><*pers><*numb>                  0  ...        0   \n12854164  <*sf><vblex><pri><*pers><*numb>                  0  ...        0   \n12854165  <*sf><vblex><pri><*pers><*numb>                  0  ...        0   \n12854166  <*sf><vbmod><pri><*pers><*numb>                  0  ...        0   \n\n          adjective  adverb  conjunction  determiner  interjection  plural  \\\n377               0       0            0           1             0       1   \n378               0       0            0           1             0       0   \n379               0       0            0           1             0       0   \n380               0       0            0           1             0       0   \n381               0       0            0           1             0       1   \n...             ...     ...          ...         ...           ...     ...   \n12854162          0       0            0           0             0       0   \n12854163          0       0            0           0             0       0   \n12854164          0       0            0           0             0       0   \n12854165          0       0            0           0             0       0   \n12854166          0       0            0           0             0       0   \n\n          number  phrase  word_freq  \n377            0       0   0.000155  \n378            0       0   0.000955  \n379            0       0   0.000178  \n380            0       0   0.007240  \n381            0       0   0.004070  \n...          ...     ...        ...  \n12854162       0       0   0.000100  \n12854163       0       0   0.000229  \n12854164       0       0   0.000257  \n12854165       0       0   0.000479  \n12854166       0       0   0.000028  \n\n[793935 rows x 26 columns]",
      "text/html": "<div>\n<style scoped>\n    .dataframe tbody tr th:only-of-type {\n        vertical-align: middle;\n    }\n\n    .dataframe tbody tr th {\n        vertical-align: top;\n    }\n\n    .dataframe thead th {\n        text-align: right;\n    }\n</style>\n<table border=\"1\" class=\"dataframe\">\n  <thead>\n    <tr style=\"text-align: right;\">\n      <th></th>\n      <th>p_recall</th>\n      <th>delta</th>\n      <th>ui_language</th>\n      <th>history_seen</th>\n      <th>history_correct</th>\n      <th>session_seen</th>\n      <th>surface_form</th>\n      <th>root_form</th>\n      <th>modifiers_split</th>\n      <th>history_incorrect</th>\n      <th>...</th>\n      <th>pronoun</th>\n      <th>adjective</th>\n      <th>adverb</th>\n      <th>conjunction</th>\n      <th>determiner</th>\n      <th>interjection</th>\n      <th>plural</th>\n      <th>number</th>\n      <th>phrase</th>\n      <th>word_freq</th>\n    </tr>\n  </thead>\n  <tbody>\n    <tr>\n      <th>377</th>\n      <td>0.666667</td>\n      <td>160.804167</td>\n      <td>en</td>\n      <td>7</td>\n      <td>7</td>\n      <td>3</td>\n      <td>mie</td>\n      <td>mio</td>\n      <td>&lt;det&gt;&lt;pos&gt;&lt;f&gt;&lt;pl&gt;</td>\n      <td>0</td>\n      <td>...</td>\n      <td>0</td>\n      <td>0</td>\n      <td>0</td>\n      <td>0</td>\n      <td>1</td>\n      <td>0</td>\n      <td>1</td>\n      <td>0</td>\n      <td>0</td>\n      <td>0.000155</td>\n    </tr>\n    <tr>\n      <th>378</th>\n      <td>1.000000</td>\n      <td>160.804167</td>\n      <td>en</td>\n      <td>9</td>\n      <td>8</td>\n      <td>1</td>\n      <td>mia</td>\n      <td>mio</td>\n      <td>&lt;det&gt;&lt;pos&gt;&lt;f&gt;&lt;sg&gt;</td>\n      <td>1</td>\n      <td>...</td>\n      <td>0</td>\n      <td>0</td>\n      <td>0</td>\n      <td>0</td>\n      <td>1</td>\n      <td>0</td>\n      <td>0</td>\n      <td>0</td>\n      <td>0</td>\n      <td>0.000955</td>\n    </tr>\n    <tr>\n      <th>379</th>\n      <td>1.000000</td>\n      <td>160.804167</td>\n      <td>en</td>\n      <td>9</td>\n      <td>9</td>\n      <td>1</td>\n      <td>dell'</td>\n      <td>di</td>\n      <td>&lt;pr&gt;&lt;det&gt;&lt;def&gt;&lt;mf&gt;&lt;sg&gt;</td>\n      <td>0</td>\n      <td>...</td>\n      <td>0</td>\n      <td>0</td>\n      <td>0</td>\n      <td>0</td>\n      <td>1</td>\n      <td>0</td>\n      <td>0</td>\n      <td>0</td>\n      <td>0</td>\n      <td>0.000178</td>\n    </tr>\n    <tr>\n      <th>380</th>\n      <td>1.000000</td>\n      <td>160.804167</td>\n      <td>en</td>\n      <td>8</td>\n      <td>7</td>\n      <td>2</td>\n      <td>della</td>\n      <td>di</td>\n      <td>&lt;pr&gt;&lt;det&gt;&lt;def&gt;&lt;f&gt;&lt;sg&gt;</td>\n      <td>1</td>\n      <td>...</td>\n      <td>0</td>\n      <td>0</td>\n      <td>0</td>\n      <td>0</td>\n      <td>1</td>\n      <td>0</td>\n      <td>0</td>\n      <td>0</td>\n      <td>0</td>\n      <td>0.007240</td>\n    </tr>\n    <tr>\n      <th>381</th>\n      <td>1.000000</td>\n      <td>160.804167</td>\n      <td>en</td>\n      <td>8</td>\n      <td>7</td>\n      <td>2</td>\n      <td>dei</td>\n      <td>di</td>\n      <td>&lt;pr&gt;&lt;det&gt;&lt;def&gt;&lt;m&gt;&lt;pl&gt;</td>\n      <td>1</td>\n      <td>...</td>\n      <td>0</td>\n      <td>0</td>\n      <td>0</td>\n      <td>0</td>\n      <td>1</td>\n      <td>0</td>\n      <td>1</td>\n      <td>0</td>\n      <td>0</td>\n      <td>0.004070</td>\n    </tr>\n    <tr>\n      <th>...</th>\n      <td>...</td>\n      <td>...</td>\n      <td>...</td>\n      <td>...</td>\n      <td>...</td>\n      <td>...</td>\n      <td>...</td>\n      <td>...</td>\n      <td>...</td>\n      <td>...</td>\n      <td>...</td>\n      <td>...</td>\n      <td>...</td>\n      <td>...</td>\n      <td>...</td>\n      <td>...</td>\n      <td>...</td>\n      <td>...</td>\n      <td>...</td>\n      <td>...</td>\n      <td>...</td>\n    </tr>\n    <tr>\n      <th>12854162</th>\n      <td>1.000000</td>\n      <td>122.544167</td>\n      <td>en</td>\n      <td>1</td>\n      <td>1</td>\n      <td>1</td>\n      <td>conoscere</td>\n      <td>conoscere</td>\n      <td>&lt;*sf&gt;&lt;vblex&gt;&lt;pri&gt;&lt;*pers&gt;&lt;*numb&gt;</td>\n      <td>0</td>\n      <td>...</td>\n      <td>0</td>\n      <td>0</td>\n      <td>0</td>\n      <td>0</td>\n      <td>0</td>\n      <td>0</td>\n      <td>0</td>\n      <td>0</td>\n      <td>0</td>\n      <td>0.000100</td>\n    </tr>\n    <tr>\n      <th>12854163</th>\n      <td>1.000000</td>\n      <td>122.544167</td>\n      <td>en</td>\n      <td>1</td>\n      <td>1</td>\n      <td>1</td>\n      <td>sapere</td>\n      <td>sapere</td>\n      <td>&lt;*sf&gt;&lt;vblex&gt;&lt;pri&gt;&lt;*pers&gt;&lt;*numb&gt;</td>\n      <td>0</td>\n      <td>...</td>\n      <td>0</td>\n      <td>0</td>\n      <td>0</td>\n      <td>0</td>\n      <td>0</td>\n      <td>0</td>\n      <td>0</td>\n      <td>0</td>\n      <td>0</td>\n      <td>0.000229</td>\n    </tr>\n    <tr>\n      <th>12854164</th>\n      <td>1.000000</td>\n      <td>122.544167</td>\n      <td>en</td>\n      <td>1</td>\n      <td>1</td>\n      <td>1</td>\n      <td>trovare</td>\n      <td>trovare</td>\n      <td>&lt;*sf&gt;&lt;vblex&gt;&lt;pri&gt;&lt;*pers&gt;&lt;*numb&gt;</td>\n      <td>0</td>\n      <td>...</td>\n      <td>0</td>\n      <td>0</td>\n      <td>0</td>\n      <td>0</td>\n      <td>0</td>\n      <td>0</td>\n      <td>0</td>\n      <td>0</td>\n      <td>0</td>\n      <td>0.000257</td>\n    </tr>\n    <tr>\n      <th>12854165</th>\n      <td>0.000000</td>\n      <td>122.544167</td>\n      <td>en</td>\n      <td>1</td>\n      <td>1</td>\n      <td>1</td>\n      <td>vedere</td>\n      <td>vedere</td>\n      <td>&lt;*sf&gt;&lt;vblex&gt;&lt;pri&gt;&lt;*pers&gt;&lt;*numb&gt;</td>\n      <td>0</td>\n      <td>...</td>\n      <td>0</td>\n      <td>0</td>\n      <td>0</td>\n      <td>0</td>\n      <td>0</td>\n      <td>0</td>\n      <td>0</td>\n      <td>0</td>\n      <td>0</td>\n      <td>0.000479</td>\n    </tr>\n    <tr>\n      <th>12854166</th>\n      <td>1.000000</td>\n      <td>122.737778</td>\n      <td>en</td>\n      <td>1</td>\n      <td>1</td>\n      <td>1</td>\n      <td>volere</td>\n      <td>volere</td>\n      <td>&lt;*sf&gt;&lt;vbmod&gt;&lt;pri&gt;&lt;*pers&gt;&lt;*numb&gt;</td>\n      <td>0</td>\n      <td>...</td>\n      <td>0</td>\n      <td>0</td>\n      <td>0</td>\n      <td>0</td>\n      <td>0</td>\n      <td>0</td>\n      <td>0</td>\n      <td>0</td>\n      <td>0</td>\n      <td>0.000028</td>\n    </tr>\n  </tbody>\n</table>\n<p>793935 rows × 26 columns</p>\n</div>"
     },
     "execution_count": 125,
     "metadata": {},
     "output_type": "execute_result"
    }
   ],
   "source": [
    "data_it[\"word_freq\"]=data_it[\"surface_form\"].apply(lambda x: word_frequency(x,\"it\", wordlist=\"best\",minimum=0.0))\n",
    "data_it"
   ],
   "metadata": {
    "collapsed": false,
    "pycharm": {
     "name": "#%%\n"
    }
   }
  },
  {
   "cell_type": "code",
   "execution_count": 126,
   "outputs": [
    {
     "name": "stderr",
     "output_type": "stream",
     "text": [
      "C:\\Users\\hresk\\AppData\\Local\\Temp\\ipykernel_22360\\418652778.py:1: SettingWithCopyWarning: \n",
      "A value is trying to be set on a copy of a slice from a DataFrame.\n",
      "Try using .loc[row_indexer,col_indexer] = value instead\n",
      "\n",
      "See the caveats in the documentation: https://pandas.pydata.org/pandas-docs/stable/user_guide/indexing.html#returning-a-view-versus-a-copy\n",
      "  data_pt[\"word_freq\"]=data_pt[\"surface_form\"].apply(lambda x: word_frequency(x,\"pt\", wordlist=\"best\",minimum=0.0))\n"
     ]
    },
    {
     "data": {
      "text/plain": "          p_recall       delta ui_language  history_seen  history_correct  \\\n64             1.0    0.408056          en            48               48   \n65             0.5    0.408056          en             2                2   \n66             1.0    0.408056          en             1                1   \n67             1.0    0.606667          en             4                3   \n68             1.0    0.408056          en             9                8   \n...            ...         ...         ...           ...              ...   \n12852940       1.0  167.984444          en            13               12   \n12852941       1.0   79.430000          en             8                7   \n12852942       1.0    0.233611          en            54               49   \n12852943       1.0    0.233611          en            27               27   \n12852944       1.0    0.233611          en            25               25   \n\n          session_seen surface_form root_form        modifiers_split  \\\n64                   1           tu        tu  <prn><tn><p2><mf><sg>   \n65                   2          tem       ter   <vblex><pri><p3><sg>   \n66                   1        temos       ter   <vblex><pri><p1><pl>   \n67                   1          tua       teu      <det><pos><f><sg>   \n68                   1         leão      leão             <n><m><sg>   \n...                ...          ...       ...                    ...   \n12852940             1        gatas      gato             <n><f><pl>   \n12852941             1          cão       cão             <n><m><sg>   \n12852942             1            é       ser   <vbser><pri><p3><sg>   \n12852943             2         bebe     beber   <vblex><pri><p3><sg>   \n12852944             1      escreve  escrever   <vblex><pri><p3><sg>   \n\n          history_incorrect  ...  pronoun  adjective  adverb  conjunction  \\\n64                        0  ...        1          0       0            0   \n65                        0  ...        0          0       0            0   \n66                        0  ...        0          0       0            0   \n67                        1  ...        0          0       0            0   \n68                        1  ...        0          0       0            0   \n...                     ...  ...      ...        ...     ...          ...   \n12852940                  1  ...        0          0       0            0   \n12852941                  1  ...        0          0       0            0   \n12852942                  5  ...        0          0       0            0   \n12852943                  0  ...        0          0       0            0   \n12852944                  0  ...        0          0       0            0   \n\n          determiner  interjection  plural  number  phrase  word_freq  \n64                 0             0       0       0       0   0.000380  \n65                 0             0       0       0       0   0.002750  \n66                 0             0       1       0       0   0.000316  \n67                 1             0       0       0       0   0.000151  \n68                 0             0       0       0       0   0.000048  \n...              ...           ...     ...     ...     ...        ...  \n12852940           0             0       1       0       0   0.000003  \n12852941           0             0       0       0       0   0.000029  \n12852942           0             0       0       0       0   0.012600  \n12852943           0             0       0       0       0   0.000017  \n12852944           0             0       0       0       0   0.000035  \n\n[311480 rows x 26 columns]",
      "text/html": "<div>\n<style scoped>\n    .dataframe tbody tr th:only-of-type {\n        vertical-align: middle;\n    }\n\n    .dataframe tbody tr th {\n        vertical-align: top;\n    }\n\n    .dataframe thead th {\n        text-align: right;\n    }\n</style>\n<table border=\"1\" class=\"dataframe\">\n  <thead>\n    <tr style=\"text-align: right;\">\n      <th></th>\n      <th>p_recall</th>\n      <th>delta</th>\n      <th>ui_language</th>\n      <th>history_seen</th>\n      <th>history_correct</th>\n      <th>session_seen</th>\n      <th>surface_form</th>\n      <th>root_form</th>\n      <th>modifiers_split</th>\n      <th>history_incorrect</th>\n      <th>...</th>\n      <th>pronoun</th>\n      <th>adjective</th>\n      <th>adverb</th>\n      <th>conjunction</th>\n      <th>determiner</th>\n      <th>interjection</th>\n      <th>plural</th>\n      <th>number</th>\n      <th>phrase</th>\n      <th>word_freq</th>\n    </tr>\n  </thead>\n  <tbody>\n    <tr>\n      <th>64</th>\n      <td>1.0</td>\n      <td>0.408056</td>\n      <td>en</td>\n      <td>48</td>\n      <td>48</td>\n      <td>1</td>\n      <td>tu</td>\n      <td>tu</td>\n      <td>&lt;prn&gt;&lt;tn&gt;&lt;p2&gt;&lt;mf&gt;&lt;sg&gt;</td>\n      <td>0</td>\n      <td>...</td>\n      <td>1</td>\n      <td>0</td>\n      <td>0</td>\n      <td>0</td>\n      <td>0</td>\n      <td>0</td>\n      <td>0</td>\n      <td>0</td>\n      <td>0</td>\n      <td>0.000380</td>\n    </tr>\n    <tr>\n      <th>65</th>\n      <td>0.5</td>\n      <td>0.408056</td>\n      <td>en</td>\n      <td>2</td>\n      <td>2</td>\n      <td>2</td>\n      <td>tem</td>\n      <td>ter</td>\n      <td>&lt;vblex&gt;&lt;pri&gt;&lt;p3&gt;&lt;sg&gt;</td>\n      <td>0</td>\n      <td>...</td>\n      <td>0</td>\n      <td>0</td>\n      <td>0</td>\n      <td>0</td>\n      <td>0</td>\n      <td>0</td>\n      <td>0</td>\n      <td>0</td>\n      <td>0</td>\n      <td>0.002750</td>\n    </tr>\n    <tr>\n      <th>66</th>\n      <td>1.0</td>\n      <td>0.408056</td>\n      <td>en</td>\n      <td>1</td>\n      <td>1</td>\n      <td>1</td>\n      <td>temos</td>\n      <td>ter</td>\n      <td>&lt;vblex&gt;&lt;pri&gt;&lt;p1&gt;&lt;pl&gt;</td>\n      <td>0</td>\n      <td>...</td>\n      <td>0</td>\n      <td>0</td>\n      <td>0</td>\n      <td>0</td>\n      <td>0</td>\n      <td>0</td>\n      <td>1</td>\n      <td>0</td>\n      <td>0</td>\n      <td>0.000316</td>\n    </tr>\n    <tr>\n      <th>67</th>\n      <td>1.0</td>\n      <td>0.606667</td>\n      <td>en</td>\n      <td>4</td>\n      <td>3</td>\n      <td>1</td>\n      <td>tua</td>\n      <td>teu</td>\n      <td>&lt;det&gt;&lt;pos&gt;&lt;f&gt;&lt;sg&gt;</td>\n      <td>1</td>\n      <td>...</td>\n      <td>0</td>\n      <td>0</td>\n      <td>0</td>\n      <td>0</td>\n      <td>1</td>\n      <td>0</td>\n      <td>0</td>\n      <td>0</td>\n      <td>0</td>\n      <td>0.000151</td>\n    </tr>\n    <tr>\n      <th>68</th>\n      <td>1.0</td>\n      <td>0.408056</td>\n      <td>en</td>\n      <td>9</td>\n      <td>8</td>\n      <td>1</td>\n      <td>leão</td>\n      <td>leão</td>\n      <td>&lt;n&gt;&lt;m&gt;&lt;sg&gt;</td>\n      <td>1</td>\n      <td>...</td>\n      <td>0</td>\n      <td>0</td>\n      <td>0</td>\n      <td>0</td>\n      <td>0</td>\n      <td>0</td>\n      <td>0</td>\n      <td>0</td>\n      <td>0</td>\n      <td>0.000048</td>\n    </tr>\n    <tr>\n      <th>...</th>\n      <td>...</td>\n      <td>...</td>\n      <td>...</td>\n      <td>...</td>\n      <td>...</td>\n      <td>...</td>\n      <td>...</td>\n      <td>...</td>\n      <td>...</td>\n      <td>...</td>\n      <td>...</td>\n      <td>...</td>\n      <td>...</td>\n      <td>...</td>\n      <td>...</td>\n      <td>...</td>\n      <td>...</td>\n      <td>...</td>\n      <td>...</td>\n      <td>...</td>\n      <td>...</td>\n    </tr>\n    <tr>\n      <th>12852940</th>\n      <td>1.0</td>\n      <td>167.984444</td>\n      <td>en</td>\n      <td>13</td>\n      <td>12</td>\n      <td>1</td>\n      <td>gatas</td>\n      <td>gato</td>\n      <td>&lt;n&gt;&lt;f&gt;&lt;pl&gt;</td>\n      <td>1</td>\n      <td>...</td>\n      <td>0</td>\n      <td>0</td>\n      <td>0</td>\n      <td>0</td>\n      <td>0</td>\n      <td>0</td>\n      <td>1</td>\n      <td>0</td>\n      <td>0</td>\n      <td>0.000003</td>\n    </tr>\n    <tr>\n      <th>12852941</th>\n      <td>1.0</td>\n      <td>79.430000</td>\n      <td>en</td>\n      <td>8</td>\n      <td>7</td>\n      <td>1</td>\n      <td>cão</td>\n      <td>cão</td>\n      <td>&lt;n&gt;&lt;m&gt;&lt;sg&gt;</td>\n      <td>1</td>\n      <td>...</td>\n      <td>0</td>\n      <td>0</td>\n      <td>0</td>\n      <td>0</td>\n      <td>0</td>\n      <td>0</td>\n      <td>0</td>\n      <td>0</td>\n      <td>0</td>\n      <td>0.000029</td>\n    </tr>\n    <tr>\n      <th>12852942</th>\n      <td>1.0</td>\n      <td>0.233611</td>\n      <td>en</td>\n      <td>54</td>\n      <td>49</td>\n      <td>1</td>\n      <td>é</td>\n      <td>ser</td>\n      <td>&lt;vbser&gt;&lt;pri&gt;&lt;p3&gt;&lt;sg&gt;</td>\n      <td>5</td>\n      <td>...</td>\n      <td>0</td>\n      <td>0</td>\n      <td>0</td>\n      <td>0</td>\n      <td>0</td>\n      <td>0</td>\n      <td>0</td>\n      <td>0</td>\n      <td>0</td>\n      <td>0.012600</td>\n    </tr>\n    <tr>\n      <th>12852943</th>\n      <td>1.0</td>\n      <td>0.233611</td>\n      <td>en</td>\n      <td>27</td>\n      <td>27</td>\n      <td>2</td>\n      <td>bebe</td>\n      <td>beber</td>\n      <td>&lt;vblex&gt;&lt;pri&gt;&lt;p3&gt;&lt;sg&gt;</td>\n      <td>0</td>\n      <td>...</td>\n      <td>0</td>\n      <td>0</td>\n      <td>0</td>\n      <td>0</td>\n      <td>0</td>\n      <td>0</td>\n      <td>0</td>\n      <td>0</td>\n      <td>0</td>\n      <td>0.000017</td>\n    </tr>\n    <tr>\n      <th>12852944</th>\n      <td>1.0</td>\n      <td>0.233611</td>\n      <td>en</td>\n      <td>25</td>\n      <td>25</td>\n      <td>1</td>\n      <td>escreve</td>\n      <td>escrever</td>\n      <td>&lt;vblex&gt;&lt;pri&gt;&lt;p3&gt;&lt;sg&gt;</td>\n      <td>0</td>\n      <td>...</td>\n      <td>0</td>\n      <td>0</td>\n      <td>0</td>\n      <td>0</td>\n      <td>0</td>\n      <td>0</td>\n      <td>0</td>\n      <td>0</td>\n      <td>0</td>\n      <td>0.000035</td>\n    </tr>\n  </tbody>\n</table>\n<p>311480 rows × 26 columns</p>\n</div>"
     },
     "execution_count": 126,
     "metadata": {},
     "output_type": "execute_result"
    }
   ],
   "source": [
    "data_pt[\"word_freq\"]=data_pt[\"surface_form\"].apply(lambda x: word_frequency(x,\"pt\", wordlist=\"best\",minimum=0.0))\n",
    "data_pt"
   ],
   "metadata": {
    "collapsed": false,
    "pycharm": {
     "name": "#%%\n"
    }
   }
  },
  {
   "cell_type": "code",
   "execution_count": 133,
   "outputs": [],
   "source": [
    "data_en.to_csv(\"data_ready_en.csv\",index=False)"
   ],
   "metadata": {
    "collapsed": false,
    "pycharm": {
     "name": "#%%\n"
    }
   }
  },
  {
   "cell_type": "code",
   "execution_count": 134,
   "outputs": [],
   "source": [
    "data_de.to_csv(\"data_ready_de.csv\",index=False)"
   ],
   "metadata": {
    "collapsed": false,
    "pycharm": {
     "name": "#%%\n"
    }
   }
  },
  {
   "cell_type": "code",
   "execution_count": 135,
   "outputs": [],
   "source": [
    "data_es.to_csv(\"data_ready_es.csv\",index=False)"
   ],
   "metadata": {
    "collapsed": false,
    "pycharm": {
     "name": "#%%\n"
    }
   }
  },
  {
   "cell_type": "code",
   "execution_count": 136,
   "outputs": [],
   "source": [
    "data_fr.to_csv(\"data_ready_fr.csv\",index=False)"
   ],
   "metadata": {
    "collapsed": false,
    "pycharm": {
     "name": "#%%\n"
    }
   }
  },
  {
   "cell_type": "code",
   "execution_count": 137,
   "outputs": [],
   "source": [
    "data_it.to_csv(\"data_ready_it.csv\",index=False)"
   ],
   "metadata": {
    "collapsed": false,
    "pycharm": {
     "name": "#%%\n"
    }
   }
  },
  {
   "cell_type": "code",
   "execution_count": 138,
   "outputs": [],
   "source": [
    "data_pt.to_csv(\"data_ready_pt.csv\",index=False)"
   ],
   "metadata": {
    "collapsed": false,
    "pycharm": {
     "name": "#%%\n"
    }
   }
  },
  {
   "cell_type": "code",
   "execution_count": null,
   "outputs": [],
   "source": [],
   "metadata": {
    "collapsed": false,
    "pycharm": {
     "name": "#%%\n"
    }
   }
  }
 ],
 "metadata": {
  "kernelspec": {
   "display_name": "Python 3",
   "language": "python",
   "name": "python3"
  },
  "language_info": {
   "codemirror_mode": {
    "name": "ipython",
    "version": 2
   },
   "file_extension": ".py",
   "mimetype": "text/x-python",
   "name": "python",
   "nbconvert_exporter": "python",
   "pygments_lexer": "ipython2",
   "version": "2.7.6"
  }
 },
 "nbformat": 4,
 "nbformat_minor": 0
}