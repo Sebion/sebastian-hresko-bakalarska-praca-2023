{
 "cells": [
  {
   "cell_type": "code",
   "execution_count": 1,
   "metadata": {
    "collapsed": true
   },
   "outputs": [
    {
     "data": {
      "text/plain": "        p_recall     delta  history_seen  history_correct  session_seen  \\\n0            1.0  0.000889      0.001110         0.000931      0.000000   \n1            1.0  0.000007      0.010135         0.009700      0.105263   \n2            1.0  0.003718      0.000074         0.000078      0.052632   \n3            1.0  0.004435      0.001480         0.001086      0.000000   \n4            1.0  0.000005      0.000296         0.000310      0.052632   \n...          ...       ...           ...              ...           ...   \n999495       1.0  0.000006      0.000370         0.000310      0.000000   \n999496       1.0  0.000026      0.000444         0.000466      0.000000   \n999497       1.0  0.000009      0.000592         0.000466      0.000000   \n999498       1.0  0.006317      0.000814         0.000776      0.000000   \n999499       1.0  0.022550      0.000074         0.000000      0.052632   \n\n        history_incorrect  word_length  differs_from_root  verb  noun  ...  \\\n0                0.001221     0.230769                0.0   1.0   0.0  ...   \n1                0.004884     0.307692                0.0   0.0   1.0  ...   \n2                0.000000     0.230769                0.0   1.0   0.0  ...   \n3                0.002442     0.153846                0.0   0.0   0.0  ...   \n4                0.000000     0.615385                1.0   0.0   1.0  ...   \n...                   ...          ...                ...   ...   ...  ...   \n999495           0.000407     0.307692                1.0   1.0   0.0  ...   \n999496           0.000000     0.615385                0.0   0.0   1.0  ...   \n999497           0.000814     0.307692                0.0   0.0   1.0  ...   \n999498           0.000407     0.000000                0.0   0.0   0.0  ...   \n999499           0.000407     0.230769                0.0   1.0   0.0  ...   \n\n        conjunction  determiner  interjection  plural  number  phrase  \\\n0               0.0         0.0           0.0     0.0     0.0     0.0   \n1               0.0         0.0           0.0     0.0     0.0     0.0   \n2               0.0         0.0           0.0     0.0     0.0     0.0   \n3               0.0         0.0           0.0     0.0     1.0     0.0   \n4               0.0         0.0           0.0     1.0     0.0     0.0   \n...             ...         ...           ...     ...     ...     ...   \n999495          0.0         0.0           0.0     0.0     0.0     0.0   \n999496          0.0         0.0           0.0     0.0     0.0     0.0   \n999497          0.0         0.0           0.0     0.0     0.0     0.0   \n999498          0.0         1.0           0.0     0.0     0.0     0.0   \n999499          0.0         0.0           0.0     0.0     0.0     0.0   \n\n        word_freq  ui_language_es  ui_language_it  ui_language_pt  \n0        0.095514             1.0             0.0             0.0  \n1        0.003705             1.0             0.0             0.0  \n2        0.047840             1.0             0.0             0.0  \n3        0.003612             1.0             0.0             0.0  \n4        0.000101             0.0             1.0             0.0  \n...           ...             ...             ...             ...  \n999495   0.002793             1.0             0.0             0.0  \n999496   0.000739             1.0             0.0             0.0  \n999497   0.000832             1.0             0.0             0.0  \n999498   0.426432             0.0             1.0             0.0  \n999499   0.006443             1.0             0.0             0.0  \n\n[999500 rows x 24 columns]",
      "text/html": "<div>\n<style scoped>\n    .dataframe tbody tr th:only-of-type {\n        vertical-align: middle;\n    }\n\n    .dataframe tbody tr th {\n        vertical-align: top;\n    }\n\n    .dataframe thead th {\n        text-align: right;\n    }\n</style>\n<table border=\"1\" class=\"dataframe\">\n  <thead>\n    <tr style=\"text-align: right;\">\n      <th></th>\n      <th>p_recall</th>\n      <th>delta</th>\n      <th>history_seen</th>\n      <th>history_correct</th>\n      <th>session_seen</th>\n      <th>history_incorrect</th>\n      <th>word_length</th>\n      <th>differs_from_root</th>\n      <th>verb</th>\n      <th>noun</th>\n      <th>...</th>\n      <th>conjunction</th>\n      <th>determiner</th>\n      <th>interjection</th>\n      <th>plural</th>\n      <th>number</th>\n      <th>phrase</th>\n      <th>word_freq</th>\n      <th>ui_language_es</th>\n      <th>ui_language_it</th>\n      <th>ui_language_pt</th>\n    </tr>\n  </thead>\n  <tbody>\n    <tr>\n      <th>0</th>\n      <td>1.0</td>\n      <td>0.000889</td>\n      <td>0.001110</td>\n      <td>0.000931</td>\n      <td>0.000000</td>\n      <td>0.001221</td>\n      <td>0.230769</td>\n      <td>0.0</td>\n      <td>1.0</td>\n      <td>0.0</td>\n      <td>...</td>\n      <td>0.0</td>\n      <td>0.0</td>\n      <td>0.0</td>\n      <td>0.0</td>\n      <td>0.0</td>\n      <td>0.0</td>\n      <td>0.095514</td>\n      <td>1.0</td>\n      <td>0.0</td>\n      <td>0.0</td>\n    </tr>\n    <tr>\n      <th>1</th>\n      <td>1.0</td>\n      <td>0.000007</td>\n      <td>0.010135</td>\n      <td>0.009700</td>\n      <td>0.105263</td>\n      <td>0.004884</td>\n      <td>0.307692</td>\n      <td>0.0</td>\n      <td>0.0</td>\n      <td>1.0</td>\n      <td>...</td>\n      <td>0.0</td>\n      <td>0.0</td>\n      <td>0.0</td>\n      <td>0.0</td>\n      <td>0.0</td>\n      <td>0.0</td>\n      <td>0.003705</td>\n      <td>1.0</td>\n      <td>0.0</td>\n      <td>0.0</td>\n    </tr>\n    <tr>\n      <th>2</th>\n      <td>1.0</td>\n      <td>0.003718</td>\n      <td>0.000074</td>\n      <td>0.000078</td>\n      <td>0.052632</td>\n      <td>0.000000</td>\n      <td>0.230769</td>\n      <td>0.0</td>\n      <td>1.0</td>\n      <td>0.0</td>\n      <td>...</td>\n      <td>0.0</td>\n      <td>0.0</td>\n      <td>0.0</td>\n      <td>0.0</td>\n      <td>0.0</td>\n      <td>0.0</td>\n      <td>0.047840</td>\n      <td>1.0</td>\n      <td>0.0</td>\n      <td>0.0</td>\n    </tr>\n    <tr>\n      <th>3</th>\n      <td>1.0</td>\n      <td>0.004435</td>\n      <td>0.001480</td>\n      <td>0.001086</td>\n      <td>0.000000</td>\n      <td>0.002442</td>\n      <td>0.153846</td>\n      <td>0.0</td>\n      <td>0.0</td>\n      <td>0.0</td>\n      <td>...</td>\n      <td>0.0</td>\n      <td>0.0</td>\n      <td>0.0</td>\n      <td>0.0</td>\n      <td>1.0</td>\n      <td>0.0</td>\n      <td>0.003612</td>\n      <td>1.0</td>\n      <td>0.0</td>\n      <td>0.0</td>\n    </tr>\n    <tr>\n      <th>4</th>\n      <td>1.0</td>\n      <td>0.000005</td>\n      <td>0.000296</td>\n      <td>0.000310</td>\n      <td>0.052632</td>\n      <td>0.000000</td>\n      <td>0.615385</td>\n      <td>1.0</td>\n      <td>0.0</td>\n      <td>1.0</td>\n      <td>...</td>\n      <td>0.0</td>\n      <td>0.0</td>\n      <td>0.0</td>\n      <td>1.0</td>\n      <td>0.0</td>\n      <td>0.0</td>\n      <td>0.000101</td>\n      <td>0.0</td>\n      <td>1.0</td>\n      <td>0.0</td>\n    </tr>\n    <tr>\n      <th>...</th>\n      <td>...</td>\n      <td>...</td>\n      <td>...</td>\n      <td>...</td>\n      <td>...</td>\n      <td>...</td>\n      <td>...</td>\n      <td>...</td>\n      <td>...</td>\n      <td>...</td>\n      <td>...</td>\n      <td>...</td>\n      <td>...</td>\n      <td>...</td>\n      <td>...</td>\n      <td>...</td>\n      <td>...</td>\n      <td>...</td>\n      <td>...</td>\n      <td>...</td>\n      <td>...</td>\n    </tr>\n    <tr>\n      <th>999495</th>\n      <td>1.0</td>\n      <td>0.000006</td>\n      <td>0.000370</td>\n      <td>0.000310</td>\n      <td>0.000000</td>\n      <td>0.000407</td>\n      <td>0.307692</td>\n      <td>1.0</td>\n      <td>1.0</td>\n      <td>0.0</td>\n      <td>...</td>\n      <td>0.0</td>\n      <td>0.0</td>\n      <td>0.0</td>\n      <td>0.0</td>\n      <td>0.0</td>\n      <td>0.0</td>\n      <td>0.002793</td>\n      <td>1.0</td>\n      <td>0.0</td>\n      <td>0.0</td>\n    </tr>\n    <tr>\n      <th>999496</th>\n      <td>1.0</td>\n      <td>0.000026</td>\n      <td>0.000444</td>\n      <td>0.000466</td>\n      <td>0.000000</td>\n      <td>0.000000</td>\n      <td>0.615385</td>\n      <td>0.0</td>\n      <td>0.0</td>\n      <td>1.0</td>\n      <td>...</td>\n      <td>0.0</td>\n      <td>0.0</td>\n      <td>0.0</td>\n      <td>0.0</td>\n      <td>0.0</td>\n      <td>0.0</td>\n      <td>0.000739</td>\n      <td>1.0</td>\n      <td>0.0</td>\n      <td>0.0</td>\n    </tr>\n    <tr>\n      <th>999497</th>\n      <td>1.0</td>\n      <td>0.000009</td>\n      <td>0.000592</td>\n      <td>0.000466</td>\n      <td>0.000000</td>\n      <td>0.000814</td>\n      <td>0.307692</td>\n      <td>0.0</td>\n      <td>0.0</td>\n      <td>1.0</td>\n      <td>...</td>\n      <td>0.0</td>\n      <td>0.0</td>\n      <td>0.0</td>\n      <td>0.0</td>\n      <td>0.0</td>\n      <td>0.0</td>\n      <td>0.000832</td>\n      <td>1.0</td>\n      <td>0.0</td>\n      <td>0.0</td>\n    </tr>\n    <tr>\n      <th>999498</th>\n      <td>1.0</td>\n      <td>0.006317</td>\n      <td>0.000814</td>\n      <td>0.000776</td>\n      <td>0.000000</td>\n      <td>0.000407</td>\n      <td>0.000000</td>\n      <td>0.0</td>\n      <td>0.0</td>\n      <td>0.0</td>\n      <td>...</td>\n      <td>0.0</td>\n      <td>1.0</td>\n      <td>0.0</td>\n      <td>0.0</td>\n      <td>0.0</td>\n      <td>0.0</td>\n      <td>0.426432</td>\n      <td>0.0</td>\n      <td>1.0</td>\n      <td>0.0</td>\n    </tr>\n    <tr>\n      <th>999499</th>\n      <td>1.0</td>\n      <td>0.022550</td>\n      <td>0.000074</td>\n      <td>0.000000</td>\n      <td>0.052632</td>\n      <td>0.000407</td>\n      <td>0.230769</td>\n      <td>0.0</td>\n      <td>1.0</td>\n      <td>0.0</td>\n      <td>...</td>\n      <td>0.0</td>\n      <td>0.0</td>\n      <td>0.0</td>\n      <td>0.0</td>\n      <td>0.0</td>\n      <td>0.0</td>\n      <td>0.006443</td>\n      <td>1.0</td>\n      <td>0.0</td>\n      <td>0.0</td>\n    </tr>\n  </tbody>\n</table>\n<p>999500 rows × 24 columns</p>\n</div>"
     },
     "execution_count": 1,
     "metadata": {},
     "output_type": "execute_result"
    }
   ],
   "source": [
    "from sklearn.linear_model import Lasso\n",
    "import pandas as pd\n",
    "\n",
    "\n",
    "#data_ready_en_normalized_undersampled_train = pd.read_csv(\"data_ready_en_normalized_undersampled_train.csv\")\n",
    "data_en_ready_normalized_test = pd.read_csv(\"data_en_ready_normalized_test.csv\")\n",
    "data_en_ready_normalized_test"
   ]
  },
  {
   "cell_type": "code",
   "execution_count": 2,
   "outputs": [
    {
     "data": {
      "text/plain": "         p_recall     delta  history_seen  history_correct  session_seen  \\\n0             1.0  0.000013      0.000370         0.000233      0.000000   \n1             1.0  0.024899      0.000222         0.000155      0.105263   \n2             1.0  0.227572      0.000074         0.000078      0.052632   \n3             1.0  0.000004      0.000000         0.000000      0.000000   \n4             1.0  0.001956      0.027521         0.026306      0.578947   \n...           ...       ...           ...              ...           ...   \n3997994       1.0  0.000016      0.000296         0.000310      0.052632   \n3997995       1.0  0.012625      0.000296         0.000233      0.000000   \n3997996       1.0  0.000017      0.000296         0.000310      0.000000   \n3997997       1.0  0.007705      0.000370         0.000388      0.000000   \n3997998       1.0  0.000007      0.000444         0.000466      0.105263   \n\n         history_incorrect  word_length  differs_from_root  verb  noun  ...  \\\n0                 0.000814     0.230769                0.0   1.0   0.0  ...   \n1                 0.000407     0.153846                0.0   0.0   0.0  ...   \n2                 0.000000     0.230769                1.0   0.0   1.0  ...   \n3                 0.000000     0.307692                1.0   0.0   1.0  ...   \n4                 0.013431     0.076923                1.0   1.0   0.0  ...   \n...                    ...          ...                ...   ...   ...  ...   \n3997994           0.000000     0.307692                0.0   0.0   0.0  ...   \n3997995           0.000407     0.076923                1.0   0.0   0.0  ...   \n3997996           0.000000     0.461538                0.0   0.0   1.0  ...   \n3997997           0.000000     0.307692                0.0   0.0   1.0  ...   \n3997998           0.000000     0.153846                0.0   0.0   1.0  ...   \n\n         conjunction  determiner  interjection  plural  number  phrase  \\\n0                0.0         0.0           0.0     0.0     0.0     0.0   \n1                0.0         0.0           0.0     0.0     0.0     0.0   \n2                0.0         0.0           0.0     1.0     0.0     0.0   \n3                0.0         0.0           0.0     1.0     0.0     0.0   \n4                0.0         0.0           0.0     0.0     0.0     0.0   \n...              ...         ...           ...     ...     ...     ...   \n3997994          0.0         0.0           0.0     0.0     0.0     0.0   \n3997995          0.0         1.0           0.0     0.0     0.0     0.0   \n3997996          0.0         0.0           0.0     0.0     0.0     0.0   \n3997997          0.0         0.0           0.0     0.0     0.0     0.0   \n3997998          0.0         0.0           0.0     0.0     0.0     0.0   \n\n         word_freq  ui_language_es  ui_language_it  ui_language_pt  \n0         0.023445             0.0             0.0             1.0  \n1         0.015829             1.0             0.0             0.0  \n2         0.001078             1.0             0.0             0.0  \n3         0.000129             0.0             0.0             1.0  \n4         0.011210             1.0             0.0             0.0  \n...            ...             ...             ...             ...  \n3997994   0.005344             1.0             0.0             0.0  \n3997995   0.063111             1.0             0.0             0.0  \n3997996   0.000776             0.0             1.0             0.0  \n3997997   0.002216             0.0             0.0             1.0  \n3997998   0.002327             1.0             0.0             0.0  \n\n[3997999 rows x 24 columns]",
      "text/html": "<div>\n<style scoped>\n    .dataframe tbody tr th:only-of-type {\n        vertical-align: middle;\n    }\n\n    .dataframe tbody tr th {\n        vertical-align: top;\n    }\n\n    .dataframe thead th {\n        text-align: right;\n    }\n</style>\n<table border=\"1\" class=\"dataframe\">\n  <thead>\n    <tr style=\"text-align: right;\">\n      <th></th>\n      <th>p_recall</th>\n      <th>delta</th>\n      <th>history_seen</th>\n      <th>history_correct</th>\n      <th>session_seen</th>\n      <th>history_incorrect</th>\n      <th>word_length</th>\n      <th>differs_from_root</th>\n      <th>verb</th>\n      <th>noun</th>\n      <th>...</th>\n      <th>conjunction</th>\n      <th>determiner</th>\n      <th>interjection</th>\n      <th>plural</th>\n      <th>number</th>\n      <th>phrase</th>\n      <th>word_freq</th>\n      <th>ui_language_es</th>\n      <th>ui_language_it</th>\n      <th>ui_language_pt</th>\n    </tr>\n  </thead>\n  <tbody>\n    <tr>\n      <th>0</th>\n      <td>1.0</td>\n      <td>0.000013</td>\n      <td>0.000370</td>\n      <td>0.000233</td>\n      <td>0.000000</td>\n      <td>0.000814</td>\n      <td>0.230769</td>\n      <td>0.0</td>\n      <td>1.0</td>\n      <td>0.0</td>\n      <td>...</td>\n      <td>0.0</td>\n      <td>0.0</td>\n      <td>0.0</td>\n      <td>0.0</td>\n      <td>0.0</td>\n      <td>0.0</td>\n      <td>0.023445</td>\n      <td>0.0</td>\n      <td>0.0</td>\n      <td>1.0</td>\n    </tr>\n    <tr>\n      <th>1</th>\n      <td>1.0</td>\n      <td>0.024899</td>\n      <td>0.000222</td>\n      <td>0.000155</td>\n      <td>0.105263</td>\n      <td>0.000407</td>\n      <td>0.153846</td>\n      <td>0.0</td>\n      <td>0.0</td>\n      <td>0.0</td>\n      <td>...</td>\n      <td>0.0</td>\n      <td>0.0</td>\n      <td>0.0</td>\n      <td>0.0</td>\n      <td>0.0</td>\n      <td>0.0</td>\n      <td>0.015829</td>\n      <td>1.0</td>\n      <td>0.0</td>\n      <td>0.0</td>\n    </tr>\n    <tr>\n      <th>2</th>\n      <td>1.0</td>\n      <td>0.227572</td>\n      <td>0.000074</td>\n      <td>0.000078</td>\n      <td>0.052632</td>\n      <td>0.000000</td>\n      <td>0.230769</td>\n      <td>1.0</td>\n      <td>0.0</td>\n      <td>1.0</td>\n      <td>...</td>\n      <td>0.0</td>\n      <td>0.0</td>\n      <td>0.0</td>\n      <td>1.0</td>\n      <td>0.0</td>\n      <td>0.0</td>\n      <td>0.001078</td>\n      <td>1.0</td>\n      <td>0.0</td>\n      <td>0.0</td>\n    </tr>\n    <tr>\n      <th>3</th>\n      <td>1.0</td>\n      <td>0.000004</td>\n      <td>0.000000</td>\n      <td>0.000000</td>\n      <td>0.000000</td>\n      <td>0.000000</td>\n      <td>0.307692</td>\n      <td>1.0</td>\n      <td>0.0</td>\n      <td>1.0</td>\n      <td>...</td>\n      <td>0.0</td>\n      <td>0.0</td>\n      <td>0.0</td>\n      <td>1.0</td>\n      <td>0.0</td>\n      <td>0.0</td>\n      <td>0.000129</td>\n      <td>0.0</td>\n      <td>0.0</td>\n      <td>1.0</td>\n    </tr>\n    <tr>\n      <th>4</th>\n      <td>1.0</td>\n      <td>0.001956</td>\n      <td>0.027521</td>\n      <td>0.026306</td>\n      <td>0.578947</td>\n      <td>0.013431</td>\n      <td>0.076923</td>\n      <td>1.0</td>\n      <td>1.0</td>\n      <td>0.0</td>\n      <td>...</td>\n      <td>0.0</td>\n      <td>0.0</td>\n      <td>0.0</td>\n      <td>0.0</td>\n      <td>0.0</td>\n      <td>0.0</td>\n      <td>0.011210</td>\n      <td>1.0</td>\n      <td>0.0</td>\n      <td>0.0</td>\n    </tr>\n    <tr>\n      <th>...</th>\n      <td>...</td>\n      <td>...</td>\n      <td>...</td>\n      <td>...</td>\n      <td>...</td>\n      <td>...</td>\n      <td>...</td>\n      <td>...</td>\n      <td>...</td>\n      <td>...</td>\n      <td>...</td>\n      <td>...</td>\n      <td>...</td>\n      <td>...</td>\n      <td>...</td>\n      <td>...</td>\n      <td>...</td>\n      <td>...</td>\n      <td>...</td>\n      <td>...</td>\n      <td>...</td>\n    </tr>\n    <tr>\n      <th>3997994</th>\n      <td>1.0</td>\n      <td>0.000016</td>\n      <td>0.000296</td>\n      <td>0.000310</td>\n      <td>0.052632</td>\n      <td>0.000000</td>\n      <td>0.307692</td>\n      <td>0.0</td>\n      <td>0.0</td>\n      <td>0.0</td>\n      <td>...</td>\n      <td>0.0</td>\n      <td>0.0</td>\n      <td>0.0</td>\n      <td>0.0</td>\n      <td>0.0</td>\n      <td>0.0</td>\n      <td>0.005344</td>\n      <td>1.0</td>\n      <td>0.0</td>\n      <td>0.0</td>\n    </tr>\n    <tr>\n      <th>3997995</th>\n      <td>1.0</td>\n      <td>0.012625</td>\n      <td>0.000296</td>\n      <td>0.000233</td>\n      <td>0.000000</td>\n      <td>0.000407</td>\n      <td>0.076923</td>\n      <td>1.0</td>\n      <td>0.0</td>\n      <td>0.0</td>\n      <td>...</td>\n      <td>0.0</td>\n      <td>1.0</td>\n      <td>0.0</td>\n      <td>0.0</td>\n      <td>0.0</td>\n      <td>0.0</td>\n      <td>0.063111</td>\n      <td>1.0</td>\n      <td>0.0</td>\n      <td>0.0</td>\n    </tr>\n    <tr>\n      <th>3997996</th>\n      <td>1.0</td>\n      <td>0.000017</td>\n      <td>0.000296</td>\n      <td>0.000310</td>\n      <td>0.000000</td>\n      <td>0.000000</td>\n      <td>0.461538</td>\n      <td>0.0</td>\n      <td>0.0</td>\n      <td>1.0</td>\n      <td>...</td>\n      <td>0.0</td>\n      <td>0.0</td>\n      <td>0.0</td>\n      <td>0.0</td>\n      <td>0.0</td>\n      <td>0.0</td>\n      <td>0.000776</td>\n      <td>0.0</td>\n      <td>1.0</td>\n      <td>0.0</td>\n    </tr>\n    <tr>\n      <th>3997997</th>\n      <td>1.0</td>\n      <td>0.007705</td>\n      <td>0.000370</td>\n      <td>0.000388</td>\n      <td>0.000000</td>\n      <td>0.000000</td>\n      <td>0.307692</td>\n      <td>0.0</td>\n      <td>0.0</td>\n      <td>1.0</td>\n      <td>...</td>\n      <td>0.0</td>\n      <td>0.0</td>\n      <td>0.0</td>\n      <td>0.0</td>\n      <td>0.0</td>\n      <td>0.0</td>\n      <td>0.002216</td>\n      <td>0.0</td>\n      <td>0.0</td>\n      <td>1.0</td>\n    </tr>\n    <tr>\n      <th>3997998</th>\n      <td>1.0</td>\n      <td>0.000007</td>\n      <td>0.000444</td>\n      <td>0.000466</td>\n      <td>0.105263</td>\n      <td>0.000000</td>\n      <td>0.153846</td>\n      <td>0.0</td>\n      <td>0.0</td>\n      <td>1.0</td>\n      <td>...</td>\n      <td>0.0</td>\n      <td>0.0</td>\n      <td>0.0</td>\n      <td>0.0</td>\n      <td>0.0</td>\n      <td>0.0</td>\n      <td>0.002327</td>\n      <td>1.0</td>\n      <td>0.0</td>\n      <td>0.0</td>\n    </tr>\n  </tbody>\n</table>\n<p>3997999 rows × 24 columns</p>\n</div>"
     },
     "execution_count": 2,
     "metadata": {},
     "output_type": "execute_result"
    }
   ],
   "source": [
    "data_en_ready_normalized_train = pd.read_csv(\"data_ready_en_normalized_train.csv\")\n",
    "#data_ready_en_normalized_undersampled_train\n",
    "data_en_ready_normalized_train"
   ],
   "metadata": {
    "collapsed": false,
    "pycharm": {
     "name": "#%%\n"
    }
   }
  },
  {
   "cell_type": "code",
   "execution_count": 3,
   "outputs": [
    {
     "data": {
      "text/plain": "            delta  history_seen  history_correct  history_incorrect  \\\n0        0.000013      0.000370         0.000233           0.000814   \n1        0.024899      0.000222         0.000155           0.000407   \n2        0.227572      0.000074         0.000078           0.000000   \n3        0.000004      0.000000         0.000000           0.000000   \n4        0.001956      0.027521         0.026306           0.013431   \n...           ...           ...              ...                ...   \n3997994  0.000016      0.000296         0.000310           0.000000   \n3997995  0.012625      0.000296         0.000233           0.000407   \n3997996  0.000017      0.000296         0.000310           0.000000   \n3997997  0.007705      0.000370         0.000388           0.000000   \n3997998  0.000007      0.000444         0.000466           0.000000   \n\n         word_length  differs_from_root  word_freq  \n0           0.230769                0.0   0.023445  \n1           0.153846                0.0   0.015829  \n2           0.230769                1.0   0.001078  \n3           0.307692                1.0   0.000129  \n4           0.076923                1.0   0.011210  \n...              ...                ...        ...  \n3997994     0.307692                0.0   0.005344  \n3997995     0.076923                1.0   0.063111  \n3997996     0.461538                0.0   0.000776  \n3997997     0.307692                0.0   0.002216  \n3997998     0.153846                0.0   0.002327  \n\n[3997999 rows x 7 columns]",
      "text/html": "<div>\n<style scoped>\n    .dataframe tbody tr th:only-of-type {\n        vertical-align: middle;\n    }\n\n    .dataframe tbody tr th {\n        vertical-align: top;\n    }\n\n    .dataframe thead th {\n        text-align: right;\n    }\n</style>\n<table border=\"1\" class=\"dataframe\">\n  <thead>\n    <tr style=\"text-align: right;\">\n      <th></th>\n      <th>delta</th>\n      <th>history_seen</th>\n      <th>history_correct</th>\n      <th>history_incorrect</th>\n      <th>word_length</th>\n      <th>differs_from_root</th>\n      <th>word_freq</th>\n    </tr>\n  </thead>\n  <tbody>\n    <tr>\n      <th>0</th>\n      <td>0.000013</td>\n      <td>0.000370</td>\n      <td>0.000233</td>\n      <td>0.000814</td>\n      <td>0.230769</td>\n      <td>0.0</td>\n      <td>0.023445</td>\n    </tr>\n    <tr>\n      <th>1</th>\n      <td>0.024899</td>\n      <td>0.000222</td>\n      <td>0.000155</td>\n      <td>0.000407</td>\n      <td>0.153846</td>\n      <td>0.0</td>\n      <td>0.015829</td>\n    </tr>\n    <tr>\n      <th>2</th>\n      <td>0.227572</td>\n      <td>0.000074</td>\n      <td>0.000078</td>\n      <td>0.000000</td>\n      <td>0.230769</td>\n      <td>1.0</td>\n      <td>0.001078</td>\n    </tr>\n    <tr>\n      <th>3</th>\n      <td>0.000004</td>\n      <td>0.000000</td>\n      <td>0.000000</td>\n      <td>0.000000</td>\n      <td>0.307692</td>\n      <td>1.0</td>\n      <td>0.000129</td>\n    </tr>\n    <tr>\n      <th>4</th>\n      <td>0.001956</td>\n      <td>0.027521</td>\n      <td>0.026306</td>\n      <td>0.013431</td>\n      <td>0.076923</td>\n      <td>1.0</td>\n      <td>0.011210</td>\n    </tr>\n    <tr>\n      <th>...</th>\n      <td>...</td>\n      <td>...</td>\n      <td>...</td>\n      <td>...</td>\n      <td>...</td>\n      <td>...</td>\n      <td>...</td>\n    </tr>\n    <tr>\n      <th>3997994</th>\n      <td>0.000016</td>\n      <td>0.000296</td>\n      <td>0.000310</td>\n      <td>0.000000</td>\n      <td>0.307692</td>\n      <td>0.0</td>\n      <td>0.005344</td>\n    </tr>\n    <tr>\n      <th>3997995</th>\n      <td>0.012625</td>\n      <td>0.000296</td>\n      <td>0.000233</td>\n      <td>0.000407</td>\n      <td>0.076923</td>\n      <td>1.0</td>\n      <td>0.063111</td>\n    </tr>\n    <tr>\n      <th>3997996</th>\n      <td>0.000017</td>\n      <td>0.000296</td>\n      <td>0.000310</td>\n      <td>0.000000</td>\n      <td>0.461538</td>\n      <td>0.0</td>\n      <td>0.000776</td>\n    </tr>\n    <tr>\n      <th>3997997</th>\n      <td>0.007705</td>\n      <td>0.000370</td>\n      <td>0.000388</td>\n      <td>0.000000</td>\n      <td>0.307692</td>\n      <td>0.0</td>\n      <td>0.002216</td>\n    </tr>\n    <tr>\n      <th>3997998</th>\n      <td>0.000007</td>\n      <td>0.000444</td>\n      <td>0.000466</td>\n      <td>0.000000</td>\n      <td>0.153846</td>\n      <td>0.0</td>\n      <td>0.002327</td>\n    </tr>\n  </tbody>\n</table>\n<p>3997999 rows × 7 columns</p>\n</div>"
     },
     "execution_count": 3,
     "metadata": {},
     "output_type": "execute_result"
    }
   ],
   "source": [
    "# X_train = data_ready_en_normalized_undersampled_train.drop(['p_recall','session_seen','verb','noun','preposition','pronoun','adjective','adverb','conjunction','determiner','interjection','plural','phrase','number','ui_language_es','ui_language_it','ui_language_pt'], axis=1)\n",
    "# y_train = data_ready_en_normalized_undersampled_train['p_recall']\n",
    "# X_train\n",
    "X_train = data_en_ready_normalized_train.drop(['p_recall','session_seen','verb','noun','preposition','pronoun','adjective','adverb','conjunction','determiner','interjection','plural','phrase','number','ui_language_es','ui_language_it','ui_language_pt'], axis=1)\n",
    "y_train = data_en_ready_normalized_train['p_recall']\n",
    "X_train\n"
   ],
   "metadata": {
    "collapsed": false,
    "pycharm": {
     "name": "#%%\n"
    }
   }
  },
  {
   "cell_type": "code",
   "execution_count": 18,
   "outputs": [
    {
     "name": "stdout",
     "output_type": "stream",
     "text": [
      "Fitting 3 folds for each of 1 candidates, totalling 3 fits\n",
      "[CV 1/3] END ...................poly__degree=3;, score=-0.168 total time=  43.7s\n",
      "[CV 2/3] END ...................poly__degree=3;, score=-0.168 total time=  36.8s\n",
      "[CV 3/3] END ...................poly__degree=3;, score=-0.168 total time=  34.9s\n"
     ]
    },
    {
     "data": {
      "text/plain": "GridSearchCV(cv=3,\n             estimator=Pipeline(steps=[('poly', PolynomialFeatures()),\n                                       ('linear', LinearRegression())]),\n             param_grid={'poly__degree': [3]},\n             scoring='neg_mean_absolute_error', verbose=3)",
      "text/html": "<style>#sk-container-id-3 {color: black;background-color: white;}#sk-container-id-3 pre{padding: 0;}#sk-container-id-3 div.sk-toggleable {background-color: white;}#sk-container-id-3 label.sk-toggleable__label {cursor: pointer;display: block;width: 100%;margin-bottom: 0;padding: 0.3em;box-sizing: border-box;text-align: center;}#sk-container-id-3 label.sk-toggleable__label-arrow:before {content: \"▸\";float: left;margin-right: 0.25em;color: #696969;}#sk-container-id-3 label.sk-toggleable__label-arrow:hover:before {color: black;}#sk-container-id-3 div.sk-estimator:hover label.sk-toggleable__label-arrow:before {color: black;}#sk-container-id-3 div.sk-toggleable__content {max-height: 0;max-width: 0;overflow: hidden;text-align: left;background-color: #f0f8ff;}#sk-container-id-3 div.sk-toggleable__content pre {margin: 0.2em;color: black;border-radius: 0.25em;background-color: #f0f8ff;}#sk-container-id-3 input.sk-toggleable__control:checked~div.sk-toggleable__content {max-height: 200px;max-width: 100%;overflow: auto;}#sk-container-id-3 input.sk-toggleable__control:checked~label.sk-toggleable__label-arrow:before {content: \"▾\";}#sk-container-id-3 div.sk-estimator input.sk-toggleable__control:checked~label.sk-toggleable__label {background-color: #d4ebff;}#sk-container-id-3 div.sk-label input.sk-toggleable__control:checked~label.sk-toggleable__label {background-color: #d4ebff;}#sk-container-id-3 input.sk-hidden--visually {border: 0;clip: rect(1px 1px 1px 1px);clip: rect(1px, 1px, 1px, 1px);height: 1px;margin: -1px;overflow: hidden;padding: 0;position: absolute;width: 1px;}#sk-container-id-3 div.sk-estimator {font-family: monospace;background-color: #f0f8ff;border: 1px dotted black;border-radius: 0.25em;box-sizing: border-box;margin-bottom: 0.5em;}#sk-container-id-3 div.sk-estimator:hover {background-color: #d4ebff;}#sk-container-id-3 div.sk-parallel-item::after {content: \"\";width: 100%;border-bottom: 1px solid gray;flex-grow: 1;}#sk-container-id-3 div.sk-label:hover label.sk-toggleable__label {background-color: #d4ebff;}#sk-container-id-3 div.sk-serial::before {content: \"\";position: absolute;border-left: 1px solid gray;box-sizing: border-box;top: 0;bottom: 0;left: 50%;z-index: 0;}#sk-container-id-3 div.sk-serial {display: flex;flex-direction: column;align-items: center;background-color: white;padding-right: 0.2em;padding-left: 0.2em;position: relative;}#sk-container-id-3 div.sk-item {position: relative;z-index: 1;}#sk-container-id-3 div.sk-parallel {display: flex;align-items: stretch;justify-content: center;background-color: white;position: relative;}#sk-container-id-3 div.sk-item::before, #sk-container-id-3 div.sk-parallel-item::before {content: \"\";position: absolute;border-left: 1px solid gray;box-sizing: border-box;top: 0;bottom: 0;left: 50%;z-index: -1;}#sk-container-id-3 div.sk-parallel-item {display: flex;flex-direction: column;z-index: 1;position: relative;background-color: white;}#sk-container-id-3 div.sk-parallel-item:first-child::after {align-self: flex-end;width: 50%;}#sk-container-id-3 div.sk-parallel-item:last-child::after {align-self: flex-start;width: 50%;}#sk-container-id-3 div.sk-parallel-item:only-child::after {width: 0;}#sk-container-id-3 div.sk-dashed-wrapped {border: 1px dashed gray;margin: 0 0.4em 0.5em 0.4em;box-sizing: border-box;padding-bottom: 0.4em;background-color: white;}#sk-container-id-3 div.sk-label label {font-family: monospace;font-weight: bold;display: inline-block;line-height: 1.2em;}#sk-container-id-3 div.sk-label-container {text-align: center;}#sk-container-id-3 div.sk-container {/* jupyter's `normalize.less` sets `[hidden] { display: none; }` but bootstrap.min.css set `[hidden] { display: none !important; }` so we also need the `!important` here to be able to override the default hidden behavior on the sphinx rendered scikit-learn.org. See: https://github.com/scikit-learn/scikit-learn/issues/21755 */display: inline-block !important;position: relative;}#sk-container-id-3 div.sk-text-repr-fallback {display: none;}</style><div id=\"sk-container-id-3\" class=\"sk-top-container\"><div class=\"sk-text-repr-fallback\"><pre>GridSearchCV(cv=3,\n             estimator=Pipeline(steps=[(&#x27;poly&#x27;, PolynomialFeatures()),\n                                       (&#x27;linear&#x27;, LinearRegression())]),\n             param_grid={&#x27;poly__degree&#x27;: [3]},\n             scoring=&#x27;neg_mean_absolute_error&#x27;, verbose=3)</pre><b>In a Jupyter environment, please rerun this cell to show the HTML representation or trust the notebook. <br />On GitHub, the HTML representation is unable to render, please try loading this page with nbviewer.org.</b></div><div class=\"sk-container\" hidden><div class=\"sk-item sk-dashed-wrapped\"><div class=\"sk-label-container\"><div class=\"sk-label sk-toggleable\"><input class=\"sk-toggleable__control sk-hidden--visually\" id=\"sk-estimator-id-6\" type=\"checkbox\" ><label for=\"sk-estimator-id-6\" class=\"sk-toggleable__label sk-toggleable__label-arrow\">GridSearchCV</label><div class=\"sk-toggleable__content\"><pre>GridSearchCV(cv=3,\n             estimator=Pipeline(steps=[(&#x27;poly&#x27;, PolynomialFeatures()),\n                                       (&#x27;linear&#x27;, LinearRegression())]),\n             param_grid={&#x27;poly__degree&#x27;: [3]},\n             scoring=&#x27;neg_mean_absolute_error&#x27;, verbose=3)</pre></div></div></div><div class=\"sk-parallel\"><div class=\"sk-parallel-item\"><div class=\"sk-item\"><div class=\"sk-label-container\"><div class=\"sk-label sk-toggleable\"><input class=\"sk-toggleable__control sk-hidden--visually\" id=\"sk-estimator-id-7\" type=\"checkbox\" ><label for=\"sk-estimator-id-7\" class=\"sk-toggleable__label sk-toggleable__label-arrow\">estimator: Pipeline</label><div class=\"sk-toggleable__content\"><pre>Pipeline(steps=[(&#x27;poly&#x27;, PolynomialFeatures()), (&#x27;linear&#x27;, LinearRegression())])</pre></div></div></div><div class=\"sk-serial\"><div class=\"sk-item\"><div class=\"sk-serial\"><div class=\"sk-item\"><div class=\"sk-estimator sk-toggleable\"><input class=\"sk-toggleable__control sk-hidden--visually\" id=\"sk-estimator-id-8\" type=\"checkbox\" ><label for=\"sk-estimator-id-8\" class=\"sk-toggleable__label sk-toggleable__label-arrow\">PolynomialFeatures</label><div class=\"sk-toggleable__content\"><pre>PolynomialFeatures()</pre></div></div></div><div class=\"sk-item\"><div class=\"sk-estimator sk-toggleable\"><input class=\"sk-toggleable__control sk-hidden--visually\" id=\"sk-estimator-id-9\" type=\"checkbox\" ><label for=\"sk-estimator-id-9\" class=\"sk-toggleable__label sk-toggleable__label-arrow\">LinearRegression</label><div class=\"sk-toggleable__content\"><pre>LinearRegression()</pre></div></div></div></div></div></div></div></div></div></div></div></div>"
     },
     "execution_count": 18,
     "metadata": {},
     "output_type": "execute_result"
    }
   ],
   "source": [
    "from sklearn.model_selection import GridSearchCV\n",
    "from sklearn.pipeline import Pipeline\n",
    "from sklearn.preprocessing import PolynomialFeatures\n",
    "from sklearn.linear_model import LinearRegression\n",
    "pipeline = Pipeline([\n",
    "    ('poly', PolynomialFeatures()),\n",
    "    ('linear', LinearRegression())\n",
    "])\n",
    "\n",
    "# Specify the hyperparameters to search over\n",
    "param_grid = {\n",
    "    'poly__degree': [3] # try degrees 1 to 5\n",
    "}\n",
    "\n",
    "# Create a GridSearchCV object\n",
    "grid_search = GridSearchCV(pipeline, param_grid, cv=3, scoring='neg_mean_absolute_error',verbose=3)\n",
    "\n",
    "# Fit the grid search object to the data\n",
    "grid_search.fit(X_train, y_train)\n",
    "\n"
   ],
   "metadata": {
    "collapsed": false,
    "pycharm": {
     "name": "#%%\n"
    }
   }
  },
  {
   "cell_type": "code",
   "execution_count": 19,
   "outputs": [
    {
     "name": "stdout",
     "output_type": "stream",
     "text": [
      "Best degree: 3\n",
      "MAE: 0.16780982385789148\n"
     ]
    }
   ],
   "source": [
    "# Print the best degree and mean absolute error score\n",
    "print(\"Best degree:\", grid_search.best_params_['poly__degree'])\n",
    "print(\"MAE:\", -grid_search.best_score_)\n",
    "best_model = grid_search.best_estimator_"
   ],
   "metadata": {
    "collapsed": false,
    "pycharm": {
     "name": "#%%\n"
    }
   }
  },
  {
   "cell_type": "code",
   "execution_count": 20,
   "outputs": [
    {
     "ename": "AttributeError",
     "evalue": "'Pipeline' object has no attribute 'coef_'",
     "output_type": "error",
     "traceback": [
      "\u001B[1;31m---------------------------------------------------------------------------\u001B[0m",
      "\u001B[1;31mAttributeError\u001B[0m                            Traceback (most recent call last)",
      "Cell \u001B[1;32mIn[20], line 1\u001B[0m\n\u001B[1;32m----> 1\u001B[0m \u001B[38;5;28mprint\u001B[39m(\u001B[43mbest_model\u001B[49m\u001B[38;5;241;43m.\u001B[39;49m\u001B[43mcoef_\u001B[49m)\n",
      "\u001B[1;31mAttributeError\u001B[0m: 'Pipeline' object has no attribute 'coef_'"
     ]
    }
   ],
   "source": [
    "print(best_model.coef_)"
   ],
   "metadata": {
    "collapsed": false,
    "pycharm": {
     "name": "#%%\n"
    }
   }
  },
  {
   "cell_type": "code",
   "execution_count": 21,
   "outputs": [
    {
     "ename": "AttributeError",
     "evalue": "'Pipeline' object has no attribute 'coef_'",
     "output_type": "error",
     "traceback": [
      "\u001B[1;31m---------------------------------------------------------------------------\u001B[0m",
      "\u001B[1;31mAttributeError\u001B[0m                            Traceback (most recent call last)",
      "Cell \u001B[1;32mIn[21], line 1\u001B[0m\n\u001B[1;32m----> 1\u001B[0m coef_df \u001B[38;5;241m=\u001B[39m pd\u001B[38;5;241m.\u001B[39mDataFrame({\u001B[38;5;124m'\u001B[39m\u001B[38;5;124mFeature Name\u001B[39m\u001B[38;5;124m'\u001B[39m: X_train\u001B[38;5;241m.\u001B[39mcolumns, \u001B[38;5;124m'\u001B[39m\u001B[38;5;124mCoefficient\u001B[39m\u001B[38;5;124m'\u001B[39m: \u001B[43mbest_model\u001B[49m\u001B[38;5;241;43m.\u001B[39;49m\u001B[43mcoef_\u001B[49m[\u001B[38;5;241m0\u001B[39m]})\n\u001B[0;32m      3\u001B[0m \u001B[38;5;66;03m# Print the DataFrame\u001B[39;00m\n\u001B[0;32m      4\u001B[0m \u001B[38;5;28mprint\u001B[39m(coef_df)\n",
      "\u001B[1;31mAttributeError\u001B[0m: 'Pipeline' object has no attribute 'coef_'"
     ]
    }
   ],
   "source": [
    "coef_df = pd.DataFrame({'Feature Name': X_train.columns, 'Coefficient': best_model.coef_[0]})\n",
    "\n",
    "# Print the DataFrame\n",
    "print(coef_df)"
   ],
   "metadata": {
    "collapsed": false,
    "pycharm": {
     "name": "#%%\n"
    }
   }
  },
  {
   "cell_type": "code",
   "execution_count": 20,
   "outputs": [
    {
     "data": {
      "text/plain": "           delta  history_seen  history_correct  history_incorrect  \\\n0       0.000889      0.001110         0.000931           0.001221   \n1       0.000007      0.010135         0.009700           0.004884   \n2       0.003718      0.000074         0.000078           0.000000   \n3       0.004435      0.001480         0.001086           0.002442   \n4       0.000005      0.000296         0.000310           0.000000   \n...          ...           ...              ...                ...   \n999495  0.000006      0.000370         0.000310           0.000407   \n999496  0.000026      0.000444         0.000466           0.000000   \n999497  0.000009      0.000592         0.000466           0.000814   \n999498  0.006317      0.000814         0.000776           0.000407   \n999499  0.022550      0.000074         0.000000           0.000407   \n\n        word_length  differs_from_root  word_freq  \n0          0.230769                0.0   0.095514  \n1          0.307692                0.0   0.003705  \n2          0.230769                0.0   0.047840  \n3          0.153846                0.0   0.003612  \n4          0.615385                1.0   0.000101  \n...             ...                ...        ...  \n999495     0.307692                1.0   0.002793  \n999496     0.615385                0.0   0.000739  \n999497     0.307692                0.0   0.000832  \n999498     0.000000                0.0   0.426432  \n999499     0.230769                0.0   0.006443  \n\n[999500 rows x 7 columns]",
      "text/html": "<div>\n<style scoped>\n    .dataframe tbody tr th:only-of-type {\n        vertical-align: middle;\n    }\n\n    .dataframe tbody tr th {\n        vertical-align: top;\n    }\n\n    .dataframe thead th {\n        text-align: right;\n    }\n</style>\n<table border=\"1\" class=\"dataframe\">\n  <thead>\n    <tr style=\"text-align: right;\">\n      <th></th>\n      <th>delta</th>\n      <th>history_seen</th>\n      <th>history_correct</th>\n      <th>history_incorrect</th>\n      <th>word_length</th>\n      <th>differs_from_root</th>\n      <th>word_freq</th>\n    </tr>\n  </thead>\n  <tbody>\n    <tr>\n      <th>0</th>\n      <td>0.000889</td>\n      <td>0.001110</td>\n      <td>0.000931</td>\n      <td>0.001221</td>\n      <td>0.230769</td>\n      <td>0.0</td>\n      <td>0.095514</td>\n    </tr>\n    <tr>\n      <th>1</th>\n      <td>0.000007</td>\n      <td>0.010135</td>\n      <td>0.009700</td>\n      <td>0.004884</td>\n      <td>0.307692</td>\n      <td>0.0</td>\n      <td>0.003705</td>\n    </tr>\n    <tr>\n      <th>2</th>\n      <td>0.003718</td>\n      <td>0.000074</td>\n      <td>0.000078</td>\n      <td>0.000000</td>\n      <td>0.230769</td>\n      <td>0.0</td>\n      <td>0.047840</td>\n    </tr>\n    <tr>\n      <th>3</th>\n      <td>0.004435</td>\n      <td>0.001480</td>\n      <td>0.001086</td>\n      <td>0.002442</td>\n      <td>0.153846</td>\n      <td>0.0</td>\n      <td>0.003612</td>\n    </tr>\n    <tr>\n      <th>4</th>\n      <td>0.000005</td>\n      <td>0.000296</td>\n      <td>0.000310</td>\n      <td>0.000000</td>\n      <td>0.615385</td>\n      <td>1.0</td>\n      <td>0.000101</td>\n    </tr>\n    <tr>\n      <th>...</th>\n      <td>...</td>\n      <td>...</td>\n      <td>...</td>\n      <td>...</td>\n      <td>...</td>\n      <td>...</td>\n      <td>...</td>\n    </tr>\n    <tr>\n      <th>999495</th>\n      <td>0.000006</td>\n      <td>0.000370</td>\n      <td>0.000310</td>\n      <td>0.000407</td>\n      <td>0.307692</td>\n      <td>1.0</td>\n      <td>0.002793</td>\n    </tr>\n    <tr>\n      <th>999496</th>\n      <td>0.000026</td>\n      <td>0.000444</td>\n      <td>0.000466</td>\n      <td>0.000000</td>\n      <td>0.615385</td>\n      <td>0.0</td>\n      <td>0.000739</td>\n    </tr>\n    <tr>\n      <th>999497</th>\n      <td>0.000009</td>\n      <td>0.000592</td>\n      <td>0.000466</td>\n      <td>0.000814</td>\n      <td>0.307692</td>\n      <td>0.0</td>\n      <td>0.000832</td>\n    </tr>\n    <tr>\n      <th>999498</th>\n      <td>0.006317</td>\n      <td>0.000814</td>\n      <td>0.000776</td>\n      <td>0.000407</td>\n      <td>0.000000</td>\n      <td>0.0</td>\n      <td>0.426432</td>\n    </tr>\n    <tr>\n      <th>999499</th>\n      <td>0.022550</td>\n      <td>0.000074</td>\n      <td>0.000000</td>\n      <td>0.000407</td>\n      <td>0.230769</td>\n      <td>0.0</td>\n      <td>0.006443</td>\n    </tr>\n  </tbody>\n</table>\n<p>999500 rows × 7 columns</p>\n</div>"
     },
     "execution_count": 20,
     "metadata": {},
     "output_type": "execute_result"
    }
   ],
   "source": [
    "X_test = data_en_ready_normalized_test.drop(['p_recall','session_seen','verb','noun','preposition','pronoun','adjective','adverb','conjunction','determiner','interjection','plural','phrase','number','ui_language_es','ui_language_it','ui_language_pt'], axis=1)\n",
    "y_test = data_en_ready_normalized_test['p_recall']\n",
    "X_test"
   ],
   "metadata": {
    "collapsed": false,
    "pycharm": {
     "name": "#%%\n"
    }
   }
  },
  {
   "cell_type": "code",
   "execution_count": 21,
   "outputs": [
    {
     "data": {
      "text/plain": "LinearRegression()",
      "text/html": "<style>#sk-container-id-4 {color: black;background-color: white;}#sk-container-id-4 pre{padding: 0;}#sk-container-id-4 div.sk-toggleable {background-color: white;}#sk-container-id-4 label.sk-toggleable__label {cursor: pointer;display: block;width: 100%;margin-bottom: 0;padding: 0.3em;box-sizing: border-box;text-align: center;}#sk-container-id-4 label.sk-toggleable__label-arrow:before {content: \"▸\";float: left;margin-right: 0.25em;color: #696969;}#sk-container-id-4 label.sk-toggleable__label-arrow:hover:before {color: black;}#sk-container-id-4 div.sk-estimator:hover label.sk-toggleable__label-arrow:before {color: black;}#sk-container-id-4 div.sk-toggleable__content {max-height: 0;max-width: 0;overflow: hidden;text-align: left;background-color: #f0f8ff;}#sk-container-id-4 div.sk-toggleable__content pre {margin: 0.2em;color: black;border-radius: 0.25em;background-color: #f0f8ff;}#sk-container-id-4 input.sk-toggleable__control:checked~div.sk-toggleable__content {max-height: 200px;max-width: 100%;overflow: auto;}#sk-container-id-4 input.sk-toggleable__control:checked~label.sk-toggleable__label-arrow:before {content: \"▾\";}#sk-container-id-4 div.sk-estimator input.sk-toggleable__control:checked~label.sk-toggleable__label {background-color: #d4ebff;}#sk-container-id-4 div.sk-label input.sk-toggleable__control:checked~label.sk-toggleable__label {background-color: #d4ebff;}#sk-container-id-4 input.sk-hidden--visually {border: 0;clip: rect(1px 1px 1px 1px);clip: rect(1px, 1px, 1px, 1px);height: 1px;margin: -1px;overflow: hidden;padding: 0;position: absolute;width: 1px;}#sk-container-id-4 div.sk-estimator {font-family: monospace;background-color: #f0f8ff;border: 1px dotted black;border-radius: 0.25em;box-sizing: border-box;margin-bottom: 0.5em;}#sk-container-id-4 div.sk-estimator:hover {background-color: #d4ebff;}#sk-container-id-4 div.sk-parallel-item::after {content: \"\";width: 100%;border-bottom: 1px solid gray;flex-grow: 1;}#sk-container-id-4 div.sk-label:hover label.sk-toggleable__label {background-color: #d4ebff;}#sk-container-id-4 div.sk-serial::before {content: \"\";position: absolute;border-left: 1px solid gray;box-sizing: border-box;top: 0;bottom: 0;left: 50%;z-index: 0;}#sk-container-id-4 div.sk-serial {display: flex;flex-direction: column;align-items: center;background-color: white;padding-right: 0.2em;padding-left: 0.2em;position: relative;}#sk-container-id-4 div.sk-item {position: relative;z-index: 1;}#sk-container-id-4 div.sk-parallel {display: flex;align-items: stretch;justify-content: center;background-color: white;position: relative;}#sk-container-id-4 div.sk-item::before, #sk-container-id-4 div.sk-parallel-item::before {content: \"\";position: absolute;border-left: 1px solid gray;box-sizing: border-box;top: 0;bottom: 0;left: 50%;z-index: -1;}#sk-container-id-4 div.sk-parallel-item {display: flex;flex-direction: column;z-index: 1;position: relative;background-color: white;}#sk-container-id-4 div.sk-parallel-item:first-child::after {align-self: flex-end;width: 50%;}#sk-container-id-4 div.sk-parallel-item:last-child::after {align-self: flex-start;width: 50%;}#sk-container-id-4 div.sk-parallel-item:only-child::after {width: 0;}#sk-container-id-4 div.sk-dashed-wrapped {border: 1px dashed gray;margin: 0 0.4em 0.5em 0.4em;box-sizing: border-box;padding-bottom: 0.4em;background-color: white;}#sk-container-id-4 div.sk-label label {font-family: monospace;font-weight: bold;display: inline-block;line-height: 1.2em;}#sk-container-id-4 div.sk-label-container {text-align: center;}#sk-container-id-4 div.sk-container {/* jupyter's `normalize.less` sets `[hidden] { display: none; }` but bootstrap.min.css set `[hidden] { display: none !important; }` so we also need the `!important` here to be able to override the default hidden behavior on the sphinx rendered scikit-learn.org. See: https://github.com/scikit-learn/scikit-learn/issues/21755 */display: inline-block !important;position: relative;}#sk-container-id-4 div.sk-text-repr-fallback {display: none;}</style><div id=\"sk-container-id-4\" class=\"sk-top-container\"><div class=\"sk-text-repr-fallback\"><pre>LinearRegression()</pre><b>In a Jupyter environment, please rerun this cell to show the HTML representation or trust the notebook. <br />On GitHub, the HTML representation is unable to render, please try loading this page with nbviewer.org.</b></div><div class=\"sk-container\" hidden><div class=\"sk-item\"><div class=\"sk-estimator sk-toggleable\"><input class=\"sk-toggleable__control sk-hidden--visually\" id=\"sk-estimator-id-10\" type=\"checkbox\" checked><label for=\"sk-estimator-id-10\" class=\"sk-toggleable__label sk-toggleable__label-arrow\">LinearRegression</label><div class=\"sk-toggleable__content\"><pre>LinearRegression()</pre></div></div></div></div></div>"
     },
     "execution_count": 21,
     "metadata": {},
     "output_type": "execute_result"
    }
   ],
   "source": [
    "\n",
    "\n",
    "# Generate polynomial features up to degree 2\n",
    "poly = PolynomialFeatures(degree=3)\n",
    "X_poly = poly.fit_transform(X_train)\n",
    "\n",
    "# Fit a linear regression model to the transformed data\n",
    "model = LinearRegression()\n",
    "model.fit(X_poly, y_train)\n",
    "\n",
    "\n"
   ],
   "metadata": {
    "collapsed": false,
    "pycharm": {
     "name": "#%%\n"
    }
   }
  },
  {
   "cell_type": "code",
   "execution_count": 22,
   "outputs": [],
   "source": [
    "X_test_poly = poly.transform(X_test)\n",
    "y_pred = model.predict(X_test_poly)"
   ],
   "metadata": {
    "collapsed": false,
    "pycharm": {
     "name": "#%%\n"
    }
   }
  },
  {
   "cell_type": "code",
   "execution_count": 23,
   "outputs": [
    {
     "name": "stdout",
     "output_type": "stream",
     "text": [
      "[ 3.06187381e+05 -6.20339294e-01 -1.77619758e+09  1.69341261e+09\n",
      "  3.22861383e+08  4.76953059e-02  2.90720632e+10 -5.29976036e-02\n",
      "  2.29538583e+00  2.59546128e+08 -2.47449074e+08 -4.71782925e+07\n",
      "  2.66568099e-01 -1.37393758e+11  4.63140591e-01  2.73747292e+10\n",
      " -9.98252081e+09 -1.08291781e+10  1.36478345e+10 -1.05457753e+09\n",
      " -9.82569991e+09 -1.53651783e+10  2.65095291e+09 -1.30117366e+10\n",
      " -1.39668956e+10  9.36774393e+09  1.06395052e+09 -2.48078194e+09\n",
      " -3.25564695e+09  1.78602832e+09  1.29575244e-02 -6.63438716e+10\n",
      " -2.94264265e+00  3.87326690e+10  9.87356488e+11  2.83710480e-01\n",
      " -2.23643112e+00  3.73539323e+08 -3.56129701e+08 -6.78980398e+07\n",
      " -2.04395294e-01 -1.21746063e-02 -1.26394272e+00 -8.44989682e+07\n",
      " -7.98052395e+07  8.52267320e+07 -1.51022755e+06  7.05110215e+07\n",
      "  1.49195604e+07  1.52890752e+08 -3.74587798e+07  1.43993846e+06\n",
      " -6.72246495e+07 -1.42242642e+07 -1.26999120e+07  2.74186934e+05\n",
      " -1.28168511e+07 -2.71179297e+06 -2.37251282e-01  1.05834007e-02\n",
      "  7.12495804e-01  1.37393758e+11  7.42777586e-01  6.04543686e-02\n",
      " -7.21868233e+09 -1.98427525e+10  3.76940617e+09 -2.01333943e+09\n",
      " -1.13751006e+10  3.04200468e+09  6.02654159e+09  3.28346949e+09\n",
      " -1.14793991e+09 -2.03314233e+09  1.26594769e+09  2.12049449e+09\n",
      "  3.19257340e+08 -3.64226835e+07 -8.09352454e+07  2.20587247e+09\n",
      "  1.76420264e+09  2.26773305e+08  2.75993215e+10 -2.78789677e+09\n",
      "  1.36334371e+09  1.85461897e+10  2.80340810e+09  2.92447440e+09\n",
      "  1.22778517e+10 -3.97199391e+09 -2.58717081e+09  6.02104853e+08\n",
      "  4.34688145e+09 -1.20730318e+09 -2.10306123e+09 -1.68197672e+09\n",
      " -2.16203861e+08 -1.13406516e+10  2.65795855e+09 -1.29980102e+09\n",
      " -4.66634222e+08  8.49043938e+06  3.82462271e+08 -8.57983722e+07\n",
      " -4.00963883e+08 -3.20681061e+08 -4.12208377e+07 -1.56942044e+09\n",
      "  5.06759073e+08 -2.47816513e+08 -7.71369934e-02  7.67745972e-02\n",
      "  3.30023193e+00  6.63438716e+10 -5.78842163e-02  5.31311798e+00\n",
      " -6.78047322e+10 -9.87356488e+11 -1.04630089e+00 -6.86523438e-01]\n"
     ]
    }
   ],
   "source": [
    "print(model.coef_)"
   ],
   "metadata": {
    "collapsed": false,
    "pycharm": {
     "name": "#%%\n"
    }
   }
  },
  {
   "cell_type": "code",
   "execution_count": 12,
   "outputs": [
    {
     "name": "stdout",
     "output_type": "stream",
     "text": [
      "        Feature Name  Coefficient\n",
      "0              delta          0.0\n",
      "1       history_seen          0.0\n",
      "2    history_correct          0.0\n",
      "3  history_incorrect          0.0\n",
      "4        word_length          0.0\n",
      "5  differs_from_root          0.0\n",
      "6          word_freq          0.0\n"
     ]
    }
   ],
   "source": [
    "coef_df = pd.DataFrame({'Feature Name': X_train.columns, 'Coefficient': model.coef_})\n",
    "\n",
    "# Print the DataFrame\n",
    "print(coef_df)"
   ],
   "metadata": {
    "collapsed": false,
    "pycharm": {
     "name": "#%%\n"
    }
   }
  },
  {
   "cell_type": "code",
   "execution_count": 6,
   "outputs": [
    {
     "data": {
      "text/plain": "           delta  history_seen  history_correct  history_incorrect  \\\n0       0.000889      0.001110         0.000931           0.001221   \n1       0.000007      0.010135         0.009700           0.004884   \n2       0.003718      0.000074         0.000078           0.000000   \n3       0.004435      0.001480         0.001086           0.002442   \n4       0.000005      0.000296         0.000310           0.000000   \n...          ...           ...              ...                ...   \n999495  0.000006      0.000370         0.000310           0.000407   \n999496  0.000026      0.000444         0.000466           0.000000   \n999497  0.000009      0.000592         0.000466           0.000814   \n999498  0.006317      0.000814         0.000776           0.000407   \n999499  0.022550      0.000074         0.000000           0.000407   \n\n        word_length  differs_from_root  word_freq  \n0          0.230769                0.0   0.095514  \n1          0.307692                0.0   0.003705  \n2          0.230769                0.0   0.047840  \n3          0.153846                0.0   0.003612  \n4          0.615385                1.0   0.000101  \n...             ...                ...        ...  \n999495     0.307692                1.0   0.002793  \n999496     0.615385                0.0   0.000739  \n999497     0.307692                0.0   0.000832  \n999498     0.000000                0.0   0.426432  \n999499     0.230769                0.0   0.006443  \n\n[999500 rows x 7 columns]",
      "text/html": "<div>\n<style scoped>\n    .dataframe tbody tr th:only-of-type {\n        vertical-align: middle;\n    }\n\n    .dataframe tbody tr th {\n        vertical-align: top;\n    }\n\n    .dataframe thead th {\n        text-align: right;\n    }\n</style>\n<table border=\"1\" class=\"dataframe\">\n  <thead>\n    <tr style=\"text-align: right;\">\n      <th></th>\n      <th>delta</th>\n      <th>history_seen</th>\n      <th>history_correct</th>\n      <th>history_incorrect</th>\n      <th>word_length</th>\n      <th>differs_from_root</th>\n      <th>word_freq</th>\n    </tr>\n  </thead>\n  <tbody>\n    <tr>\n      <th>0</th>\n      <td>0.000889</td>\n      <td>0.001110</td>\n      <td>0.000931</td>\n      <td>0.001221</td>\n      <td>0.230769</td>\n      <td>0.0</td>\n      <td>0.095514</td>\n    </tr>\n    <tr>\n      <th>1</th>\n      <td>0.000007</td>\n      <td>0.010135</td>\n      <td>0.009700</td>\n      <td>0.004884</td>\n      <td>0.307692</td>\n      <td>0.0</td>\n      <td>0.003705</td>\n    </tr>\n    <tr>\n      <th>2</th>\n      <td>0.003718</td>\n      <td>0.000074</td>\n      <td>0.000078</td>\n      <td>0.000000</td>\n      <td>0.230769</td>\n      <td>0.0</td>\n      <td>0.047840</td>\n    </tr>\n    <tr>\n      <th>3</th>\n      <td>0.004435</td>\n      <td>0.001480</td>\n      <td>0.001086</td>\n      <td>0.002442</td>\n      <td>0.153846</td>\n      <td>0.0</td>\n      <td>0.003612</td>\n    </tr>\n    <tr>\n      <th>4</th>\n      <td>0.000005</td>\n      <td>0.000296</td>\n      <td>0.000310</td>\n      <td>0.000000</td>\n      <td>0.615385</td>\n      <td>1.0</td>\n      <td>0.000101</td>\n    </tr>\n    <tr>\n      <th>...</th>\n      <td>...</td>\n      <td>...</td>\n      <td>...</td>\n      <td>...</td>\n      <td>...</td>\n      <td>...</td>\n      <td>...</td>\n    </tr>\n    <tr>\n      <th>999495</th>\n      <td>0.000006</td>\n      <td>0.000370</td>\n      <td>0.000310</td>\n      <td>0.000407</td>\n      <td>0.307692</td>\n      <td>1.0</td>\n      <td>0.002793</td>\n    </tr>\n    <tr>\n      <th>999496</th>\n      <td>0.000026</td>\n      <td>0.000444</td>\n      <td>0.000466</td>\n      <td>0.000000</td>\n      <td>0.615385</td>\n      <td>0.0</td>\n      <td>0.000739</td>\n    </tr>\n    <tr>\n      <th>999497</th>\n      <td>0.000009</td>\n      <td>0.000592</td>\n      <td>0.000466</td>\n      <td>0.000814</td>\n      <td>0.307692</td>\n      <td>0.0</td>\n      <td>0.000832</td>\n    </tr>\n    <tr>\n      <th>999498</th>\n      <td>0.006317</td>\n      <td>0.000814</td>\n      <td>0.000776</td>\n      <td>0.000407</td>\n      <td>0.000000</td>\n      <td>0.0</td>\n      <td>0.426432</td>\n    </tr>\n    <tr>\n      <th>999499</th>\n      <td>0.022550</td>\n      <td>0.000074</td>\n      <td>0.000000</td>\n      <td>0.000407</td>\n      <td>0.230769</td>\n      <td>0.0</td>\n      <td>0.006443</td>\n    </tr>\n  </tbody>\n</table>\n<p>999500 rows × 7 columns</p>\n</div>"
     },
     "execution_count": 6,
     "metadata": {},
     "output_type": "execute_result"
    }
   ],
   "source": [],
   "metadata": {
    "collapsed": false,
    "pycharm": {
     "name": "#%%\n"
    }
   }
  },
  {
   "cell_type": "code",
   "execution_count": 24,
   "outputs": [],
   "source": [
    "y_pred = model.predict(X_test_poly)"
   ],
   "metadata": {
    "collapsed": false,
    "pycharm": {
     "name": "#%%\n"
    }
   }
  },
  {
   "cell_type": "code",
   "execution_count": 25,
   "outputs": [
    {
     "name": "stdout",
     "output_type": "stream",
     "text": [
      "MAE: 0.16741515483228983\n"
     ]
    }
   ],
   "source": [
    "from sklearn.metrics import mean_absolute_error\n",
    "mae = mean_absolute_error(y_test, y_pred)\n",
    "\n",
    "print(\"MAE:\", mae)"
   ],
   "metadata": {
    "collapsed": false,
    "pycharm": {
     "name": "#%%\n"
    }
   }
  },
  {
   "cell_type": "code",
   "execution_count": 26,
   "outputs": [
    {
     "data": {
      "text/plain": "<Figure size 640x480 with 1 Axes>",
      "image/png": "[encoded data removed]"
     },
     "metadata": {},
     "output_type": "display_data"
    }
   ],
   "source": [
    "import matplotlib.pyplot as plt\n",
    "\n",
    "plt.scatter(y_test, y_pred, c='red')\n",
    "\n",
    "# Add labels and title\n",
    "plt.xlabel('ytest')\n",
    "plt.ylabel('ypred')\n",
    "plt.title('Scatter plot of ytest vs ypred')\n",
    "\n",
    "# Show the plot\n",
    "plt.show()"
   ],
   "metadata": {
    "collapsed": false,
    "pycharm": {
     "name": "#%%\n"
    }
   }
  },
  {
   "cell_type": "code",
   "execution_count": 27,
   "outputs": [
    {
     "data": {
      "text/plain": "            pred  test\n0       0.867021   1.0\n1       0.915451   1.0\n2       0.889768   1.0\n3       0.884499   1.0\n4       0.911492   1.0\n...          ...   ...\n999495  0.898378   1.0\n999496  0.922364   1.0\n999497  0.910585   1.0\n999498  0.877203   1.0\n999499  0.891664   1.0\n\n[999500 rows x 2 columns]",
      "text/html": "<div>\n<style scoped>\n    .dataframe tbody tr th:only-of-type {\n        vertical-align: middle;\n    }\n\n    .dataframe tbody tr th {\n        vertical-align: top;\n    }\n\n    .dataframe thead th {\n        text-align: right;\n    }\n</style>\n<table border=\"1\" class=\"dataframe\">\n  <thead>\n    <tr style=\"text-align: right;\">\n      <th></th>\n      <th>pred</th>\n      <th>test</th>\n    </tr>\n  </thead>\n  <tbody>\n    <tr>\n      <th>0</th>\n      <td>0.867021</td>\n      <td>1.0</td>\n    </tr>\n    <tr>\n      <th>1</th>\n      <td>0.915451</td>\n      <td>1.0</td>\n    </tr>\n    <tr>\n      <th>2</th>\n      <td>0.889768</td>\n      <td>1.0</td>\n    </tr>\n    <tr>\n      <th>3</th>\n      <td>0.884499</td>\n      <td>1.0</td>\n    </tr>\n    <tr>\n      <th>4</th>\n      <td>0.911492</td>\n      <td>1.0</td>\n    </tr>\n    <tr>\n      <th>...</th>\n      <td>...</td>\n      <td>...</td>\n    </tr>\n    <tr>\n      <th>999495</th>\n      <td>0.898378</td>\n      <td>1.0</td>\n    </tr>\n    <tr>\n      <th>999496</th>\n      <td>0.922364</td>\n      <td>1.0</td>\n    </tr>\n    <tr>\n      <th>999497</th>\n      <td>0.910585</td>\n      <td>1.0</td>\n    </tr>\n    <tr>\n      <th>999498</th>\n      <td>0.877203</td>\n      <td>1.0</td>\n    </tr>\n    <tr>\n      <th>999499</th>\n      <td>0.891664</td>\n      <td>1.0</td>\n    </tr>\n  </tbody>\n</table>\n<p>999500 rows × 2 columns</p>\n</div>"
     },
     "execution_count": 27,
     "metadata": {},
     "output_type": "execute_result"
    }
   ],
   "source": [
    "y_pred_df = pd.DataFrame(y_pred, columns=[\"pred\"])\n",
    "y_pred_df[\"test\"] = y_test\n",
    "y_pred_df"
   ],
   "metadata": {
    "collapsed": false,
    "pycharm": {
     "name": "#%%\n"
    }
   }
  },
  {
   "cell_type": "code",
   "execution_count": 28,
   "outputs": [
    {
     "data": {
      "text/plain": "0.15440095335583795"
     },
     "execution_count": 28,
     "metadata": {},
     "output_type": "execute_result"
    }
   ],
   "source": [
    "y_pred_df[\"test\"].corr(y_pred_df[\"pred\"])"
   ],
   "metadata": {
    "collapsed": false,
    "pycharm": {
     "name": "#%%\n"
    }
   }
  },
  {
   "cell_type": "code",
   "execution_count": null,
   "outputs": [],
   "source": [],
   "metadata": {
    "collapsed": false,
    "pycharm": {
     "name": "#%%\n"
    }
   }
  }
 ],
 "metadata": {
  "kernelspec": {
   "display_name": "Python 3",
   "language": "python",
   "name": "python3"
  },
  "language_info": {
   "codemirror_mode": {
    "name": "ipython",
    "version": 2
   },
   "file_extension": ".py",
   "mimetype": "text/x-python",
   "name": "python",
   "nbconvert_exporter": "python",
   "pygments_lexer": "ipython2",
   "version": "2.7.6"
  }
 },
 "nbformat": 4,
 "nbformat_minor": 0
}