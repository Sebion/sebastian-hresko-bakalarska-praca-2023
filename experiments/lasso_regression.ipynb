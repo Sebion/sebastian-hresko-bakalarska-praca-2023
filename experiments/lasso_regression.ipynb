{
 "cells": [
  {
   "cell_type": "code",
   "execution_count": 26,
   "metadata": {
    "collapsed": true
   },
   "outputs": [
    {
     "data": {
      "text/plain": "        p_recall     delta  history_seen  history_correct  session_seen  \\\n0            1.0  0.000889      0.001110         0.000931      0.000000   \n1            1.0  0.000007      0.010135         0.009700      0.105263   \n2            1.0  0.003718      0.000074         0.000078      0.052632   \n3            1.0  0.004435      0.001480         0.001086      0.000000   \n4            1.0  0.000005      0.000296         0.000310      0.052632   \n...          ...       ...           ...              ...           ...   \n999495       1.0  0.000006      0.000370         0.000310      0.000000   \n999496       1.0  0.000026      0.000444         0.000466      0.000000   \n999497       1.0  0.000009      0.000592         0.000466      0.000000   \n999498       1.0  0.006317      0.000814         0.000776      0.000000   \n999499       1.0  0.022550      0.000074         0.000000      0.052632   \n\n        history_incorrect  word_length  differs_from_root  verb  noun  ...  \\\n0                0.001221     0.230769                0.0   1.0   0.0  ...   \n1                0.004884     0.307692                0.0   0.0   1.0  ...   \n2                0.000000     0.230769                0.0   1.0   0.0  ...   \n3                0.002442     0.153846                0.0   0.0   0.0  ...   \n4                0.000000     0.615385                1.0   0.0   1.0  ...   \n...                   ...          ...                ...   ...   ...  ...   \n999495           0.000407     0.307692                1.0   1.0   0.0  ...   \n999496           0.000000     0.615385                0.0   0.0   1.0  ...   \n999497           0.000814     0.307692                0.0   0.0   1.0  ...   \n999498           0.000407     0.000000                0.0   0.0   0.0  ...   \n999499           0.000407     0.230769                0.0   1.0   0.0  ...   \n\n        conjunction  determiner  interjection  plural  number  phrase  \\\n0               0.0         0.0           0.0     0.0     0.0     0.0   \n1               0.0         0.0           0.0     0.0     0.0     0.0   \n2               0.0         0.0           0.0     0.0     0.0     0.0   \n3               0.0         0.0           0.0     0.0     1.0     0.0   \n4               0.0         0.0           0.0     1.0     0.0     0.0   \n...             ...         ...           ...     ...     ...     ...   \n999495          0.0         0.0           0.0     0.0     0.0     0.0   \n999496          0.0         0.0           0.0     0.0     0.0     0.0   \n999497          0.0         0.0           0.0     0.0     0.0     0.0   \n999498          0.0         1.0           0.0     0.0     0.0     0.0   \n999499          0.0         0.0           0.0     0.0     0.0     0.0   \n\n        word_freq  ui_language_es  ui_language_it  ui_language_pt  \n0        0.095514             1.0             0.0             0.0  \n1        0.003705             1.0             0.0             0.0  \n2        0.047840             1.0             0.0             0.0  \n3        0.003612             1.0             0.0             0.0  \n4        0.000101             0.0             1.0             0.0  \n...           ...             ...             ...             ...  \n999495   0.002793             1.0             0.0             0.0  \n999496   0.000739             1.0             0.0             0.0  \n999497   0.000832             1.0             0.0             0.0  \n999498   0.426432             0.0             1.0             0.0  \n999499   0.006443             1.0             0.0             0.0  \n\n[999500 rows x 24 columns]",
      "text/html": "<div>\n<style scoped>\n    .dataframe tbody tr th:only-of-type {\n        vertical-align: middle;\n    }\n\n    .dataframe tbody tr th {\n        vertical-align: top;\n    }\n\n    .dataframe thead th {\n        text-align: right;\n    }\n</style>\n<table border=\"1\" class=\"dataframe\">\n  <thead>\n    <tr style=\"text-align: right;\">\n      <th></th>\n      <th>p_recall</th>\n      <th>delta</th>\n      <th>history_seen</th>\n      <th>history_correct</th>\n      <th>session_seen</th>\n      <th>history_incorrect</th>\n      <th>word_length</th>\n      <th>differs_from_root</th>\n      <th>verb</th>\n      <th>noun</th>\n      <th>...</th>\n      <th>conjunction</th>\n      <th>determiner</th>\n      <th>interjection</th>\n      <th>plural</th>\n      <th>number</th>\n      <th>phrase</th>\n      <th>word_freq</th>\n      <th>ui_language_es</th>\n      <th>ui_language_it</th>\n      <th>ui_language_pt</th>\n    </tr>\n  </thead>\n  <tbody>\n    <tr>\n      <th>0</th>\n      <td>1.0</td>\n      <td>0.000889</td>\n      <td>0.001110</td>\n      <td>0.000931</td>\n      <td>0.000000</td>\n      <td>0.001221</td>\n      <td>0.230769</td>\n      <td>0.0</td>\n      <td>1.0</td>\n      <td>0.0</td>\n      <td>...</td>\n      <td>0.0</td>\n      <td>0.0</td>\n      <td>0.0</td>\n      <td>0.0</td>\n      <td>0.0</td>\n      <td>0.0</td>\n      <td>0.095514</td>\n      <td>1.0</td>\n      <td>0.0</td>\n      <td>0.0</td>\n    </tr>\n    <tr>\n      <th>1</th>\n      <td>1.0</td>\n      <td>0.000007</td>\n      <td>0.010135</td>\n      <td>0.009700</td>\n      <td>0.105263</td>\n      <td>0.004884</td>\n      <td>0.307692</td>\n      <td>0.0</td>\n      <td>0.0</td>\n      <td>1.0</td>\n      <td>...</td>\n      <td>0.0</td>\n      <td>0.0</td>\n      <td>0.0</td>\n      <td>0.0</td>\n      <td>0.0</td>\n      <td>0.0</td>\n      <td>0.003705</td>\n      <td>1.0</td>\n      <td>0.0</td>\n      <td>0.0</td>\n    </tr>\n    <tr>\n      <th>2</th>\n      <td>1.0</td>\n      <td>0.003718</td>\n      <td>0.000074</td>\n      <td>0.000078</td>\n      <td>0.052632</td>\n      <td>0.000000</td>\n      <td>0.230769</td>\n      <td>0.0</td>\n      <td>1.0</td>\n      <td>0.0</td>\n      <td>...</td>\n      <td>0.0</td>\n      <td>0.0</td>\n      <td>0.0</td>\n      <td>0.0</td>\n      <td>0.0</td>\n      <td>0.0</td>\n      <td>0.047840</td>\n      <td>1.0</td>\n      <td>0.0</td>\n      <td>0.0</td>\n    </tr>\n    <tr>\n      <th>3</th>\n      <td>1.0</td>\n      <td>0.004435</td>\n      <td>0.001480</td>\n      <td>0.001086</td>\n      <td>0.000000</td>\n      <td>0.002442</td>\n      <td>0.153846</td>\n      <td>0.0</td>\n      <td>0.0</td>\n      <td>0.0</td>\n      <td>...</td>\n      <td>0.0</td>\n      <td>0.0</td>\n      <td>0.0</td>\n      <td>0.0</td>\n      <td>1.0</td>\n      <td>0.0</td>\n      <td>0.003612</td>\n      <td>1.0</td>\n      <td>0.0</td>\n      <td>0.0</td>\n    </tr>\n    <tr>\n      <th>4</th>\n      <td>1.0</td>\n      <td>0.000005</td>\n      <td>0.000296</td>\n      <td>0.000310</td>\n      <td>0.052632</td>\n      <td>0.000000</td>\n      <td>0.615385</td>\n      <td>1.0</td>\n      <td>0.0</td>\n      <td>1.0</td>\n      <td>...</td>\n      <td>0.0</td>\n      <td>0.0</td>\n      <td>0.0</td>\n      <td>1.0</td>\n      <td>0.0</td>\n      <td>0.0</td>\n      <td>0.000101</td>\n      <td>0.0</td>\n      <td>1.0</td>\n      <td>0.0</td>\n    </tr>\n    <tr>\n      <th>...</th>\n      <td>...</td>\n      <td>...</td>\n      <td>...</td>\n      <td>...</td>\n      <td>...</td>\n      <td>...</td>\n      <td>...</td>\n      <td>...</td>\n      <td>...</td>\n      <td>...</td>\n      <td>...</td>\n      <td>...</td>\n      <td>...</td>\n      <td>...</td>\n      <td>...</td>\n      <td>...</td>\n      <td>...</td>\n      <td>...</td>\n      <td>...</td>\n      <td>...</td>\n      <td>...</td>\n    </tr>\n    <tr>\n      <th>999495</th>\n      <td>1.0</td>\n      <td>0.000006</td>\n      <td>0.000370</td>\n      <td>0.000310</td>\n      <td>0.000000</td>\n      <td>0.000407</td>\n      <td>0.307692</td>\n      <td>1.0</td>\n      <td>1.0</td>\n      <td>0.0</td>\n      <td>...</td>\n      <td>0.0</td>\n      <td>0.0</td>\n      <td>0.0</td>\n      <td>0.0</td>\n      <td>0.0</td>\n      <td>0.0</td>\n      <td>0.002793</td>\n      <td>1.0</td>\n      <td>0.0</td>\n      <td>0.0</td>\n    </tr>\n    <tr>\n      <th>999496</th>\n      <td>1.0</td>\n      <td>0.000026</td>\n      <td>0.000444</td>\n      <td>0.000466</td>\n      <td>0.000000</td>\n      <td>0.000000</td>\n      <td>0.615385</td>\n      <td>0.0</td>\n      <td>0.0</td>\n      <td>1.0</td>\n      <td>...</td>\n      <td>0.0</td>\n      <td>0.0</td>\n      <td>0.0</td>\n      <td>0.0</td>\n      <td>0.0</td>\n      <td>0.0</td>\n      <td>0.000739</td>\n      <td>1.0</td>\n      <td>0.0</td>\n      <td>0.0</td>\n    </tr>\n    <tr>\n      <th>999497</th>\n      <td>1.0</td>\n      <td>0.000009</td>\n      <td>0.000592</td>\n      <td>0.000466</td>\n      <td>0.000000</td>\n      <td>0.000814</td>\n      <td>0.307692</td>\n      <td>0.0</td>\n      <td>0.0</td>\n      <td>1.0</td>\n      <td>...</td>\n      <td>0.0</td>\n      <td>0.0</td>\n      <td>0.0</td>\n      <td>0.0</td>\n      <td>0.0</td>\n      <td>0.0</td>\n      <td>0.000832</td>\n      <td>1.0</td>\n      <td>0.0</td>\n      <td>0.0</td>\n    </tr>\n    <tr>\n      <th>999498</th>\n      <td>1.0</td>\n      <td>0.006317</td>\n      <td>0.000814</td>\n      <td>0.000776</td>\n      <td>0.000000</td>\n      <td>0.000407</td>\n      <td>0.000000</td>\n      <td>0.0</td>\n      <td>0.0</td>\n      <td>0.0</td>\n      <td>...</td>\n      <td>0.0</td>\n      <td>1.0</td>\n      <td>0.0</td>\n      <td>0.0</td>\n      <td>0.0</td>\n      <td>0.0</td>\n      <td>0.426432</td>\n      <td>0.0</td>\n      <td>1.0</td>\n      <td>0.0</td>\n    </tr>\n    <tr>\n      <th>999499</th>\n      <td>1.0</td>\n      <td>0.022550</td>\n      <td>0.000074</td>\n      <td>0.000000</td>\n      <td>0.052632</td>\n      <td>0.000407</td>\n      <td>0.230769</td>\n      <td>0.0</td>\n      <td>1.0</td>\n      <td>0.0</td>\n      <td>...</td>\n      <td>0.0</td>\n      <td>0.0</td>\n      <td>0.0</td>\n      <td>0.0</td>\n      <td>0.0</td>\n      <td>0.0</td>\n      <td>0.006443</td>\n      <td>1.0</td>\n      <td>0.0</td>\n      <td>0.0</td>\n    </tr>\n  </tbody>\n</table>\n<p>999500 rows × 24 columns</p>\n</div>"
     },
     "execution_count": 26,
     "metadata": {},
     "output_type": "execute_result"
    }
   ],
   "source": [
    "from sklearn.linear_model import Lasso\n",
    "import pandas as pd\n",
    "\n",
    "\n",
    "#data_ready_en_normalized_undersampled_train = pd.read_csv(\"data_ready_en_normalized_undersampled_train.csv\")\n",
    "data_en_ready_normalized_test = pd.read_csv(\"data_en_ready_normalized_test.csv\")\n",
    "data_en_ready_normalized_test"
   ]
  },
  {
   "cell_type": "code",
   "execution_count": 27,
   "outputs": [
    {
     "data": {
      "text/plain": "         p_recall     delta  history_seen  history_correct  session_seen  \\\n0             1.0  0.000013      0.000370         0.000233      0.000000   \n1             1.0  0.024899      0.000222         0.000155      0.105263   \n2             1.0  0.227572      0.000074         0.000078      0.052632   \n3             1.0  0.000004      0.000000         0.000000      0.000000   \n4             1.0  0.001956      0.027521         0.026306      0.578947   \n...           ...       ...           ...              ...           ...   \n3997994       1.0  0.000016      0.000296         0.000310      0.052632   \n3997995       1.0  0.012625      0.000296         0.000233      0.000000   \n3997996       1.0  0.000017      0.000296         0.000310      0.000000   \n3997997       1.0  0.007705      0.000370         0.000388      0.000000   \n3997998       1.0  0.000007      0.000444         0.000466      0.105263   \n\n         history_incorrect  word_length  differs_from_root  verb  noun  ...  \\\n0                 0.000814     0.230769                0.0   1.0   0.0  ...   \n1                 0.000407     0.153846                0.0   0.0   0.0  ...   \n2                 0.000000     0.230769                1.0   0.0   1.0  ...   \n3                 0.000000     0.307692                1.0   0.0   1.0  ...   \n4                 0.013431     0.076923                1.0   1.0   0.0  ...   \n...                    ...          ...                ...   ...   ...  ...   \n3997994           0.000000     0.307692                0.0   0.0   0.0  ...   \n3997995           0.000407     0.076923                1.0   0.0   0.0  ...   \n3997996           0.000000     0.461538                0.0   0.0   1.0  ...   \n3997997           0.000000     0.307692                0.0   0.0   1.0  ...   \n3997998           0.000000     0.153846                0.0   0.0   1.0  ...   \n\n         conjunction  determiner  interjection  plural  number  phrase  \\\n0                0.0         0.0           0.0     0.0     0.0     0.0   \n1                0.0         0.0           0.0     0.0     0.0     0.0   \n2                0.0         0.0           0.0     1.0     0.0     0.0   \n3                0.0         0.0           0.0     1.0     0.0     0.0   \n4                0.0         0.0           0.0     0.0     0.0     0.0   \n...              ...         ...           ...     ...     ...     ...   \n3997994          0.0         0.0           0.0     0.0     0.0     0.0   \n3997995          0.0         1.0           0.0     0.0     0.0     0.0   \n3997996          0.0         0.0           0.0     0.0     0.0     0.0   \n3997997          0.0         0.0           0.0     0.0     0.0     0.0   \n3997998          0.0         0.0           0.0     0.0     0.0     0.0   \n\n         word_freq  ui_language_es  ui_language_it  ui_language_pt  \n0         0.023445             0.0             0.0             1.0  \n1         0.015829             1.0             0.0             0.0  \n2         0.001078             1.0             0.0             0.0  \n3         0.000129             0.0             0.0             1.0  \n4         0.011210             1.0             0.0             0.0  \n...            ...             ...             ...             ...  \n3997994   0.005344             1.0             0.0             0.0  \n3997995   0.063111             1.0             0.0             0.0  \n3997996   0.000776             0.0             1.0             0.0  \n3997997   0.002216             0.0             0.0             1.0  \n3997998   0.002327             1.0             0.0             0.0  \n\n[3997999 rows x 24 columns]",
      "text/html": "<div>\n<style scoped>\n    .dataframe tbody tr th:only-of-type {\n        vertical-align: middle;\n    }\n\n    .dataframe tbody tr th {\n        vertical-align: top;\n    }\n\n    .dataframe thead th {\n        text-align: right;\n    }\n</style>\n<table border=\"1\" class=\"dataframe\">\n  <thead>\n    <tr style=\"text-align: right;\">\n      <th></th>\n      <th>p_recall</th>\n      <th>delta</th>\n      <th>history_seen</th>\n      <th>history_correct</th>\n      <th>session_seen</th>\n      <th>history_incorrect</th>\n      <th>word_length</th>\n      <th>differs_from_root</th>\n      <th>verb</th>\n      <th>noun</th>\n      <th>...</th>\n      <th>conjunction</th>\n      <th>determiner</th>\n      <th>interjection</th>\n      <th>plural</th>\n      <th>number</th>\n      <th>phrase</th>\n      <th>word_freq</th>\n      <th>ui_language_es</th>\n      <th>ui_language_it</th>\n      <th>ui_language_pt</th>\n    </tr>\n  </thead>\n  <tbody>\n    <tr>\n      <th>0</th>\n      <td>1.0</td>\n      <td>0.000013</td>\n      <td>0.000370</td>\n      <td>0.000233</td>\n      <td>0.000000</td>\n      <td>0.000814</td>\n      <td>0.230769</td>\n      <td>0.0</td>\n      <td>1.0</td>\n      <td>0.0</td>\n      <td>...</td>\n      <td>0.0</td>\n      <td>0.0</td>\n      <td>0.0</td>\n      <td>0.0</td>\n      <td>0.0</td>\n      <td>0.0</td>\n      <td>0.023445</td>\n      <td>0.0</td>\n      <td>0.0</td>\n      <td>1.0</td>\n    </tr>\n    <tr>\n      <th>1</th>\n      <td>1.0</td>\n      <td>0.024899</td>\n      <td>0.000222</td>\n      <td>0.000155</td>\n      <td>0.105263</td>\n      <td>0.000407</td>\n      <td>0.153846</td>\n      <td>0.0</td>\n      <td>0.0</td>\n      <td>0.0</td>\n      <td>...</td>\n      <td>0.0</td>\n      <td>0.0</td>\n      <td>0.0</td>\n      <td>0.0</td>\n      <td>0.0</td>\n      <td>0.0</td>\n      <td>0.015829</td>\n      <td>1.0</td>\n      <td>0.0</td>\n      <td>0.0</td>\n    </tr>\n    <tr>\n      <th>2</th>\n      <td>1.0</td>\n      <td>0.227572</td>\n      <td>0.000074</td>\n      <td>0.000078</td>\n      <td>0.052632</td>\n      <td>0.000000</td>\n      <td>0.230769</td>\n      <td>1.0</td>\n      <td>0.0</td>\n      <td>1.0</td>\n      <td>...</td>\n      <td>0.0</td>\n      <td>0.0</td>\n      <td>0.0</td>\n      <td>1.0</td>\n      <td>0.0</td>\n      <td>0.0</td>\n      <td>0.001078</td>\n      <td>1.0</td>\n      <td>0.0</td>\n      <td>0.0</td>\n    </tr>\n    <tr>\n      <th>3</th>\n      <td>1.0</td>\n      <td>0.000004</td>\n      <td>0.000000</td>\n      <td>0.000000</td>\n      <td>0.000000</td>\n      <td>0.000000</td>\n      <td>0.307692</td>\n      <td>1.0</td>\n      <td>0.0</td>\n      <td>1.0</td>\n      <td>...</td>\n      <td>0.0</td>\n      <td>0.0</td>\n      <td>0.0</td>\n      <td>1.0</td>\n      <td>0.0</td>\n      <td>0.0</td>\n      <td>0.000129</td>\n      <td>0.0</td>\n      <td>0.0</td>\n      <td>1.0</td>\n    </tr>\n    <tr>\n      <th>4</th>\n      <td>1.0</td>\n      <td>0.001956</td>\n      <td>0.027521</td>\n      <td>0.026306</td>\n      <td>0.578947</td>\n      <td>0.013431</td>\n      <td>0.076923</td>\n      <td>1.0</td>\n      <td>1.0</td>\n      <td>0.0</td>\n      <td>...</td>\n      <td>0.0</td>\n      <td>0.0</td>\n      <td>0.0</td>\n      <td>0.0</td>\n      <td>0.0</td>\n      <td>0.0</td>\n      <td>0.011210</td>\n      <td>1.0</td>\n      <td>0.0</td>\n      <td>0.0</td>\n    </tr>\n    <tr>\n      <th>...</th>\n      <td>...</td>\n      <td>...</td>\n      <td>...</td>\n      <td>...</td>\n      <td>...</td>\n      <td>...</td>\n      <td>...</td>\n      <td>...</td>\n      <td>...</td>\n      <td>...</td>\n      <td>...</td>\n      <td>...</td>\n      <td>...</td>\n      <td>...</td>\n      <td>...</td>\n      <td>...</td>\n      <td>...</td>\n      <td>...</td>\n      <td>...</td>\n      <td>...</td>\n      <td>...</td>\n    </tr>\n    <tr>\n      <th>3997994</th>\n      <td>1.0</td>\n      <td>0.000016</td>\n      <td>0.000296</td>\n      <td>0.000310</td>\n      <td>0.052632</td>\n      <td>0.000000</td>\n      <td>0.307692</td>\n      <td>0.0</td>\n      <td>0.0</td>\n      <td>0.0</td>\n      <td>...</td>\n      <td>0.0</td>\n      <td>0.0</td>\n      <td>0.0</td>\n      <td>0.0</td>\n      <td>0.0</td>\n      <td>0.0</td>\n      <td>0.005344</td>\n      <td>1.0</td>\n      <td>0.0</td>\n      <td>0.0</td>\n    </tr>\n    <tr>\n      <th>3997995</th>\n      <td>1.0</td>\n      <td>0.012625</td>\n      <td>0.000296</td>\n      <td>0.000233</td>\n      <td>0.000000</td>\n      <td>0.000407</td>\n      <td>0.076923</td>\n      <td>1.0</td>\n      <td>0.0</td>\n      <td>0.0</td>\n      <td>...</td>\n      <td>0.0</td>\n      <td>1.0</td>\n      <td>0.0</td>\n      <td>0.0</td>\n      <td>0.0</td>\n      <td>0.0</td>\n      <td>0.063111</td>\n      <td>1.0</td>\n      <td>0.0</td>\n      <td>0.0</td>\n    </tr>\n    <tr>\n      <th>3997996</th>\n      <td>1.0</td>\n      <td>0.000017</td>\n      <td>0.000296</td>\n      <td>0.000310</td>\n      <td>0.000000</td>\n      <td>0.000000</td>\n      <td>0.461538</td>\n      <td>0.0</td>\n      <td>0.0</td>\n      <td>1.0</td>\n      <td>...</td>\n      <td>0.0</td>\n      <td>0.0</td>\n      <td>0.0</td>\n      <td>0.0</td>\n      <td>0.0</td>\n      <td>0.0</td>\n      <td>0.000776</td>\n      <td>0.0</td>\n      <td>1.0</td>\n      <td>0.0</td>\n    </tr>\n    <tr>\n      <th>3997997</th>\n      <td>1.0</td>\n      <td>0.007705</td>\n      <td>0.000370</td>\n      <td>0.000388</td>\n      <td>0.000000</td>\n      <td>0.000000</td>\n      <td>0.307692</td>\n      <td>0.0</td>\n      <td>0.0</td>\n      <td>1.0</td>\n      <td>...</td>\n      <td>0.0</td>\n      <td>0.0</td>\n      <td>0.0</td>\n      <td>0.0</td>\n      <td>0.0</td>\n      <td>0.0</td>\n      <td>0.002216</td>\n      <td>0.0</td>\n      <td>0.0</td>\n      <td>1.0</td>\n    </tr>\n    <tr>\n      <th>3997998</th>\n      <td>1.0</td>\n      <td>0.000007</td>\n      <td>0.000444</td>\n      <td>0.000466</td>\n      <td>0.105263</td>\n      <td>0.000000</td>\n      <td>0.153846</td>\n      <td>0.0</td>\n      <td>0.0</td>\n      <td>1.0</td>\n      <td>...</td>\n      <td>0.0</td>\n      <td>0.0</td>\n      <td>0.0</td>\n      <td>0.0</td>\n      <td>0.0</td>\n      <td>0.0</td>\n      <td>0.002327</td>\n      <td>1.0</td>\n      <td>0.0</td>\n      <td>0.0</td>\n    </tr>\n  </tbody>\n</table>\n<p>3997999 rows × 24 columns</p>\n</div>"
     },
     "execution_count": 27,
     "metadata": {},
     "output_type": "execute_result"
    }
   ],
   "source": [
    "data_en_ready_normalized_train = pd.read_csv(\"data_ready_en_normalized_train.csv\")\n",
    "#data_ready_en_normalized_undersampled_train\n",
    "data_en_ready_normalized_train"
   ],
   "metadata": {
    "collapsed": false,
    "pycharm": {
     "name": "#%%\n"
    }
   }
  },
  {
   "cell_type": "code",
   "execution_count": 6,
   "outputs": [],
   "source": [],
   "metadata": {
    "collapsed": false,
    "pycharm": {
     "name": "#%%\n"
    }
   }
  },
  {
   "cell_type": "code",
   "execution_count": 7,
   "outputs": [
    {
     "data": {
      "text/plain": "        p_recall     delta  history_seen  history_correct  session_seen  \\\n0            1.0  0.000889      0.001110         0.000931      0.000000   \n1            1.0  0.000007      0.010135         0.009700      0.105263   \n2            1.0  0.003718      0.000074         0.000078      0.052632   \n3            1.0  0.004435      0.001480         0.001086      0.000000   \n4            1.0  0.000005      0.000296         0.000310      0.052632   \n...          ...       ...           ...              ...           ...   \n999495       1.0  0.000006      0.000370         0.000310      0.000000   \n999496       1.0  0.000026      0.000444         0.000466      0.000000   \n999497       1.0  0.000009      0.000592         0.000466      0.000000   \n999498       1.0  0.006317      0.000814         0.000776      0.000000   \n999499       1.0  0.022550      0.000074         0.000000      0.052632   \n\n        history_incorrect  word_length  differs_from_root  verb  noun  ...  \\\n0                0.001221     0.230769                0.0   1.0   0.0  ...   \n1                0.004884     0.307692                0.0   0.0   1.0  ...   \n2                0.000000     0.230769                0.0   1.0   0.0  ...   \n3                0.002442     0.153846                0.0   0.0   0.0  ...   \n4                0.000000     0.615385                1.0   0.0   1.0  ...   \n...                   ...          ...                ...   ...   ...  ...   \n999495           0.000407     0.307692                1.0   1.0   0.0  ...   \n999496           0.000000     0.615385                0.0   0.0   1.0  ...   \n999497           0.000814     0.307692                0.0   0.0   1.0  ...   \n999498           0.000407     0.000000                0.0   0.0   0.0  ...   \n999499           0.000407     0.230769                0.0   1.0   0.0  ...   \n\n        conjunction  determiner  interjection  plural  number  phrase  \\\n0               0.0         0.0           0.0     0.0     0.0     0.0   \n1               0.0         0.0           0.0     0.0     0.0     0.0   \n2               0.0         0.0           0.0     0.0     0.0     0.0   \n3               0.0         0.0           0.0     0.0     1.0     0.0   \n4               0.0         0.0           0.0     1.0     0.0     0.0   \n...             ...         ...           ...     ...     ...     ...   \n999495          0.0         0.0           0.0     0.0     0.0     0.0   \n999496          0.0         0.0           0.0     0.0     0.0     0.0   \n999497          0.0         0.0           0.0     0.0     0.0     0.0   \n999498          0.0         1.0           0.0     0.0     0.0     0.0   \n999499          0.0         0.0           0.0     0.0     0.0     0.0   \n\n        word_freq  ui_language_es  ui_language_it  ui_language_pt  \n0        0.095514             1.0             0.0             0.0  \n1        0.003705             1.0             0.0             0.0  \n2        0.047840             1.0             0.0             0.0  \n3        0.003612             1.0             0.0             0.0  \n4        0.000101             0.0             1.0             0.0  \n...           ...             ...             ...             ...  \n999495   0.002793             1.0             0.0             0.0  \n999496   0.000739             1.0             0.0             0.0  \n999497   0.000832             1.0             0.0             0.0  \n999498   0.426432             0.0             1.0             0.0  \n999499   0.006443             1.0             0.0             0.0  \n\n[999500 rows x 24 columns]",
      "text/html": "<div>\n<style scoped>\n    .dataframe tbody tr th:only-of-type {\n        vertical-align: middle;\n    }\n\n    .dataframe tbody tr th {\n        vertical-align: top;\n    }\n\n    .dataframe thead th {\n        text-align: right;\n    }\n</style>\n<table border=\"1\" class=\"dataframe\">\n  <thead>\n    <tr style=\"text-align: right;\">\n      <th></th>\n      <th>p_recall</th>\n      <th>delta</th>\n      <th>history_seen</th>\n      <th>history_correct</th>\n      <th>session_seen</th>\n      <th>history_incorrect</th>\n      <th>word_length</th>\n      <th>differs_from_root</th>\n      <th>verb</th>\n      <th>noun</th>\n      <th>...</th>\n      <th>conjunction</th>\n      <th>determiner</th>\n      <th>interjection</th>\n      <th>plural</th>\n      <th>number</th>\n      <th>phrase</th>\n      <th>word_freq</th>\n      <th>ui_language_es</th>\n      <th>ui_language_it</th>\n      <th>ui_language_pt</th>\n    </tr>\n  </thead>\n  <tbody>\n    <tr>\n      <th>0</th>\n      <td>1.0</td>\n      <td>0.000889</td>\n      <td>0.001110</td>\n      <td>0.000931</td>\n      <td>0.000000</td>\n      <td>0.001221</td>\n      <td>0.230769</td>\n      <td>0.0</td>\n      <td>1.0</td>\n      <td>0.0</td>\n      <td>...</td>\n      <td>0.0</td>\n      <td>0.0</td>\n      <td>0.0</td>\n      <td>0.0</td>\n      <td>0.0</td>\n      <td>0.0</td>\n      <td>0.095514</td>\n      <td>1.0</td>\n      <td>0.0</td>\n      <td>0.0</td>\n    </tr>\n    <tr>\n      <th>1</th>\n      <td>1.0</td>\n      <td>0.000007</td>\n      <td>0.010135</td>\n      <td>0.009700</td>\n      <td>0.105263</td>\n      <td>0.004884</td>\n      <td>0.307692</td>\n      <td>0.0</td>\n      <td>0.0</td>\n      <td>1.0</td>\n      <td>...</td>\n      <td>0.0</td>\n      <td>0.0</td>\n      <td>0.0</td>\n      <td>0.0</td>\n      <td>0.0</td>\n      <td>0.0</td>\n      <td>0.003705</td>\n      <td>1.0</td>\n      <td>0.0</td>\n      <td>0.0</td>\n    </tr>\n    <tr>\n      <th>2</th>\n      <td>1.0</td>\n      <td>0.003718</td>\n      <td>0.000074</td>\n      <td>0.000078</td>\n      <td>0.052632</td>\n      <td>0.000000</td>\n      <td>0.230769</td>\n      <td>0.0</td>\n      <td>1.0</td>\n      <td>0.0</td>\n      <td>...</td>\n      <td>0.0</td>\n      <td>0.0</td>\n      <td>0.0</td>\n      <td>0.0</td>\n      <td>0.0</td>\n      <td>0.0</td>\n      <td>0.047840</td>\n      <td>1.0</td>\n      <td>0.0</td>\n      <td>0.0</td>\n    </tr>\n    <tr>\n      <th>3</th>\n      <td>1.0</td>\n      <td>0.004435</td>\n      <td>0.001480</td>\n      <td>0.001086</td>\n      <td>0.000000</td>\n      <td>0.002442</td>\n      <td>0.153846</td>\n      <td>0.0</td>\n      <td>0.0</td>\n      <td>0.0</td>\n      <td>...</td>\n      <td>0.0</td>\n      <td>0.0</td>\n      <td>0.0</td>\n      <td>0.0</td>\n      <td>1.0</td>\n      <td>0.0</td>\n      <td>0.003612</td>\n      <td>1.0</td>\n      <td>0.0</td>\n      <td>0.0</td>\n    </tr>\n    <tr>\n      <th>4</th>\n      <td>1.0</td>\n      <td>0.000005</td>\n      <td>0.000296</td>\n      <td>0.000310</td>\n      <td>0.052632</td>\n      <td>0.000000</td>\n      <td>0.615385</td>\n      <td>1.0</td>\n      <td>0.0</td>\n      <td>1.0</td>\n      <td>...</td>\n      <td>0.0</td>\n      <td>0.0</td>\n      <td>0.0</td>\n      <td>1.0</td>\n      <td>0.0</td>\n      <td>0.0</td>\n      <td>0.000101</td>\n      <td>0.0</td>\n      <td>1.0</td>\n      <td>0.0</td>\n    </tr>\n    <tr>\n      <th>...</th>\n      <td>...</td>\n      <td>...</td>\n      <td>...</td>\n      <td>...</td>\n      <td>...</td>\n      <td>...</td>\n      <td>...</td>\n      <td>...</td>\n      <td>...</td>\n      <td>...</td>\n      <td>...</td>\n      <td>...</td>\n      <td>...</td>\n      <td>...</td>\n      <td>...</td>\n      <td>...</td>\n      <td>...</td>\n      <td>...</td>\n      <td>...</td>\n      <td>...</td>\n      <td>...</td>\n    </tr>\n    <tr>\n      <th>999495</th>\n      <td>1.0</td>\n      <td>0.000006</td>\n      <td>0.000370</td>\n      <td>0.000310</td>\n      <td>0.000000</td>\n      <td>0.000407</td>\n      <td>0.307692</td>\n      <td>1.0</td>\n      <td>1.0</td>\n      <td>0.0</td>\n      <td>...</td>\n      <td>0.0</td>\n      <td>0.0</td>\n      <td>0.0</td>\n      <td>0.0</td>\n      <td>0.0</td>\n      <td>0.0</td>\n      <td>0.002793</td>\n      <td>1.0</td>\n      <td>0.0</td>\n      <td>0.0</td>\n    </tr>\n    <tr>\n      <th>999496</th>\n      <td>1.0</td>\n      <td>0.000026</td>\n      <td>0.000444</td>\n      <td>0.000466</td>\n      <td>0.000000</td>\n      <td>0.000000</td>\n      <td>0.615385</td>\n      <td>0.0</td>\n      <td>0.0</td>\n      <td>1.0</td>\n      <td>...</td>\n      <td>0.0</td>\n      <td>0.0</td>\n      <td>0.0</td>\n      <td>0.0</td>\n      <td>0.0</td>\n      <td>0.0</td>\n      <td>0.000739</td>\n      <td>1.0</td>\n      <td>0.0</td>\n      <td>0.0</td>\n    </tr>\n    <tr>\n      <th>999497</th>\n      <td>1.0</td>\n      <td>0.000009</td>\n      <td>0.000592</td>\n      <td>0.000466</td>\n      <td>0.000000</td>\n      <td>0.000814</td>\n      <td>0.307692</td>\n      <td>0.0</td>\n      <td>0.0</td>\n      <td>1.0</td>\n      <td>...</td>\n      <td>0.0</td>\n      <td>0.0</td>\n      <td>0.0</td>\n      <td>0.0</td>\n      <td>0.0</td>\n      <td>0.0</td>\n      <td>0.000832</td>\n      <td>1.0</td>\n      <td>0.0</td>\n      <td>0.0</td>\n    </tr>\n    <tr>\n      <th>999498</th>\n      <td>1.0</td>\n      <td>0.006317</td>\n      <td>0.000814</td>\n      <td>0.000776</td>\n      <td>0.000000</td>\n      <td>0.000407</td>\n      <td>0.000000</td>\n      <td>0.0</td>\n      <td>0.0</td>\n      <td>0.0</td>\n      <td>...</td>\n      <td>0.0</td>\n      <td>1.0</td>\n      <td>0.0</td>\n      <td>0.0</td>\n      <td>0.0</td>\n      <td>0.0</td>\n      <td>0.426432</td>\n      <td>0.0</td>\n      <td>1.0</td>\n      <td>0.0</td>\n    </tr>\n    <tr>\n      <th>999499</th>\n      <td>1.0</td>\n      <td>0.022550</td>\n      <td>0.000074</td>\n      <td>0.000000</td>\n      <td>0.052632</td>\n      <td>0.000407</td>\n      <td>0.230769</td>\n      <td>0.0</td>\n      <td>1.0</td>\n      <td>0.0</td>\n      <td>...</td>\n      <td>0.0</td>\n      <td>0.0</td>\n      <td>0.0</td>\n      <td>0.0</td>\n      <td>0.0</td>\n      <td>0.0</td>\n      <td>0.006443</td>\n      <td>1.0</td>\n      <td>0.0</td>\n      <td>0.0</td>\n    </tr>\n  </tbody>\n</table>\n<p>999500 rows × 24 columns</p>\n</div>"
     },
     "execution_count": 7,
     "metadata": {},
     "output_type": "execute_result"
    }
   ],
   "source": [
    "data_en_ready_normalized_test"
   ],
   "metadata": {
    "collapsed": false,
    "pycharm": {
     "name": "#%%\n"
    }
   }
  },
  {
   "cell_type": "code",
   "execution_count": 8,
   "outputs": [
    {
     "data": {
      "text/plain": "         p_recall     delta  history_seen  history_correct  session_seen  \\\n0        0.666667  0.000021      0.002663         0.002406      0.105263   \n1        0.750000  0.006823      0.000296         0.000310      0.157895   \n2        0.000000  0.122888      0.000444         0.000388      0.000000   \n3        0.000000  0.032874      0.000444         0.000466      0.000000   \n4        0.500000  0.124812      0.008138         0.008225      0.052632   \n...           ...       ...           ...              ...           ...   \n1287849  1.000000  0.001782      0.000074         0.000000      0.000000   \n1287850  1.000000  0.000012      0.000148         0.000155      0.000000   \n1287851  1.000000  0.032392      0.001110         0.001164      0.105263   \n1287852  1.000000  0.007122      0.002219         0.002328      0.000000   \n1287853  1.000000  0.007654      0.000592         0.000543      0.052632   \n\n         history_incorrect  word_length  differs_from_root  verb  noun  ...  \\\n0                 0.002035     0.000000                0.0   0.0   0.0  ...   \n1                 0.000000     0.153846                0.0   0.0   0.0  ...   \n2                 0.000407     0.076923                1.0   0.0   0.0  ...   \n3                 0.000000     0.153846                0.0   0.0   1.0  ...   \n4                 0.001628     0.153846                0.0   0.0   0.0  ...   \n...                    ...          ...                ...   ...   ...  ...   \n1287849           0.000407     0.384615                0.0   0.0   1.0  ...   \n1287850           0.000000     0.230769                0.0   1.0   0.0  ...   \n1287851           0.000000     0.307692                1.0   1.0   0.0  ...   \n1287852           0.000000     0.230769                0.0   0.0   0.0  ...   \n1287853           0.000407     0.153846                0.0   0.0   0.0  ...   \n\n         conjunction  determiner  interjection  plural  number  phrase  \\\n0                0.0         1.0           0.0     0.0     0.0     0.0   \n1                0.0         0.0           0.0     0.0     0.0     0.0   \n2                0.0         0.0           0.0     0.0     0.0     0.0   \n3                0.0         0.0           0.0     0.0     0.0     0.0   \n4                0.0         1.0           0.0     0.0     0.0     0.0   \n...              ...         ...           ...     ...     ...     ...   \n1287849          0.0         0.0           0.0     0.0     0.0     0.0   \n1287850          0.0         0.0           0.0     0.0     0.0     0.0   \n1287851          0.0         0.0           0.0     0.0     0.0     0.0   \n1287852          0.0         0.0           0.0     0.0     0.0     0.0   \n1287853          0.0         0.0           0.0     0.0     0.0     0.0   \n\n         word_freq  ui_language_es  ui_language_it  ui_language_pt  \n0         0.426432             0.0             0.0             1.0  \n1         0.091230             0.0             0.0             1.0  \n2         0.165906             1.0             0.0             0.0  \n3         0.012290             1.0             0.0             0.0  \n4         1.000000             1.0             0.0             0.0  \n...            ...             ...             ...             ...  \n1287849   0.002495             1.0             0.0             0.0  \n1287850   0.015475             1.0             0.0             0.0  \n1287851   0.000482             1.0             0.0             0.0  \n1287852   0.079498             1.0             0.0             0.0  \n1287853   0.015829             1.0             0.0             0.0  \n\n[1287854 rows x 24 columns]",
      "text/html": "<div>\n<style scoped>\n    .dataframe tbody tr th:only-of-type {\n        vertical-align: middle;\n    }\n\n    .dataframe tbody tr th {\n        vertical-align: top;\n    }\n\n    .dataframe thead th {\n        text-align: right;\n    }\n</style>\n<table border=\"1\" class=\"dataframe\">\n  <thead>\n    <tr style=\"text-align: right;\">\n      <th></th>\n      <th>p_recall</th>\n      <th>delta</th>\n      <th>history_seen</th>\n      <th>history_correct</th>\n      <th>session_seen</th>\n      <th>history_incorrect</th>\n      <th>word_length</th>\n      <th>differs_from_root</th>\n      <th>verb</th>\n      <th>noun</th>\n      <th>...</th>\n      <th>conjunction</th>\n      <th>determiner</th>\n      <th>interjection</th>\n      <th>plural</th>\n      <th>number</th>\n      <th>phrase</th>\n      <th>word_freq</th>\n      <th>ui_language_es</th>\n      <th>ui_language_it</th>\n      <th>ui_language_pt</th>\n    </tr>\n  </thead>\n  <tbody>\n    <tr>\n      <th>0</th>\n      <td>0.666667</td>\n      <td>0.000021</td>\n      <td>0.002663</td>\n      <td>0.002406</td>\n      <td>0.105263</td>\n      <td>0.002035</td>\n      <td>0.000000</td>\n      <td>0.0</td>\n      <td>0.0</td>\n      <td>0.0</td>\n      <td>...</td>\n      <td>0.0</td>\n      <td>1.0</td>\n      <td>0.0</td>\n      <td>0.0</td>\n      <td>0.0</td>\n      <td>0.0</td>\n      <td>0.426432</td>\n      <td>0.0</td>\n      <td>0.0</td>\n      <td>1.0</td>\n    </tr>\n    <tr>\n      <th>1</th>\n      <td>0.750000</td>\n      <td>0.006823</td>\n      <td>0.000296</td>\n      <td>0.000310</td>\n      <td>0.157895</td>\n      <td>0.000000</td>\n      <td>0.153846</td>\n      <td>0.0</td>\n      <td>0.0</td>\n      <td>0.0</td>\n      <td>...</td>\n      <td>0.0</td>\n      <td>0.0</td>\n      <td>0.0</td>\n      <td>0.0</td>\n      <td>0.0</td>\n      <td>0.0</td>\n      <td>0.091230</td>\n      <td>0.0</td>\n      <td>0.0</td>\n      <td>1.0</td>\n    </tr>\n    <tr>\n      <th>2</th>\n      <td>0.000000</td>\n      <td>0.122888</td>\n      <td>0.000444</td>\n      <td>0.000388</td>\n      <td>0.000000</td>\n      <td>0.000407</td>\n      <td>0.076923</td>\n      <td>1.0</td>\n      <td>0.0</td>\n      <td>0.0</td>\n      <td>...</td>\n      <td>0.0</td>\n      <td>0.0</td>\n      <td>0.0</td>\n      <td>0.0</td>\n      <td>0.0</td>\n      <td>0.0</td>\n      <td>0.165906</td>\n      <td>1.0</td>\n      <td>0.0</td>\n      <td>0.0</td>\n    </tr>\n    <tr>\n      <th>3</th>\n      <td>0.000000</td>\n      <td>0.032874</td>\n      <td>0.000444</td>\n      <td>0.000466</td>\n      <td>0.000000</td>\n      <td>0.000000</td>\n      <td>0.153846</td>\n      <td>0.0</td>\n      <td>0.0</td>\n      <td>1.0</td>\n      <td>...</td>\n      <td>0.0</td>\n      <td>0.0</td>\n      <td>0.0</td>\n      <td>0.0</td>\n      <td>0.0</td>\n      <td>0.0</td>\n      <td>0.012290</td>\n      <td>1.0</td>\n      <td>0.0</td>\n      <td>0.0</td>\n    </tr>\n    <tr>\n      <th>4</th>\n      <td>0.500000</td>\n      <td>0.124812</td>\n      <td>0.008138</td>\n      <td>0.008225</td>\n      <td>0.052632</td>\n      <td>0.001628</td>\n      <td>0.153846</td>\n      <td>0.0</td>\n      <td>0.0</td>\n      <td>0.0</td>\n      <td>...</td>\n      <td>0.0</td>\n      <td>1.0</td>\n      <td>0.0</td>\n      <td>0.0</td>\n      <td>0.0</td>\n      <td>0.0</td>\n      <td>1.000000</td>\n      <td>1.0</td>\n      <td>0.0</td>\n      <td>0.0</td>\n    </tr>\n    <tr>\n      <th>...</th>\n      <td>...</td>\n      <td>...</td>\n      <td>...</td>\n      <td>...</td>\n      <td>...</td>\n      <td>...</td>\n      <td>...</td>\n      <td>...</td>\n      <td>...</td>\n      <td>...</td>\n      <td>...</td>\n      <td>...</td>\n      <td>...</td>\n      <td>...</td>\n      <td>...</td>\n      <td>...</td>\n      <td>...</td>\n      <td>...</td>\n      <td>...</td>\n      <td>...</td>\n      <td>...</td>\n    </tr>\n    <tr>\n      <th>1287849</th>\n      <td>1.000000</td>\n      <td>0.001782</td>\n      <td>0.000074</td>\n      <td>0.000000</td>\n      <td>0.000000</td>\n      <td>0.000407</td>\n      <td>0.384615</td>\n      <td>0.0</td>\n      <td>0.0</td>\n      <td>1.0</td>\n      <td>...</td>\n      <td>0.0</td>\n      <td>0.0</td>\n      <td>0.0</td>\n      <td>0.0</td>\n      <td>0.0</td>\n      <td>0.0</td>\n      <td>0.002495</td>\n      <td>1.0</td>\n      <td>0.0</td>\n      <td>0.0</td>\n    </tr>\n    <tr>\n      <th>1287850</th>\n      <td>1.000000</td>\n      <td>0.000012</td>\n      <td>0.000148</td>\n      <td>0.000155</td>\n      <td>0.000000</td>\n      <td>0.000000</td>\n      <td>0.230769</td>\n      <td>0.0</td>\n      <td>1.0</td>\n      <td>0.0</td>\n      <td>...</td>\n      <td>0.0</td>\n      <td>0.0</td>\n      <td>0.0</td>\n      <td>0.0</td>\n      <td>0.0</td>\n      <td>0.0</td>\n      <td>0.015475</td>\n      <td>1.0</td>\n      <td>0.0</td>\n      <td>0.0</td>\n    </tr>\n    <tr>\n      <th>1287851</th>\n      <td>1.000000</td>\n      <td>0.032392</td>\n      <td>0.001110</td>\n      <td>0.001164</td>\n      <td>0.105263</td>\n      <td>0.000000</td>\n      <td>0.307692</td>\n      <td>1.0</td>\n      <td>1.0</td>\n      <td>0.0</td>\n      <td>...</td>\n      <td>0.0</td>\n      <td>0.0</td>\n      <td>0.0</td>\n      <td>0.0</td>\n      <td>0.0</td>\n      <td>0.0</td>\n      <td>0.000482</td>\n      <td>1.0</td>\n      <td>0.0</td>\n      <td>0.0</td>\n    </tr>\n    <tr>\n      <th>1287852</th>\n      <td>1.000000</td>\n      <td>0.007122</td>\n      <td>0.002219</td>\n      <td>0.002328</td>\n      <td>0.000000</td>\n      <td>0.000000</td>\n      <td>0.230769</td>\n      <td>0.0</td>\n      <td>0.0</td>\n      <td>0.0</td>\n      <td>...</td>\n      <td>0.0</td>\n      <td>0.0</td>\n      <td>0.0</td>\n      <td>0.0</td>\n      <td>0.0</td>\n      <td>0.0</td>\n      <td>0.079498</td>\n      <td>1.0</td>\n      <td>0.0</td>\n      <td>0.0</td>\n    </tr>\n    <tr>\n      <th>1287853</th>\n      <td>1.000000</td>\n      <td>0.007654</td>\n      <td>0.000592</td>\n      <td>0.000543</td>\n      <td>0.052632</td>\n      <td>0.000407</td>\n      <td>0.153846</td>\n      <td>0.0</td>\n      <td>0.0</td>\n      <td>0.0</td>\n      <td>...</td>\n      <td>0.0</td>\n      <td>0.0</td>\n      <td>0.0</td>\n      <td>0.0</td>\n      <td>0.0</td>\n      <td>0.0</td>\n      <td>0.015829</td>\n      <td>1.0</td>\n      <td>0.0</td>\n      <td>0.0</td>\n    </tr>\n  </tbody>\n</table>\n<p>1287854 rows × 24 columns</p>\n</div>"
     },
     "execution_count": 8,
     "metadata": {},
     "output_type": "execute_result"
    }
   ],
   "source": [
    "#data_ready_en_normalized_undersampled_train"
   ],
   "metadata": {
    "collapsed": false,
    "pycharm": {
     "name": "#%%\n"
    }
   }
  },
  {
   "cell_type": "code",
   "execution_count": 28,
   "outputs": [
    {
     "data": {
      "text/plain": "            delta  history_seen  history_correct  history_incorrect  \\\n0        0.000013      0.000370         0.000233           0.000814   \n1        0.024899      0.000222         0.000155           0.000407   \n2        0.227572      0.000074         0.000078           0.000000   \n3        0.000004      0.000000         0.000000           0.000000   \n4        0.001956      0.027521         0.026306           0.013431   \n...           ...           ...              ...                ...   \n3997994  0.000016      0.000296         0.000310           0.000000   \n3997995  0.012625      0.000296         0.000233           0.000407   \n3997996  0.000017      0.000296         0.000310           0.000000   \n3997997  0.007705      0.000370         0.000388           0.000000   \n3997998  0.000007      0.000444         0.000466           0.000000   \n\n         word_length  differs_from_root  word_freq  \n0           0.230769                0.0   0.023445  \n1           0.153846                0.0   0.015829  \n2           0.230769                1.0   0.001078  \n3           0.307692                1.0   0.000129  \n4           0.076923                1.0   0.011210  \n...              ...                ...        ...  \n3997994     0.307692                0.0   0.005344  \n3997995     0.076923                1.0   0.063111  \n3997996     0.461538                0.0   0.000776  \n3997997     0.307692                0.0   0.002216  \n3997998     0.153846                0.0   0.002327  \n\n[3997999 rows x 7 columns]",
      "text/html": "<div>\n<style scoped>\n    .dataframe tbody tr th:only-of-type {\n        vertical-align: middle;\n    }\n\n    .dataframe tbody tr th {\n        vertical-align: top;\n    }\n\n    .dataframe thead th {\n        text-align: right;\n    }\n</style>\n<table border=\"1\" class=\"dataframe\">\n  <thead>\n    <tr style=\"text-align: right;\">\n      <th></th>\n      <th>delta</th>\n      <th>history_seen</th>\n      <th>history_correct</th>\n      <th>history_incorrect</th>\n      <th>word_length</th>\n      <th>differs_from_root</th>\n      <th>word_freq</th>\n    </tr>\n  </thead>\n  <tbody>\n    <tr>\n      <th>0</th>\n      <td>0.000013</td>\n      <td>0.000370</td>\n      <td>0.000233</td>\n      <td>0.000814</td>\n      <td>0.230769</td>\n      <td>0.0</td>\n      <td>0.023445</td>\n    </tr>\n    <tr>\n      <th>1</th>\n      <td>0.024899</td>\n      <td>0.000222</td>\n      <td>0.000155</td>\n      <td>0.000407</td>\n      <td>0.153846</td>\n      <td>0.0</td>\n      <td>0.015829</td>\n    </tr>\n    <tr>\n      <th>2</th>\n      <td>0.227572</td>\n      <td>0.000074</td>\n      <td>0.000078</td>\n      <td>0.000000</td>\n      <td>0.230769</td>\n      <td>1.0</td>\n      <td>0.001078</td>\n    </tr>\n    <tr>\n      <th>3</th>\n      <td>0.000004</td>\n      <td>0.000000</td>\n      <td>0.000000</td>\n      <td>0.000000</td>\n      <td>0.307692</td>\n      <td>1.0</td>\n      <td>0.000129</td>\n    </tr>\n    <tr>\n      <th>4</th>\n      <td>0.001956</td>\n      <td>0.027521</td>\n      <td>0.026306</td>\n      <td>0.013431</td>\n      <td>0.076923</td>\n      <td>1.0</td>\n      <td>0.011210</td>\n    </tr>\n    <tr>\n      <th>...</th>\n      <td>...</td>\n      <td>...</td>\n      <td>...</td>\n      <td>...</td>\n      <td>...</td>\n      <td>...</td>\n      <td>...</td>\n    </tr>\n    <tr>\n      <th>3997994</th>\n      <td>0.000016</td>\n      <td>0.000296</td>\n      <td>0.000310</td>\n      <td>0.000000</td>\n      <td>0.307692</td>\n      <td>0.0</td>\n      <td>0.005344</td>\n    </tr>\n    <tr>\n      <th>3997995</th>\n      <td>0.012625</td>\n      <td>0.000296</td>\n      <td>0.000233</td>\n      <td>0.000407</td>\n      <td>0.076923</td>\n      <td>1.0</td>\n      <td>0.063111</td>\n    </tr>\n    <tr>\n      <th>3997996</th>\n      <td>0.000017</td>\n      <td>0.000296</td>\n      <td>0.000310</td>\n      <td>0.000000</td>\n      <td>0.461538</td>\n      <td>0.0</td>\n      <td>0.000776</td>\n    </tr>\n    <tr>\n      <th>3997997</th>\n      <td>0.007705</td>\n      <td>0.000370</td>\n      <td>0.000388</td>\n      <td>0.000000</td>\n      <td>0.307692</td>\n      <td>0.0</td>\n      <td>0.002216</td>\n    </tr>\n    <tr>\n      <th>3997998</th>\n      <td>0.000007</td>\n      <td>0.000444</td>\n      <td>0.000466</td>\n      <td>0.000000</td>\n      <td>0.153846</td>\n      <td>0.0</td>\n      <td>0.002327</td>\n    </tr>\n  </tbody>\n</table>\n<p>3997999 rows × 7 columns</p>\n</div>"
     },
     "execution_count": 28,
     "metadata": {},
     "output_type": "execute_result"
    }
   ],
   "source": [
    "from sklearn.linear_model import Lasso\n",
    "\n",
    "# X_train = data_ready_en_normalized_undersampled_train.drop(['p_recall','session_seen','verb','noun','preposition','pronoun','adjective','adverb','conjunction','determiner','interjection','plural','phrase','number','ui_language_es','ui_language_it','ui_language_pt'], axis=1)\n",
    "# y_train = data_ready_en_normalized_undersampled_train['p_recall']\n",
    "# X_train\n",
    "X_train = data_en_ready_normalized_train.drop(['p_recall','session_seen','verb','noun','preposition','pronoun','adjective','adverb','conjunction','determiner','interjection','plural','phrase','number','ui_language_es','ui_language_it','ui_language_pt'], axis=1)\n",
    "y_train = data_en_ready_normalized_train['p_recall']\n",
    "X_train\n"
   ],
   "metadata": {
    "collapsed": false,
    "pycharm": {
     "name": "#%%\n"
    }
   }
  },
  {
   "cell_type": "code",
   "execution_count": 10,
   "outputs": [
    {
     "data": {
      "text/plain": "0          0.666667\n1          0.750000\n2          0.000000\n3          0.000000\n4          0.500000\n             ...   \n1287849    1.000000\n1287850    1.000000\n1287851    1.000000\n1287852    1.000000\n1287853    1.000000\nName: p_recall, Length: 1287854, dtype: float64"
     },
     "execution_count": 10,
     "metadata": {},
     "output_type": "execute_result"
    }
   ],
   "source": [
    "y_train"
   ],
   "metadata": {
    "collapsed": false,
    "pycharm": {
     "name": "#%%\n"
    }
   }
  },
  {
   "cell_type": "code",
   "execution_count": 29,
   "outputs": [],
   "source": [
    "from sklearn.model_selection import GridSearchCV"
   ],
   "metadata": {
    "collapsed": false,
    "pycharm": {
     "name": "#%%\n"
    }
   }
  },
  {
   "cell_type": "code",
   "execution_count": 31,
   "outputs": [],
   "source": [
    "param_grid = {'alpha': [0.0001, 0.001, 0.01, 0.1, 1, 10]}\n",
    "model = Lasso()"
   ],
   "metadata": {
    "collapsed": false,
    "pycharm": {
     "name": "#%%\n"
    }
   }
  },
  {
   "cell_type": "code",
   "execution_count": 32,
   "outputs": [],
   "source": [
    "grid_search = GridSearchCV(model, param_grid, cv=3,verbose=3)"
   ],
   "metadata": {
    "collapsed": false,
    "pycharm": {
     "name": "#%%\n"
    }
   }
  },
  {
   "cell_type": "code",
   "execution_count": 33,
   "outputs": [
    {
     "name": "stdout",
     "output_type": "stream",
     "text": [
      "Fitting 3 folds for each of 6 candidates, totalling 18 fits\n",
      "[CV 1/3] END ......................alpha=0.0001;, score=0.008 total time=   0.6s\n",
      "[CV 2/3] END ......................alpha=0.0001;, score=0.008 total time=   0.5s\n",
      "[CV 3/3] END ......................alpha=0.0001;, score=0.008 total time=   0.5s\n",
      "[CV 1/3] END ......................alpha=0.001;, score=-0.000 total time=   0.3s\n",
      "[CV 2/3] END ......................alpha=0.001;, score=-0.000 total time=   0.4s\n",
      "[CV 3/3] END .......................alpha=0.001;, score=0.000 total time=   0.4s\n",
      "[CV 1/3] END .......................alpha=0.01;, score=-0.000 total time=   0.3s\n",
      "[CV 2/3] END .......................alpha=0.01;, score=-0.000 total time=   0.3s\n",
      "[CV 3/3] END .......................alpha=0.01;, score=-0.000 total time=   0.3s\n",
      "[CV 1/3] END ........................alpha=0.1;, score=-0.000 total time=   0.3s\n",
      "[CV 2/3] END ........................alpha=0.1;, score=-0.000 total time=   0.3s\n",
      "[CV 3/3] END ........................alpha=0.1;, score=-0.000 total time=   0.3s\n",
      "[CV 1/3] END ..........................alpha=1;, score=-0.000 total time=   0.3s\n",
      "[CV 2/3] END ..........................alpha=1;, score=-0.000 total time=   0.3s\n",
      "[CV 3/3] END ..........................alpha=1;, score=-0.000 total time=   0.3s\n",
      "[CV 1/3] END .........................alpha=10;, score=-0.000 total time=   0.3s\n",
      "[CV 2/3] END .........................alpha=10;, score=-0.000 total time=   0.3s\n",
      "[CV 3/3] END .........................alpha=10;, score=-0.000 total time=   0.3s\n"
     ]
    },
    {
     "data": {
      "text/plain": "GridSearchCV(cv=3, estimator=Lasso(),\n             param_grid={'alpha': [0.0001, 0.001, 0.01, 0.1, 1, 10]},\n             verbose=3)",
      "text/html": "<style>#sk-container-id-2 {color: black;background-color: white;}#sk-container-id-2 pre{padding: 0;}#sk-container-id-2 div.sk-toggleable {background-color: white;}#sk-container-id-2 label.sk-toggleable__label {cursor: pointer;display: block;width: 100%;margin-bottom: 0;padding: 0.3em;box-sizing: border-box;text-align: center;}#sk-container-id-2 label.sk-toggleable__label-arrow:before {content: \"▸\";float: left;margin-right: 0.25em;color: #696969;}#sk-container-id-2 label.sk-toggleable__label-arrow:hover:before {color: black;}#sk-container-id-2 div.sk-estimator:hover label.sk-toggleable__label-arrow:before {color: black;}#sk-container-id-2 div.sk-toggleable__content {max-height: 0;max-width: 0;overflow: hidden;text-align: left;background-color: #f0f8ff;}#sk-container-id-2 div.sk-toggleable__content pre {margin: 0.2em;color: black;border-radius: 0.25em;background-color: #f0f8ff;}#sk-container-id-2 input.sk-toggleable__control:checked~div.sk-toggleable__content {max-height: 200px;max-width: 100%;overflow: auto;}#sk-container-id-2 input.sk-toggleable__control:checked~label.sk-toggleable__label-arrow:before {content: \"▾\";}#sk-container-id-2 div.sk-estimator input.sk-toggleable__control:checked~label.sk-toggleable__label {background-color: #d4ebff;}#sk-container-id-2 div.sk-label input.sk-toggleable__control:checked~label.sk-toggleable__label {background-color: #d4ebff;}#sk-container-id-2 input.sk-hidden--visually {border: 0;clip: rect(1px 1px 1px 1px);clip: rect(1px, 1px, 1px, 1px);height: 1px;margin: -1px;overflow: hidden;padding: 0;position: absolute;width: 1px;}#sk-container-id-2 div.sk-estimator {font-family: monospace;background-color: #f0f8ff;border: 1px dotted black;border-radius: 0.25em;box-sizing: border-box;margin-bottom: 0.5em;}#sk-container-id-2 div.sk-estimator:hover {background-color: #d4ebff;}#sk-container-id-2 div.sk-parallel-item::after {content: \"\";width: 100%;border-bottom: 1px solid gray;flex-grow: 1;}#sk-container-id-2 div.sk-label:hover label.sk-toggleable__label {background-color: #d4ebff;}#sk-container-id-2 div.sk-serial::before {content: \"\";position: absolute;border-left: 1px solid gray;box-sizing: border-box;top: 0;bottom: 0;left: 50%;z-index: 0;}#sk-container-id-2 div.sk-serial {display: flex;flex-direction: column;align-items: center;background-color: white;padding-right: 0.2em;padding-left: 0.2em;position: relative;}#sk-container-id-2 div.sk-item {position: relative;z-index: 1;}#sk-container-id-2 div.sk-parallel {display: flex;align-items: stretch;justify-content: center;background-color: white;position: relative;}#sk-container-id-2 div.sk-item::before, #sk-container-id-2 div.sk-parallel-item::before {content: \"\";position: absolute;border-left: 1px solid gray;box-sizing: border-box;top: 0;bottom: 0;left: 50%;z-index: -1;}#sk-container-id-2 div.sk-parallel-item {display: flex;flex-direction: column;z-index: 1;position: relative;background-color: white;}#sk-container-id-2 div.sk-parallel-item:first-child::after {align-self: flex-end;width: 50%;}#sk-container-id-2 div.sk-parallel-item:last-child::after {align-self: flex-start;width: 50%;}#sk-container-id-2 div.sk-parallel-item:only-child::after {width: 0;}#sk-container-id-2 div.sk-dashed-wrapped {border: 1px dashed gray;margin: 0 0.4em 0.5em 0.4em;box-sizing: border-box;padding-bottom: 0.4em;background-color: white;}#sk-container-id-2 div.sk-label label {font-family: monospace;font-weight: bold;display: inline-block;line-height: 1.2em;}#sk-container-id-2 div.sk-label-container {text-align: center;}#sk-container-id-2 div.sk-container {/* jupyter's `normalize.less` sets `[hidden] { display: none; }` but bootstrap.min.css set `[hidden] { display: none !important; }` so we also need the `!important` here to be able to override the default hidden behavior on the sphinx rendered scikit-learn.org. See: https://github.com/scikit-learn/scikit-learn/issues/21755 */display: inline-block !important;position: relative;}#sk-container-id-2 div.sk-text-repr-fallback {display: none;}</style><div id=\"sk-container-id-2\" class=\"sk-top-container\"><div class=\"sk-text-repr-fallback\"><pre>GridSearchCV(cv=3, estimator=Lasso(),\n             param_grid={&#x27;alpha&#x27;: [0.0001, 0.001, 0.01, 0.1, 1, 10]},\n             verbose=3)</pre><b>In a Jupyter environment, please rerun this cell to show the HTML representation or trust the notebook. <br />On GitHub, the HTML representation is unable to render, please try loading this page with nbviewer.org.</b></div><div class=\"sk-container\" hidden><div class=\"sk-item sk-dashed-wrapped\"><div class=\"sk-label-container\"><div class=\"sk-label sk-toggleable\"><input class=\"sk-toggleable__control sk-hidden--visually\" id=\"sk-estimator-id-4\" type=\"checkbox\" ><label for=\"sk-estimator-id-4\" class=\"sk-toggleable__label sk-toggleable__label-arrow\">GridSearchCV</label><div class=\"sk-toggleable__content\"><pre>GridSearchCV(cv=3, estimator=Lasso(),\n             param_grid={&#x27;alpha&#x27;: [0.0001, 0.001, 0.01, 0.1, 1, 10]},\n             verbose=3)</pre></div></div></div><div class=\"sk-parallel\"><div class=\"sk-parallel-item\"><div class=\"sk-item\"><div class=\"sk-label-container\"><div class=\"sk-label sk-toggleable\"><input class=\"sk-toggleable__control sk-hidden--visually\" id=\"sk-estimator-id-5\" type=\"checkbox\" ><label for=\"sk-estimator-id-5\" class=\"sk-toggleable__label sk-toggleable__label-arrow\">estimator: Lasso</label><div class=\"sk-toggleable__content\"><pre>Lasso()</pre></div></div></div><div class=\"sk-serial\"><div class=\"sk-item\"><div class=\"sk-estimator sk-toggleable\"><input class=\"sk-toggleable__control sk-hidden--visually\" id=\"sk-estimator-id-6\" type=\"checkbox\" ><label for=\"sk-estimator-id-6\" class=\"sk-toggleable__label sk-toggleable__label-arrow\">Lasso</label><div class=\"sk-toggleable__content\"><pre>Lasso()</pre></div></div></div></div></div></div></div></div></div></div>"
     },
     "execution_count": 33,
     "metadata": {},
     "output_type": "execute_result"
    }
   ],
   "source": [
    "grid_search.fit(X_train, y_train)"
   ],
   "metadata": {
    "collapsed": false,
    "pycharm": {
     "name": "#%%\n"
    }
   }
  },
  {
   "cell_type": "code",
   "execution_count": 34,
   "outputs": [],
   "source": [
    "best_C = grid_search.best_params_['alpha']\n",
    "best_model = grid_search.best_estimator_"
   ],
   "metadata": {
    "collapsed": false,
    "pycharm": {
     "name": "#%%\n"
    }
   }
  },
  {
   "cell_type": "code",
   "execution_count": 35,
   "outputs": [
    {
     "name": "stdout",
     "output_type": "stream",
     "text": [
      "0.0001\n"
     ]
    }
   ],
   "source": [
    "print(best_C)"
   ],
   "metadata": {
    "collapsed": false,
    "pycharm": {
     "name": "#%%\n"
    }
   }
  },
  {
   "cell_type": "code",
   "execution_count": 36,
   "outputs": [
    {
     "name": "stdout",
     "output_type": "stream",
     "text": [
      "[-0.10101917  0.          0.         -0.94981949  0.01953684 -0.00354297\n",
      " -0.02327771]\n"
     ]
    }
   ],
   "source": [
    "\n",
    "\n",
    "# Fit the model to the data\n",
    "best_model.fit(X_train, y_train)\n",
    "\n",
    "# Print the coefficients\n",
    "print(best_model.coef_)"
   ],
   "metadata": {
    "collapsed": false,
    "pycharm": {
     "name": "#%%\n"
    }
   }
  },
  {
   "cell_type": "code",
   "execution_count": 37,
   "outputs": [
    {
     "name": "stdout",
     "output_type": "stream",
     "text": [
      "        Feature Name  Coefficient\n",
      "0              delta    -0.101019\n",
      "1       history_seen     0.000000\n",
      "2    history_correct     0.000000\n",
      "3  history_incorrect    -0.949819\n",
      "4        word_length     0.019537\n",
      "5  differs_from_root    -0.003543\n",
      "6          word_freq    -0.023278\n"
     ]
    }
   ],
   "source": [
    "coef_df = pd.DataFrame({'Feature Name': X_train.columns, 'Coefficient': best_model.coef_})\n",
    "\n",
    "# Print the DataFrame\n",
    "print(coef_df)"
   ],
   "metadata": {
    "collapsed": false,
    "pycharm": {
     "name": "#%%\n"
    }
   }
  },
  {
   "cell_type": "code",
   "execution_count": 38,
   "outputs": [
    {
     "data": {
      "text/plain": "           delta  history_seen  history_correct  history_incorrect  \\\n0       0.000889      0.001110         0.000931           0.001221   \n1       0.000007      0.010135         0.009700           0.004884   \n2       0.003718      0.000074         0.000078           0.000000   \n3       0.004435      0.001480         0.001086           0.002442   \n4       0.000005      0.000296         0.000310           0.000000   \n...          ...           ...              ...                ...   \n999495  0.000006      0.000370         0.000310           0.000407   \n999496  0.000026      0.000444         0.000466           0.000000   \n999497  0.000009      0.000592         0.000466           0.000814   \n999498  0.006317      0.000814         0.000776           0.000407   \n999499  0.022550      0.000074         0.000000           0.000407   \n\n        word_length  differs_from_root  word_freq  \n0          0.230769                0.0   0.095514  \n1          0.307692                0.0   0.003705  \n2          0.230769                0.0   0.047840  \n3          0.153846                0.0   0.003612  \n4          0.615385                1.0   0.000101  \n...             ...                ...        ...  \n999495     0.307692                1.0   0.002793  \n999496     0.615385                0.0   0.000739  \n999497     0.307692                0.0   0.000832  \n999498     0.000000                0.0   0.426432  \n999499     0.230769                0.0   0.006443  \n\n[999500 rows x 7 columns]",
      "text/html": "<div>\n<style scoped>\n    .dataframe tbody tr th:only-of-type {\n        vertical-align: middle;\n    }\n\n    .dataframe tbody tr th {\n        vertical-align: top;\n    }\n\n    .dataframe thead th {\n        text-align: right;\n    }\n</style>\n<table border=\"1\" class=\"dataframe\">\n  <thead>\n    <tr style=\"text-align: right;\">\n      <th></th>\n      <th>delta</th>\n      <th>history_seen</th>\n      <th>history_correct</th>\n      <th>history_incorrect</th>\n      <th>word_length</th>\n      <th>differs_from_root</th>\n      <th>word_freq</th>\n    </tr>\n  </thead>\n  <tbody>\n    <tr>\n      <th>0</th>\n      <td>0.000889</td>\n      <td>0.001110</td>\n      <td>0.000931</td>\n      <td>0.001221</td>\n      <td>0.230769</td>\n      <td>0.0</td>\n      <td>0.095514</td>\n    </tr>\n    <tr>\n      <th>1</th>\n      <td>0.000007</td>\n      <td>0.010135</td>\n      <td>0.009700</td>\n      <td>0.004884</td>\n      <td>0.307692</td>\n      <td>0.0</td>\n      <td>0.003705</td>\n    </tr>\n    <tr>\n      <th>2</th>\n      <td>0.003718</td>\n      <td>0.000074</td>\n      <td>0.000078</td>\n      <td>0.000000</td>\n      <td>0.230769</td>\n      <td>0.0</td>\n      <td>0.047840</td>\n    </tr>\n    <tr>\n      <th>3</th>\n      <td>0.004435</td>\n      <td>0.001480</td>\n      <td>0.001086</td>\n      <td>0.002442</td>\n      <td>0.153846</td>\n      <td>0.0</td>\n      <td>0.003612</td>\n    </tr>\n    <tr>\n      <th>4</th>\n      <td>0.000005</td>\n      <td>0.000296</td>\n      <td>0.000310</td>\n      <td>0.000000</td>\n      <td>0.615385</td>\n      <td>1.0</td>\n      <td>0.000101</td>\n    </tr>\n    <tr>\n      <th>...</th>\n      <td>...</td>\n      <td>...</td>\n      <td>...</td>\n      <td>...</td>\n      <td>...</td>\n      <td>...</td>\n      <td>...</td>\n    </tr>\n    <tr>\n      <th>999495</th>\n      <td>0.000006</td>\n      <td>0.000370</td>\n      <td>0.000310</td>\n      <td>0.000407</td>\n      <td>0.307692</td>\n      <td>1.0</td>\n      <td>0.002793</td>\n    </tr>\n    <tr>\n      <th>999496</th>\n      <td>0.000026</td>\n      <td>0.000444</td>\n      <td>0.000466</td>\n      <td>0.000000</td>\n      <td>0.615385</td>\n      <td>0.0</td>\n      <td>0.000739</td>\n    </tr>\n    <tr>\n      <th>999497</th>\n      <td>0.000009</td>\n      <td>0.000592</td>\n      <td>0.000466</td>\n      <td>0.000814</td>\n      <td>0.307692</td>\n      <td>0.0</td>\n      <td>0.000832</td>\n    </tr>\n    <tr>\n      <th>999498</th>\n      <td>0.006317</td>\n      <td>0.000814</td>\n      <td>0.000776</td>\n      <td>0.000407</td>\n      <td>0.000000</td>\n      <td>0.0</td>\n      <td>0.426432</td>\n    </tr>\n    <tr>\n      <th>999499</th>\n      <td>0.022550</td>\n      <td>0.000074</td>\n      <td>0.000000</td>\n      <td>0.000407</td>\n      <td>0.230769</td>\n      <td>0.0</td>\n      <td>0.006443</td>\n    </tr>\n  </tbody>\n</table>\n<p>999500 rows × 7 columns</p>\n</div>"
     },
     "execution_count": 38,
     "metadata": {},
     "output_type": "execute_result"
    }
   ],
   "source": [
    "X_test = data_en_ready_normalized_test.drop(['p_recall','session_seen','verb','noun','preposition','pronoun','adjective','adverb','conjunction','determiner','interjection','plural','phrase','number','ui_language_es','ui_language_it','ui_language_pt'], axis=1)\n",
    "y_test = data_en_ready_normalized_test['p_recall']\n",
    "X_test"
   ],
   "metadata": {
    "collapsed": false,
    "pycharm": {
     "name": "#%%\n"
    }
   }
  },
  {
   "cell_type": "code",
   "execution_count": 39,
   "outputs": [],
   "source": [
    "y_pred = best_model.predict(X_test)"
   ],
   "metadata": {
    "collapsed": false,
    "pycharm": {
     "name": "#%%\n"
    }
   }
  },
  {
   "cell_type": "code",
   "execution_count": 40,
   "outputs": [
    {
     "name": "stdout",
     "output_type": "stream",
     "text": [
      "MAE: 0.17009315273883963\n"
     ]
    }
   ],
   "source": [
    "from sklearn.metrics import mean_absolute_error\n",
    "mae = mean_absolute_error(y_test, y_pred)\n",
    "\n",
    "print(\"MAE:\", mae)"
   ],
   "metadata": {
    "collapsed": false,
    "pycharm": {
     "name": "#%%\n"
    }
   }
  },
  {
   "cell_type": "code",
   "execution_count": 41,
   "outputs": [
    {
     "data": {
      "text/plain": "<Figure size 640x480 with 1 Axes>",
      "image/png": "[encoded data removed]"
     },
     "metadata": {},
     "output_type": "display_data"
    }
   ],
   "source": [
    "import matplotlib.pyplot as plt\n",
    "\n",
    "plt.scatter(y_test, y_pred, c='red')\n",
    "\n",
    "# Add labels and title\n",
    "plt.xlabel('ytest')\n",
    "plt.ylabel('ypred')\n",
    "plt.title('Scatter plot of ytest vs ypred')\n",
    "\n",
    "# Show the plot\n",
    "plt.show()"
   ],
   "metadata": {
    "collapsed": false,
    "pycharm": {
     "name": "#%%\n"
    }
   }
  },
  {
   "cell_type": "code",
   "execution_count": 42,
   "outputs": [
    {
     "data": {
      "text/plain": "            pred  test\n0       0.899410   1.0\n1       0.899660   1.0\n2       0.901393   1.0\n3       0.898528   1.0\n4       0.906851   1.0\n...          ...   ...\n999495  0.900390   1.0\n999496  0.910377   1.0\n999497  0.903592   1.0\n999498  0.887423   1.0\n999499  0.900068   1.0\n\n[999500 rows x 2 columns]",
      "text/html": "<div>\n<style scoped>\n    .dataframe tbody tr th:only-of-type {\n        vertical-align: middle;\n    }\n\n    .dataframe tbody tr th {\n        vertical-align: top;\n    }\n\n    .dataframe thead th {\n        text-align: right;\n    }\n</style>\n<table border=\"1\" class=\"dataframe\">\n  <thead>\n    <tr style=\"text-align: right;\">\n      <th></th>\n      <th>pred</th>\n      <th>test</th>\n    </tr>\n  </thead>\n  <tbody>\n    <tr>\n      <th>0</th>\n      <td>0.899410</td>\n      <td>1.0</td>\n    </tr>\n    <tr>\n      <th>1</th>\n      <td>0.899660</td>\n      <td>1.0</td>\n    </tr>\n    <tr>\n      <th>2</th>\n      <td>0.901393</td>\n      <td>1.0</td>\n    </tr>\n    <tr>\n      <th>3</th>\n      <td>0.898528</td>\n      <td>1.0</td>\n    </tr>\n    <tr>\n      <th>4</th>\n      <td>0.906851</td>\n      <td>1.0</td>\n    </tr>\n    <tr>\n      <th>...</th>\n      <td>...</td>\n      <td>...</td>\n    </tr>\n    <tr>\n      <th>999495</th>\n      <td>0.900390</td>\n      <td>1.0</td>\n    </tr>\n    <tr>\n      <th>999496</th>\n      <td>0.910377</td>\n      <td>1.0</td>\n    </tr>\n    <tr>\n      <th>999497</th>\n      <td>0.903592</td>\n      <td>1.0</td>\n    </tr>\n    <tr>\n      <th>999498</th>\n      <td>0.887423</td>\n      <td>1.0</td>\n    </tr>\n    <tr>\n      <th>999499</th>\n      <td>0.900068</td>\n      <td>1.0</td>\n    </tr>\n  </tbody>\n</table>\n<p>999500 rows × 2 columns</p>\n</div>"
     },
     "execution_count": 42,
     "metadata": {},
     "output_type": "execute_result"
    }
   ],
   "source": [
    "y_pred_df = pd.DataFrame(y_pred, columns=[\"pred\"])\n",
    "y_pred_df[\"test\"] = y_test\n",
    "y_pred_df"
   ],
   "metadata": {
    "collapsed": false,
    "pycharm": {
     "name": "#%%\n"
    }
   }
  },
  {
   "cell_type": "code",
   "execution_count": 43,
   "outputs": [
    {
     "data": {
      "text/plain": "0.09002741844774209"
     },
     "execution_count": 43,
     "metadata": {},
     "output_type": "execute_result"
    }
   ],
   "source": [
    "y_pred_df[\"test\"].corr(y_pred_df[\"pred\"])"
   ],
   "metadata": {
    "collapsed": false,
    "pycharm": {
     "name": "#%%\n"
    }
   }
  },
  {
   "cell_type": "code",
   "execution_count": null,
   "outputs": [],
   "source": [],
   "metadata": {
    "collapsed": false,
    "pycharm": {
     "name": "#%%\n"
    }
   }
  }
 ],
 "metadata": {
  "kernelspec": {
   "display_name": "Python 3",
   "language": "python",
   "name": "python3"
  },
  "language_info": {
   "codemirror_mode": {
    "name": "ipython",
    "version": 2
   },
   "file_extension": ".py",
   "mimetype": "text/x-python",
   "name": "python",
   "nbconvert_exporter": "python",
   "pygments_lexer": "ipython2",
   "version": "2.7.6"
  }
 },
 "nbformat": 4,
 "nbformat_minor": 0
}