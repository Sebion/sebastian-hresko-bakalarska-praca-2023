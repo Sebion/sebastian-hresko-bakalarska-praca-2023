{
 "cells": [
  {
   "cell_type": "code",
   "execution_count": 1,
   "metadata": {
    "collapsed": true
   },
   "outputs": [],
   "source": [
    "import matplotlib\n",
    "import pandas as pd\n",
    "import numpy as np\n",
    "import matplotlib.pyplot as plt\n",
    "import seaborn as sns\n",
    "from IPython.display import display\n",
    "\n",
    "# inicializujeme knižnicu seaborn\n",
    "sns.set()"
   ]
  },
  {
   "cell_type": "code",
   "execution_count": 2,
   "outputs": [
    {
     "data": {
      "text/plain": "          p_recall   timestamp     delta user_id learning_language  \\\n0         1.000000  1362076081  27649635    u:FO                de   \n1         0.500000  1362076081  27649635    u:FO                de   \n2         1.000000  1362076081  27649635    u:FO                de   \n3         0.500000  1362076081  27649635    u:FO                de   \n4         1.000000  1362076081  27649635    u:FO                de   \n...            ...         ...       ...     ...               ...   \n12854221  0.800000  1363104897       368  u:i5D8                en   \n12854222  0.800000  1363104897       368  u:i5D8                en   \n12854223  1.000000  1363104897       368  u:i5D8                en   \n12854224  0.600000  1363104897       368  u:i5D8                en   \n12854225  0.666667  1363104897       368  u:i5D8                en   \n\n         ui_language                         lexeme_id  \\\n0                 en  76390c1350a8dac31186187e2fe1e178   \n1                 en  7dfd7086f3671685e2cf1c1da72796d7   \n2                 en  35a54c25a2cda8127343f6a82e6f6b7d   \n3                 en  0cf63ffe3dda158bc3dbd55682b355ae   \n4                 en  84920990d78044db53c1b012f5bf9ab5   \n...              ...                               ...   \n12854221          it  d5efc552aaea3109eb5388aa1ec8673d   \n12854222          it  a826c47947d68549fa81e19cafa57ba0   \n12854223          it  5e29d77697d23070a1fb92eb6c90e9b6   \n12854224          it  cdfecc9247566d40bb964a218c54c783   \n12854225          it  c52ab45d4e22ee7580041911159e3c0c   \n\n                             lexeme_string  history_seen  history_correct  \\\n0         lernt/lernen<vblex><pri><p3><sg>             6                4   \n1            die/die<det><def><f><sg><nom>             4                4   \n2                 mann/mann<n><m><sg><nom>             5                4   \n3                 frau/frau<n><f><sg><nom>             6                5   \n4           das/das<det><def><nt><sg><nom>             4                4   \n...                                    ...           ...              ...   \n12854221             the/the<det><def><sp>             6                4   \n12854222              eat/eat<vblex><pres>             4                4   \n12854223                bread/bread<n><sg>             4                4   \n12854224          drink/drink<vblex><pres>             3                2   \n12854225                water/water<n><sg>             5                3   \n\n          session_seen  session_correct  \n0                    2                2  \n1                    2                1  \n2                    1                1  \n3                    2                1  \n4                    1                1  \n...                ...              ...  \n12854221             5                4  \n12854222             5                4  \n12854223             4                4  \n12854224             5                3  \n12854225             9                6  \n\n[12854226 rows x 12 columns]",
      "text/html": "<div>\n<style scoped>\n    .dataframe tbody tr th:only-of-type {\n        vertical-align: middle;\n    }\n\n    .dataframe tbody tr th {\n        vertical-align: top;\n    }\n\n    .dataframe thead th {\n        text-align: right;\n    }\n</style>\n<table border=\"1\" class=\"dataframe\">\n  <thead>\n    <tr style=\"text-align: right;\">\n      <th></th>\n      <th>p_recall</th>\n      <th>timestamp</th>\n      <th>delta</th>\n      <th>user_id</th>\n      <th>learning_language</th>\n      <th>ui_language</th>\n      <th>lexeme_id</th>\n      <th>lexeme_string</th>\n      <th>history_seen</th>\n      <th>history_correct</th>\n      <th>session_seen</th>\n      <th>session_correct</th>\n    </tr>\n  </thead>\n  <tbody>\n    <tr>\n      <th>0</th>\n      <td>1.000000</td>\n      <td>1362076081</td>\n      <td>27649635</td>\n      <td>u:FO</td>\n      <td>de</td>\n      <td>en</td>\n      <td>76390c1350a8dac31186187e2fe1e178</td>\n      <td>lernt/lernen&lt;vblex&gt;&lt;pri&gt;&lt;p3&gt;&lt;sg&gt;</td>\n      <td>6</td>\n      <td>4</td>\n      <td>2</td>\n      <td>2</td>\n    </tr>\n    <tr>\n      <th>1</th>\n      <td>0.500000</td>\n      <td>1362076081</td>\n      <td>27649635</td>\n      <td>u:FO</td>\n      <td>de</td>\n      <td>en</td>\n      <td>7dfd7086f3671685e2cf1c1da72796d7</td>\n      <td>die/die&lt;det&gt;&lt;def&gt;&lt;f&gt;&lt;sg&gt;&lt;nom&gt;</td>\n      <td>4</td>\n      <td>4</td>\n      <td>2</td>\n      <td>1</td>\n    </tr>\n    <tr>\n      <th>2</th>\n      <td>1.000000</td>\n      <td>1362076081</td>\n      <td>27649635</td>\n      <td>u:FO</td>\n      <td>de</td>\n      <td>en</td>\n      <td>35a54c25a2cda8127343f6a82e6f6b7d</td>\n      <td>mann/mann&lt;n&gt;&lt;m&gt;&lt;sg&gt;&lt;nom&gt;</td>\n      <td>5</td>\n      <td>4</td>\n      <td>1</td>\n      <td>1</td>\n    </tr>\n    <tr>\n      <th>3</th>\n      <td>0.500000</td>\n      <td>1362076081</td>\n      <td>27649635</td>\n      <td>u:FO</td>\n      <td>de</td>\n      <td>en</td>\n      <td>0cf63ffe3dda158bc3dbd55682b355ae</td>\n      <td>frau/frau&lt;n&gt;&lt;f&gt;&lt;sg&gt;&lt;nom&gt;</td>\n      <td>6</td>\n      <td>5</td>\n      <td>2</td>\n      <td>1</td>\n    </tr>\n    <tr>\n      <th>4</th>\n      <td>1.000000</td>\n      <td>1362076081</td>\n      <td>27649635</td>\n      <td>u:FO</td>\n      <td>de</td>\n      <td>en</td>\n      <td>84920990d78044db53c1b012f5bf9ab5</td>\n      <td>das/das&lt;det&gt;&lt;def&gt;&lt;nt&gt;&lt;sg&gt;&lt;nom&gt;</td>\n      <td>4</td>\n      <td>4</td>\n      <td>1</td>\n      <td>1</td>\n    </tr>\n    <tr>\n      <th>...</th>\n      <td>...</td>\n      <td>...</td>\n      <td>...</td>\n      <td>...</td>\n      <td>...</td>\n      <td>...</td>\n      <td>...</td>\n      <td>...</td>\n      <td>...</td>\n      <td>...</td>\n      <td>...</td>\n      <td>...</td>\n    </tr>\n    <tr>\n      <th>12854221</th>\n      <td>0.800000</td>\n      <td>1363104897</td>\n      <td>368</td>\n      <td>u:i5D8</td>\n      <td>en</td>\n      <td>it</td>\n      <td>d5efc552aaea3109eb5388aa1ec8673d</td>\n      <td>the/the&lt;det&gt;&lt;def&gt;&lt;sp&gt;</td>\n      <td>6</td>\n      <td>4</td>\n      <td>5</td>\n      <td>4</td>\n    </tr>\n    <tr>\n      <th>12854222</th>\n      <td>0.800000</td>\n      <td>1363104897</td>\n      <td>368</td>\n      <td>u:i5D8</td>\n      <td>en</td>\n      <td>it</td>\n      <td>a826c47947d68549fa81e19cafa57ba0</td>\n      <td>eat/eat&lt;vblex&gt;&lt;pres&gt;</td>\n      <td>4</td>\n      <td>4</td>\n      <td>5</td>\n      <td>4</td>\n    </tr>\n    <tr>\n      <th>12854223</th>\n      <td>1.000000</td>\n      <td>1363104897</td>\n      <td>368</td>\n      <td>u:i5D8</td>\n      <td>en</td>\n      <td>it</td>\n      <td>5e29d77697d23070a1fb92eb6c90e9b6</td>\n      <td>bread/bread&lt;n&gt;&lt;sg&gt;</td>\n      <td>4</td>\n      <td>4</td>\n      <td>4</td>\n      <td>4</td>\n    </tr>\n    <tr>\n      <th>12854224</th>\n      <td>0.600000</td>\n      <td>1363104897</td>\n      <td>368</td>\n      <td>u:i5D8</td>\n      <td>en</td>\n      <td>it</td>\n      <td>cdfecc9247566d40bb964a218c54c783</td>\n      <td>drink/drink&lt;vblex&gt;&lt;pres&gt;</td>\n      <td>3</td>\n      <td>2</td>\n      <td>5</td>\n      <td>3</td>\n    </tr>\n    <tr>\n      <th>12854225</th>\n      <td>0.666667</td>\n      <td>1363104897</td>\n      <td>368</td>\n      <td>u:i5D8</td>\n      <td>en</td>\n      <td>it</td>\n      <td>c52ab45d4e22ee7580041911159e3c0c</td>\n      <td>water/water&lt;n&gt;&lt;sg&gt;</td>\n      <td>5</td>\n      <td>3</td>\n      <td>9</td>\n      <td>6</td>\n    </tr>\n  </tbody>\n</table>\n<p>12854226 rows × 12 columns</p>\n</div>"
     },
     "execution_count": 2,
     "metadata": {},
     "output_type": "execute_result"
    }
   ],
   "source": [
    "data = pd.read_csv(\"learning_traces.13m.csv\")\n",
    "data"
   ],
   "metadata": {
    "collapsed": false,
    "pycharm": {
     "name": "#%%\n"
    }
   }
  },
  {
   "cell_type": "code",
   "execution_count": 3,
   "outputs": [
    {
     "data": {
      "text/plain": "          p_recall   timestamp     delta user_id learning_language  \\\n2              1.0  1362076081  27649635    u:FO                de   \n4              1.0  1362076081  27649635    u:FO                de   \n5              1.0  1362076081  27649635    u:FO                de   \n6              1.0  1362076081  27649635    u:FO                de   \n7              1.0  1362082032    444407  u:dDwF                es   \n...            ...         ...       ...     ...               ...   \n12854211       1.0  1363104894    354091  u:gqqz                es   \n12854212       0.0  1363104894    351923  u:gqqz                es   \n12854215       1.0  1363104894    409040  u:gqqz                es   \n12854217       0.0  1363104894      3862  u:gqqz                es   \n12854218       1.0  1363104894    177098  u:gqqz                es   \n\n         ui_language                         lexeme_id  \\\n2                 en  35a54c25a2cda8127343f6a82e6f6b7d   \n4                 en  84920990d78044db53c1b012f5bf9ab5   \n5                 en  56429751fdaedb6e491f4795c770f5a4   \n6                 en  1bacf218eaaf9f944e525f7be9b31899   \n7                 en  73eecb492ca758ddab5371cf7b5cca32   \n...              ...                               ...   \n12854211          en  dda9b889972c02fa83c00ee3bcd97f1d   \n12854212          en  7f0ea4d40cd20d7e6ac1cb453412fba1   \n12854215          en  628cef8d899000df1fef22b0f49f403c   \n12854217          en  fda174b61b0ed5e2eaa6deceae37f56b   \n12854218          en  9201c6510914a3c0d36560d3537c9453   \n\n                              lexeme_string  history_seen  history_correct  \\\n2                  mann/mann<n><m><sg><nom>             5                4   \n4            das/das<det><def><nt><sg><nom>             4                4   \n5             der/der<det><def><m><sg><nom>             4                3   \n6                 kind/kind<n><nt><sg><nom>             4                4   \n7                             bajo/bajo<pr>             3                3   \n...                                     ...           ...              ...   \n12854211          viernes/viernes<n><m><sp>             6                5   \n12854212        grandes/grande<adj><mf><pl>             4                4   \n12854215  corres/correr<vblex><pri><p2><sg>             6                5   \n12854217        son/ser<vbser><pri><p3><pl>            47               40   \n12854218            corto/corto<adj><m><sg>             5                4   \n\n          session_seen  session_correct  \n2                    1                1  \n4                    1                1  \n5                    1                1  \n6                    1                1  \n7                    1                1  \n...                ...              ...  \n12854211             1                1  \n12854212             1                0  \n12854215             1                1  \n12854217             1                0  \n12854218             1                1  \n\n[7575913 rows x 12 columns]",
      "text/html": "<div>\n<style scoped>\n    .dataframe tbody tr th:only-of-type {\n        vertical-align: middle;\n    }\n\n    .dataframe tbody tr th {\n        vertical-align: top;\n    }\n\n    .dataframe thead th {\n        text-align: right;\n    }\n</style>\n<table border=\"1\" class=\"dataframe\">\n  <thead>\n    <tr style=\"text-align: right;\">\n      <th></th>\n      <th>p_recall</th>\n      <th>timestamp</th>\n      <th>delta</th>\n      <th>user_id</th>\n      <th>learning_language</th>\n      <th>ui_language</th>\n      <th>lexeme_id</th>\n      <th>lexeme_string</th>\n      <th>history_seen</th>\n      <th>history_correct</th>\n      <th>session_seen</th>\n      <th>session_correct</th>\n    </tr>\n  </thead>\n  <tbody>\n    <tr>\n      <th>2</th>\n      <td>1.0</td>\n      <td>1362076081</td>\n      <td>27649635</td>\n      <td>u:FO</td>\n      <td>de</td>\n      <td>en</td>\n      <td>35a54c25a2cda8127343f6a82e6f6b7d</td>\n      <td>mann/mann&lt;n&gt;&lt;m&gt;&lt;sg&gt;&lt;nom&gt;</td>\n      <td>5</td>\n      <td>4</td>\n      <td>1</td>\n      <td>1</td>\n    </tr>\n    <tr>\n      <th>4</th>\n      <td>1.0</td>\n      <td>1362076081</td>\n      <td>27649635</td>\n      <td>u:FO</td>\n      <td>de</td>\n      <td>en</td>\n      <td>84920990d78044db53c1b012f5bf9ab5</td>\n      <td>das/das&lt;det&gt;&lt;def&gt;&lt;nt&gt;&lt;sg&gt;&lt;nom&gt;</td>\n      <td>4</td>\n      <td>4</td>\n      <td>1</td>\n      <td>1</td>\n    </tr>\n    <tr>\n      <th>5</th>\n      <td>1.0</td>\n      <td>1362076081</td>\n      <td>27649635</td>\n      <td>u:FO</td>\n      <td>de</td>\n      <td>en</td>\n      <td>56429751fdaedb6e491f4795c770f5a4</td>\n      <td>der/der&lt;det&gt;&lt;def&gt;&lt;m&gt;&lt;sg&gt;&lt;nom&gt;</td>\n      <td>4</td>\n      <td>3</td>\n      <td>1</td>\n      <td>1</td>\n    </tr>\n    <tr>\n      <th>6</th>\n      <td>1.0</td>\n      <td>1362076081</td>\n      <td>27649635</td>\n      <td>u:FO</td>\n      <td>de</td>\n      <td>en</td>\n      <td>1bacf218eaaf9f944e525f7be9b31899</td>\n      <td>kind/kind&lt;n&gt;&lt;nt&gt;&lt;sg&gt;&lt;nom&gt;</td>\n      <td>4</td>\n      <td>4</td>\n      <td>1</td>\n      <td>1</td>\n    </tr>\n    <tr>\n      <th>7</th>\n      <td>1.0</td>\n      <td>1362082032</td>\n      <td>444407</td>\n      <td>u:dDwF</td>\n      <td>es</td>\n      <td>en</td>\n      <td>73eecb492ca758ddab5371cf7b5cca32</td>\n      <td>bajo/bajo&lt;pr&gt;</td>\n      <td>3</td>\n      <td>3</td>\n      <td>1</td>\n      <td>1</td>\n    </tr>\n    <tr>\n      <th>...</th>\n      <td>...</td>\n      <td>...</td>\n      <td>...</td>\n      <td>...</td>\n      <td>...</td>\n      <td>...</td>\n      <td>...</td>\n      <td>...</td>\n      <td>...</td>\n      <td>...</td>\n      <td>...</td>\n      <td>...</td>\n    </tr>\n    <tr>\n      <th>12854211</th>\n      <td>1.0</td>\n      <td>1363104894</td>\n      <td>354091</td>\n      <td>u:gqqz</td>\n      <td>es</td>\n      <td>en</td>\n      <td>dda9b889972c02fa83c00ee3bcd97f1d</td>\n      <td>viernes/viernes&lt;n&gt;&lt;m&gt;&lt;sp&gt;</td>\n      <td>6</td>\n      <td>5</td>\n      <td>1</td>\n      <td>1</td>\n    </tr>\n    <tr>\n      <th>12854212</th>\n      <td>0.0</td>\n      <td>1363104894</td>\n      <td>351923</td>\n      <td>u:gqqz</td>\n      <td>es</td>\n      <td>en</td>\n      <td>7f0ea4d40cd20d7e6ac1cb453412fba1</td>\n      <td>grandes/grande&lt;adj&gt;&lt;mf&gt;&lt;pl&gt;</td>\n      <td>4</td>\n      <td>4</td>\n      <td>1</td>\n      <td>0</td>\n    </tr>\n    <tr>\n      <th>12854215</th>\n      <td>1.0</td>\n      <td>1363104894</td>\n      <td>409040</td>\n      <td>u:gqqz</td>\n      <td>es</td>\n      <td>en</td>\n      <td>628cef8d899000df1fef22b0f49f403c</td>\n      <td>corres/correr&lt;vblex&gt;&lt;pri&gt;&lt;p2&gt;&lt;sg&gt;</td>\n      <td>6</td>\n      <td>5</td>\n      <td>1</td>\n      <td>1</td>\n    </tr>\n    <tr>\n      <th>12854217</th>\n      <td>0.0</td>\n      <td>1363104894</td>\n      <td>3862</td>\n      <td>u:gqqz</td>\n      <td>es</td>\n      <td>en</td>\n      <td>fda174b61b0ed5e2eaa6deceae37f56b</td>\n      <td>son/ser&lt;vbser&gt;&lt;pri&gt;&lt;p3&gt;&lt;pl&gt;</td>\n      <td>47</td>\n      <td>40</td>\n      <td>1</td>\n      <td>0</td>\n    </tr>\n    <tr>\n      <th>12854218</th>\n      <td>1.0</td>\n      <td>1363104894</td>\n      <td>177098</td>\n      <td>u:gqqz</td>\n      <td>es</td>\n      <td>en</td>\n      <td>9201c6510914a3c0d36560d3537c9453</td>\n      <td>corto/corto&lt;adj&gt;&lt;m&gt;&lt;sg&gt;</td>\n      <td>5</td>\n      <td>4</td>\n      <td>1</td>\n      <td>1</td>\n    </tr>\n  </tbody>\n</table>\n<p>7575913 rows × 12 columns</p>\n</div>"
     },
     "execution_count": 3,
     "metadata": {},
     "output_type": "execute_result"
    }
   ],
   "source": [
    "data_filtered=data[data[\"session_seen\"]==1]\n",
    "data_filtered"
   ],
   "metadata": {
    "collapsed": false,
    "pycharm": {
     "name": "#%%\n"
    }
   }
  },
  {
   "cell_type": "code",
   "execution_count": 4,
   "outputs": [
    {
     "data": {
      "text/plain": "                              lexeme_string    p language\n2                  mann/mann<n><m><sg><nom>  1.0       de\n4            das/das<det><def><nt><sg><nom>  1.0       de\n5             der/der<det><def><m><sg><nom>  1.0       de\n6                 kind/kind<n><nt><sg><nom>  1.0       de\n7                             bajo/bajo<pr>  1.0       es\n...                                     ...  ...      ...\n12854211          viernes/viernes<n><m><sp>  1.0       es\n12854212        grandes/grande<adj><mf><pl>  0.0       es\n12854215  corres/correr<vblex><pri><p2><sg>  1.0       es\n12854217        son/ser<vbser><pri><p3><pl>  0.0       es\n12854218            corto/corto<adj><m><sg>  1.0       es\n\n[7575913 rows x 3 columns]",
      "text/html": "<div>\n<style scoped>\n    .dataframe tbody tr th:only-of-type {\n        vertical-align: middle;\n    }\n\n    .dataframe tbody tr th {\n        vertical-align: top;\n    }\n\n    .dataframe thead th {\n        text-align: right;\n    }\n</style>\n<table border=\"1\" class=\"dataframe\">\n  <thead>\n    <tr style=\"text-align: right;\">\n      <th></th>\n      <th>lexeme_string</th>\n      <th>p</th>\n      <th>language</th>\n    </tr>\n  </thead>\n  <tbody>\n    <tr>\n      <th>2</th>\n      <td>mann/mann&lt;n&gt;&lt;m&gt;&lt;sg&gt;&lt;nom&gt;</td>\n      <td>1.0</td>\n      <td>de</td>\n    </tr>\n    <tr>\n      <th>4</th>\n      <td>das/das&lt;det&gt;&lt;def&gt;&lt;nt&gt;&lt;sg&gt;&lt;nom&gt;</td>\n      <td>1.0</td>\n      <td>de</td>\n    </tr>\n    <tr>\n      <th>5</th>\n      <td>der/der&lt;det&gt;&lt;def&gt;&lt;m&gt;&lt;sg&gt;&lt;nom&gt;</td>\n      <td>1.0</td>\n      <td>de</td>\n    </tr>\n    <tr>\n      <th>6</th>\n      <td>kind/kind&lt;n&gt;&lt;nt&gt;&lt;sg&gt;&lt;nom&gt;</td>\n      <td>1.0</td>\n      <td>de</td>\n    </tr>\n    <tr>\n      <th>7</th>\n      <td>bajo/bajo&lt;pr&gt;</td>\n      <td>1.0</td>\n      <td>es</td>\n    </tr>\n    <tr>\n      <th>...</th>\n      <td>...</td>\n      <td>...</td>\n      <td>...</td>\n    </tr>\n    <tr>\n      <th>12854211</th>\n      <td>viernes/viernes&lt;n&gt;&lt;m&gt;&lt;sp&gt;</td>\n      <td>1.0</td>\n      <td>es</td>\n    </tr>\n    <tr>\n      <th>12854212</th>\n      <td>grandes/grande&lt;adj&gt;&lt;mf&gt;&lt;pl&gt;</td>\n      <td>0.0</td>\n      <td>es</td>\n    </tr>\n    <tr>\n      <th>12854215</th>\n      <td>corres/correr&lt;vblex&gt;&lt;pri&gt;&lt;p2&gt;&lt;sg&gt;</td>\n      <td>1.0</td>\n      <td>es</td>\n    </tr>\n    <tr>\n      <th>12854217</th>\n      <td>son/ser&lt;vbser&gt;&lt;pri&gt;&lt;p3&gt;&lt;pl&gt;</td>\n      <td>0.0</td>\n      <td>es</td>\n    </tr>\n    <tr>\n      <th>12854218</th>\n      <td>corto/corto&lt;adj&gt;&lt;m&gt;&lt;sg&gt;</td>\n      <td>1.0</td>\n      <td>es</td>\n    </tr>\n  </tbody>\n</table>\n<p>7575913 rows × 3 columns</p>\n</div>"
     },
     "execution_count": 4,
     "metadata": {},
     "output_type": "execute_result"
    }
   ],
   "source": [
    "data_filtered_language = pd.DataFrame({\"lexeme_string\":data_filtered[\"lexeme_string\"],\n",
    "                                   \"p\":data_filtered[\"p_recall\"],\n",
    "                                   \"language\":data_filtered[\"learning_language\"]})\n",
    "data_filtered_language"
   ],
   "metadata": {
    "collapsed": false,
    "pycharm": {
     "name": "#%%\n"
    }
   }
  },
  {
   "cell_type": "code",
   "execution_count": 21,
   "outputs": [
    {
     "data": {
      "text/plain": "                              lexeme_string    p  language_de  language_en  \\\n2                  mann/mann<n><m><sg><nom>  1.0            1            0   \n4            das/das<det><def><nt><sg><nom>  1.0            1            0   \n5             der/der<det><def><m><sg><nom>  1.0            1            0   \n6                 kind/kind<n><nt><sg><nom>  1.0            1            0   \n7                             bajo/bajo<pr>  1.0            0            0   \n...                                     ...  ...          ...          ...   \n12854211          viernes/viernes<n><m><sp>  1.0            0            0   \n12854212        grandes/grande<adj><mf><pl>  0.0            0            0   \n12854215  corres/correr<vblex><pri><p2><sg>  1.0            0            0   \n12854217        son/ser<vbser><pri><p3><pl>  0.0            0            0   \n12854218            corto/corto<adj><m><sg>  1.0            0            0   \n\n          language_es  language_fr  language_it  language_pt  \n2                   0            0            0            0  \n4                   0            0            0            0  \n5                   0            0            0            0  \n6                   0            0            0            0  \n7                   1            0            0            0  \n...               ...          ...          ...          ...  \n12854211            1            0            0            0  \n12854212            1            0            0            0  \n12854215            1            0            0            0  \n12854217            1            0            0            0  \n12854218            1            0            0            0  \n\n[7575913 rows x 8 columns]",
      "text/html": "<div>\n<style scoped>\n    .dataframe tbody tr th:only-of-type {\n        vertical-align: middle;\n    }\n\n    .dataframe tbody tr th {\n        vertical-align: top;\n    }\n\n    .dataframe thead th {\n        text-align: right;\n    }\n</style>\n<table border=\"1\" class=\"dataframe\">\n  <thead>\n    <tr style=\"text-align: right;\">\n      <th></th>\n      <th>lexeme_string</th>\n      <th>p</th>\n      <th>language_de</th>\n      <th>language_en</th>\n      <th>language_es</th>\n      <th>language_fr</th>\n      <th>language_it</th>\n      <th>language_pt</th>\n    </tr>\n  </thead>\n  <tbody>\n    <tr>\n      <th>2</th>\n      <td>mann/mann&lt;n&gt;&lt;m&gt;&lt;sg&gt;&lt;nom&gt;</td>\n      <td>1.0</td>\n      <td>1</td>\n      <td>0</td>\n      <td>0</td>\n      <td>0</td>\n      <td>0</td>\n      <td>0</td>\n    </tr>\n    <tr>\n      <th>4</th>\n      <td>das/das&lt;det&gt;&lt;def&gt;&lt;nt&gt;&lt;sg&gt;&lt;nom&gt;</td>\n      <td>1.0</td>\n      <td>1</td>\n      <td>0</td>\n      <td>0</td>\n      <td>0</td>\n      <td>0</td>\n      <td>0</td>\n    </tr>\n    <tr>\n      <th>5</th>\n      <td>der/der&lt;det&gt;&lt;def&gt;&lt;m&gt;&lt;sg&gt;&lt;nom&gt;</td>\n      <td>1.0</td>\n      <td>1</td>\n      <td>0</td>\n      <td>0</td>\n      <td>0</td>\n      <td>0</td>\n      <td>0</td>\n    </tr>\n    <tr>\n      <th>6</th>\n      <td>kind/kind&lt;n&gt;&lt;nt&gt;&lt;sg&gt;&lt;nom&gt;</td>\n      <td>1.0</td>\n      <td>1</td>\n      <td>0</td>\n      <td>0</td>\n      <td>0</td>\n      <td>0</td>\n      <td>0</td>\n    </tr>\n    <tr>\n      <th>7</th>\n      <td>bajo/bajo&lt;pr&gt;</td>\n      <td>1.0</td>\n      <td>0</td>\n      <td>0</td>\n      <td>1</td>\n      <td>0</td>\n      <td>0</td>\n      <td>0</td>\n    </tr>\n    <tr>\n      <th>...</th>\n      <td>...</td>\n      <td>...</td>\n      <td>...</td>\n      <td>...</td>\n      <td>...</td>\n      <td>...</td>\n      <td>...</td>\n      <td>...</td>\n    </tr>\n    <tr>\n      <th>12854211</th>\n      <td>viernes/viernes&lt;n&gt;&lt;m&gt;&lt;sp&gt;</td>\n      <td>1.0</td>\n      <td>0</td>\n      <td>0</td>\n      <td>1</td>\n      <td>0</td>\n      <td>0</td>\n      <td>0</td>\n    </tr>\n    <tr>\n      <th>12854212</th>\n      <td>grandes/grande&lt;adj&gt;&lt;mf&gt;&lt;pl&gt;</td>\n      <td>0.0</td>\n      <td>0</td>\n      <td>0</td>\n      <td>1</td>\n      <td>0</td>\n      <td>0</td>\n      <td>0</td>\n    </tr>\n    <tr>\n      <th>12854215</th>\n      <td>corres/correr&lt;vblex&gt;&lt;pri&gt;&lt;p2&gt;&lt;sg&gt;</td>\n      <td>1.0</td>\n      <td>0</td>\n      <td>0</td>\n      <td>1</td>\n      <td>0</td>\n      <td>0</td>\n      <td>0</td>\n    </tr>\n    <tr>\n      <th>12854217</th>\n      <td>son/ser&lt;vbser&gt;&lt;pri&gt;&lt;p3&gt;&lt;pl&gt;</td>\n      <td>0.0</td>\n      <td>0</td>\n      <td>0</td>\n      <td>1</td>\n      <td>0</td>\n      <td>0</td>\n      <td>0</td>\n    </tr>\n    <tr>\n      <th>12854218</th>\n      <td>corto/corto&lt;adj&gt;&lt;m&gt;&lt;sg&gt;</td>\n      <td>1.0</td>\n      <td>0</td>\n      <td>0</td>\n      <td>1</td>\n      <td>0</td>\n      <td>0</td>\n      <td>0</td>\n    </tr>\n  </tbody>\n</table>\n<p>7575913 rows × 8 columns</p>\n</div>"
     },
     "execution_count": 21,
     "metadata": {},
     "output_type": "execute_result"
    }
   ],
   "source": [
    "data_filtered_language_dummies = pd.get_dummies(data=data_filtered_language, columns=[\"language\"])\n",
    "data_filtered_language_dummies\n"
   ],
   "metadata": {
    "collapsed": false,
    "pycharm": {
     "name": "#%%\n"
    }
   }
  },
  {
   "cell_type": "code",
   "execution_count": 22,
   "outputs": [
    {
     "data": {
      "text/plain": "            p  language_de  language_en  language_es  language_fr  \\\n2         1.0            1            0            0            0   \n4         1.0            1            0            0            0   \n5         1.0            1            0            0            0   \n6         1.0            1            0            0            0   \n7         1.0            0            0            1            0   \n...       ...          ...          ...          ...          ...   \n12854211  1.0            0            0            1            0   \n12854212  0.0            0            0            1            0   \n12854215  1.0            0            0            1            0   \n12854217  0.0            0            0            1            0   \n12854218  1.0            0            0            1            0   \n\n          language_it  language_pt  \n2                   0            0  \n4                   0            0  \n5                   0            0  \n6                   0            0  \n7                   0            0  \n...               ...          ...  \n12854211            0            0  \n12854212            0            0  \n12854215            0            0  \n12854217            0            0  \n12854218            0            0  \n\n[7575913 rows x 7 columns]",
      "text/html": "<div>\n<style scoped>\n    .dataframe tbody tr th:only-of-type {\n        vertical-align: middle;\n    }\n\n    .dataframe tbody tr th {\n        vertical-align: top;\n    }\n\n    .dataframe thead th {\n        text-align: right;\n    }\n</style>\n<table border=\"1\" class=\"dataframe\">\n  <thead>\n    <tr style=\"text-align: right;\">\n      <th></th>\n      <th>p</th>\n      <th>language_de</th>\n      <th>language_en</th>\n      <th>language_es</th>\n      <th>language_fr</th>\n      <th>language_it</th>\n      <th>language_pt</th>\n    </tr>\n  </thead>\n  <tbody>\n    <tr>\n      <th>2</th>\n      <td>1.0</td>\n      <td>1</td>\n      <td>0</td>\n      <td>0</td>\n      <td>0</td>\n      <td>0</td>\n      <td>0</td>\n    </tr>\n    <tr>\n      <th>4</th>\n      <td>1.0</td>\n      <td>1</td>\n      <td>0</td>\n      <td>0</td>\n      <td>0</td>\n      <td>0</td>\n      <td>0</td>\n    </tr>\n    <tr>\n      <th>5</th>\n      <td>1.0</td>\n      <td>1</td>\n      <td>0</td>\n      <td>0</td>\n      <td>0</td>\n      <td>0</td>\n      <td>0</td>\n    </tr>\n    <tr>\n      <th>6</th>\n      <td>1.0</td>\n      <td>1</td>\n      <td>0</td>\n      <td>0</td>\n      <td>0</td>\n      <td>0</td>\n      <td>0</td>\n    </tr>\n    <tr>\n      <th>7</th>\n      <td>1.0</td>\n      <td>0</td>\n      <td>0</td>\n      <td>1</td>\n      <td>0</td>\n      <td>0</td>\n      <td>0</td>\n    </tr>\n    <tr>\n      <th>...</th>\n      <td>...</td>\n      <td>...</td>\n      <td>...</td>\n      <td>...</td>\n      <td>...</td>\n      <td>...</td>\n      <td>...</td>\n    </tr>\n    <tr>\n      <th>12854211</th>\n      <td>1.0</td>\n      <td>0</td>\n      <td>0</td>\n      <td>1</td>\n      <td>0</td>\n      <td>0</td>\n      <td>0</td>\n    </tr>\n    <tr>\n      <th>12854212</th>\n      <td>0.0</td>\n      <td>0</td>\n      <td>0</td>\n      <td>1</td>\n      <td>0</td>\n      <td>0</td>\n      <td>0</td>\n    </tr>\n    <tr>\n      <th>12854215</th>\n      <td>1.0</td>\n      <td>0</td>\n      <td>0</td>\n      <td>1</td>\n      <td>0</td>\n      <td>0</td>\n      <td>0</td>\n    </tr>\n    <tr>\n      <th>12854217</th>\n      <td>0.0</td>\n      <td>0</td>\n      <td>0</td>\n      <td>1</td>\n      <td>0</td>\n      <td>0</td>\n      <td>0</td>\n    </tr>\n    <tr>\n      <th>12854218</th>\n      <td>1.0</td>\n      <td>0</td>\n      <td>0</td>\n      <td>1</td>\n      <td>0</td>\n      <td>0</td>\n      <td>0</td>\n    </tr>\n  </tbody>\n</table>\n<p>7575913 rows × 7 columns</p>\n</div>"
     },
     "execution_count": 22,
     "metadata": {},
     "output_type": "execute_result"
    }
   ],
   "source": [
    "del data_filtered_language_dummies[\"lexeme_string\"]\n",
    "data_filtered_language_dummies"
   ],
   "metadata": {
    "collapsed": false,
    "pycharm": {
     "name": "#%%\n"
    }
   }
  },
  {
   "cell_type": "code",
   "execution_count": 23,
   "outputs": [
    {
     "data": {
      "text/plain": "p              1.000000\nlanguage_de   -0.005924\nlanguage_en    0.004495\nlanguage_es    0.003280\nlanguage_fr   -0.020707\nlanguage_it    0.017014\nlanguage_pt    0.007449\ndtype: float64"
     },
     "execution_count": 23,
     "metadata": {},
     "output_type": "execute_result"
    }
   ],
   "source": [
    "data_filtered_language_dummies.corrwith(data_filtered_language_dummies[\"p\"])"
   ],
   "metadata": {
    "collapsed": false,
    "pycharm": {
     "name": "#%%\n"
    }
   }
  },
  {
   "cell_type": "code",
   "execution_count": 24,
   "outputs": [],
   "source": [
    "data_filtered_language_de = data_filtered_language[data_filtered_language[\"language\"]==\"de\"]\n",
    "data_filtered_language_en = data_filtered_language[data_filtered_language[\"language\"]==\"en\"]\n",
    "data_filtered_language_es = data_filtered_language[data_filtered_language[\"language\"]==\"es\"]\n",
    "data_filtered_language_fr = data_filtered_language[data_filtered_language[\"language\"]==\"fr\"]\n",
    "data_filtered_language_it = data_filtered_language[data_filtered_language[\"language\"]==\"it\"]\n",
    "data_filtered_language_pt = data_filtered_language[data_filtered_language[\"language\"]==\"pt\"]"
   ],
   "metadata": {
    "collapsed": false,
    "pycharm": {
     "name": "#%%\n"
    }
   }
  },
  {
   "cell_type": "code",
   "execution_count": 25,
   "outputs": [],
   "source": [
    "del data_filtered_language_de[\"language\"]\n",
    "del data_filtered_language_en[\"language\"]\n",
    "del data_filtered_language_es[\"language\"]\n",
    "del data_filtered_language_fr[\"language\"]\n",
    "del data_filtered_language_it[\"language\"]\n",
    "del data_filtered_language_pt[\"language\"]"
   ],
   "metadata": {
    "collapsed": false,
    "pycharm": {
     "name": "#%%\n"
    }
   }
  },
  {
   "cell_type": "code",
   "execution_count": 27,
   "outputs": [],
   "source": [
    "data_filtered_language_de_dummies = pd.get_dummies(data=data_filtered_language_de, columns=[\"lexeme_string\"])"
   ],
   "metadata": {
    "collapsed": false,
    "pycharm": {
     "name": "#%%\n"
    }
   }
  },
  {
   "cell_type": "code",
   "execution_count": 29,
   "outputs": [
    {
     "data": {
      "text/plain": "p                                                           1.000000\nlexeme_string_<*sf>/adresse<n><f><*numb><*case>            -0.001724\nlexeme_string_<*sf>/aktion<n><f><*numb><*case>             -0.000802\nlexeme_string_<*sf>/analyse<n><f><*numb><nom>              -0.000515\nlexeme_string_<*sf>/angebot<n><nt><*numb><*case>           -0.000829\n                                                              ...   \nlexeme_string_übertragen/übertragen<vblex><inf><@future>   -0.003041\nlexeme_string_überwachung/überwachung<n><f><sg><nom>        0.000780\nlexeme_string_übrigen/übrig<adj><pst><mf><pl><nom><mix>    -0.002083\nlexeme_string_übrigens/übrigens<adv>                       -0.003200\nlexeme_string_übungen/übung<n><f><pl><*case>                0.000552\nLength: 3713, dtype: float64"
     },
     "execution_count": 29,
     "metadata": {},
     "output_type": "execute_result"
    }
   ],
   "source": [
    "data_filtered_language_de_dummies.corrwith(data_filtered_language_de_dummies[\"p\"])"
   ],
   "metadata": {
    "collapsed": false,
    "pycharm": {
     "name": "#%%\n"
    }
   }
  },
  {
   "cell_type": "code",
   "execution_count": 30,
   "outputs": [
    {
     "data": {
      "text/plain": "p                                                        1.000000\nlexeme_string_'/'<apos>                                 -0.008114\nlexeme_string_'s/'s<gen>                                 0.001578\nlexeme_string_<*sf>/accident<n><*numb>                   0.000300\nlexeme_string_<*sf>/account<n><*numb>                    0.000474\n                                                           ...   \nlexeme_string_your/your<det><pos><sp>                   -0.007686\nlexeme_string_yours/yours<prn><pos><mf><sp>             -0.000155\nlexeme_string_yourself/yourself<prn><ref><p2><mf><sg>   -0.002702\nlexeme_string_youth/youth<n><sg>                         0.000700\nlexeme_string_zone/zone<n><sg>                           0.000997\nLength: 2958, dtype: float64"
     },
     "execution_count": 30,
     "metadata": {},
     "output_type": "execute_result"
    }
   ],
   "source": [
    "data_filtered_language_en_dummies = pd.get_dummies(data=data_filtered_language_en, columns=[\"lexeme_string\"])\n",
    "data_filtered_language_en_dummies.corrwith(data_filtered_language_en_dummies[\"p\"])"
   ],
   "metadata": {
    "collapsed": false,
    "pycharm": {
     "name": "#%%\n"
    }
   }
  },
  {
   "cell_type": "code",
   "execution_count": 31,
   "outputs": [
    {
     "data": {
      "text/plain": "p                                                1.000000\nlexeme_string_<*sf>/abogado<n><m><*numb>         0.003994\nlexeme_string_<*sf>/acción<n><f><*numb>         -0.000524\nlexeme_string_<*sf>/actitud<n><f><*numb>        -0.000495\nlexeme_string_<*sf>/actividad<n><f><*numb>       0.001248\n                                                   ...   \nlexeme_string_último/último<det><ord><m><sg>    -0.002509\nlexeme_string_últimos/último<det><ord><m><pl>    0.000615\nlexeme_string_única/único<adj><f><sg>            0.001806\nlexeme_string_únicamente/únicamente<adv>         0.001395\nlexeme_string_útil/útil<adj><mf><sg>            -0.000171\nLength: 3120, dtype: float64"
     },
     "execution_count": 31,
     "metadata": {},
     "output_type": "execute_result"
    }
   ],
   "source": [
    "data_filtered_language_es_dummies = pd.get_dummies(data=data_filtered_language_es, columns=[\"lexeme_string\"])\n",
    "data_filtered_language_es_dummies.corrwith(data_filtered_language_es_dummies[\"p\"])"
   ],
   "metadata": {
    "collapsed": false,
    "pycharm": {
     "name": "#%%\n"
    }
   }
  },
  {
   "cell_type": "code",
   "execution_count": 32,
   "outputs": [
    {
     "data": {
      "text/plain": "p                                                                       1.000000\nlexeme_string_<*sf>/absence<n><f><*numb>                               -0.000240\nlexeme_string_<*sf>/accepter<vblex><pp><*gndr><*numb><@pluperfect>      0.001256\nlexeme_string_<*sf>/accord<n><m><*numb>                                 0.000379\nlexeme_string_<*sf>/acheter<vblex><pp><*gndr><*numb><@compound_past>   -0.000432\n                                                                          ...   \nlexeme_string_être/être<vbser><inf>                                    -0.007026\nlexeme_string_être/être<vbser><inf><@past_inf>                          0.000183\nlexeme_string_île/île<n><f><sg>                                        -0.001486\nlexeme_string_œuf/œuf<n><m><sg>                                         0.001299\nlexeme_string_œufs/œuf<n><m><pl>                                       -0.001916\nLength: 3893, dtype: float64"
     },
     "execution_count": 32,
     "metadata": {},
     "output_type": "execute_result"
    }
   ],
   "source": [
    "data_filtered_language_fr_dummies = pd.get_dummies(data=data_filtered_language_fr, columns=[\"lexeme_string\"])\n",
    "data_filtered_language_fr_dummies.corrwith(data_filtered_language_fr_dummies[\"p\"])"
   ],
   "metadata": {
    "collapsed": false,
    "pycharm": {
     "name": "#%%\n"
    }
   }
  },
  {
   "cell_type": "code",
   "execution_count": 33,
   "outputs": [
    {
     "data": {
      "text/plain": "p                                                               1.000000\nlexeme_string_<*sf>/abbassare<vblex><pri><*pers><*numb>        -0.000777\nlexeme_string_<*sf>/abbigliamento<n><m><*numb>                 -0.007748\nlexeme_string_<*sf>/abito<n><m><*numb>                         -0.003069\nlexeme_string_<*sf>/abituale<adj><mf><*numb>                   -0.001099\n                                                                  ...   \nlexeme_string_zoo/zoo<n><m><sg>                                 0.001268\nlexeme_string_zucchero/zucchero<n><m><sg>                       0.002686\nlexeme_string_zuppa/zuppa<n><f><sg>                             0.000788\nlexeme_string_è/essere<vbser><pri><p3><sg>                     -0.014533\nlexeme_string_è/essere<vbser><pri><p3><sg><@present_perfect>    0.000785\nLength: 2171, dtype: float64"
     },
     "execution_count": 33,
     "metadata": {},
     "output_type": "execute_result"
    }
   ],
   "source": [
    "data_filtered_language_it_dummies = pd.get_dummies(data=data_filtered_language_it, columns=[\"lexeme_string\"])\n",
    "data_filtered_language_it_dummies.corrwith(data_filtered_language_it_dummies[\"p\"])"
   ],
   "metadata": {
    "collapsed": false,
    "pycharm": {
     "name": "#%%\n"
    }
   }
  },
  {
   "cell_type": "code",
   "execution_count": 34,
   "outputs": [
    {
     "data": {
      "text/plain": "p                                                      1.000000\nlexeme_string_<*sf>/aberto<adj><*gndr><*numb>          0.000750\nlexeme_string_<*sf>/abril<n><m><*numb>                -0.001506\nlexeme_string_<*sf>/abrir<vblex><cni><*pers><*numb>    0.001500\nlexeme_string_<*sf>/abrir<vblex><fti><*pers><*numb>    0.000750\n                                                         ...   \nlexeme_string_és/ser<vbser><pri><p2><sg>              -0.010187\nlexeme_string_óleo/óleo<n><m><sg>                     -0.003415\nlexeme_string_ônibus/ônibus<n><m><sp>                  0.000750\nlexeme_string_última/último<adj><f><sg>                0.001061\nlexeme_string_últimos/último<adj><m><pl>               0.000750\nLength: 2637, dtype: float64"
     },
     "execution_count": 34,
     "metadata": {},
     "output_type": "execute_result"
    }
   ],
   "source": [
    "data_filtered_language_pt_dummies = pd.get_dummies(data=data_filtered_language_pt, columns=[\"lexeme_string\"])\n",
    "data_filtered_language_pt_dummies.corrwith(data_filtered_language_pt_dummies[\"p\"])"
   ],
   "metadata": {
    "collapsed": false,
    "pycharm": {
     "name": "#%%\n"
    }
   }
  },
  {
   "cell_type": "code",
   "execution_count": null,
   "outputs": [],
   "source": [],
   "metadata": {
    "collapsed": false,
    "pycharm": {
     "name": "#%%\n"
    }
   }
  }
 ],
 "metadata": {
  "kernelspec": {
   "display_name": "Python 3",
   "language": "python",
   "name": "python3"
  },
  "language_info": {
   "codemirror_mode": {
    "name": "ipython",
    "version": 2
   },
   "file_extension": ".py",
   "mimetype": "text/x-python",
   "name": "python",
   "nbconvert_exporter": "python",
   "pygments_lexer": "ipython2",
   "version": "2.7.6"
  }
 },
 "nbformat": 4,
 "nbformat_minor": 0
}