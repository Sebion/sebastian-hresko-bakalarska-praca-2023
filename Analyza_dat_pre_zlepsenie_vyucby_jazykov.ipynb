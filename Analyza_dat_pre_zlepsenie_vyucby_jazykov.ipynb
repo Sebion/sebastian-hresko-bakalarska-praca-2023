{
 "cells": [
  {
   "cell_type": "code",
   "execution_count": 6,
   "metadata": {
    "collapsed": true
   },
   "outputs": [],
   "source": [
    "import matplotlib\n",
    "import pandas as pd\n",
    "import numpy as np\n",
    "import matplotlib.pyplot as plt\n",
    "import seaborn as sns\n",
    "from IPython.display import display\n",
    "\n",
    "# inicializujeme knižnicu seaborn\n",
    "sns.set()"
   ]
  },
  {
   "cell_type": "code",
   "execution_count": 7,
   "outputs": [
    {
     "data": {
      "text/plain": "          p_recall   timestamp     delta user_id learning_language  \\\n0         1.000000  1362076081  27649635    u:FO                de   \n1         0.500000  1362076081  27649635    u:FO                de   \n2         1.000000  1362076081  27649635    u:FO                de   \n3         0.500000  1362076081  27649635    u:FO                de   \n4         1.000000  1362076081  27649635    u:FO                de   \n...            ...         ...       ...     ...               ...   \n12854221  0.800000  1363104897       368  u:i5D8                en   \n12854222  0.800000  1363104897       368  u:i5D8                en   \n12854223  1.000000  1363104897       368  u:i5D8                en   \n12854224  0.600000  1363104897       368  u:i5D8                en   \n12854225  0.666667  1363104897       368  u:i5D8                en   \n\n         ui_language                         lexeme_id  \\\n0                 en  76390c1350a8dac31186187e2fe1e178   \n1                 en  7dfd7086f3671685e2cf1c1da72796d7   \n2                 en  35a54c25a2cda8127343f6a82e6f6b7d   \n3                 en  0cf63ffe3dda158bc3dbd55682b355ae   \n4                 en  84920990d78044db53c1b012f5bf9ab5   \n...              ...                               ...   \n12854221          it  d5efc552aaea3109eb5388aa1ec8673d   \n12854222          it  a826c47947d68549fa81e19cafa57ba0   \n12854223          it  5e29d77697d23070a1fb92eb6c90e9b6   \n12854224          it  cdfecc9247566d40bb964a218c54c783   \n12854225          it  c52ab45d4e22ee7580041911159e3c0c   \n\n                             lexeme_string  history_seen  history_correct  \\\n0         lernt/lernen<vblex><pri><p3><sg>             6                4   \n1            die/die<det><def><f><sg><nom>             4                4   \n2                 mann/mann<n><m><sg><nom>             5                4   \n3                 frau/frau<n><f><sg><nom>             6                5   \n4           das/das<det><def><nt><sg><nom>             4                4   \n...                                    ...           ...              ...   \n12854221             the/the<det><def><sp>             6                4   \n12854222              eat/eat<vblex><pres>             4                4   \n12854223                bread/bread<n><sg>             4                4   \n12854224          drink/drink<vblex><pres>             3                2   \n12854225                water/water<n><sg>             5                3   \n\n          session_seen  session_correct  \n0                    2                2  \n1                    2                1  \n2                    1                1  \n3                    2                1  \n4                    1                1  \n...                ...              ...  \n12854221             5                4  \n12854222             5                4  \n12854223             4                4  \n12854224             5                3  \n12854225             9                6  \n\n[12854226 rows x 12 columns]",
      "text/html": "<div>\n<style scoped>\n    .dataframe tbody tr th:only-of-type {\n        vertical-align: middle;\n    }\n\n    .dataframe tbody tr th {\n        vertical-align: top;\n    }\n\n    .dataframe thead th {\n        text-align: right;\n    }\n</style>\n<table border=\"1\" class=\"dataframe\">\n  <thead>\n    <tr style=\"text-align: right;\">\n      <th></th>\n      <th>p_recall</th>\n      <th>timestamp</th>\n      <th>delta</th>\n      <th>user_id</th>\n      <th>learning_language</th>\n      <th>ui_language</th>\n      <th>lexeme_id</th>\n      <th>lexeme_string</th>\n      <th>history_seen</th>\n      <th>history_correct</th>\n      <th>session_seen</th>\n      <th>session_correct</th>\n    </tr>\n  </thead>\n  <tbody>\n    <tr>\n      <th>0</th>\n      <td>1.000000</td>\n      <td>1362076081</td>\n      <td>27649635</td>\n      <td>u:FO</td>\n      <td>de</td>\n      <td>en</td>\n      <td>76390c1350a8dac31186187e2fe1e178</td>\n      <td>lernt/lernen&lt;vblex&gt;&lt;pri&gt;&lt;p3&gt;&lt;sg&gt;</td>\n      <td>6</td>\n      <td>4</td>\n      <td>2</td>\n      <td>2</td>\n    </tr>\n    <tr>\n      <th>1</th>\n      <td>0.500000</td>\n      <td>1362076081</td>\n      <td>27649635</td>\n      <td>u:FO</td>\n      <td>de</td>\n      <td>en</td>\n      <td>7dfd7086f3671685e2cf1c1da72796d7</td>\n      <td>die/die&lt;det&gt;&lt;def&gt;&lt;f&gt;&lt;sg&gt;&lt;nom&gt;</td>\n      <td>4</td>\n      <td>4</td>\n      <td>2</td>\n      <td>1</td>\n    </tr>\n    <tr>\n      <th>2</th>\n      <td>1.000000</td>\n      <td>1362076081</td>\n      <td>27649635</td>\n      <td>u:FO</td>\n      <td>de</td>\n      <td>en</td>\n      <td>35a54c25a2cda8127343f6a82e6f6b7d</td>\n      <td>mann/mann&lt;n&gt;&lt;m&gt;&lt;sg&gt;&lt;nom&gt;</td>\n      <td>5</td>\n      <td>4</td>\n      <td>1</td>\n      <td>1</td>\n    </tr>\n    <tr>\n      <th>3</th>\n      <td>0.500000</td>\n      <td>1362076081</td>\n      <td>27649635</td>\n      <td>u:FO</td>\n      <td>de</td>\n      <td>en</td>\n      <td>0cf63ffe3dda158bc3dbd55682b355ae</td>\n      <td>frau/frau&lt;n&gt;&lt;f&gt;&lt;sg&gt;&lt;nom&gt;</td>\n      <td>6</td>\n      <td>5</td>\n      <td>2</td>\n      <td>1</td>\n    </tr>\n    <tr>\n      <th>4</th>\n      <td>1.000000</td>\n      <td>1362076081</td>\n      <td>27649635</td>\n      <td>u:FO</td>\n      <td>de</td>\n      <td>en</td>\n      <td>84920990d78044db53c1b012f5bf9ab5</td>\n      <td>das/das&lt;det&gt;&lt;def&gt;&lt;nt&gt;&lt;sg&gt;&lt;nom&gt;</td>\n      <td>4</td>\n      <td>4</td>\n      <td>1</td>\n      <td>1</td>\n    </tr>\n    <tr>\n      <th>...</th>\n      <td>...</td>\n      <td>...</td>\n      <td>...</td>\n      <td>...</td>\n      <td>...</td>\n      <td>...</td>\n      <td>...</td>\n      <td>...</td>\n      <td>...</td>\n      <td>...</td>\n      <td>...</td>\n      <td>...</td>\n    </tr>\n    <tr>\n      <th>12854221</th>\n      <td>0.800000</td>\n      <td>1363104897</td>\n      <td>368</td>\n      <td>u:i5D8</td>\n      <td>en</td>\n      <td>it</td>\n      <td>d5efc552aaea3109eb5388aa1ec8673d</td>\n      <td>the/the&lt;det&gt;&lt;def&gt;&lt;sp&gt;</td>\n      <td>6</td>\n      <td>4</td>\n      <td>5</td>\n      <td>4</td>\n    </tr>\n    <tr>\n      <th>12854222</th>\n      <td>0.800000</td>\n      <td>1363104897</td>\n      <td>368</td>\n      <td>u:i5D8</td>\n      <td>en</td>\n      <td>it</td>\n      <td>a826c47947d68549fa81e19cafa57ba0</td>\n      <td>eat/eat&lt;vblex&gt;&lt;pres&gt;</td>\n      <td>4</td>\n      <td>4</td>\n      <td>5</td>\n      <td>4</td>\n    </tr>\n    <tr>\n      <th>12854223</th>\n      <td>1.000000</td>\n      <td>1363104897</td>\n      <td>368</td>\n      <td>u:i5D8</td>\n      <td>en</td>\n      <td>it</td>\n      <td>5e29d77697d23070a1fb92eb6c90e9b6</td>\n      <td>bread/bread&lt;n&gt;&lt;sg&gt;</td>\n      <td>4</td>\n      <td>4</td>\n      <td>4</td>\n      <td>4</td>\n    </tr>\n    <tr>\n      <th>12854224</th>\n      <td>0.600000</td>\n      <td>1363104897</td>\n      <td>368</td>\n      <td>u:i5D8</td>\n      <td>en</td>\n      <td>it</td>\n      <td>cdfecc9247566d40bb964a218c54c783</td>\n      <td>drink/drink&lt;vblex&gt;&lt;pres&gt;</td>\n      <td>3</td>\n      <td>2</td>\n      <td>5</td>\n      <td>3</td>\n    </tr>\n    <tr>\n      <th>12854225</th>\n      <td>0.666667</td>\n      <td>1363104897</td>\n      <td>368</td>\n      <td>u:i5D8</td>\n      <td>en</td>\n      <td>it</td>\n      <td>c52ab45d4e22ee7580041911159e3c0c</td>\n      <td>water/water&lt;n&gt;&lt;sg&gt;</td>\n      <td>5</td>\n      <td>3</td>\n      <td>9</td>\n      <td>6</td>\n    </tr>\n  </tbody>\n</table>\n<p>12854226 rows × 12 columns</p>\n</div>"
     },
     "execution_count": 7,
     "metadata": {},
     "output_type": "execute_result"
    }
   ],
   "source": [
    "#nacitanie dat\n",
    "data = pd.read_csv(\"datasets/learning_traces.13m.csv\")\n",
    "data"
   ],
   "metadata": {
    "collapsed": false,
    "pycharm": {
     "name": "#%%\n"
    }
   }
  },
  {
   "cell_type": "code",
   "execution_count": 21,
   "outputs": [
    {
     "data": {
      "text/plain": "<Figure size 640x480 with 1 Axes>",
      "image/png": "[encoded data removed]"
     },
     "metadata": {},
     "output_type": "display_data"
    }
   ],
   "source": [
    "#zobrazenie Obrazka 15\n",
    "custom_order = ['es', 'pt', 'it', 'en']\n",
    "sns.histplot(data=data, x='learning_language', hue='ui_language', alpha=1, multiple='stack', hue_order=custom_order)\n",
    "plt.show()"
   ],
   "metadata": {
    "collapsed": false,
    "pycharm": {
     "name": "#%%\n"
    }
   }
  },
  {
   "cell_type": "code",
   "execution_count": 8,
   "outputs": [
    {
     "name": "stdout",
     "output_type": "stream",
     "text": [
      "1362076081\n",
      "1363104897\n",
      "Hours: 285.78222222222223\n",
      "Days: 11.907592592592593\n",
      "2013-02-28 18:28:01\n",
      "2013-03-12 16:14:57\n"
     ]
    }
   ],
   "source": [
    "#ako dlho trval ezxperiment\n",
    "from datetime import datetime\n",
    "\n",
    "print(data[\"timestamp\"].min())\n",
    "print(data[\"timestamp\"].max())\n",
    "print(\"Hours:\", (data[\"timestamp\"].max() - data[\"timestamp\"].min()) / (60 * 60))\n",
    "print(\"Days:\", (data[\"timestamp\"].max() - data[\"timestamp\"].min()) / (60 * 60 * 24))\n",
    "\n",
    "print(datetime.utcfromtimestamp(data[\"timestamp\"].min()).strftime('%Y-%m-%d %H:%M:%S'))\n",
    "\n",
    "print(datetime.utcfromtimestamp(data[\"timestamp\"].max()).strftime('%Y-%m-%d %H:%M:%S'))"
   ],
   "metadata": {
    "collapsed": false,
    "pycharm": {
     "name": "#%%\n"
    }
   }
  },
  {
   "cell_type": "code",
   "execution_count": 9,
   "outputs": [
    {
     "name": "stdout",
     "output_type": "stream",
     "text": [
      "115222\n"
     ]
    }
   ],
   "source": [
    "#pocet zucastnenych studentov\n",
    "print((data[\"user_id\"].unique()).size)"
   ],
   "metadata": {
    "collapsed": false,
    "pycharm": {
     "name": "#%%\n"
    }
   }
  },
  {
   "cell_type": "code",
   "execution_count": 10,
   "outputs": [],
   "source": [
    "#preskalovanie delty na hodiny\n",
    "data[\"delta\"] = (data[\"delta\"] / (60 * 60))"
   ],
   "metadata": {
    "collapsed": false,
    "pycharm": {
     "name": "#%%\n"
    }
   }
  },
  {
   "cell_type": "code",
   "execution_count": 12,
   "outputs": [
    {
     "data": {
      "text/plain": "          p_recall        delta learning_language ui_language  \\\n0         1.000000  7680.454167                de          en   \n1         0.500000  7680.454167                de          en   \n2         1.000000  7680.454167                de          en   \n3         0.500000  7680.454167                de          en   \n4         1.000000  7680.454167                de          en   \n...            ...          ...               ...         ...   \n12854221  0.800000     0.102222                en          it   \n12854222  0.800000     0.102222                en          it   \n12854223  1.000000     0.102222                en          it   \n12854224  0.600000     0.102222                en          it   \n12854225  0.666667     0.102222                en          it   \n\n                             lexeme_string  history_seen  history_correct  \n0         lernt/lernen<vblex><pri><p3><sg>             6                4  \n1            die/die<det><def><f><sg><nom>             4                4  \n2                 mann/mann<n><m><sg><nom>             5                4  \n3                 frau/frau<n><f><sg><nom>             6                5  \n4           das/das<det><def><nt><sg><nom>             4                4  \n...                                    ...           ...              ...  \n12854221             the/the<det><def><sp>             6                4  \n12854222              eat/eat<vblex><pres>             4                4  \n12854223                bread/bread<n><sg>             4                4  \n12854224          drink/drink<vblex><pres>             3                2  \n12854225                water/water<n><sg>             5                3  \n\n[12854226 rows x 7 columns]",
      "text/html": "<div>\n<style scoped>\n    .dataframe tbody tr th:only-of-type {\n        vertical-align: middle;\n    }\n\n    .dataframe tbody tr th {\n        vertical-align: top;\n    }\n\n    .dataframe thead th {\n        text-align: right;\n    }\n</style>\n<table border=\"1\" class=\"dataframe\">\n  <thead>\n    <tr style=\"text-align: right;\">\n      <th></th>\n      <th>p_recall</th>\n      <th>delta</th>\n      <th>learning_language</th>\n      <th>ui_language</th>\n      <th>lexeme_string</th>\n      <th>history_seen</th>\n      <th>history_correct</th>\n    </tr>\n  </thead>\n  <tbody>\n    <tr>\n      <th>0</th>\n      <td>1.000000</td>\n      <td>7680.454167</td>\n      <td>de</td>\n      <td>en</td>\n      <td>lernt/lernen&lt;vblex&gt;&lt;pri&gt;&lt;p3&gt;&lt;sg&gt;</td>\n      <td>6</td>\n      <td>4</td>\n    </tr>\n    <tr>\n      <th>1</th>\n      <td>0.500000</td>\n      <td>7680.454167</td>\n      <td>de</td>\n      <td>en</td>\n      <td>die/die&lt;det&gt;&lt;def&gt;&lt;f&gt;&lt;sg&gt;&lt;nom&gt;</td>\n      <td>4</td>\n      <td>4</td>\n    </tr>\n    <tr>\n      <th>2</th>\n      <td>1.000000</td>\n      <td>7680.454167</td>\n      <td>de</td>\n      <td>en</td>\n      <td>mann/mann&lt;n&gt;&lt;m&gt;&lt;sg&gt;&lt;nom&gt;</td>\n      <td>5</td>\n      <td>4</td>\n    </tr>\n    <tr>\n      <th>3</th>\n      <td>0.500000</td>\n      <td>7680.454167</td>\n      <td>de</td>\n      <td>en</td>\n      <td>frau/frau&lt;n&gt;&lt;f&gt;&lt;sg&gt;&lt;nom&gt;</td>\n      <td>6</td>\n      <td>5</td>\n    </tr>\n    <tr>\n      <th>4</th>\n      <td>1.000000</td>\n      <td>7680.454167</td>\n      <td>de</td>\n      <td>en</td>\n      <td>das/das&lt;det&gt;&lt;def&gt;&lt;nt&gt;&lt;sg&gt;&lt;nom&gt;</td>\n      <td>4</td>\n      <td>4</td>\n    </tr>\n    <tr>\n      <th>...</th>\n      <td>...</td>\n      <td>...</td>\n      <td>...</td>\n      <td>...</td>\n      <td>...</td>\n      <td>...</td>\n      <td>...</td>\n    </tr>\n    <tr>\n      <th>12854221</th>\n      <td>0.800000</td>\n      <td>0.102222</td>\n      <td>en</td>\n      <td>it</td>\n      <td>the/the&lt;det&gt;&lt;def&gt;&lt;sp&gt;</td>\n      <td>6</td>\n      <td>4</td>\n    </tr>\n    <tr>\n      <th>12854222</th>\n      <td>0.800000</td>\n      <td>0.102222</td>\n      <td>en</td>\n      <td>it</td>\n      <td>eat/eat&lt;vblex&gt;&lt;pres&gt;</td>\n      <td>4</td>\n      <td>4</td>\n    </tr>\n    <tr>\n      <th>12854223</th>\n      <td>1.000000</td>\n      <td>0.102222</td>\n      <td>en</td>\n      <td>it</td>\n      <td>bread/bread&lt;n&gt;&lt;sg&gt;</td>\n      <td>4</td>\n      <td>4</td>\n    </tr>\n    <tr>\n      <th>12854224</th>\n      <td>0.600000</td>\n      <td>0.102222</td>\n      <td>en</td>\n      <td>it</td>\n      <td>drink/drink&lt;vblex&gt;&lt;pres&gt;</td>\n      <td>3</td>\n      <td>2</td>\n    </tr>\n    <tr>\n      <th>12854225</th>\n      <td>0.666667</td>\n      <td>0.102222</td>\n      <td>en</td>\n      <td>it</td>\n      <td>water/water&lt;n&gt;&lt;sg&gt;</td>\n      <td>5</td>\n      <td>3</td>\n    </tr>\n  </tbody>\n</table>\n<p>12854226 rows × 7 columns</p>\n</div>"
     },
     "execution_count": 12,
     "metadata": {},
     "output_type": "execute_result"
    }
   ],
   "source": [
    "#odstranenie zbytocnych atributov\n",
    "del data[\"lexeme_id\"]\n",
    "del data[\"timestamp\"]\n",
    "del data[\"user_id\"]\n",
    "del data[\"session_correct\"]\n",
    "del data[\"session_seen\"]\n",
    "data"
   ],
   "metadata": {
    "collapsed": false,
    "pycharm": {
     "name": "#%%\n"
    }
   }
  },
  {
   "cell_type": "code",
   "execution_count": 13,
   "outputs": [
    {
     "data": {
      "text/plain": "          p_recall        delta learning_language ui_language  \\\n0         1.000000  7680.454167                de          en   \n1         0.500000  7680.454167                de          en   \n2         1.000000  7680.454167                de          en   \n3         0.500000  7680.454167                de          en   \n4         1.000000  7680.454167                de          en   \n...            ...          ...               ...         ...   \n12854221  0.800000     0.102222                en          it   \n12854222  0.800000     0.102222                en          it   \n12854223  1.000000     0.102222                en          it   \n12854224  0.600000     0.102222                en          it   \n12854225  0.666667     0.102222                en          it   \n\n                             lexeme_string  history_seen  history_correct  \\\n0         lernt/lernen<vblex><pri><p3><sg>             6                4   \n1            die/die<det><def><f><sg><nom>             4                4   \n2                 mann/mann<n><m><sg><nom>             5                4   \n3                 frau/frau<n><f><sg><nom>             6                5   \n4           das/das<det><def><nt><sg><nom>             4                4   \n...                                    ...           ...              ...   \n12854221             the/the<det><def><sp>             6                4   \n12854222              eat/eat<vblex><pres>             4                4   \n12854223                bread/bread<n><sg>             4                4   \n12854224          drink/drink<vblex><pres>             3                2   \n12854225                water/water<n><sg>             5                3   \n\n         surface_form  \n0               lernt  \n1                 die  \n2                mann  \n3                frau  \n4                 das  \n...               ...  \n12854221          the  \n12854222          eat  \n12854223        bread  \n12854224        drink  \n12854225        water  \n\n[12854226 rows x 8 columns]",
      "text/html": "<div>\n<style scoped>\n    .dataframe tbody tr th:only-of-type {\n        vertical-align: middle;\n    }\n\n    .dataframe tbody tr th {\n        vertical-align: top;\n    }\n\n    .dataframe thead th {\n        text-align: right;\n    }\n</style>\n<table border=\"1\" class=\"dataframe\">\n  <thead>\n    <tr style=\"text-align: right;\">\n      <th></th>\n      <th>p_recall</th>\n      <th>delta</th>\n      <th>learning_language</th>\n      <th>ui_language</th>\n      <th>lexeme_string</th>\n      <th>history_seen</th>\n      <th>history_correct</th>\n      <th>surface_form</th>\n    </tr>\n  </thead>\n  <tbody>\n    <tr>\n      <th>0</th>\n      <td>1.000000</td>\n      <td>7680.454167</td>\n      <td>de</td>\n      <td>en</td>\n      <td>lernt/lernen&lt;vblex&gt;&lt;pri&gt;&lt;p3&gt;&lt;sg&gt;</td>\n      <td>6</td>\n      <td>4</td>\n      <td>lernt</td>\n    </tr>\n    <tr>\n      <th>1</th>\n      <td>0.500000</td>\n      <td>7680.454167</td>\n      <td>de</td>\n      <td>en</td>\n      <td>die/die&lt;det&gt;&lt;def&gt;&lt;f&gt;&lt;sg&gt;&lt;nom&gt;</td>\n      <td>4</td>\n      <td>4</td>\n      <td>die</td>\n    </tr>\n    <tr>\n      <th>2</th>\n      <td>1.000000</td>\n      <td>7680.454167</td>\n      <td>de</td>\n      <td>en</td>\n      <td>mann/mann&lt;n&gt;&lt;m&gt;&lt;sg&gt;&lt;nom&gt;</td>\n      <td>5</td>\n      <td>4</td>\n      <td>mann</td>\n    </tr>\n    <tr>\n      <th>3</th>\n      <td>0.500000</td>\n      <td>7680.454167</td>\n      <td>de</td>\n      <td>en</td>\n      <td>frau/frau&lt;n&gt;&lt;f&gt;&lt;sg&gt;&lt;nom&gt;</td>\n      <td>6</td>\n      <td>5</td>\n      <td>frau</td>\n    </tr>\n    <tr>\n      <th>4</th>\n      <td>1.000000</td>\n      <td>7680.454167</td>\n      <td>de</td>\n      <td>en</td>\n      <td>das/das&lt;det&gt;&lt;def&gt;&lt;nt&gt;&lt;sg&gt;&lt;nom&gt;</td>\n      <td>4</td>\n      <td>4</td>\n      <td>das</td>\n    </tr>\n    <tr>\n      <th>...</th>\n      <td>...</td>\n      <td>...</td>\n      <td>...</td>\n      <td>...</td>\n      <td>...</td>\n      <td>...</td>\n      <td>...</td>\n      <td>...</td>\n    </tr>\n    <tr>\n      <th>12854221</th>\n      <td>0.800000</td>\n      <td>0.102222</td>\n      <td>en</td>\n      <td>it</td>\n      <td>the/the&lt;det&gt;&lt;def&gt;&lt;sp&gt;</td>\n      <td>6</td>\n      <td>4</td>\n      <td>the</td>\n    </tr>\n    <tr>\n      <th>12854222</th>\n      <td>0.800000</td>\n      <td>0.102222</td>\n      <td>en</td>\n      <td>it</td>\n      <td>eat/eat&lt;vblex&gt;&lt;pres&gt;</td>\n      <td>4</td>\n      <td>4</td>\n      <td>eat</td>\n    </tr>\n    <tr>\n      <th>12854223</th>\n      <td>1.000000</td>\n      <td>0.102222</td>\n      <td>en</td>\n      <td>it</td>\n      <td>bread/bread&lt;n&gt;&lt;sg&gt;</td>\n      <td>4</td>\n      <td>4</td>\n      <td>bread</td>\n    </tr>\n    <tr>\n      <th>12854224</th>\n      <td>0.600000</td>\n      <td>0.102222</td>\n      <td>en</td>\n      <td>it</td>\n      <td>drink/drink&lt;vblex&gt;&lt;pres&gt;</td>\n      <td>3</td>\n      <td>2</td>\n      <td>drink</td>\n    </tr>\n    <tr>\n      <th>12854225</th>\n      <td>0.666667</td>\n      <td>0.102222</td>\n      <td>en</td>\n      <td>it</td>\n      <td>water/water&lt;n&gt;&lt;sg&gt;</td>\n      <td>5</td>\n      <td>3</td>\n      <td>water</td>\n    </tr>\n  </tbody>\n</table>\n<p>12854226 rows × 8 columns</p>\n</div>"
     },
     "execution_count": 13,
     "metadata": {},
     "output_type": "execute_result"
    }
   ],
   "source": [
    "#vyextrahovanie atributu surface_form z atributu lexeme_string\n",
    "import re\n",
    "\n",
    "\n",
    "def regexer_surface_form(lexeme):\n",
    "    surface_form = re.search(\"(.+?)/\", str(lexeme)).group(1)\n",
    "\n",
    "    return surface_form\n",
    "\n",
    "\n",
    "data[\"surface_form\"] = data[\"lexeme_string\"].apply(regexer_surface_form)\n",
    "data"
   ],
   "metadata": {
    "collapsed": false,
    "pycharm": {
     "name": "#%%\n"
    }
   }
  },
  {
   "cell_type": "code",
   "execution_count": 14,
   "outputs": [
    {
     "data": {
      "text/plain": "          p_recall        delta learning_language ui_language  \\\n0         1.000000  7680.454167                de          en   \n1         0.500000  7680.454167                de          en   \n2         1.000000  7680.454167                de          en   \n3         0.500000  7680.454167                de          en   \n4         1.000000  7680.454167                de          en   \n...            ...          ...               ...         ...   \n12854221  0.800000     0.102222                en          it   \n12854222  0.800000     0.102222                en          it   \n12854223  1.000000     0.102222                en          it   \n12854224  0.600000     0.102222                en          it   \n12854225  0.666667     0.102222                en          it   \n\n                             lexeme_string  history_seen  history_correct  \\\n0         lernt/lernen<vblex><pri><p3><sg>             6                4   \n1            die/die<det><def><f><sg><nom>             4                4   \n2                 mann/mann<n><m><sg><nom>             5                4   \n3                 frau/frau<n><f><sg><nom>             6                5   \n4           das/das<det><def><nt><sg><nom>             4                4   \n...                                    ...           ...              ...   \n12854221             the/the<det><def><sp>             6                4   \n12854222              eat/eat<vblex><pres>             4                4   \n12854223                bread/bread<n><sg>             4                4   \n12854224          drink/drink<vblex><pres>             3                2   \n12854225                water/water<n><sg>             5                3   \n\n         surface_form root_form  \n0               lernt    lernen  \n1                 die       die  \n2                mann      mann  \n3                frau      frau  \n4                 das       das  \n...               ...       ...  \n12854221          the       the  \n12854222          eat       eat  \n12854223        bread     bread  \n12854224        drink     drink  \n12854225        water     water  \n\n[12854226 rows x 9 columns]",
      "text/html": "<div>\n<style scoped>\n    .dataframe tbody tr th:only-of-type {\n        vertical-align: middle;\n    }\n\n    .dataframe tbody tr th {\n        vertical-align: top;\n    }\n\n    .dataframe thead th {\n        text-align: right;\n    }\n</style>\n<table border=\"1\" class=\"dataframe\">\n  <thead>\n    <tr style=\"text-align: right;\">\n      <th></th>\n      <th>p_recall</th>\n      <th>delta</th>\n      <th>learning_language</th>\n      <th>ui_language</th>\n      <th>lexeme_string</th>\n      <th>history_seen</th>\n      <th>history_correct</th>\n      <th>surface_form</th>\n      <th>root_form</th>\n    </tr>\n  </thead>\n  <tbody>\n    <tr>\n      <th>0</th>\n      <td>1.000000</td>\n      <td>7680.454167</td>\n      <td>de</td>\n      <td>en</td>\n      <td>lernt/lernen&lt;vblex&gt;&lt;pri&gt;&lt;p3&gt;&lt;sg&gt;</td>\n      <td>6</td>\n      <td>4</td>\n      <td>lernt</td>\n      <td>lernen</td>\n    </tr>\n    <tr>\n      <th>1</th>\n      <td>0.500000</td>\n      <td>7680.454167</td>\n      <td>de</td>\n      <td>en</td>\n      <td>die/die&lt;det&gt;&lt;def&gt;&lt;f&gt;&lt;sg&gt;&lt;nom&gt;</td>\n      <td>4</td>\n      <td>4</td>\n      <td>die</td>\n      <td>die</td>\n    </tr>\n    <tr>\n      <th>2</th>\n      <td>1.000000</td>\n      <td>7680.454167</td>\n      <td>de</td>\n      <td>en</td>\n      <td>mann/mann&lt;n&gt;&lt;m&gt;&lt;sg&gt;&lt;nom&gt;</td>\n      <td>5</td>\n      <td>4</td>\n      <td>mann</td>\n      <td>mann</td>\n    </tr>\n    <tr>\n      <th>3</th>\n      <td>0.500000</td>\n      <td>7680.454167</td>\n      <td>de</td>\n      <td>en</td>\n      <td>frau/frau&lt;n&gt;&lt;f&gt;&lt;sg&gt;&lt;nom&gt;</td>\n      <td>6</td>\n      <td>5</td>\n      <td>frau</td>\n      <td>frau</td>\n    </tr>\n    <tr>\n      <th>4</th>\n      <td>1.000000</td>\n      <td>7680.454167</td>\n      <td>de</td>\n      <td>en</td>\n      <td>das/das&lt;det&gt;&lt;def&gt;&lt;nt&gt;&lt;sg&gt;&lt;nom&gt;</td>\n      <td>4</td>\n      <td>4</td>\n      <td>das</td>\n      <td>das</td>\n    </tr>\n    <tr>\n      <th>...</th>\n      <td>...</td>\n      <td>...</td>\n      <td>...</td>\n      <td>...</td>\n      <td>...</td>\n      <td>...</td>\n      <td>...</td>\n      <td>...</td>\n      <td>...</td>\n    </tr>\n    <tr>\n      <th>12854221</th>\n      <td>0.800000</td>\n      <td>0.102222</td>\n      <td>en</td>\n      <td>it</td>\n      <td>the/the&lt;det&gt;&lt;def&gt;&lt;sp&gt;</td>\n      <td>6</td>\n      <td>4</td>\n      <td>the</td>\n      <td>the</td>\n    </tr>\n    <tr>\n      <th>12854222</th>\n      <td>0.800000</td>\n      <td>0.102222</td>\n      <td>en</td>\n      <td>it</td>\n      <td>eat/eat&lt;vblex&gt;&lt;pres&gt;</td>\n      <td>4</td>\n      <td>4</td>\n      <td>eat</td>\n      <td>eat</td>\n    </tr>\n    <tr>\n      <th>12854223</th>\n      <td>1.000000</td>\n      <td>0.102222</td>\n      <td>en</td>\n      <td>it</td>\n      <td>bread/bread&lt;n&gt;&lt;sg&gt;</td>\n      <td>4</td>\n      <td>4</td>\n      <td>bread</td>\n      <td>bread</td>\n    </tr>\n    <tr>\n      <th>12854224</th>\n      <td>0.600000</td>\n      <td>0.102222</td>\n      <td>en</td>\n      <td>it</td>\n      <td>drink/drink&lt;vblex&gt;&lt;pres&gt;</td>\n      <td>3</td>\n      <td>2</td>\n      <td>drink</td>\n      <td>drink</td>\n    </tr>\n    <tr>\n      <th>12854225</th>\n      <td>0.666667</td>\n      <td>0.102222</td>\n      <td>en</td>\n      <td>it</td>\n      <td>water/water&lt;n&gt;&lt;sg&gt;</td>\n      <td>5</td>\n      <td>3</td>\n      <td>water</td>\n      <td>water</td>\n    </tr>\n  </tbody>\n</table>\n<p>12854226 rows × 9 columns</p>\n</div>"
     },
     "execution_count": 14,
     "metadata": {},
     "output_type": "execute_result"
    }
   ],
   "source": [
    "#vyextrahovanie atributu root_form z atributu lexeme_string\n",
    "\n",
    "def regexer_root_form(lexeme):\n",
    "    root_form = re.search(\"/(.+?)<\", str(lexeme)).group(1)\n",
    "\n",
    "    return root_form\n",
    "\n",
    "\n",
    "data[\"root_form\"] = data[\"lexeme_string\"].apply(regexer_root_form)\n",
    "data"
   ],
   "metadata": {
    "collapsed": false,
    "pycharm": {
     "name": "#%%\n"
    }
   }
  },
  {
   "cell_type": "code",
   "execution_count": 15,
   "outputs": [
    {
     "data": {
      "text/plain": "          p_recall        delta learning_language ui_language  \\\n0         1.000000  7680.454167                de          en   \n1         0.500000  7680.454167                de          en   \n2         1.000000  7680.454167                de          en   \n3         0.500000  7680.454167                de          en   \n4         1.000000  7680.454167                de          en   \n...            ...          ...               ...         ...   \n12854221  0.800000     0.102222                en          it   \n12854222  0.800000     0.102222                en          it   \n12854223  1.000000     0.102222                en          it   \n12854224  0.600000     0.102222                en          it   \n12854225  0.666667     0.102222                en          it   \n\n                             lexeme_string  history_seen  history_correct  \\\n0         lernt/lernen<vblex><pri><p3><sg>             6                4   \n1            die/die<det><def><f><sg><nom>             4                4   \n2                 mann/mann<n><m><sg><nom>             5                4   \n3                 frau/frau<n><f><sg><nom>             6                5   \n4           das/das<det><def><nt><sg><nom>             4                4   \n...                                    ...           ...              ...   \n12854221             the/the<det><def><sp>             6                4   \n12854222              eat/eat<vblex><pres>             4                4   \n12854223                bread/bread<n><sg>             4                4   \n12854224          drink/drink<vblex><pres>             3                2   \n12854225                water/water<n><sg>             5                3   \n\n         surface_form root_form  \n0               lernt    lernen  \n1                 die       die  \n2                mann      mann  \n3                frau      frau  \n4                 das       das  \n...               ...       ...  \n12854221          the       the  \n12854222          eat       eat  \n12854223        bread     bread  \n12854224        drink     drink  \n12854225        water     water  \n\n[12836934 rows x 9 columns]",
      "text/html": "<div>\n<style scoped>\n    .dataframe tbody tr th:only-of-type {\n        vertical-align: middle;\n    }\n\n    .dataframe tbody tr th {\n        vertical-align: top;\n    }\n\n    .dataframe thead th {\n        text-align: right;\n    }\n</style>\n<table border=\"1\" class=\"dataframe\">\n  <thead>\n    <tr style=\"text-align: right;\">\n      <th></th>\n      <th>p_recall</th>\n      <th>delta</th>\n      <th>learning_language</th>\n      <th>ui_language</th>\n      <th>lexeme_string</th>\n      <th>history_seen</th>\n      <th>history_correct</th>\n      <th>surface_form</th>\n      <th>root_form</th>\n    </tr>\n  </thead>\n  <tbody>\n    <tr>\n      <th>0</th>\n      <td>1.000000</td>\n      <td>7680.454167</td>\n      <td>de</td>\n      <td>en</td>\n      <td>lernt/lernen&lt;vblex&gt;&lt;pri&gt;&lt;p3&gt;&lt;sg&gt;</td>\n      <td>6</td>\n      <td>4</td>\n      <td>lernt</td>\n      <td>lernen</td>\n    </tr>\n    <tr>\n      <th>1</th>\n      <td>0.500000</td>\n      <td>7680.454167</td>\n      <td>de</td>\n      <td>en</td>\n      <td>die/die&lt;det&gt;&lt;def&gt;&lt;f&gt;&lt;sg&gt;&lt;nom&gt;</td>\n      <td>4</td>\n      <td>4</td>\n      <td>die</td>\n      <td>die</td>\n    </tr>\n    <tr>\n      <th>2</th>\n      <td>1.000000</td>\n      <td>7680.454167</td>\n      <td>de</td>\n      <td>en</td>\n      <td>mann/mann&lt;n&gt;&lt;m&gt;&lt;sg&gt;&lt;nom&gt;</td>\n      <td>5</td>\n      <td>4</td>\n      <td>mann</td>\n      <td>mann</td>\n    </tr>\n    <tr>\n      <th>3</th>\n      <td>0.500000</td>\n      <td>7680.454167</td>\n      <td>de</td>\n      <td>en</td>\n      <td>frau/frau&lt;n&gt;&lt;f&gt;&lt;sg&gt;&lt;nom&gt;</td>\n      <td>6</td>\n      <td>5</td>\n      <td>frau</td>\n      <td>frau</td>\n    </tr>\n    <tr>\n      <th>4</th>\n      <td>1.000000</td>\n      <td>7680.454167</td>\n      <td>de</td>\n      <td>en</td>\n      <td>das/das&lt;det&gt;&lt;def&gt;&lt;nt&gt;&lt;sg&gt;&lt;nom&gt;</td>\n      <td>4</td>\n      <td>4</td>\n      <td>das</td>\n      <td>das</td>\n    </tr>\n    <tr>\n      <th>...</th>\n      <td>...</td>\n      <td>...</td>\n      <td>...</td>\n      <td>...</td>\n      <td>...</td>\n      <td>...</td>\n      <td>...</td>\n      <td>...</td>\n      <td>...</td>\n    </tr>\n    <tr>\n      <th>12854221</th>\n      <td>0.800000</td>\n      <td>0.102222</td>\n      <td>en</td>\n      <td>it</td>\n      <td>the/the&lt;det&gt;&lt;def&gt;&lt;sp&gt;</td>\n      <td>6</td>\n      <td>4</td>\n      <td>the</td>\n      <td>the</td>\n    </tr>\n    <tr>\n      <th>12854222</th>\n      <td>0.800000</td>\n      <td>0.102222</td>\n      <td>en</td>\n      <td>it</td>\n      <td>eat/eat&lt;vblex&gt;&lt;pres&gt;</td>\n      <td>4</td>\n      <td>4</td>\n      <td>eat</td>\n      <td>eat</td>\n    </tr>\n    <tr>\n      <th>12854223</th>\n      <td>1.000000</td>\n      <td>0.102222</td>\n      <td>en</td>\n      <td>it</td>\n      <td>bread/bread&lt;n&gt;&lt;sg&gt;</td>\n      <td>4</td>\n      <td>4</td>\n      <td>bread</td>\n      <td>bread</td>\n    </tr>\n    <tr>\n      <th>12854224</th>\n      <td>0.600000</td>\n      <td>0.102222</td>\n      <td>en</td>\n      <td>it</td>\n      <td>drink/drink&lt;vblex&gt;&lt;pres&gt;</td>\n      <td>3</td>\n      <td>2</td>\n      <td>drink</td>\n      <td>drink</td>\n    </tr>\n    <tr>\n      <th>12854225</th>\n      <td>0.666667</td>\n      <td>0.102222</td>\n      <td>en</td>\n      <td>it</td>\n      <td>water/water&lt;n&gt;&lt;sg&gt;</td>\n      <td>5</td>\n      <td>3</td>\n      <td>water</td>\n      <td>water</td>\n    </tr>\n  </tbody>\n</table>\n<p>12836934 rows × 9 columns</p>\n</div>"
     },
     "execution_count": 15,
     "metadata": {},
     "output_type": "execute_result"
    }
   ],
   "source": [
    "#zmazanie chybnych hodnot\n",
    "data.drop(data[data[\"root_form\"] == \"'\"].index, inplace=True)\n",
    "data.drop(data[data[\"root_form\"] == \"'s\"].index, inplace=True)\n",
    "data"
   ],
   "metadata": {
    "collapsed": false,
    "pycharm": {
     "name": "#%%\n"
    }
   }
  },
  {
   "cell_type": "code",
   "execution_count": 16,
   "outputs": [
    {
     "data": {
      "text/plain": "          p_recall        delta learning_language ui_language  \\\n0         1.000000  7680.454167                de          en   \n1         0.500000  7680.454167                de          en   \n2         1.000000  7680.454167                de          en   \n3         0.500000  7680.454167                de          en   \n4         1.000000  7680.454167                de          en   \n...            ...          ...               ...         ...   \n12854221  0.800000     0.102222                en          it   \n12854222  0.800000     0.102222                en          it   \n12854223  1.000000     0.102222                en          it   \n12854224  0.600000     0.102222                en          it   \n12854225  0.666667     0.102222                en          it   \n\n                             lexeme_string  history_seen  history_correct  \\\n0         lernt/lernen<vblex><pri><p3><sg>             6                4   \n1            die/die<det><def><f><sg><nom>             4                4   \n2                 mann/mann<n><m><sg><nom>             5                4   \n3                 frau/frau<n><f><sg><nom>             6                5   \n4           das/das<det><def><nt><sg><nom>             4                4   \n...                                    ...           ...              ...   \n12854221             the/the<det><def><sp>             6                4   \n12854222              eat/eat<vblex><pres>             4                4   \n12854223                bread/bread<n><sg>             4                4   \n12854224          drink/drink<vblex><pres>             3                2   \n12854225                water/water<n><sg>             5                3   \n\n         surface_form root_form  \n0               lernt    lernen  \n1                 die       die  \n2                mann      mann  \n3                frau      frau  \n4                 das       das  \n...               ...       ...  \n12854221          the       the  \n12854222          eat       eat  \n12854223        bread     bread  \n12854224        drink     drink  \n12854225        water     water  \n\n[12836934 rows x 9 columns]",
      "text/html": "<div>\n<style scoped>\n    .dataframe tbody tr th:only-of-type {\n        vertical-align: middle;\n    }\n\n    .dataframe tbody tr th {\n        vertical-align: top;\n    }\n\n    .dataframe thead th {\n        text-align: right;\n    }\n</style>\n<table border=\"1\" class=\"dataframe\">\n  <thead>\n    <tr style=\"text-align: right;\">\n      <th></th>\n      <th>p_recall</th>\n      <th>delta</th>\n      <th>learning_language</th>\n      <th>ui_language</th>\n      <th>lexeme_string</th>\n      <th>history_seen</th>\n      <th>history_correct</th>\n      <th>surface_form</th>\n      <th>root_form</th>\n    </tr>\n  </thead>\n  <tbody>\n    <tr>\n      <th>0</th>\n      <td>1.000000</td>\n      <td>7680.454167</td>\n      <td>de</td>\n      <td>en</td>\n      <td>lernt/lernen&lt;vblex&gt;&lt;pri&gt;&lt;p3&gt;&lt;sg&gt;</td>\n      <td>6</td>\n      <td>4</td>\n      <td>lernt</td>\n      <td>lernen</td>\n    </tr>\n    <tr>\n      <th>1</th>\n      <td>0.500000</td>\n      <td>7680.454167</td>\n      <td>de</td>\n      <td>en</td>\n      <td>die/die&lt;det&gt;&lt;def&gt;&lt;f&gt;&lt;sg&gt;&lt;nom&gt;</td>\n      <td>4</td>\n      <td>4</td>\n      <td>die</td>\n      <td>die</td>\n    </tr>\n    <tr>\n      <th>2</th>\n      <td>1.000000</td>\n      <td>7680.454167</td>\n      <td>de</td>\n      <td>en</td>\n      <td>mann/mann&lt;n&gt;&lt;m&gt;&lt;sg&gt;&lt;nom&gt;</td>\n      <td>5</td>\n      <td>4</td>\n      <td>mann</td>\n      <td>mann</td>\n    </tr>\n    <tr>\n      <th>3</th>\n      <td>0.500000</td>\n      <td>7680.454167</td>\n      <td>de</td>\n      <td>en</td>\n      <td>frau/frau&lt;n&gt;&lt;f&gt;&lt;sg&gt;&lt;nom&gt;</td>\n      <td>6</td>\n      <td>5</td>\n      <td>frau</td>\n      <td>frau</td>\n    </tr>\n    <tr>\n      <th>4</th>\n      <td>1.000000</td>\n      <td>7680.454167</td>\n      <td>de</td>\n      <td>en</td>\n      <td>das/das&lt;det&gt;&lt;def&gt;&lt;nt&gt;&lt;sg&gt;&lt;nom&gt;</td>\n      <td>4</td>\n      <td>4</td>\n      <td>das</td>\n      <td>das</td>\n    </tr>\n    <tr>\n      <th>...</th>\n      <td>...</td>\n      <td>...</td>\n      <td>...</td>\n      <td>...</td>\n      <td>...</td>\n      <td>...</td>\n      <td>...</td>\n      <td>...</td>\n      <td>...</td>\n    </tr>\n    <tr>\n      <th>12854221</th>\n      <td>0.800000</td>\n      <td>0.102222</td>\n      <td>en</td>\n      <td>it</td>\n      <td>the/the&lt;det&gt;&lt;def&gt;&lt;sp&gt;</td>\n      <td>6</td>\n      <td>4</td>\n      <td>the</td>\n      <td>the</td>\n    </tr>\n    <tr>\n      <th>12854222</th>\n      <td>0.800000</td>\n      <td>0.102222</td>\n      <td>en</td>\n      <td>it</td>\n      <td>eat/eat&lt;vblex&gt;&lt;pres&gt;</td>\n      <td>4</td>\n      <td>4</td>\n      <td>eat</td>\n      <td>eat</td>\n    </tr>\n    <tr>\n      <th>12854223</th>\n      <td>1.000000</td>\n      <td>0.102222</td>\n      <td>en</td>\n      <td>it</td>\n      <td>bread/bread&lt;n&gt;&lt;sg&gt;</td>\n      <td>4</td>\n      <td>4</td>\n      <td>bread</td>\n      <td>bread</td>\n    </tr>\n    <tr>\n      <th>12854224</th>\n      <td>0.600000</td>\n      <td>0.102222</td>\n      <td>en</td>\n      <td>it</td>\n      <td>drink/drink&lt;vblex&gt;&lt;pres&gt;</td>\n      <td>3</td>\n      <td>2</td>\n      <td>drink</td>\n      <td>drink</td>\n    </tr>\n    <tr>\n      <th>12854225</th>\n      <td>0.666667</td>\n      <td>0.102222</td>\n      <td>en</td>\n      <td>it</td>\n      <td>water/water&lt;n&gt;&lt;sg&gt;</td>\n      <td>5</td>\n      <td>3</td>\n      <td>water</td>\n      <td>water</td>\n    </tr>\n  </tbody>\n</table>\n<p>12836934 rows × 9 columns</p>\n</div>"
     },
     "execution_count": 16,
     "metadata": {},
     "output_type": "execute_result"
    }
   ],
   "source": [
    "#nahradenie hodnot \"<*sf>\" v atribute surface_form hodnotou z atributu root_form\n",
    "data['surface_form'] = np.where(data['surface_form'] == \"<*sf>\", data['root_form'], data['surface_form'])\n",
    "data"
   ],
   "metadata": {
    "collapsed": false,
    "pycharm": {
     "name": "#%%\n"
    }
   }
  },
  {
   "cell_type": "code",
   "execution_count": 17,
   "outputs": [
    {
     "data": {
      "text/plain": "          p_recall        delta learning_language ui_language  \\\n0         1.000000  7680.454167                de          en   \n1         0.500000  7680.454167                de          en   \n2         1.000000  7680.454167                de          en   \n3         0.500000  7680.454167                de          en   \n4         1.000000  7680.454167                de          en   \n...            ...          ...               ...         ...   \n12854221  0.800000     0.102222                en          it   \n12854222  0.800000     0.102222                en          it   \n12854223  1.000000     0.102222                en          it   \n12854224  0.600000     0.102222                en          it   \n12854225  0.666667     0.102222                en          it   \n\n                             lexeme_string  history_seen  history_correct  \\\n0         lernt/lernen<vblex><pri><p3><sg>             6                4   \n1            die/die<det><def><f><sg><nom>             4                4   \n2                 mann/mann<n><m><sg><nom>             5                4   \n3                 frau/frau<n><f><sg><nom>             6                5   \n4           das/das<det><def><nt><sg><nom>             4                4   \n...                                    ...           ...              ...   \n12854221             the/the<det><def><sp>             6                4   \n12854222              eat/eat<vblex><pres>             4                4   \n12854223                bread/bread<n><sg>             4                4   \n12854224          drink/drink<vblex><pres>             3                2   \n12854225                water/water<n><sg>             5                3   \n\n         surface_form root_form          modifiers_split  \n0               lernt    lernen     <vblex><pri><p3><sg>  \n1                 die       die   <det><def><f><sg><nom>  \n2                mann      mann          <n><m><sg><nom>  \n3                frau      frau          <n><f><sg><nom>  \n4                 das       das  <det><def><nt><sg><nom>  \n...               ...       ...                      ...  \n12854221          the       the           <det><def><sp>  \n12854222          eat       eat            <vblex><pres>  \n12854223        bread     bread                  <n><sg>  \n12854224        drink     drink            <vblex><pres>  \n12854225        water     water                  <n><sg>  \n\n[12836934 rows x 10 columns]",
      "text/html": "<div>\n<style scoped>\n    .dataframe tbody tr th:only-of-type {\n        vertical-align: middle;\n    }\n\n    .dataframe tbody tr th {\n        vertical-align: top;\n    }\n\n    .dataframe thead th {\n        text-align: right;\n    }\n</style>\n<table border=\"1\" class=\"dataframe\">\n  <thead>\n    <tr style=\"text-align: right;\">\n      <th></th>\n      <th>p_recall</th>\n      <th>delta</th>\n      <th>learning_language</th>\n      <th>ui_language</th>\n      <th>lexeme_string</th>\n      <th>history_seen</th>\n      <th>history_correct</th>\n      <th>surface_form</th>\n      <th>root_form</th>\n      <th>modifiers_split</th>\n    </tr>\n  </thead>\n  <tbody>\n    <tr>\n      <th>0</th>\n      <td>1.000000</td>\n      <td>7680.454167</td>\n      <td>de</td>\n      <td>en</td>\n      <td>lernt/lernen&lt;vblex&gt;&lt;pri&gt;&lt;p3&gt;&lt;sg&gt;</td>\n      <td>6</td>\n      <td>4</td>\n      <td>lernt</td>\n      <td>lernen</td>\n      <td>&lt;vblex&gt;&lt;pri&gt;&lt;p3&gt;&lt;sg&gt;</td>\n    </tr>\n    <tr>\n      <th>1</th>\n      <td>0.500000</td>\n      <td>7680.454167</td>\n      <td>de</td>\n      <td>en</td>\n      <td>die/die&lt;det&gt;&lt;def&gt;&lt;f&gt;&lt;sg&gt;&lt;nom&gt;</td>\n      <td>4</td>\n      <td>4</td>\n      <td>die</td>\n      <td>die</td>\n      <td>&lt;det&gt;&lt;def&gt;&lt;f&gt;&lt;sg&gt;&lt;nom&gt;</td>\n    </tr>\n    <tr>\n      <th>2</th>\n      <td>1.000000</td>\n      <td>7680.454167</td>\n      <td>de</td>\n      <td>en</td>\n      <td>mann/mann&lt;n&gt;&lt;m&gt;&lt;sg&gt;&lt;nom&gt;</td>\n      <td>5</td>\n      <td>4</td>\n      <td>mann</td>\n      <td>mann</td>\n      <td>&lt;n&gt;&lt;m&gt;&lt;sg&gt;&lt;nom&gt;</td>\n    </tr>\n    <tr>\n      <th>3</th>\n      <td>0.500000</td>\n      <td>7680.454167</td>\n      <td>de</td>\n      <td>en</td>\n      <td>frau/frau&lt;n&gt;&lt;f&gt;&lt;sg&gt;&lt;nom&gt;</td>\n      <td>6</td>\n      <td>5</td>\n      <td>frau</td>\n      <td>frau</td>\n      <td>&lt;n&gt;&lt;f&gt;&lt;sg&gt;&lt;nom&gt;</td>\n    </tr>\n    <tr>\n      <th>4</th>\n      <td>1.000000</td>\n      <td>7680.454167</td>\n      <td>de</td>\n      <td>en</td>\n      <td>das/das&lt;det&gt;&lt;def&gt;&lt;nt&gt;&lt;sg&gt;&lt;nom&gt;</td>\n      <td>4</td>\n      <td>4</td>\n      <td>das</td>\n      <td>das</td>\n      <td>&lt;det&gt;&lt;def&gt;&lt;nt&gt;&lt;sg&gt;&lt;nom&gt;</td>\n    </tr>\n    <tr>\n      <th>...</th>\n      <td>...</td>\n      <td>...</td>\n      <td>...</td>\n      <td>...</td>\n      <td>...</td>\n      <td>...</td>\n      <td>...</td>\n      <td>...</td>\n      <td>...</td>\n      <td>...</td>\n    </tr>\n    <tr>\n      <th>12854221</th>\n      <td>0.800000</td>\n      <td>0.102222</td>\n      <td>en</td>\n      <td>it</td>\n      <td>the/the&lt;det&gt;&lt;def&gt;&lt;sp&gt;</td>\n      <td>6</td>\n      <td>4</td>\n      <td>the</td>\n      <td>the</td>\n      <td>&lt;det&gt;&lt;def&gt;&lt;sp&gt;</td>\n    </tr>\n    <tr>\n      <th>12854222</th>\n      <td>0.800000</td>\n      <td>0.102222</td>\n      <td>en</td>\n      <td>it</td>\n      <td>eat/eat&lt;vblex&gt;&lt;pres&gt;</td>\n      <td>4</td>\n      <td>4</td>\n      <td>eat</td>\n      <td>eat</td>\n      <td>&lt;vblex&gt;&lt;pres&gt;</td>\n    </tr>\n    <tr>\n      <th>12854223</th>\n      <td>1.000000</td>\n      <td>0.102222</td>\n      <td>en</td>\n      <td>it</td>\n      <td>bread/bread&lt;n&gt;&lt;sg&gt;</td>\n      <td>4</td>\n      <td>4</td>\n      <td>bread</td>\n      <td>bread</td>\n      <td>&lt;n&gt;&lt;sg&gt;</td>\n    </tr>\n    <tr>\n      <th>12854224</th>\n      <td>0.600000</td>\n      <td>0.102222</td>\n      <td>en</td>\n      <td>it</td>\n      <td>drink/drink&lt;vblex&gt;&lt;pres&gt;</td>\n      <td>3</td>\n      <td>2</td>\n      <td>drink</td>\n      <td>drink</td>\n      <td>&lt;vblex&gt;&lt;pres&gt;</td>\n    </tr>\n    <tr>\n      <th>12854225</th>\n      <td>0.666667</td>\n      <td>0.102222</td>\n      <td>en</td>\n      <td>it</td>\n      <td>water/water&lt;n&gt;&lt;sg&gt;</td>\n      <td>5</td>\n      <td>3</td>\n      <td>water</td>\n      <td>water</td>\n      <td>&lt;n&gt;&lt;sg&gt;</td>\n    </tr>\n  </tbody>\n</table>\n<p>12836934 rows × 10 columns</p>\n</div>"
     },
     "execution_count": 17,
     "metadata": {},
     "output_type": "execute_result"
    }
   ],
   "source": [
    "#vyextrahovanie lexemovych vlastnosti z atributu lexeme_string\n",
    "\n",
    "def regex_modifiers(lexeme):\n",
    "    modifiers_split = re.findall(r'\\<.*?\\>', lexeme)\n",
    "    modifiers_string = \"\"\n",
    "\n",
    "    for modifier in modifiers_split:\n",
    "        modifiers_string = modifiers_string + modifier\n",
    "    return modifiers_string\n",
    "\n",
    "\n",
    "data[\"modifiers_split\"] = data[\"lexeme_string\"].apply(regex_modifiers)\n",
    "data"
   ],
   "metadata": {
    "collapsed": false,
    "pycharm": {
     "name": "#%%\n"
    }
   }
  },
  {
   "cell_type": "code",
   "execution_count": 18,
   "outputs": [
    {
     "data": {
      "text/plain": "          p_recall        delta learning_language ui_language  history_seen  \\\n0         1.000000  7680.454167                de          en             6   \n1         0.500000  7680.454167                de          en             4   \n2         1.000000  7680.454167                de          en             5   \n3         0.500000  7680.454167                de          en             6   \n4         1.000000  7680.454167                de          en             4   \n...            ...          ...               ...         ...           ...   \n12854221  0.800000     0.102222                en          it             6   \n12854222  0.800000     0.102222                en          it             4   \n12854223  1.000000     0.102222                en          it             4   \n12854224  0.600000     0.102222                en          it             3   \n12854225  0.666667     0.102222                en          it             5   \n\n          history_correct surface_form root_form          modifiers_split  \n0                       4        lernt    lernen     <vblex><pri><p3><sg>  \n1                       4          die       die   <det><def><f><sg><nom>  \n2                       4         mann      mann          <n><m><sg><nom>  \n3                       5         frau      frau          <n><f><sg><nom>  \n4                       4          das       das  <det><def><nt><sg><nom>  \n...                   ...          ...       ...                      ...  \n12854221                4          the       the           <det><def><sp>  \n12854222                4          eat       eat            <vblex><pres>  \n12854223                4        bread     bread                  <n><sg>  \n12854224                2        drink     drink            <vblex><pres>  \n12854225                3        water     water                  <n><sg>  \n\n[12836934 rows x 9 columns]",
      "text/html": "<div>\n<style scoped>\n    .dataframe tbody tr th:only-of-type {\n        vertical-align: middle;\n    }\n\n    .dataframe tbody tr th {\n        vertical-align: top;\n    }\n\n    .dataframe thead th {\n        text-align: right;\n    }\n</style>\n<table border=\"1\" class=\"dataframe\">\n  <thead>\n    <tr style=\"text-align: right;\">\n      <th></th>\n      <th>p_recall</th>\n      <th>delta</th>\n      <th>learning_language</th>\n      <th>ui_language</th>\n      <th>history_seen</th>\n      <th>history_correct</th>\n      <th>surface_form</th>\n      <th>root_form</th>\n      <th>modifiers_split</th>\n    </tr>\n  </thead>\n  <tbody>\n    <tr>\n      <th>0</th>\n      <td>1.000000</td>\n      <td>7680.454167</td>\n      <td>de</td>\n      <td>en</td>\n      <td>6</td>\n      <td>4</td>\n      <td>lernt</td>\n      <td>lernen</td>\n      <td>&lt;vblex&gt;&lt;pri&gt;&lt;p3&gt;&lt;sg&gt;</td>\n    </tr>\n    <tr>\n      <th>1</th>\n      <td>0.500000</td>\n      <td>7680.454167</td>\n      <td>de</td>\n      <td>en</td>\n      <td>4</td>\n      <td>4</td>\n      <td>die</td>\n      <td>die</td>\n      <td>&lt;det&gt;&lt;def&gt;&lt;f&gt;&lt;sg&gt;&lt;nom&gt;</td>\n    </tr>\n    <tr>\n      <th>2</th>\n      <td>1.000000</td>\n      <td>7680.454167</td>\n      <td>de</td>\n      <td>en</td>\n      <td>5</td>\n      <td>4</td>\n      <td>mann</td>\n      <td>mann</td>\n      <td>&lt;n&gt;&lt;m&gt;&lt;sg&gt;&lt;nom&gt;</td>\n    </tr>\n    <tr>\n      <th>3</th>\n      <td>0.500000</td>\n      <td>7680.454167</td>\n      <td>de</td>\n      <td>en</td>\n      <td>6</td>\n      <td>5</td>\n      <td>frau</td>\n      <td>frau</td>\n      <td>&lt;n&gt;&lt;f&gt;&lt;sg&gt;&lt;nom&gt;</td>\n    </tr>\n    <tr>\n      <th>4</th>\n      <td>1.000000</td>\n      <td>7680.454167</td>\n      <td>de</td>\n      <td>en</td>\n      <td>4</td>\n      <td>4</td>\n      <td>das</td>\n      <td>das</td>\n      <td>&lt;det&gt;&lt;def&gt;&lt;nt&gt;&lt;sg&gt;&lt;nom&gt;</td>\n    </tr>\n    <tr>\n      <th>...</th>\n      <td>...</td>\n      <td>...</td>\n      <td>...</td>\n      <td>...</td>\n      <td>...</td>\n      <td>...</td>\n      <td>...</td>\n      <td>...</td>\n      <td>...</td>\n    </tr>\n    <tr>\n      <th>12854221</th>\n      <td>0.800000</td>\n      <td>0.102222</td>\n      <td>en</td>\n      <td>it</td>\n      <td>6</td>\n      <td>4</td>\n      <td>the</td>\n      <td>the</td>\n      <td>&lt;det&gt;&lt;def&gt;&lt;sp&gt;</td>\n    </tr>\n    <tr>\n      <th>12854222</th>\n      <td>0.800000</td>\n      <td>0.102222</td>\n      <td>en</td>\n      <td>it</td>\n      <td>4</td>\n      <td>4</td>\n      <td>eat</td>\n      <td>eat</td>\n      <td>&lt;vblex&gt;&lt;pres&gt;</td>\n    </tr>\n    <tr>\n      <th>12854223</th>\n      <td>1.000000</td>\n      <td>0.102222</td>\n      <td>en</td>\n      <td>it</td>\n      <td>4</td>\n      <td>4</td>\n      <td>bread</td>\n      <td>bread</td>\n      <td>&lt;n&gt;&lt;sg&gt;</td>\n    </tr>\n    <tr>\n      <th>12854224</th>\n      <td>0.600000</td>\n      <td>0.102222</td>\n      <td>en</td>\n      <td>it</td>\n      <td>3</td>\n      <td>2</td>\n      <td>drink</td>\n      <td>drink</td>\n      <td>&lt;vblex&gt;&lt;pres&gt;</td>\n    </tr>\n    <tr>\n      <th>12854225</th>\n      <td>0.666667</td>\n      <td>0.102222</td>\n      <td>en</td>\n      <td>it</td>\n      <td>5</td>\n      <td>3</td>\n      <td>water</td>\n      <td>water</td>\n      <td>&lt;n&gt;&lt;sg&gt;</td>\n    </tr>\n  </tbody>\n</table>\n<p>12836934 rows × 9 columns</p>\n</div>"
     },
     "execution_count": 18,
     "metadata": {},
     "output_type": "execute_result"
    }
   ],
   "source": [
    "#Zmazeme lexeme_string pretoze ho uz nepotrebujeme\n",
    "del data[\"lexeme_string\"]\n",
    "data"
   ],
   "metadata": {
    "collapsed": false,
    "pycharm": {
     "name": "#%%\n"
    }
   }
  },
  {
   "cell_type": "code",
   "execution_count": 19,
   "outputs": [
    {
     "data": {
      "text/plain": "          p_recall        delta learning_language ui_language  history_seen  \\\n0         1.000000  7680.454167                de          en             6   \n1         0.500000  7680.454167                de          en             4   \n2         1.000000  7680.454167                de          en             5   \n3         0.500000  7680.454167                de          en             6   \n4         1.000000  7680.454167                de          en             4   \n...            ...          ...               ...         ...           ...   \n12854221  0.800000     0.102222                en          it             6   \n12854222  0.800000     0.102222                en          it             4   \n12854223  1.000000     0.102222                en          it             4   \n12854224  0.600000     0.102222                en          it             3   \n12854225  0.666667     0.102222                en          it             5   \n\n          history_correct surface_form root_form          modifiers_split  \\\n0                       4        lernt    lernen     <vblex><pri><p3><sg>   \n1                       4          die       die   <det><def><f><sg><nom>   \n2                       4         mann      mann          <n><m><sg><nom>   \n3                       5         frau      frau          <n><f><sg><nom>   \n4                       4          das       das  <det><def><nt><sg><nom>   \n...                   ...          ...       ...                      ...   \n12854221                4          the       the           <det><def><sp>   \n12854222                4          eat       eat            <vblex><pres>   \n12854223                4        bread     bread                  <n><sg>   \n12854224                2        drink     drink            <vblex><pres>   \n12854225                3        water     water                  <n><sg>   \n\n          history_incorrect  word_length  differs_from_root  passed  \n0                         2            5                  1       1  \n1                         0            3                  0       0  \n2                         1            4                  0       1  \n3                         1            4                  0       0  \n4                         0            3                  0       1  \n...                     ...          ...                ...     ...  \n12854221                  2            3                  0       0  \n12854222                  0            3                  0       0  \n12854223                  0            5                  0       1  \n12854224                  1            5                  0       0  \n12854225                  2            5                  0       0  \n\n[12836934 rows x 13 columns]",
      "text/html": "<div>\n<style scoped>\n    .dataframe tbody tr th:only-of-type {\n        vertical-align: middle;\n    }\n\n    .dataframe tbody tr th {\n        vertical-align: top;\n    }\n\n    .dataframe thead th {\n        text-align: right;\n    }\n</style>\n<table border=\"1\" class=\"dataframe\">\n  <thead>\n    <tr style=\"text-align: right;\">\n      <th></th>\n      <th>p_recall</th>\n      <th>delta</th>\n      <th>learning_language</th>\n      <th>ui_language</th>\n      <th>history_seen</th>\n      <th>history_correct</th>\n      <th>surface_form</th>\n      <th>root_form</th>\n      <th>modifiers_split</th>\n      <th>history_incorrect</th>\n      <th>word_length</th>\n      <th>differs_from_root</th>\n      <th>passed</th>\n    </tr>\n  </thead>\n  <tbody>\n    <tr>\n      <th>0</th>\n      <td>1.000000</td>\n      <td>7680.454167</td>\n      <td>de</td>\n      <td>en</td>\n      <td>6</td>\n      <td>4</td>\n      <td>lernt</td>\n      <td>lernen</td>\n      <td>&lt;vblex&gt;&lt;pri&gt;&lt;p3&gt;&lt;sg&gt;</td>\n      <td>2</td>\n      <td>5</td>\n      <td>1</td>\n      <td>1</td>\n    </tr>\n    <tr>\n      <th>1</th>\n      <td>0.500000</td>\n      <td>7680.454167</td>\n      <td>de</td>\n      <td>en</td>\n      <td>4</td>\n      <td>4</td>\n      <td>die</td>\n      <td>die</td>\n      <td>&lt;det&gt;&lt;def&gt;&lt;f&gt;&lt;sg&gt;&lt;nom&gt;</td>\n      <td>0</td>\n      <td>3</td>\n      <td>0</td>\n      <td>0</td>\n    </tr>\n    <tr>\n      <th>2</th>\n      <td>1.000000</td>\n      <td>7680.454167</td>\n      <td>de</td>\n      <td>en</td>\n      <td>5</td>\n      <td>4</td>\n      <td>mann</td>\n      <td>mann</td>\n      <td>&lt;n&gt;&lt;m&gt;&lt;sg&gt;&lt;nom&gt;</td>\n      <td>1</td>\n      <td>4</td>\n      <td>0</td>\n      <td>1</td>\n    </tr>\n    <tr>\n      <th>3</th>\n      <td>0.500000</td>\n      <td>7680.454167</td>\n      <td>de</td>\n      <td>en</td>\n      <td>6</td>\n      <td>5</td>\n      <td>frau</td>\n      <td>frau</td>\n      <td>&lt;n&gt;&lt;f&gt;&lt;sg&gt;&lt;nom&gt;</td>\n      <td>1</td>\n      <td>4</td>\n      <td>0</td>\n      <td>0</td>\n    </tr>\n    <tr>\n      <th>4</th>\n      <td>1.000000</td>\n      <td>7680.454167</td>\n      <td>de</td>\n      <td>en</td>\n      <td>4</td>\n      <td>4</td>\n      <td>das</td>\n      <td>das</td>\n      <td>&lt;det&gt;&lt;def&gt;&lt;nt&gt;&lt;sg&gt;&lt;nom&gt;</td>\n      <td>0</td>\n      <td>3</td>\n      <td>0</td>\n      <td>1</td>\n    </tr>\n    <tr>\n      <th>...</th>\n      <td>...</td>\n      <td>...</td>\n      <td>...</td>\n      <td>...</td>\n      <td>...</td>\n      <td>...</td>\n      <td>...</td>\n      <td>...</td>\n      <td>...</td>\n      <td>...</td>\n      <td>...</td>\n      <td>...</td>\n      <td>...</td>\n    </tr>\n    <tr>\n      <th>12854221</th>\n      <td>0.800000</td>\n      <td>0.102222</td>\n      <td>en</td>\n      <td>it</td>\n      <td>6</td>\n      <td>4</td>\n      <td>the</td>\n      <td>the</td>\n      <td>&lt;det&gt;&lt;def&gt;&lt;sp&gt;</td>\n      <td>2</td>\n      <td>3</td>\n      <td>0</td>\n      <td>0</td>\n    </tr>\n    <tr>\n      <th>12854222</th>\n      <td>0.800000</td>\n      <td>0.102222</td>\n      <td>en</td>\n      <td>it</td>\n      <td>4</td>\n      <td>4</td>\n      <td>eat</td>\n      <td>eat</td>\n      <td>&lt;vblex&gt;&lt;pres&gt;</td>\n      <td>0</td>\n      <td>3</td>\n      <td>0</td>\n      <td>0</td>\n    </tr>\n    <tr>\n      <th>12854223</th>\n      <td>1.000000</td>\n      <td>0.102222</td>\n      <td>en</td>\n      <td>it</td>\n      <td>4</td>\n      <td>4</td>\n      <td>bread</td>\n      <td>bread</td>\n      <td>&lt;n&gt;&lt;sg&gt;</td>\n      <td>0</td>\n      <td>5</td>\n      <td>0</td>\n      <td>1</td>\n    </tr>\n    <tr>\n      <th>12854224</th>\n      <td>0.600000</td>\n      <td>0.102222</td>\n      <td>en</td>\n      <td>it</td>\n      <td>3</td>\n      <td>2</td>\n      <td>drink</td>\n      <td>drink</td>\n      <td>&lt;vblex&gt;&lt;pres&gt;</td>\n      <td>1</td>\n      <td>5</td>\n      <td>0</td>\n      <td>0</td>\n    </tr>\n    <tr>\n      <th>12854225</th>\n      <td>0.666667</td>\n      <td>0.102222</td>\n      <td>en</td>\n      <td>it</td>\n      <td>5</td>\n      <td>3</td>\n      <td>water</td>\n      <td>water</td>\n      <td>&lt;n&gt;&lt;sg&gt;</td>\n      <td>2</td>\n      <td>5</td>\n      <td>0</td>\n      <td>0</td>\n    </tr>\n  </tbody>\n</table>\n<p>12836934 rows × 13 columns</p>\n</div>"
     },
     "execution_count": 19,
     "metadata": {},
     "output_type": "execute_result"
    }
   ],
   "source": [
    "#odvodenie atributov history_incorrect, word_length, differs_from_root, passed\n",
    "data[\"history_incorrect\"] = data[\"history_seen\"] - data[\"history_correct\"]\n",
    "data[\"word_length\"] = data[\"surface_form\"].apply(len)\n",
    "data[\"differs_from_root\"] = ((data[\"surface_form\"] != data[\"root_form\"]).astype(int))\n",
    "data[\"passed\"] = data[\"p_recall\"].apply(lambda x: 1 if x == 1 else 0)\n",
    "data"
   ],
   "metadata": {
    "collapsed": false,
    "pycharm": {
     "name": "#%%\n"
    }
   }
  },
  {
   "cell_type": "code",
   "execution_count": 20,
   "outputs": [
    {
     "data": {
      "text/plain": "          p_recall        delta learning_language ui_language  history_seen  \\\n0         1.000000  7680.454167                de          en             6   \n1         0.500000  7680.454167                de          en             4   \n2         1.000000  7680.454167                de          en             5   \n3         0.500000  7680.454167                de          en             6   \n4         1.000000  7680.454167                de          en             4   \n...            ...          ...               ...         ...           ...   \n12854221  0.800000     0.102222                en          it             6   \n12854222  0.800000     0.102222                en          it             4   \n12854223  1.000000     0.102222                en          it             4   \n12854224  0.600000     0.102222                en          it             3   \n12854225  0.666667     0.102222                en          it             5   \n\n          history_correct surface_form root_form          modifiers_split  \\\n0                       4        lernt    lernen     <vblex><pri><p3><sg>   \n1                       4          die       die   <det><def><f><sg><nom>   \n2                       4         mann      mann          <n><m><sg><nom>   \n3                       5         frau      frau          <n><f><sg><nom>   \n4                       4          das       das  <det><def><nt><sg><nom>   \n...                   ...          ...       ...                      ...   \n12854221                4          the       the           <det><def><sp>   \n12854222                4          eat       eat            <vblex><pres>   \n12854223                4        bread     bread                  <n><sg>   \n12854224                2        drink     drink            <vblex><pres>   \n12854225                3        water     water                  <n><sg>   \n\n          history_incorrect  ...  preposition  pronoun  adjective  determiner  \\\n0                         2  ...            0        0          0           0   \n1                         0  ...            0        0          0           1   \n2                         1  ...            0        0          0           0   \n3                         1  ...            0        0          0           0   \n4                         0  ...            0        0          0           1   \n...                     ...  ...          ...      ...        ...         ...   \n12854221                  2  ...            0        0          0           1   \n12854222                  0  ...            0        0          0           0   \n12854223                  0  ...            0        0          0           0   \n12854224                  1  ...            0        0          0           0   \n12854225                  2  ...            0        0          0           0   \n\n          adverb  conjunction  interjection  plural  number  phrase  \n0              0            0             0       0       0       0  \n1              0            0             0       0       0       0  \n2              0            0             0       0       0       0  \n3              0            0             0       0       0       0  \n4              0            0             0       0       0       0  \n...          ...          ...           ...     ...     ...     ...  \n12854221       0            0             0       0       0       0  \n12854222       0            0             0       0       0       0  \n12854223       0            0             0       0       0       0  \n12854224       0            0             0       0       0       0  \n12854225       0            0             0       0       0       0  \n\n[12836934 rows x 25 columns]",
      "text/html": "<div>\n<style scoped>\n    .dataframe tbody tr th:only-of-type {\n        vertical-align: middle;\n    }\n\n    .dataframe tbody tr th {\n        vertical-align: top;\n    }\n\n    .dataframe thead th {\n        text-align: right;\n    }\n</style>\n<table border=\"1\" class=\"dataframe\">\n  <thead>\n    <tr style=\"text-align: right;\">\n      <th></th>\n      <th>p_recall</th>\n      <th>delta</th>\n      <th>learning_language</th>\n      <th>ui_language</th>\n      <th>history_seen</th>\n      <th>history_correct</th>\n      <th>surface_form</th>\n      <th>root_form</th>\n      <th>modifiers_split</th>\n      <th>history_incorrect</th>\n      <th>...</th>\n      <th>preposition</th>\n      <th>pronoun</th>\n      <th>adjective</th>\n      <th>determiner</th>\n      <th>adverb</th>\n      <th>conjunction</th>\n      <th>interjection</th>\n      <th>plural</th>\n      <th>number</th>\n      <th>phrase</th>\n    </tr>\n  </thead>\n  <tbody>\n    <tr>\n      <th>0</th>\n      <td>1.000000</td>\n      <td>7680.454167</td>\n      <td>de</td>\n      <td>en</td>\n      <td>6</td>\n      <td>4</td>\n      <td>lernt</td>\n      <td>lernen</td>\n      <td>&lt;vblex&gt;&lt;pri&gt;&lt;p3&gt;&lt;sg&gt;</td>\n      <td>2</td>\n      <td>...</td>\n      <td>0</td>\n      <td>0</td>\n      <td>0</td>\n      <td>0</td>\n      <td>0</td>\n      <td>0</td>\n      <td>0</td>\n      <td>0</td>\n      <td>0</td>\n      <td>0</td>\n    </tr>\n    <tr>\n      <th>1</th>\n      <td>0.500000</td>\n      <td>7680.454167</td>\n      <td>de</td>\n      <td>en</td>\n      <td>4</td>\n      <td>4</td>\n      <td>die</td>\n      <td>die</td>\n      <td>&lt;det&gt;&lt;def&gt;&lt;f&gt;&lt;sg&gt;&lt;nom&gt;</td>\n      <td>0</td>\n      <td>...</td>\n      <td>0</td>\n      <td>0</td>\n      <td>0</td>\n      <td>1</td>\n      <td>0</td>\n      <td>0</td>\n      <td>0</td>\n      <td>0</td>\n      <td>0</td>\n      <td>0</td>\n    </tr>\n    <tr>\n      <th>2</th>\n      <td>1.000000</td>\n      <td>7680.454167</td>\n      <td>de</td>\n      <td>en</td>\n      <td>5</td>\n      <td>4</td>\n      <td>mann</td>\n      <td>mann</td>\n      <td>&lt;n&gt;&lt;m&gt;&lt;sg&gt;&lt;nom&gt;</td>\n      <td>1</td>\n      <td>...</td>\n      <td>0</td>\n      <td>0</td>\n      <td>0</td>\n      <td>0</td>\n      <td>0</td>\n      <td>0</td>\n      <td>0</td>\n      <td>0</td>\n      <td>0</td>\n      <td>0</td>\n    </tr>\n    <tr>\n      <th>3</th>\n      <td>0.500000</td>\n      <td>7680.454167</td>\n      <td>de</td>\n      <td>en</td>\n      <td>6</td>\n      <td>5</td>\n      <td>frau</td>\n      <td>frau</td>\n      <td>&lt;n&gt;&lt;f&gt;&lt;sg&gt;&lt;nom&gt;</td>\n      <td>1</td>\n      <td>...</td>\n      <td>0</td>\n      <td>0</td>\n      <td>0</td>\n      <td>0</td>\n      <td>0</td>\n      <td>0</td>\n      <td>0</td>\n      <td>0</td>\n      <td>0</td>\n      <td>0</td>\n    </tr>\n    <tr>\n      <th>4</th>\n      <td>1.000000</td>\n      <td>7680.454167</td>\n      <td>de</td>\n      <td>en</td>\n      <td>4</td>\n      <td>4</td>\n      <td>das</td>\n      <td>das</td>\n      <td>&lt;det&gt;&lt;def&gt;&lt;nt&gt;&lt;sg&gt;&lt;nom&gt;</td>\n      <td>0</td>\n      <td>...</td>\n      <td>0</td>\n      <td>0</td>\n      <td>0</td>\n      <td>1</td>\n      <td>0</td>\n      <td>0</td>\n      <td>0</td>\n      <td>0</td>\n      <td>0</td>\n      <td>0</td>\n    </tr>\n    <tr>\n      <th>...</th>\n      <td>...</td>\n      <td>...</td>\n      <td>...</td>\n      <td>...</td>\n      <td>...</td>\n      <td>...</td>\n      <td>...</td>\n      <td>...</td>\n      <td>...</td>\n      <td>...</td>\n      <td>...</td>\n      <td>...</td>\n      <td>...</td>\n      <td>...</td>\n      <td>...</td>\n      <td>...</td>\n      <td>...</td>\n      <td>...</td>\n      <td>...</td>\n      <td>...</td>\n      <td>...</td>\n    </tr>\n    <tr>\n      <th>12854221</th>\n      <td>0.800000</td>\n      <td>0.102222</td>\n      <td>en</td>\n      <td>it</td>\n      <td>6</td>\n      <td>4</td>\n      <td>the</td>\n      <td>the</td>\n      <td>&lt;det&gt;&lt;def&gt;&lt;sp&gt;</td>\n      <td>2</td>\n      <td>...</td>\n      <td>0</td>\n      <td>0</td>\n      <td>0</td>\n      <td>1</td>\n      <td>0</td>\n      <td>0</td>\n      <td>0</td>\n      <td>0</td>\n      <td>0</td>\n      <td>0</td>\n    </tr>\n    <tr>\n      <th>12854222</th>\n      <td>0.800000</td>\n      <td>0.102222</td>\n      <td>en</td>\n      <td>it</td>\n      <td>4</td>\n      <td>4</td>\n      <td>eat</td>\n      <td>eat</td>\n      <td>&lt;vblex&gt;&lt;pres&gt;</td>\n      <td>0</td>\n      <td>...</td>\n      <td>0</td>\n      <td>0</td>\n      <td>0</td>\n      <td>0</td>\n      <td>0</td>\n      <td>0</td>\n      <td>0</td>\n      <td>0</td>\n      <td>0</td>\n      <td>0</td>\n    </tr>\n    <tr>\n      <th>12854223</th>\n      <td>1.000000</td>\n      <td>0.102222</td>\n      <td>en</td>\n      <td>it</td>\n      <td>4</td>\n      <td>4</td>\n      <td>bread</td>\n      <td>bread</td>\n      <td>&lt;n&gt;&lt;sg&gt;</td>\n      <td>0</td>\n      <td>...</td>\n      <td>0</td>\n      <td>0</td>\n      <td>0</td>\n      <td>0</td>\n      <td>0</td>\n      <td>0</td>\n      <td>0</td>\n      <td>0</td>\n      <td>0</td>\n      <td>0</td>\n    </tr>\n    <tr>\n      <th>12854224</th>\n      <td>0.600000</td>\n      <td>0.102222</td>\n      <td>en</td>\n      <td>it</td>\n      <td>3</td>\n      <td>2</td>\n      <td>drink</td>\n      <td>drink</td>\n      <td>&lt;vblex&gt;&lt;pres&gt;</td>\n      <td>1</td>\n      <td>...</td>\n      <td>0</td>\n      <td>0</td>\n      <td>0</td>\n      <td>0</td>\n      <td>0</td>\n      <td>0</td>\n      <td>0</td>\n      <td>0</td>\n      <td>0</td>\n      <td>0</td>\n    </tr>\n    <tr>\n      <th>12854225</th>\n      <td>0.666667</td>\n      <td>0.102222</td>\n      <td>en</td>\n      <td>it</td>\n      <td>5</td>\n      <td>3</td>\n      <td>water</td>\n      <td>water</td>\n      <td>&lt;n&gt;&lt;sg&gt;</td>\n      <td>2</td>\n      <td>...</td>\n      <td>0</td>\n      <td>0</td>\n      <td>0</td>\n      <td>0</td>\n      <td>0</td>\n      <td>0</td>\n      <td>0</td>\n      <td>0</td>\n      <td>0</td>\n      <td>0</td>\n    </tr>\n  </tbody>\n</table>\n<p>12836934 rows × 25 columns</p>\n</div>"
     },
     "execution_count": 20,
     "metadata": {},
     "output_type": "execute_result"
    }
   ],
   "source": [
    "#odvodenie vsetkych ostatnych lexemovych binarnych atributov\n",
    "#prn = pronoun/zameno\n",
    "#v... = verb/sloveso\n",
    "#pr = preposition/predlozka\n",
    "#n = noun/podstatne meno\n",
    "#adj = adjective/pridavne meno\n",
    "#cnj.. = conjunction/spojka\n",
    "#det = determiner\n",
    "#adv = adverb/prislovka\n",
    "#ij = interjenction/citoslovcia(pozdrav)\n",
    "#=====================\n",
    "#sg = singular\n",
    "#pl = plural\n",
    "def regexer_verb(lexeme):\n",
    "    if re.search(\"<v(.+?)>\", str(lexeme)):\n",
    "        return 1\n",
    "    else:\n",
    "        return 0\n",
    "\n",
    "\n",
    "def regexer_noun(lexeme):\n",
    "    if re.search(\"<n>\", str(lexeme)):\n",
    "        return 1\n",
    "    elif re.search(\"<np>\", str(lexeme)):\n",
    "        return 1\n",
    "    else:\n",
    "        return 0\n",
    "\n",
    "\n",
    "def regexer_prepostion(lexeme):\n",
    "    if re.search(\"<pr>\", str(lexeme)):\n",
    "        return 1\n",
    "    if re.search(\"<pprep>\", str(lexeme)):\n",
    "        return 1\n",
    "    else:\n",
    "        return 0\n",
    "\n",
    "\n",
    "def regexer_pronoun(lexeme):\n",
    "    if re.search(\"<prn>\", str(lexeme)):\n",
    "        return 1\n",
    "    else:\n",
    "        return 0\n",
    "\n",
    "\n",
    "def regexer_adjective(lexeme):\n",
    "    if re.search(\"<adj>\", str(lexeme)):\n",
    "        return 1\n",
    "    elif re.search(\"<rel>\", str(lexeme)):\n",
    "        return 1\n",
    "    else:\n",
    "        return 0\n",
    "\n",
    "\n",
    "def regexer_adverb(lexeme):\n",
    "    if re.search(\"<adv>\", str(lexeme)):\n",
    "        return 1\n",
    "    elif re.search(\"<preadv>\", str(lexeme)):\n",
    "        return 1\n",
    "    else:\n",
    "        return 0\n",
    "\n",
    "\n",
    "def regexer_conjunction(lexeme):\n",
    "    if re.search(\"<cnj(.+?)>\", str(lexeme)):\n",
    "        return 1\n",
    "    else:\n",
    "        return 0\n",
    "\n",
    "\n",
    "def regexer_determiner(lexeme):\n",
    "    if re.search(\"<det>\", str(lexeme)):\n",
    "        return 1\n",
    "    elif re.search(\"<predet>\", str(lexeme)):\n",
    "        return 1\n",
    "    else:\n",
    "        return 0\n",
    "\n",
    "\n",
    "def regexer_interjection(lexeme):\n",
    "    if re.search(\"<ij>\", str(lexeme)):\n",
    "        return 1\n",
    "    else:\n",
    "        return 0\n",
    "\n",
    "\n",
    "def regexer_plural(lexeme):\n",
    "    if re.search(\"<pl>\", str(lexeme)):\n",
    "        return 1\n",
    "    else:\n",
    "        return 0\n",
    "\n",
    "\n",
    "def regexer_number(lexeme):\n",
    "    if re.search(\"<num>\", str(lexeme)):\n",
    "        return 1\n",
    "    if re.search(\"<ord>\", str(lexeme)):\n",
    "        return 1\n",
    "    else:\n",
    "        return 0\n",
    "\n",
    "\n",
    "def regexer_phrase(lexeme):\n",
    "    if re.search(\"<@(.+?)>\", str(lexeme)):\n",
    "        return 1\n",
    "    else:\n",
    "        return 0\n",
    "\n",
    "\n",
    "data[\"verb\"] = data[\"modifiers_split\"].apply(regexer_verb)\n",
    "data[\"noun\"] = data[\"modifiers_split\"].apply(regexer_noun)\n",
    "data[\"preposition\"] = data[\"modifiers_split\"].apply(regexer_prepostion)\n",
    "data[\"pronoun\"] = data[\"modifiers_split\"].apply(regexer_pronoun)\n",
    "data[\"adjective\"] = data[\"modifiers_split\"].apply(regexer_adjective)\n",
    "data[\"determiner\"] = data[\"modifiers_split\"].apply(regexer_determiner)\n",
    "data[\"adverb\"] = data[\"modifiers_split\"].apply(regexer_adverb)\n",
    "data[\"conjunction\"] = data[\"modifiers_split\"].apply(regexer_conjunction)\n",
    "data[\"interjection\"] = data[\"modifiers_split\"].apply(regexer_interjection)\n",
    "data[\"plural\"] = data[\"modifiers_split\"].apply(regexer_plural)\n",
    "data[\"number\"] = data[\"modifiers_split\"].apply(regexer_number)\n",
    "data[\"phrase\"] = data[\"modifiers_split\"].apply(regexer_phrase)\n",
    "data"
   ],
   "metadata": {
    "collapsed": false,
    "pycharm": {
     "name": "#%%\n"
    }
   }
  },
  {
   "cell_type": "code",
   "execution_count": null,
   "outputs": [],
   "source": [
    "#ulozenie kompletneho suboru dat so vsetkymy jazykmi do csv suboru\n",
    "data.to_csv(\"datasets/data_ready.csv\", index=False)"
   ],
   "metadata": {
    "collapsed": false,
    "pycharm": {
     "name": "#%%\n"
    }
   }
  },
  {
   "cell_type": "code",
   "execution_count": null,
   "outputs": [],
   "source": [
    "#vytvorenie samostatnych datasetov podla jazyka ktory sa studenti ucili\n",
    "data_de = data[data[\"learning_language\"] == \"de\"]\n",
    "data_en = data[data[\"learning_language\"] == \"en\"]\n",
    "data_es = data[data[\"learning_language\"] == \"es\"]\n",
    "data_fr = data[data[\"learning_language\"] == \"fr\"]\n",
    "data_it = data[data[\"learning_language\"] == \"it\"]\n",
    "data_pt = data[data[\"learning_language\"] == \"pt\"]\n",
    "del data_de[\"learning_language\"]\n",
    "del data_en[\"learning_language\"]\n",
    "del data_es[\"learning_language\"]\n",
    "del data_fr[\"learning_language\"]\n",
    "del data_it[\"learning_language\"]\n",
    "del data_pt[\"learning_language\"]\n",
    "data_en"
   ],
   "metadata": {
    "collapsed": false,
    "pycharm": {
     "name": "#%%\n"
    }
   }
  },
  {
   "cell_type": "code",
   "execution_count": null,
   "outputs": [],
   "source": [
    "#pip3 install wordfreq - nainstalovat kniznicu pomocou tohto prikazu\n",
    "#aplikovanie kniznice wordfreq pre ziskanie atributu frekventovanosti slov v anglictine\n",
    "from wordfreq import word_frequency\n",
    "\n",
    "data_en[\"word_freq\"] = data_en[\"surface_form\"].apply(lambda x: word_frequency(x, \"en\", wordlist=\"best\", minimum=0.0))\n",
    "data_en"
   ],
   "metadata": {
    "collapsed": false,
    "pycharm": {
     "name": "#%%\n"
    }
   }
  },
  {
   "cell_type": "code",
   "execution_count": null,
   "outputs": [],
   "source": [
    "#ulozenie anglickeho datasetu do csv suboru\n",
    "data_en.to_csv(\"datasets/data_ready_en.csv\", index=False)"
   ],
   "metadata": {
    "collapsed": false,
    "pycharm": {
     "name": "#%%\n"
    }
   }
  },
  {
   "cell_type": "code",
   "execution_count": 22,
   "outputs": [
    {
     "data": {
      "text/plain": "         p_recall     delta ui_language  history_seen  history_correct  \\\n0        1.000000  0.099167          pt            17               17   \n1        1.000000  0.099167          pt            19               19   \n2        1.000000  0.099167          pt            21               20   \n3        0.800000  0.099167          pt            44               36   \n4        1.000000  0.099167          pt            21               20   \n...           ...       ...         ...           ...              ...   \n4997494  0.800000  0.102222          it             6                4   \n4997495  0.800000  0.102222          it             4                4   \n4997496  1.000000  0.102222          it             4                4   \n4997497  0.600000  0.102222          it             3                2   \n4997498  0.666667  0.102222          it             5                3   \n\n         session_seen surface_form    root_form modifiers_split  \\\n0                   2   definition   definition         <n><sg>   \n1                   3      surface      surface         <n><sg>   \n2                   3        scale        scale         <n><sg>   \n3                   5  temperature  temperature         <n><sg>   \n4                   3     distance     distance         <n><sg>   \n...               ...          ...          ...             ...   \n4997494             5          the          the  <det><def><sp>   \n4997495             5          eat          eat   <vblex><pres>   \n4997496             4        bread        bread         <n><sg>   \n4997497             5        drink        drink   <vblex><pres>   \n4997498             9        water        water         <n><sg>   \n\n         history_incorrect  ...  pronoun  adjective  adverb  conjunction  \\\n0                        0  ...        0          0       0            0   \n1                        0  ...        0          0       0            0   \n2                        1  ...        0          0       0            0   \n3                        8  ...        0          0       0            0   \n4                        1  ...        0          0       0            0   \n...                    ...  ...      ...        ...     ...          ...   \n4997494                  2  ...        0          0       0            0   \n4997495                  0  ...        0          0       0            0   \n4997496                  0  ...        0          0       0            0   \n4997497                  1  ...        0          0       0            0   \n4997498                  2  ...        0          0       0            0   \n\n         determiner  interjection  plural  number  phrase  word_freq  \n0                 0             0       0       0       0   0.000038  \n1                 0             0       0       0       0   0.000068  \n2                 0             0       0       0       0   0.000068  \n3                 0             0       0       0       0   0.000044  \n4                 0             0       0       0       0   0.000071  \n...             ...           ...     ...     ...     ...        ...  \n4997494           1             0       0       0       0   0.053700  \n4997495           0             0       0       0       0   0.000135  \n4997496           0             0       0       0       0   0.000032  \n4997497           0             0       0       0       0   0.000079  \n4997498           0             0       0       0       0   0.000331  \n\n[4997499 rows x 26 columns]",
      "text/html": "<div>\n<style scoped>\n    .dataframe tbody tr th:only-of-type {\n        vertical-align: middle;\n    }\n\n    .dataframe tbody tr th {\n        vertical-align: top;\n    }\n\n    .dataframe thead th {\n        text-align: right;\n    }\n</style>\n<table border=\"1\" class=\"dataframe\">\n  <thead>\n    <tr style=\"text-align: right;\">\n      <th></th>\n      <th>p_recall</th>\n      <th>delta</th>\n      <th>ui_language</th>\n      <th>history_seen</th>\n      <th>history_correct</th>\n      <th>session_seen</th>\n      <th>surface_form</th>\n      <th>root_form</th>\n      <th>modifiers_split</th>\n      <th>history_incorrect</th>\n      <th>...</th>\n      <th>pronoun</th>\n      <th>adjective</th>\n      <th>adverb</th>\n      <th>conjunction</th>\n      <th>determiner</th>\n      <th>interjection</th>\n      <th>plural</th>\n      <th>number</th>\n      <th>phrase</th>\n      <th>word_freq</th>\n    </tr>\n  </thead>\n  <tbody>\n    <tr>\n      <th>0</th>\n      <td>1.000000</td>\n      <td>0.099167</td>\n      <td>pt</td>\n      <td>17</td>\n      <td>17</td>\n      <td>2</td>\n      <td>definition</td>\n      <td>definition</td>\n      <td>&lt;n&gt;&lt;sg&gt;</td>\n      <td>0</td>\n      <td>...</td>\n      <td>0</td>\n      <td>0</td>\n      <td>0</td>\n      <td>0</td>\n      <td>0</td>\n      <td>0</td>\n      <td>0</td>\n      <td>0</td>\n      <td>0</td>\n      <td>0.000038</td>\n    </tr>\n    <tr>\n      <th>1</th>\n      <td>1.000000</td>\n      <td>0.099167</td>\n      <td>pt</td>\n      <td>19</td>\n      <td>19</td>\n      <td>3</td>\n      <td>surface</td>\n      <td>surface</td>\n      <td>&lt;n&gt;&lt;sg&gt;</td>\n      <td>0</td>\n      <td>...</td>\n      <td>0</td>\n      <td>0</td>\n      <td>0</td>\n      <td>0</td>\n      <td>0</td>\n      <td>0</td>\n      <td>0</td>\n      <td>0</td>\n      <td>0</td>\n      <td>0.000068</td>\n    </tr>\n    <tr>\n      <th>2</th>\n      <td>1.000000</td>\n      <td>0.099167</td>\n      <td>pt</td>\n      <td>21</td>\n      <td>20</td>\n      <td>3</td>\n      <td>scale</td>\n      <td>scale</td>\n      <td>&lt;n&gt;&lt;sg&gt;</td>\n      <td>1</td>\n      <td>...</td>\n      <td>0</td>\n      <td>0</td>\n      <td>0</td>\n      <td>0</td>\n      <td>0</td>\n      <td>0</td>\n      <td>0</td>\n      <td>0</td>\n      <td>0</td>\n      <td>0.000068</td>\n    </tr>\n    <tr>\n      <th>3</th>\n      <td>0.800000</td>\n      <td>0.099167</td>\n      <td>pt</td>\n      <td>44</td>\n      <td>36</td>\n      <td>5</td>\n      <td>temperature</td>\n      <td>temperature</td>\n      <td>&lt;n&gt;&lt;sg&gt;</td>\n      <td>8</td>\n      <td>...</td>\n      <td>0</td>\n      <td>0</td>\n      <td>0</td>\n      <td>0</td>\n      <td>0</td>\n      <td>0</td>\n      <td>0</td>\n      <td>0</td>\n      <td>0</td>\n      <td>0.000044</td>\n    </tr>\n    <tr>\n      <th>4</th>\n      <td>1.000000</td>\n      <td>0.099167</td>\n      <td>pt</td>\n      <td>21</td>\n      <td>20</td>\n      <td>3</td>\n      <td>distance</td>\n      <td>distance</td>\n      <td>&lt;n&gt;&lt;sg&gt;</td>\n      <td>1</td>\n      <td>...</td>\n      <td>0</td>\n      <td>0</td>\n      <td>0</td>\n      <td>0</td>\n      <td>0</td>\n      <td>0</td>\n      <td>0</td>\n      <td>0</td>\n      <td>0</td>\n      <td>0.000071</td>\n    </tr>\n    <tr>\n      <th>...</th>\n      <td>...</td>\n      <td>...</td>\n      <td>...</td>\n      <td>...</td>\n      <td>...</td>\n      <td>...</td>\n      <td>...</td>\n      <td>...</td>\n      <td>...</td>\n      <td>...</td>\n      <td>...</td>\n      <td>...</td>\n      <td>...</td>\n      <td>...</td>\n      <td>...</td>\n      <td>...</td>\n      <td>...</td>\n      <td>...</td>\n      <td>...</td>\n      <td>...</td>\n      <td>...</td>\n    </tr>\n    <tr>\n      <th>4997494</th>\n      <td>0.800000</td>\n      <td>0.102222</td>\n      <td>it</td>\n      <td>6</td>\n      <td>4</td>\n      <td>5</td>\n      <td>the</td>\n      <td>the</td>\n      <td>&lt;det&gt;&lt;def&gt;&lt;sp&gt;</td>\n      <td>2</td>\n      <td>...</td>\n      <td>0</td>\n      <td>0</td>\n      <td>0</td>\n      <td>0</td>\n      <td>1</td>\n      <td>0</td>\n      <td>0</td>\n      <td>0</td>\n      <td>0</td>\n      <td>0.053700</td>\n    </tr>\n    <tr>\n      <th>4997495</th>\n      <td>0.800000</td>\n      <td>0.102222</td>\n      <td>it</td>\n      <td>4</td>\n      <td>4</td>\n      <td>5</td>\n      <td>eat</td>\n      <td>eat</td>\n      <td>&lt;vblex&gt;&lt;pres&gt;</td>\n      <td>0</td>\n      <td>...</td>\n      <td>0</td>\n      <td>0</td>\n      <td>0</td>\n      <td>0</td>\n      <td>0</td>\n      <td>0</td>\n      <td>0</td>\n      <td>0</td>\n      <td>0</td>\n      <td>0.000135</td>\n    </tr>\n    <tr>\n      <th>4997496</th>\n      <td>1.000000</td>\n      <td>0.102222</td>\n      <td>it</td>\n      <td>4</td>\n      <td>4</td>\n      <td>4</td>\n      <td>bread</td>\n      <td>bread</td>\n      <td>&lt;n&gt;&lt;sg&gt;</td>\n      <td>0</td>\n      <td>...</td>\n      <td>0</td>\n      <td>0</td>\n      <td>0</td>\n      <td>0</td>\n      <td>0</td>\n      <td>0</td>\n      <td>0</td>\n      <td>0</td>\n      <td>0</td>\n      <td>0.000032</td>\n    </tr>\n    <tr>\n      <th>4997497</th>\n      <td>0.600000</td>\n      <td>0.102222</td>\n      <td>it</td>\n      <td>3</td>\n      <td>2</td>\n      <td>5</td>\n      <td>drink</td>\n      <td>drink</td>\n      <td>&lt;vblex&gt;&lt;pres&gt;</td>\n      <td>1</td>\n      <td>...</td>\n      <td>0</td>\n      <td>0</td>\n      <td>0</td>\n      <td>0</td>\n      <td>0</td>\n      <td>0</td>\n      <td>0</td>\n      <td>0</td>\n      <td>0</td>\n      <td>0.000079</td>\n    </tr>\n    <tr>\n      <th>4997498</th>\n      <td>0.666667</td>\n      <td>0.102222</td>\n      <td>it</td>\n      <td>5</td>\n      <td>3</td>\n      <td>9</td>\n      <td>water</td>\n      <td>water</td>\n      <td>&lt;n&gt;&lt;sg&gt;</td>\n      <td>2</td>\n      <td>...</td>\n      <td>0</td>\n      <td>0</td>\n      <td>0</td>\n      <td>0</td>\n      <td>0</td>\n      <td>0</td>\n      <td>0</td>\n      <td>0</td>\n      <td>0</td>\n      <td>0.000331</td>\n    </tr>\n  </tbody>\n</table>\n<p>4997499 rows × 26 columns</p>\n</div>"
     },
     "execution_count": 22,
     "metadata": {},
     "output_type": "execute_result"
    }
   ],
   "source": [
    "#nacitanie csv suboru anglickych dat po predspracovani\n",
    "data_en = pd.read_csv(\"datasets/data_ready_en.csv\")\n",
    "\n",
    "data_en"
   ],
   "metadata": {
    "collapsed": false,
    "pycharm": {
     "name": "#%%\n"
    }
   }
  },
  {
   "cell_type": "code",
   "execution_count": 23,
   "outputs": [
    {
     "data": {
      "text/plain": "         p_recall     delta  history_seen  history_correct  session_seen  \\\n0        1.000000  0.099167            17               17             2   \n1        1.000000  0.099167            19               19             3   \n2        1.000000  0.099167            21               20             3   \n3        0.800000  0.099167            44               36             5   \n4        1.000000  0.099167            21               20             3   \n...           ...       ...           ...              ...           ...   \n4997494  0.800000  0.102222             6                4             5   \n4997495  0.800000  0.102222             4                4             5   \n4997496  1.000000  0.102222             4                4             4   \n4997497  0.600000  0.102222             3                2             5   \n4997498  0.666667  0.102222             5                3             9   \n\n        surface_form    root_form modifiers_split  history_incorrect  \\\n0         definition   definition         <n><sg>                  0   \n1            surface      surface         <n><sg>                  0   \n2              scale        scale         <n><sg>                  1   \n3        temperature  temperature         <n><sg>                  8   \n4           distance     distance         <n><sg>                  1   \n...              ...          ...             ...                ...   \n4997494          the          the  <det><def><sp>                  2   \n4997495          eat          eat   <vblex><pres>                  0   \n4997496        bread        bread         <n><sg>                  0   \n4997497        drink        drink   <vblex><pres>                  1   \n4997498        water        water         <n><sg>                  2   \n\n         word_length  ...  conjunction  determiner  interjection  plural  \\\n0                 10  ...            0           0             0       0   \n1                  7  ...            0           0             0       0   \n2                  5  ...            0           0             0       0   \n3                 11  ...            0           0             0       0   \n4                  8  ...            0           0             0       0   \n...              ...  ...          ...         ...           ...     ...   \n4997494            3  ...            0           1             0       0   \n4997495            3  ...            0           0             0       0   \n4997496            5  ...            0           0             0       0   \n4997497            5  ...            0           0             0       0   \n4997498            5  ...            0           0             0       0   \n\n         number  phrase  word_freq  ui_language_es  ui_language_it  \\\n0             0       0   0.000038               0               0   \n1             0       0   0.000068               0               0   \n2             0       0   0.000068               0               0   \n3             0       0   0.000044               0               0   \n4             0       0   0.000071               0               0   \n...         ...     ...        ...             ...             ...   \n4997494       0       0   0.053700               0               1   \n4997495       0       0   0.000135               0               1   \n4997496       0       0   0.000032               0               1   \n4997497       0       0   0.000079               0               1   \n4997498       0       0   0.000331               0               1   \n\n         ui_language_pt  \n0                     1  \n1                     1  \n2                     1  \n3                     1  \n4                     1  \n...                 ...  \n4997494               0  \n4997495               0  \n4997496               0  \n4997497               0  \n4997498               0  \n\n[4997499 rows x 28 columns]",
      "text/html": "<div>\n<style scoped>\n    .dataframe tbody tr th:only-of-type {\n        vertical-align: middle;\n    }\n\n    .dataframe tbody tr th {\n        vertical-align: top;\n    }\n\n    .dataframe thead th {\n        text-align: right;\n    }\n</style>\n<table border=\"1\" class=\"dataframe\">\n  <thead>\n    <tr style=\"text-align: right;\">\n      <th></th>\n      <th>p_recall</th>\n      <th>delta</th>\n      <th>history_seen</th>\n      <th>history_correct</th>\n      <th>session_seen</th>\n      <th>surface_form</th>\n      <th>root_form</th>\n      <th>modifiers_split</th>\n      <th>history_incorrect</th>\n      <th>word_length</th>\n      <th>...</th>\n      <th>conjunction</th>\n      <th>determiner</th>\n      <th>interjection</th>\n      <th>plural</th>\n      <th>number</th>\n      <th>phrase</th>\n      <th>word_freq</th>\n      <th>ui_language_es</th>\n      <th>ui_language_it</th>\n      <th>ui_language_pt</th>\n    </tr>\n  </thead>\n  <tbody>\n    <tr>\n      <th>0</th>\n      <td>1.000000</td>\n      <td>0.099167</td>\n      <td>17</td>\n      <td>17</td>\n      <td>2</td>\n      <td>definition</td>\n      <td>definition</td>\n      <td>&lt;n&gt;&lt;sg&gt;</td>\n      <td>0</td>\n      <td>10</td>\n      <td>...</td>\n      <td>0</td>\n      <td>0</td>\n      <td>0</td>\n      <td>0</td>\n      <td>0</td>\n      <td>0</td>\n      <td>0.000038</td>\n      <td>0</td>\n      <td>0</td>\n      <td>1</td>\n    </tr>\n    <tr>\n      <th>1</th>\n      <td>1.000000</td>\n      <td>0.099167</td>\n      <td>19</td>\n      <td>19</td>\n      <td>3</td>\n      <td>surface</td>\n      <td>surface</td>\n      <td>&lt;n&gt;&lt;sg&gt;</td>\n      <td>0</td>\n      <td>7</td>\n      <td>...</td>\n      <td>0</td>\n      <td>0</td>\n      <td>0</td>\n      <td>0</td>\n      <td>0</td>\n      <td>0</td>\n      <td>0.000068</td>\n      <td>0</td>\n      <td>0</td>\n      <td>1</td>\n    </tr>\n    <tr>\n      <th>2</th>\n      <td>1.000000</td>\n      <td>0.099167</td>\n      <td>21</td>\n      <td>20</td>\n      <td>3</td>\n      <td>scale</td>\n      <td>scale</td>\n      <td>&lt;n&gt;&lt;sg&gt;</td>\n      <td>1</td>\n      <td>5</td>\n      <td>...</td>\n      <td>0</td>\n      <td>0</td>\n      <td>0</td>\n      <td>0</td>\n      <td>0</td>\n      <td>0</td>\n      <td>0.000068</td>\n      <td>0</td>\n      <td>0</td>\n      <td>1</td>\n    </tr>\n    <tr>\n      <th>3</th>\n      <td>0.800000</td>\n      <td>0.099167</td>\n      <td>44</td>\n      <td>36</td>\n      <td>5</td>\n      <td>temperature</td>\n      <td>temperature</td>\n      <td>&lt;n&gt;&lt;sg&gt;</td>\n      <td>8</td>\n      <td>11</td>\n      <td>...</td>\n      <td>0</td>\n      <td>0</td>\n      <td>0</td>\n      <td>0</td>\n      <td>0</td>\n      <td>0</td>\n      <td>0.000044</td>\n      <td>0</td>\n      <td>0</td>\n      <td>1</td>\n    </tr>\n    <tr>\n      <th>4</th>\n      <td>1.000000</td>\n      <td>0.099167</td>\n      <td>21</td>\n      <td>20</td>\n      <td>3</td>\n      <td>distance</td>\n      <td>distance</td>\n      <td>&lt;n&gt;&lt;sg&gt;</td>\n      <td>1</td>\n      <td>8</td>\n      <td>...</td>\n      <td>0</td>\n      <td>0</td>\n      <td>0</td>\n      <td>0</td>\n      <td>0</td>\n      <td>0</td>\n      <td>0.000071</td>\n      <td>0</td>\n      <td>0</td>\n      <td>1</td>\n    </tr>\n    <tr>\n      <th>...</th>\n      <td>...</td>\n      <td>...</td>\n      <td>...</td>\n      <td>...</td>\n      <td>...</td>\n      <td>...</td>\n      <td>...</td>\n      <td>...</td>\n      <td>...</td>\n      <td>...</td>\n      <td>...</td>\n      <td>...</td>\n      <td>...</td>\n      <td>...</td>\n      <td>...</td>\n      <td>...</td>\n      <td>...</td>\n      <td>...</td>\n      <td>...</td>\n      <td>...</td>\n      <td>...</td>\n    </tr>\n    <tr>\n      <th>4997494</th>\n      <td>0.800000</td>\n      <td>0.102222</td>\n      <td>6</td>\n      <td>4</td>\n      <td>5</td>\n      <td>the</td>\n      <td>the</td>\n      <td>&lt;det&gt;&lt;def&gt;&lt;sp&gt;</td>\n      <td>2</td>\n      <td>3</td>\n      <td>...</td>\n      <td>0</td>\n      <td>1</td>\n      <td>0</td>\n      <td>0</td>\n      <td>0</td>\n      <td>0</td>\n      <td>0.053700</td>\n      <td>0</td>\n      <td>1</td>\n      <td>0</td>\n    </tr>\n    <tr>\n      <th>4997495</th>\n      <td>0.800000</td>\n      <td>0.102222</td>\n      <td>4</td>\n      <td>4</td>\n      <td>5</td>\n      <td>eat</td>\n      <td>eat</td>\n      <td>&lt;vblex&gt;&lt;pres&gt;</td>\n      <td>0</td>\n      <td>3</td>\n      <td>...</td>\n      <td>0</td>\n      <td>0</td>\n      <td>0</td>\n      <td>0</td>\n      <td>0</td>\n      <td>0</td>\n      <td>0.000135</td>\n      <td>0</td>\n      <td>1</td>\n      <td>0</td>\n    </tr>\n    <tr>\n      <th>4997496</th>\n      <td>1.000000</td>\n      <td>0.102222</td>\n      <td>4</td>\n      <td>4</td>\n      <td>4</td>\n      <td>bread</td>\n      <td>bread</td>\n      <td>&lt;n&gt;&lt;sg&gt;</td>\n      <td>0</td>\n      <td>5</td>\n      <td>...</td>\n      <td>0</td>\n      <td>0</td>\n      <td>0</td>\n      <td>0</td>\n      <td>0</td>\n      <td>0</td>\n      <td>0.000032</td>\n      <td>0</td>\n      <td>1</td>\n      <td>0</td>\n    </tr>\n    <tr>\n      <th>4997497</th>\n      <td>0.600000</td>\n      <td>0.102222</td>\n      <td>3</td>\n      <td>2</td>\n      <td>5</td>\n      <td>drink</td>\n      <td>drink</td>\n      <td>&lt;vblex&gt;&lt;pres&gt;</td>\n      <td>1</td>\n      <td>5</td>\n      <td>...</td>\n      <td>0</td>\n      <td>0</td>\n      <td>0</td>\n      <td>0</td>\n      <td>0</td>\n      <td>0</td>\n      <td>0.000079</td>\n      <td>0</td>\n      <td>1</td>\n      <td>0</td>\n    </tr>\n    <tr>\n      <th>4997498</th>\n      <td>0.666667</td>\n      <td>0.102222</td>\n      <td>5</td>\n      <td>3</td>\n      <td>9</td>\n      <td>water</td>\n      <td>water</td>\n      <td>&lt;n&gt;&lt;sg&gt;</td>\n      <td>2</td>\n      <td>5</td>\n      <td>...</td>\n      <td>0</td>\n      <td>0</td>\n      <td>0</td>\n      <td>0</td>\n      <td>0</td>\n      <td>0</td>\n      <td>0.000331</td>\n      <td>0</td>\n      <td>1</td>\n      <td>0</td>\n    </tr>\n  </tbody>\n</table>\n<p>4997499 rows × 28 columns</p>\n</div>"
     },
     "execution_count": 23,
     "metadata": {},
     "output_type": "execute_result"
    }
   ],
   "source": [
    "#aplikovanie one-hot-encodingu na atribut ui_language\n",
    "data_en = pd.get_dummies(data_en, columns=[\"ui_language\"])\n",
    "data_en"
   ],
   "metadata": {
    "collapsed": false,
    "pycharm": {
     "name": "#%%\n"
    }
   }
  },
  {
   "cell_type": "code",
   "execution_count": 24,
   "outputs": [
    {
     "data": {
      "text/plain": "         p_recall     delta  history_seen  history_correct  session_seen  \\\n0        1.000000  0.099167            17               17             2   \n1        1.000000  0.099167            19               19             3   \n2        1.000000  0.099167            21               20             3   \n3        0.800000  0.099167            44               36             5   \n4        1.000000  0.099167            21               20             3   \n...           ...       ...           ...              ...           ...   \n4997494  0.800000  0.102222             6                4             5   \n4997495  0.800000  0.102222             4                4             5   \n4997496  1.000000  0.102222             4                4             4   \n4997497  0.600000  0.102222             3                2             5   \n4997498  0.666667  0.102222             5                3             9   \n\n         history_incorrect  word_length  differs_from_root  passed  verb  ...  \\\n0                        0           10                  0       1     0  ...   \n1                        0            7                  0       1     0  ...   \n2                        1            5                  0       1     0  ...   \n3                        8           11                  0       0     0  ...   \n4                        1            8                  0       1     0  ...   \n...                    ...          ...                ...     ...   ...  ...   \n4997494                  2            3                  0       0     0  ...   \n4997495                  0            3                  0       0     1  ...   \n4997496                  0            5                  0       1     0  ...   \n4997497                  1            5                  0       0     1  ...   \n4997498                  2            5                  0       0     0  ...   \n\n         conjunction  determiner  interjection  plural  number  phrase  \\\n0                  0           0             0       0       0       0   \n1                  0           0             0       0       0       0   \n2                  0           0             0       0       0       0   \n3                  0           0             0       0       0       0   \n4                  0           0             0       0       0       0   \n...              ...         ...           ...     ...     ...     ...   \n4997494            0           1             0       0       0       0   \n4997495            0           0             0       0       0       0   \n4997496            0           0             0       0       0       0   \n4997497            0           0             0       0       0       0   \n4997498            0           0             0       0       0       0   \n\n         word_freq  ui_language_es  ui_language_it  ui_language_pt  \n0         0.000038               0               0               1  \n1         0.000068               0               0               1  \n2         0.000068               0               0               1  \n3         0.000044               0               0               1  \n4         0.000071               0               0               1  \n...            ...             ...             ...             ...  \n4997494   0.053700               0               1               0  \n4997495   0.000135               0               1               0  \n4997496   0.000032               0               1               0  \n4997497   0.000079               0               1               0  \n4997498   0.000331               0               1               0  \n\n[4997499 rows x 25 columns]",
      "text/html": "<div>\n<style scoped>\n    .dataframe tbody tr th:only-of-type {\n        vertical-align: middle;\n    }\n\n    .dataframe tbody tr th {\n        vertical-align: top;\n    }\n\n    .dataframe thead th {\n        text-align: right;\n    }\n</style>\n<table border=\"1\" class=\"dataframe\">\n  <thead>\n    <tr style=\"text-align: right;\">\n      <th></th>\n      <th>p_recall</th>\n      <th>delta</th>\n      <th>history_seen</th>\n      <th>history_correct</th>\n      <th>session_seen</th>\n      <th>history_incorrect</th>\n      <th>word_length</th>\n      <th>differs_from_root</th>\n      <th>passed</th>\n      <th>verb</th>\n      <th>...</th>\n      <th>conjunction</th>\n      <th>determiner</th>\n      <th>interjection</th>\n      <th>plural</th>\n      <th>number</th>\n      <th>phrase</th>\n      <th>word_freq</th>\n      <th>ui_language_es</th>\n      <th>ui_language_it</th>\n      <th>ui_language_pt</th>\n    </tr>\n  </thead>\n  <tbody>\n    <tr>\n      <th>0</th>\n      <td>1.000000</td>\n      <td>0.099167</td>\n      <td>17</td>\n      <td>17</td>\n      <td>2</td>\n      <td>0</td>\n      <td>10</td>\n      <td>0</td>\n      <td>1</td>\n      <td>0</td>\n      <td>...</td>\n      <td>0</td>\n      <td>0</td>\n      <td>0</td>\n      <td>0</td>\n      <td>0</td>\n      <td>0</td>\n      <td>0.000038</td>\n      <td>0</td>\n      <td>0</td>\n      <td>1</td>\n    </tr>\n    <tr>\n      <th>1</th>\n      <td>1.000000</td>\n      <td>0.099167</td>\n      <td>19</td>\n      <td>19</td>\n      <td>3</td>\n      <td>0</td>\n      <td>7</td>\n      <td>0</td>\n      <td>1</td>\n      <td>0</td>\n      <td>...</td>\n      <td>0</td>\n      <td>0</td>\n      <td>0</td>\n      <td>0</td>\n      <td>0</td>\n      <td>0</td>\n      <td>0.000068</td>\n      <td>0</td>\n      <td>0</td>\n      <td>1</td>\n    </tr>\n    <tr>\n      <th>2</th>\n      <td>1.000000</td>\n      <td>0.099167</td>\n      <td>21</td>\n      <td>20</td>\n      <td>3</td>\n      <td>1</td>\n      <td>5</td>\n      <td>0</td>\n      <td>1</td>\n      <td>0</td>\n      <td>...</td>\n      <td>0</td>\n      <td>0</td>\n      <td>0</td>\n      <td>0</td>\n      <td>0</td>\n      <td>0</td>\n      <td>0.000068</td>\n      <td>0</td>\n      <td>0</td>\n      <td>1</td>\n    </tr>\n    <tr>\n      <th>3</th>\n      <td>0.800000</td>\n      <td>0.099167</td>\n      <td>44</td>\n      <td>36</td>\n      <td>5</td>\n      <td>8</td>\n      <td>11</td>\n      <td>0</td>\n      <td>0</td>\n      <td>0</td>\n      <td>...</td>\n      <td>0</td>\n      <td>0</td>\n      <td>0</td>\n      <td>0</td>\n      <td>0</td>\n      <td>0</td>\n      <td>0.000044</td>\n      <td>0</td>\n      <td>0</td>\n      <td>1</td>\n    </tr>\n    <tr>\n      <th>4</th>\n      <td>1.000000</td>\n      <td>0.099167</td>\n      <td>21</td>\n      <td>20</td>\n      <td>3</td>\n      <td>1</td>\n      <td>8</td>\n      <td>0</td>\n      <td>1</td>\n      <td>0</td>\n      <td>...</td>\n      <td>0</td>\n      <td>0</td>\n      <td>0</td>\n      <td>0</td>\n      <td>0</td>\n      <td>0</td>\n      <td>0.000071</td>\n      <td>0</td>\n      <td>0</td>\n      <td>1</td>\n    </tr>\n    <tr>\n      <th>...</th>\n      <td>...</td>\n      <td>...</td>\n      <td>...</td>\n      <td>...</td>\n      <td>...</td>\n      <td>...</td>\n      <td>...</td>\n      <td>...</td>\n      <td>...</td>\n      <td>...</td>\n      <td>...</td>\n      <td>...</td>\n      <td>...</td>\n      <td>...</td>\n      <td>...</td>\n      <td>...</td>\n      <td>...</td>\n      <td>...</td>\n      <td>...</td>\n      <td>...</td>\n      <td>...</td>\n    </tr>\n    <tr>\n      <th>4997494</th>\n      <td>0.800000</td>\n      <td>0.102222</td>\n      <td>6</td>\n      <td>4</td>\n      <td>5</td>\n      <td>2</td>\n      <td>3</td>\n      <td>0</td>\n      <td>0</td>\n      <td>0</td>\n      <td>...</td>\n      <td>0</td>\n      <td>1</td>\n      <td>0</td>\n      <td>0</td>\n      <td>0</td>\n      <td>0</td>\n      <td>0.053700</td>\n      <td>0</td>\n      <td>1</td>\n      <td>0</td>\n    </tr>\n    <tr>\n      <th>4997495</th>\n      <td>0.800000</td>\n      <td>0.102222</td>\n      <td>4</td>\n      <td>4</td>\n      <td>5</td>\n      <td>0</td>\n      <td>3</td>\n      <td>0</td>\n      <td>0</td>\n      <td>1</td>\n      <td>...</td>\n      <td>0</td>\n      <td>0</td>\n      <td>0</td>\n      <td>0</td>\n      <td>0</td>\n      <td>0</td>\n      <td>0.000135</td>\n      <td>0</td>\n      <td>1</td>\n      <td>0</td>\n    </tr>\n    <tr>\n      <th>4997496</th>\n      <td>1.000000</td>\n      <td>0.102222</td>\n      <td>4</td>\n      <td>4</td>\n      <td>4</td>\n      <td>0</td>\n      <td>5</td>\n      <td>0</td>\n      <td>1</td>\n      <td>0</td>\n      <td>...</td>\n      <td>0</td>\n      <td>0</td>\n      <td>0</td>\n      <td>0</td>\n      <td>0</td>\n      <td>0</td>\n      <td>0.000032</td>\n      <td>0</td>\n      <td>1</td>\n      <td>0</td>\n    </tr>\n    <tr>\n      <th>4997497</th>\n      <td>0.600000</td>\n      <td>0.102222</td>\n      <td>3</td>\n      <td>2</td>\n      <td>5</td>\n      <td>1</td>\n      <td>5</td>\n      <td>0</td>\n      <td>0</td>\n      <td>1</td>\n      <td>...</td>\n      <td>0</td>\n      <td>0</td>\n      <td>0</td>\n      <td>0</td>\n      <td>0</td>\n      <td>0</td>\n      <td>0.000079</td>\n      <td>0</td>\n      <td>1</td>\n      <td>0</td>\n    </tr>\n    <tr>\n      <th>4997498</th>\n      <td>0.666667</td>\n      <td>0.102222</td>\n      <td>5</td>\n      <td>3</td>\n      <td>9</td>\n      <td>2</td>\n      <td>5</td>\n      <td>0</td>\n      <td>0</td>\n      <td>0</td>\n      <td>...</td>\n      <td>0</td>\n      <td>0</td>\n      <td>0</td>\n      <td>0</td>\n      <td>0</td>\n      <td>0</td>\n      <td>0.000331</td>\n      <td>0</td>\n      <td>1</td>\n      <td>0</td>\n    </tr>\n  </tbody>\n</table>\n<p>4997499 rows × 25 columns</p>\n</div>"
     },
     "execution_count": 24,
     "metadata": {},
     "output_type": "execute_result"
    }
   ],
   "source": [
    "#zmazeme atributy ktore nam ostali po extrahovani\n",
    "del data_en[\"modifiers_split\"]\n",
    "del data_en[\"surface_form\"]\n",
    "del data_en[\"root_form\"]\n",
    "data_en"
   ],
   "metadata": {
    "collapsed": false,
    "pycharm": {
     "name": "#%%\n"
    }
   }
  },
  {
   "cell_type": "code",
   "execution_count": null,
   "outputs": [],
   "source": [
    "#zmazeme session_seen\n",
    "del data_en[\"session_seen\"]\n",
    "data_en"
   ],
   "metadata": {
    "collapsed": false,
    "pycharm": {
     "name": "#%%\n"
    }
   }
  },
  {
   "cell_type": "code",
   "execution_count": null,
   "outputs": [],
   "source": [
    "#rozdelime si data na trenovaciu a testovaciu mnozinu\n",
    "from sklearn.model_selection import train_test_split\n",
    "\n",
    "data_en_train, data_en_test = train_test_split(data_en, test_size=0.2, random_state=42, stratify=data_en[\"passed\"])"
   ],
   "metadata": {
    "collapsed": false,
    "pycharm": {
     "name": "#%%\n"
    }
   }
  },
  {
   "cell_type": "code",
   "execution_count": null,
   "outputs": [],
   "source": [
    "#zobrazenie rozdelenia\n",
    "print(len(data_en))\n",
    "print(len(data_en_train))\n",
    "print(len(data_en_test))\n",
    "\n",
    "print(pd.value_counts(data_en_train[\"passed\"]))\n",
    "print(pd.value_counts(data_en_test[\"passed\"]))"
   ],
   "metadata": {
    "collapsed": false,
    "pycharm": {
     "name": "#%%\n"
    }
   }
  },
  {
   "cell_type": "code",
   "execution_count": null,
   "outputs": [],
   "source": [
    "#ulozime si trenovaciu a testovaciu mnozinu do samostatnych datasetov\n",
    "data_en_train.to_csv(\"datasets/data_ready_en_train.csv\", index=False)\n",
    "data_en_test.to_csv(\"datasets/data_ready_en_test.csv\", index=False)"
   ],
   "metadata": {
    "collapsed": false,
    "pycharm": {
     "name": "#%%\n"
    }
   }
  },
  {
   "cell_type": "code",
   "execution_count": null,
   "outputs": [],
   "source": [
    "#aplikovanie SMOTE oversamplingu na trenovaciu mnozinu a jej nasledne ulozenie do samostatneho datasetu\n",
    "from imblearn.over_sampling import SMOTE\n",
    "\n",
    "X = data_en_train.drop(['passed'], axis=1)\n",
    "y = data_en_train['passed']\n",
    "X\n",
    "\n",
    "oversampled = SMOTE(random_state=0)\n",
    "X_train_smote, y_train_smote = oversampled.fit_resample(X, y)\n",
    "\n",
    "print(len(X_train_smote))\n",
    "print(len(y_train_smote))\n",
    "print(pd.value_counts(y_train_smote))\n",
    "\n",
    "X_train_smote[\"passed\"] = y_train_smote\n",
    "X_train_smote\n",
    "data_en_train_oversampled = X_train_smote\n",
    "data_en_train_oversampled.to_csv(\"datasets/data_ready_en_train_oversampled.csv\", index=False)"
   ],
   "metadata": {
    "collapsed": false,
    "pycharm": {
     "name": "#%%\n"
    }
   }
  },
  {
   "cell_type": "code",
   "execution_count": null,
   "outputs": [],
   "source": [
    "#aplikovanie  Nahodneho undersamplingu na trenovaciu mnozinu a jej nasledne ulozenie do samostatneho datasetu\n",
    "from imblearn.under_sampling import RandomUnderSampler\n",
    "\n",
    "rus = RandomUnderSampler(random_state=42)\n",
    "X_under, y_under = rus.fit_resample(X, y)\n",
    "print(len(X_under))\n",
    "print(len(y_under))\n",
    "print(pd.value_counts(y_under))\n",
    "X_under[\"passed\"] = y_under\n",
    "data_en_train_undersampled = X_under\n",
    "data_en_train_undersampled\n",
    "data_en_train_undersampled.to_csv(\"datasets/data_ready_en_train_undersampled.csv\", index=False)"
   ],
   "metadata": {
    "collapsed": false,
    "pycharm": {
     "name": "#%%\n"
    }
   }
  },
  {
   "cell_type": "code",
   "execution_count": null,
   "outputs": [],
   "source": [
    "#MODELOVANIE"
   ],
   "metadata": {
    "collapsed": false,
    "pycharm": {
     "name": "#%%\n"
    }
   }
  },
  {
   "cell_type": "code",
   "execution_count": null,
   "outputs": [],
   "source": [
    "#modelovanie modelu Nahodneho lesa"
   ],
   "metadata": {
    "collapsed": false,
    "pycharm": {
     "name": "#%%\n"
    }
   }
  },
  {
   "cell_type": "code",
   "execution_count": 25,
   "outputs": [],
   "source": [
    "#importovanie kniznice Nahodneho lesa a dalsich potrebnych kniznic\n",
    "from sklearn.ensemble import RandomForestClassifier\n",
    "from sklearn.metrics import confusion_matrix\n",
    "from sklearn.metrics import classification_report\n",
    "from sklearn.metrics import roc_auc_score\n"
   ],
   "metadata": {
    "collapsed": false,
    "pycharm": {
     "name": "#%%\n"
    }
   }
  },
  {
   "cell_type": "code",
   "execution_count": null,
   "outputs": [],
   "source": [
    "#nacitanie testovacej mnoziny\n",
    "X_test = data_en_test.drop(['passed', 'p_recall'], axis=1)\n",
    "y_test = data_en_test['passed']\n",
    "X_test"
   ],
   "metadata": {
    "collapsed": false,
    "pycharm": {
     "name": "#%%\n"
    }
   }
  },
  {
   "cell_type": "code",
   "execution_count": null,
   "outputs": [],
   "source": [
    "###########################################\n",
    "#Neladeny model bez pouzitia prevzorkovania\n",
    "###########################################"
   ],
   "metadata": {
    "collapsed": false,
    "pycharm": {
     "name": "#%%\n"
    }
   }
  },
  {
   "cell_type": "code",
   "execution_count": null,
   "outputs": [],
   "source": [
    "data_en_train = pd.read_csv(\"datasets/data_ready_en_train.csv\")\n",
    "data_en_train"
   ],
   "metadata": {
    "collapsed": false,
    "pycharm": {
     "name": "#%%\n"
    }
   }
  },
  {
   "cell_type": "code",
   "execution_count": null,
   "outputs": [],
   "source": [
    "X_notover = data_en_train.drop('passed', axis=1)\n",
    "y_notover = data_en_train['passed']\n",
    "X_notover"
   ],
   "metadata": {
    "collapsed": false,
    "pycharm": {
     "name": "#%%\n"
    }
   }
  },
  {
   "cell_type": "code",
   "execution_count": null,
   "outputs": [],
   "source": [
    "print(pd.value_counts(y_notover))"
   ],
   "metadata": {
    "collapsed": false,
    "pycharm": {
     "name": "#%%\n"
    }
   }
  },
  {
   "cell_type": "code",
   "execution_count": null,
   "outputs": [],
   "source": [
    "clf_default_notover = RandomForestClassifier(n_estimators=64)\n",
    "clf_default_notover.fit(X_notover, y_notover)"
   ],
   "metadata": {
    "collapsed": false,
    "pycharm": {
     "name": "#%%\n"
    }
   }
  },
  {
   "cell_type": "code",
   "execution_count": null,
   "outputs": [],
   "source": [
    "#vypisanie metrik\n",
    "y_pred = clf_default_notover.predict(X_test)\n",
    "confusion_matrix(y_test, y_pred)"
   ],
   "metadata": {
    "collapsed": false,
    "pycharm": {
     "name": "#%%\n"
    }
   }
  },
  {
   "cell_type": "code",
   "execution_count": null,
   "outputs": [],
   "source": [
    "print(classification_report(y_test, y_pred))"
   ],
   "metadata": {
    "collapsed": false,
    "pycharm": {
     "name": "#%%\n"
    }
   }
  },
  {
   "cell_type": "code",
   "execution_count": null,
   "outputs": [],
   "source": [
    "roc_auc_score(y_test, clf_default_notover.predict_proba(X_test)[:, 1])"
   ],
   "metadata": {
    "collapsed": false,
    "pycharm": {
     "name": "#%%\n"
    }
   }
  },
  {
   "cell_type": "code",
   "execution_count": null,
   "outputs": [],
   "source": [
    "#############################################\n",
    "#Neladeny model s pouzitim SMOTE nadvzorkovania\n",
    "#############################################"
   ],
   "metadata": {
    "collapsed": false,
    "pycharm": {
     "name": "#%%\n"
    }
   }
  },
  {
   "cell_type": "code",
   "execution_count": null,
   "outputs": [],
   "source": [
    "data_en_train_oversampled = pd.read_csv(\"datasets/data_ready_en_train_oversampled.csv\")\n",
    "X = data_en_train_oversampled.drop('passed', axis=1)\n",
    "y = data_en_train_oversampled['passed']\n",
    "X"
   ],
   "metadata": {
    "collapsed": false,
    "pycharm": {
     "name": "#%%\n"
    }
   }
  },
  {
   "cell_type": "code",
   "execution_count": null,
   "outputs": [],
   "source": [
    "clf_default = RandomForestClassifier(n_estimators=64)"
   ],
   "metadata": {
    "collapsed": false,
    "pycharm": {
     "name": "#%%\n"
    }
   }
  },
  {
   "cell_type": "code",
   "execution_count": null,
   "outputs": [],
   "source": [
    "clf_default.fit(X, y)"
   ],
   "metadata": {
    "collapsed": false,
    "pycharm": {
     "name": "#%%\n"
    }
   }
  },
  {
   "cell_type": "code",
   "execution_count": null,
   "outputs": [],
   "source": [
    "#vypisanie metrik\n",
    "y_pred = clf_default.predict(X_test)\n",
    "confusion_matrix(y_test, y_pred)"
   ],
   "metadata": {
    "collapsed": false,
    "pycharm": {
     "name": "#%%\n"
    }
   }
  },
  {
   "cell_type": "code",
   "execution_count": null,
   "outputs": [],
   "source": [
    "print(classification_report(y_test, y_pred))"
   ],
   "metadata": {
    "collapsed": false,
    "pycharm": {
     "name": "#%%\n"
    }
   }
  },
  {
   "cell_type": "code",
   "execution_count": null,
   "outputs": [],
   "source": [
    "roc_auc_score(y_test, clf_default.predict_proba(X_test)[:, 1])"
   ],
   "metadata": {
    "collapsed": false,
    "pycharm": {
     "name": "#%%\n"
    }
   }
  },
  {
   "cell_type": "code",
   "execution_count": null,
   "outputs": [],
   "source": [
    "#############################################\n",
    "#Neladeny model s pouzitim Nahodneho podvzorkovania\n",
    "#############################################"
   ],
   "metadata": {
    "collapsed": false,
    "pycharm": {
     "name": "#%%\n"
    }
   }
  },
  {
   "cell_type": "code",
   "execution_count": null,
   "outputs": [],
   "source": [
    "data_en_train_undersampled = pd.read_csv(\"datasets/data_ready_en_train_undersampled.csv\")\n",
    "data_en_train_undersampled"
   ],
   "metadata": {
    "collapsed": false,
    "pycharm": {
     "name": "#%%\n"
    }
   }
  },
  {
   "cell_type": "code",
   "execution_count": null,
   "outputs": [],
   "source": [
    "X_under = data_en_train_undersampled.drop('passed', axis=1)\n",
    "y_under = data_en_train_undersampled['passed']\n",
    "X_under"
   ],
   "metadata": {
    "collapsed": false,
    "pycharm": {
     "name": "#%%\n"
    }
   }
  },
  {
   "cell_type": "code",
   "execution_count": null,
   "outputs": [],
   "source": [
    "print(pd.value_counts(y_under))"
   ],
   "metadata": {
    "collapsed": false,
    "pycharm": {
     "name": "#%%\n"
    }
   }
  },
  {
   "cell_type": "code",
   "execution_count": null,
   "outputs": [],
   "source": [
    "clf_default_under = RandomForestClassifier(n_estimators=64)\n",
    "clf_default_under.fit(X_under, y_under)"
   ],
   "metadata": {
    "collapsed": false,
    "pycharm": {
     "name": "#%%\n"
    }
   }
  },
  {
   "cell_type": "code",
   "execution_count": null,
   "outputs": [],
   "source": [
    "#vypisanie metrik\n",
    "\n",
    "y_pred = clf_default_under.predict(X_test)\n",
    "confusion_matrix(y_test, y_pred)"
   ],
   "metadata": {
    "collapsed": false,
    "pycharm": {
     "name": "#%%\n"
    }
   }
  },
  {
   "cell_type": "code",
   "execution_count": null,
   "outputs": [],
   "source": [
    "print(classification_report(y_test, y_pred))"
   ],
   "metadata": {
    "collapsed": false,
    "pycharm": {
     "name": "#%%\n"
    }
   }
  },
  {
   "cell_type": "code",
   "execution_count": null,
   "outputs": [],
   "source": [
    "roc_auc_score(y_test, clf_default_under.predict_proba(X_test)[:, 1])"
   ],
   "metadata": {
    "collapsed": false,
    "pycharm": {
     "name": "#%%\n"
    }
   }
  },
  {
   "cell_type": "code",
   "execution_count": null,
   "outputs": [],
   "source": [
    "#ladenie hyperparametrov pomocou Nahodneho vyhladavania\n",
    "\n",
    "from sklearn.model_selection import RandomizedSearchCV\n",
    "\n",
    "param_grid = {\n",
    "    'n_estimators': [10, 20, 30, 40, 50, 60],\n",
    "    'max_depth': [10, 20, 30, 40, 50, 60],\n",
    "    'max_features': ['sqrt'],\n",
    "    'min_samples_leaf': [30, 40, 50, 60],\n",
    "    'min_samples_split': [30, 40, 50, 60]\n",
    "}\n",
    "rf = RandomForestClassifier()\n",
    "random_search = RandomizedSearchCV(\n",
    "    estimator=rf,\n",
    "    param_distributions=param_grid,\n",
    "    n_iter=50,  # Number of parameter settings that are sampled\n",
    "    cv=3,  # Cross-validation folds\n",
    "    scoring='neg_mean_squared_error',  # Scoring metric\n",
    "    random_state=42\n",
    ")\n",
    "\n",
    "random_search.fit(X_under, y_under)\n",
    "\n",
    "best_params = random_search.best_params_\n",
    "print(\"Best Parameters:\", best_params)"
   ],
   "metadata": {
    "collapsed": false,
    "pycharm": {
     "name": "#%%\n"
    }
   }
  },
  {
   "cell_type": "code",
   "execution_count": null,
   "outputs": [],
   "source": [
    "#trenovanie ladeneho modelu s pouzitim Nahodneho podvzorkovania\n",
    "clf_tuned_under = RandomForestClassifier(n_estimators=20, max_depth=20, min_samples_split=60, min_samples_leaf=30,\n",
    "                                         max_features=\"sqrt\")"
   ],
   "metadata": {
    "collapsed": false,
    "pycharm": {
     "name": "#%%\n"
    }
   }
  },
  {
   "cell_type": "code",
   "execution_count": null,
   "outputs": [],
   "source": [
    "clf_tuned_under.fit(X_under, y_under)"
   ],
   "metadata": {
    "collapsed": false,
    "pycharm": {
     "name": "#%%\n"
    }
   }
  },
  {
   "cell_type": "code",
   "execution_count": null,
   "outputs": [],
   "source": [
    "#vypisanie metrik\n",
    "\n",
    "y_pred = clf_tuned_under.predict(X_test)\n",
    "confusion_matrix(y_test, y_pred)"
   ],
   "metadata": {
    "collapsed": false,
    "pycharm": {
     "name": "#%%\n"
    }
   }
  },
  {
   "cell_type": "code",
   "execution_count": null,
   "outputs": [],
   "source": [
    "print(classification_report(y_test, y_pred))"
   ],
   "metadata": {
    "collapsed": false,
    "pycharm": {
     "name": "#%%\n"
    }
   }
  },
  {
   "cell_type": "code",
   "execution_count": null,
   "outputs": [],
   "source": [
    "roc_auc_score(y_test, clf_tuned_under.predict_proba(X_test)[:, 1])"
   ],
   "metadata": {
    "collapsed": false,
    "pycharm": {
     "name": "#%%\n"
    }
   }
  },
  {
   "cell_type": "code",
   "execution_count": null,
   "outputs": [],
   "source": [
    "#vypisanie dolezitosti atributov pre spravnu klasifikaciu\n",
    "coef_df = pd.DataFrame(\n",
    "    {'Feature Name': clf_tuned_under.feature_names_in_, 'Coefficient': clf_tuned_under.feature_importances_})\n",
    "\n",
    "# Print the DataFrame\n",
    "print(coef_df.sort_values(by=\"Coefficient\", ascending=False))"
   ],
   "metadata": {
    "collapsed": false,
    "pycharm": {
     "name": "#%%\n"
    }
   }
  },
  {
   "cell_type": "code",
   "execution_count": null,
   "outputs": [],
   "source": [
    "#Modelovanie modelu Logistickej regresie"
   ],
   "metadata": {
    "collapsed": false,
    "pycharm": {
     "name": "#%%\n"
    }
   }
  },
  {
   "cell_type": "code",
   "execution_count": null,
   "outputs": [],
   "source": [
    "#normalizacia trenovacich dat\n",
    "from sklearn.preprocessing import MinMaxScaler\n",
    "\n",
    "scaler = MinMaxScaler(copy=True)"
   ],
   "metadata": {
    "collapsed": false,
    "pycharm": {
     "name": "#%%\n"
    }
   }
  },
  {
   "cell_type": "code",
   "execution_count": null,
   "outputs": [],
   "source": [
    "data_en_train_undersampled_normalized = scaler.fit_transform(data_en_train_undersampled)\n",
    "data_en_train_undersampled_normalized"
   ],
   "metadata": {
    "collapsed": false,
    "pycharm": {
     "name": "#%%\n"
    }
   }
  },
  {
   "cell_type": "code",
   "execution_count": null,
   "outputs": [],
   "source": [
    "data_en_train_undersampled_normalized = pd.DataFrame(data_en_train_undersampled_normalized,\n",
    "                                                     columns=data_en_train_undersampled.columns)\n",
    "data_en_train_undersampled_normalized"
   ],
   "metadata": {
    "collapsed": false,
    "pycharm": {
     "name": "#%%\n"
    }
   }
  },
  {
   "cell_type": "code",
   "execution_count": null,
   "outputs": [],
   "source": [
    "#zapisanie normalizovanych dat do samostatneho csv suboru\n",
    "data_en_train_undersampled_normalized.to_csv(\"datasets/data_ready_en_normalized_undersampled_train.csv\", index=False)"
   ],
   "metadata": {
    "collapsed": false,
    "pycharm": {
     "name": "#%%\n"
    }
   }
  },
  {
   "cell_type": "code",
   "execution_count": null,
   "outputs": [],
   "source": [
    "#normalizacia testovacich dat\n",
    "data_en_test_normalized = scaler.fit_transform(data_en_test)\n",
    "data_en_test_normalized\n",
    "data_en_test_normalized = pd.DataFrame(data_en_test_normalized,\n",
    "                                       columns=data_en_test.columns)\n",
    "data_en_test_normalized\n",
    "#zapisanie normalizovanych testovacich dat do samostatneho csv suboru\n",
    "data_en_test_normalized.to_csv(\"datasets/data_en_ready_normalized_test.csv\", index=False)"
   ],
   "metadata": {
    "collapsed": false,
    "pycharm": {
     "name": "#%%\n"
    }
   }
  },
  {
   "cell_type": "code",
   "execution_count": null,
   "outputs": [],
   "source": [
    "X_train = data_en_train_undersampled_normalized.drop(['passed'], axis=1)\n",
    "y_train = data_en_train_undersampled_normalized['passed']\n",
    "X_train"
   ],
   "metadata": {
    "collapsed": false,
    "pycharm": {
     "name": "#%%\n"
    }
   }
  },
  {
   "cell_type": "code",
   "execution_count": null,
   "outputs": [],
   "source": [
    "from sklearn.linear_model import LogisticRegression\n",
    "from sklearn.model_selection import GridSearchCV"
   ],
   "metadata": {
    "collapsed": false,
    "pycharm": {
     "name": "#%%\n"
    }
   }
  },
  {
   "cell_type": "code",
   "execution_count": null,
   "outputs": [],
   "source": [
    "#Ladenie hyperparametrov Logistickej regresie pomocou vyhladavania v mriezke\n",
    "\n",
    "param_grid = {'C': [0.001, 0.01, 0.1, 1, 10, 100]}\n",
    "\n",
    "# create an instance of the logistic regression model with L1 regularization\n",
    "model = LogisticRegression(solver='liblinear', penalty='l1',verbose=3)\n",
    "\n",
    "# create a grid search object with 5-fold cross-validation\n",
    "grid_search = GridSearchCV(model, param_grid, cv=3)"
   ],
   "metadata": {
    "collapsed": false,
    "pycharm": {
     "name": "#%%\n"
    }
   }
  },
  {
   "cell_type": "code",
   "execution_count": null,
   "outputs": [],
   "source": [
    "grid_search.fit(X_train, y_train)"
   ],
   "metadata": {
    "collapsed": false,
    "pycharm": {
     "name": "#%%\n"
    }
   }
  },
  {
   "cell_type": "code",
   "execution_count": null,
   "outputs": [],
   "source": [
    "#vypisanie najlepsej hodnoty parametru C"
   ],
   "metadata": {
    "collapsed": false,
    "pycharm": {
     "name": "#%%\n"
    }
   }
  },
  {
   "cell_type": "code",
   "execution_count": null,
   "outputs": [],
   "source": [
    "best_C = grid_search.best_params_['C']"
   ],
   "metadata": {
    "collapsed": false,
    "pycharm": {
     "name": "#%%\n"
    }
   }
  },
  {
   "cell_type": "code",
   "execution_count": null,
   "outputs": [],
   "source": [
    "print(best_C)"
   ],
   "metadata": {
    "collapsed": false,
    "pycharm": {
     "name": "#%%\n"
    }
   }
  },
  {
   "cell_type": "code",
   "execution_count": null,
   "outputs": [],
   "source": [
    "#trenovanie ladeneho modelu Logistickej regresie\n",
    "best_model = LogisticRegression(C=100, solver='liblinear', penalty='l1',verbose=3)"
   ],
   "metadata": {
    "collapsed": false,
    "pycharm": {
     "name": "#%%\n"
    }
   }
  },
  {
   "cell_type": "code",
   "execution_count": null,
   "outputs": [],
   "source": [
    "best_model.fit(X_train, y_train)"
   ],
   "metadata": {
    "collapsed": false,
    "pycharm": {
     "name": "#%%\n"
    }
   }
  },
  {
   "cell_type": "code",
   "execution_count": null,
   "outputs": [],
   "source": [
    "#vypisanie metrik\n",
    "y_pred = best_model.predict(X_test)\n",
    "confusion_matrix(y_test, y_pred)"
   ],
   "metadata": {
    "collapsed": false,
    "pycharm": {
     "name": "#%%\n"
    }
   }
  },
  {
   "cell_type": "code",
   "execution_count": null,
   "outputs": [],
   "source": [
    "print(classification_report(y_test, y_pred))"
   ],
   "metadata": {
    "collapsed": false,
    "pycharm": {
     "name": "#%%\n"
    }
   }
  },
  {
   "cell_type": "code",
   "execution_count": null,
   "outputs": [],
   "source": [
    "roc_auc_score(y_test, best_model.predict_proba(X_test)[:, 1])"
   ],
   "metadata": {
    "collapsed": false,
    "pycharm": {
     "name": "#%%\n"
    }
   }
  },
  {
   "cell_type": "code",
   "execution_count": null,
   "outputs": [],
   "source": [
    "#vypisanie dolezitosti atributov v pripade Logistickej regresie\n",
    "coef_df = pd.DataFrame({'Feature Name': X_train.columns, 'Coefficient': best_model.coef_[0]})\n",
    "\n",
    "# Print the DataFrame\n",
    "print(coef_df.sort_values(by=\"Coefficient\"))"
   ],
   "metadata": {
    "collapsed": false,
    "pycharm": {
     "name": "#%%\n"
    }
   }
  }
 ],
 "metadata": {
  "kernelspec": {
   "display_name": "Python 3",
   "language": "python",
   "name": "python3"
  },
  "language_info": {
   "codemirror_mode": {
    "name": "ipython",
    "version": 2
   },
   "file_extension": ".py",
   "mimetype": "text/x-python",
   "name": "python",
   "nbconvert_exporter": "python",
   "pygments_lexer": "ipython2",
   "version": "2.7.6"
  }
 },
 "nbformat": 4,
 "nbformat_minor": 0
}